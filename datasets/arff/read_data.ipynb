{
 "cells": [
  {
   "cell_type": "markdown",
   "source": [
    "## 读取数据"
   ],
   "metadata": {
    "collapsed": false
   },
   "id": "983427b599c1a35e"
  },
  {
   "cell_type": "code",
   "outputs": [],
   "source": [
    "from scipy.io import arff\n",
    "import pandas as pd\n",
    "from sklearn.preprocessing import LabelEncoder\n",
    "from scipy.io import savemat\n",
    "\n",
    "dataname = 'Ovarian'\n",
    "# 读取 ARFF 文件\n",
    "data, meta = arff.loadarff(dataname + '.arff')\n",
    "\n",
    "# 将数据转换为 DataFrame\n",
    "df = pd.DataFrame(data)\n",
    "\n",
    "# 将字节类型的标签列转换为字符串\n",
    "for col in df.select_dtypes([object]):\n",
    "    df[col] = df[col].str.decode('utf-8')\n",
    "\n",
    "# 分离特征和标签\n",
    "X = df.iloc[:, :-1]  # 所有特征列\n",
    "y = df.iloc[:, -1]  # 标签列\n",
    "\n",
    "X_save = X.values\n",
    "y_save = y.values\n",
    "encoder = LabelEncoder()\n",
    "y_encoded = encoder.fit_transform(y)\n",
    "\n"
   ],
   "metadata": {
    "collapsed": false,
    "ExecuteTime": {
     "end_time": "2025-03-21T11:30:04.257735Z",
     "start_time": "2025-03-21T11:30:02.922317Z"
    }
   },
   "id": "4c15c044ee5c76a3",
   "execution_count": 6
  },
  {
   "cell_type": "markdown",
   "source": [
    "## 保存数据"
   ],
   "metadata": {
    "collapsed": false
   },
   "id": "254deba5dd2d2675"
  },
  {
   "cell_type": "code",
   "outputs": [
    {
     "name": "stdout",
     "output_type": "stream",
     "text": [
      "数据保存成功！\n"
     ]
    }
   ],
   "source": [
    "\n",
    "data_dict = {'X': X_save, 'Y': y_encoded.reshape(-1, 1)}  # 以字典形式存储\n",
    "savemat(dataname + '.mat', data_dict)\n",
    "# 输出保存成功\n",
    "print(\"数据保存成功！\")"
   ],
   "metadata": {
    "collapsed": false,
    "ExecuteTime": {
     "end_time": "2025-03-21T11:30:45.779816Z",
     "start_time": "2025-03-21T11:30:45.676562Z"
    }
   },
   "id": "fac0fce67560f66e",
   "execution_count": 7
  }
 ],
 "metadata": {
  "kernelspec": {
   "display_name": "Python 3",
   "language": "python",
   "name": "python3"
  },
  "language_info": {
   "codemirror_mode": {
    "name": "ipython",
    "version": 2
   },
   "file_extension": ".py",
   "mimetype": "text/x-python",
   "name": "python",
   "nbconvert_exporter": "python",
   "pygments_lexer": "ipython2",
   "version": "2.7.6"
  }
 },
 "nbformat": 4,
 "nbformat_minor": 5
}
