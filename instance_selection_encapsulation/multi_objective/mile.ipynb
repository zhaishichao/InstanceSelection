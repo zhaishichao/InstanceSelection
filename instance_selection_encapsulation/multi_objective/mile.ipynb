{
 "cells": [
  {
   "cell_type": "markdown",
   "source": [
    "# E-SEIC\n",
    "Selection of evolutionary instances with constraints for unbalanced datasets"
   ],
   "metadata": {
    "collapsed": false
   },
   "id": "32b99fefdecdec4c"
  },
  {
   "cell_type": "markdown",
   "source": [
    "## 数据集的预处理 "
   ],
   "metadata": {
    "collapsed": false
   },
   "id": "a36fc2d4930535ec"
  },
  {
   "cell_type": "code",
   "source": [
    "from utils.dataset_utils import get_distribution, k_fold_cross_validation, remove_class\n",
    "from instance_selection.parameter.parameter import *  # 导入参数的设定\n",
    "from instance_selection_encapsulation.operator.init_toolbox import init_toolbox_eseic\n",
    "from instance_selection_encapsulation.operator.metrics import calculate_gmean_mauc, calculate_average_accuracy, \\\n",
    "    calculate_average_gmean_mauc, calculate_accuracy\n",
    "from instance_selection_encapsulation.operator.genetic_operator import selTournamentNDCD\n",
    "from instance_selection_encapsulation.operator.ensemble import vote_result_ensembles, ensemble_individuals\n",
    "from sklearn.preprocessing import StandardScaler\n",
    "from sklearn.model_selection import train_test_split\n",
    "from sklearn.neural_network import MLPClassifier\n",
    "from sklearn.base import clone\n",
    "import scipy.io as sio  # 从.mat文件中读取数据集\n",
    "import random\n",
    "from deap import tools\n",
    "import warnings\n",
    "import numpy as np\n",
    "\n",
    "warnings.filterwarnings(\"ignore\")  # 忽略警告\n",
    "\n",
    "DATASET = Pen_Digits  # 数据集名称（包含对应的参数配置）\n",
    "datasetname = DATASET.DATASETNAME.split('.')[0]\n",
    "mat_data = sio.loadmat(IMBALANCED_DATASET_PATH + DATASET.DATASETNAME)  # 加载、划分数据集\n",
    "x = mat_data['X']\n",
    "y = mat_data['Y'][:, 0]  # mat_data['Y']得到的形状为[n,1]，通过[:,0]，得到形状[n,]\n",
    "x_train, x_test, y_train, y_test = train_test_split(x, y, test_size=0.3, stratify=y, random_state=RANDOM_SEED)  # 划分数据集\n",
    "scaler = StandardScaler()  # 数据的标准化\n",
    "x_train = scaler.fit_transform(x_train)\n",
    "x_test = scaler.transform(x_test)\n",
    "unique_elements_all, classes_all, counts_all = get_distribution(y)  # 获取原始数据集分布\n",
    "unique_elements_train, classes_train, counts_train = get_distribution(y_train)  # 获取训练集分布\n",
    "unique_elements_test, classes_test, counts_test = get_distribution(y_test)  # 获取测试集分布\n",
    "print(datasetname + f' distribution: {counts_all}')\n",
    "print(f'trainset distribution: {counts_train}')\n",
    "print(f'testset distribution: {counts_test}')\n",
    "\n",
    "model = MLPClassifier(hidden_layer_sizes=(DATASET.HIDDEN_SIZE,), max_iter=DATASET.MAX_ITER,\n",
    "                      random_state=RANDOM_SEED, learning_rate_init=DATASET.LEARNING_RATE)\n",
    "\n",
    "weights_train = (1 / counts_train.astype(float)) / np.sum(1 / counts_train.astype(float))  # 计算每个类的权重，用于计算每个类别的权重\n",
    "weights_test = (1 / counts_test.astype(float)) / np.sum(1 / counts_test.astype(float))  # 计算每个类的权重，用于计算每个类别的权重\n",
    "\n",
    "num_instances = int(np.ceil(counts_train.min() * 0.9))  # 取最小数量的类的0.9（向下取整）\n",
    "print(\"最小数量:\", num_instances)\n",
    "\n",
    "y_train_pred_proba = k_fold_cross_validation(model=clone(model), X=x_train, y=y_train, n_splits=N_SPLITS, method='soft',\n",
    "                                             random_state=RANDOM_SEED)  # 交叉验证得到软标签\n",
    "# 将概率转化为预测结果\n",
    "y_train_pred = np.argmax(y_train_pred_proba, axis=1)\n",
    "\n",
    "Acc1, Acc2, Acc3 = calculate_accuracy(y_train_pred, y_train, weights_train)\n",
    "constraints = [Acc1, Acc2, Acc3]\n",
    "\n",
    "model.fit(x_train, y_train)\n",
    "y_test_pred_proba = model.predict_proba(x_test)\n",
    "print(calculate_gmean_mauc(y_test_pred_proba, y_test))"
   ],
   "metadata": {
    "collapsed": false,
    "ExecuteTime": {
     "end_time": "2025-04-08T04:17:40.141185Z",
     "start_time": "2025-04-08T04:17:36.263655Z"
    }
   },
   "id": "abb6e4d62d32f110",
   "outputs": [
    {
     "name": "stdout",
     "output_type": "stream",
     "text": [
      "Pen_Digits distribution: [9937 1055]\n",
      "trainset distribution: [6956  738]\n",
      "testset distribution: [2981  317]\n",
      "最小数量: 665\n",
      "(0.99125, 0.999845, array([0.99832271, 0.98422713]))\n"
     ]
    }
   ],
   "execution_count": 2
  },
  {
   "cell_type": "markdown",
   "source": [
    "## E-SEIC"
   ],
   "metadata": {
    "collapsed": false
   },
   "id": "3bb11017ee1ef86"
  },
  {
   "cell_type": "code",
   "source": [
    "toolbox = init_toolbox_eseic(model, x_train, y_train, weights_train, constraints, n_splits=N_SPLITS,\n",
    "                             random_seed=RANDOM_SEED)  # 初始化toolbox\n",
    "\n",
    "\n",
    "def main(x_train, y_train, model, balanced_method='balanced'):\n",
    "    stats = tools.Statistics(lambda ind: ind.fitness.values)\n",
    "    logbook = tools.Logbook()\n",
    "    logbook.header = \"gen\", \"feasible\", \"ensembles_size\", \"avg_gmean\", \"avg_mauc\", \"avg_acc2\"\n",
    "    ####################################种群的初始化###########################\n",
    "    pop = toolbox.population(n=POPSIZE)  # 个体编码默认全为0\n",
    "    pop = toolbox.init_population(pop, balanced_method=balanced_method)  # 初始化种群中的个体\n",
    "    toolbox.evaluate(pop)  # 计算个体的适应度\n",
    "    ####################################种群的迭代#################################################\n",
    "    for gen in range(1, NGEN + 1):\n",
    "        offspring = selTournamentNDCD(pop, POPSIZE, tournsize=3)  # 锦标赛选择（1、先根据非支配排序的等级2、再根据拥挤距离）\n",
    "        offspring = [toolbox.clone(ind) for ind in offspring]\n",
    "        for i in range(0, len(offspring) - 1, 2):\n",
    "            if random.random() <= CXPB:\n",
    "                offspring[i], offspring[i + 1] = toolbox.mate(offspring[i], offspring[i + 1])  # 单点交叉\n",
    "            offspring[i] = toolbox.mutate(offspring[i], MR)[0]  # 二进制反转突变\n",
    "            offspring[i + 1] = toolbox.mutate(offspring[i + 1], MR)[0]  # 二进制反转突变\n",
    "            del offspring[i].fitness.values, offspring[i + 1].fitness.values\n",
    "        #############################################################合并、去重#####################################################\n",
    "        offspring = toolbox.individuals_constraints(offspring)  # 限制每个类至少有一个实例被选择\n",
    "        pop = pop + offspring  # 种群的合并\n",
    "        pop, _ = toolbox.remove_duplicates(pop)  # 去重\n",
    "        while len(pop) < POPSIZE:  # 保证种群大小为POPSIZE\n",
    "            add_individual = []\n",
    "            num_add = POPSIZE - len(pop)\n",
    "            for i in range(0, num_add):\n",
    "                index = random.randint(0, len(offspring) - 1)  # 在0-len(offspring)范围内随机产生一个索引\n",
    "                offspring[index] = toolbox.mutate(offspring[index], MR)[0]  # 选择index对应的个体进行突变\n",
    "                del offspring[index].fitness.values\n",
    "                add_individual.append(offspring[index])\n",
    "            add_individual = toolbox.individuals_constraints(add_individual)  # 限制每个类至少有一个实例被选择    \n",
    "            pop = pop + add_individual  # 种群的合并\n",
    "            pop, _ = toolbox.remove_duplicates(pop)  # 去重\n",
    "        pop = toolbox.individuals_constraints(pop) # 限制每个类至少有5个实例被选择\n",
    "        toolbox.evaluate(pop)  # 计算新种群适应度\n",
    "        ###############################################得到pareto_fronts############################################\n",
    "        feasible_pop, infeasible_pop = toolbox.get_feasible_infeasible(pop)  # 得到可行解与不可行解\n",
    "        if len(feasible_pop) >= POPSIZE:\n",
    "            pop, pareto_fronts = toolbox.select(feasible_pop, POPSIZE)\n",
    "            # ensembles = pareto_fronts[0]  # pareto_first_front\n",
    "            ensembles = pop  # pop均为可行解，则集成pop中所有个体\n",
    "        elif len(feasible_pop) > 0:\n",
    "            pop = feasible_pop + infeasible_pop[:POPSIZE - len(feasible_pop)]  # 在不可行解中选取违约程度小的个体，保证pop数量为POPSIZE\n",
    "            # ensembles = tools.sortNondominated(feasible_pop, len(feasible_pop))[0]  # pareto_first_front\n",
    "            ensembles = feasible_pop  # 只集成可行解\n",
    "        else:\n",
    "            pop = feasible_pop + infeasible_pop[:POPSIZE - len(feasible_pop)]  # 加入不可行解中违约程度小的个体，保证pop数量为POPSIZE\n",
    "            ensembles = [infeasible_pop[0]]  # 没有可行解，集成不可行解中第一个个体\n",
    "        avg_gmean, avg_mauc = calculate_average_gmean_mauc(ensembles)  # 计算gmean、mauc的平均值\n",
    "        _, avg_acc2, _ = calculate_average_accuracy(ensembles)  # 计算acc1、acc2、acc3的平均值\n",
    "\n",
    "        record = stats.compile(pop)\n",
    "        logbook.record(gen=gen, feasible=len(feasible_pop), ensembles_size=len(ensembles), avg_gmean=avg_gmean,\n",
    "                       avg_mauc=avg_mauc, avg_acc2=avg_acc2, **record)\n",
    "        print(logbook.stream)\n",
    "    ensemble_classifiers = ensemble_individuals(ensembles, clone(model), x_train, y_train)\n",
    "    return ensemble_classifiers"
   ],
   "metadata": {
    "collapsed": false,
    "ExecuteTime": {
     "end_time": "2025-04-08T04:17:40.165394Z",
     "start_time": "2025-04-08T04:17:40.141185Z"
    }
   },
   "id": "27f76c56ed1e7071",
   "outputs": [],
   "execution_count": 3
  },
  {
   "cell_type": "code",
   "source": [
    "if __name__ == \"__main__\":\n",
    "    ensemble_classifiers = main(x_train, y_train, model=model, balanced_method='balanced')\n",
    "    print(\"##############################集成分类器的预测结果：################################\")\n",
    "    vote_pred_prob = vote_result_ensembles(ensemble_classifiers, x_test)  # 默认预测结果是软标签\n",
    "    vote_pred = np.argmax(vote_pred_prob, axis=1)\n",
    "    gmean, mauc, recall_per_class = calculate_gmean_mauc(vote_pred_prob, y_test)\n",
    "    acc1, acc2, acc3 = calculate_accuracy(vote_pred, y_test, weights_test)\n",
    "    print(f\"集成分类结果：Recall{recall_per_class}，Gmean：{gmean}，mAUC：{mauc}，Acc1：{acc1}，Acc2：{acc2}，Acc3：{acc3}\")\n",
    "    print(\"训练已结束！\")"
   ],
   "metadata": {
    "collapsed": false,
    "ExecuteTime": {
     "end_time": "2025-04-08T04:25:52.298582Z",
     "start_time": "2025-04-08T04:17:40.165394Z"
    }
   },
   "id": "e8deac9b0ca9c40b",
   "outputs": [
    {
     "name": "stdout",
     "output_type": "stream",
     "text": [
      "gen\tfeasible\tensembles_size\tavg_gmean\tavg_mauc\tavg_acc2\n",
      "1  \t3       \t3             \t0.99615  \t0.999879\t0.996152\n",
      "2  \t6       \t6             \t0.995784 \t0.999908\t0.995787\n",
      "3  \t10      \t10            \t0.996026 \t0.99986 \t0.996029\n",
      "4  \t16      \t16            \t0.995867 \t0.999882\t0.99587 \n",
      "5  \t20      \t20            \t0.996098 \t0.999891\t0.996101\n",
      "6  \t22      \t22            \t0.996047 \t0.999891\t0.996049\n",
      "7  \t32      \t30            \t0.996268 \t0.99989 \t0.99627 \n",
      "8  \t36      \t30            \t0.99651  \t0.999885\t0.996512\n",
      "9  \t35      \t30            \t0.996795 \t0.999901\t0.996796\n",
      "10 \t36      \t30            \t0.996911 \t0.999899\t0.996912\n",
      "11 \t38      \t30            \t0.997103 \t0.999892\t0.997104\n",
      "12 \t32      \t30            \t0.997132 \t0.999891\t0.997133\n",
      "13 \t40      \t30            \t0.997217 \t0.999886\t0.997219\n",
      "14 \t42      \t30            \t0.997304 \t0.999905\t0.997306\n",
      "15 \t42      \t30            \t0.997426 \t0.99992 \t0.997428\n",
      "16 \t38      \t30            \t0.997418 \t0.999927\t0.99742 \n",
      "17 \t37      \t30            \t0.997504 \t0.999929\t0.997506\n",
      "18 \t42      \t30            \t0.997589 \t0.999932\t0.99759 \n",
      "19 \t40      \t30            \t0.997672 \t0.999942\t0.997673\n",
      "20 \t37      \t30            \t0.997678 \t0.999943\t0.997679\n",
      "21 \t37      \t30            \t0.997716 \t0.999945\t0.997718\n",
      "22 \t47      \t30            \t0.997961 \t0.999944\t0.997962\n",
      "23 \t43      \t30            \t0.998071 \t0.999948\t0.998072\n",
      "24 \t40      \t30            \t0.998092 \t0.999955\t0.998093\n",
      "25 \t43      \t30            \t0.998133 \t0.999967\t0.998134\n",
      "26 \t36      \t30            \t0.998201 \t0.999972\t0.998202\n",
      "27 \t44      \t30            \t0.998274 \t0.999974\t0.998275\n",
      "28 \t47      \t30            \t0.998365 \t0.999977\t0.998366\n",
      "29 \t45      \t30            \t0.998381 \t0.999972\t0.998382\n",
      "30 \t44      \t30            \t0.998405 \t0.99997 \t0.998406\n",
      "##############################集成分类器的预测结果：################################\n",
      "集成分类结果：Recall[0.99932908 0.9873817 ]，Gmean：0.993337，mAUC：0.99999，Acc1：0.998181，Acc2：0.993355，Acc3：0.494265\n",
      "训练已结束！\n"
     ]
    }
   ],
   "execution_count": 4
  },
  {
   "metadata": {
    "ExecuteTime": {
     "end_time": "2025-04-08T04:25:52.393671Z",
     "start_time": "2025-04-08T04:25:52.298582Z"
    }
   },
   "cell_type": "code",
   "source": [
    "for i,classifier in enumerate(ensemble_classifiers):\n",
    "    ind_pred = classifier.predict(x_test)  # 计算accuracy、PPV\n",
    "    ind_proba = classifier.predict_proba(x_test)\n",
    "    gmean, mauc, recall_per_class = calculate_gmean_mauc(ind_proba, y_test)\n",
    "    # 输出gmean mauc recall_per_class\n",
    "    print(f\"第{i+1}个分类器分类结果：Recall{recall_per_class}，Gmean：{gmean}，mAUC：{mauc}，Acc1：{acc1}，Acc2：{acc2}，Acc3：{acc3}\")"
   ],
   "id": "1b389fb9c48fb003",
   "outputs": [
    {
     "name": "stdout",
     "output_type": "stream",
     "text": [
      "第1个分类器分类结果：Recall[0.99932908 0.99053628]，Gmean：0.994923，mAUC：0.999981，Acc1：0.998181，Acc2：0.993355，Acc3：0.494265\n",
      "第2个分类器分类结果：Recall[0.99932908 0.9873817 ]，Gmean：0.993337，mAUC：0.999953，Acc1：0.998181，Acc2：0.993355，Acc3：0.494265\n",
      "第3个分类器分类结果：Recall[0.99932908 0.9873817 ]，Gmean：0.993337，mAUC：0.999959，Acc1：0.998181，Acc2：0.993355，Acc3：0.494265\n",
      "第4个分类器分类结果：Recall[0.99899363 0.99369085]，Gmean：0.996339，mAUC：0.999957，Acc1：0.998181，Acc2：0.993355，Acc3：0.494265\n",
      "第5个分类器分类结果：Recall[0.99932908 0.9873817 ]，Gmean：0.993337，mAUC：0.99998，Acc1：0.998181，Acc2：0.993355，Acc3：0.494265\n",
      "第6个分类器分类结果：Recall[0.99966454 0.98107256]，Gmean：0.990325，mAUC：0.999965，Acc1：0.998181，Acc2：0.993355，Acc3：0.494265\n",
      "第7个分类器分类结果：Recall[0.99899363 0.9873817 ]，Gmean：0.993171，mAUC：0.999898，Acc1：0.998181，Acc2：0.993355，Acc3：0.494265\n",
      "第8个分类器分类结果：Recall[0.99932908 0.98422713]，Gmean：0.991749，mAUC：0.999949，Acc1：0.998181，Acc2：0.993355，Acc3：0.494265\n",
      "第9个分类器分类结果：Recall[0.99865817 0.93059937]，Gmean：0.964028，mAUC：0.998602，Acc1：0.998181，Acc2：0.993355，Acc3：0.494265\n",
      "第10个分类器分类结果：Recall[0.99966454 0.98422713]，Gmean：0.991916，mAUC：0.999907，Acc1：0.998181，Acc2：0.993355，Acc3：0.494265\n",
      "第11个分类器分类结果：Recall[0.99899363 0.9873817 ]，Gmean：0.993171，mAUC：0.99998，Acc1：0.998181，Acc2：0.993355，Acc3：0.494265\n",
      "第12个分类器分类结果：Recall[0.99932908 0.98107256]，Gmean：0.990159，mAUC：0.999917，Acc1：0.998181，Acc2：0.993355，Acc3：0.494265\n",
      "第13个分类器分类结果：Recall[0.99966454 0.98422713]，Gmean：0.991916，mAUC：0.999958，Acc1：0.998181，Acc2：0.993355，Acc3：0.494265\n",
      "第14个分类器分类结果：Recall[0.99966454 0.98422713]，Gmean：0.991916，mAUC：0.999976，Acc1：0.998181，Acc2：0.993355，Acc3：0.494265\n",
      "第15个分类器分类结果：Recall[0.99932908 0.9873817 ]，Gmean：0.993337，mAUC：0.99995，Acc1：0.998181，Acc2：0.993355，Acc3：0.494265\n",
      "第16个分类器分类结果：Recall[0.99932908 0.98422713]，Gmean：0.991749，mAUC：0.999959，Acc1：0.998181，Acc2：0.993355，Acc3：0.494265\n",
      "第17个分类器分类结果：Recall[0.99932908 0.99053628]，Gmean：0.994923，mAUC：0.999976，Acc1：0.998181，Acc2：0.993355，Acc3：0.494265\n",
      "第18个分类器分类结果：Recall[0.99932908 0.97791798]，Gmean：0.988566，mAUC：0.99995，Acc1：0.998181，Acc2：0.993355，Acc3：0.494265\n",
      "第19个分类器分类结果：Recall[0.99932908 0.98422713]，Gmean：0.991749，mAUC：0.999979，Acc1：0.998181，Acc2：0.993355，Acc3：0.494265\n",
      "第20个分类器分类结果：Recall[0.99966454 0.98107256]，Gmean：0.990325，mAUC：0.999963，Acc1：0.998181，Acc2：0.993355，Acc3：0.494265\n",
      "第21个分类器分类结果：Recall[0.99932908 0.99053628]，Gmean：0.994923，mAUC：0.999974，Acc1：0.998181，Acc2：0.993355，Acc3：0.494265\n",
      "第22个分类器分类结果：Recall[0.99966454 0.98422713]，Gmean：0.991916，mAUC：0.999966，Acc1：0.998181，Acc2：0.993355，Acc3：0.494265\n",
      "第23个分类器分类结果：Recall[0.99865817 0.99053628]，Gmean：0.994589，mAUC：0.999963，Acc1：0.998181，Acc2：0.993355，Acc3：0.494265\n",
      "第24个分类器分类结果：Recall[0.99899363 0.99053628]，Gmean：0.994756，mAUC：0.999965，Acc1：0.998181，Acc2：0.993355，Acc3：0.494265\n",
      "第25个分类器分类结果：Recall[0.99899363 0.99369085]，Gmean：0.996339，mAUC：0.999968，Acc1：0.998181，Acc2：0.993355，Acc3：0.494265\n",
      "第26个分类器分类结果：Recall[0.99899363 0.99053628]，Gmean：0.994756，mAUC：0.999961，Acc1：0.998181，Acc2：0.993355，Acc3：0.494265\n",
      "第27个分类器分类结果：Recall[0.99966454 0.99053628]，Gmean：0.99509，mAUC：0.999969，Acc1：0.998181，Acc2：0.993355，Acc3：0.494265\n",
      "第28个分类器分类结果：Recall[0.99932908 0.99053628]，Gmean：0.994923，mAUC：0.999948，Acc1：0.998181，Acc2：0.993355，Acc3：0.494265\n",
      "第29个分类器分类结果：Recall[0.99966454 0.97791798]，Gmean：0.988731，mAUC：0.999924，Acc1：0.998181，Acc2：0.993355，Acc3：0.494265\n",
      "第30个分类器分类结果：Recall[0.99966454 0.9873817 ]，Gmean：0.993504，mAUC：0.999977，Acc1：0.998181，Acc2：0.993355，Acc3：0.494265\n"
     ]
    }
   ],
   "execution_count": 5
  }
 ],
 "metadata": {
  "kernelspec": {
   "display_name": "Python 3",
   "language": "python",
   "name": "python3"
  },
  "language_info": {
   "codemirror_mode": {
    "name": "ipython",
    "version": 2
   },
   "file_extension": ".py",
   "mimetype": "text/x-python",
   "name": "python",
   "nbconvert_exporter": "python",
   "pygments_lexer": "ipython2",
   "version": "2.7.6"
  }
 },
 "nbformat": 4,
 "nbformat_minor": 5
}
