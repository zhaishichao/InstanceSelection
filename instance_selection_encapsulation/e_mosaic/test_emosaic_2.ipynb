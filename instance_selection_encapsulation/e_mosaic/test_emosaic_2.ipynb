{
 "cells": [
  {
   "cell_type": "markdown",
   "source": [
    "### 测试"
   ],
   "metadata": {
    "collapsed": false
   },
   "id": "18f9113d638eec2d"
  },
  {
   "cell_type": "code",
   "source": [
    "from utils.dataset_utils import get_distribution\n",
    "from instance_selection.parameter.parameter import *  # 导入参数的设定\n",
    "from instance_selection_encapsulation.operator.init_toolbox import init_toolbox_emosaic\n",
    "from instance_selection_encapsulation.operator.metrics import calculate_gmean_mauc, calculate_average_gmean_mauc\n",
    "from instance_selection_encapsulation.operator.genetic_operator import selTournamentNDCD\n",
    "from instance_selection_encapsulation.operator.ensemble import vote_result_ensembles, ensemble_individuals\n",
    "from sklearn.preprocessing import StandardScaler\n",
    "from sklearn.model_selection import train_test_split\n",
    "from sklearn.neural_network import MLPClassifier\n",
    "import scipy.io as sio  # 从.mat文件中读取数据集\n",
    "import random\n",
    "import numpy as np\n",
    "from deap import tools\n",
    "import warnings\n",
    "\n",
    "warnings.filterwarnings(\"ignore\")  # 忽略警告\n",
    "\n",
    "DATASET = Contraceptive  # 数据集名称（包含对应的参数配置）\n",
    "\n",
    "datasetname = DATASET.DATASETNAME.split('.')[0]\n",
    "\n",
    "# 加载、划分数据集\n",
    "mat_data = sio.loadmat(IMBALANCED_DATASET_PATH + DATASET.DATASETNAME)\n",
    "x = mat_data['X']\n",
    "y = mat_data['Y'][:, 0]  # mat_data['Y']得到的形状为[n,1]，通过[:,0]，得到形状[n,]\n",
    "x_train, x_test, y_train, y_test = train_test_split(x, y, test_size=0.3, stratify=y, random_state=RANDOM_SEED)  # 划分数据集\n",
    "scaler = StandardScaler()  # 数据的标准化\n",
    "x_train = scaler.fit_transform(x_train)\n",
    "x_test = scaler.transform(x_test)\n",
    "\n",
    "unique_elements_all, classes_all, counts_all = get_distribution(y)  # 获取原始数据集分布\n",
    "unique_elements_train, classes_train, counts_train = get_distribution(y_train)  # 获取训练集分布\n",
    "unique_elements_test, classes_test, counts_test = get_distribution(y_test)  # 获取测试集分布\n",
    "print(datasetname + f' instances: {x.shape[0]}')\n",
    "print(datasetname + f' distribution: {counts_all}')\n",
    "print(f'trainset distribution: {counts_train}')\n",
    "print(f'testset distribution: {counts_test}')\n",
    "model = MLPClassifier(hidden_layer_sizes=(DATASET.HIDDEN_SIZE,), max_iter=DATASET.MAX_ITER,\n",
    "                      random_state=RANDOM_SEED, learning_rate_init=DATASET.LEARNING_RATE)\n",
    "\n",
    "model.fit(x_train, y_train)\n",
    "\n",
    "# 测试模型\n",
    "y_test_probs = model.predict_proba(x_test)\n",
    "y_test_preds = model.predict(x_test)\n",
    "\n",
    "print(calculate_gmean_mauc(y_test_probs, y_test))"
   ],
   "metadata": {
    "collapsed": false,
    "ExecuteTime": {
     "end_time": "2025-04-06T14:59:43.547898Z",
     "start_time": "2025-04-06T14:59:35.021715Z"
    }
   },
   "id": "8bc748f7d445015d",
   "outputs": [
    {
     "name": "stdout",
     "output_type": "stream",
     "text": [
      "Contraceptive instances: 1473\n",
      "Contraceptive distribution: [629 333 511]\n",
      "trainset distribution: [440 233 358]\n",
      "testset distribution: [189 100 153]\n",
      "(0.481712, 0.719694, array([0.58730159, 0.28      , 0.67973856]))\n"
     ]
    }
   ],
   "execution_count": 1
  },
  {
   "cell_type": "markdown",
   "source": [
    "## E-MOSAIC"
   ],
   "metadata": {
    "collapsed": false
   },
   "id": "4d0853f79163e74f"
  },
  {
   "cell_type": "code",
   "source": [
    "toolbox = init_toolbox_emosaic(model, x_train, y_train, n_splits=N_SPLITS-2, random_seed=RANDOM_SEED)  # 初始化toolbox\n",
    "\n",
    "\n",
    "def main(x_train, y_train, model, balanced_method='balanced'):\n",
    "    not_replaced = 0\n",
    "    stats = tools.Statistics(lambda ind: ind.fitness.values)\n",
    "    logbook = tools.Logbook()\n",
    "    logbook.header = \"gen\", \"fronts\", \"ensembles_size\", \"avg_gmean\", \"avg_mauc\"\n",
    "    ####################################种群的初始化###########################\n",
    "    pop = toolbox.population(n=POPSIZE)  # 个体编码默认全为0\n",
    "    pop = toolbox.init_population(pop, balanced_method=balanced_method)  # 初始化种群中的个体\n",
    "    toolbox.evaluate(pop)  # 计算个体的适应度\n",
    "    # save_ensembles = ensemble_individuals(pop, model, x_train, y_train)  # 保存最优的集成分类器\n",
    "    # save_gmean, save_mauc = calculate_average_gmean_mauc(pop)\n",
    "    ####################################种群的迭代#################################################\n",
    "    for gen in range(1, NGEN + 1):\n",
    "        offspring = selTournamentNDCD(pop, POPSIZE, tournsize=3)  # 锦标赛选择（1、先根据非支配排序的等级2、再根据拥挤距离）\n",
    "        offspring = [toolbox.clone(ind) for ind in offspring]\n",
    "        for i in range(0, len(offspring) - 1, 2):\n",
    "            if random.random() <= CXPB:\n",
    "                offspring[i], offspring[i + 1] = toolbox.mate(offspring[i], offspring[i + 1])  # 单点交叉\n",
    "            offspring[i] = toolbox.mutate(offspring[i], MR)[0]  # 二进制反转突变\n",
    "            offspring[i + 1] = toolbox.mutate(offspring[i + 1], MR)[0]  # 二进制反转突变\n",
    "            del offspring[i].fitness.values, offspring[i + 1].fitness.values\n",
    "        #############################################################合并、去重#####################################################\n",
    "        offspring = toolbox.individuals_constraints(offspring)  # 限制每个类至少有一个实例被选择\n",
    "        pop = pop + offspring  # 种群的合并\n",
    "        pop, _ = toolbox.remove_duplicates(pop)  # 去重\n",
    "        while len(pop) < POPSIZE:  # 保证种群大小为POPSIZE\n",
    "            add_individual = []\n",
    "            num_add = POPSIZE - len(pop)\n",
    "            for i in range(0, num_add):\n",
    "                index = random.randint(0, len(offspring) - 1)  # 在0-len(offspring)范围内随机产生一个索引\n",
    "                offspring[index] = toolbox.mutate(offspring[index], MR)[0]  # 选择index对应的个体进行突变\n",
    "                del offspring[index].fitness.values\n",
    "                add_individual.append(offspring[index])\n",
    "            add_individual = toolbox.individuals_constraints(add_individual)  # 限制每个类至少有一个实例被选择\n",
    "            pop = pop + add_individual  # 种群的合并\n",
    "            pop, _ = toolbox.remove_duplicates(pop)  # 去重\n",
    "        pop = toolbox.individuals_constraints(pop) # 限制每个类至少有5个实例被选择\n",
    "        toolbox.evaluate(pop)  # 计算新种群适应度\n",
    "        ###############################################得到pareto_fronts############################################\n",
    "        pop, pareto_fronts = toolbox.select(pop, POPSIZE)\n",
    "        ensembles = pop  # 集成的个体\n",
    "        curr_gmean, curr_mauc = calculate_average_gmean_mauc(ensembles)  # 计算的是所有个体的metrics平均值\n",
    "        # if curr_gmean >= save_gmean and curr_mauc >= save_mauc:\n",
    "        #     save_ensembles = ensembles\n",
    "        #     not_replaced = 0\n",
    "        # else:\n",
    "        #     not_replaced += 1\n",
    "        # if not_replaced >= STOP_SIGN:\n",
    "        #     break  # 迭代结束\n",
    "        record = stats.compile(pop)\n",
    "        logbook.record(gen=gen, fronts=len(pareto_fronts), ensembles_size=len(ensembles),\n",
    "                       avg_gmean=curr_gmean, avg_mauc=curr_mauc, **record)\n",
    "        # print(logbook.stream)\n",
    "    ensemble_classifiers = ensemble_individuals(ensembles, model, x_train, y_train)\n",
    "    return ensemble_classifiers\n",
    "\n",
    "\n",
    "if __name__ == \"__main__\":\n",
    "    print(\"*****************算法开始执行：******************\")\n",
    "    num_run = 40  # 运行次数\n",
    "    ensembles_results = [[] for _ in range(num_run)]\n",
    "    for i in range(num_run):\n",
    "        ensemble_classifiers = main(x_train, y_train, model=model)\n",
    "        vote_pred_prob = vote_result_ensembles(ensemble_classifiers, x_test)  # 默认预测结果是软标签\n",
    "        gmean, mauc, recall_per_class = calculate_gmean_mauc(vote_pred_prob, y_test)\n",
    "        ensembles_results[i] = [gmean, mauc]\n",
    "        print(f\"第{i + 1}次执行：Gmean：{gmean}，mAUC：{mauc}\")\n",
    "    print(\"*****************算法执行结束！******************\")\n",
    "    ensembles_result_mean = np.mean(ensembles_results, axis=0)\n",
    "    print(f'集成分类结果（平均值）：{ensembles_result_mean}')"
   ],
   "metadata": {
    "collapsed": false,
    "ExecuteTime": {
     "end_time": "2025-04-06T17:10:21.738700Z",
     "start_time": "2025-04-06T14:59:43.547898Z"
    }
   },
   "id": "a0643f2768950227",
   "outputs": [
    {
     "name": "stdout",
     "output_type": "stream",
     "text": [
      "*****************算法开始执行：******************\n",
      "第1次执行：Gmean：0.533733，mAUC：0.724574\n",
      "第2次执行：Gmean：0.526737，mAUC：0.74026\n",
      "第3次执行：Gmean：0.529721，mAUC：0.734263\n",
      "第4次执行：Gmean：0.531076，mAUC：0.731285\n",
      "第5次执行：Gmean：0.5193，mAUC：0.738265\n",
      "第6次执行：Gmean：0.523465，mAUC：0.726868\n",
      "第7次执行：Gmean：0.551127，mAUC：0.738615\n",
      "第8次执行：Gmean：0.550177，mAUC：0.744703\n",
      "第9次执行：Gmean：0.528545，mAUC：0.729755\n",
      "第10次执行：Gmean：0.530272，mAUC：0.742484\n",
      "第11次执行：Gmean：0.553504，mAUC：0.736217\n",
      "第12次执行：Gmean：0.548868，mAUC：0.733753\n",
      "第13次执行：Gmean：0.555745，mAUC：0.734877\n",
      "第14次执行：Gmean：0.541037，mAUC：0.743843\n",
      "第15次执行：Gmean：0.527236，mAUC：0.734648\n",
      "第16次执行：Gmean：0.532309，mAUC：0.73456\n",
      "第17次执行：Gmean：0.544085，mAUC：0.743375\n",
      "第18次执行：Gmean：0.550321，mAUC：0.743332\n",
      "第19次执行：Gmean：0.545425，mAUC：0.732855\n",
      "第20次执行：Gmean：0.527461，mAUC：0.738634\n",
      "第21次执行：Gmean：0.533252，mAUC：0.73153\n",
      "第22次执行：Gmean：0.551245，mAUC：0.736156\n",
      "第23次执行：Gmean：0.534899，mAUC：0.728517\n",
      "第24次执行：Gmean：0.539842，mAUC：0.731259\n",
      "第25次执行：Gmean：0.548546，mAUC：0.736808\n",
      "第26次执行：Gmean：0.544714，mAUC：0.734953\n",
      "第27次执行：Gmean：0.546392，mAUC：0.742905\n",
      "第28次执行：Gmean：0.540568，mAUC：0.741844\n",
      "第29次执行：Gmean：0.536875，mAUC：0.741506\n",
      "第30次执行：Gmean：0.553314，mAUC：0.740144\n",
      "第31次执行：Gmean：0.546474，mAUC：0.744167\n",
      "第32次执行：Gmean：0.573576，mAUC：0.745227\n",
      "第33次执行：Gmean：0.530104，mAUC：0.739031\n",
      "第34次执行：Gmean：0.552143，mAUC：0.745969\n",
      "第35次执行：Gmean：0.549977，mAUC：0.731026\n",
      "第36次执行：Gmean：0.536407，mAUC：0.737105\n",
      "第37次执行：Gmean：0.546409，mAUC：0.746426\n",
      "第38次执行：Gmean：0.533864，mAUC：0.741323\n",
      "第39次执行：Gmean：0.556085，mAUC：0.734937\n",
      "第40次执行：Gmean：0.555456，mAUC：0.740873\n",
      "*****************算法执行结束！******************\n",
      "集成分类结果（平均值）：[0.54150715 0.7374718 ]\n"
     ]
    }
   ],
   "execution_count": 2
  },
  {
   "cell_type": "markdown",
   "source": [
    "## 写入到Excel "
   ],
   "metadata": {
    "collapsed": false
   },
   "id": "bb01ab584c260a1"
  },
  {
   "cell_type": "code",
   "source": [
    "from utils.excel_utils import save_to_excel_2\n",
    "\n",
    "columns = ['Gmean', 'MAUC']\n",
    "save_path = 'C:/Users/Lenovo/Desktop/Stratified/7-3/E-MOSAIC2/' + datasetname + '/'\n",
    "filename = datasetname\n",
    "save_to_excel_2(save_path, filename, columns, ensembles_results)"
   ],
   "metadata": {
    "collapsed": false,
    "ExecuteTime": {
     "end_time": "2025-04-06T17:10:21.912147Z",
     "start_time": "2025-04-06T17:10:21.738700Z"
    }
   },
   "id": "167c370cd5f3ef38",
   "outputs": [
    {
     "name": "stdout",
     "output_type": "stream",
     "text": [
      "Excel 文件已保存至: C:/Users/Lenovo/Desktop/Stratified/7-3/E-MOSAIC2/Contraceptive/Contraceptive.xlsx\n"
     ]
    },
    {
     "data": {
      "text/plain": [
       "'C:/Users/Lenovo/Desktop/Stratified/7-3/E-MOSAIC2/Contraceptive/Contraceptive.xlsx'"
      ]
     },
     "execution_count": 3,
     "metadata": {},
     "output_type": "execute_result"
    }
   ],
   "execution_count": 3
  }
 ],
 "metadata": {
  "kernelspec": {
   "display_name": "Python 3",
   "language": "python",
   "name": "python3"
  },
  "language_info": {
   "codemirror_mode": {
    "name": "ipython",
    "version": 2
   },
   "file_extension": ".py",
   "mimetype": "text/x-python",
   "name": "python",
   "nbconvert_exporter": "python",
   "pygments_lexer": "ipython2",
   "version": "2.7.6"
  }
 },
 "nbformat": 4,
 "nbformat_minor": 5
}
