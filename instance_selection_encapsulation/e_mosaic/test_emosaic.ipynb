{
 "cells": [
  {
   "cell_type": "markdown",
   "source": [
    "### 测试"
   ],
   "metadata": {
    "collapsed": false
   },
   "id": "18f9113d638eec2d"
  },
  {
   "cell_type": "code",
   "source": [
    "from utils.dataset_utils import get_distribution\n",
    "from instance_selection.parameter.parameter import *  # 导入参数的设定\n",
    "from instance_selection_encapsulation.operator.init_toolbox import init_toolbox_emosaic\n",
    "from instance_selection_encapsulation.operator.metrics import calculate_gmean_mauc, calculate_average_gmean_mauc\n",
    "from instance_selection_encapsulation.operator.genetic_operator import selTournamentNDCD\n",
    "from instance_selection_encapsulation.operator.ensemble import vote_result_ensembles, ensemble_individuals\n",
    "from sklearn.preprocessing import StandardScaler\n",
    "from sklearn.model_selection import train_test_split\n",
    "from sklearn.neural_network import MLPClassifier\n",
    "import scipy.io as sio  # 从.mat文件中读取数据集\n",
    "import random\n",
    "import numpy as np\n",
    "from deap import tools\n",
    "import warnings\n",
    "\n",
    "warnings.filterwarnings(\"ignore\")  # 忽略警告\n",
    "\n",
    "DATASET = Contraceptive  # 数据集名称（包含对应的参数配置）\n",
    "\n",
    "datasetname = DATASET.DATASETNAME.split('.')[0]\n",
    "\n",
    "# 加载、划分数据集\n",
    "mat_data = sio.loadmat(IMBALANCED_DATASET_PATH + DATASET.DATASETNAME)\n",
    "x = mat_data['X']\n",
    "y = mat_data['Y'][:, 0]  # mat_data['Y']得到的形状为[n,1]，通过[:,0]，得到形状[n,]\n",
    "x_train, x_test, y_train, y_test = train_test_split(x, y, test_size=0.3, stratify=y, random_state=RANDOM_SEED)  # 划分数据集\n",
    "scaler = StandardScaler()  # 数据的标准化\n",
    "x_train = scaler.fit_transform(x_train)\n",
    "x_test = scaler.transform(x_test)\n",
    "\n",
    "unique_elements_all, classes_all, counts_all = get_distribution(y)  # 获取原始数据集分布\n",
    "unique_elements_train, classes_train, counts_train = get_distribution(y_train)  # 获取训练集分布\n",
    "unique_elements_test, classes_test, counts_test = get_distribution(y_test)  # 获取测试集分布\n",
    "print(datasetname + f' instances: {x.shape[0]}')\n",
    "print(datasetname + f' distribution: {counts_all}')\n",
    "print(f'trainset distribution: {counts_train}')\n",
    "print(f'testset distribution: {counts_test}')\n",
    "model = MLPClassifier(hidden_layer_sizes=(DATASET.HIDDEN_SIZE,), max_iter=DATASET.MAX_ITER,\n",
    "                      random_state=RANDOM_SEED, learning_rate_init=DATASET.LEARNING_RATE)\n",
    "\n",
    "model.fit(x_train, y_train)\n",
    "\n",
    "# 测试模型\n",
    "y_test_probs = model.predict_proba(x_test)\n",
    "y_test_preds = model.predict(x_test)\n",
    "\n",
    "print(calculate_gmean_mauc(y_test_probs, y_test))"
   ],
   "metadata": {
    "collapsed": false,
    "ExecuteTime": {
     "end_time": "2025-04-06T14:59:17.244238Z",
     "start_time": "2025-04-06T14:59:17.125641Z"
    }
   },
   "id": "8bc748f7d445015d",
   "outputs": [
    {
     "name": "stdout",
     "output_type": "stream",
     "text": [
      "Contraceptive instances: 1473\n",
      "Contraceptive distribution: [629 333 511]\n",
      "trainset distribution: [440 233 358]\n",
      "testset distribution: [189 100 153]\n",
      "(0.481712, 0.719694, array([0.58730159, 0.28      , 0.67973856]))\n"
     ]
    }
   ],
   "execution_count": 4
  },
  {
   "cell_type": "markdown",
   "source": [
    "## E-MOSAIC"
   ],
   "metadata": {
    "collapsed": false
   },
   "id": "4d0853f79163e74f"
  },
  {
   "cell_type": "code",
   "source": [
    "toolbox = init_toolbox_emosaic(model, x_train, y_train, n_splits=N_SPLITS-2, random_seed=RANDOM_SEED)  # 初始化toolbox\n",
    "\n",
    "\n",
    "def main(x_train, y_train, model, balanced_method='balanced'):\n",
    "    not_replaced = 0\n",
    "    stats = tools.Statistics(lambda ind: ind.fitness.values)\n",
    "    logbook = tools.Logbook()\n",
    "    logbook.header = \"gen\", \"fronts\", \"ensembles_size\", \"avg_gmean\", \"avg_mauc\"\n",
    "    ####################################种群的初始化###########################\n",
    "    pop = toolbox.population(n=POPSIZE)  # 个体编码默认全为0\n",
    "    pop = toolbox.init_population(pop, balanced_method=balanced_method)  # 初始化种群中的个体\n",
    "    toolbox.evaluate(pop)  # 计算个体的适应度\n",
    "    save_ensembles = ensemble_individuals(pop, model, x_train, y_train)  # 保存最优的集成分类器\n",
    "    save_gmean, save_mauc = calculate_average_gmean_mauc(pop)\n",
    "    ####################################种群的迭代#################################################\n",
    "    for gen in range(1, NGEN + 1):\n",
    "        offspring = selTournamentNDCD(pop, POPSIZE, tournsize=3)  # 锦标赛选择（1、先根据非支配排序的等级2、再根据拥挤距离）\n",
    "        offspring = [toolbox.clone(ind) for ind in offspring]\n",
    "        for i in range(0, len(offspring) - 1, 2):\n",
    "            if random.random() <= CXPB:\n",
    "                offspring[i], offspring[i + 1] = toolbox.mate(offspring[i], offspring[i + 1])  # 单点交叉\n",
    "            offspring[i] = toolbox.mutate(offspring[i], MR)[0]  # 二进制反转突变\n",
    "            offspring[i + 1] = toolbox.mutate(offspring[i + 1], MR)[0]  # 二进制反转突变\n",
    "            del offspring[i].fitness.values, offspring[i + 1].fitness.values\n",
    "        #############################################################合并、去重#####################################################\n",
    "        offspring = toolbox.individuals_constraints(offspring)  # 限制每个类至少有一个实例被选择\n",
    "        pop = pop + offspring  # 种群的合并\n",
    "        pop, _ = toolbox.remove_duplicates(pop)  # 去重\n",
    "        while len(pop) < POPSIZE:  # 保证种群大小为POPSIZE\n",
    "            add_individual = []\n",
    "            num_add = POPSIZE - len(pop)\n",
    "            for i in range(0, num_add):\n",
    "                index = random.randint(0, len(offspring) - 1)  # 在0-len(offspring)范围内随机产生一个索引\n",
    "                offspring[index] = toolbox.mutate(offspring[index], MR)[0]  # 选择index对应的个体进行突变\n",
    "                del offspring[index].fitness.values\n",
    "                add_individual.append(offspring[index])\n",
    "            add_individual = toolbox.individuals_constraints(add_individual)  # 限制每个类至少有一个实例被选择\n",
    "            pop = pop + add_individual  # 种群的合并\n",
    "            pop, _ = toolbox.remove_duplicates(pop)  # 去重\n",
    "        pop = toolbox.individuals_constraints(pop) # 限制每个类至少有5个实例被选择\n",
    "        toolbox.evaluate(pop)  # 计算新种群适应度\n",
    "        ###############################################得到pareto_fronts############################################\n",
    "        pop, pareto_fronts = toolbox.select(pop, POPSIZE)\n",
    "        ensembles = pop  # 集成的个体\n",
    "        curr_gmean, curr_mauc = calculate_average_gmean_mauc(ensembles)  # 计算的是所有个体的metrics平均值\n",
    "        if curr_gmean >= save_gmean and curr_mauc >= save_mauc:\n",
    "            save_ensembles = ensembles\n",
    "            not_replaced = 0\n",
    "        else:\n",
    "            not_replaced += 1\n",
    "        if not_replaced >= STOP_SIGN:\n",
    "            break  # 迭代结束\n",
    "        record = stats.compile(pop)\n",
    "        logbook.record(gen=gen, fronts=len(pareto_fronts), ensembles_size=len(ensembles),\n",
    "                       avg_gmean=curr_gmean, avg_mauc=curr_mauc, **record)\n",
    "        # print(logbook.stream)\n",
    "    ensemble_classifiers = ensemble_individuals(save_ensembles, model, x_train, y_train)\n",
    "    return ensemble_classifiers\n",
    "\n",
    "\n",
    "if __name__ == \"__main__\":\n",
    "    print(\"*****************算法开始执行：******************\")\n",
    "    num_run = 40  # 运行次数\n",
    "    ensembles_results = [[] for _ in range(num_run)]\n",
    "    for i in range(num_run):\n",
    "        ensemble_classifiers = main(x_train, y_train, model=model)\n",
    "        vote_pred_prob = vote_result_ensembles(ensemble_classifiers, x_test)  # 默认预测结果是软标签\n",
    "        gmean, mauc, recall_per_class = calculate_gmean_mauc(vote_pred_prob, y_test)\n",
    "        ensembles_results[i] = [gmean, mauc]\n",
    "        print(f\"第{i + 1}次执行：Gmean：{gmean}，mAUC：{mauc}\")\n",
    "    print(\"*****************算法执行结束！******************\")\n",
    "    ensembles_result_mean = np.mean(ensembles_results, axis=0)\n",
    "    print(f'集成分类结果（平均值）：{ensembles_result_mean}')"
   ],
   "metadata": {
    "collapsed": false,
    "ExecuteTime": {
     "end_time": "2025-04-06T17:12:34.928198Z",
     "start_time": "2025-04-06T14:59:17.244238Z"
    }
   },
   "id": "a0643f2768950227",
   "outputs": [
    {
     "name": "stdout",
     "output_type": "stream",
     "text": [
      "*****************算法开始执行：******************\n",
      "第1次执行：Gmean：0.536333，mAUC：0.740346\n",
      "第2次执行：Gmean：0.548047，mAUC：0.742039\n",
      "第3次执行：Gmean：0.525883，mAUC：0.737494\n",
      "第4次执行：Gmean：0.529833，mAUC：0.739639\n",
      "第5次执行：Gmean：0.532404，mAUC：0.730253\n",
      "第6次执行：Gmean：0.542044，mAUC：0.733996\n",
      "第7次执行：Gmean：0.53592，mAUC：0.736641\n",
      "第8次执行：Gmean：0.536423，mAUC：0.732749\n",
      "第9次执行：Gmean：0.525652，mAUC：0.7377\n",
      "第10次执行：Gmean：0.522436，mAUC：0.734084\n",
      "第11次执行：Gmean：0.540024，mAUC：0.731242\n",
      "第12次执行：Gmean：0.557137，mAUC：0.744898\n",
      "第13次执行：Gmean：0.546968，mAUC：0.736355\n",
      "第14次执行：Gmean：0.516544，mAUC：0.734833\n",
      "第15次执行：Gmean：0.523139，mAUC：0.73387\n",
      "第16次执行：Gmean：0.558589，mAUC：0.740808\n",
      "第17次执行：Gmean：0.545678，mAUC：0.743164\n",
      "第18次执行：Gmean：0.517383，mAUC：0.731874\n",
      "第19次执行：Gmean：0.556066，mAUC：0.737227\n",
      "第20次执行：Gmean：0.546516，mAUC：0.73639\n",
      "第21次执行：Gmean：0.536383，mAUC：0.744795\n",
      "第22次执行：Gmean：0.544257，mAUC：0.738489\n",
      "第23次执行：Gmean：0.562393，mAUC：0.737694\n",
      "第24次执行：Gmean：0.55431，mAUC：0.740992\n",
      "第25次执行：Gmean：0.54603，mAUC：0.744285\n",
      "第26次执行：Gmean：0.555475，mAUC：0.738128\n",
      "第27次执行：Gmean：0.505679，mAUC：0.733278\n",
      "第28次执行：Gmean：0.53038，mAUC：0.734966\n",
      "第29次执行：Gmean：0.527449，mAUC：0.738431\n",
      "第30次执行：Gmean：0.543548，mAUC：0.743973\n",
      "第31次执行：Gmean：0.540182，mAUC：0.747509\n",
      "第32次执行：Gmean：0.53985，mAUC：0.726955\n",
      "第33次执行：Gmean：0.531222，mAUC：0.7421\n",
      "第34次执行：Gmean：0.541974，mAUC：0.734977\n",
      "第35次执行：Gmean：0.531428，mAUC：0.739786\n",
      "第36次执行：Gmean：0.511191，mAUC：0.725054\n",
      "第37次执行：Gmean：0.544845，mAUC：0.742316\n",
      "第38次执行：Gmean：0.540489，mAUC：0.751228\n",
      "第39次执行：Gmean：0.531339，mAUC：0.733801\n",
      "第40次执行：Gmean：0.539026，mAUC：0.735312\n",
      "*****************算法执行结束！******************\n",
      "集成分类结果（平均值）：[0.53751172 0.73774177]\n"
     ]
    }
   ],
   "execution_count": 5
  },
  {
   "cell_type": "markdown",
   "source": [
    "## 写入到Excel "
   ],
   "metadata": {
    "collapsed": false
   },
   "id": "bb01ab584c260a1"
  },
  {
   "cell_type": "code",
   "source": [
    "from utils.excel_utils import save_to_excel_2\n",
    "\n",
    "columns = ['Gmean', 'MAUC']\n",
    "save_path = 'C:/Users/Lenovo/Desktop/Stratified/7-3/E-MOSAIC/' + datasetname + '/'\n",
    "filename = datasetname\n",
    "save_to_excel_2(save_path, filename, columns, ensembles_results)"
   ],
   "metadata": {
    "collapsed": false,
    "ExecuteTime": {
     "end_time": "2025-04-06T17:12:34.959660Z",
     "start_time": "2025-04-06T17:12:34.928198Z"
    }
   },
   "id": "167c370cd5f3ef38",
   "outputs": [
    {
     "name": "stdout",
     "output_type": "stream",
     "text": [
      "Excel 文件已保存至: C:/Users/Lenovo/Desktop/Stratified/7-3/E-MOSAIC/Contraceptive/Contraceptive.xlsx\n"
     ]
    },
    {
     "data": {
      "text/plain": [
       "'C:/Users/Lenovo/Desktop/Stratified/7-3/E-MOSAIC/Contraceptive/Contraceptive.xlsx'"
      ]
     },
     "execution_count": 6,
     "metadata": {},
     "output_type": "execute_result"
    }
   ],
   "execution_count": 6
  }
 ],
 "metadata": {
  "kernelspec": {
   "display_name": "Python 3",
   "language": "python",
   "name": "python3"
  },
  "language_info": {
   "codemirror_mode": {
    "name": "ipython",
    "version": 2
   },
   "file_extension": ".py",
   "mimetype": "text/x-python",
   "name": "python",
   "nbconvert_exporter": "python",
   "pygments_lexer": "ipython2",
   "version": "2.7.6"
  }
 },
 "nbformat": 4,
 "nbformat_minor": 5
}
