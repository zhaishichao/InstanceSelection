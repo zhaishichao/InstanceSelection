{
 "cells": [
  {
   "cell_type": "code",
   "execution_count": null,
   "id": "initial_id",
   "metadata": {
    "collapsed": true
   },
   "outputs": [],
   "source": [
    "import pandas as pd\n",
    "\n",
    "# 读取 CSV 文件\n",
    "dataname = \"penbased\"\n",
    "file_path = dataname + \".csv\"  # 替换为你的 CSV 文件路径\n",
    "df = pd.read_csv(file_path)\n",
    "\n",
    "# 分离特征和标签\n",
    "feture = df.iloc[:, :-1]  # 取除最后一列之外的所有列作为特征\n",
    "label = df.iloc[:, -1]  # 取最后一列作为标签\n",
    "\n",
    "# 输出数据维度\n",
    "print(\"特征维度:\", feture.shape)\n",
    "print(\"标签维度:\", label.shape)\n",
    "\n"
   ]
  },
  {
   "cell_type": "markdown",
   "source": [
    "# 保存数据"
   ],
   "metadata": {
    "collapsed": false
   },
   "id": "a48b95e4505ddb4d"
  },
  {
   "cell_type": "code",
   "outputs": [],
   "source": [
    "from utils.dataset_utils import remove_class\n",
    "import numpy as np\n",
    "from sklearn.preprocessing import LabelEncoder\n",
    "from scipy.io import savemat\n",
    "\n",
    "X = feture.values\n",
    "Y = label.values\n",
    "label_encoder = LabelEncoder()\n",
    "X_encoded = np.copy(X)\n",
    "y_encoded = label_encoder.fit_transform(Y)\n",
    "\n",
    "# X_encoded, y_encoded = remove_class(X_encoded, y_encoded, 1)\n",
    "# y_encoded = label_encoder.fit_transform(y_encoded)\n",
    "# 保存为 .mat 文件\n",
    "data_dict = {'X': X_encoded, 'Y': y_encoded.reshape(-1, 1)}  # 以字典形式存储\n",
    "savemat(dataname + '.mat', data_dict)\n",
    "# 输出保存成功\n",
    "print(\"数据保存成功！\")"
   ],
   "metadata": {
    "collapsed": false
   },
   "id": "f154c20c49134c17",
   "execution_count": null
  }
 ],
 "metadata": {
  "kernelspec": {
   "display_name": "Python 3",
   "language": "python",
   "name": "python3"
  },
  "language_info": {
   "codemirror_mode": {
    "name": "ipython",
    "version": 2
   },
   "file_extension": ".py",
   "mimetype": "text/x-python",
   "name": "python",
   "nbconvert_exporter": "python",
   "pygments_lexer": "ipython2",
   "version": "2.7.6"
  }
 },
 "nbformat": 4,
 "nbformat_minor": 5
}
