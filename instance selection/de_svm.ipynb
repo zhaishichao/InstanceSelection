{
 "cells": [
  {
   "cell_type": "code",
   "execution_count": 1,
   "id": "initial_id",
   "metadata": {
    "collapsed": true,
    "ExecuteTime": {
     "end_time": "2024-10-21T13:10:45.120542Z",
     "start_time": "2024-10-21T13:10:45.039542Z"
    }
   },
   "outputs": [],
   "source": [
    "import numpy as np\n",
    "from tqdm import tqdm\n",
    "from differential_evolution.DifferentialEvolution import DifferentialEvolution\n",
    "\n",
    "NP = 50  # 个体数目\n",
    "D = 10  # 目标函数中变量的个数\n",
    "G = 8000  # 最大迭代数\n",
    "CR = 0.1  # 交叉算子\n",
    "Threshold = 1e-6  # 阈值\n",
    "F = 0.5  # 变异算子\n",
    "Left = -20  # 左边界\n",
    "Right = 20  # 右边界"
   ]
  },
  {
   "cell_type": "code",
   "outputs": [],
   "source": [
    "# 适应度函数/目标函数\n",
    "def function(x):  # x的维度为10，也即D=10\n",
    "    return sum(x ** 2)\n",
    "\n",
    "\n",
    "# 求适应度\n",
    "def fitness(x):\n",
    "    result = np.empty(x.shape[1])  # 记录种群中个体的适应度\n",
    "    # 计算每个个体的适应度\n",
    "    for i in range(0, x.shape[1]):\n",
    "        result[i] = function(x[:, i])\n",
    "    return result"
   ],
   "metadata": {
    "collapsed": false,
    "ExecuteTime": {
     "end_time": "2024-10-21T13:07:29.449467Z",
     "start_time": "2024-10-21T13:07:29.444271Z"
    }
   },
   "id": "87ec02b587e37a4e",
   "execution_count": 9
  },
  {
   "cell_type": "code",
   "outputs": [
    {
     "name": "stderr",
     "output_type": "stream",
     "text": [
      "DE: 100%|██████████| 8000/8000 [00:09<00:00, 858.03it/s, 当前迭代次数=8000, 最优个体索引=48, 目标函数最小值=3.33e-13]\n"
     ]
    }
   ],
   "source": [
    "\n",
    "\n",
    "x = np.random.rand(D, NP) * (Right - Left) + Left  # 在[Left,Right]之间产生随机数\n",
    "\n",
    "# 记录进化迭代的过程\n",
    "number_generations = G\n",
    "per_generation_optimal_value = np.zeros(G)\n",
    "\n",
    "x_fitness = fitness(x)\n",
    "\n",
    "de=DifferentialEvolution(NP, D, G, CR, Threshold, F, Left, Right)\n",
    "\n",
    "with tqdm(total=G, desc=\"DE\") as pbar:\n",
    "    for i in range(0, G):\n",
    "        #v=variation(x,F) # 变异\n",
    "        v = de.variation_optimize(x)  # 变异的优化\n",
    "        c = de.cross(x, v)  # 交叉\n",
    "\n",
    "        c = de.boundary_process(c)  # 若超出边界则重新生成\n",
    "\n",
    "        c_fitness = fitness(c)  # 对新的试验种群求适应度\n",
    "        for m in range(0, x.shape[1]):\n",
    "            if c_fitness[m] < x_fitness[m]:  # 贪婪地选择当前最优个体\n",
    "                x[:, m] = c[:, m]\n",
    "                x_fitness[m] = c_fitness[m]\n",
    "        index = np.argmin(x_fitness)  # 记录最优个体索引\n",
    "        per_generation_optimal_value[i] = x_fitness[index]  # 记录最优适应度\n",
    "        # 动态更新进度条信息\n",
    "        pbar.set_postfix({\n",
    "            \"当前迭代次数\": i + 1,\n",
    "            \"最优个体索引\": index,\n",
    "            \"目标函数最小值\": x_fitness[index]\n",
    "        })\n",
    "        # 更新进度条\n",
    "        pbar.update(1) "
   ],
   "metadata": {
    "collapsed": false,
    "ExecuteTime": {
     "end_time": "2024-10-21T13:08:49.241684Z",
     "start_time": "2024-10-21T13:08:39.906988Z"
    }
   },
   "id": "1fa46e74a7af403",
   "execution_count": 11
  }
 ],
 "metadata": {
  "kernelspec": {
   "display_name": "Python 3",
   "language": "python",
   "name": "python3"
  },
  "language_info": {
   "codemirror_mode": {
    "name": "ipython",
    "version": 2
   },
   "file_extension": ".py",
   "mimetype": "text/x-python",
   "name": "python",
   "nbconvert_exporter": "python",
   "pygments_lexer": "ipython2",
   "version": "2.7.6"
  }
 },
 "nbformat": 4,
 "nbformat_minor": 5
}
