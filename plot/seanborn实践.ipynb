{
 "cells": [
  {
   "cell_type": "markdown",
   "metadata": {},
   "source": [
    "# 1 箱形图Boxplot\n",
    "Boxplot可能是最常见的图形类型之一。它能够很好表示数据中的分布规律。箱型图方框的末尾显示了上下四分位数。极线显示最高和最低值，不包括异常值。seaborn中用boxplot函数制作箱形图。该章节主要内容有：\n",
    "1. 基础箱形图绘制 Basic boxplot and input format\n",
    "2. 自定义外观 Custom boxplot appearance\n",
    "3. 箱型图的颜色设置 Control colors of boxplot\n",
    "4. 分组箱图 Grouped Boxplot\n",
    "5. 箱图的顺序设置 Control order of boxplot\n",
    "6. 添加散点分布 Add jitter over boxplot\n",
    "7. 显示各类的样本数 Show number of observation on boxplot\n",
    "8. 箱形图隐藏的数据处理 Hidden data under boxplot"
   ]
  },
  {
   "metadata": {},
   "cell_type": "code",
   "outputs": [],
   "execution_count": null,
   "source": [
    "import pandas as pd\n",
    "import seaborn as sns\n",
    "import matplotlib.pyplot as plt\n",
    "import numpy as np\n",
    "# 自定义数据\n",
    "\n",
    "myDF = pd.DataFrame({'A': np.random.randn(1000)+1,\n",
    "                   'B': np.random.randn(1000),\n",
    "                   'C': np.random.randn(1000) - 1,\n",
    "                   'D': np.random.randn(1000)})"
   ]
  },
  {
   "cell_type": "code",
   "metadata": {
    "ExecuteTime": {
     "end_time": "2025-04-15T11:48:11.121315Z",
     "start_time": "2025-04-15T11:48:09.576557Z"
    }
   },
   "source": [
    "#调用seaborn\n",
    "import seaborn as sns\n",
    "#调用seaborn自带数据集\n",
    "df = sns.load_dataset('iris')\n",
    "#显示数据集\n",
    "df.head()"
   ],
   "outputs": [
    {
     "data": {
      "text/plain": [
       "   sepal_length  sepal_width  petal_length  petal_width species\n",
       "0           5.1          3.5           1.4          0.2  setosa\n",
       "1           4.9          3.0           1.4          0.2  setosa\n",
       "2           4.7          3.2           1.3          0.2  setosa\n",
       "3           4.6          3.1           1.5          0.2  setosa\n",
       "4           5.0          3.6           1.4          0.2  setosa"
      ],
      "text/html": [
       "<div>\n",
       "<style scoped>\n",
       "    .dataframe tbody tr th:only-of-type {\n",
       "        vertical-align: middle;\n",
       "    }\n",
       "\n",
       "    .dataframe tbody tr th {\n",
       "        vertical-align: top;\n",
       "    }\n",
       "\n",
       "    .dataframe thead th {\n",
       "        text-align: right;\n",
       "    }\n",
       "</style>\n",
       "<table border=\"1\" class=\"dataframe\">\n",
       "  <thead>\n",
       "    <tr style=\"text-align: right;\">\n",
       "      <th></th>\n",
       "      <th>sepal_length</th>\n",
       "      <th>sepal_width</th>\n",
       "      <th>petal_length</th>\n",
       "      <th>petal_width</th>\n",
       "      <th>species</th>\n",
       "    </tr>\n",
       "  </thead>\n",
       "  <tbody>\n",
       "    <tr>\n",
       "      <th>0</th>\n",
       "      <td>5.1</td>\n",
       "      <td>3.5</td>\n",
       "      <td>1.4</td>\n",
       "      <td>0.2</td>\n",
       "      <td>setosa</td>\n",
       "    </tr>\n",
       "    <tr>\n",
       "      <th>1</th>\n",
       "      <td>4.9</td>\n",
       "      <td>3.0</td>\n",
       "      <td>1.4</td>\n",
       "      <td>0.2</td>\n",
       "      <td>setosa</td>\n",
       "    </tr>\n",
       "    <tr>\n",
       "      <th>2</th>\n",
       "      <td>4.7</td>\n",
       "      <td>3.2</td>\n",
       "      <td>1.3</td>\n",
       "      <td>0.2</td>\n",
       "      <td>setosa</td>\n",
       "    </tr>\n",
       "    <tr>\n",
       "      <th>3</th>\n",
       "      <td>4.6</td>\n",
       "      <td>3.1</td>\n",
       "      <td>1.5</td>\n",
       "      <td>0.2</td>\n",
       "      <td>setosa</td>\n",
       "    </tr>\n",
       "    <tr>\n",
       "      <th>4</th>\n",
       "      <td>5.0</td>\n",
       "      <td>3.6</td>\n",
       "      <td>1.4</td>\n",
       "      <td>0.2</td>\n",
       "      <td>setosa</td>\n",
       "    </tr>\n",
       "  </tbody>\n",
       "</table>\n",
       "</div>"
      ]
     },
     "execution_count": 1,
     "metadata": {},
     "output_type": "execute_result"
    }
   ],
   "execution_count": 1
  },
  {
   "cell_type": "markdown",
   "metadata": {},
   "source": [
    "## 1. 基础箱形图绘制 Basic boxplot and input format\n",
    "+ 一个数值变量 One numerical variable only\n",
    "+ 一个数值变量和多个分组 One numerical variable, and several groups\n",
    "+ 多个数值变量 Several numerical variable\n",
    "+ 水平箱型图 Horizontal boxplot with seaborn"
   ]
  },
  {
   "cell_type": "code",
   "metadata": {},
   "source": [
    "# 一个数值变量 One numerical variable only\n",
    "# 如果您只有一个数字变量，则可以使用此代码获得仅包含一个组的箱线图。\n",
    "# Make boxplot for one group only\n",
    "# 显示花萼长度sepal_length\n",
    "sns.boxplot( y=df[\"sepal_length\"] );"
   ],
   "outputs": [],
   "execution_count": null
  },
  {
   "cell_type": "code",
   "metadata": {},
   "source": [
    "# 一个数值变量和多个分组 One numerical variable, and several groups\n",
    "# 假设我们想要研究数值变量的分布，但是对于每个组分别进行研究。在这里，我们研究了3种花的萼片长度。\n",
    "# x花的品种，y花萼长度\n",
    "sns.boxplot( x=df[\"species\"], y=df[\"sepal_length\"] );"
   ],
   "outputs": [],
   "execution_count": null
  },
  {
   "cell_type": "code",
   "metadata": {},
   "source": [
    "# 多个数值变量 Several numerical variable\n",
    "# 可以研究几个数值变量的分布，比如说萼片的长度和宽度：\n",
    "sns.boxplot(data=df.iloc[:,0:2]);"
   ],
   "outputs": [],
   "execution_count": null
  },
  {
   "cell_type": "code",
   "metadata": {},
   "source": [
    "# 水平箱型图 Horizontal boxplot with seaborn\n",
    "# 用seaborn将你的箱图水平转动是非常简单的。您可以切换x和y属性，或使用选项orient =\"h\"\n",
    "sns.boxplot( y=df[\"species\"], x=df[\"sepal_length\"] );"
   ],
   "outputs": [],
   "execution_count": null
  },
  {
   "cell_type": "markdown",
   "metadata": {},
   "source": [
    "## 2. 自定义外观 Custom boxplot appearance\n",
    "+ 自定义线宽 Custom line width\n",
    "+ 添加缺口 Add notch\n",
    "+ 控制箱的尺寸 Control box sizes"
   ]
  },
  {
   "cell_type": "code",
   "metadata": {},
   "source": [
    "# 自定义线宽 Custom line width\n",
    "# Change line width\n",
    "# 根据linewidth改变线条宽度\n",
    "sns.boxplot( x=df[\"species\"], y=df[\"sepal_length\"], linewidth=5);"
   ],
   "outputs": [],
   "execution_count": null
  },
  {
   "cell_type": "code",
   "metadata": {},
   "source": [
    "# 添加缺口 Add notch\n",
    "# notch设置为true即可\n",
    "sns.boxplot( x=df[\"species\"], y=df[\"sepal_length\"], notch=True);"
   ],
   "outputs": [],
   "execution_count": null
  },
  {
   "cell_type": "code",
   "metadata": {},
   "source": [
    "# 控制箱的尺寸 Control box sizes\n",
    "# Change width\n",
    "sns.boxplot( x=df[\"species\"], y=df[\"sepal_length\"], width=0.3);"
   ],
   "outputs": [],
   "execution_count": null
  },
  {
   "cell_type": "markdown",
   "metadata": {},
   "source": [
    "## 3. 箱型图的颜色设置 Control colors of boxplot\n",
    "+ 调色板的使用 Use a color palette \n",
    "+ 单种颜色的使用 Uniform color\n",
    "+ 每组的特定颜色 Specific color for each group\n",
    "+ 单组高亮 Highlight a group\n",
    "+ 添加透明色 Add transparency to color"
   ]
  },
  {
   "cell_type": "code",
   "metadata": {},
   "source": [
    "# 调色板的使用 Use a color palette \n",
    "# Python提出了几种调色板。您可以像Set1，Set2，Set3，Paired，BuPu一样调用RColorBrewer调色板，还有Blues或BuGn_r等调色板。\n",
    "# 调色板各种颜色见 http://www.r-graph-gallery.com/38-rcolorbrewers-palettes/\n",
    "# t通过plaette调用调色板，Use a color palette\n",
    "sns.boxplot( x=df[\"species\"], y=df[\"sepal_length\"], palette=\"Blues\");"
   ],
   "outputs": [],
   "execution_count": null
  },
  {
   "cell_type": "code",
   "metadata": {},
   "source": [
    "# 单种颜色的使用 Uniform color\n",
    "# 当然您可以轻松地为每个盒子应用同样的颜色。最常见的是b: blue\n",
    "# 颜色列表 https://matplotlib.org/examples/color/named_colors.html\n",
    "sns.boxplot( x=df[\"species\"], y=df[\"sepal_length\"], color=\"skyblue\");"
   ],
   "outputs": [],
   "execution_count": null
  },
  {
   "cell_type": "code",
   "metadata": {},
   "source": [
    "# 每组的特定颜色 Specific color for each group\n",
    "# 用不用颜色描绘不同种类的花\n",
    "my_pal = {\"versicolor\": \"g\", \"setosa\": \"b\", \"virginica\":\"m\"}\n",
    "sns.boxplot( x=df[\"species\"], y=df[\"sepal_length\"], palette=my_pal);"
   ],
   "outputs": [],
   "execution_count": null
  },
  {
   "cell_type": "code",
   "metadata": {},
   "source": [
    "# 单组高亮 Highlight a group\n",
    "# 设定某一组为红色，其他组为蓝色\n",
    "my_pal = {species: \"r\" if species == \"versicolor\" else \"b\" for species in df.species.unique()}\n",
    "sns.boxplot( x=df[\"species\"], y=df[\"sepal_length\"], palette=my_pal);"
   ],
   "outputs": [],
   "execution_count": null
  },
  {
   "cell_type": "code",
   "metadata": {},
   "source": [
    "# 添加透明色 Add transparency to color\n",
    "# usual boxplot 正常绘图\n",
    "ax = sns.boxplot(x='species', y='sepal_length', data=df);\n",
    "# Add transparency to colors 设置透明色\n",
    "for patch in ax.artists:\n",
    "    r, g, b, a = patch.get_facecolor()\n",
    "    patch.set_facecolor((r, g, b, .3))"
   ],
   "outputs": [],
   "execution_count": null
  },
  {
   "cell_type": "markdown",
   "metadata": {},
   "source": [
    "## 4. 分组箱图 Grouped Boxplot"
   ]
  },
  {
   "cell_type": "code",
   "metadata": {},
   "source": [
    "# 当您有一个数值变量，几个组和子组时，将使用分组箱图。使用seaborn很容易实现。Y是您的数字变量，x是组列，而hue是子组列。\n",
    "# 调用tips数据集\n",
    "df_tips = sns.load_dataset('tips')\n",
    "df_tips.head()"
   ],
   "outputs": [],
   "execution_count": null
  },
  {
   "cell_type": "code",
   "metadata": {},
   "source": [
    "# Grouped boxplot 分组箱图\n",
    "# x日期，y餐费，hue自组列，palette调色盘\n",
    "sns.boxplot(x=\"day\", y=\"total_bill\", hue=\"smoker\", data=df_tips, palette=\"Set1\");"
   ],
   "outputs": [],
   "execution_count": null
  },
  {
   "cell_type": "markdown",
   "metadata": {},
   "source": [
    "## 5. 箱图的顺序设置 Control order of boxplot"
   ]
  },
  {
   "cell_type": "code",
   "metadata": {},
   "source": [
    "#如果您按特定顺序设定组，则箱图通常会提供更多信息。这对seaborn来说是可行的。 \n",
    "# specific order 通过order自定义组\n",
    "p1=sns.boxplot(x='species', y='sepal_length', data=df, order=[\"virginica\", \"versicolor\", \"setosa\"]);"
   ],
   "outputs": [],
   "execution_count": null
  },
  {
   "cell_type": "code",
   "metadata": {},
   "source": [
    "# 中位数由大到小排列\n",
    "# Find the order 设定中位数\n",
    "my_order = df.groupby(by=[\"species\"])[\"sepal_length\"].median().iloc[::-1].index\n",
    "# Give it to the boxplot\n",
    "sns.boxplot(x='species', y='sepal_length', data=df, order=my_order);"
   ],
   "outputs": [],
   "execution_count": null
  },
  {
   "cell_type": "markdown",
   "metadata": {},
   "source": [
    "## 6. 添加散点分布 Add jitter over boxplot"
   ]
  },
  {
   "cell_type": "code",
   "metadata": {},
   "source": [
    "# 可以在箱线图上添加每种类别的散点分布情况\n",
    "# Usual boxplot 正常绘图\n",
    "ax = sns.boxplot(x='species', y='sepal_length', data=df)\n",
    "# Add jitter with the swarmplot function 添加散点分布\n",
    "ax = sns.swarmplot(x='species', y='sepal_length', data=df, color=\"grey\")"
   ],
   "outputs": [],
   "execution_count": null
  },
  {
   "cell_type": "markdown",
   "metadata": {},
   "source": [
    "## 7. 显示各类的样本数 Show number of observation on boxplot"
   ]
  },
  {
   "cell_type": "code",
   "metadata": {},
   "source": [
    "# 显示每个组的观察次数可能很有用\n",
    "\n",
    "# 基础的箱形图\n",
    "ax = sns.boxplot(x=\"species\", y=\"sepal_length\", data=df)\n",
    " \n",
    "# Calculate number of obs per group & median to position labels \n",
    "# 计算各个种类的中位数\n",
    "medians = df.groupby(['species'])['sepal_length'].median().values\n",
    "# 统计各个种类的样本数\n",
    "nobs = df['species'].value_counts().values\n",
    "nobs = [str(x) for x in nobs.tolist()]\n",
    "nobs = [\"n: \" + i for i in nobs]\n",
    " \n",
    "# Add it to the plot \n",
    "pos = range(len(nobs))\n",
    "for tick,label in zip(pos,ax.get_xticklabels()):\n",
    "    ax.text(pos[tick], medians[tick] + 0.03, nobs[tick], horizontalalignment='center', size='x-small', color='w', weight='semibold')"
   ],
   "outputs": [],
   "execution_count": null
  },
  {
   "cell_type": "markdown",
   "metadata": {},
   "source": [
    "## 8. 箱形图隐藏的数据处理 Hidden data under boxplot\n",
    "+ 添加分布散点图 boxplot with jitter\n",
    "+ 使用小提琴图 use violinplot"
   ]
  },
  {
   "cell_type": "markdown",
   "metadata": {},
   "source": [
    "箱形图总结了几个组的数值变量的分布。但是箱形图的问题不仅是丢失信息，这可能会结果有偏差。如果我们考虑下面的箱形图，很容易得出结论，'C'组的价值高于其他组。但是，我们无法看到每个组中点的基本分布是什么，也没有观察每个组的观察次数。所以我们需要对隐藏的数据进行处理"
   ]
  },
  {
   "cell_type": "code",
   "metadata": {},
   "source": [
    "# libraries and data\n",
    "import pandas as pd\n",
    "import numpy as np\n",
    "import matplotlib.pyplot as plt\n",
    "# Dataset:\n",
    "a = pd.DataFrame({ 'group' : np.repeat('A',500), 'value': np.random.normal(10, 5, 500) })\n",
    "b = pd.DataFrame({ 'group' : np.repeat('B',500), 'value': np.random.normal(13, 1.2, 500) })\n",
    "c = pd.DataFrame({ 'group' : np.repeat('B',500), 'value': np.random.normal(18, 1.2, 500) })\n",
    "d = pd.DataFrame({ 'group' : np.repeat('C',20), 'value': np.random.normal(25, 4, 20) })\n",
    "e = pd.DataFrame({ 'group' : np.repeat('D',100), 'value': np.random.uniform(12, size=100) })\n",
    "df=a.append(b).append(c).append(d).append(e)\n",
    " \n",
    "# Usual boxplot\n",
    "sns.boxplot(x='group', y='value', data=df);"
   ],
   "outputs": [],
   "execution_count": null
  },
  {
   "cell_type": "code",
   "metadata": {},
   "source": [
    "# 添加分布散点图 boxplot with jitter\n",
    "ax = sns.boxplot(x='group', y='value', data=df)\n",
    "# 通过stripplot添加分布散点图，jitter设置数据间距\n",
    "ax = sns.stripplot(x='group', y='value', data=df, color=\"orange\", jitter=0.2, size=2.5)\n",
    "plt.title(\"Boxplot with jitter\", loc=\"left\")"
   ],
   "outputs": [],
   "execution_count": null
  },
  {
   "cell_type": "code",
   "metadata": {},
   "source": [
    "# 使用小提琴图 use violinplot\n",
    "sns.violinplot( x='group', y='value', data=df)\n",
    "plt.title(\"Violin plot\", loc=\"left\")"
   ],
   "outputs": [],
   "execution_count": null
  }
 ],
 "metadata": {
  "kernelspec": {
   "display_name": "Python 3",
   "language": "python",
   "name": "python3"
  },
  "language_info": {
   "codemirror_mode": {
    "name": "ipython",
    "version": 3
   },
   "file_extension": ".py",
   "mimetype": "text/x-python",
   "name": "python",
   "nbconvert_exporter": "python",
   "pygments_lexer": "ipython3",
   "version": "3.7.1"
  }
 },
 "nbformat": 4,
 "nbformat_minor": 2
}
