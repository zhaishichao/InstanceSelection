{
 "cells": [
  {
   "cell_type": "markdown",
   "source": [
    "### MLP多层感知机"
   ],
   "metadata": {
    "collapsed": false
   },
   "id": "448a3c9bddf91cb8"
  },
  {
   "cell_type": "code",
   "outputs": [
    {
     "name": "stdout",
     "output_type": "stream",
     "text": [
      "[423 227 423 187 228 443]\n"
     ]
    },
    {
     "name": "stderr",
     "output_type": "stream",
     "text": [
      "D:\\IDE\\Anaconda\\envs\\pytorch\\lib\\site-packages\\sklearn\\neural_network\\_multilayer_perceptron.py:1101: DataConversionWarning: A column-vector y was passed when a 1d array was expected. Please change the shape of y to (n_samples, ), for example using ravel().\n",
      "  y = column_or_1d(y, warn=True)\n"
     ]
    },
    {
     "name": "stdout",
     "output_type": "stream",
     "text": [
      "准确率: 0.893837389953392\n",
      "\n",
      "分类报告:\n",
      "               precision    recall  f1-score   support\n",
      "\n",
      "           0       0.97      0.97      0.97       423\n",
      "           1       0.96      0.98      0.97       227\n",
      "           2       0.90      0.92      0.91       423\n",
      "           3       0.70      0.62      0.66       187\n",
      "           4       0.88      0.90      0.89       228\n",
      "           5       0.86      0.86      0.86       443\n",
      "\n",
      "    accuracy                           0.89      1931\n",
      "   macro avg       0.88      0.88      0.88      1931\n",
      "weighted avg       0.89      0.89      0.89      1931\n",
      "\n",
      "Confusion Matrix:\n",
      "[[412   0   7   0   4   0]\n",
      " [  0 222   1   0   4   0]\n",
      " [  5   0 388  16   0  14]\n",
      " [  2   2  27 116   1  39]\n",
      " [  5   5   0   5 206   7]\n",
      " [  1   3   8  29  20 382]]\n",
      "(1931, 6)\n"
     ]
    },
    {
     "data": {
      "text/plain": "array([[5.17323587e-17, 1.60220408e-13, 5.19973066e-08, 3.94168485e-12,\n        9.99953140e-01, 4.68078246e-05],\n       [2.61268635e-10, 2.07901013e-13, 9.00869586e-13, 9.67447152e-01,\n        3.06865848e-06, 3.25497789e-02],\n       [6.37113520e-08, 5.19648702e-07, 8.65279416e-05, 4.22702150e-01,\n        7.46518694e-04, 5.76464220e-01],\n       ...,\n       [9.99991971e-01, 1.50201163e-10, 8.12689687e-10, 2.13656185e-15,\n        8.02837161e-06, 1.07145910e-12],\n       [2.08331479e-08, 3.35203027e-07, 1.52264669e-02, 8.54921174e-01,\n        2.10410717e-05, 1.29830962e-01],\n       [1.21878128e-07, 1.53394928e-09, 1.00749707e-01, 2.51769002e-01,\n        8.81122826e-07, 6.47480286e-01]])"
     },
     "execution_count": 5,
     "metadata": {},
     "output_type": "execute_result"
    }
   ],
   "source": [
    "from utils.dataset_utils import get_classes_indexes_counts\n",
    "from sklearn.metrics import confusion_matrix\n",
    "# 导入必要的库\n",
    "from sklearn.datasets import load_iris\n",
    "from sklearn.model_selection import train_test_split\n",
    "from sklearn.preprocessing import StandardScaler\n",
    "from sklearn.neural_network import MLPClassifier\n",
    "from sklearn.metrics import classification_report, accuracy_score\n",
    "import scipy.io as sio  # 从.mat文件中读取数据集\n",
    "# 加载鸢尾花数据集\n",
    "# data = load_iris()\n",
    "mat_data = sio.loadmat('../data/dataset/Satellite.mat')\n",
    "X = mat_data['X']  # 特征\n",
    "y = mat_data['Y']  # 标签\n",
    "\n",
    "# 将数据集分为训练集和测试集\n",
    "X_train, X_test, y_train, y_test = train_test_split(X, y, test_size=0.3, random_state=100)\n",
    "classes, counts = get_classes_indexes_counts(y_test)\n",
    "print(counts)\n",
    "# 数据标准化\n",
    "scaler = StandardScaler()\n",
    "X_train = scaler.fit_transform(X_train)\n",
    "X_test = scaler.transform(X_test)\n",
    "\n",
    "# 构建并训练MLP模型\n",
    "mlp = MLPClassifier(hidden_layer_sizes=(10, 20), max_iter=1000, random_state=100)\n",
    "mlp.fit(X_train, y_train)\n",
    "index_pred_proba=mlp.predict_proba(X_test)\n",
    "# 预测和评估模型\n",
    "y_pred = mlp.predict(X_test)\n",
    "\n",
    "# 输出结果\n",
    "print(\"准确率:\", accuracy_score(y_test, y_pred))\n",
    "print(\"\\n分类报告:\\n\", classification_report(y_test, y_pred))\n",
    "# 打印混淆矩阵\n",
    "print(\"Confusion Matrix:\")\n",
    "print(confusion_matrix(y_test, y_pred))\n",
    "\n",
    "print(index_pred_proba.shape)\n",
    "index_pred_proba"
   ],
   "metadata": {
    "collapsed": false,
    "ExecuteTime": {
     "end_time": "2024-11-25T14:35:43.703809Z",
     "start_time": "2024-11-25T14:35:40.576321Z"
    }
   },
   "id": "9cd7ccca13891820",
   "execution_count": 5
  },
  {
   "cell_type": "code",
   "outputs": [
    {
     "name": "stdout",
     "output_type": "stream",
     "text": [
      "(45, 4)\n",
      "(45,)\n"
     ]
    }
   ],
   "source": [
    "from sklearn.datasets import load_iris\n",
    "from sklearn.model_selection import train_test_split\n",
    "from sklearn.preprocessing import StandardScaler\n",
    "from sklearn.neural_network import MLPClassifier\n",
    "from sklearn.metrics import classification_report, accuracy_score\n",
    "\n",
    "# 加载鸢尾花数据集\n",
    "iris = load_iris()\n",
    "X, y = iris.data, iris.target\n",
    "\n",
    "# 数据集分割为训练集和测试集\n",
    "X_train, X_test, y_train, y_test = train_test_split(X, y, test_size=0.3, random_state=42)\n",
    "\n",
    "print(X_test.shape)\n",
    "print(y_test.shape)\n",
    "# 数据标准化\n",
    "scaler = StandardScaler()\n",
    "X_train = scaler.fit_transform(X_train)\n",
    "X_test = scaler.transform(X_test)\n",
    "\n",
    "# 创建和训练MLP模型\n",
    "mlp = MLPClassifier(hidden_layer_sizes=(100,), max_iter=500, random_state=42)\n",
    "mlp.fit(X_train, y_train)\n",
    "\n",
    "# 预测\n",
    "y_pred = mlp.predict(X_test)\n",
    "\n",
    "# 输出结果\n",
    "accuracy = accuracy_score(y_test, y_pred)\n",
    "report = classification_report(y_test, y_pred, target_names=iris.target_names)\n",
    "\n"
   ],
   "metadata": {
    "collapsed": false,
    "ExecuteTime": {
     "end_time": "2024-11-23T14:40:23.113632Z",
     "start_time": "2024-11-23T14:40:22.993139Z"
    }
   },
   "id": "4f5c70b5119d0c03",
   "execution_count": 5
  }
 ],
 "metadata": {
  "kernelspec": {
   "display_name": "Python 3",
   "language": "python",
   "name": "python3"
  },
  "language_info": {
   "codemirror_mode": {
    "name": "ipython",
    "version": 2
   },
   "file_extension": ".py",
   "mimetype": "text/x-python",
   "name": "python",
   "nbconvert_exporter": "python",
   "pygments_lexer": "ipython2",
   "version": "2.7.6"
  }
 },
 "nbformat": 4,
 "nbformat_minor": 5
}
