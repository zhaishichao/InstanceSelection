{
 "cells": [
  {
   "cell_type": "markdown",
   "source": [
    "### MLP多层感知机"
   ],
   "metadata": {
    "collapsed": false
   },
   "id": "448a3c9bddf91cb8"
  },
  {
   "cell_type": "code",
   "outputs": [
    {
     "name": "stdout",
     "output_type": "stream",
     "text": [
      "[423 227 423 187 228 443]\n",
      "准确率: 0.8990160538581046\n",
      "\n",
      "分类报告:\n",
      "               precision    recall  f1-score   support\n",
      "\n",
      "           0       0.97      0.97      0.97       423\n",
      "           1       0.96      0.98      0.97       227\n",
      "           2       0.89      0.92      0.90       423\n",
      "           3       0.71      0.64      0.68       187\n",
      "           4       0.88      0.94      0.91       228\n",
      "           5       0.89      0.86      0.87       443\n",
      "\n",
      "    accuracy                           0.90      1931\n",
      "   macro avg       0.88      0.88      0.88      1931\n",
      "weighted avg       0.90      0.90      0.90      1931\n",
      "\n",
      "Confusion Matrix:\n",
      "[[411   1  10   0   1   0]\n",
      " [  0 222   0   0   5   0]\n",
      " [  5   1 390  15   0  12]\n",
      " [  3   3  31 120   2  28]\n",
      " [  4   2   0   2 214   6]\n",
      " [  1   3   9  31  20 379]]\n",
      "[423 227 423 187 228 443]\n",
      "[411 222 390 120 214 379]\n",
      "1736\n",
      "(1931, 6)\n"
     ]
    }
   ],
   "source": [
    "from utils.dataset_utils import get_classes_indexes_counts\n",
    "from sklearn.metrics import confusion_matrix\n",
    "# 导入必要的库\n",
    "from sklearn.datasets import load_iris\n",
    "from sklearn.model_selection import train_test_split\n",
    "from sklearn.preprocessing import StandardScaler\n",
    "from sklearn.neural_network import MLPClassifier\n",
    "from sklearn.metrics import classification_report, accuracy_score\n",
    "import scipy.io as sio  # 从.mat文件中读取数据集\n",
    "\n",
    "# 加载鸢尾花数据集\n",
    "# data = load_iris()\n",
    "mat_data = sio.loadmat('../data/dataset/Satellite.mat')\n",
    "X = mat_data['X']  # 特征\n",
    "y = mat_data['Y'][:, 0]  # 标签\n",
    "\n",
    "# 将数据集分为训练集和测试集\n",
    "X_train, X_test, y_train, y_test = train_test_split(X, y, test_size=0.3, random_state=100)\n",
    "classes, counts = get_classes_indexes_counts(y_test)\n",
    "print(counts)\n",
    "# 数据标准化\n",
    "scaler = StandardScaler()\n",
    "X_train = scaler.fit_transform(X_train)\n",
    "X_test = scaler.transform(X_test)\n",
    "\n",
    "# 构建并训练MLP模型\n",
    "mlp = MLPClassifier(hidden_layer_sizes=(10, 20), max_iter=1000, random_state=42)\n",
    "mlp.fit(X_train, y_train)\n",
    "index_pred_proba = mlp.predict_proba(X_test)\n",
    "# 预测和评估模型\n",
    "y_pred = mlp.predict(X_test)\n",
    "\n",
    "# 输出结果\n",
    "print(\"准确率:\", accuracy_score(y_test, y_pred))\n",
    "print(\"\\n分类报告:\\n\", classification_report(y_test, y_pred))\n",
    "# 打印混淆矩阵\n",
    "print(\"Confusion Matrix:\")\n",
    "cm = confusion_matrix(y_test, y_pred)\n",
    "print(cm)\n",
    "print(cm.sum(axis=1))\n",
    "print(cm.diagonal())\n",
    "print(cm.diagonal().sum())\n",
    "print(index_pred_proba.shape)"
   ],
   "metadata": {
    "collapsed": false,
    "ExecuteTime": {
     "end_time": "2024-12-09T12:50:02.964495Z",
     "start_time": "2024-12-09T12:49:58.971278Z"
    }
   },
   "id": "9cd7ccca13891820",
   "execution_count": 1
  },
  {
   "cell_type": "code",
   "outputs": [],
   "source": [
    "from sklearn.datasets import load_iris\n",
    "from sklearn.model_selection import train_test_split\n",
    "from sklearn.preprocessing import StandardScaler\n",
    "from sklearn.neural_network import MLPClassifier\n",
    "from sklearn.metrics import confusion_matrix\n",
    "import numpy as np\n",
    "\n",
    "# 加载鸢尾花数据集\n",
    "iris = load_iris()\n",
    "X = iris.data\n",
    "y = iris.target\n",
    "class_names = iris.target_names\n",
    "\n",
    "# 数据拆分为训练集和测试集\n",
    "X_train, X_test, y_train, y_test = train_test_split(X, y, test_size=0.3, random_state=42, stratify=y)\n",
    "\n",
    "# 数据标准化\n",
    "scaler = StandardScaler()\n",
    "X_train = scaler.fit_transform(X_train)\n",
    "X_test = scaler.transform(X_test)\n",
    "\n",
    "# 定义并训练MLP模型\n",
    "mlp = MLPClassifier(hidden_layer_sizes=(10, 10), max_iter=1000, random_state=42)\n",
    "mlp.fit(X_train, y_train)\n",
    "\n",
    "# 测试集预测\n",
    "y_pred = mlp.predict(X_test)\n",
    "\n",
    "# 混淆矩阵\n",
    "cm = confusion_matrix(y_test, y_pred)\n",
    "\n",
    "# 输出结果\n",
    "print(\"类别信息:\")\n",
    "for i, class_name in enumerate(class_names):\n",
    "    total_count = np.sum(y_test == i)\n",
    "    correct_count = cm[i, i]\n",
    "    incorrect_count = total_count - correct_count\n",
    "    print(f\"类别 {class_name}:\")\n",
    "    print(f\" - 测试集数量: {total_count}\")\n",
    "    print(f\" - 预测正确数量: {correct_count}\")\n",
    "    print(f\" - 预测错误数量: {incorrect_count}\")"
   ],
   "metadata": {
    "collapsed": false
   },
   "id": "4f5c70b5119d0c03",
   "execution_count": null
  },
  {
   "cell_type": "markdown",
   "source": [
    "### k-folds交叉验证"
   ],
   "metadata": {
    "collapsed": false
   },
   "id": "66d6d14f7b8da074"
  },
  {
   "cell_type": "code",
   "outputs": [],
   "source": [
    "from sklearn.datasets import load_iris\n",
    "from sklearn.neural_network import MLPClassifier\n",
    "from sklearn.model_selection import cross_val_predict, StratifiedKFold\n",
    "from sklearn.metrics import classification_report\n",
    "\n",
    "# 1. 加载鸢尾花数据集\n",
    "data = load_iris()\n",
    "X, y = data.data, data.target\n",
    "\n",
    "# 2. 初始化 MLP 模型\n",
    "mlp_1 = MLPClassifier(hidden_layer_sizes=(40,), max_iter=200, random_state=42)\n",
    "\n",
    "# 3. 配置五折交叉验证\n",
    "cv = StratifiedKFold(n_splits=5, shuffle=True, random_state=42)\n",
    "\n",
    "# 4. 使用 cross_val_predict 进行交叉验证并获取预测\n",
    "y_pred = cross_val_predict(mlp_1, X, y, cv=cv)\n",
    "\n",
    "# 5. 输出分类报告\n",
    "print(\"Classification Report:\\n\")\n",
    "print(classification_report(y, y_pred, target_names=data.target_names))\n",
    "\n",
    "mlp_2 = MLPClassifier(hidden_layer_sizes=(40,), max_iter=200, random_state=42)\n",
    "# 数据集分割为训练集和测试集\n",
    "X_train, X_test, y_train, y_test = train_test_split(X, y, test_size=0.3, random_state=42)\n",
    "mlp_2.fit(X_train, y_train)\n",
    "\n",
    "# 预测\n",
    "y_pred = mlp_2.predict(X_test)\n",
    "\n",
    "# 输出分类报告\n",
    "print(classification_report(y_test, y_pred, target_names=data.target_names))"
   ],
   "metadata": {
    "collapsed": false
   },
   "id": "ad39108c3a797bc6",
   "execution_count": null
  },
  {
   "cell_type": "markdown",
   "source": [
    "### Nos下训练MLP"
   ],
   "metadata": {
    "collapsed": false
   },
   "id": "daa50f9a37227da"
  },
  {
   "cell_type": "code",
   "outputs": [
    {
     "name": "stdout",
     "output_type": "stream",
     "text": [
      "[1533  703 1358  626  707 1508]\n",
      "Accuracy: 0.86\n",
      "Classification Report:\n",
      "              precision    recall  f1-score   support\n",
      "\n",
      "           0       0.95      0.97      0.96       423\n",
      "           1       0.94      0.98      0.96       227\n",
      "           2       0.79      0.92      0.85       423\n",
      "           3       0.70      0.37      0.48       187\n",
      "           4       0.85      0.84      0.85       228\n",
      "           5       0.84      0.84      0.84       443\n",
      "\n",
      "    accuracy                           0.86      1931\n",
      "   macro avg       0.85      0.82      0.82      1931\n",
      "weighted avg       0.85      0.86      0.85      1931\n",
      "\n",
      "Confusion Matrix:\n",
      "[[412   1   7   0   3   0]\n",
      " [  0 222   0   0   5   0]\n",
      " [  3   0 391  17   3   9]\n",
      " [  3   2  63  69   3  47]\n",
      " [ 14   5   0   2 192  15]\n",
      " [  0   5  37  11  19 371]]\n",
      "最终的集成分类结果：Recall_Per_Class[0.97399527 0.97797357 0.92434988 0.36898396 0.84210526 0.83747178]，Gmean：0.7822472905006482，mAUC：0.9755285901893908\n"
     ]
    }
   ],
   "source": [
    "from scipy.stats import gmean\n",
    "from utils.dataset_utils import get_classes_indexes_counts\n",
    "from sklearn.metrics import confusion_matrix, roc_auc_score\n",
    "from sklearn.model_selection import train_test_split\n",
    "from sklearn.neural_network import MLPClassifier\n",
    "from sklearn.metrics import classification_report, accuracy_score\n",
    "import scipy.io as sio  # 从.mat文件中读取数据集\n",
    "\n",
    "mat_data = sio.loadmat('../data/dataset/Satellite.mat')\n",
    "X = mat_data['X']  # 特征\n",
    "y = mat_data['Y'][:, 0]  # 标签\n",
    "classes, counts = get_classes_indexes_counts(y)\n",
    "# 将数据集分为训练集和测试集\n",
    "X_train, X_test, y_train, y_test = train_test_split(X, y, test_size=0.3, random_state=100)\n",
    "\n",
    "print(counts)\n",
    "# 构建并训练MLP模型\n",
    "mlp = MLPClassifier(hidden_layer_sizes=(20), max_iter=1000, random_state=42)\n",
    "mlp.fit(X_train, y_train)\n",
    "y_proba = mlp.predict_proba(X_test)\n",
    "# 预测和评估模型\n",
    "y_pred = mlp.predict(X_test)\n",
    "cm = confusion_matrix(y_test, y_pred)\n",
    "# 计算 ROC AUC（ovo+macro）\n",
    "auc_ovo_macro = roc_auc_score(y_test, y_proba, multi_class=\"ovo\", average=\"macro\")\n",
    "# 计算每类召回率（每类正确预测个数 / 该类总数）\n",
    "recall_per_class = cm.diagonal() / cm.sum(axis=1)\n",
    "# 计算G-Mean\n",
    "geometric_mean = gmean(recall_per_class)\n",
    "# 计算准确率\n",
    "accuracy = accuracy_score(y_test, y_pred)\n",
    "print(f'Accuracy: {accuracy:.2f}')\n",
    "# 打印分类报告\n",
    "print(\"Classification Report:\")\n",
    "print(classification_report(y_test, y_pred))\n",
    "# 打印混淆矩阵\n",
    "print(\"Confusion Matrix:\")\n",
    "print(cm)\n",
    "print(f\"最终的集成分类结果：Recall_Per_Class{recall_per_class}，Gmean：{geometric_mean}，mAUC：{auc_ovo_macro}\")"
   ],
   "metadata": {
    "collapsed": false,
    "ExecuteTime": {
     "end_time": "2024-12-09T13:54:35.744219Z",
     "start_time": "2024-12-09T13:54:34.543958Z"
    }
   },
   "id": "7ced2f4b739f085e",
   "execution_count": 3
  },
  {
   "cell_type": "markdown",
   "source": [
    "### 集成分类器"
   ],
   "metadata": {
    "collapsed": false
   },
   "id": "9a94fe1a4699ac8b"
  },
  {
   "cell_type": "code",
   "outputs": [],
   "source": [
    "from sklearn.datasets import load_iris\n",
    "from sklearn.model_selection import train_test_split\n",
    "from sklearn.ensemble import VotingClassifier\n",
    "from sklearn.neural_network import MLPClassifier\n",
    "from sklearn.metrics import accuracy_score\n",
    "\n",
    "# 加载鸢尾花数据集\n",
    "data = load_iris()\n",
    "X = data.data\n",
    "y = data.target\n",
    "\n",
    "# 数据集划分：训练集和测试集\n",
    "X_train, X_test, y_train, y_test = train_test_split(X, y, test_size=0.3, random_state=42)\n",
    "\n",
    "# 定义多个 MLP 基分类器，设置不同的参数\n",
    "mlp1 = MLPClassifier(hidden_layer_sizes=(10,), max_iter=500, random_state=42)  # 单隐层\n",
    "mlp2 = MLPClassifier(hidden_layer_sizes=(20, 10), max_iter=500, random_state=43)  # 双隐层\n",
    "mlp3 = MLPClassifier(hidden_layer_sizes=(30, 20, 10), max_iter=500, random_state=44)  # 三隐层\n",
    "\n",
    "# 构建投票集成分类器\n",
    "voting_clf = VotingClassifier(\n",
    "    estimators=[('mlp1', mlp1), ('mlp2', mlp2), ('mlp3', mlp3)],\n",
    "    voting='soft'  # 使用软投票\n",
    ")\n",
    "\n",
    "# 训练集成分类器\n",
    "voting_clf.fit(X_train, y_train)\n",
    "\n",
    "# 在测试集上进行预测\n",
    "y_pred = voting_clf.predict(X_test)\n",
    "\n",
    "# 计算准确率\n",
    "accuracy = accuracy_score(y_test, y_pred)\n",
    "print(f\"集成多个 MLP 分类器后的准确率: {accuracy:.2f}\")\n"
   ],
   "metadata": {
    "collapsed": false
   },
   "id": "8ebc02d99e98d906"
  }
 ],
 "metadata": {
  "kernelspec": {
   "display_name": "Python 3",
   "language": "python",
   "name": "python3"
  },
  "language_info": {
   "codemirror_mode": {
    "name": "ipython",
    "version": 2
   },
   "file_extension": ".py",
   "mimetype": "text/x-python",
   "name": "python",
   "nbconvert_exporter": "python",
   "pygments_lexer": "ipython2",
   "version": "2.7.6"
  }
 },
 "nbformat": 4,
 "nbformat_minor": 5
}
