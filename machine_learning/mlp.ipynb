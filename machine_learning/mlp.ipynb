{
 "cells": [
  {
   "cell_type": "markdown",
   "source": [
    "### MLP多层感知机"
   ],
   "metadata": {
    "collapsed": false
   },
   "id": "448a3c9bddf91cb8"
  },
  {
   "cell_type": "code",
   "outputs": [
    {
     "name": "stdout",
     "output_type": "stream",
     "text": [
      "[19 13 13]\n",
      "准确率: 1.0\n",
      "\n",
      "分类报告:\n",
      "               precision    recall  f1-score   support\n",
      "\n",
      "           0       1.00      1.00      1.00        19\n",
      "           1       1.00      1.00      1.00        13\n",
      "           2       1.00      1.00      1.00        13\n",
      "\n",
      "    accuracy                           1.00        45\n",
      "   macro avg       1.00      1.00      1.00        45\n",
      "weighted avg       1.00      1.00      1.00        45\n",
      "\n",
      "Confusion Matrix:\n",
      "[[19  0  0]\n",
      " [ 0 13  0]\n",
      " [ 0  0 13]]\n",
      "(45, 3)\n"
     ]
    },
    {
     "data": {
      "text/plain": "array([[2.91056625e-03, 9.91228682e-01, 5.86075128e-03],\n       [9.99108751e-01, 8.77196677e-04, 1.40524637e-05],\n       [5.74537035e-08, 4.27430270e-05, 9.99957200e-01],\n       [4.67312665e-03, 9.34363883e-01, 6.09629901e-02],\n       [1.97859873e-03, 9.42066591e-01, 5.59548102e-02],\n       [9.98202675e-01, 1.77834615e-03, 1.89785227e-05],\n       [5.29061246e-03, 9.91297100e-01, 3.41228743e-03],\n       [2.82604279e-05, 2.94536771e-03, 9.97026372e-01],\n       [2.98332660e-04, 6.47006190e-01, 3.52695478e-01],\n       [1.96331651e-03, 9.96794197e-01, 1.24248655e-03],\n       [8.82234971e-04, 6.62609508e-02, 9.32856814e-01],\n       [9.98674599e-01, 1.31881849e-03, 6.58259368e-06],\n       [9.99447127e-01, 5.47749496e-04, 5.12321192e-06],\n       [9.98673841e-01, 1.31787978e-03, 8.27946659e-06],\n       [9.99567107e-01, 4.20681281e-04, 1.22121393e-05],\n       [1.50547672e-02, 8.94667075e-01, 9.02781573e-02],\n       [1.85193646e-05, 2.10973036e-03, 9.97871750e-01],\n       [1.37829723e-03, 9.97811651e-01, 8.10052240e-04],\n       [4.03017462e-03, 9.83749598e-01, 1.22202272e-02],\n       [6.87943289e-06, 1.09602252e-03, 9.98897098e-01],\n       [9.98488832e-01, 1.49499342e-03, 1.61748053e-05],\n       [2.09106679e-03, 2.07612841e-01, 7.90296093e-01],\n       [9.98180872e-01, 1.79075141e-03, 2.83762462e-05],\n       [1.35684738e-05, 1.90018285e-03, 9.98086249e-01],\n       [3.69317119e-03, 1.28995308e-01, 8.67311521e-01],\n       [1.57475893e-05, 1.94690483e-03, 9.98037348e-01],\n       [1.05078010e-05, 4.13662073e-03, 9.95852871e-01],\n       [2.34378133e-05, 2.28026130e-03, 9.97696301e-01],\n       [9.97625337e-01, 2.35994804e-03, 1.47152820e-05],\n       [9.97957901e-01, 2.02644457e-03, 1.56546285e-05],\n       [9.99838787e-01, 1.57197066e-04, 4.01619572e-06],\n       [9.99711761e-01, 2.81797508e-04, 6.44190799e-06],\n       [5.50905481e-03, 9.81667144e-01, 1.28238007e-02],\n       [9.99058189e-01, 9.27468325e-04, 1.43428310e-05],\n       [9.99262039e-01, 7.28465150e-04, 9.49594297e-06],\n       [2.40420827e-05, 8.21003570e-03, 9.91765922e-01],\n       [9.80770362e-03, 9.56768162e-01, 3.34241346e-02],\n       [9.99286110e-01, 7.04734148e-04, 9.15621182e-06],\n       [9.99583597e-01, 4.08553241e-04, 7.84943652e-06],\n       [9.99858823e-01, 1.37602399e-04, 3.57443867e-06],\n       [9.56477706e-05, 1.10398312e-02, 9.88864521e-01],\n       [2.24262195e-02, 9.12807334e-01, 6.47664464e-02],\n       [5.18495324e-03, 9.65217165e-01, 2.95978816e-02],\n       [9.99622594e-01, 3.69021860e-04, 8.38366974e-06],\n       [9.99535043e-01, 4.57229846e-04, 7.72746423e-06]])"
     },
     "execution_count": 3,
     "metadata": {},
     "output_type": "execute_result"
    }
   ],
   "source": [
    "from utils.dataset_utils import get_classes_indexes_counts\n",
    "from sklearn.metrics import confusion_matrix\n",
    "# 导入必要的库\n",
    "from sklearn.datasets import load_iris\n",
    "from sklearn.model_selection import train_test_split\n",
    "from sklearn.preprocessing import StandardScaler\n",
    "from sklearn.neural_network import MLPClassifier\n",
    "from sklearn.metrics import classification_report, accuracy_score\n",
    "\n",
    "# 加载鸢尾花数据集\n",
    "data = load_iris()\n",
    "X = data.data  # 特征\n",
    "y = data.target  # 标签\n",
    "\n",
    "# 将数据集分为训练集和测试集\n",
    "X_train, X_test, y_train, y_test = train_test_split(X, y, test_size=0.3, random_state=42)\n",
    "classes, counts = get_classes_indexes_counts(y_test)\n",
    "print(counts)\n",
    "# 数据标准化\n",
    "scaler = StandardScaler()\n",
    "X_train = scaler.fit_transform(X_train)\n",
    "X_test = scaler.transform(X_test)\n",
    "\n",
    "# 构建并训练MLP模型\n",
    "mlp = MLPClassifier(hidden_layer_sizes=(10, 20), max_iter=1000, random_state=42)\n",
    "mlp.fit(X_train, y_train)\n",
    "index_pred_proba=mlp.predict_proba(X_test)\n",
    "# 预测和评估模型\n",
    "y_pred = mlp.predict(X_test)\n",
    "\n",
    "# 输出结果\n",
    "print(\"准确率:\", accuracy_score(y_test, y_pred))\n",
    "print(\"\\n分类报告:\\n\", classification_report(y_test, y_pred))\n",
    "# 打印混淆矩阵\n",
    "print(\"Confusion Matrix:\")\n",
    "print(confusion_matrix(y_test, y_pred))\n",
    "\n",
    "print(index_pred_proba.shape)\n",
    "index_pred_proba"
   ],
   "metadata": {
    "collapsed": false,
    "ExecuteTime": {
     "end_time": "2024-11-22T09:11:23.509081Z",
     "start_time": "2024-11-22T09:11:23.388016Z"
    }
   },
   "id": "9cd7ccca13891820",
   "execution_count": 3
  }
 ],
 "metadata": {
  "kernelspec": {
   "display_name": "Python 3",
   "language": "python",
   "name": "python3"
  },
  "language_info": {
   "codemirror_mode": {
    "name": "ipython",
    "version": 2
   },
   "file_extension": ".py",
   "mimetype": "text/x-python",
   "name": "python",
   "nbconvert_exporter": "python",
   "pygments_lexer": "ipython2",
   "version": "2.7.6"
  }
 },
 "nbformat": 4,
 "nbformat_minor": 5
}
