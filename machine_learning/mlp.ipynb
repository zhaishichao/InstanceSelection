{
 "cells": [
  {
   "cell_type": "markdown",
   "source": [
    "### MLP多层感知机"
   ],
   "metadata": {
    "collapsed": false
   },
   "id": "448a3c9bddf91cb8"
  },
  {
   "cell_type": "code",
   "outputs": [
    {
     "name": "stdout",
     "output_type": "stream",
     "text": [
      "[423 227 423 187 228 443]\n",
      "准确率: 0.8772656654583117\n",
      "\n",
      "分类报告:\n",
      "               precision    recall  f1-score   support\n",
      "\n",
      "           0       0.96      0.98      0.97       423\n",
      "           1       0.94      0.99      0.97       227\n",
      "           2       0.90      0.89      0.89       423\n",
      "           3       0.60      0.63      0.61       187\n",
      "           4       0.88      0.89      0.88       228\n",
      "           5       0.86      0.81      0.83       443\n",
      "\n",
      "    accuracy                           0.88      1931\n",
      "   macro avg       0.86      0.86      0.86      1931\n",
      "weighted avg       0.88      0.88      0.88      1931\n",
      "\n",
      "Confusion Matrix:\n",
      "[[415   1   5   0   2   0]\n",
      " [  0 225   0   0   2   0]\n",
      " [  6   1 377  28   1  10]\n",
      " [  3   5  24 118   4  33]\n",
      " [  9   4   0   0 202  13]\n",
      " [  0   3  14  51  18 357]]\n",
      "[423 227 423 187 228 443]\n",
      "[415 225 377 118 202 357]\n",
      "1694\n",
      "(1931, 6)\n"
     ]
    },
    {
     "data": {
      "text/plain": "array([[1.26358870e-03, 2.95327621e-03, 2.75867514e-04, 1.22432888e-02,\n        9.49464611e-01, 3.37993681e-02],\n       [4.48003909e-06, 2.25903496e-05, 1.30420419e-01, 6.49700543e-01,\n        7.20267032e-04, 2.19131700e-01],\n       [6.12439502e-04, 1.23576047e-02, 2.86677640e-02, 4.38111663e-01,\n        9.08693774e-02, 4.29381152e-01],\n       ...,\n       [9.96151899e-01, 3.09718251e-08, 5.82946607e-09, 1.47218277e-09,\n        3.84806145e-03, 1.19381333e-09],\n       [3.58876803e-07, 4.38909516e-04, 2.38953825e-01, 3.67178563e-01,\n        1.67255092e-03, 3.91755793e-01],\n       [8.64519795e-07, 7.47939578e-04, 2.71858011e-01, 5.59632953e-01,\n        5.32107733e-04, 1.67228125e-01]])"
     },
     "execution_count": 4,
     "metadata": {},
     "output_type": "execute_result"
    }
   ],
   "source": [
    "from utils.dataset_utils import get_classes_indexes_counts\n",
    "from sklearn.metrics import confusion_matrix\n",
    "# 导入必要的库\n",
    "from sklearn.datasets import load_iris\n",
    "from sklearn.model_selection import train_test_split\n",
    "from sklearn.preprocessing import StandardScaler\n",
    "from sklearn.neural_network import MLPClassifier\n",
    "from sklearn.metrics import classification_report, accuracy_score\n",
    "import scipy.io as sio  # 从.mat文件中读取数据集\n",
    "\n",
    "# 加载鸢尾花数据集\n",
    "# data = load_iris()\n",
    "mat_data = sio.loadmat('../data/dataset/Satellite.mat')\n",
    "X = mat_data['X']  # 特征\n",
    "y = mat_data['Y'][:, 0]  # 标签\n",
    "\n",
    "# 将数据集分为训练集和测试集\n",
    "X_train, X_test, y_train, y_test = train_test_split(X, y, test_size=0.3, random_state=100)\n",
    "classes, counts = get_classes_indexes_counts(y_test)\n",
    "print(counts)\n",
    "# 数据标准化\n",
    "scaler = StandardScaler()\n",
    "X_train = scaler.fit_transform(X_train)\n",
    "X_test = scaler.transform(X_test)\n",
    "\n",
    "# 构建并训练MLP模型\n",
    "mlp = MLPClassifier(hidden_layer_sizes=(10, 20), max_iter=1000, random_state=42)\n",
    "mlp.fit(X_train, y_train)\n",
    "index_pred_proba = mlp.predict_proba(X_test)\n",
    "# 预测和评估模型\n",
    "y_pred = mlp.predict(X_test)\n",
    "\n",
    "# 输出结果\n",
    "print(\"准确率:\", accuracy_score(y_test, y_pred))\n",
    "print(\"\\n分类报告:\\n\", classification_report(y_test, y_pred))\n",
    "# 打印混淆矩阵\n",
    "print(\"Confusion Matrix:\")\n",
    "cm = confusion_matrix(y_test, y_pred)\n",
    "print(cm)\n",
    "print(cm.sum(axis=1))\n",
    "print(cm.diagonal())\n",
    "print(cm.diagonal().sum())\n",
    "print(index_pred_proba.shape)\n",
    "\n",
    "index_pred_proba"
   ],
   "metadata": {
    "collapsed": false,
    "ExecuteTime": {
     "end_time": "2024-12-06T14:35:49.359587Z",
     "start_time": "2024-12-06T14:35:47.846227Z"
    }
   },
   "id": "9cd7ccca13891820",
   "execution_count": 4
  },
  {
   "cell_type": "code",
   "outputs": [],
   "source": [
    "from sklearn.datasets import load_iris\n",
    "from sklearn.model_selection import train_test_split\n",
    "from sklearn.preprocessing import StandardScaler\n",
    "from sklearn.neural_network import MLPClassifier\n",
    "from sklearn.metrics import confusion_matrix\n",
    "import numpy as np\n",
    "\n",
    "# 加载鸢尾花数据集\n",
    "iris = load_iris()\n",
    "X = iris.data\n",
    "y = iris.target\n",
    "class_names = iris.target_names\n",
    "\n",
    "# 数据拆分为训练集和测试集\n",
    "X_train, X_test, y_train, y_test = train_test_split(X, y, test_size=0.3, random_state=42, stratify=y)\n",
    "\n",
    "# 数据标准化\n",
    "scaler = StandardScaler()\n",
    "X_train = scaler.fit_transform(X_train)\n",
    "X_test = scaler.transform(X_test)\n",
    "\n",
    "# 定义并训练MLP模型\n",
    "mlp = MLPClassifier(hidden_layer_sizes=(10, 10), max_iter=1000, random_state=42)\n",
    "mlp.fit(X_train, y_train)\n",
    "\n",
    "# 测试集预测\n",
    "y_pred = mlp.predict(X_test)\n",
    "\n",
    "# 混淆矩阵\n",
    "cm = confusion_matrix(y_test, y_pred)\n",
    "\n",
    "# 输出结果\n",
    "print(\"类别信息:\")\n",
    "for i, class_name in enumerate(class_names):\n",
    "    total_count = np.sum(y_test == i)\n",
    "    correct_count = cm[i, i]\n",
    "    incorrect_count = total_count - correct_count\n",
    "    print(f\"类别 {class_name}:\")\n",
    "    print(f\" - 测试集数量: {total_count}\")\n",
    "    print(f\" - 预测正确数量: {correct_count}\")\n",
    "    print(f\" - 预测错误数量: {incorrect_count}\")"
   ],
   "metadata": {
    "collapsed": false
   },
   "id": "4f5c70b5119d0c03",
   "execution_count": null
  },
  {
   "cell_type": "markdown",
   "source": [
    "### k-folds交叉验证"
   ],
   "metadata": {
    "collapsed": false
   },
   "id": "66d6d14f7b8da074"
  },
  {
   "cell_type": "code",
   "outputs": [],
   "source": [
    "from sklearn.datasets import load_iris\n",
    "from sklearn.neural_network import MLPClassifier\n",
    "from sklearn.model_selection import cross_val_predict, StratifiedKFold\n",
    "from sklearn.metrics import classification_report\n",
    "\n",
    "# 1. 加载鸢尾花数据集\n",
    "data = load_iris()\n",
    "X, y = data.data, data.target\n",
    "\n",
    "# 2. 初始化 MLP 模型\n",
    "mlp_1 = MLPClassifier(hidden_layer_sizes=(40,), max_iter=200, random_state=42)\n",
    "\n",
    "# 3. 配置五折交叉验证\n",
    "cv = StratifiedKFold(n_splits=5, shuffle=True, random_state=42)\n",
    "\n",
    "# 4. 使用 cross_val_predict 进行交叉验证并获取预测\n",
    "y_pred = cross_val_predict(mlp_1, X, y, cv=cv)\n",
    "\n",
    "# 5. 输出分类报告\n",
    "print(\"Classification Report:\\n\")\n",
    "print(classification_report(y, y_pred, target_names=data.target_names))\n",
    "\n",
    "mlp_2 = MLPClassifier(hidden_layer_sizes=(40,), max_iter=200, random_state=42)\n",
    "# 数据集分割为训练集和测试集\n",
    "X_train, X_test, y_train, y_test = train_test_split(X, y, test_size=0.3, random_state=42)\n",
    "mlp_2.fit(X_train, y_train)\n",
    "\n",
    "# 预测\n",
    "y_pred = mlp_2.predict(X_test)\n",
    "\n",
    "# 输出分类报告\n",
    "print(classification_report(y_test, y_pred, target_names=data.target_names))"
   ],
   "metadata": {
    "collapsed": false
   },
   "id": "ad39108c3a797bc6",
   "execution_count": null
  },
  {
   "cell_type": "markdown",
   "source": [
    "### Nos下训练MLP"
   ],
   "metadata": {
    "collapsed": false
   },
   "id": "daa50f9a37227da"
  },
  {
   "cell_type": "code",
   "outputs": [
    {
     "name": "stdout",
     "output_type": "stream",
     "text": [
      "[2796 1433 2854 2166 4553 1712 1985 4194 3597]\n",
      "Accuracy: 0.55\n",
      "Classification Report:\n",
      "              precision    recall  f1-score   support\n",
      "\n",
      "           0       0.94      0.96      0.95       843\n",
      "           1       0.61      0.57      0.59       450\n",
      "           2       0.39      0.37      0.38       849\n",
      "           3       0.67      0.60      0.63       678\n",
      "           4       0.57      0.70      0.63      1348\n",
      "           5       0.46      0.40      0.43       514\n",
      "           6       0.34      0.26      0.29       571\n",
      "           7       0.46      0.48      0.47      1195\n",
      "           8       0.45      0.44      0.44      1139\n",
      "\n",
      "    accuracy                           0.55      7587\n",
      "   macro avg       0.54      0.53      0.53      7587\n",
      "weighted avg       0.54      0.55      0.54      7587\n",
      "\n",
      "Confusion Matrix:\n",
      "[[812  14   0  16   0   1   0   0   0]\n",
      " [  4 256  31   0   0  93  60   2   4]\n",
      " [  9  13 313   1  26  43  79  80 285]\n",
      " [  5   0   0 409 251   0   0  11   2]\n",
      " [  5   0   6 157 948   0   0 204  28]\n",
      " [  4  89  98   0   1 204  88   8  22]\n",
      " [  6  36 161   0  11  92 146  27  92]\n",
      " [  9   5  45  28 353   0   7 571 177]\n",
      " [ 13  10 145   2  79  10  45 338 497]]\n",
      "最终的集成分类结果：Recall_Per_Class[0.96322657 0.56888889 0.36866902 0.60324484 0.70326409 0.39688716\n",
      " 0.25569177 0.47782427 0.43634767]，Gmean：0.4958926797299569，mAUC：0.9051621899892697\n"
     ]
    }
   ],
   "source": [
    "from scipy.stats import gmean\n",
    "from utils.dataset_utils import get_classes_indexes_counts\n",
    "from sklearn.metrics import confusion_matrix, roc_auc_score\n",
    "from sklearn.model_selection import train_test_split\n",
    "from sklearn.neural_network import MLPClassifier\n",
    "from sklearn.metrics import classification_report, accuracy_score\n",
    "import scipy.io as sio  # 从.mat文件中读取数据集\n",
    "\n",
    "mat_data = sio.loadmat('../data/dataset/Chess4.mat')\n",
    "X = mat_data['X']  # 特征\n",
    "y = mat_data['Y'][:, 0]  # 标签\n",
    "classes, counts = get_classes_indexes_counts(y)\n",
    "# 将数据集分为训练集和测试集\n",
    "X_train, X_test, y_train, y_test = train_test_split(X, y, test_size=0.3, random_state=100)\n",
    "\n",
    "print(counts)\n",
    "# 构建并训练MLP模型\n",
    "mlp = MLPClassifier(hidden_layer_sizes=(15), max_iter=1000, random_state=42)\n",
    "mlp.fit(X_train, y_train)\n",
    "y_proba = mlp.predict_proba(X_test)\n",
    "# 预测和评估模型\n",
    "y_pred = mlp.predict(X_test)\n",
    "cm = confusion_matrix(y_test, y_pred)\n",
    "# 计算 ROC AUC（ovo+macro）\n",
    "auc_ovo_macro = roc_auc_score(y_test, y_proba, multi_class=\"ovo\", average=\"macro\")\n",
    "# 计算每类召回率（每类正确预测个数 / 该类总数）\n",
    "recall_per_class = cm.diagonal() / cm.sum(axis=1)\n",
    "# 计算G-Mean\n",
    "geometric_mean = gmean(recall_per_class)\n",
    "# 计算准确率\n",
    "accuracy = accuracy_score(y_test, y_pred)\n",
    "print(f'Accuracy: {accuracy:.2f}')\n",
    "# 打印分类报告\n",
    "print(\"Classification Report:\")\n",
    "print(classification_report(y_test, y_pred))\n",
    "# 打印混淆矩阵\n",
    "print(\"Confusion Matrix:\")\n",
    "print(cm)\n",
    "print(f\"最终的集成分类结果：Recall_Per_Class{recall_per_class}，Gmean：{geometric_mean}，mAUC：{auc_ovo_macro}\")"
   ],
   "metadata": {
    "collapsed": false,
    "ExecuteTime": {
     "end_time": "2024-12-04T00:14:19.644513Z",
     "start_time": "2024-12-04T00:14:02.420167Z"
    }
   },
   "id": "7ced2f4b739f085e",
   "execution_count": 1
  }
 ],
 "metadata": {
  "kernelspec": {
   "display_name": "Python 3",
   "language": "python",
   "name": "python3"
  },
  "language_info": {
   "codemirror_mode": {
    "name": "ipython",
    "version": 2
   },
   "file_extension": ".py",
   "mimetype": "text/x-python",
   "name": "python",
   "nbconvert_exporter": "python",
   "pygments_lexer": "ipython2",
   "version": "2.7.6"
  }
 },
 "nbformat": 4,
 "nbformat_minor": 5
}
