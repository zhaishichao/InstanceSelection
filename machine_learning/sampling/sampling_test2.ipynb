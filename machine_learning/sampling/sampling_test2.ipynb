{
 "cells": [
  {
   "cell_type": "code",
   "id": "initial_id",
   "metadata": {
    "collapsed": true,
    "ExecuteTime": {
     "end_time": "2025-04-05T14:37:16.017970Z",
     "start_time": "2025-04-05T14:36:20.112464Z"
    }
   },
   "source": [
    "from utils.excel_utils import save_to_excel\n",
    "from machine_learning.sampling.sample import sample_dataset\n",
    "from sklearn.neural_network import MLPClassifier\n",
    "from instance_selection.parameter.parameter import *  # 导入参数的设定\n",
    "from sklearn.model_selection import train_test_split\n",
    "import scipy.io as sio  # 从.mat文件中读取数据集\n",
    "import numpy as np\n",
    "import warnings\n",
    "from sklearn.base import clone\n",
    "\n",
    "warnings.filterwarnings(\"ignore\")  # 忽略警告\n",
    "\n",
    "DATASET = Satellite  # 数据集名称（包含对应参数的字典形式）\n",
    "datasetname = DATASET.DATASETNAME.split('.')[0]\n",
    "\n",
    "# 加载、划分数据集\n",
    "mat_data = sio.loadmat(IMBALANCED_DATASET_PATH + DATASET.DATASETNAME)\n",
    "x = mat_data['X']\n",
    "y = mat_data['Y'][:, 0]  # mat_data['Y']得到的形状为[n,1]，通过[:,0]，得到形状[n,]\n",
    "\n",
    "num_run = 30  # 运行次数\n",
    "\n",
    "gmean_results = []\n",
    "mauc_results = []\n",
    "\n",
    "model = MLPClassifier(hidden_layer_sizes=(DATASET.HIDDEN_SIZE,), max_iter=DATASET.MAX_ITER,\n",
    "                      random_state=RANDOM_SEED, learning_rate_init=DATASET.LEARNING_RATE)\n",
    "\n",
    "for i in range(num_run):\n",
    "    random_state = RANDOM_SEED + np.random.randint(1, 1000)\n",
    "    x_train, x_test, y_train, y_test = train_test_split(x, y, test_size=0.3,stratify=y,\n",
    "                                                        random_state=RANDOM_SEED)  # 划分数据集\n",
    "    gmean_ros, mauc_ros = sample_dataset(clone(model), x_train, x_test, y_train, y_test,\n",
    "                                         random_state, method='ROS')\n",
    "    gmean_rus, mauc_rus = sample_dataset(clone(model), x_train, x_test, y_train, y_test,\n",
    "                                         random_state, method='RUS')\n",
    "    gmean_nos, mauc_nos = sample_dataset(clone(model), x_train, x_test, y_train, y_test,\n",
    "                                         random_state, method='NOS')\n",
    "    gmean_smote, mauc_smote = sample_dataset(clone(model), x_train, x_test, y_train, y_test,\n",
    "                                             random_state,\n",
    "                                             method='SMOTE')\n",
    "    # gmean_adasyn, mauc_adasyn = sample_dataset(clone(model), x_train, x_test, y_train, y_test, random_state, method='ADASYN')\n",
    "    gmean_borderlinesmote1, mauc_borderlinesmote1 = sample_dataset(clone(model), x_train, x_test, y_train, y_test,\n",
    "                                                                   random_state + np.random.randint(1, 10000),\n",
    "                                                                   method='BorderlineSMOTE')\n",
    "    gmean_kmeanssmote, mauc_kmeanssmote = sample_dataset(clone(model), x_train, x_test, y_train, y_test,\n",
    "                                                         random_state + np.random.randint(1, 10000),\n",
    "                                                         method='KMeansSMOTE')\n",
    "    gmean = [gmean_nos, gmean_rus, gmean_ros, gmean_smote, gmean_borderlinesmote1, gmean_kmeanssmote]\n",
    "    mauc = [mauc_nos, mauc_rus, mauc_ros, mauc_smote, mauc_borderlinesmote1, mauc_kmeanssmote]\n",
    "    gmean_results.append(gmean)\n",
    "    mauc_results.append(mauc)\n",
    "    # 输出结果\n",
    "    print(f'第{i + 1}次运行:')\n",
    "    print(f'Gmean: {gmean}')\n",
    "    print(f'mAUC: {mauc}')\n",
    "\n",
    "columns = ['NOS', 'RUS', 'ROS', 'SMOTE', 'BorderlineSMOTE', 'KMeansSMOTE']\n",
    "\n",
    "save_path = 'C:/Users/zsc/Desktop/Sampling/' + datasetname + '/'\n",
    "filename = datasetname\n",
    "save_to_excel(save_path, filename, columns, gmean_results, mauc_results)"
   ],
   "outputs": [
    {
     "name": "stdout",
     "output_type": "stream",
     "text": [
      "第1次运行:\n",
      "Gmean: [0.817886, 0.838213, 0.859143, 0.845074, 0.840105, 0.861469]\n",
      "mAUC: [0.980246, 0.979313, 0.980371, 0.977998, 0.976283, 0.980497]\n",
      "第2次运行:\n",
      "Gmean: [0.817886, 0.850023, 0.84415, 0.858879, 0.836024, 0.857852]\n",
      "mAUC: [0.980246, 0.977671, 0.979846, 0.98082, 0.976615, 0.979682]\n",
      "第3次运行:\n",
      "Gmean: [0.817886, 0.848808, 0.859725, 0.855776, 0.860399, 0.846782]\n",
      "mAUC: [0.980246, 0.978101, 0.981295, 0.980151, 0.980885, 0.979722]\n",
      "第4次运行:\n",
      "Gmean: [0.817886, 0.859798, 0.853379, 0.853129, 0.854691, 0.856485]\n",
      "mAUC: [0.980246, 0.981098, 0.97762, 0.978667, 0.979877, 0.980234]\n",
      "第5次运行:\n",
      "Gmean: [0.817886, 0.863259, 0.858892, 0.866001, 0.856061, 0.867128]\n",
      "mAUC: [0.980246, 0.978883, 0.9809, 0.982327, 0.981511, 0.980584]\n",
      "第6次运行:\n",
      "Gmean: [0.817886, 0.84399, 0.837502, 0.856532, 0.838599, 0.843793]\n",
      "mAUC: [0.980246, 0.979117, 0.978682, 0.980901, 0.975979, 0.979555]\n",
      "第7次运行:\n",
      "Gmean: [0.817886, 0.860562, 0.85208, 0.847998, 0.837535, 0.858243]\n",
      "mAUC: [0.980246, 0.980566, 0.979205, 0.979836, 0.976338, 0.980635]\n",
      "第8次运行:\n",
      "Gmean: [0.817886, 0.834742, 0.860716, 0.843245, 0.845248, 0.859179]\n",
      "mAUC: [0.980246, 0.977855, 0.98134, 0.978425, 0.979365, 0.980046]\n",
      "第9次运行:\n",
      "Gmean: [0.817886, 0.818156, 0.843257, 0.838149, 0.850746, 0.848121]\n",
      "mAUC: [0.980246, 0.979562, 0.977493, 0.980487, 0.979966, 0.977507]\n",
      "第10次运行:\n",
      "Gmean: [0.817886, 0.854977, 0.843954, 0.850094, 0.848368, 0.85332]\n",
      "mAUC: [0.980246, 0.980039, 0.97811, 0.979891, 0.978036, 0.978552]\n",
      "第11次运行:\n",
      "Gmean: [0.817886, 0.845658, 0.833706, 0.841689, 0.83944, 0.863199]\n",
      "mAUC: [0.980246, 0.978846, 0.975937, 0.976659, 0.980195, 0.981513]\n",
      "第12次运行:\n",
      "Gmean: [0.817886, 0.851051, 0.855767, 0.862423, 0.841656, 0.856655]\n",
      "mAUC: [0.980246, 0.976849, 0.979988, 0.978871, 0.978629, 0.982181]\n",
      "第13次运行:\n",
      "Gmean: [0.817886, 0.858089, 0.853914, 0.837977, 0.856024, 0.83685]\n",
      "mAUC: [0.980246, 0.978791, 0.978749, 0.975835, 0.980453, 0.977872]\n",
      "第14次运行:\n",
      "Gmean: [0.817886, 0.809052, 0.846094, 0.843494, 0.852683, 0.856986]\n",
      "mAUC: [0.980246, 0.977779, 0.9789, 0.977766, 0.978093, 0.980951]\n",
      "第15次运行:\n",
      "Gmean: [0.817886, 0.842752, 0.844812, 0.852961, 0.822409, 0.849255]\n",
      "mAUC: [0.980246, 0.977694, 0.978477, 0.980233, 0.974471, 0.977876]\n",
      "第16次运行:\n",
      "Gmean: [0.817886, 0.838217, 0.847835, 0.852506, 0.842955, 0.859703]\n",
      "mAUC: [0.980246, 0.979268, 0.981201, 0.979138, 0.978147, 0.978496]\n",
      "第17次运行:\n",
      "Gmean: [0.817886, 0.825255, 0.852921, 0.870496, 0.840818, 0.828544]\n",
      "mAUC: [0.980246, 0.980246, 0.980733, 0.982256, 0.979567, 0.978265]\n",
      "第18次运行:\n",
      "Gmean: [0.817886, 0.815799, 0.841129, 0.84765, 0.828111, 0.83272]\n",
      "mAUC: [0.980246, 0.978042, 0.97867, 0.978837, 0.978698, 0.978038]\n",
      "第19次运行:\n",
      "Gmean: [0.817886, 0.849628, 0.842701, 0.865102, 0.851981, 0.846003]\n",
      "mAUC: [0.980246, 0.979218, 0.977373, 0.980415, 0.978033, 0.978593]\n",
      "第20次运行:\n",
      "Gmean: [0.817886, 0.858316, 0.831207, 0.835242, 0.856216, 0.853975]\n",
      "mAUC: [0.980246, 0.980532, 0.976614, 0.976689, 0.978622, 0.97937]\n",
      "第21次运行:\n",
      "Gmean: [0.817886, 0.79825, 0.846244, 0.838904, 0.845431, 0.85517]\n",
      "mAUC: [0.980246, 0.975356, 0.979483, 0.975295, 0.977963, 0.979664]\n",
      "第22次运行:\n",
      "Gmean: [0.817886, 0.855953, 0.829615, 0.857918, 0.862665, 0.86353]\n",
      "mAUC: [0.980246, 0.978294, 0.976272, 0.980913, 0.980943, 0.981893]\n",
      "第23次运行:\n",
      "Gmean: [0.817886, 0.849628, 0.842701, 0.865102, 0.861347, 0.846484]\n",
      "mAUC: [0.980246, 0.979218, 0.977373, 0.980415, 0.980927, 0.977309]\n",
      "第24次运行:\n",
      "Gmean: [0.817886, 0.845755, 0.844876, 0.868576, 0.841897, 0.848435]\n",
      "mAUC: [0.980246, 0.977128, 0.979244, 0.9812, 0.978845, 0.979414]\n",
      "第25次运行:\n",
      "Gmean: [0.817886, 0.839191, 0.845043, 0.852579, 0.860759, 0.849275]\n",
      "mAUC: [0.980246, 0.979375, 0.976767, 0.98048, 0.980096, 0.97673]\n",
      "第26次运行:\n",
      "Gmean: [0.817886, 0.847744, 0.85048, 0.855486, 0.866996, 0.855657]\n",
      "mAUC: [0.980246, 0.978346, 0.979662, 0.98032, 0.981714, 0.980612]\n",
      "第27次运行:\n",
      "Gmean: [0.817886, 0.851054, 0.841251, 0.831186, 0.851182, 0.854339]\n",
      "mAUC: [0.980246, 0.979103, 0.977785, 0.978004, 0.978364, 0.978628]\n",
      "第28次运行:\n",
      "Gmean: [0.817886, 0.861374, 0.843721, 0.861327, 0.853006, 0.858736]\n",
      "mAUC: [0.980246, 0.980744, 0.977039, 0.981803, 0.979625, 0.980375]\n",
      "第29次运行:\n",
      "Gmean: [0.817886, 0.855816, 0.849449, 0.8241, 0.841357, 0.851873]\n",
      "mAUC: [0.980246, 0.978927, 0.978838, 0.976966, 0.977783, 0.980743]\n",
      "第30次运行:\n",
      "Gmean: [0.817886, 0.854894, 0.841045, 0.860729, 0.851827, 0.857379]\n",
      "mAUC: [0.980246, 0.979198, 0.977346, 0.982644, 0.97935, 0.978007]\n",
      "Excel 文件已保存至: C:/Users/zsc/Desktop/Sampling/Satellite/Satellite.xlsx\n"
     ]
    },
    {
     "data": {
      "text/plain": [
       "'C:/Users/zsc/Desktop/Sampling/Satellite/Satellite.xlsx'"
      ]
     },
     "execution_count": 5,
     "metadata": {},
     "output_type": "execute_result"
    }
   ],
   "execution_count": 5
  },
  {
   "metadata": {
    "ExecuteTime": {
     "end_time": "2025-04-05T14:37:16.033794Z",
     "start_time": "2025-04-05T14:37:16.018970Z"
    }
   },
   "cell_type": "code",
   "source": [
    "# 输出平均值\n",
    "print(np.mean(gmean_results, axis=0))\n",
    "print(np.mean(mauc_results, axis=0))"
   ],
   "id": "e4e8815c3dd98a1d",
   "outputs": [
    {
     "name": "stdout",
     "output_type": "stream",
     "text": [
      "[0.817886   0.84420013 0.84657697 0.85134413 0.84788453 0.85257133]\n",
      "[0.980246   0.97883863 0.97871043 0.97947473 0.97884577 0.97945147]\n"
     ]
    }
   ],
   "execution_count": 6
  }
 ],
 "metadata": {
  "kernelspec": {
   "display_name": "Python 3",
   "language": "python",
   "name": "python3"
  },
  "language_info": {
   "codemirror_mode": {
    "name": "ipython",
    "version": 2
   },
   "file_extension": ".py",
   "mimetype": "text/x-python",
   "name": "python",
   "nbconvert_exporter": "python",
   "pygments_lexer": "ipython2",
   "version": "2.7.6"
  }
 },
 "nbformat": 4,
 "nbformat_minor": 5
}
