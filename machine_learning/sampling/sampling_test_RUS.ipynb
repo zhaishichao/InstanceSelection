{
 "cells": [
  {
   "cell_type": "code",
   "id": "initial_id",
   "metadata": {
    "collapsed": true,
    "ExecuteTime": {
     "end_time": "2025-04-05T14:39:25.740606Z",
     "start_time": "2025-04-05T14:38:20.399800Z"
    }
   },
   "source": [
    "from utils.excel_utils import save_to_excel\n",
    "from machine_learning.sampling.sample import sample_dataset\n",
    "from sklearn.neural_network import MLPClassifier\n",
    "from instance_selection.parameter.parameter import *  # 导入参数的设定\n",
    "from sklearn.model_selection import train_test_split\n",
    "import scipy.io as sio  # 从.mat文件中读取数据集\n",
    "import numpy as np\n",
    "import warnings\n",
    "from sklearn.base import clone\n",
    "\n",
    "warnings.filterwarnings(\"ignore\")  # 忽略警告\n",
    "\n",
    "DATASET = Satellite  # 数据集名称（包含对应参数的字典形式）\n",
    "datasetname = DATASET.DATASETNAME.split('.')[0]\n",
    "\n",
    "# 加载、划分数据集\n",
    "mat_data = sio.loadmat(IMBALANCED_DATASET_PATH + DATASET.DATASETNAME)\n",
    "x = mat_data['X']\n",
    "y = mat_data['Y'][:, 0]  # mat_data['Y']得到的形状为[n,1]，通过[:,0]，得到形状[n,]\n",
    "\n",
    "num_run = 30  # 运行次数\n",
    "\n",
    "gmean_results = []\n",
    "mauc_results = []\n",
    "\n",
    "model = MLPClassifier(hidden_layer_sizes=(DATASET.HIDDEN_SIZE,), max_iter=DATASET.MAX_ITER,\n",
    "                      random_state=RANDOM_SEED, learning_rate_init=DATASET.LEARNING_RATE)\n",
    "\n",
    "for i in range(num_run):\n",
    "    random_state = RANDOM_SEED + np.random.randint(1, 1000)\n",
    "    x_train, x_test, y_train, y_test = train_test_split(x, y, test_size=0.3,stratify=y,\n",
    "                                                        random_state=RANDOM_SEED)  # 划分数据集\n",
    "    gmean_ros, mauc_ros = sample_dataset(clone(model), x_train, x_test, y_train, y_test,\n",
    "                                         random_state + np.random.randint(1, 10000), method='ROS')\n",
    "    gmean_rus, mauc_rus = sample_dataset(clone(model), x_train, x_test, y_train, y_test,\n",
    "                                         random_state + np.random.randint(1, 10000), method='RUS')\n",
    "    gmean_nos, mauc_nos = sample_dataset(clone(model), x_train, x_test, y_train, y_test,\n",
    "                                         random_state + np.random.randint(1, 10000), method='NOS')\n",
    "    gmean_smote, mauc_smote = sample_dataset(clone(model), x_train, x_test, y_train, y_test,\n",
    "                                             random_state + np.random.randint(1, 10000),\n",
    "                                             method='SMOTE')\n",
    "    # gmean_adasyn, mauc_adasyn = sample_dataset(clone(model), x_train, x_test, y_train, y_test, random_state, method='ADASYN')\n",
    "    gmean_borderlinesmote1, mauc_borderlinesmote1 = sample_dataset(clone(model), x_train, x_test, y_train, y_test,\n",
    "                                                                   random_state + np.random.randint(1, 10000),\n",
    "                                                                   method='BorderlineSMOTE')\n",
    "    gmean_kmeanssmote, mauc_kmeanssmote = sample_dataset(clone(model), x_train, x_test, y_train, y_test,\n",
    "                                                         random_state + np.random.randint(1, 10000),\n",
    "                                                         method='KMeansSMOTE')\n",
    "    gmean = [gmean_nos, gmean_rus, gmean_ros, gmean_smote, gmean_borderlinesmote1, gmean_kmeanssmote]\n",
    "    mauc = [mauc_nos, mauc_rus, mauc_ros, mauc_smote, mauc_borderlinesmote1, mauc_kmeanssmote]\n",
    "    gmean_results.append(gmean)\n",
    "    mauc_results.append(mauc)\n",
    "    # 输出结果\n",
    "    print(f'第{i + 1}次运行:')\n",
    "    print(f'Gmean: {gmean}')\n",
    "    print(f'mAUC: {mauc}')\n",
    "\n",
    "columns = ['NOS', 'RUS', 'ROS', 'SMOTE', 'BorderlineSMOTE', 'KMeansSMOTE']\n",
    "\n",
    "save_path = 'C:/Users/zsc/Desktop/Sampling/' + datasetname + '/'\n",
    "filename = datasetname\n",
    "save_to_excel(save_path, filename, columns, gmean_results, mauc_results)"
   ],
   "outputs": [
    {
     "name": "stdout",
     "output_type": "stream",
     "text": [
      "第1次运行:\n",
      "Gmean: [0.817886, 0.851755, 0.844543, 0.847962, 0.83701, 0.839301]\n",
      "mAUC: [0.980246, 0.978063, 0.979926, 0.978626, 0.974184, 0.979717]\n",
      "第2次运行:\n",
      "Gmean: [0.817886, 0.84284, 0.838384, 0.84511, 0.850273, 0.856817]\n",
      "mAUC: [0.980246, 0.97899, 0.97925, 0.978533, 0.975828, 0.980869]\n",
      "第3次运行:\n",
      "Gmean: [0.817886, 0.829832, 0.849452, 0.861016, 0.808377, 0.847005]\n",
      "mAUC: [0.980246, 0.975335, 0.977496, 0.979958, 0.978399, 0.980484]\n",
      "第4次运行:\n",
      "Gmean: [0.817886, 0.848951, 0.812945, 0.826817, 0.812791, 0.846882]\n",
      "mAUC: [0.980246, 0.979974, 0.972677, 0.976793, 0.9741, 0.979334]\n",
      "第5次运行:\n",
      "Gmean: [0.817886, 0.828542, 0.857995, 0.860619, 0.848941, 0.849538]\n",
      "mAUC: [0.980246, 0.977609, 0.977811, 0.981106, 0.977013, 0.97805]\n",
      "第6次运行:\n",
      "Gmean: [0.817886, 0.84955, 0.84367, 0.858097, 0.848816, 0.829101]\n",
      "mAUC: [0.980246, 0.977199, 0.977574, 0.979922, 0.977816, 0.974779]\n",
      "第7次运行:\n",
      "Gmean: [0.817886, 0.846432, 0.834178, 0.860475, 0.834233, 0.845619]\n",
      "mAUC: [0.980246, 0.9789, 0.976577, 0.980716, 0.978956, 0.977563]\n",
      "第8次运行:\n",
      "Gmean: [0.817886, 0.815831, 0.852678, 0.84394, 0.859858, 0.844735]\n",
      "mAUC: [0.980246, 0.977557, 0.981955, 0.979154, 0.980892, 0.979182]\n",
      "第9次运行:\n",
      "Gmean: [0.817886, 0.855098, 0.857675, 0.841836, 0.852509, 0.855148]\n",
      "mAUC: [0.980246, 0.979799, 0.981603, 0.977675, 0.978099, 0.978389]\n",
      "第10次运行:\n",
      "Gmean: [0.817886, 0.787837, 0.858079, 0.858764, 0.840985, 0.851094]\n",
      "mAUC: [0.980246, 0.965639, 0.982401, 0.980768, 0.977349, 0.978209]\n",
      "第11次运行:\n",
      "Gmean: [0.817886, 0.858146, 0.853892, 0.842938, 0.837592, 0.85293]\n",
      "mAUC: [0.980246, 0.980821, 0.979033, 0.978365, 0.975261, 0.978647]\n",
      "第12次运行:\n",
      "Gmean: [0.817886, 0.865405, 0.865148, 0.853837, 0.840001, 0.849375]\n",
      "mAUC: [0.980246, 0.981783, 0.981422, 0.978741, 0.977317, 0.977432]\n",
      "第13次运行:\n",
      "Gmean: [0.817886, 0.840906, 0.825887, 0.850831, 0.803208, 0.839572]\n",
      "mAUC: [0.980246, 0.97771, 0.975743, 0.979886, 0.968384, 0.977613]\n",
      "第14次运行:\n",
      "Gmean: [0.817886, 0.832048, 0.807962, 0.84792, 0.834294, 0.856713]\n",
      "mAUC: [0.980246, 0.97922, 0.979514, 0.978869, 0.975729, 0.977385]\n",
      "第15次运行:\n",
      "Gmean: [0.817886, 0.823925, 0.84375, 0.839503, 0.797806, 0.856014]\n",
      "mAUC: [0.980246, 0.97265, 0.977746, 0.97678, 0.976449, 0.980723]\n",
      "第16次运行:\n",
      "Gmean: [0.817886, 0.838465, 0.838113, 0.842794, 0.83249, 0.840847]\n",
      "mAUC: [0.980246, 0.979238, 0.97551, 0.978209, 0.976563, 0.975569]\n",
      "第17次运行:\n",
      "Gmean: [0.817886, 0.844911, 0.841813, 0.842438, 0.850968, 0.855053]\n",
      "mAUC: [0.980246, 0.978108, 0.978074, 0.977475, 0.97834, 0.980447]\n",
      "第18次运行:\n",
      "Gmean: [0.817886, 0.824891, 0.85655, 0.848927, 0.855105, 0.860587]\n",
      "mAUC: [0.980246, 0.97705, 0.980317, 0.979931, 0.981049, 0.982381]\n",
      "第19次运行:\n",
      "Gmean: [0.817886, 0.804267, 0.847631, 0.846348, 0.846682, 0.858026]\n",
      "mAUC: [0.980246, 0.979604, 0.978712, 0.977937, 0.978281, 0.980326]\n",
      "第20次运行:\n",
      "Gmean: [0.817886, 0.871448, 0.850414, 0.852159, 0.850537, 0.845424]\n",
      "mAUC: [0.980246, 0.982486, 0.980383, 0.978903, 0.979436, 0.978357]\n",
      "第21次运行:\n",
      "Gmean: [0.817886, 0.80068, 0.865599, 0.850458, 0.845808, 0.847744]\n",
      "mAUC: [0.980246, 0.975683, 0.982172, 0.980899, 0.977642, 0.979084]\n",
      "第22次运行:\n",
      "Gmean: [0.817886, 0.82838, 0.85353, 0.840752, 0.85902, 0.863603]\n",
      "mAUC: [0.980246, 0.975973, 0.979431, 0.978229, 0.980127, 0.980086]\n",
      "第23次运行:\n",
      "Gmean: [0.817886, 0.818739, 0.850112, 0.841945, 0.853277, 0.843896]\n",
      "mAUC: [0.980246, 0.975896, 0.977595, 0.97859, 0.980287, 0.979971]\n",
      "第24次运行:\n",
      "Gmean: [0.817886, 0.858394, 0.844748, 0.84636, 0.85381, 0.856978]\n",
      "mAUC: [0.980246, 0.981012, 0.977593, 0.97914, 0.980043, 0.978567]\n",
      "第25次运行:\n",
      "Gmean: [0.817886, 0.787837, 0.849951, 0.850333, 0.826104, 0.864058]\n",
      "mAUC: [0.980246, 0.965639, 0.978637, 0.977672, 0.979628, 0.98015]\n",
      "第26次运行:\n",
      "Gmean: [0.817886, 0.80446, 0.849508, 0.833409, 0.847788, 0.861323]\n",
      "mAUC: [0.980246, 0.978101, 0.978019, 0.978289, 0.973765, 0.981838]\n",
      "第27次运行:\n",
      "Gmean: [0.817886, 0.857595, 0.852471, 0.866086, 0.860836, 0.852102]\n",
      "mAUC: [0.980246, 0.981461, 0.979598, 0.981818, 0.978729, 0.978449]\n",
      "第28次运行:\n",
      "Gmean: [0.817886, 0.857943, 0.856999, 0.841705, 0.850923, 0.859936]\n",
      "mAUC: [0.980246, 0.980062, 0.978233, 0.980437, 0.976606, 0.980238]\n",
      "第29次运行:\n",
      "Gmean: [0.817886, 0.846781, 0.856083, 0.831562, 0.849817, 0.853523]\n",
      "mAUC: [0.980246, 0.97849, 0.98024, 0.973854, 0.980935, 0.980029]\n",
      "第30次运行:\n",
      "Gmean: [0.817886, 0.849644, 0.850972, 0.862145, 0.849995, 0.852372]\n",
      "mAUC: [0.980246, 0.979601, 0.978374, 0.981, 0.979439, 0.980019]\n",
      "Excel 文件已保存至: C:/Users/zsc/Desktop/Sampling/Satellite/Satellite.xlsx\n"
     ]
    },
    {
     "data": {
      "text/plain": [
       "'C:/Users/zsc/Desktop/Sampling/Satellite/Satellite.xlsx'"
      ]
     },
     "execution_count": 1,
     "metadata": {},
     "output_type": "execute_result"
    }
   ],
   "execution_count": 1
  },
  {
   "metadata": {
    "ExecuteTime": {
     "end_time": "2025-04-05T14:39:25.758470Z",
     "start_time": "2025-04-05T14:39:25.740606Z"
    }
   },
   "cell_type": "code",
   "source": [
    "# 输出平均值\n",
    "print(np.mean(gmean_results, axis=0))\n",
    "print(np.mean(mauc_results, axis=0))"
   ],
   "id": "e4e8815c3dd98a1d",
   "outputs": [
    {
     "name": "stdout",
     "output_type": "stream",
     "text": [
      "[0.817886   0.83571777 0.8470244  0.84790287 0.84132847 0.8511772 ]\n",
      "[0.980246   0.9776551  0.9787872  0.9789425  0.97755487 0.97912957]\n"
     ]
    }
   ],
   "execution_count": 2
  },
  {
   "metadata": {
    "ExecuteTime": {
     "end_time": "2025-04-05T14:39:25.774358Z",
     "start_time": "2025-04-05T14:39:25.758470Z"
    }
   },
   "cell_type": "code",
   "source": [
    "save_path = 'C:/Users/zsc/Desktop/Sampling/' + datasetname + '/'\n",
    "filename = datasetname\n",
    "save_to_excel(save_path, filename, columns, gmean_results, mauc_results)"
   ],
   "id": "9e80a700670282f9",
   "outputs": [
    {
     "name": "stdout",
     "output_type": "stream",
     "text": [
      "Excel 文件已保存至: C:/Users/zsc/Desktop/Sampling/Satellite/Satellite.xlsx\n"
     ]
    },
    {
     "data": {
      "text/plain": [
       "'C:/Users/zsc/Desktop/Sampling/Satellite/Satellite.xlsx'"
      ]
     },
     "execution_count": 3,
     "metadata": {},
     "output_type": "execute_result"
    }
   ],
   "execution_count": 3
  }
 ],
 "metadata": {
  "kernelspec": {
   "display_name": "Python 3",
   "language": "python",
   "name": "python3"
  },
  "language_info": {
   "codemirror_mode": {
    "name": "ipython",
    "version": 2
   },
   "file_extension": ".py",
   "mimetype": "text/x-python",
   "name": "python",
   "nbconvert_exporter": "python",
   "pygments_lexer": "ipython2",
   "version": "2.7.6"
  }
 },
 "nbformat": 4,
 "nbformat_minor": 5
}
