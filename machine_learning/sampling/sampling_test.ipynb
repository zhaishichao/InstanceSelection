{
 "cells": [
  {
   "cell_type": "code",
   "execution_count": 122,
   "id": "initial_id",
   "metadata": {
    "collapsed": true,
    "ExecuteTime": {
     "end_time": "2025-03-18T04:09:30.442903Z",
     "start_time": "2025-03-18T04:09:29.769581Z"
    }
   },
   "outputs": [
    {
     "name": "stdout",
     "output_type": "stream",
     "text": [
      "第1次运行:\n",
      "Gmean: [0.867204, 0.725969, 0.886062, 0.881423, 0.90059, 0.867204]\n",
      "mAUC: [0.953261, 0.91558, 0.936232, 0.951087, 0.939493, 0.943841]\n",
      "第2次运行:\n",
      "Gmean: [0.867204, 0.0, 0.886062, 0.90059, 0.914664, 0.895197]\n",
      "mAUC: [0.953261, 0.83442, 0.92971, 0.930072, 0.958333, 0.942029]\n"
     ]
    },
    {
     "ename": "RuntimeError",
     "evalue": "No clusters found with sufficient samples of class 0. Try lowering the cluster_balance_threshold or increasing the number of clusters.",
     "output_type": "error",
     "traceback": [
      "\u001B[1;31m---------------------------------------------------------------------------\u001B[0m",
      "\u001B[1;31mRuntimeError\u001B[0m                              Traceback (most recent call last)",
      "Cell \u001B[1;32mIn[122], line 41\u001B[0m\n\u001B[0;32m     38\u001B[0m \u001B[38;5;66;03m# gmean_adasyn, mauc_adasyn = sample_dataset(clone(model), x_train, x_test, y_train, y_test, random_state, method='ADASYN')\u001B[39;00m\n\u001B[0;32m     39\u001B[0m gmean_borderlinesmote1, mauc_borderlinesmote1 \u001B[38;5;241m=\u001B[39m sample_dataset(clone(model), x_train, x_test, y_train, y_test,\n\u001B[0;32m     40\u001B[0m                                                                random_state, method\u001B[38;5;241m=\u001B[39m\u001B[38;5;124m'\u001B[39m\u001B[38;5;124mBorderlineSMOTE\u001B[39m\u001B[38;5;124m'\u001B[39m)\n\u001B[1;32m---> 41\u001B[0m gmean_kmeanssmote, mauc_kmeanssmote \u001B[38;5;241m=\u001B[39m \u001B[43msample_dataset\u001B[49m\u001B[43m(\u001B[49m\u001B[43mclone\u001B[49m\u001B[43m(\u001B[49m\u001B[43mmodel\u001B[49m\u001B[43m)\u001B[49m\u001B[43m,\u001B[49m\u001B[43m \u001B[49m\u001B[43mx_train\u001B[49m\u001B[43m,\u001B[49m\u001B[43m \u001B[49m\u001B[43mx_test\u001B[49m\u001B[43m,\u001B[49m\u001B[43m \u001B[49m\u001B[43my_train\u001B[49m\u001B[43m,\u001B[49m\u001B[43m \u001B[49m\u001B[43my_test\u001B[49m\u001B[43m,\u001B[49m\u001B[43m \u001B[49m\u001B[43mrandom_state\u001B[49m\u001B[43m,\u001B[49m\n\u001B[0;32m     42\u001B[0m \u001B[43m                                                     \u001B[49m\u001B[43mmethod\u001B[49m\u001B[38;5;241;43m=\u001B[39;49m\u001B[38;5;124;43m'\u001B[39;49m\u001B[38;5;124;43mKMeansSMOTE\u001B[39;49m\u001B[38;5;124;43m'\u001B[39;49m\u001B[43m)\u001B[49m\n\u001B[0;32m     44\u001B[0m gmean \u001B[38;5;241m=\u001B[39m [gmean_nos, gmean_rus, gmean_ros, gmean_smote, gmean_borderlinesmote1, gmean_kmeanssmote]\n\u001B[0;32m     45\u001B[0m mauc \u001B[38;5;241m=\u001B[39m [mauc_nos, mauc_rus, mauc_ros, mauc_smote, mauc_borderlinesmote1, mauc_kmeanssmote]\n",
      "File \u001B[1;32mD:\\Develop\\WorkSpace\\Python\\InstanceSelection\\machine_learning\\sampling\\sample.py:38\u001B[0m, in \u001B[0;36msample_dataset\u001B[1;34m(model, x_train, x_test, y_train, y_test, random_seed, method)\u001B[0m\n\u001B[0;32m     36\u001B[0m     x_train, y_train \u001B[38;5;241m=\u001B[39m BorderlineSMOTE(random_state\u001B[38;5;241m=\u001B[39mrandom_seed, k_neighbors\u001B[38;5;241m=\u001B[39m\u001B[38;5;241m2\u001B[39m)\u001B[38;5;241m.\u001B[39mfit_resample(x_train, y_train)\n\u001B[0;32m     37\u001B[0m \u001B[38;5;28;01mif\u001B[39;00m method \u001B[38;5;241m==\u001B[39m \u001B[38;5;124m'\u001B[39m\u001B[38;5;124mKMeansSMOTE\u001B[39m\u001B[38;5;124m'\u001B[39m:\n\u001B[1;32m---> 38\u001B[0m     x_train, y_train \u001B[38;5;241m=\u001B[39m \u001B[43mKMeansSMOTE\u001B[49m\u001B[43m(\u001B[49m\u001B[43mrandom_state\u001B[49m\u001B[38;5;241;43m=\u001B[39;49m\u001B[43mrandom_seed\u001B[49m\u001B[43m,\u001B[49m\u001B[43m \u001B[49m\u001B[43mcluster_balance_threshold\u001B[49m\u001B[38;5;241;43m=\u001B[39;49m\u001B[38;5;241;43m0.2\u001B[39;49m\u001B[43m)\u001B[49m\u001B[38;5;241;43m.\u001B[39;49m\u001B[43mfit_resample\u001B[49m\u001B[43m(\u001B[49m\u001B[43mx_train\u001B[49m\u001B[43m,\u001B[49m\n\u001B[0;32m     39\u001B[0m \u001B[43m                                                                                                       \u001B[49m\u001B[43my_train\u001B[49m\u001B[43m)\u001B[49m\n\u001B[0;32m     40\u001B[0m gmean, mauc \u001B[38;5;241m=\u001B[39m train_and_test(model, x_train, x_test, y_train, y_test)\n\u001B[0;32m     41\u001B[0m \u001B[38;5;28;01mreturn\u001B[39;00m gmean, mauc\n",
      "File \u001B[1;32mD:\\IDE\\Anaconda\\envs\\pytorch\\lib\\site-packages\\imblearn\\base.py:208\u001B[0m, in \u001B[0;36mBaseSampler.fit_resample\u001B[1;34m(self, X, y)\u001B[0m\n\u001B[0;32m    187\u001B[0m \u001B[38;5;250m\u001B[39m\u001B[38;5;124;03m\"\"\"Resample the dataset.\u001B[39;00m\n\u001B[0;32m    188\u001B[0m \n\u001B[0;32m    189\u001B[0m \u001B[38;5;124;03mParameters\u001B[39;00m\n\u001B[1;32m   (...)\u001B[0m\n\u001B[0;32m    205\u001B[0m \u001B[38;5;124;03m    The corresponding label of `X_resampled`.\u001B[39;00m\n\u001B[0;32m    206\u001B[0m \u001B[38;5;124;03m\"\"\"\u001B[39;00m\n\u001B[0;32m    207\u001B[0m \u001B[38;5;28mself\u001B[39m\u001B[38;5;241m.\u001B[39m_validate_params()\n\u001B[1;32m--> 208\u001B[0m \u001B[38;5;28;01mreturn\u001B[39;00m \u001B[38;5;28;43msuper\u001B[39;49m\u001B[43m(\u001B[49m\u001B[43m)\u001B[49m\u001B[38;5;241;43m.\u001B[39;49m\u001B[43mfit_resample\u001B[49m\u001B[43m(\u001B[49m\u001B[43mX\u001B[49m\u001B[43m,\u001B[49m\u001B[43m \u001B[49m\u001B[43my\u001B[49m\u001B[43m)\u001B[49m\n",
      "File \u001B[1;32mD:\\IDE\\Anaconda\\envs\\pytorch\\lib\\site-packages\\imblearn\\base.py:112\u001B[0m, in \u001B[0;36mSamplerMixin.fit_resample\u001B[1;34m(self, X, y)\u001B[0m\n\u001B[0;32m    106\u001B[0m X, y, binarize_y \u001B[38;5;241m=\u001B[39m \u001B[38;5;28mself\u001B[39m\u001B[38;5;241m.\u001B[39m_check_X_y(X, y)\n\u001B[0;32m    108\u001B[0m \u001B[38;5;28mself\u001B[39m\u001B[38;5;241m.\u001B[39msampling_strategy_ \u001B[38;5;241m=\u001B[39m check_sampling_strategy(\n\u001B[0;32m    109\u001B[0m     \u001B[38;5;28mself\u001B[39m\u001B[38;5;241m.\u001B[39msampling_strategy, y, \u001B[38;5;28mself\u001B[39m\u001B[38;5;241m.\u001B[39m_sampling_type\n\u001B[0;32m    110\u001B[0m )\n\u001B[1;32m--> 112\u001B[0m output \u001B[38;5;241m=\u001B[39m \u001B[38;5;28;43mself\u001B[39;49m\u001B[38;5;241;43m.\u001B[39;49m\u001B[43m_fit_resample\u001B[49m\u001B[43m(\u001B[49m\u001B[43mX\u001B[49m\u001B[43m,\u001B[49m\u001B[43m \u001B[49m\u001B[43my\u001B[49m\u001B[43m)\u001B[49m\n\u001B[0;32m    114\u001B[0m y_ \u001B[38;5;241m=\u001B[39m (\n\u001B[0;32m    115\u001B[0m     label_binarize(output[\u001B[38;5;241m1\u001B[39m], classes\u001B[38;5;241m=\u001B[39mnp\u001B[38;5;241m.\u001B[39munique(y)) \u001B[38;5;28;01mif\u001B[39;00m binarize_y \u001B[38;5;28;01melse\u001B[39;00m output[\u001B[38;5;241m1\u001B[39m]\n\u001B[0;32m    116\u001B[0m )\n\u001B[0;32m    118\u001B[0m X_, y_ \u001B[38;5;241m=\u001B[39m arrays_transformer\u001B[38;5;241m.\u001B[39mtransform(output[\u001B[38;5;241m0\u001B[39m], y_)\n",
      "File \u001B[1;32mD:\\IDE\\Anaconda\\envs\\pytorch\\lib\\site-packages\\imblearn\\over_sampling\\_smote\\cluster.py:269\u001B[0m, in \u001B[0;36mKMeansSMOTE._fit_resample\u001B[1;34m(self, X, y)\u001B[0m\n\u001B[0;32m    266\u001B[0m cluster_weights \u001B[38;5;241m=\u001B[39m cluster_sparsities \u001B[38;5;241m/\u001B[39m cluster_sparsities\u001B[38;5;241m.\u001B[39msum()\n\u001B[0;32m    268\u001B[0m \u001B[38;5;28;01mif\u001B[39;00m \u001B[38;5;129;01mnot\u001B[39;00m valid_clusters:\n\u001B[1;32m--> 269\u001B[0m     \u001B[38;5;28;01mraise\u001B[39;00m \u001B[38;5;167;01mRuntimeError\u001B[39;00m(\n\u001B[0;32m    270\u001B[0m         \u001B[38;5;124mf\u001B[39m\u001B[38;5;124m\"\u001B[39m\u001B[38;5;124mNo clusters found with sufficient samples of \u001B[39m\u001B[38;5;124m\"\u001B[39m\n\u001B[0;32m    271\u001B[0m         \u001B[38;5;124mf\u001B[39m\u001B[38;5;124m\"\u001B[39m\u001B[38;5;124mclass \u001B[39m\u001B[38;5;132;01m{\u001B[39;00mclass_sample\u001B[38;5;132;01m}\u001B[39;00m\u001B[38;5;124m. Try lowering the \u001B[39m\u001B[38;5;124m\"\u001B[39m\n\u001B[0;32m    272\u001B[0m         \u001B[38;5;124mf\u001B[39m\u001B[38;5;124m\"\u001B[39m\u001B[38;5;124mcluster_balance_threshold or increasing the number of \u001B[39m\u001B[38;5;124m\"\u001B[39m\n\u001B[0;32m    273\u001B[0m         \u001B[38;5;124mf\u001B[39m\u001B[38;5;124m\"\u001B[39m\u001B[38;5;124mclusters.\u001B[39m\u001B[38;5;124m\"\u001B[39m\n\u001B[0;32m    274\u001B[0m     )\n\u001B[0;32m    276\u001B[0m \u001B[38;5;28;01mfor\u001B[39;00m valid_cluster_idx, valid_cluster \u001B[38;5;129;01min\u001B[39;00m \u001B[38;5;28menumerate\u001B[39m(valid_clusters):\n\u001B[0;32m    277\u001B[0m     X_cluster \u001B[38;5;241m=\u001B[39m _safe_indexing(X, valid_cluster)\n",
      "\u001B[1;31mRuntimeError\u001B[0m: No clusters found with sufficient samples of class 0. Try lowering the cluster_balance_threshold or increasing the number of clusters."
     ]
    }
   ],
   "source": [
    "from utils.excel_utils import save_to_excel\n",
    "from machine_learning.sampling.sample import sample_dataset\n",
    "from sklearn.neural_network import MLPClassifier\n",
    "from instance_selection.parameter.parameter import *  # 导入参数的设定\n",
    "from sklearn.model_selection import train_test_split\n",
    "import scipy.io as sio  # 从.mat文件中读取数据集\n",
    "import numpy as np\n",
    "import warnings\n",
    "from sklearn.base import clone\n",
    "\n",
    "warnings.filterwarnings(\"ignore\")  # 忽略警告\n",
    "\n",
    "DATASET = Lymphography  # 数据集名称（包含对应参数的字典形式）\n",
    "datasetname = DATASET.DATASETNAME.split('.')[0]\n",
    "\n",
    "# 加载、划分数据集\n",
    "mat_data = sio.loadmat(IMBALANCED_DATASET_PATH + DATASET.DATASETNAME)\n",
    "x = mat_data['X']\n",
    "y = mat_data['Y'][:, 0]  # mat_data['Y']得到的形状为[n,1]，通过[:,0]，得到形状[n,]\n",
    "\n",
    "num_run = 30  # 运行次数\n",
    "\n",
    "gmean_results = []\n",
    "mauc_results = []\n",
    "\n",
    "model = MLPClassifier(hidden_layer_sizes=(DATASET.HIDDEN_SIZE,), max_iter=DATASET.MAX_ITER,\n",
    "                      random_state=RANDOM_SEED, learning_rate_init=DATASET.LEARNING_RATE)\n",
    "\n",
    "for i in range(num_run):\n",
    "    random_state = RANDOM_SEED + np.random.randint(1, 1000)\n",
    "    x_train, x_test, y_train, y_test = train_test_split(x, y, test_size=0.3, random_state=RANDOM_SEED)  # 划分数据集\n",
    "\n",
    "    gmean_ros, mauc_ros = sample_dataset(clone(model), x_train, x_test, y_train, y_test, random_state, method='ROS')\n",
    "    gmean_rus, mauc_rus = sample_dataset(clone(model), x_train, x_test, y_train, y_test, random_state, method='RUS')\n",
    "    gmean_nos, mauc_nos = sample_dataset(clone(model), x_train, x_test, y_train, y_test, random_state, method='NOS')\n",
    "    gmean_smote, mauc_smote = sample_dataset(clone(model), x_train, x_test, y_train, y_test, random_state,\n",
    "                                             method='SMOTE')\n",
    "    # gmean_adasyn, mauc_adasyn = sample_dataset(clone(model), x_train, x_test, y_train, y_test, random_state, method='ADASYN')\n",
    "    gmean_borderlinesmote1, mauc_borderlinesmote1 = sample_dataset(clone(model), x_train, x_test, y_train, y_test,\n",
    "                                                                   random_state, method='BorderlineSMOTE')\n",
    "    gmean_kmeanssmote, mauc_kmeanssmote = sample_dataset(clone(model), x_train, x_test, y_train, y_test, random_state,\n",
    "                                                         method='KMeansSMOTE')\n",
    "\n",
    "    gmean = [gmean_nos, gmean_rus, gmean_ros, gmean_smote, gmean_borderlinesmote1, gmean_kmeanssmote]\n",
    "    mauc = [mauc_nos, mauc_rus, mauc_ros, mauc_smote, mauc_borderlinesmote1, mauc_kmeanssmote]\n",
    "    gmean_results.append(gmean)\n",
    "    mauc_results.append(mauc)\n",
    "    # 输出结果\n",
    "    print(f'第{i+1}次运行:')\n",
    "    print(f'Gmean: {gmean}')\n",
    "    print(f'mAUC: {mauc}')\n",
    "\n",
    "columns = ['NOS', 'RUS', 'ROS', 'SMOTE', 'BorderlineSMOTE', 'KMeansSMOTE']\n",
    "\n",
    "save_path = 'C:/Users/zsc/Desktop/experiment/' + datasetname + '/'\n",
    "filename = datasetname\n",
    "save_to_excel(save_path, filename, columns, gmean_results, mauc_results)"
   ]
  }
 ],
 "metadata": {
  "kernelspec": {
   "display_name": "Python 3",
   "language": "python",
   "name": "python3"
  },
  "language_info": {
   "codemirror_mode": {
    "name": "ipython",
    "version": 2
   },
   "file_extension": ".py",
   "mimetype": "text/x-python",
   "name": "python",
   "nbconvert_exporter": "python",
   "pygments_lexer": "ipython2",
   "version": "2.7.6"
  }
 },
 "nbformat": 4,
 "nbformat_minor": 5
}
