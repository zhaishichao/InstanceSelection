{
 "cells": [
  {
   "cell_type": "markdown",
   "source": [
    "##  不同的采样方式"
   ],
   "metadata": {
    "collapsed": false
   },
   "id": "3aa64c945435d8ec"
  },
  {
   "cell_type": "code",
   "outputs": [],
   "source": [
    "from instance_selection.operator.metrics import calculate_gmean_mauc\n",
    "from sklearn.neural_network import MLPClassifier\n",
    "from utils.dataset_utils import get_distribution\n",
    "from instance_selection.parameter.parameter import *  # 导入参数的设定\n",
    "from sklearn.preprocessing import StandardScaler\n",
    "from sklearn.model_selection import train_test_split\n",
    "import scipy.io as sio  # 从.mat文件中读取数据集\n",
    "import random\n",
    "import warnings\n",
    "\n",
    "warnings.filterwarnings(\"ignore\")  # 忽略警告\n",
    "\n",
    "DATASET = German  # 数据集名称（包含对应参数的字典形式）\n",
    "datasetname = DATASET['DATASETNAME'].split('.')[0]\n",
    "\n",
    "# 加载、划分数据集\n",
    "mat_data = sio.loadmat(IMBALANCED_DATASET_PATH + DATASET['DATASETNAME'])\n",
    "x = mat_data['X']\n",
    "y = mat_data['Y'][:, 0]  # mat_data['Y']得到的形状为[n,1]，通过[:,0]，得到形状[n,]\n",
    "x_train, x_test, y_train, y_test = train_test_split(x, y, test_size=0.2, random_state=RANDOM_SEED)  # 划分数据集\n",
    "unique_elements_train, classes_train, counts_train = get_distribution(y_train)  # 获取训练集分布\n",
    "unique_elements_test, classes_test, counts_test = get_distribution(y_test)  # 获取测试集分布\n",
    "\n",
    "print(datasetname + 'distribution:')\n",
    "print(f'trainset: {counts_train}')\n",
    "print(f'testset: {counts_test}')\n",
    "\n",
    "scaler = StandardScaler()  # 数据的标准化\n",
    "x_train = scaler.fit_transform(x_train)\n",
    "x_test = scaler.transform(x_test)\n",
    "\n",
    "model = MLPClassifier(hidden_layer_sizes=(DATASET['HIDDEN_SIZE'],), max_iter=DATASET['MAX_ITER'],\n",
    "                      random_state=RANDOM_SEED, learning_rate_init=DATASET['LEARNING_RATE'])\n",
    "model.fit(x_train, y_train)\n",
    "y_test_pred_proba = model.predict_proba(x_test)\n",
    "gmean, mauc, recall_per_class = calculate_gmean_mauc(y_test_pred_proba, y_test)\n",
    "print(f'{datasetname} Gmean: {gmean}, mAUC: {mauc}')"
   ],
   "metadata": {
    "collapsed": false
   },
   "id": "7d2faca94de264b3",
   "execution_count": null
  },
  {
   "cell_type": "markdown",
   "source": [
    "### ROS 随机过采样"
   ],
   "metadata": {
    "collapsed": false
   },
   "id": "46b03f864d09b3a6"
  },
  {
   "cell_type": "code",
   "outputs": [],
   "source": [
    "import numpy as np\n",
    "from sklearn.base import clone\n",
    "from imblearn.over_sampling import RandomOverSampler\n",
    "\n",
    "num_run = 30  # 运行次数\n",
    "\n",
    "ros_results = []\n",
    "for i in range(num_run):\n",
    "    ros = RandomOverSampler(random_state=42 + random.randint(1, 1000))\n",
    "    x_train_ros, y_train_ros = ros.fit_resample(x_train, y_train)\n",
    "\n",
    "    # unique_elements_ros, classes_ros, counts_ros = get_distribution(y_train_ros)  # 获取原始数据集分布\n",
    "    # print(f'ros trainset: {counts_ros}')\n",
    "\n",
    "    model_ros = clone(model)\n",
    "    model_ros.fit(x_train_ros, y_train_ros)\n",
    "    y_test_pred_proba_ros = model_ros.predict_proba(x_test)\n",
    "    gmean_ros, mauc_ros, recall_per_class_ros = calculate_gmean_mauc(y_test_pred_proba_ros, y_test)\n",
    "    print(f'第{i + 1}次运行: Gmean: {gmean_ros}, mAUC: {mauc_ros}')\n",
    "    ros_results.append([gmean_ros, mauc_ros])\n",
    "\n",
    "print(np.mean(ros_results, axis=0))"
   ],
   "metadata": {
    "collapsed": false
   },
   "id": "c1fed28fc0e1367c",
   "execution_count": null
  },
  {
   "cell_type": "markdown",
   "source": [
    "###  RUS 随机下采样"
   ],
   "metadata": {
    "collapsed": false
   },
   "id": "b62eb128cce79eab"
  },
  {
   "cell_type": "code",
   "outputs": [],
   "source": [
    "from imblearn.under_sampling import RandomUnderSampler\n",
    "import numpy as np\n",
    "from sklearn.base import clone\n",
    "\n",
    "num_run = 30  # 运行次数\n",
    "\n",
    "rus_results = []\n",
    "for i in range(num_run):\n",
    "    rus = RandomUnderSampler(random_state=42 + np.random.randint(1, 1000))\n",
    "    x_train_rus, y_train_rus = rus.fit_resample(x_train, y_train)\n",
    "\n",
    "    unique_elements_rus, classes_rus, counts_rus = get_distribution(y_train_rus)  # 获取原始数据集分布\n",
    "    print(f'rus trainset: {counts_rus}')\n",
    "\n",
    "    model_rus = clone(model)\n",
    "    model_rus.fit(x_train_rus, y_train_rus)\n",
    "    y_test_pred_proba_rus = model_rus.predict_proba(x_test)\n",
    "    gmean_rus, mauc_rus, recall_per_class_rus = calculate_gmean_mauc(y_test_pred_proba_rus, y_test)\n",
    "    print(f'第{i + 1}次运行: Gmean: {gmean_rus}, mAUC: {mauc_rus}')\n",
    "    rus_results.append([gmean_rus, mauc_rus])\n",
    "\n",
    "print(np.mean(rus_results, axis=0))"
   ],
   "metadata": {
    "collapsed": false
   },
   "id": "6d0fdce32f2a54e2",
   "execution_count": null
  }
 ],
 "metadata": {
  "kernelspec": {
   "display_name": "Python 3",
   "language": "python",
   "name": "python3"
  },
  "language_info": {
   "codemirror_mode": {
    "name": "ipython",
    "version": 2
   },
   "file_extension": ".py",
   "mimetype": "text/x-python",
   "name": "python",
   "nbconvert_exporter": "python",
   "pygments_lexer": "ipython2",
   "version": "2.7.6"
  }
 },
 "nbformat": 4,
 "nbformat_minor": 5
}
