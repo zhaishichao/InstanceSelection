{
 "cells": [
  {
   "cell_type": "markdown",
   "source": [
    "### 数据集的加载"
   ],
   "metadata": {
    "collapsed": false
   },
   "id": "8ec220238e827101"
  },
  {
   "cell_type": "code",
   "execution_count": 12,
   "id": "initial_id",
   "metadata": {
    "collapsed": true,
    "ExecuteTime": {
     "end_time": "2024-10-29T10:53:52.644309Z",
     "start_time": "2024-10-29T10:53:52.614586Z"
    }
   },
   "outputs": [
    {
     "name": "stdout",
     "output_type": "stream",
     "text": [
      "dict_keys(['__header__', '__version__', '__globals__', 'X', 'Y'])\n",
      "x的形状: (3196, 36)\n",
      "y的数据类型: (3196,)\n",
      "每种类别的数量： [1527. 1669.]\n"
     ]
    }
   ],
   "source": [
    "import numpy\n",
    "import scipy.io as sio  # 从.mat文件中读取数据集\n",
    "import numpy as np\n",
    "\n",
    "from sklearn.model_selection import train_test_split\n",
    "from sklearn.svm import SVC  # SVC用于分类，SVR用于回归\n",
    "from sklearn.metrics import accuracy_score, classification_report, confusion_matrix\n",
    "from sklearn.preprocessing import StandardScaler\n",
    "from sklearn.pipeline import make_pipeline\n",
    "\n",
    "# German.mat 1000条数据 24个特征 二分类\n",
    "# 读取.mat文件\n",
    "mat_data = sio.loadmat('../data/dataset/Chess.mat')\n",
    "print(mat_data.keys())\n",
    "# 提取变量\n",
    "x = mat_data['X']\n",
    "y = mat_data['Y']\n",
    "y=y[:,0]\n",
    "# 显示变量信息\n",
    "print(\"x的形状:\", x.shape)\n",
    "print(\"y的数据类型:\", y.shape)\n",
    "\n",
    "# 统计每个类别的个数，y.max()+1是类别的个数\n",
    "counts = np.zeros(y.max() + 1)\n",
    "for i in range(y.shape[0]):\n",
    "    counts[y[i]] += 1\n",
    "print(\"每种类别的数量：\", counts)"
   ]
  },
  {
   "cell_type": "markdown",
   "source": [
    "### 数据集划分"
   ],
   "metadata": {
    "collapsed": false
   },
   "id": "7d8058135037ea3"
  },
  {
   "cell_type": "code",
   "outputs": [
    {
     "name": "stdout",
     "output_type": "stream",
     "text": [
      "训练集：\n",
      "实例数据： (2237, 36) 标签 (2237,)\n",
      "每种类别的数量： [1081. 1156.]\n",
      "测试集：\n",
      "测试数据： (959, 36) 标签 (959,)\n",
      "每种类别的数量： [446. 513.]\n",
      "第1次运行的Accuracy: 0.96\n",
      "训练集：\n",
      "实例数据： (2237, 36) 标签 (2237,)\n",
      "每种类别的数量： [1074. 1163.]\n",
      "测试集：\n",
      "测试数据： (959, 36) 标签 (959,)\n",
      "每种类别的数量： [453. 506.]\n",
      "第2次运行的Accuracy: 0.95\n",
      "训练集：\n",
      "实例数据： (2237, 36) 标签 (2237,)\n",
      "每种类别的数量： [1070. 1167.]\n",
      "测试集：\n",
      "测试数据： (959, 36) 标签 (959,)\n",
      "每种类别的数量： [457. 502.]\n",
      "第3次运行的Accuracy: 0.97\n",
      "训练集：\n",
      "实例数据： (2237, 36) 标签 (2237,)\n",
      "每种类别的数量： [1071. 1166.]\n",
      "测试集：\n",
      "测试数据： (959, 36) 标签 (959,)\n",
      "每种类别的数量： [456. 503.]\n",
      "第4次运行的Accuracy: 0.96\n",
      "训练集：\n",
      "实例数据： (2237, 36) 标签 (2237,)\n",
      "每种类别的数量： [1069. 1168.]\n",
      "测试集：\n",
      "测试数据： (959, 36) 标签 (959,)\n",
      "每种类别的数量： [458. 501.]\n",
      "第5次运行的Accuracy: 0.95\n",
      "训练集：\n",
      "实例数据： (2237, 36) 标签 (2237,)\n",
      "每种类别的数量： [1072. 1165.]\n",
      "测试集：\n",
      "测试数据： (959, 36) 标签 (959,)\n",
      "每种类别的数量： [455. 504.]\n",
      "第6次运行的Accuracy: 0.97\n",
      "训练集：\n",
      "实例数据： (2237, 36) 标签 (2237,)\n",
      "每种类别的数量： [1055. 1182.]\n",
      "测试集：\n",
      "测试数据： (959, 36) 标签 (959,)\n",
      "每种类别的数量： [472. 487.]\n",
      "第7次运行的Accuracy: 0.96\n",
      "训练集：\n",
      "实例数据： (2237, 36) 标签 (2237,)\n",
      "每种类别的数量： [1048. 1189.]\n",
      "测试集：\n",
      "测试数据： (959, 36) 标签 (959,)\n",
      "每种类别的数量： [479. 480.]\n",
      "第8次运行的Accuracy: 0.95\n",
      "训练集：\n",
      "实例数据： (2237, 36) 标签 (2237,)\n",
      "每种类别的数量： [1053. 1184.]\n",
      "测试集：\n",
      "测试数据： (959, 36) 标签 (959,)\n",
      "每种类别的数量： [474. 485.]\n",
      "第9次运行的Accuracy: 0.96\n",
      "训练集：\n",
      "实例数据： (2237, 36) 标签 (2237,)\n",
      "每种类别的数量： [1068. 1169.]\n",
      "测试集：\n",
      "测试数据： (959, 36) 标签 (959,)\n",
      "每种类别的数量： [459. 500.]\n",
      "第10次运行的Accuracy: 0.96\n",
      "平均准确率： 0.9581000000000002\n"
     ]
    }
   ],
   "source": [
    "num_run=10\n",
    "results=[]\n",
    "for j in range(num_run):\n",
    "    # 数据的划分\n",
    "    X_train, X_test, y_train, y_test = train_test_split(x, y, test_size=0.3, random_state=42+j)\n",
    "    \n",
    "    print(\"训练集：\")\n",
    "    print(\"实例数据：\", X_train.shape, \"标签\", y_train.shape)\n",
    "    counts_train = np.zeros(y.max() + 1)\n",
    "    for i in range(y_train.shape[0]):\n",
    "        counts_train[y_train[i]] += 1\n",
    "    print(\"每种类别的数量：\", counts_train)\n",
    "    print(\"测试集：\")\n",
    "    print(\"测试数据：\", X_test.shape, \"标签\", y_test.shape)\n",
    "    counts_test = np.zeros(y.max() + 1)\n",
    "    for i in range(y_test.shape[0]):\n",
    "        counts_test[y_test[i]] += 1\n",
    "    print(\"每种类别的数量：\", counts_test)\n",
    "    \n",
    "    \n",
    "    # 初始化和训练\n",
    "    # 初始化 SVM 分类器\n",
    "    # 通过管道将标准化操作和模型相连接\n",
    "    clf = make_pipeline(StandardScaler(), SVC(kernel='linear',cache_size=600))  # 'linear' 是线性核，也可以选择 'rbf', 'poly' 等核函数\n",
    "    # 训练模型\n",
    "    clf.fit(X_train, y_train)\n",
    "    \n",
    "    # 用测试数据集进行预测\n",
    "    y_pred = clf.predict(X_test)\n",
    "    \n",
    "    # 计算准确率\n",
    "    accuracy = accuracy_score(y_test, y_pred)\n",
    "    results.append(round(accuracy,3))\n",
    "    print(f'第{j+1}次运行的Accuracy: {accuracy:.2f}')\n",
    "    \n",
    "    # 打印分类报告\n",
    "    #print(\"Classification Report:\")\n",
    "    #print(classification_report(y_test, y_pred))\n",
    "    \n",
    "    # 打印混淆矩阵\n",
    "    #print(\"Confusion Matrix:\")\n",
    "    #print(confusion_matrix(y_test, y_pred))\n",
    "print(\"平均准确率：\",np.mean(results))"
   ],
   "metadata": {
    "collapsed": false,
    "ExecuteTime": {
     "end_time": "2024-10-29T10:54:12.559855Z",
     "start_time": "2024-10-29T10:54:12.197929Z"
    }
   },
   "id": "2b7074d14c895ccd",
   "execution_count": 15
  },
  {
   "cell_type": "markdown",
   "source": [
    "### 模型训练与评估"
   ],
   "metadata": {
    "collapsed": false
   },
   "id": "829b05de096a9f4"
  },
  {
   "cell_type": "code",
   "outputs": [
    {
     "name": "stdout",
     "output_type": "stream",
     "text": [
      "Accuracy: 0.84\n",
      "Classification Report:\n",
      "              precision    recall  f1-score   support\n",
      "\n",
      "           0       0.94      0.76      0.84       119\n",
      "           1       0.75      0.93      0.83        88\n",
      "\n",
      "    accuracy                           0.84       207\n",
      "   macro avg       0.84      0.85      0.84       207\n",
      "weighted avg       0.86      0.84      0.84       207\n",
      "\n",
      "Confusion Matrix:\n",
      "[[91 28]\n",
      " [ 6 82]]\n"
     ]
    }
   ],
   "source": [
    "# 初始化和训练\n",
    "# 初始化 SVM 分类器\n",
    "# 通过管道将标准化操作和模型相连接\n",
    "clf = make_pipeline(StandardScaler(), SVC(kernel='linear',cache_size=600))  # 'linear' 是线性核，也可以选择 'rbf', 'poly' 等核函数\n",
    "# 训练模型\n",
    "clf.fit(X_train, y_train)\n",
    "\n",
    "# 用测试数据集进行预测\n",
    "y_pred = clf.predict(X_test)\n",
    "\n",
    "# 计算准确率\n",
    "accuracy = accuracy_score(y_test, y_pred)\n",
    "print(f'Accuracy: {accuracy:.2f}')\n",
    "\n",
    "# 打印分类报告\n",
    "print(\"Classification Report:\")\n",
    "print(classification_report(y_test, y_pred))\n",
    "\n",
    "# 打印混淆矩阵\n",
    "print(\"Confusion Matrix:\")\n",
    "print(confusion_matrix(y_test, y_pred))"
   ],
   "metadata": {
    "collapsed": false,
    "ExecuteTime": {
     "end_time": "2024-10-29T08:39:10.724461Z",
     "start_time": "2024-10-29T08:39:10.686046Z"
    }
   },
   "id": "df8a085ee7ca2a95",
   "execution_count": 3
  }
 ],
 "metadata": {
  "kernelspec": {
   "display_name": "Python 3",
   "language": "python",
   "name": "python3"
  },
  "language_info": {
   "codemirror_mode": {
    "name": "ipython",
    "version": 2
   },
   "file_extension": ".py",
   "mimetype": "text/x-python",
   "name": "python",
   "nbconvert_exporter": "python",
   "pygments_lexer": "ipython2",
   "version": "2.7.6"
  }
 },
 "nbformat": 4,
 "nbformat_minor": 5
}
