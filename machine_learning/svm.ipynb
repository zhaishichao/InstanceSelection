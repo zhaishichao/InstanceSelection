{
 "cells": [
  {
   "cell_type": "markdown",
   "source": [
    "### 数据集的加载"
   ],
   "metadata": {
    "collapsed": false
   },
   "id": "8ec220238e827101"
  },
  {
   "cell_type": "code",
   "execution_count": 1,
   "id": "initial_id",
   "metadata": {
    "collapsed": true,
    "ExecuteTime": {
     "end_time": "2024-10-24T09:44:40.273488Z",
     "start_time": "2024-10-24T09:44:40.101840Z"
    }
   },
   "outputs": [
    {
     "name": "stdout",
     "output_type": "stream",
     "text": [
      "dict_keys(['__header__', '__version__', '__globals__', 'X', 'Y'])\n",
      "x的形状: (1000, 24)\n",
      "y的数据类型: (1000,)\n",
      "每种类别的数量： [700. 300.]\n"
     ]
    }
   ],
   "source": [
    "import scipy.io as sio  # 从.mat文件中读取数据集\n",
    "import numpy as np\n",
    "\n",
    "from sklearn.model_selection import train_test_split\n",
    "from sklearn.svm import SVC  # SVC用于分类，SVR用于回归\n",
    "from sklearn.metrics import accuracy_score, classification_report, confusion_matrix\n",
    "from sklearn.preprocessing import StandardScaler\n",
    "from sklearn.pipeline import make_pipeline\n",
    "\n",
    "# German.mat 1000条数据 24个特征 二分类\n",
    "# 读取.mat文件\n",
    "mat_data = sio.loadmat('../data/dataset/German.mat')\n",
    "print(mat_data.keys())\n",
    "# 提取变量\n",
    "x = mat_data['X']\n",
    "y = mat_data['Y']\n",
    "y=y[:,0]\n",
    "# 显示变量信息\n",
    "print(\"x的形状:\", x.shape)\n",
    "print(\"y的数据类型:\", y.shape)\n",
    "\n",
    "# 统计每个类别的个数，y.max()+1是类别的个数\n",
    "counts = np.zeros(y.max() + 1)\n",
    "for i in range(y.shape[0]):\n",
    "    counts[y[i]] += 1\n",
    "print(\"每种类别的数量：\", counts)"
   ]
  },
  {
   "cell_type": "markdown",
   "source": [
    "### 数据集划分"
   ],
   "metadata": {
    "collapsed": false
   },
   "id": "7d8058135037ea3"
  },
  {
   "cell_type": "code",
   "outputs": [
    {
     "name": "stdout",
     "output_type": "stream",
     "text": [
      "训练集：\n",
      "实例数据： (700, 24) 标签 (700,)\n",
      "每种类别的数量： [493. 207.]\n",
      "测试集：\n",
      "测试数据： (300, 24) 标签 (300,)\n",
      "每种类别的数量： [207.  93.]\n"
     ]
    }
   ],
   "source": [
    "# 数据的划分\n",
    "X_train, X_test, y_train, y_test = train_test_split(x, y, test_size=0.3, random_state=42)\n",
    "\n",
    "print(\"训练集：\")\n",
    "print(\"实例数据：\", X_train.shape, \"标签\", y_train.shape)\n",
    "counts_train = np.zeros(y.max() + 1)\n",
    "for i in range(y_train.shape[0]):\n",
    "    counts_train[y_train[i]] += 1\n",
    "print(\"每种类别的数量：\", counts_train)\n",
    "print(\"测试集：\")\n",
    "print(\"测试数据：\", X_test.shape, \"标签\", y_test.shape)\n",
    "counts_test = np.zeros(y.max() + 1)\n",
    "for i in range(y_test.shape[0]):\n",
    "    counts_test[y_test[i]] += 1\n",
    "print(\"每种类别的数量：\", counts_test)\n"
   ],
   "metadata": {
    "collapsed": false,
    "ExecuteTime": {
     "end_time": "2024-10-24T09:44:40.662953Z",
     "start_time": "2024-10-24T09:44:40.651804Z"
    }
   },
   "id": "2b7074d14c895ccd",
   "execution_count": 2
  },
  {
   "cell_type": "markdown",
   "source": [
    "### 模型训练与评估"
   ],
   "metadata": {
    "collapsed": false
   },
   "id": "829b05de096a9f4"
  },
  {
   "cell_type": "code",
   "outputs": [
    {
     "name": "stdout",
     "output_type": "stream",
     "text": [
      "Accuracy: 0.79\n",
      "Classification Report:\n",
      "              precision    recall  f1-score   support\n",
      "\n",
      "           0       0.80      0.92      0.86       207\n",
      "           1       0.74      0.48      0.58        93\n",
      "\n",
      "    accuracy                           0.79       300\n",
      "   macro avg       0.77      0.70      0.72       300\n",
      "weighted avg       0.78      0.79      0.77       300\n",
      "\n",
      "Confusion Matrix:\n",
      "[[191  16]\n",
      " [ 48  45]]\n"
     ]
    }
   ],
   "source": [
    "# 初始化和训练\n",
    "# 初始化 SVM 分类器\n",
    "# 通过管道将标准化操作和模型相连接\n",
    "clf = make_pipeline(StandardScaler(), SVC(kernel='linear',cache_size=600))  # 'linear' 是线性核，也可以选择 'rbf', 'poly' 等核函数\n",
    "# 训练模型\n",
    "clf.fit(X_train, y_train)\n",
    "\n",
    "# 用测试数据集进行预测\n",
    "y_pred = clf.predict(X_test)\n",
    "\n",
    "# 计算准确率\n",
    "accuracy = accuracy_score(y_test, y_pred)\n",
    "print(f'Accuracy: {accuracy:.2f}')\n",
    "\n",
    "# 打印分类报告\n",
    "print(\"Classification Report:\")\n",
    "print(classification_report(y_test, y_pred))\n",
    "\n",
    "# 打印混淆矩阵\n",
    "print(\"Confusion Matrix:\")\n",
    "print(confusion_matrix(y_test, y_pred))"
   ],
   "metadata": {
    "collapsed": false,
    "ExecuteTime": {
     "end_time": "2024-10-24T09:44:58.008978Z",
     "start_time": "2024-10-24T09:44:57.972298Z"
    }
   },
   "id": "df8a085ee7ca2a95",
   "execution_count": 9
  }
 ],
 "metadata": {
  "kernelspec": {
   "display_name": "Python 3",
   "language": "python",
   "name": "python3"
  },
  "language_info": {
   "codemirror_mode": {
    "name": "ipython",
    "version": 2
   },
   "file_extension": ".py",
   "mimetype": "text/x-python",
   "name": "python",
   "nbconvert_exporter": "python",
   "pygments_lexer": "ipython2",
   "version": "2.7.6"
  }
 },
 "nbformat": 4,
 "nbformat_minor": 5
}
