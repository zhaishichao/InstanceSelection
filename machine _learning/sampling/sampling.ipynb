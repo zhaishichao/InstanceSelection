{
 "cells": [
  {
   "cell_type": "markdown",
   "source": [
    "# 不同的采样方式"
   ],
   "metadata": {
    "collapsed": false
   },
   "id": "3aa64c945435d8ec"
  },
  {
   "cell_type": "code",
   "outputs": [
    {
     "name": "stdout",
     "output_type": "stream",
     "text": [
      "Dermatology Gmean: 0.905031, mAUC: 0.97987\n"
     ]
    }
   ],
   "source": [
    "from instance_selection.operator.metrics import calculate_gmean_mauc\n",
    "from sklearn.neural_network import MLPClassifier\n",
    "from utils.dataset_utils import get_distribution\n",
    "from instance_selection.parameter.parameter import *  # 导入参数的设定\n",
    "from sklearn.preprocessing import StandardScaler\n",
    "from sklearn.model_selection import train_test_split\n",
    "import scipy.io as sio  # 从.mat文件中读取数据集\n",
    "import random\n",
    "import warnings\n",
    "\n",
    "warnings.filterwarnings(\"ignore\")  # 忽略警告\n",
    "\n",
    "DATASET = Dermatology  # 数据集名称（包含对应参数的字典形式）\n",
    "datasetname = DATASET['DATASETNAME'].split('.')[0]\n",
    "\n",
    "# 加载、划分数据集\n",
    "mat_data = sio.loadmat(IMBALANCED_DATASET_PATH + DATASET['DATASETNAME'])\n",
    "x = mat_data['X']\n",
    "y = mat_data['Y'][:, 0]  # mat_data['Y']得到的形状为[n,1]，通过[:,0]，得到形状[n,]\n",
    "x_train, x_test, y_train, y_test = train_test_split(x, y, test_size=0.2, random_state=RANDOM_SEED)  # 划分数据集\n",
    "scaler = StandardScaler()  # 数据的标准化\n",
    "x_train = scaler.fit_transform(x_train)\n",
    "x_test = scaler.transform(x_test)\n",
    "model = MLPClassifier(hidden_layer_sizes=(DATASET['HIDDEN_SIZE'],), max_iter=DATASET['MAX_ITER'],\n",
    "                      random_state=RANDOM_SEED, learning_rate_init=DATASET['LEARNING_RATE'])\n",
    "\n",
    "model.fit(x_train, y_train)\n",
    "y_test_pred_proba = model.predict_proba(x_test)\n",
    "gmean, mauc, recall_per_class = calculate_gmean_mauc(y_test_pred_proba, y_test)\n",
    "print(f'{datasetname} Gmean: {gmean}, mAUC: {mauc}')"
   ],
   "metadata": {
    "collapsed": false,
    "ExecuteTime": {
     "end_time": "2025-01-14T09:21:09.335481Z",
     "start_time": "2025-01-14T09:21:09.252358Z"
    }
   },
   "id": "7d2faca94de264b3",
   "execution_count": 9
  },
  {
   "cell_type": "markdown",
   "source": [
    "## ROS 随机过采样"
   ],
   "metadata": {
    "collapsed": false
   },
   "id": "46b03f864d09b3a6"
  },
  {
   "cell_type": "code",
   "outputs": [
    {
     "name": "stdout",
     "output_type": "stream",
     "text": [
      "Dermatologydistribution:\n",
      "source dataset: [112  61  72  49  52  20]\n",
      "ros dataset: [112 112 112 112 112 112]\n",
      "trainset: [91 92 90 85 92 87]\n",
      "testset: [21 20 22 27 20 25]\n",
      "Dermatology Gmean: 0.951932, mAUC: 0.992985\n"
     ]
    }
   ],
   "source": [
    "from sklearn.base import clone\n",
    "from imblearn.over_sampling import RandomOverSampler\n",
    "\n",
    "ros = RandomOverSampler(random_state=42)\n",
    "x_ros, y_ros = ros.fit_resample(x, y)\n",
    "x_train_ros, x_test_ros, y_train_ros, y_test_ros = train_test_split(x_ros, y_ros, test_size=0.2,\n",
    "                                                                    random_state=RANDOM_SEED)  # 划分数据集\n",
    "scaler = StandardScaler()  # 数据的标准化\n",
    "x_train_ros = scaler.fit_transform(x_train_ros)\n",
    "x_test_ros = scaler.transform(x_test_ros)\n",
    "unique_elements_all, classes_all, counts_all = get_distribution(y)  # 获取原始数据集分布\n",
    "unique_elements_ros, classes_ros, counts_ros = get_distribution(y_ros)  # 获取原始数据集分布\n",
    "unique_elements_train, classes_train, counts_train = get_distribution(y_train_ros)  # 获取训练集分布\n",
    "unique_elements_test, classes_test, counts_test = get_distribution(y_test_ros)  # 获取测试集分布\n",
    "\n",
    "print(datasetname + 'distribution:')\n",
    "print(f'source dataset: {counts_all}')\n",
    "print(f'ros dataset: {counts_ros}')\n",
    "print(f'trainset: {counts_train}')\n",
    "print(f'testset: {counts_test}')\n",
    "\n",
    "model_ros = clone(model)\n",
    "model_ros.fit(x_train_ros, y_train_ros)\n",
    "y_test_pred_proba_ros = model_ros.predict_proba(x_test_ros)\n",
    "gmean_ros, mauc_ros, recall_per_class_ros = calculate_gmean_mauc(y_test_pred_proba_ros, y_test_ros)\n",
    "print(f'{datasetname} Gmean: {gmean_ros}, mAUC: {mauc_ros}')"
   ],
   "metadata": {
    "collapsed": false,
    "ExecuteTime": {
     "end_time": "2025-01-14T09:22:32.779825Z",
     "start_time": "2025-01-14T09:22:32.723959Z"
    }
   },
   "id": "c1fed28fc0e1367c",
   "execution_count": 15
  }
 ],
 "metadata": {
  "kernelspec": {
   "display_name": "Python 3",
   "language": "python",
   "name": "python3"
  },
  "language_info": {
   "codemirror_mode": {
    "name": "ipython",
    "version": 2
   },
   "file_extension": ".py",
   "mimetype": "text/x-python",
   "name": "python",
   "nbconvert_exporter": "python",
   "pygments_lexer": "ipython2",
   "version": "2.7.6"
  }
 },
 "nbformat": 4,
 "nbformat_minor": 5
}
