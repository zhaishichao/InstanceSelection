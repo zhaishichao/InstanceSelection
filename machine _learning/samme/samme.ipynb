{
 "cells": [
  {
   "cell_type": "markdown",
   "source": [
    "# SAMME\n",
    "Adaboost算法的扩展"
   ],
   "metadata": {
    "collapsed": false
   },
   "id": "c6b94563012d7c26"
  },
  {
   "cell_type": "code",
   "outputs": [],
   "source": [
    "from sklearn.tree import DecisionTreeClassifier\n",
    "from utils.dataset_utils import get_distribution\n",
    "from instance_selection.parameter.parameter import *  # 导入参数的设定\n",
    "from sklearn.ensemble import AdaBoostClassifier\n",
    "from sklearn.preprocessing import StandardScaler\n",
    "from sklearn.model_selection import train_test_split\n",
    "import scipy.io as sio  # 从.mat文件中读取数据集\n",
    "import warnings\n",
    "\n",
    "warnings.filterwarnings(\"ignore\")  # 忽略警告\n",
    "\n",
    "DATASET = Satellite  # 数据集名称（包含对应参数的字典形式）\n",
    "datasetname = DATASET['DATASETNAME'].split('.')[0]\n",
    "\n",
    "# 加载、划分数据集\n",
    "mat_data = sio.loadmat(IMBALANCED_DATASET_PATH + DATASET['DATASETNAME'])\n",
    "x = mat_data['X']\n",
    "y = mat_data['Y'][:, 0]  # mat_data['Y']得到的形状为[n,1]，通过[:,0]，得到形状[n,]\n",
    "x_train, x_test, y_train, y_test = train_test_split(x, y, test_size=0.3, random_state=RANDOM_SEED)  # 划分数据集\n",
    "scaler = StandardScaler()  # 数据的标准化\n",
    "x_train = scaler.fit_transform(x_train)\n",
    "x_test = scaler.transform(x_test)\n",
    "\n",
    "unique_elements_all, classes_all, counts_all = get_distribution(y)  # 获取原始数据集分布\n",
    "unique_elements_train, classes_train, counts_train = get_distribution(y_train)  # 获取训练集分布\n",
    "unique_elements_test, classes_test, counts_test = get_distribution(y_test)  # 获取测试集分布\n",
    "print(datasetname + f' distribution: {counts_all}')\n",
    "print(f'trainset distribution: {counts_train}')\n",
    "print(f'testset distribution: {counts_test}')\n",
    "\n",
    "#base_classifier = CustomMLPClassifier(hidden_layer_sizes=(DATASET['HIDDEN_SIZE'],), max_iter=DATASET['MAX_ITER'],\n",
    "#                                random_state=RANDOM_SEED, learning_rate_init=DATASET['LEARNING_RATE'])\n",
    "\n",
    "base_classifier = DecisionTreeClassifier(max_depth=1)"
   ],
   "metadata": {
    "collapsed": false
   },
   "id": "5cbf24856d2e74fd",
   "execution_count": null
  },
  {
   "cell_type": "code",
   "outputs": [],
   "source": [
    "from instance_selection.operator.metrics import calculate_gmean_mauc\n",
    "\n",
    "# 初始化 AdaBoostClassifier，选择 SAMME 或 SAMME.R\n",
    "adaboost_samme = AdaBoostClassifier(estimator=base_classifier, n_estimators=40, algorithm=\"SAMME\")\n",
    "adaboost_samme_r = AdaBoostClassifier(estimator=base_classifier, n_estimators=40, algorithm=\"SAMME.R\")\n",
    "\n",
    "# 训练模型\n",
    "adaboost_samme.fit(x_train, y_train)\n",
    "adaboost_samme_r.fit(x_train, y_train)\n",
    "\n",
    "# 预测\n",
    "y_pred_samme = adaboost_samme.predict_proba(x_test)\n",
    "\n",
    "\n",
    "# 输出预测的准确度量\n",
    "gmean, mauc ,recall_per_class= calculate_gmean_mauc(y_pred_samme, y_test)\n",
    "print(f'Gmean: {gmean}: mAUC: {mauc}\\n')"
   ],
   "metadata": {
    "collapsed": false
   },
   "id": "ba7f03617e1c66e7",
   "execution_count": null
  }
 ],
 "metadata": {
  "kernelspec": {
   "display_name": "Python 3",
   "language": "python",
   "name": "python3"
  },
  "language_info": {
   "codemirror_mode": {
    "name": "ipython",
    "version": 2
   },
   "file_extension": ".py",
   "mimetype": "text/x-python",
   "name": "python",
   "nbconvert_exporter": "python",
   "pygments_lexer": "ipython2",
   "version": "2.7.6"
  }
 },
 "nbformat": 4,
 "nbformat_minor": 5
}
