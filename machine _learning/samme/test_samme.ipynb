{
 "cells": [
  {
   "cell_type": "code",
   "execution_count": null,
   "id": "initial_id",
   "metadata": {
    "collapsed": true
   },
   "outputs": [],
   "source": [
    "from sklearn.neural_network import MLPClassifier\n",
    "from sklearn.preprocessing import StandardScaler\n",
    "from sklearn.model_selection import train_test_split\n",
    "from instance_selection.operator.metrics import calculate_gmean_mauc\n",
    "from instance_selection.parameter.parameter import *\n",
    "import machine_learning.samme.samme as SAMME\n",
    "import scipy.io as sio  # 从.mat文件中读取数据集\n",
    "\n",
    "DATASETS=[Satellite,Contraceptive,Car,Balance_Scale,Dermatology,Chess,Nursery,WallRobot,Ecoli,Glass] # 数据集名称（包含对应参数的字典形式）\n",
    "for DATASET in DATASETS:  \n",
    "    datasetname = DATASET['DATASETNAME'].split('.')[0]\n",
    "    mat_data = sio.loadmat(IMBALANCED_DATASET_PATH + DATASET['DATASETNAME'])  # 加载、划分数据集\n",
    "    x = mat_data['X']\n",
    "    y = mat_data['Y'][:, 0]  # mat_data['Y']得到的形状为[n,1]，通过[:,0]，得到形状[n,]\n",
    "    x_train, x_test, y_train, y_test = train_test_split(x, y, test_size=0.3, random_state=RANDOM_SEED)  # 划分数据集\n",
    "    scaler = StandardScaler()  # 数据的标准化\n",
    "    x_train = scaler.fit_transform(x_train)\n",
    "    x_test = scaler.transform(x_test)\n",
    "    model = MLPClassifier(hidden_layer_sizes=(DATASET['HIDDEN_SIZE'],), max_iter=DATASET['MAX_ITER'],\n",
    "                          random_state=RANDOM_SEED, learning_rate_init=DATASET['LEARNING_RATE'])\n",
    "    gmean_results = []\n",
    "    mauc_results = []\n",
    "    num_runs = 30\n",
    "    for i in range(num_runs):\n",
    "        samme = SAMME(POPSIZE, model, x_train, y_train)\n",
    "        samme.train()\n",
    "        y_pred_prob = samme.predict_prob(x_test)\n",
    "        gmean, mauc, recall_per_class = calculate_gmean_mauc(y_pred_prob, y_test)\n",
    "\n",
    "        print(f\"第{i + 1}次执行，G-Mean: {gmean},mAUC: {mauc},Recall: {recall_per_class}\")\n",
    "        gmean_results.append(gmean)\n",
    "        mauc_results.append(mauc)\n",
    "    print(f\"Avg-G-Mean: {np.mean(gmean_results, axis=0)}\")\n",
    "    print(f\"Avg-mAUC: {np.mean(mauc_results, axis=0)}\")\n"
   ]
  }
 ],
 "metadata": {
  "kernelspec": {
   "display_name": "Python 3",
   "language": "python",
   "name": "python3"
  },
  "language_info": {
   "codemirror_mode": {
    "name": "ipython",
    "version": 2
   },
   "file_extension": ".py",
   "mimetype": "text/x-python",
   "name": "python",
   "nbconvert_exporter": "python",
   "pygments_lexer": "ipython2",
   "version": "2.7.6"
  }
 },
 "nbformat": 4,
 "nbformat_minor": 5
}
