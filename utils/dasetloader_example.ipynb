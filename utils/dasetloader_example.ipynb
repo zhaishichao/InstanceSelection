{
 "cells": [
  {
   "cell_type": "markdown",
   "source": [
    "# 数据的加载"
   ],
   "metadata": {
    "collapsed": false
   },
   "id": "8e671594ca070828"
  },
  {
   "cell_type": "markdown",
   "source": [
    "### 从UCI官方加载数据集"
   ],
   "metadata": {
    "collapsed": false
   },
   "id": "bcc20f7088f61831"
  },
  {
   "cell_type": "code",
   "outputs": [],
   "source": [
    "from ucimlrepo import fetch_ucirepo\n",
    "\n",
    "# fetch dataset \n",
    "uci_dataset = fetch_ucirepo(id=45)\n",
    "\n",
    "# data (as pandas dataframes) \n",
    "X = uci_dataset.data.features\n",
    "y = uci_dataset.data.targets\n",
    "\n",
    "# variable information \n",
    "print(uci_dataset.variables)"
   ],
   "metadata": {
    "collapsed": false
   },
   "id": "596442a5722cf962",
   "execution_count": null
  },
  {
   "cell_type": "markdown",
   "source": [
    "### 从UCI加载数据，转化格式，转换为数字形式，并保存为mat数据 \n",
    "X为特征数据：num_instances,features\n",
    "Y为lable：(num_instances,1) 是一个列向量"
   ],
   "metadata": {
    "collapsed": false
   },
   "id": "e0aae6c7540c325f"
  },
  {
   "cell_type": "code",
   "outputs": [],
   "source": [
    "\n",
    "import numpy as np\n",
    "from sklearn.preprocessing import LabelEncoder\n",
    "from ucimlrepo import fetch_ucirepo\n",
    "from scipy.io import savemat\n",
    "\n",
    "# 数据集\n",
    "# 76 Nursery \n",
    "# 30 Contraceptive Method Choice\n",
    "# 146 Satellite\n",
    "# 33 Dermatology\n",
    "# 23 Chess\n",
    "uci_dataset = fetch_ucirepo(id=23)\n",
    "# 1. 特征和标签分离\n",
    "X = uci_dataset.data.features.values\n",
    "X_columns = uci_dataset.data.features.columns.tolist()\n",
    "y = uci_dataset.data.targets.values\n",
    "\n",
    "# 2. 特征编码\n",
    "label_encoder = LabelEncoder()\n",
    "X_encoded = np.copy(X)\n",
    "\n",
    "# 将特征数据每一列都进行编码\n",
    "for i in range(X.shape[1]):\n",
    "    X_encoded[:, i] = label_encoder.fit_transform(X_encoded[:, i])\n",
    "y_encoded = label_encoder.fit_transform(y[:, 0])\n",
    "\n",
    "# 转成int格式\n",
    "X_encoded = X_encoded.astype(int)\n",
    "y_encoded = y_encoded.astype(int)\n",
    "# 保存为 .mat 文件\n",
    "data_dict = {'X': X_encoded, 'Y': y_encoded.reshape(-1, 1)}  # 以字典形式存储\n",
    "savemat('Chess2.mat', data_dict)\n",
    "# 输出保存成功\n",
    "print(\"数据保存成功！\")"
   ],
   "metadata": {
    "collapsed": false
   },
   "id": "fc120ad7beb3db27",
   "execution_count": null
  }
 ],
 "metadata": {
  "kernelspec": {
   "display_name": "Python 3",
   "language": "python",
   "name": "python3"
  },
  "language_info": {
   "codemirror_mode": {
    "name": "ipython",
    "version": 2
   },
   "file_extension": ".py",
   "mimetype": "text/x-python",
   "name": "python",
   "nbconvert_exporter": "python",
   "pygments_lexer": "ipython2",
   "version": "2.7.6"
  }
 },
 "nbformat": 4,
 "nbformat_minor": 5
}
