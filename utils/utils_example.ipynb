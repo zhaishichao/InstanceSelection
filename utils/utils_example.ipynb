{
 "cells": [
  {
   "cell_type": "markdown",
   "source": [
    "# 数据处理（Python示例）"
   ],
   "metadata": {
    "collapsed": false
   },
   "id": "804472c446497679"
  },
  {
   "cell_type": "markdown",
   "source": [
    "#### 1、绘制动态图（.gif和.mp4格式）"
   ],
   "metadata": {
    "collapsed": false
   },
   "id": "f38c5b43beff4804"
  },
  {
   "cell_type": "code",
   "outputs": [],
   "source": [
    "import numpy as np\n",
    "import matplotlib.pyplot as plt\n",
    "from matplotlib.animation import FuncAnimation, PillowWriter\n",
    "\n",
    "# 初始化三维图形\n",
    "fig = plt.figure(figsize=(8, 8))  # 默认大小figsize是(12.8, 9.6)\n",
    "ax = fig.add_subplot(111, projection='3d')\n",
    "ax.set_xlim([-1, 1])\n",
    "ax.set_ylim([-1, 1])\n",
    "ax.set_zlim([-1, 1])\n",
    "# 设置每个轴的刻度\n",
    "# ticks = np.linspace(0, 1, 10)\n",
    "# ax.set_xticks(ticks)\n",
    "# ax.set_yticks(ticks)\n",
    "# ax.set_zticks(ticks)\n",
    "ax.set_box_aspect([1, 1, 1])  # 保持比例一致\n",
    "\n",
    "# 绘制球面\n",
    "u = np.linspace(0, 2 * np.pi, 100)\n",
    "v = np.linspace(0, np.pi, 100)\n",
    "x = np.outer(np.cos(u), np.sin(v))\n",
    "y = np.outer(np.sin(u), np.sin(v))\n",
    "z = np.outer(np.ones(np.size(u)), np.cos(v))\n",
    "ax.plot_surface(x, y, z, color='lightblue', alpha=0.3)\n",
    "\n",
    "# 保存点数据\n",
    "points = []\n",
    "\n",
    "\n",
    "# 动态更新函数\n",
    "def update(frame):\n",
    "    ax.clear()\n",
    "    ax.set_xlim([-1, 1])\n",
    "    ax.set_ylim([-1, 1])\n",
    "    ax.set_zlim([-1, 1])\n",
    "    ax.set_box_aspect([1, 1, 1])  # 保持比例一致\n",
    "    ax.plot_surface(x, y, z, color='lightblue', alpha=0.3)\n",
    "    # 每次添加10个点\n",
    "    for _ in range(10):\n",
    "        theta = np.random.uniform(0, 2 * np.pi)\n",
    "        phi = np.random.uniform(0, np.pi)\n",
    "        points.append((np.sin(phi) * np.cos(theta),\n",
    "                       np.sin(phi) * np.sin(theta),\n",
    "                       np.cos(phi)))\n",
    "    # 提取点坐标\n",
    "    px, py, pz = zip(*points)\n",
    "\n",
    "    # 颜色根据帧数变化\n",
    "    colors = plt.cm.jet(np.linspace(0, 1, len(points)))\n",
    "\n",
    "    # 绘制点\n",
    "    ax.scatter(px, py, pz, color=colors, s=20)\n",
    "\n",
    "\n",
    "# 创建动画\n",
    "ani = FuncAnimation(fig, update, frames=100, interval=100, repeat=False)\n",
    "\n",
    "# 设置保存路径和参数\n",
    "save_path = \"sphere_points_animation.gif\"\n",
    "writer = PillowWriter(fps=10)  # 设置帧率\n",
    "\n",
    "# 保存动画\n",
    "ani.save(save_path, writer=writer)  # 保存为mp4格式\n",
    "# 或使用writer参数\n",
    "ani.save(\"sphere_points_animation.mp4\", writer=\"ffmpeg\", fps=10)  # 保存为mp4格式\n",
    "ani.save(\"sphere_points_animation.gif\", writer=\"pillow\", fps=10)  # 保存为gif格式"
   ],
   "metadata": {
    "collapsed": false
   },
   "id": "68cec71cc2d6fde8",
   "execution_count": null
  }
 ],
 "metadata": {
  "kernelspec": {
   "display_name": "Python 3",
   "language": "python",
   "name": "python3"
  },
  "language_info": {
   "codemirror_mode": {
    "name": "ipython",
    "version": 2
   },
   "file_extension": ".py",
   "mimetype": "text/x-python",
   "name": "python",
   "nbconvert_exporter": "python",
   "pygments_lexer": "ipython2",
   "version": "2.7.6"
  }
 },
 "nbformat": 4,
 "nbformat_minor": 5
}
