{
 "cells": [
  {
   "cell_type": "markdown",
   "source": [
    "# Numpy Example"
   ],
   "metadata": {
    "collapsed": false
   },
   "id": "70b4ca575cda5d20"
  },
  {
   "cell_type": "markdown",
   "source": [
    "### 循环"
   ],
   "metadata": {
    "collapsed": false
   },
   "id": "7299ac3c81f6bfec"
  },
  {
   "cell_type": "code",
   "outputs": [],
   "source": [
    "############################################################################\n",
    "#for i in range(start, stop, step):\n",
    "# 循环体\n",
    "# 打印 0 到 4\n",
    "for i in range(5):\n",
    "    print(i)\n",
    "\n",
    "# 打印 1 到 9，步长为 2\n",
    "for i in range(1, 10, 2):\n",
    "    print(i)\n",
    "#############################################################################\n",
    "my_list = [10, 20, 30, 40]\n",
    "for i in my_list:\n",
    "    print(i)\n",
    "\n",
    "# 遍历字符串\n",
    "for char in \"Python\":\n",
    "    print(char)\n",
    "############################################################################\n",
    "#for a, b in zip(seq1, seq2):\n",
    "# 循环体\n",
    "list1 = [1, 2, 3]\n",
    "list2 = ['a', 'b', 'c']\n",
    "\n",
    "for num, char in zip(list1, list2):\n",
    "    print(num, char)\n",
    "###########################################################################\n",
    "#for index, value in enumerate(sequence, start=0):\n",
    "# 循环体\n",
    "fruits = ['apple', 'banana', 'cherry']\n",
    "for index, fruit in enumerate(fruits, start=1):\n",
    "    print(index, fruit)\n",
    "###########################################################################\n",
    "# while condition:\n",
    "# 循环体\n",
    "# 打印 0 到 4\n",
    "i = 0\n",
    "while i < 5:\n",
    "    print(i)\n",
    "    i += 1\n",
    "############################################################################\n",
    "# 创建一个包含 0 到 9 的平方的列表\n",
    "squares = [x ** 2 for x in range(10)]\n",
    "print(squares)\n"
   ],
   "metadata": {
    "collapsed": false
   },
   "id": "50c8d4d3179dbdbb",
   "execution_count": null
  },
  {
   "cell_type": "markdown",
   "source": [
    "## ndarray"
   ],
   "metadata": {
    "collapsed": false
   },
   "id": "b79cacb3ae6f3a0b"
  },
  {
   "cell_type": "markdown",
   "source": [
    "### 沿某一维度删除元素"
   ],
   "metadata": {
    "collapsed": false
   },
   "id": "4f0b07abd5dbcd22"
  },
  {
   "cell_type": "code",
   "outputs": [],
   "source": [
    "import numpy as np\n",
    "\n",
    "arr = np.array([i for i in range(500)])\n",
    "# 沿第0维（即删除行）\n",
    "X_encoded = np.delete(arr, [33, 34, 35, 36, 262, 263, 264, 265], axis=0)"
   ],
   "metadata": {
    "collapsed": false
   },
   "id": "99be3fffbda21050",
   "execution_count": null
  },
  {
   "cell_type": "markdown",
   "source": [
    "### 得到array中某元素的索引"
   ],
   "metadata": {
    "collapsed": false
   },
   "id": "87f6a16a057b1e3e"
  },
  {
   "cell_type": "code",
   "outputs": [],
   "source": [
    "import numpy as np\n",
    "\n",
    "arr = np.random.randint(0, 3, size=(100,))\n",
    "indexs = np.where(arr == 2)  # 函数返回值是一个tuple\n",
    "print(indexs[0])"
   ],
   "metadata": {
    "collapsed": false
   },
   "id": "a88ed7b24f2c804a",
   "execution_count": null
  },
  {
   "cell_type": "markdown",
   "source": [
    "## 工具"
   ],
   "metadata": {
    "collapsed": false
   },
   "id": "cb2711e45111fb1f"
  },
  {
   "cell_type": "markdown",
   "source": [
    "### 计算汉明距离\n"
   ],
   "metadata": {
    "collapsed": false
   },
   "id": "6c255e5c7453d358"
  },
  {
   "cell_type": "code",
   "outputs": [],
   "source": [
    "\n",
    "a = [1, 1, 1, 0, 0, 0, 1, 1]\n",
    "b = [1, 1, 0, 0, 1, 1, 1, 1]\n",
    "# 计算a,b的汉明距离\n",
    "hamming_distance = sum(x != y for x, y in zip(a, b))\n",
    "print(hamming_distance)"
   ],
   "metadata": {
    "collapsed": false
   },
   "id": "e9b716a46f03bad8",
   "execution_count": null
  },
  {
   "cell_type": "markdown",
   "source": [
    "# 排序"
   ],
   "metadata": {
    "collapsed": false
   },
   "id": "b662f6d8e9deee1f"
  },
  {
   "cell_type": "code",
   "outputs": [],
   "source": [
    "list = [1, 2, 3, 44, 56778, 43, 3]\n",
    "print(sorted(list))\n",
    "# print(sorted(list, reverse=True))"
   ],
   "metadata": {
    "collapsed": false
   },
   "id": "35bc5812ba49832",
   "execution_count": null
  },
  {
   "cell_type": "markdown",
   "source": [
    "### 二项分布"
   ],
   "metadata": {
    "collapsed": false
   },
   "id": "bc941798359a18e"
  },
  {
   "cell_type": "code",
   "outputs": [],
   "source": [
    "import random\n",
    "def exponential_distribution(lambda_, threshold):\n",
    "    '''\n",
    "    :param lambda_: 指数分布的参数λ（lambda）\n",
    "    :param threshold: 阈值（阈值决定了生成0或1）\n",
    "    :return:\n",
    "    '''\n",
    "    # 生成一个指数分布的随机数\n",
    "    value = random.expovariate(lambda_)\n",
    "    # 根据值与阈值的比较，生成 0 或 1\n",
    "    if value < threshold:\n",
    "        return 1\n",
    "    else:\n",
    "        return 0\n",
    "\n",
    "list = []\n",
    "for i in range(10000):\n",
    "    list.append(exponential_distribution(5, 1))\n",
    "# 求list中0和1分别有多少个，输出他们的比值\n",
    "print(1.0 * list.count(1) / list.count(0))"
   ],
   "metadata": {
    "collapsed": false
   },
   "id": "df7537119600fbd0",
   "execution_count": null
  },
  {
   "cell_type": "markdown",
   "source": [
    "### 获取每个类别的索引"
   ],
   "metadata": {
    "collapsed": false
   },
   "id": "602f5818e49bacec"
  },
  {
   "cell_type": "code",
   "outputs": [],
   "source": [
    "import numpy as np\n",
    "\n",
    "# 示例标签数据集\n",
    "labels = np.array([0,0,0,0,0,1,2,3,4,1,2,0,1,1,5,3,5,4,1,2,3,2,4,5])\n",
    "\n",
    "# 使用 numpy.unique 获取类别、计数以及每个类别对应的索引\n",
    "unique_elements, counts = np.unique(labels, return_counts=True)\n",
    "\n",
    "num_instances=int(np.ceil(counts.min() * 0.9))\n",
    "# 构造每个类别的索引列表\n",
    "class_indices = {element: np.where(labels == element)[0] for element in unique_elements}\n",
    "# 对于每个类，随机选择 num_instances 个不同的索引，生成一个新的dict\n",
    "select_class_indices = {element: np.random.choice(indices, num_instances, replace=False) for element, indices in class_indices.items()}\n",
    "\n",
    "# 打印结果\n",
    "for element in unique_elements:\n",
    "    print(f\"类别: {element}, 个数: {len(select_class_indices[element])}, 索引: {select_class_indices[element]}\")\n",
    "print(type(class_indices))"
   ],
   "metadata": {
    "collapsed": false
   },
   "id": "3414e3821718186d",
   "execution_count": null
  },
  {
   "cell_type": "markdown",
   "source": [],
   "metadata": {
    "collapsed": false
   },
   "id": "383d71be37098036"
  },
  {
   "cell_type": "code",
   "outputs": [
    {
     "name": "stdout",
     "output_type": "stream",
     "text": [
      "类别: 0, 个数: 14, 索引: [ 6 18 22 23 25 49 51 54 57 58 81 82 95 98]\n",
      "类别: 1, 个数: 13, 索引: [ 2 24 30 32 50 56 62 77 85 86 89 92 93]\n",
      "类别: 2, 个数: 14, 索引: [ 3 10 15 19 40 44 46 48 65 69 71 72 79 80]\n",
      "类别: 3, 个数: 17, 索引: [ 1  8 14 27 28 29 34 36 59 60 66 76 83 87 88 91 94]\n",
      "类别: 4, 个数: 27, 索引: [ 4  5  9 11 12 16 20 21 26 31 35 37 38 39 41 43 47 52 61 64 67 70 73 84\n",
      " 90 97 99]\n",
      "类别: 5, 个数: 15, 索引: [ 0  7 13 17 33 42 45 53 55 63 68 74 75 78 96]\n",
      "[0, 0, 1, 1, 0, 0, 1, 1, 0, 1, 0, 1, 0, 1, 1, 1, 0, 1, 1, 1, 1, 0, 0, 1, 1, 0, 0, 1, 0, 1, 1, 1, 1, 1, 1, 0, 1, 0, 1, 0, 1, 0, 0, 0, 0, 1, 1, 0, 1, 1, 1, 1, 1, 1, 1, 0, 1, 1, 1, 0, 1, 1, 1, 1, 1, 1, 1, 0, 1, 1, 0, 1, 1, 1, 1, 1, 1, 1, 1, 1, 1, 1, 1, 1, 0, 1, 1, 0, 1, 0, 1, 1, 1, 1, 1, 1, 1, 1, 1, 1]\n",
      "类别: 0, 个数: 28, 索引: [ 0  1  4  5  8 10 12 16 21 22 25 26 28 35 37 39 41 42 43 44 47 55 59 67\n",
      " 70 84 87 89]\n",
      "类别: 1, 个数: 72, 索引: [ 2  3  6  7  9 11 13 14 15 17 18 19 20 23 24 27 29 30 31 32 33 34 36 38\n",
      " 40 45 46 48 49 50 51 52 53 54 56 57 58 60 61 62 63 64 65 66 68 69 71 72\n",
      " 73 74 75 76 77 78 79 80 81 82 83 85 86 88 90 91 92 93 94 95 96 97 98 99]\n"
     ]
    }
   ],
   "source": [
    "from utils.dataset_utils import init_population_for_balanced_dataset\n",
    "import numpy as np\n",
    "\n",
    "rows, cols = 40, 100\n",
    "\n",
    "# 创建 40×100 的二维列表\n",
    "matrix = [[0 for _ in range(cols)] for _ in range(rows)]\n",
    "random_labels = np.random.choice(6, size=100)\n",
    "\n",
    "# 使用 numpy.unique 获取类别、计数以及每个类别对应的索引\n",
    "unique_elements, counts = np.unique(random_labels, return_counts=True)\n",
    "\n",
    "num_instances=int(np.ceil(counts.min() * 0.9))\n",
    "# 构造每个类别的索引列表\n",
    "class_indices = {element: np.where(random_labels == element)[0] for element in unique_elements}\n",
    "\n",
    "# 遍历class_indices,输出每个类，以及每个类的数量，以及索引\n",
    "for element in unique_elements:\n",
    "    print(f\"类别: {element}, 个数: {len(class_indices[element])}, 索引: {class_indices[element]}\")\n",
    "\n",
    "pop=init_population_for_balanced_dataset(matrix, random_labels, 0.9)\n",
    "print(pop[2])\n",
    "\n",
    "unique_elements_ind, counts_ind = np.unique(pop[2], return_counts=True)\n",
    "class_indices_ind = {element: np.where(pop[2] == element)[0] for element in unique_elements_ind}\n",
    "# 输出每个类别及其对应的数量和索引\n",
    "for element in unique_elements_ind:\n",
    "    print(f\"类别: {element}, 个数: {len(class_indices_ind[element])}, 索引: {class_indices_ind[element]}\")\n"
   ],
   "metadata": {
    "collapsed": false,
    "ExecuteTime": {
     "end_time": "2024-12-19T15:27:36.372579Z",
     "start_time": "2024-12-19T15:27:36.352421Z"
    }
   },
   "id": "64e238e478e949f7",
   "execution_count": 4
  }
 ],
 "metadata": {
  "kernelspec": {
   "display_name": "Python 3",
   "language": "python",
   "name": "python3"
  },
  "language_info": {
   "codemirror_mode": {
    "name": "ipython",
    "version": 2
   },
   "file_extension": ".py",
   "mimetype": "text/x-python",
   "name": "python",
   "nbconvert_exporter": "python",
   "pygments_lexer": "ipython2",
   "version": "2.7.6"
  }
 },
 "nbformat": 4,
 "nbformat_minor": 5
}
