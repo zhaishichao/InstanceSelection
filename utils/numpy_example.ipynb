{
 "cells": [
  {
   "cell_type": "markdown",
   "source": [
    "# Numpy Example"
   ],
   "metadata": {
    "collapsed": false
   },
   "id": "70b4ca575cda5d20"
  },
  {
   "cell_type": "markdown",
   "source": [
    "### 循环"
   ],
   "metadata": {
    "collapsed": false
   },
   "id": "7299ac3c81f6bfec"
  },
  {
   "cell_type": "code",
   "outputs": [],
   "source": [
    "############################################################################\n",
    "#for i in range(start, stop, step):\n",
    "# 循环体\n",
    "# 打印 0 到 4\n",
    "for i in range(5):\n",
    "    print(i)\n",
    "\n",
    "# 打印 1 到 9，步长为 2\n",
    "for i in range(1, 10, 2):\n",
    "    print(i)\n",
    "#############################################################################\n",
    "my_list = [10, 20, 30, 40]\n",
    "for i in my_list:\n",
    "    print(i)\n",
    "\n",
    "# 遍历字符串\n",
    "for char in \"Python\":\n",
    "    print(char)\n",
    "############################################################################\n",
    "#for a, b in zip(seq1, seq2):\n",
    "# 循环体\n",
    "list1 = [1, 2, 3]\n",
    "list2 = ['a', 'b', 'c']\n",
    "\n",
    "for num, char in zip(list1, list2):\n",
    "    print(num, char)\n",
    "###########################################################################\n",
    "#for index, value in enumerate(sequence, start=0):\n",
    "# 循环体\n",
    "fruits = ['apple', 'banana', 'cherry']\n",
    "for index, fruit in enumerate(fruits, start=1):\n",
    "    print(index, fruit)\n",
    "###########################################################################\n",
    "# while condition:\n",
    "# 循环体\n",
    "# 打印 0 到 4\n",
    "i = 0\n",
    "while i < 5:\n",
    "    print(i)\n",
    "    i += 1\n",
    "############################################################################\n",
    "# 创建一个包含 0 到 9 的平方的列表\n",
    "squares = [x ** 2 for x in range(10)]\n",
    "print(squares)"
   ],
   "metadata": {
    "collapsed": false
   },
   "id": "50c8d4d3179dbdbb",
   "execution_count": null
  },
  {
   "cell_type": "markdown",
   "source": [
    "## ndarray"
   ],
   "metadata": {
    "collapsed": false
   },
   "id": "b79cacb3ae6f3a0b"
  },
  {
   "cell_type": "markdown",
   "source": [
    "### 沿某一维度删除元素"
   ],
   "metadata": {
    "collapsed": false
   },
   "id": "4f0b07abd5dbcd22"
  },
  {
   "cell_type": "code",
   "outputs": [],
   "source": [
    "import numpy as np\n",
    "\n",
    "arr = np.array([i for i in range(500)])\n",
    "# 沿第0维（即删除行）\n",
    "X_encoded = np.delete(arr, [33, 34, 35, 36, 262, 263, 264, 265], axis=0)"
   ],
   "metadata": {
    "collapsed": false
   },
   "id": "99be3fffbda21050",
   "execution_count": null
  },
  {
   "cell_type": "markdown",
   "source": [
    "### 得到array中某元素的索引"
   ],
   "metadata": {
    "collapsed": false
   },
   "id": "87f6a16a057b1e3e"
  },
  {
   "cell_type": "code",
   "outputs": [],
   "source": [
    "import numpy as np\n",
    "\n",
    "arr = np.random.randint(0, 3, size=(100,))\n",
    "indexs = np.where(arr == 2)  # 函数返回值是一个tuple\n",
    "print(indexs[0])"
   ],
   "metadata": {
    "collapsed": false
   },
   "id": "a88ed7b24f2c804a",
   "execution_count": null
  },
  {
   "cell_type": "markdown",
   "source": [
    "## 工具"
   ],
   "metadata": {
    "collapsed": false
   },
   "id": "cb2711e45111fb1f"
  },
  {
   "cell_type": "markdown",
   "source": [
    "### 计算汉明距离\n"
   ],
   "metadata": {
    "collapsed": false
   },
   "id": "6c255e5c7453d358"
  },
  {
   "cell_type": "code",
   "outputs": [],
   "source": [
    "\n",
    "a = [1, 1, 1, 0, 0, 0, 1, 1]\n",
    "b = [1, 1, 0, 0, 1, 1, 1, 1]\n",
    "# 计算a,b的汉明距离\n",
    "hamming_distance = sum(x != y for x, y in zip(a, b))\n",
    "print(hamming_distance)"
   ],
   "metadata": {
    "collapsed": false
   },
   "id": "e9b716a46f03bad8",
   "execution_count": null
  },
  {
   "cell_type": "markdown",
   "source": [
    "# 排序"
   ],
   "metadata": {
    "collapsed": false
   },
   "id": "b662f6d8e9deee1f"
  },
  {
   "cell_type": "code",
   "outputs": [
    {
     "name": "stdout",
     "output_type": "stream",
     "text": [
      "[1, 2, 3, 3, 43, 44, 56778]\n",
      "[56778, 44, 43, 3, 3, 2, 1]\n"
     ]
    }
   ],
   "source": [
    "list = [1, 2, 3, 44, 56778, 43, 3]\n",
    "print(sorted(list))\n",
    "# print(sorted(list, reverse=True))"
   ],
   "metadata": {
    "collapsed": false,
    "ExecuteTime": {
     "end_time": "2024-12-22T13:14:53.456936Z",
     "start_time": "2024-12-22T13:14:53.436892Z"
    }
   },
   "id": "35bc5812ba49832",
   "execution_count": 1
  },
  {
   "cell_type": "markdown",
   "source": [
    "### 二项分布"
   ],
   "metadata": {
    "collapsed": false
   },
   "id": "bc941798359a18e"
  },
  {
   "cell_type": "code",
   "outputs": [],
   "source": [
    "import random\n",
    "def exponential_distribution(lambda_, threshold):\n",
    "    '''\n",
    "    :param lambda_: 指数分布的参数λ（lambda）\n",
    "    :param threshold: 阈值（阈值决定了生成0或1）\n",
    "    :return:\n",
    "    '''\n",
    "    # 生成一个指数分布的随机数\n",
    "    value = random.expovariate(lambda_)\n",
    "    # 根据值与阈值的比较，生成 0 或 1\n",
    "    if value < threshold:\n",
    "        return 1\n",
    "    else:\n",
    "        return 0\n",
    "\n",
    "list = []\n",
    "for i in range(10000):\n",
    "    list.append(exponential_distribution(5, 1))\n",
    "# 求list中0和1分别有多少个，输出他们的比值\n",
    "print(1.0 * list.count(1) / list.count(0))"
   ],
   "metadata": {
    "collapsed": false
   },
   "id": "df7537119600fbd0",
   "execution_count": null
  },
  {
   "cell_type": "markdown",
   "source": [
    "### 获取每个类别的索引"
   ],
   "metadata": {
    "collapsed": false
   },
   "id": "602f5818e49bacec"
  },
  {
   "cell_type": "code",
   "outputs": [],
   "source": [
    "import numpy as np\n",
    "\n",
    "# 示例标签数据集\n",
    "labels = np.array([0,0,0,0,0,1,2,3,4,1,2,0,1,1,5,3,5,4,1,2,3,2,4,5])\n",
    "\n",
    "# 使用 numpy.unique 获取类别、计数以及每个类别对应的索引\n",
    "unique_elements, counts = np.unique(labels, return_counts=True)\n",
    "\n",
    "num_instances=int(np.ceil(counts.min() * 0.9))\n",
    "# 构造每个类别的索引列表\n",
    "class_indices = {element: np.where(labels == element)[0] for element in unique_elements}\n",
    "# 对于每个类，随机选择 num_instances 个不同的索引，生成一个新的dict\n",
    "select_class_indices = {element: np.random.choice(indices, num_instances, replace=False) for element, indices in class_indices.items()}\n",
    "\n",
    "# 打印结果\n",
    "for element in unique_elements:\n",
    "    print(f\"类别: {element}, 个数: {len(select_class_indices[element])}, 索引: {select_class_indices[element]}\")\n",
    "print(type(class_indices))"
   ],
   "metadata": {
    "collapsed": false
   },
   "id": "3414e3821718186d",
   "execution_count": null
  },
  {
   "cell_type": "markdown",
   "source": [],
   "metadata": {
    "collapsed": false
   },
   "id": "383d71be37098036"
  },
  {
   "cell_type": "code",
   "outputs": [
    {
     "name": "stdout",
     "output_type": "stream",
     "text": [
      "类别: 0, 个数: 15, 索引: [ 1  2  6 17 25 30 32 38 43 47 51 53 60 78 88]\n",
      "类别: 1, 个数: 15, 索引: [ 3  7 11 14 24 37 44 45 55 59 72 77 81 86 92]\n",
      "类别: 2, 个数: 16, 索引: [ 5 18 46 52 54 66 67 69 70 74 79 84 87 89 91 99]\n",
      "类别: 3, 个数: 18, 索引: [10 16 22 26 36 42 56 58 62 63 68 71 73 75 80 95 97 98]\n",
      "类别: 4, 个数: 20, 索引: [12 15 21 27 28 31 33 34 39 41 49 50 57 64 65 82 83 90 93 96]\n",
      "类别: 5, 个数: 16, 索引: [ 0  4  8  9 13 19 20 23 29 35 40 48 61 76 85 94]\n",
      "[1, 1, 1, 1, 1, 1, 1, 1, 1, 1, 1, 1, 1, 1, 1, 0, 0, 1, 1, 0, 0, 1, 1, 1, 1, 1, 1, 1, 1, 1, 1, 1, 1, 1, 1, 1, 1, 1, 1, 1, 1, 1, 1, 1, 1, 1, 1, 1, 1, 1, 0, 1, 1, 0, 1, 1, 1, 1, 0, 1, 1, 1, 1, 1, 0, 0, 1, 1, 1, 1, 1, 1, 1, 1, 1, 1, 1, 1, 1, 1, 0, 1, 0, 1, 0, 1, 0, 1, 1, 0, 0, 1, 1, 1, 1, 0, 1, 1, 1, 1]\n",
      "类别: 0, 个数: 16, 索引: [15 16 19 20 50 53 58 64 65 80 82 84 86 89 90 95]\n",
      "类别: 1, 个数: 84, 索引: [ 0  1  2  3  4  5  6  7  8  9 10 11 12 13 14 17 18 21 22 23 24 25 26 27\n",
      " 28 29 30 31 32 33 34 35 36 37 38 39 40 41 42 43 44 45 46 47 48 49 51 52\n",
      " 54 55 56 57 59 60 61 62 63 66 67 68 69 70 71 72 73 74 75 76 77 78 79 81\n",
      " 83 85 87 88 91 92 93 94 96 97 98 99]\n"
     ]
    },
    {
     "ename": "KeyboardInterrupt",
     "evalue": "",
     "output_type": "error",
     "traceback": [
      "\u001B[1;31m---------------------------------------------------------------------------\u001B[0m",
      "\u001B[1;31mKeyboardInterrupt\u001B[0m                         Traceback (most recent call last)",
      "Cell \u001B[1;32mIn[1], line 30\u001B[0m\n\u001B[0;32m     27\u001B[0m \u001B[38;5;28;01mfor\u001B[39;00m element \u001B[38;5;129;01min\u001B[39;00m unique_elements_ind:\n\u001B[0;32m     28\u001B[0m     \u001B[38;5;28mprint\u001B[39m(\u001B[38;5;124mf\u001B[39m\u001B[38;5;124m\"\u001B[39m\u001B[38;5;124m类别: \u001B[39m\u001B[38;5;132;01m{\u001B[39;00melement\u001B[38;5;132;01m}\u001B[39;00m\u001B[38;5;124m, 个数: \u001B[39m\u001B[38;5;132;01m{\u001B[39;00m\u001B[38;5;28mlen\u001B[39m(class_indices_ind[element])\u001B[38;5;132;01m}\u001B[39;00m\u001B[38;5;124m, 索引: \u001B[39m\u001B[38;5;132;01m{\u001B[39;00mclass_indices_ind[element]\u001B[38;5;132;01m}\u001B[39;00m\u001B[38;5;124m\"\u001B[39m)\n\u001B[1;32m---> 30\u001B[0m \u001B[38;5;28;43mprint\u001B[39;49m(\u001B[38;5;241m1\u001B[39m)\n",
      "Cell \u001B[1;32mIn[1], line 30\u001B[0m\n\u001B[0;32m     27\u001B[0m \u001B[38;5;28;01mfor\u001B[39;00m element \u001B[38;5;129;01min\u001B[39;00m unique_elements_ind:\n\u001B[0;32m     28\u001B[0m     \u001B[38;5;28mprint\u001B[39m(\u001B[38;5;124mf\u001B[39m\u001B[38;5;124m\"\u001B[39m\u001B[38;5;124m类别: \u001B[39m\u001B[38;5;132;01m{\u001B[39;00melement\u001B[38;5;132;01m}\u001B[39;00m\u001B[38;5;124m, 个数: \u001B[39m\u001B[38;5;132;01m{\u001B[39;00m\u001B[38;5;28mlen\u001B[39m(class_indices_ind[element])\u001B[38;5;132;01m}\u001B[39;00m\u001B[38;5;124m, 索引: \u001B[39m\u001B[38;5;132;01m{\u001B[39;00mclass_indices_ind[element]\u001B[38;5;132;01m}\u001B[39;00m\u001B[38;5;124m\"\u001B[39m)\n\u001B[1;32m---> 30\u001B[0m \u001B[38;5;28;43mprint\u001B[39;49m(\u001B[38;5;241m1\u001B[39m)\n",
      "File \u001B[1;32m_pydevd_bundle\\pydevd_cython_win32_39_64.pyx:1187\u001B[0m, in \u001B[0;36m_pydevd_bundle.pydevd_cython_win32_39_64.SafeCallWrapper.__call__\u001B[1;34m()\u001B[0m\n",
      "File \u001B[1;32m_pydevd_bundle\\pydevd_cython_win32_39_64.pyx:627\u001B[0m, in \u001B[0;36m_pydevd_bundle.pydevd_cython_win32_39_64.PyDBFrame.trace_dispatch\u001B[1;34m()\u001B[0m\n",
      "File \u001B[1;32m_pydevd_bundle\\pydevd_cython_win32_39_64.pyx:937\u001B[0m, in \u001B[0;36m_pydevd_bundle.pydevd_cython_win32_39_64.PyDBFrame.trace_dispatch\u001B[1;34m()\u001B[0m\n",
      "File \u001B[1;32m_pydevd_bundle\\pydevd_cython_win32_39_64.pyx:928\u001B[0m, in \u001B[0;36m_pydevd_bundle.pydevd_cython_win32_39_64.PyDBFrame.trace_dispatch\u001B[1;34m()\u001B[0m\n",
      "File \u001B[1;32m_pydevd_bundle\\pydevd_cython_win32_39_64.pyx:585\u001B[0m, in \u001B[0;36m_pydevd_bundle.pydevd_cython_win32_39_64.PyDBFrame.do_wait_suspend\u001B[1;34m()\u001B[0m\n",
      "File \u001B[1;32mD:\\IDE\\JetBrains\\PyCharm 2023.3.7\\plugins\\python\\helpers\\pydev\\pydevd.py:1184\u001B[0m, in \u001B[0;36mPyDB.do_wait_suspend\u001B[1;34m(self, thread, frame, event, arg, send_suspend_message, is_unhandled_exception)\u001B[0m\n\u001B[0;32m   1181\u001B[0m         from_this_thread\u001B[38;5;241m.\u001B[39mappend(frame_id)\n\u001B[0;32m   1183\u001B[0m \u001B[38;5;28;01mwith\u001B[39;00m \u001B[38;5;28mself\u001B[39m\u001B[38;5;241m.\u001B[39m_threads_suspended_single_notification\u001B[38;5;241m.\u001B[39mnotify_thread_suspended(thread_id, stop_reason):\n\u001B[1;32m-> 1184\u001B[0m     \u001B[38;5;28;43mself\u001B[39;49m\u001B[38;5;241;43m.\u001B[39;49m\u001B[43m_do_wait_suspend\u001B[49m\u001B[43m(\u001B[49m\u001B[43mthread\u001B[49m\u001B[43m,\u001B[49m\u001B[43m \u001B[49m\u001B[43mframe\u001B[49m\u001B[43m,\u001B[49m\u001B[43m \u001B[49m\u001B[43mevent\u001B[49m\u001B[43m,\u001B[49m\u001B[43m \u001B[49m\u001B[43marg\u001B[49m\u001B[43m,\u001B[49m\u001B[43m \u001B[49m\u001B[43msuspend_type\u001B[49m\u001B[43m,\u001B[49m\u001B[43m \u001B[49m\u001B[43mfrom_this_thread\u001B[49m\u001B[43m)\u001B[49m\n",
      "File \u001B[1;32mD:\\IDE\\JetBrains\\PyCharm 2023.3.7\\plugins\\python\\helpers\\pydev\\pydevd.py:1199\u001B[0m, in \u001B[0;36mPyDB._do_wait_suspend\u001B[1;34m(self, thread, frame, event, arg, suspend_type, from_this_thread)\u001B[0m\n\u001B[0;32m   1196\u001B[0m             \u001B[38;5;28mself\u001B[39m\u001B[38;5;241m.\u001B[39m_call_mpl_hook()\n\u001B[0;32m   1198\u001B[0m         \u001B[38;5;28mself\u001B[39m\u001B[38;5;241m.\u001B[39mprocess_internal_commands()\n\u001B[1;32m-> 1199\u001B[0m         \u001B[43mtime\u001B[49m\u001B[38;5;241;43m.\u001B[39;49m\u001B[43msleep\u001B[49m\u001B[43m(\u001B[49m\u001B[38;5;241;43m0.01\u001B[39;49m\u001B[43m)\u001B[49m\n\u001B[0;32m   1201\u001B[0m \u001B[38;5;28mself\u001B[39m\u001B[38;5;241m.\u001B[39mcancel_async_evaluation(get_current_thread_id(thread), \u001B[38;5;28mstr\u001B[39m(\u001B[38;5;28mid\u001B[39m(frame)))\n\u001B[0;32m   1203\u001B[0m \u001B[38;5;66;03m# process any stepping instructions\u001B[39;00m\n",
      "\u001B[1;31mKeyboardInterrupt\u001B[0m: "
     ]
    }
   ],
   "source": [
    "from instance_selection.multi_objective.genetic_operator import init_population_for_balanced_dataset\n",
    "import numpy as np\n",
    "\n",
    "rows, cols = 40, 100\n",
    "\n",
    "# 创建 40×100 的二维列表\n",
    "matrix = [[0 for _ in range(cols)] for _ in range(rows)]\n",
    "random_labels = np.random.choice(6, size=100)\n",
    "\n",
    "# 使用 numpy.unique 获取类别、计数以及每个类别对应的索引\n",
    "unique_elements, counts = np.unique(random_labels, return_counts=True)\n",
    "\n",
    "num_instances=int(np.ceil(counts.min() * 0.9))\n",
    "# 构造每个类别的索引列表\n",
    "class_indices = {element: np.where(random_labels == element)[0] for element in unique_elements}\n",
    "\n",
    "# 遍历class_indices,输出每个类，以及每个类的数量，以及索引\n",
    "for element in unique_elements:\n",
    "    print(f\"类别: {element}, 个数: {len(class_indices[element])}, 索引: {class_indices[element]}\")\n",
    "\n",
    "pop=init_population_for_balanced_dataset(matrix, random_labels, 0.9)\n",
    "print(pop[2])\n",
    "\n",
    "unique_elements_ind, counts_ind = np.unique(pop[2], return_counts=True)\n",
    "class_indices_ind = {element: np.where(pop[2] == element)[0] for element in unique_elements_ind}\n",
    "# 输出每个类别及其对应的数量和索引\n",
    "for element in unique_elements_ind:\n",
    "    print(f\"类别: {element}, 个数: {len(class_indices_ind[element])}, 索引: {class_indices_ind[element]}\")\n",
    "\n",
    "print(1)"
   ],
   "metadata": {
    "collapsed": false,
    "ExecuteTime": {
     "end_time": "2024-12-20T14:12:37.656570Z",
     "start_time": "2024-12-20T14:10:27.172407Z"
    }
   },
   "id": "64e238e478e949f7",
   "execution_count": 1
  },
  {
   "cell_type": "code",
   "outputs": [
    {
     "name": "stdout",
     "output_type": "stream",
     "text": [
      "{'a': array([1, 3]), 'b': array([6, 4])}\n"
     ]
    }
   ],
   "source": [
    "import numpy as np\n",
    "\n",
    "# 假设class_indices是类似这样的字典 {类别标识: [索引列表]}\n",
    "class_indices = {'a': [1, 2, 3], 'b': [4, 5, 6]}\n",
    "num_instances = 2\n",
    "result_dict = {}\n",
    "for element, indices in enumerate(class_indices.items()):\n",
    "    selected_indices = np.random.choice(indices[1], num_instances, replace=False)\n",
    "    result_dict[indices[0]] = selected_indices\n",
    "\n",
    "print(result_dict)"
   ],
   "metadata": {
    "collapsed": false,
    "ExecuteTime": {
     "end_time": "2024-12-22T17:23:33.336026Z",
     "start_time": "2024-12-22T17:23:33.322197Z"
    }
   },
   "id": "8be81448d900a6b0",
   "execution_count": 7
  }
 ],
 "metadata": {
  "kernelspec": {
   "display_name": "Python 3",
   "language": "python",
   "name": "python3"
  },
  "language_info": {
   "codemirror_mode": {
    "name": "ipython",
    "version": 2
   },
   "file_extension": ".py",
   "mimetype": "text/x-python",
   "name": "python",
   "nbconvert_exporter": "python",
   "pygments_lexer": "ipython2",
   "version": "2.7.6"
  }
 },
 "nbformat": 4,
 "nbformat_minor": 5
}
