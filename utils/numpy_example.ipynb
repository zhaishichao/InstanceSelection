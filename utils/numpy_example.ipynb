{
 "cells": [
  {
   "cell_type": "markdown",
   "source": [
    "# Numpy Example"
   ],
   "metadata": {
    "collapsed": false
   },
   "id": "70b4ca575cda5d20"
  },
  {
   "cell_type": "markdown",
   "source": [
    "### 循环"
   ],
   "metadata": {
    "collapsed": false
   },
   "id": "7299ac3c81f6bfec"
  },
  {
   "cell_type": "code",
   "outputs": [
    {
     "name": "stdout",
     "output_type": "stream",
     "text": [
      "0\n",
      "1\n",
      "2\n",
      "3\n",
      "4\n",
      "1\n",
      "3\n",
      "5\n",
      "7\n",
      "9\n",
      "10\n",
      "20\n",
      "30\n",
      "40\n",
      "P\n",
      "y\n",
      "t\n",
      "h\n",
      "o\n",
      "n\n",
      "1 a\n",
      "2 b\n",
      "3 c\n",
      "1 apple\n",
      "2 banana\n",
      "3 cherry\n",
      "0\n",
      "1\n",
      "2\n",
      "3\n",
      "4\n",
      "[0, 1, 4, 9, 16, 25, 36, 49, 64, 81]\n"
     ]
    }
   ],
   "source": [
    "############################################################################\n",
    "#for i in range(start, stop, step):\n",
    "# 循环体\n",
    "# 打印 0 到 4\n",
    "for i in range(5):\n",
    "    print(i)\n",
    "\n",
    "# 打印 1 到 9，步长为 2\n",
    "for i in range(1, 10, 2):\n",
    "    print(i)\n",
    "#############################################################################\n",
    "my_list = [10, 20, 30, 40]\n",
    "for i in my_list:\n",
    "    print(i)\n",
    "\n",
    "# 遍历字符串\n",
    "for char in \"Python\":\n",
    "    print(char)\n",
    "############################################################################\n",
    "#for a, b in zip(seq1, seq2):\n",
    "# 循环体\n",
    "list1 = [1, 2, 3]\n",
    "list2 = ['a', 'b', 'c']\n",
    "\n",
    "for num, char in zip(list1, list2):\n",
    "    print(num, char)\n",
    "###########################################################################\n",
    "#for index, value in enumerate(sequence, start=0):\n",
    "# 循环体\n",
    "fruits = ['apple', 'banana', 'cherry']\n",
    "for index, fruit in enumerate(fruits, start=1):\n",
    "    print(index, fruit)\n",
    "###########################################################################\n",
    "# while condition:\n",
    "# 循环体\n",
    "# 打印 0 到 4\n",
    "i = 0\n",
    "while i < 5:\n",
    "    print(i)\n",
    "    i += 1\n",
    "############################################################################\n",
    "# 创建一个包含 0 到 9 的平方的列表\n",
    "squares = [x ** 2 for x in range(10)]\n",
    "print(squares)\n"
   ],
   "metadata": {
    "collapsed": false,
    "ExecuteTime": {
     "end_time": "2024-12-10T14:52:16.993314Z",
     "start_time": "2024-12-10T14:52:16.965856Z"
    }
   },
   "id": "50c8d4d3179dbdbb",
   "execution_count": 1
  },
  {
   "cell_type": "markdown",
   "source": [
    "## ndarray"
   ],
   "metadata": {
    "collapsed": false
   },
   "id": "b79cacb3ae6f3a0b"
  },
  {
   "cell_type": "markdown",
   "source": [
    "### 沿某一维度删除元素"
   ],
   "metadata": {
    "collapsed": false
   },
   "id": "4f0b07abd5dbcd22"
  },
  {
   "cell_type": "code",
   "outputs": [],
   "source": [
    "import numpy as np\n",
    "\n",
    "arr = np.array([i for i in range(500)])\n",
    "# 沿第0维（即删除行）\n",
    "X_encoded = np.delete(arr, [33, 34, 35, 36, 262, 263, 264, 265], axis=0)"
   ],
   "metadata": {
    "collapsed": false
   },
   "id": "99be3fffbda21050",
   "execution_count": null
  },
  {
   "cell_type": "markdown",
   "source": [
    "### 得到array中某元素的索引"
   ],
   "metadata": {
    "collapsed": false
   },
   "id": "87f6a16a057b1e3e"
  },
  {
   "cell_type": "code",
   "outputs": [],
   "source": [
    "import numpy as np\n",
    "\n",
    "arr = np.random.randint(0, 3, size=(100,))\n",
    "indexs = np.where(arr == 2)  # 函数返回值是一个tuple\n",
    "print(indexs[0])"
   ],
   "metadata": {
    "collapsed": false
   },
   "id": "a88ed7b24f2c804a",
   "execution_count": null
  },
  {
   "cell_type": "markdown",
   "source": [
    "## 工具"
   ],
   "metadata": {
    "collapsed": false
   },
   "id": "cb2711e45111fb1f"
  },
  {
   "cell_type": "markdown",
   "source": [
    "### 计算汉明距离\n"
   ],
   "metadata": {
    "collapsed": false
   },
   "id": "6c255e5c7453d358"
  },
  {
   "cell_type": "code",
   "outputs": [
    {
     "name": "stdout",
     "output_type": "stream",
     "text": [
      "3\n"
     ]
    }
   ],
   "source": [
    "\n",
    "a = [1, 1, 1, 0, 0, 0, 1, 1]\n",
    "b = [1, 1, 0, 0, 1, 1, 1, 1]\n",
    "# 计算a,b的汉明距离\n",
    "hamming_distance = sum(x != y for x, y in zip(a, b))\n",
    "print(hamming_distance)"
   ],
   "metadata": {
    "collapsed": false,
    "ExecuteTime": {
     "end_time": "2024-12-10T07:50:29.397079Z",
     "start_time": "2024-12-10T07:50:29.384298Z"
    }
   },
   "id": "e9b716a46f03bad8",
   "execution_count": 4
  },
  {
   "cell_type": "markdown",
   "source": [
    "# 排序"
   ],
   "metadata": {
    "collapsed": false
   },
   "id": "b662f6d8e9deee1f"
  },
  {
   "cell_type": "code",
   "outputs": [
    {
     "name": "stdout",
     "output_type": "stream",
     "text": [
      "[1, 2, 3, 3, 43, 44, 56778]\n"
     ]
    }
   ],
   "source": [
    "list = [1, 2, 3, 44, 56778, 43, 3]\n",
    "print(sorted(list))\n",
    "# print(sorted(list, reverse=True))"
   ],
   "metadata": {
    "collapsed": false,
    "ExecuteTime": {
     "end_time": "2024-12-13T08:38:21.929324Z",
     "start_time": "2024-12-13T08:38:21.912914Z"
    }
   },
   "id": "35bc5812ba49832",
   "execution_count": 16
  },
  {
   "cell_type": "markdown",
   "source": [
    "### 二项分布"
   ],
   "metadata": {
    "collapsed": false
   },
   "id": "bc941798359a18e"
  },
  {
   "cell_type": "code",
   "outputs": [
    {
     "name": "stdout",
     "output_type": "stream",
     "text": [
      "48.01960784313726\n"
     ]
    }
   ],
   "source": [
    "import random\n",
    "def exponential_distribution(lambda_, threshold):\n",
    "    '''\n",
    "    :param lambda_: 指数分布的参数λ（lambda）\n",
    "    :param threshold: 阈值（阈值决定了生成0或1）\n",
    "    :return:\n",
    "    '''\n",
    "    # 生成一个指数分布的随机数\n",
    "    value = random.expovariate(lambda_)\n",
    "    # 根据值与阈值的比较，生成 0 或 1\n",
    "    if value < threshold:\n",
    "        return 1\n",
    "    else:\n",
    "        return 0\n",
    "\n",
    "list = []\n",
    "for i in range(10000):\n",
    "    list.append(exponential_distribution(4, 1))\n",
    "# 求list中0和1分别有多少个，输出他们的比值\n",
    "print(1.0 * list.count(1) / list.count(0))"
   ],
   "metadata": {
    "collapsed": false,
    "ExecuteTime": {
     "end_time": "2024-12-17T11:05:11.979169Z",
     "start_time": "2024-12-17T11:05:11.970168Z"
    }
   },
   "id": "df7537119600fbd0",
   "execution_count": 1
  },
  {
   "cell_type": "code",
   "outputs": [
    {
     "name": "stdout",
     "output_type": "stream",
     "text": [
      "[1, 2, 3, 4, 5, 6, 7, 8, 9, 10]\n"
     ]
    }
   ],
   "source": [
    "POPSIZE=11\n",
    "feasible_pop=[1,2,3,4,5,6]\n",
    "infeasible_pop=[7,8,9,10]\n",
    "pop = feasible_pop + infeasible_pop[:POPSIZE - len(feasible_pop)]\n",
    "print(pop)"
   ],
   "metadata": {
    "collapsed": false,
    "ExecuteTime": {
     "end_time": "2024-12-17T12:16:47.417612Z",
     "start_time": "2024-12-17T12:16:47.408150Z"
    }
   },
   "id": "9de3fac73ac65bf6",
   "execution_count": 5
  }
 ],
 "metadata": {
  "kernelspec": {
   "display_name": "Python 3",
   "language": "python",
   "name": "python3"
  },
  "language_info": {
   "codemirror_mode": {
    "name": "ipython",
    "version": 2
   },
   "file_extension": ".py",
   "mimetype": "text/x-python",
   "name": "python",
   "nbconvert_exporter": "python",
   "pygments_lexer": "ipython2",
   "version": "2.7.6"
  }
 },
 "nbformat": 4,
 "nbformat_minor": 5
}
