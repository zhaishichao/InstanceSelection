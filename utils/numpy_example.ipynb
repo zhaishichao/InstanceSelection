{
 "cells": [
  {
   "cell_type": "markdown",
   "source": [
    "# Numpy Example"
   ],
   "metadata": {
    "collapsed": false
   },
   "id": "70b4ca575cda5d20"
  },
  {
   "cell_type": "markdown",
   "source": [
    "### 循环"
   ],
   "metadata": {
    "collapsed": false
   },
   "id": "7299ac3c81f6bfec"
  },
  {
   "cell_type": "code",
   "outputs": [],
   "source": [
    "############################################################################\n",
    "#for i in range(start, stop, step):\n",
    "    # 循环体\n",
    "# 打印 0 到 4\n",
    "for i in range(5):\n",
    "    print(i)\n",
    "\n",
    "# 打印 1 到 9，步长为 2\n",
    "for i in range(1, 10, 2):\n",
    "    print(i)\n",
    "#############################################################################\n",
    "my_list = [10, 20, 30, 40]\n",
    "for i in my_list:\n",
    "    print(i)\n",
    "\n",
    "# 遍历字符串\n",
    "for char in \"Python\":\n",
    "    print(char)\n",
    "############################################################################\n",
    "#for a, b in zip(seq1, seq2):\n",
    "    # 循环体\n",
    "list1 = [1, 2, 3]\n",
    "list2 = ['a', 'b', 'c']\n",
    "\n",
    "for num, char in zip(list1, list2):\n",
    "    print(num, char)\n",
    "###########################################################################\n",
    "#for index, value in enumerate(sequence, start=0):\n",
    "    # 循环体\n",
    "fruits = ['apple', 'banana', 'cherry']\n",
    "for index, fruit in enumerate(fruits, start=1):\n",
    "    print(index, fruit)\n",
    "###########################################################################\n",
    "# while condition:\n",
    "    # 循环体\n",
    "# 打印 0 到 4\n",
    "i = 0\n",
    "while i < 5:\n",
    "    print(i)\n",
    "    i += 1\n",
    "############################################################################\n",
    "# 创建一个包含 0 到 9 的平方的列表\n",
    "squares = [x**2 for x in range(10)]\n",
    "print(squares)\n"
   ],
   "metadata": {
    "collapsed": false
   },
   "id": "50c8d4d3179dbdbb",
   "execution_count": null
  },
  {
   "cell_type": "markdown",
   "source": [
    "## ndarray"
   ],
   "metadata": {
    "collapsed": false
   },
   "id": "b79cacb3ae6f3a0b"
  },
  {
   "cell_type": "markdown",
   "source": [
    "### 沿某一维度删除元素"
   ],
   "metadata": {
    "collapsed": false
   },
   "id": "4f0b07abd5dbcd22"
  },
  {
   "cell_type": "code",
   "outputs": [],
   "source": [
    "import numpy as np\n",
    "\n",
    "arr = np.array([i for i in range(500)])\n",
    "# 沿第0维（即删除行）\n",
    "X_encoded = np.delete(arr, [33, 34, 35, 36, 262, 263, 264, 265], axis=0)"
   ],
   "metadata": {
    "collapsed": false
   },
   "id": "99be3fffbda21050",
   "execution_count": null
  },
  {
   "cell_type": "markdown",
   "source": [
    "### 得到array中某元素的索引"
   ],
   "metadata": {
    "collapsed": false
   },
   "id": "87f6a16a057b1e3e"
  },
  {
   "cell_type": "code",
   "outputs": [],
   "source": [
    "import numpy as np\n",
    "\n",
    "arr = np.random.randint(0, 3, size=(100,))\n",
    "indexs = np.where(arr == 2) # 函数返回值是一个tuple\n",
    "print(indexs[0])"
   ],
   "metadata": {
    "collapsed": false
   },
   "id": "a88ed7b24f2c804a",
   "execution_count": null
  }
 ],
 "metadata": {
  "kernelspec": {
   "display_name": "Python 3",
   "language": "python",
   "name": "python3"
  },
  "language_info": {
   "codemirror_mode": {
    "name": "ipython",
    "version": 2
   },
   "file_extension": ".py",
   "mimetype": "text/x-python",
   "name": "python",
   "nbconvert_exporter": "python",
   "pygments_lexer": "ipython2",
   "version": "2.7.6"
  }
 },
 "nbformat": 4,
 "nbformat_minor": 5
}
