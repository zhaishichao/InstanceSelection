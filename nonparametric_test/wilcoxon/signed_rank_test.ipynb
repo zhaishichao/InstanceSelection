{
 "cells": [
  {
   "metadata": {},
   "cell_type": "markdown",
   "source": "## Wilcoxon符号秩检验",
   "id": "51fa1949af843765"
  },
  {
   "metadata": {
    "ExecuteTime": {
     "end_time": "2025-04-28T02:56:32.121340Z",
     "start_time": "2025-04-28T02:56:31.936321Z"
    }
   },
   "cell_type": "code",
   "source": [
    "import numpy as np\n",
    "import pandas as pd\n",
    "from scipy import stats\n",
    "import itertools\n",
    "\n",
    "# 示例数据生成（实际替换为你的真实数据）\n",
    "np.random.seed(42)\n",
    "data = {\n",
    "    'NOS': np.random.normal(loc=0.85, scale=0.05, size=30),\n",
    "    'RUS': np.random.normal(loc=0.87, scale=0.05, size=30),\n",
    "    'ROS': np.random.normal(loc=0.88, scale=0.05, size=30),\n",
    "    'SMOTE': np.random.normal(loc=0.86, scale=0.05, size=30),\n",
    "    'BorderlineSMOTE-1': np.random.normal(loc=0.84, scale=0.05, size=30),\n",
    "    'KMeansSMOTE': np.random.normal(loc=0.85, scale=0.05, size=30),\n",
    "    'MILE':  np.random.normal(loc=0.86, scale=0.05, size=30)\n",
    "}\n",
    "df = pd.DataFrame(data)\n",
    "# 生成所有算法对\n",
    "algorithms = df.columns.tolist()\n",
    "pairs = list(itertools.combinations(algorithms, 2))\n",
    "\n",
    "# 存储结果\n",
    "results = []\n",
    "\n",
    "# 执行所有两两比较\n",
    "for pair in pairs:\n",
    "    stat, p = stats.wilcoxon(df[pair[0]], df[pair[1]])\n",
    "    results.append({\n",
    "        'Algorithm 1': pair[0],\n",
    "        'Algorithm 2': pair[1],\n",
    "        'Statistic': stat,\n",
    "        'p-value': p\n",
    "    })\n",
    "\n",
    "# 转换为DataFrame\n",
    "results_df = pd.DataFrame(results)\n",
    "print(results_df)"
   ],
   "id": "ae14b93597a5ac6a",
   "outputs": [
    {
     "name": "stdout",
     "output_type": "stream",
     "text": [
      "          Algorithm 1        Algorithm 2  Statistic   p-value\n",
      "0                 NOS                RUS      137.0  0.049710\n",
      "1                 NOS                ROS       92.0  0.002987\n",
      "2                 NOS              SMOTE      162.0  0.151887\n",
      "3                 NOS  BorderlineSMOTE-1      227.0  0.919297\n",
      "4                 NOS        KMeansSMOTE      127.0  0.029326\n",
      "5                 NOS               MILE      146.0  0.076721\n",
      "6                 RUS                ROS      185.0  0.338742\n",
      "7                 RUS              SMOTE      213.0  0.700033\n",
      "8                 RUS  BorderlineSMOTE-1      117.0  0.016431\n",
      "9                 RUS        KMeansSMOTE      227.0  0.919297\n",
      "10                RUS               MILE      225.0  0.887195\n",
      "11                ROS              SMOTE      159.0  0.134735\n",
      "12                ROS  BorderlineSMOTE-1       78.0  0.000952\n",
      "13                ROS        KMeansSMOTE      173.0  0.228553\n",
      "14                ROS               MILE      137.0  0.049710\n",
      "15              SMOTE  BorderlineSMOTE-1      142.0  0.063556\n",
      "16              SMOTE        KMeansSMOTE      202.0  0.542528\n",
      "17              SMOTE               MILE      223.0  0.855272\n",
      "18  BorderlineSMOTE-1        KMeansSMOTE      142.0  0.063556\n",
      "19  BorderlineSMOTE-1               MILE      142.0  0.063556\n",
      "20        KMeansSMOTE               MILE      229.0  0.951526\n"
     ]
    }
   ],
   "execution_count": 2
  },
  {
   "metadata": {
    "ExecuteTime": {
     "end_time": "2025-04-26T04:14:21.987799Z",
     "start_time": "2025-04-26T04:14:21.502663Z"
    }
   },
   "cell_type": "code",
   "source": [
    "from statsmodels.stats.multitest import multipletests\n",
    "\n",
    "# 提取原始p值\n",
    "p_values = results_df['p-value'].values\n",
    "\n",
    "# 应用Benjamini-Hochberg校正（控制FDR）\n",
    "rejected, corrected_p, _, _ = multipletests(p_values, method='fdr_bh')\n",
    "\n",
    "# 添加校正后结果\n",
    "results_df['Corrected p-value'] = corrected_p\n",
    "results_df['Significant (α=0.05)'] = rejected\n",
    "\n",
    "print(results_df.sort_values(by='p-value'))"
   ],
   "id": "b3bb89cf1f25f89f",
   "outputs": [
    {
     "name": "stdout",
     "output_type": "stream",
     "text": [
      "  Algorithm 1 Algorithm 2  Wilcoxon Statistic   p-value  Corrected p-value  \\\n",
      "8           C           E                78.0  0.000952           0.009518   \n",
      "1           A           C                92.0  0.002987           0.014935   \n",
      "6           B           E               117.0  0.016431           0.054771   \n",
      "0           A           B               137.0  0.049710           0.124275   \n",
      "9           D           E               142.0  0.063556           0.127113   \n",
      "7           C           D               159.0  0.134735           0.216981   \n",
      "2           A           D               162.0  0.151887           0.216981   \n",
      "4           B           C               185.0  0.338742           0.423427   \n",
      "5           B           D               213.0  0.700033           0.777814   \n",
      "3           A           E               227.0  0.919297           0.919297   \n",
      "\n",
      "   Significant (α=0.05)  \n",
      "8                  True  \n",
      "1                  True  \n",
      "6                 False  \n",
      "0                 False  \n",
      "9                 False  \n",
      "7                 False  \n",
      "2                 False  \n",
      "4                 False  \n",
      "5                 False  \n",
      "3                 False  \n"
     ]
    }
   ],
   "execution_count": 2
  },
  {
   "metadata": {
    "ExecuteTime": {
     "end_time": "2025-04-28T02:56:35.649802Z",
     "start_time": "2025-04-28T02:56:35.632924Z"
    }
   },
   "cell_type": "code",
   "source": [
    "data = {\n",
    "    'NOS': np.random.normal(loc=0.85, scale=0.05, size=30),\n",
    "    'RUS': np.random.normal(loc=0.87, scale=0.05, size=30),\n",
    "    'ROS': np.random.normal(loc=0.88, scale=0.05, size=30),\n",
    "    'SMOTE': np.random.normal(loc=0.86, scale=0.05, size=30),\n",
    "    'BorderlineSMOTE-1': np.random.normal(loc=0.84, scale=0.05, size=30),\n",
    "    'KMeansSMOTE': np.random.normal(loc=0.85, scale=0.05, size=30),\n",
    "    'MILE':  np.random.normal(loc=0.86, scale=0.05, size=30)\n",
    "}\n",
    "print(data)"
   ],
   "id": "59f51810eb4a1b0c",
   "outputs": [
    {
     "name": "stdout",
     "output_type": "stream",
     "text": [
      "{'NOS': array([0.87854453, 0.90677828, 0.89770009, 0.88256956, 0.83423654,\n",
      "       0.88794846, 0.81135874, 0.83815907, 0.82573182, 0.85409371,\n",
      "       0.96573293, 0.75663674, 0.88431301, 0.76936421, 0.82640341,\n",
      "       0.90444753, 0.853214  , 0.79611276, 0.81423481, 0.88397989,\n",
      "       0.81348167, 0.86082293, 0.85227859, 0.81741998, 0.9571972 ,\n",
      "       0.88169595, 0.74874287, 0.85932272, 0.81691068, 0.89262167]), 'RUS': array([0.83037396, 0.86426318, 0.89524936, 0.91328776, 0.80998518,\n",
      "       0.85327494, 0.84625273, 0.83733354, 0.95827271, 0.89024909,\n",
      "       0.8069558 , 0.9158931 , 0.97610781, 0.92162326, 0.7940315 ,\n",
      "       0.8457883 , 0.93334556, 0.83461653, 0.89219097, 0.9087317 ,\n",
      "       0.82365348, 0.86702373, 0.70793663, 0.81878062, 0.85737159,\n",
      "       0.80761084, 0.95162057, 0.79849293, 0.84799778, 0.87653703]), 'ROS': array([0.95206366, 0.80820689, 0.93815819, 0.88051165, 0.83092457,\n",
      "       0.90310517, 0.88995298, 0.84998916, 0.8834901 , 0.86073432,\n",
      "       0.88567587, 0.91310653, 0.95930084, 0.81810923, 0.98665167,\n",
      "       0.78239561, 0.87241075, 0.90941586, 0.89404959, 0.84886502,\n",
      "       0.86959389, 0.85534995, 0.85053176, 0.9224801 , 0.89785077,\n",
      "       0.84535452, 0.92497999, 0.89536498, 0.92064311, 0.91148144]), 'SMOTE': array([0.81855025, 0.83199095, 0.89736468, 0.89051851, 0.85895492,\n",
      "       0.86586637, 0.92388324, 0.83042143, 0.88735487, 0.84989037,\n",
      "       0.84911594, 0.91493884, 0.90127082, 0.90067548, 0.92527394,\n",
      "       0.86105019, 0.89409765, 0.84448666, 0.87620832, 0.85349285,\n",
      "       0.8648498 , 0.88975785, 0.81908897, 0.96461936, 0.80969913,\n",
      "       0.79929057, 0.91790554, 0.89958313, 0.89120599, 0.89141728]), 'BorderlineSMOTE-1': array([0.83938766, 0.79513728, 0.84379023, 0.80614191, 0.88875599,\n",
      "       0.83264713, 0.79872514, 0.82393071, 0.86064657, 0.81181377,\n",
      "       0.79888898, 0.85218436, 0.85224833, 0.81465284, 0.81644808,\n",
      "       0.8516025 , 0.76759578, 0.76962681, 0.80407779, 0.82932764,\n",
      "       0.85554538, 0.91376781, 0.88288298, 0.83200307, 0.83904919,\n",
      "       0.78987353, 0.83907434, 0.82556707, 0.85613593, 0.79863845]), 'KMeansSMOTE': array([0.87596733, 0.92663695, 0.84456199, 0.87008559, 0.8845072 ,\n",
      "       0.82993898, 0.86120462, 0.85062962, 0.8548838 , 0.81134951,\n",
      "       0.85122551, 0.87489991, 0.92255718, 0.89796354, 0.95765912,\n",
      "       0.81163262, 0.89361603, 0.8591671 , 0.95949015, 0.80958509,\n",
      "       0.80801391, 0.82003037, 0.74380521, 0.82371225, 0.81204337,\n",
      "       0.85751969, 0.8670878 , 0.94380854, 0.89752119, 0.82115482]), 'MILE': array([0.81507927, 0.88459596, 0.79398834, 0.95157294, 0.91897201,\n",
      "       0.83654122, 0.77434327, 0.92769362, 0.85427301, 0.92189082,\n",
      "       0.78027862, 0.83003125, 0.86026218, 0.86234903, 0.83749673,\n",
      "       0.8911425 , 0.80661898, 0.85288103, 0.86601478, 0.88572194,\n",
      "       0.89558074, 0.8037679 , 0.78329429, 0.92388384, 0.8766157 ,\n",
      "       0.82257567, 0.9375576 , 0.86578373, 0.91896486, 0.86337592])}\n"
     ]
    }
   ],
   "execution_count": 3
  }
 ],
 "metadata": {
  "kernelspec": {
   "display_name": "Python 3",
   "language": "python",
   "name": "python3"
  },
  "language_info": {
   "codemirror_mode": {
    "name": "ipython",
    "version": 2
   },
   "file_extension": ".py",
   "mimetype": "text/x-python",
   "name": "python",
   "nbconvert_exporter": "python",
   "pygments_lexer": "ipython2",
   "version": "2.7.6"
  }
 },
 "nbformat": 4,
 "nbformat_minor": 5
}
