{
 "cells": [
  {
   "cell_type": "code",
   "outputs": [
    {
     "name": "stderr",
     "output_type": "stream",
     "text": [
      "D:\\IDE\\Anaconda\\envs\\pytorch\\lib\\site-packages\\sklearn\\preprocessing\\_label.py:114: DataConversionWarning: A column-vector y was passed when a 1d array was expected. Please change the shape of y to (n_samples, ), for example using ravel().\n",
      "  y = column_or_1d(y, warn=True)\n"
     ]
    }
   ],
   "source": [
    "from sklearn.model_selection import train_test_split\n",
    "from sklearn.preprocessing import LabelEncoder, StandardScaler\n",
    "from sklearn.neural_network import MLPClassifier\n",
    "from sklearn.metrics import classification_report, accuracy_score\n",
    "import pandas as pd\n",
    "\n",
    "# 加载数据\n",
    "from ucimlrepo import fetch_ucirepo\n",
    "\n",
    "# 获取 Nursery 数据集\n",
    "nursery = fetch_ucirepo(id=76)\n",
    "\n",
    "# 数据\n",
    "X = nursery.data.features\n",
    "y = nursery.data.targets\n",
    "\n",
    "# Step 1: 数据预处理\n",
    "# 将特征和目标变量编码为数值\n",
    "X_encoded = pd.get_dummies(X)  # 独热编码特征\n",
    "label_encoder = LabelEncoder()\n",
    "y_encoded = label_encoder.fit_transform(y)  # 编码目标变量\n",
    "\n",
    "# 标准化特征\n",
    "scaler = StandardScaler()\n",
    "X_scaled = scaler.fit_transform(X_encoded)\n",
    "\n",
    "# Step 2: 划分数据集\n",
    "X_train, X_test, y_train, y_test = train_test_split(X_scaled, y_encoded, test_size=0.2, random_state=42)\n",
    "\n",
    "# Step 3: 定义 MLP 模型\n",
    "mlp = MLPClassifier(hidden_layer_sizes=(100, 50), activation='relu', solver='adam', max_iter=300, random_state=42)\n",
    "\n",
    "# Step 4: 训练模型\n",
    "mlp.fit(X_train, y_train)\n",
    "\n",
    "# Step 5: 模型评估\n",
    "y_pred = mlp.predict(X_test)\n",
    "\n",
    "# 分类报告\n",
    "report = classification_report(y_test, y_pred, target_names=label_encoder.classes_)\n",
    "print(\"分类报告:\\n\", report)\n",
    "\n",
    "# 按类别输出预测准确度\n",
    "for i, class_name in enumerate(label_encoder.classes_):\n",
    "    class_accuracy = accuracy_score(y_test[y_test == i], y_pred[y_test == i])\n",
    "    print(f\"类别 '{class_name}' 的预测准确度: {class_accuracy:.2f}\")\n"
   ],
   "metadata": {
    "collapsed": false,
    "is_executing": true,
    "ExecuteTime": {
     "start_time": "2024-11-18T17:56:27.318476Z"
    }
   },
   "id": "1b78a1bc888926cf",
   "execution_count": null
  },
  {
   "cell_type": "code",
   "outputs": [
    {
     "name": "stdout",
     "output_type": "stream",
     "text": [
      "[1, 2, 3, 4, 5, 6, 7, 8, 9, 10]\n"
     ]
    }
   ],
   "source": [
    "import random\n",
    "\n",
    "offspring=[1,2,3,4,5,6,7,8,9,10]\n",
    "for ind1, ind2 in zip(offspring[::2], offspring[1::2]):\n",
    "    if random.random() <= 0.5:\n",
    "        ind1*=10\n",
    "        ind2*=10\n",
    "print(offspring)"
   ],
   "metadata": {
    "collapsed": false,
    "ExecuteTime": {
     "end_time": "2024-11-19T07:29:35.505570Z",
     "start_time": "2024-11-19T07:29:35.499701Z"
    }
   },
   "id": "2e869221b014416e",
   "execution_count": 2
  },
  {
   "cell_type": "code",
   "outputs": [
    {
     "name": "stdout",
     "output_type": "stream",
     "text": [
      "类别信息:\n",
      "类别 setosa:\n",
      " - 测试集数量: 15\n",
      " - 预测正确数量: 15\n",
      " - 预测错误数量: 0\n",
      "类别 versicolor:\n",
      " - 测试集数量: 15\n",
      " - 预测正确数量: 14\n",
      " - 预测错误数量: 1\n",
      "类别 virginica:\n",
      " - 测试集数量: 15\n",
      " - 预测正确数量: 12\n",
      " - 预测错误数量: 3\n"
     ]
    }
   ],
   "source": [
    "from sklearn.datasets import load_iris\n",
    "from sklearn.model_selection import train_test_split\n",
    "from sklearn.preprocessing import StandardScaler\n",
    "from sklearn.neural_network import MLPClassifier\n",
    "from sklearn.metrics import confusion_matrix\n",
    "import numpy as np\n",
    "\n",
    "# 加载鸢尾花数据集\n",
    "iris = load_iris()\n",
    "X = iris.data\n",
    "y = iris.target\n",
    "class_names = iris.target_names\n",
    "\n",
    "# 数据拆分为训练集和测试集\n",
    "X_train, X_test, y_train, y_test = train_test_split(X, y, test_size=0.3, random_state=42, stratify=y)\n",
    "\n",
    "# 数据标准化\n",
    "scaler = StandardScaler()\n",
    "X_train = scaler.fit_transform(X_train)\n",
    "X_test = scaler.transform(X_test)\n",
    "\n",
    "# 定义并训练MLP模型\n",
    "mlp = MLPClassifier(hidden_layer_sizes=(10, 10), max_iter=1000, random_state=42)\n",
    "mlp.fit(X_train, y_train)\n",
    "\n",
    "# 测试集预测\n",
    "y_pred = mlp.predict(X_test)\n",
    "\n",
    "# 混淆矩阵\n",
    "cm = confusion_matrix(y_test, y_pred)\n",
    "\n",
    "# 输出结果\n",
    "print(\"类别信息:\")\n",
    "for i, class_name in enumerate(class_names):\n",
    "    total_count = np.sum(y_test == i)\n",
    "    correct_count = cm[i, i]\n",
    "    incorrect_count = total_count - correct_count\n",
    "    print(f\"类别 {class_name}:\")\n",
    "    print(f\" - 测试集数量: {total_count}\")\n",
    "    print(f\" - 预测正确数量: {correct_count}\")\n",
    "    print(f\" - 预测错误数量: {incorrect_count}\")\n"
   ],
   "metadata": {
    "collapsed": false,
    "ExecuteTime": {
     "end_time": "2024-11-19T10:27:25.030176Z",
     "start_time": "2024-11-19T10:27:24.106210Z"
    }
   },
   "id": "aada2faae661266e",
   "execution_count": 3
  },
  {
   "cell_type": "code",
   "outputs": [
    {
     "name": "stdout",
     "output_type": "stream",
     "text": [
      "[[0, 0, 0, 0, 0, 0, 0, 0, 0, 0], [0, 0, 0, 0, 0, 0, 0, 0, 0, 0], [0, 0, 0, 0, 0, 0, 0, 0, 0, 0], [0, 0, 0, 0, 0, 0, 0, 0, 0, 0], [0, 0, 0, 0, 0, 0, 0, 0, 0, 0], [0, 0, 0, 0, 0, 0, 0, 0, 0, 0], [0, 0, 0, 0, 0, 0, 0, 0, 0, 0], [0, 0, 0, 0, 0, 0, 0, 0, 0, 0], [0, 0, 0, 0, 0, 0, 0, 0, 0, 0], [0, 0, 0, 0, 0, 0, 0, 0, 0, 0]]\n"
     ]
    }
   ],
   "source": [
    "accfailcred = [[0 for _ in range(10)] for _ in range(10)]\n",
    "print(accfailcred)"
   ],
   "metadata": {
    "collapsed": false,
    "ExecuteTime": {
     "end_time": "2024-11-19T11:01:44.211380Z",
     "start_time": "2024-11-19T11:01:44.194704Z"
    }
   },
   "id": "f76005355ee5f6ef",
   "execution_count": 4
  },
  {
   "cell_type": "code",
   "outputs": [
    {
     "name": "stdout",
     "output_type": "stream",
     "text": [
      "[6, 15, 24]\n"
     ]
    }
   ],
   "source": [
    "# 定义一个二维列表\n",
    "matrix = [\n",
    "    [1, 2, 3],\n",
    "    [4, 5, 6],\n",
    "    [7, 8, 9]\n",
    "]\n",
    "\n",
    "# 使用列表推导式对每一行求和\n",
    "row_sums = [sum(row) for row in matrix]\n",
    "print(row_sums)  # 输出: [6, 15, 24]\n"
   ],
   "metadata": {
    "collapsed": false,
    "ExecuteTime": {
     "end_time": "2024-11-19T11:07:22.780831Z",
     "start_time": "2024-11-19T11:07:22.764821Z"
    }
   },
   "id": "a10539566c0fe0e",
   "execution_count": 9
  },
  {
   "cell_type": "code",
   "outputs": [
    {
     "name": "stdout",
     "output_type": "stream",
     "text": [
      "\n",
      "按列投票计算的最终分类结果:\n",
      "[1 0 0]\n"
     ]
    }
   ],
   "source": [
    "import numpy as np\n",
    "from scipy.stats import mode\n",
    "\n",
    "# 示例二维列表，每行是一个样本，每列是一个基分类器的预测结果\n",
    "list_2d = [\n",
    "    [1, 0, 1],\n",
    "    [1, 0, 1],\n",
    "    [1, 1, 0],\n",
    "    [0, 1, 0]\n",
    "]\n",
    "\n",
    "\n",
    "# 按列投票，取每列中出现次数最多的类别作为最终分类结果\n",
    "final_result = mode(list_2d, axis=0, keepdims=False).mode.flatten()\n",
    "\n",
    "print(\"\\n按列投票计算的最终分类结果:\")\n",
    "print(final_result)\n"
   ],
   "metadata": {
    "collapsed": false,
    "ExecuteTime": {
     "end_time": "2024-11-19T16:45:32.041314Z",
     "start_time": "2024-11-19T16:45:32.035856Z"
    }
   },
   "id": "b850c78fff45a5a",
   "execution_count": 16
  },
  {
   "cell_type": "markdown",
   "source": [
    "### 可以画出前沿"
   ],
   "metadata": {
    "collapsed": false
   },
   "id": "d92182588cfe0423"
  },
  {
   "cell_type": "code",
   "outputs": [],
   "source": [
    "import random\n",
    "import numpy as np\n",
    "import matplotlib.pyplot as plt\n",
    "from deap import base, creator, tools, algorithms\n",
    "\n",
    "# 定义优化问题（双目标：最小化f1和f2）\n",
    "def evaluate(individual):\n",
    "    x = individual[0]\n",
    "    y = individual[1]\n",
    "    # 示例目标函数\n",
    "    f1 = x**2 + y**2  # 最小化目标1\n",
    "    f2 = (x - 1)**2 + y**2  # 最小化目标2\n",
    "    return f1, f2\n",
    "\n",
    "# 初始化DEAP环境\n",
    "creator.create(\"FitnessMin\", base.Fitness, weights=(-1.0, -1.0))  # 双目标最小化\n",
    "creator.create(\"Individual\", list, fitness=creator.FitnessMin)\n",
    "toolbox = base.Toolbox()\n",
    "\n",
    "# 定义个体和种群\n",
    "toolbox.register(\"attr_float\", random.uniform, -1.0, 1.0)\n",
    "toolbox.register(\"individual\", tools.initRepeat, creator.Individual, toolbox.attr_float, n=2)\n",
    "toolbox.register(\"population\", tools.initRepeat, list, toolbox.individual)\n",
    "\n",
    "# 注册操作\n",
    "toolbox.register(\"evaluate\", evaluate)\n",
    "toolbox.register(\"mate\", tools.cxBlend, alpha=0.5)\n",
    "toolbox.register(\"mutate\", tools.mutGaussian, mu=0, sigma=0.1, indpb=0.2)\n",
    "toolbox.register(\"select\", tools.selNSGA2)\n",
    "\n",
    "# 可视化函数\n",
    "def plot_front(population, gen, title):\n",
    "    \"\"\"绘制当前代非支配排序的第一等级前沿\"\"\"\n",
    "    fronts = tools.sortNondominated(population, len(population), first_front_only=True)[0]\n",
    "    fitnesses = [ind.fitness.values for ind in fronts]\n",
    "    plt.scatter(*zip(*fitnesses), marker='o', label=f\"Generation {gen}\")\n",
    "    plt.title(title)\n",
    "    plt.xlabel(\"Objective 1\")\n",
    "    plt.ylabel(\"Objective 2\")\n",
    "    plt.legend()\n",
    "    plt.grid()\n",
    "    plt.show()\n",
    "    plt.close()\n",
    "\n",
    "# 主函数\n",
    "def main():\n",
    "    random.seed(42)\n",
    "    \n",
    "    # 参数设置\n",
    "    pop_size = 100\n",
    "    generations = 50\n",
    "    mutation_prob = 0.2\n",
    "    crossover_prob = 0.7\n",
    "\n",
    "    # 初始化种群\n",
    "    population = toolbox.population(n=pop_size)\n",
    "\n",
    "    # 计算初始种群适应度\n",
    "    fitnesses = map(toolbox.evaluate, population)\n",
    "    for ind, fit in zip(population, fitnesses):\n",
    "        ind.fitness.values = fit\n",
    "\n",
    "    # 记录过程信息\n",
    "    logbook = tools.Logbook()\n",
    "    logbook.header = [\"gen\", \"nevals\", \"fronts\"]\n",
    "\n",
    "    # 演化过程\n",
    "    for gen in range(1, generations + 1):\n",
    "        # 选择父代\n",
    "        offspring = toolbox.select(population, len(population))\n",
    "        offspring = list(map(toolbox.clone, offspring))\n",
    "\n",
    "        # 交叉和变异\n",
    "        for child1, child2 in zip(offspring[::2], offspring[1::2]):\n",
    "            if random.random() < crossover_prob:\n",
    "                toolbox.mate(child1, child2)\n",
    "                del child1.fitness.values\n",
    "                del child2.fitness.values\n",
    "        for mutant in offspring:\n",
    "            if random.random() < mutation_prob:\n",
    "                toolbox.mutate(mutant)\n",
    "                del mutant.fitness.values\n",
    "\n",
    "        # 重新评估适应度\n",
    "        invalid_ind = [ind for ind in offspring if not ind.fitness.valid]\n",
    "        fitnesses = map(toolbox.evaluate, invalid_ind)\n",
    "        for ind, fit in zip(invalid_ind, fitnesses):\n",
    "            ind.fitness.values = fit\n",
    "\n",
    "        # 更新种群\n",
    "        population = toolbox.select(population + offspring, pop_size)\n",
    "\n",
    "        # 获取非支配排序的第一前沿\n",
    "        fronts = tools.sortNondominated(population, len(population), first_front_only=True)[0]\n",
    "\n",
    "        # 记录并绘制当前代的前沿\n",
    "        logbook.record(gen=gen, nevals=len(invalid_ind), fronts=len(fronts))\n",
    "        print(f\"Generation {gen}: Evaluated {len(invalid_ind)} individuals.\")\n",
    "        plot_front(population, gen, title=\"Pareto Front (Current Generation)\")\n",
    "\n",
    "    # 返回最后一代的种群和前沿\n",
    "    final_front = tools.sortNondominated(population, len(population), first_front_only=True)[0]\n",
    "    return population, final_front, logbook\n",
    "\n",
    "# 执行主函数\n",
    "if __name__ == \"__main__\":\n",
    "    pop, front, logs = main()\n"
   ],
   "metadata": {
    "collapsed": false
   },
   "id": "53ac42be6a2d2c8c",
   "execution_count": null
  },
  {
   "cell_type": "code",
   "outputs": [
    {
     "name": "stdout",
     "output_type": "stream",
     "text": [
      "0\n",
      "-5\n"
     ]
    }
   ],
   "source": [
    "import random\n",
    "\n",
    "# 生成 1 到 10 之间的随机整数（包括 1 和 10）\n",
    "rand_num = random.randint(0, 1)\n",
    "print(rand_num)\n",
    "\n",
    "# 在负数范围内生成随机整数\n",
    "negative_rand = random.randint(-10, -1)\n",
    "print(negative_rand)\n"
   ],
   "metadata": {
    "collapsed": false,
    "ExecuteTime": {
     "end_time": "2024-11-21T15:34:03.659980Z",
     "start_time": "2024-11-21T15:34:03.652986Z"
    }
   },
   "id": "d1d429d66c092174",
   "execution_count": 8
  },
  {
   "cell_type": "code",
   "outputs": [
    {
     "name": "stdout",
     "output_type": "stream",
     "text": [
      "\n",
      "分类报告:\n",
      " {'0': {'precision': 1.0, 'recall': 1.0, 'f1-score': 1.0, 'support': 2.0}, '1': {'precision': 0.6666666666666666, 'recall': 0.6666666666666666, 'f1-score': 0.6666666666666666, 'support': 3.0}, '2': {'precision': 0.5, 'recall': 0.5, 'f1-score': 0.5, 'support': 2.0}, 'accuracy': 0.7142857142857143, 'macro avg': {'precision': 0.7222222222222222, 'recall': 0.7222222222222222, 'f1-score': 0.7222222222222222, 'support': 7.0}, 'weighted avg': {'precision': 0.7142857142857143, 'recall': 0.7142857142857143, 'f1-score': 0.7142857142857143, 'support': 7.0}}\n",
      "Class 0: Recall = 1.00\n",
      "Class 1: Recall = 0.67\n",
      "Class 2: Recall = 0.50\n"
     ]
    }
   ],
   "source": [
    "from sklearn.metrics import classification_report\n",
    "\n",
    "# 示例数据\n",
    "y_true = [0, 1, 2, 0, 1, 2, 1]  # 真实标签\n",
    "y_pred = [0, 1, 2, 0, 2, 1, 1]  # 预测标签\n",
    "\n",
    "# 生成分类报告\n",
    "report = classification_report(y_true, y_pred, output_dict=True)\n",
    "print(\"\\n分类报告:\\n\", classification_report(y_true, y_pred, output_dict=True))\n",
    "# 每个类别的 Recall\n",
    "for cls, metrics in report.items():\n",
    "    if cls.isdigit():  # 筛选出类别\n",
    "        print(f\"Class {cls}: Recall = {metrics['recall']:.2f}\")\n"
   ],
   "metadata": {
    "collapsed": false,
    "ExecuteTime": {
     "end_time": "2024-11-26T18:03:11.308116Z",
     "start_time": "2024-11-26T18:03:11.290365Z"
    }
   },
   "id": "db86b4f802d8e2bc",
   "execution_count": 6
  },
  {
   "cell_type": "code",
   "outputs": [
    {
     "name": "stdout",
     "output_type": "stream",
     "text": [
      "[0 2 0 2 3 3 1 2 2 1 2 3 1 2 1 2 0 0 3 2 2 3 1 3 3 2 0 2 1 1 1 0 3 0 0 2 2\n",
      " 2 1 0 3 2 2 3 3 3 3 3 3 3 1 2 3 2 0 0 1 3 3 0 2 2 2 2 3 2 3 1 3 1 0 3 3 0\n",
      " 2 3 3 2 2 2 0 3 1 0 0 2 0 2 1 1 1 1 0 2 3 3 2 2 0 0]\n",
      "[array([ 0,  2, 16, 17, 26, 31, 33, 34, 39, 54, 55, 59, 70, 73, 80, 83, 84,\n",
      "       86, 92, 98, 99], dtype=int64), array([ 6,  9, 12, 14, 22, 28, 29, 30, 38, 50, 56, 67, 69, 82, 88, 89, 90,\n",
      "       91], dtype=int64), array([ 1,  3,  7,  8, 10, 13, 15, 19, 20, 25, 27, 35, 36, 37, 41, 42, 51,\n",
      "       53, 60, 61, 62, 63, 65, 74, 77, 78, 79, 85, 87, 93, 96, 97],\n",
      "      dtype=int64), array([ 4,  5, 11, 18, 21, 23, 24, 32, 40, 43, 44, 45, 46, 47, 48, 49, 52,\n",
      "       57, 58, 64, 66, 68, 71, 72, 75, 76, 81, 94, 95], dtype=int64)]\n"
     ]
    }
   ],
   "source": [
    "from utils.dataset_utils import get_classes_indexes_counts\n",
    "import numpy as np\n",
    "import random \n",
    "y=[]\n",
    "for i in range(100):\n",
    "    y.append(random.randint(0,3))\n",
    "y=np.array(y)\n",
    "classes, counts=get_classes_indexes_counts(y)\n",
    "print(y)\n",
    "print(classes)"
   ],
   "metadata": {
    "collapsed": false,
    "ExecuteTime": {
     "end_time": "2024-12-02T12:55:40.166761Z",
     "start_time": "2024-12-02T12:55:40.158497Z"
    }
   },
   "id": "4d7b941bc3b43505",
   "execution_count": 4
  }
 ],
 "metadata": {
  "kernelspec": {
   "display_name": "Python 3",
   "language": "python",
   "name": "python3"
  },
  "language_info": {
   "codemirror_mode": {
    "name": "ipython",
    "version": 2
   },
   "file_extension": ".py",
   "mimetype": "text/x-python",
   "name": "python",
   "nbconvert_exporter": "python",
   "pygments_lexer": "ipython2",
   "version": "2.7.6"
  }
 },
 "nbformat": 4,
 "nbformat_minor": 5
}
