{
 "cells": [
  {
   "cell_type": "code",
   "outputs": [
    {
     "name": "stdout",
     "output_type": "stream",
     "text": [
      "类别信息:\n",
      "类别 setosa:\n",
      " - 测试集数量: 15\n",
      " - 预测正确数量: 15\n",
      " - 预测错误数量: 0\n",
      "类别 versicolor:\n",
      " - 测试集数量: 15\n",
      " - 预测正确数量: 14\n",
      " - 预测错误数量: 1\n",
      "类别 virginica:\n",
      " - 测试集数量: 15\n",
      " - 预测正确数量: 12\n",
      " - 预测错误数量: 3\n"
     ]
    }
   ],
   "source": [
    "from sklearn.datasets import load_iris\n",
    "from sklearn.model_selection import train_test_split\n",
    "from sklearn.preprocessing import StandardScaler\n",
    "from sklearn.neural_network import MLPClassifier\n",
    "from sklearn.metrics import confusion_matrix\n",
    "import numpy as np\n",
    "\n",
    "# 加载鸢尾花数据集\n",
    "iris = load_iris()\n",
    "X = iris.data\n",
    "y = iris.target\n",
    "class_names = iris.target_names\n",
    "\n",
    "# 数据拆分为训练集和测试集\n",
    "X_train, X_test, y_train, y_test = train_test_split(X, y, test_size=0.3, random_state=42, stratify=y)\n",
    "\n",
    "# 数据标准化\n",
    "scaler = StandardScaler()\n",
    "X_train = scaler.fit_transform(X_train)\n",
    "X_test = scaler.transform(X_test)\n",
    "\n",
    "# 定义并训练MLP模型\n",
    "mlp = MLPClassifier(hidden_layer_sizes=(10, 10), max_iter=1000, random_state=42)\n",
    "mlp.fit(X_train, y_train)\n",
    "\n",
    "# 测试集预测\n",
    "y_pred = mlp.predict(X_test)\n",
    "\n",
    "# 混淆矩阵\n",
    "cm = confusion_matrix(y_test, y_pred)\n",
    "\n",
    "# 输出结果\n",
    "print(\"类别信息:\")\n",
    "for i, class_name in enumerate(class_names):\n",
    "    total_count = np.sum(y_test == i)\n",
    "    correct_count = cm[i, i]\n",
    "    incorrect_count = total_count - correct_count\n",
    "    print(f\"类别 {class_name}:\")\n",
    "    print(f\" - 测试集数量: {total_count}\")\n",
    "    print(f\" - 预测正确数量: {correct_count}\")\n",
    "    print(f\" - 预测错误数量: {incorrect_count}\")"
   ],
   "metadata": {
    "collapsed": false,
    "ExecuteTime": {
     "end_time": "2024-12-06T07:52:43.751720Z",
     "start_time": "2024-12-06T07:52:43.244824Z"
    }
   },
   "id": "aada2faae661266e",
   "execution_count": 12
  }
 ],
 "metadata": {
  "kernelspec": {
   "display_name": "Python 3",
   "language": "python",
   "name": "python3"
  },
  "language_info": {
   "codemirror_mode": {
    "name": "ipython",
    "version": 2
   },
   "file_extension": ".py",
   "mimetype": "text/x-python",
   "name": "python",
   "nbconvert_exporter": "python",
   "pygments_lexer": "ipython2",
   "version": "2.7.6"
  }
 },
 "nbformat": 4,
 "nbformat_minor": 5
}
