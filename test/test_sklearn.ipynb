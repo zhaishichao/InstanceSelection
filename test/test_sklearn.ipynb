{
 "cells": [
  {
   "cell_type": "markdown",
   "source": [
    "### 从UCI加载数据，转化格式，转换为数字形式，并保存为mat数据 \n",
    "X为特征数据：num_instances*features\n",
    "Y为lable：(num_instances,1) 是一个列向量"
   ],
   "metadata": {
    "collapsed": false
   },
   "id": "dd67632612062020"
  },
  {
   "cell_type": "markdown",
   "source": [
    "## numpy转mat的demo"
   ],
   "metadata": {
    "collapsed": false
   },
   "id": "504701a453767c28"
  },
  {
   "cell_type": "markdown",
   "source": [
    "### 测试保存的mat"
   ],
   "metadata": {
    "collapsed": false
   },
   "id": "261af92fd4fdb709"
  },
  {
   "cell_type": "code",
   "outputs": [],
   "source": [
    "from utils.dataset_utils import get_classes_indexes_counts\n",
    "from sklearn.preprocessing import OneHotEncoder, LabelEncoder\n",
    "from sklearn.metrics import confusion_matrix\n",
    "from utils.dataset_utils import get_classes_indexes_counts\n",
    "# 导入必要的库\n",
    "from sklearn.datasets import load_iris\n",
    "from sklearn.model_selection import train_test_split\n",
    "from sklearn.preprocessing import StandardScaler\n",
    "from sklearn.neural_network import MLPClassifier\n",
    "from sklearn.metrics import classification_report, accuracy_score\n",
    "import scipy.io as sio  # 从.mat文件中读取数据集\n",
    "import numpy as np\n",
    "# 加载鸢尾花数据集\n",
    "# data = load_iris()\n",
    "mat_data = sio.loadmat('Satellite.mat')\n",
    "X = mat_data['X']  # 特征\n",
    "y = mat_data['Y'][:, 0]  # 标签\n",
    "classes, counts = get_classes_indexes_counts(y)\n",
    "print(counts)\n",
    "print(X.shape)\n",
    "print(y.shape)\n",
    "# 将数据集分为训练集和测试集\n",
    "X_train, X_test, y_train, y_test = train_test_split(X, y, test_size=0.3, random_state=42)\n",
    "# classes, counts = get_classes_indexes_counts(np.argmax(y_test, axis=1))\n",
    "classes, counts = get_classes_indexes_counts(y_test)\n",
    "print(counts)\n",
    "# 数据标准化\n",
    "# scaler = StandardScaler()\n",
    "# X_train = scaler.fit_transform(X_train)\n",
    "# X_test = scaler.transform(X_test)\n",
    "# One-hot encode target variable 强制将类别转换为0-1序列，0表示不是该类，1表示属于该类\n",
    "\n",
    "# 构建并训练MLP模型\n",
    "mlp = MLPClassifier(hidden_layer_sizes=(15,), max_iter=200, random_state=42,learning_rate_init=0.001)\n",
    "# mlp.fit(X_train, np.argmax(y_train, axis=1))\n",
    "mlp.fit(X_train, y_train)\n",
    "print(mlp.classes_)\n",
    "index_pred_proba = mlp.predict_proba(X_test)\n",
    "# 预测和评估模型\n",
    "y_pred = mlp.predict(X_test)\n",
    "#y_test_labels = np.argmax(y_test, axis=1)\n",
    "# y_pred_labels = np.argmax(y_pred, axis=1)\n",
    "y_pred_labels = y_pred\n",
    "# 输出结果\n",
    "print(\"准确率:\", accuracy_score(y_test, y_pred_labels))\n",
    "print(\"\\n分类报告:\\n\", classification_report(y_test, y_pred_labels))\n",
    "# 打印混淆矩阵\n",
    "print(\"Confusion Matrix:\")\n",
    "print(confusion_matrix(y_test, y_pred_labels))\n",
    "\n",
    "print(index_pred_proba.shape)\n",
    "res=np.sum(index_pred_proba, axis=1)\n",
    "print(res)"
   ],
   "metadata": {
    "collapsed": false
   },
   "id": "d979cf5d8a3a5aa9",
   "execution_count": null
  },
  {
   "cell_type": "markdown",
   "source": [
    "### k-folds交叉验证\n"
   ],
   "metadata": {
    "collapsed": false
   },
   "id": "223ffd9203e56767"
  },
  {
   "cell_type": "code",
   "outputs": [
    {
     "name": "stdout",
     "output_type": "stream",
     "text": [
      "每种类别的分布： [ 6449 16635 44473]\n",
      "#########################5-folds交叉验证#########################\n",
      "最终的分类结果：Recall_Per_Class[0.00527214 0.58400962 0.91664605]，Gmean：0.14131971008904698\n"
     ]
    },
    {
     "ename": "NameError",
     "evalue": "name 'train_test_split' is not defined",
     "output_type": "error",
     "traceback": [
      "\u001B[1;31m---------------------------------------------------------------------------\u001B[0m",
      "\u001B[1;31mNameError\u001B[0m                                 Traceback (most recent call last)",
      "Cell \u001B[1;32mIn[1], line 49\u001B[0m\n\u001B[0;32m     45\u001B[0m \u001B[38;5;66;03m#print(f\"最终的分类结果：Recall_Per_Class{recall_per_class}，Gmean：{geometric_mean}，mAUC：{auc_ovo_macro}\")\u001B[39;00m\n\u001B[0;32m     46\u001B[0m \u001B[38;5;28mprint\u001B[39m(\u001B[38;5;124mf\u001B[39m\u001B[38;5;124m\"\u001B[39m\u001B[38;5;124m最终的分类结果：Recall_Per_Class\u001B[39m\u001B[38;5;132;01m{\u001B[39;00mrecall_per_class\u001B[38;5;132;01m}\u001B[39;00m\u001B[38;5;124m，Gmean：\u001B[39m\u001B[38;5;132;01m{\u001B[39;00mgeometric_mean\u001B[38;5;132;01m}\u001B[39;00m\u001B[38;5;124m\"\u001B[39m)\n\u001B[1;32m---> 49\u001B[0m x_train, x_test, y_train, y_test \u001B[38;5;241m=\u001B[39m \u001B[43mtrain_test_split\u001B[49m(dataset_x, dataset_y, test_size\u001B[38;5;241m=\u001B[39m\u001B[38;5;241m0.3\u001B[39m, random_state\u001B[38;5;241m=\u001B[39m\u001B[38;5;241m5\u001B[39m)\n\u001B[0;32m     50\u001B[0m \u001B[38;5;66;03m# 统计每个类别的个数 \u001B[39;00m\n\u001B[0;32m     51\u001B[0m classes_train, counts_train \u001B[38;5;241m=\u001B[39m get_classes_indexes_counts(y_train)\n",
      "\u001B[1;31mNameError\u001B[0m: name 'train_test_split' is not defined"
     ]
    }
   ],
   "source": [
    "from scipy.stats import gmean\n",
    "from sklearn.metrics import roc_auc_score\n",
    "from sklearn.model_selection import cross_val_score\n",
    "# 导入必要的库\n",
    "from sklearn.datasets import load_iris\n",
    "from sklearn.model_selection import cross_val_predict, KFold\n",
    "from sklearn.neural_network import MLPClassifier\n",
    "from sklearn.metrics import classification_report,confusion_matrix\n",
    "from utils.dataset_utils import get_classes_indexes_counts\n",
    "import scipy.io as sio  # 从.mat文件中读取数据集\n",
    "# 加载鸢尾花数据集\n",
    "# iris = load_iris()\n",
    "# 数据集\n",
    "\n",
    "mat_data = sio.loadmat('../data/dataset/Connect4.mat')\n",
    "# 提取变量\n",
    "dataset_x = mat_data['X']\n",
    "dataset_y = mat_data['Y'][:, 0]  # mat_data['Y']得到的形状为[n,1]，通过[:,0]，得到形状[n,]\n",
    "# X, y = iris.data, iris.target\n",
    "X, y = mat_data['X'], mat_data['Y'][:, 0]\n",
    "# 统计每个类别的个数\n",
    "classes, counts = get_classes_indexes_counts(y)  #np.argmax(y_onehot, axis=1)找最大值的索引，将0-1序列转化为0,1,2,3......的整数标签\n",
    "print(\"每种类别的分布：\", counts)\n",
    "print(\"#########################5-folds交叉验证#########################\")\n",
    "# 定义MLP模型\n",
    "mlp_model = MLPClassifier(hidden_layer_sizes=(20,), max_iter=1000, random_state=42,learning_rate_init=0.001)\n",
    "\n",
    "# 定义5折交叉验证\n",
    "kf = KFold(n_splits=5, shuffle=True, random_state=42)\n",
    "\n",
    "# 使用交叉验证进行预测\n",
    "y_pred = cross_val_predict(mlp_model, X, y, cv=kf)\n",
    "y_pred_proba = cross_val_score(mlp_model, X, y, cv=kf)\n",
    "# 输出分类结果报告\n",
    "report = classification_report(y, y_pred)\n",
    "#print(report)\n",
    "# 计算 ROC AUC（ovo+macro）\n",
    "#auc_ovo_macro = roc_auc_score(y, y_pred_proba, multi_class=\"ovo\", average=\"macro\")\n",
    "cm = confusion_matrix(y, y_pred)\n",
    "# 计算每类召回率（每类正确预测个数 / 该类总数）\n",
    "recall_per_class = cm.diagonal() / cm.sum(axis=1)\n",
    "\n",
    "# 计算G-Mean\n",
    "geometric_mean = gmean(recall_per_class)\n",
    "#print(f\"最终的分类结果：Recall_Per_Class{recall_per_class}，Gmean：{geometric_mean}，mAUC：{auc_ovo_macro}\")\n",
    "print(f\"最终的分类结果：Recall_Per_Class{recall_per_class}，Gmean：{geometric_mean}\")\n",
    "\n",
    "\n",
    "x_train, x_test, y_train, y_test = train_test_split(dataset_x, dataset_y, test_size=0.3, random_state=5)\n",
    "# 统计每个类别的个数 \n",
    "classes_train, counts_train = get_classes_indexes_counts(y_train)\n",
    "print(\"训练集每种类别的分布：\", counts_train)\n",
    "classes_test, counts_test = get_classes_indexes_counts(y_test)\n",
    "print(\"测试集每种类别的分布：\", counts_test)\n",
    "print(\"#########################NoS原始数据集训练预测结果#########################\")\n",
    "mlp = MLPClassifier(hidden_layer_sizes=(20,), max_iter=1000, random_state=42,learning_rate_init=0.001)\n",
    "mlp.fit(x_train, y_train)\n",
    "\n",
    "# 使用训练数据进行预测\n",
    "ind_pred = mlp.predict(x_test)  # 计算accuracy、PPV\n",
    "index_pred_proba = mlp.predict_proba(x_test)  # 计算mAUC\n",
    "######################G-mean#########################\n",
    "# 计算混淆矩阵\n",
    "cm = confusion_matrix(y_test, ind_pred)\n",
    "\n",
    "# 计算每类召回率（每类正确预测个数 / 该类总数）\n",
    "recall_per_class = cm.diagonal() / cm.sum(axis=1)\n",
    "\n",
    "# 计算G-Mean\n",
    "geometric_mean = gmean(recall_per_class)\n",
    "######################mAUC#######################\n",
    "# 计算 ROC AUC（ovo+macro）\n",
    "auc_ovo_macro = roc_auc_score(y_test, index_pred_proba, multi_class=\"ovo\", average=\"macro\")\n",
    "print(f\"最终的分类结果：Recall_Per_Class{recall_per_class}，Gmean：{geometric_mean}，mAUC：{auc_ovo_macro}\")"
   ],
   "metadata": {
    "collapsed": false,
    "ExecuteTime": {
     "end_time": "2024-12-09T13:09:55.084805Z",
     "start_time": "2024-12-09T12:57:22.793291Z"
    }
   },
   "id": "9b9f77bc566ce7af",
   "execution_count": 1
  }
 ],
 "metadata": {
  "kernelspec": {
   "display_name": "Python 3",
   "language": "python",
   "name": "python3"
  },
  "language_info": {
   "codemirror_mode": {
    "name": "ipython",
    "version": 2
   },
   "file_extension": ".py",
   "mimetype": "text/x-python",
   "name": "python",
   "nbconvert_exporter": "python",
   "pygments_lexer": "ipython2",
   "version": "2.7.6"
  }
 },
 "nbformat": 4,
 "nbformat_minor": 5
}
