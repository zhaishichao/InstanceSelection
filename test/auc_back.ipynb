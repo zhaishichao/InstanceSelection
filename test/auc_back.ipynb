{
 "cells": [
  {
   "cell_type": "code",
   "outputs": [],
   "source": [
    "# import numpy as np\n",
    "def roc(y_true, y_score, pos_label):\n",
    "    \"\"\"\n",
    "    y_true：真实标签\n",
    "    y_score：模型预测分数\n",
    "    pos_label：正样本标签，如“1”\n",
    "    \"\"\"\n",
    "    # 统计正样本和负样本的个数\n",
    "    num_positive_examples = (y_true == pos_label).sum()\n",
    "    num_negtive_examples = len(y_true) - num_positive_examples\n",
    "\n",
    "    tp, fp = 0, 0\n",
    "    tpr, fpr, thresholds = [], [], []\n",
    "    score = max(y_score) + 1\n",
    "    \n",
    "    # 根据排序后的预测分数分别计算fpr和tpr\n",
    "    for i in np.flip(np.argsort(y_score)):\n",
    "        # 处理样本预测分数相同的情况\n",
    "        if y_score[i] != score:\n",
    "            fpr.append(fp / num_negtive_examples)\n",
    "            tpr.append(tp / num_positive_examples)\n",
    "            thresholds.append(score)\n",
    "            score = y_score[i]\n",
    "            \n",
    "        if y_true[i] == pos_label:\n",
    "            tp += 1\n",
    "        else:\n",
    "            fp += 1\n",
    "\n",
    "    fpr.append(fp / num_negtive_examples)\n",
    "    tpr.append(tp / num_positive_examples)\n",
    "    thresholds.append(score)\n",
    "\n",
    "    return fpr, tpr, thresholds\n",
    "\n"
   ],
   "metadata": {
    "collapsed": false,
    "ExecuteTime": {
     "end_time": "2024-11-19T14:34:12.621806Z",
     "start_time": "2024-11-19T14:34:12.604231Z"
    }
   },
   "id": "initial_id",
   "execution_count": 3
  },
  {
   "cell_type": "code",
   "outputs": [
    {
     "data": {
      "text/plain": "<Figure size 640x480 with 1 Axes>",
      "image/png": "[encoded data removed]"
     },
     "metadata": {},
     "output_type": "display_data"
    }
   ],
   "source": [
    "import numpy as np\n",
    "import matplotlib.pyplot as plt\n",
    "y_true = np.array(\n",
    "    [1, 1, 0, 1, 1, 1, 0, 0, 1, 0, 1, 0, 1, 0, 0, 0, 1, 0, 1, 0]\n",
    ")\n",
    "y_score = np.array([\n",
    "    .9, .8, .7, .6, .55, .54, .53, .52, .51, .505,\n",
    "    .4, .39, .38, .37, .36, .35, .34, .33, .3, .1\n",
    "])\n",
    "\n",
    "fpr, tpr, thresholds = roc(y_true, y_score, pos_label=1)\n",
    "\n",
    "\n",
    "plt.plot(fpr, tpr)\n",
    "plt.axis(\"square\")\n",
    "plt.xlabel(\"False positive rate\")\n",
    "plt.ylabel(\"True positive rate\")\n",
    "plt.title(\"ROC curve\")\n",
    "plt.show()\n"
   ],
   "metadata": {
    "collapsed": false,
    "ExecuteTime": {
     "end_time": "2024-11-19T14:34:14.784365Z",
     "start_time": "2024-11-19T14:34:14.441162Z"
    }
   },
   "id": "cc1ef5812ed99b75",
   "execution_count": 4
  },
  {
   "cell_type": "markdown",
   "source": [
    "### 正常训练"
   ],
   "metadata": {
    "collapsed": false
   },
   "id": "f589ce1df3b3eb36"
  },
  {
   "cell_type": "code",
   "outputs": [
    {
     "name": "stdout",
     "output_type": "stream",
     "text": [
      "[2 2 2 ... 2 2 2]\n",
      "准确率: 0.7388494178014604\n",
      "\n",
      "分类报告:\n",
      "               precision    recall  f1-score   support\n",
      "\n",
      "           0       0.49      0.01      0.02      1951\n",
      "           1       0.62      0.56      0.59      5040\n",
      "           2       0.77      0.91      0.84     13277\n",
      "\n",
      "    accuracy                           0.74     20268\n",
      "   macro avg       0.63      0.50      0.48     20268\n",
      "weighted avg       0.71      0.74      0.70     20268\n"
     ]
    }
   ],
   "source": [
    "from sklearn.metrics import roc_auc_score\n",
    "# 导入必要的库\n",
    "from sklearn.model_selection import train_test_split\n",
    "from sklearn.preprocessing import StandardScaler\n",
    "from sklearn.neural_network import MLPClassifier\n",
    "from sklearn.metrics import classification_report, accuracy_score\n",
    "import scipy.io as sio  # 从.mat文件中读取数据集\n",
    "import numpy as np\n",
    "\n",
    "################################################################加载数据集################################################\n",
    "# 数据集\n",
    "mat_data = sio.loadmat('../data/dataset/Connect4.mat')\n",
    "# 提取变量\n",
    "dataset_x = mat_data['X']\n",
    "dataset_y = mat_data['Y'][:, 0]  # mat_data['Y']得到的形状为[n,1]，通过[:,0]，得到形状[n,]\n",
    "\n",
    "# 将数据集分为训练集和测试集\n",
    "X_train, X_test, y_train, y_test = train_test_split(dataset_x, dataset_y, test_size=0.3, random_state=42)\n",
    "\n",
    "# 数据标准化\n",
    "scaler = StandardScaler()\n",
    "X_train = scaler.fit_transform(X_train)\n",
    "X_test = scaler.transform(X_test)\n",
    "\n",
    "# 构建并训练MLP模型\n",
    "mlp = MLPClassifier(hidden_layer_sizes=(10, 20), max_iter=1000, random_state=42)\n",
    "mlp.fit(X_train, y_train)\n",
    "\n",
    "# 预测和评估模型\n",
    "y_pred = mlp.predict(X_test)\n",
    "print(y_pred)\n",
    "\n",
    "# 输出结果\n",
    "print(\"准确率:\", accuracy_score(y_test, y_pred))\n",
    "print(\"\\n分类报告:\\n\", classification_report(y_test, y_pred))\n",
    "\n",
    "\n",
    "\n",
    "#roc_auc_score()"
   ],
   "metadata": {
    "collapsed": false,
    "ExecuteTime": {
     "end_time": "2024-11-19T14:34:32.706254Z",
     "start_time": "2024-11-19T14:34:17.897698Z"
    }
   },
   "id": "3b0bbfa2918ff4af",
   "execution_count": 5
  },
  {
   "cell_type": "markdown",
   "source": [
    "### Gmean、mAUC、PPVs"
   ],
   "metadata": {
    "collapsed": false
   },
   "id": "4594bb3e0b5d790d"
  },
  {
   "cell_type": "code",
   "outputs": [
    {
     "ename": "NameError",
     "evalue": "name 'sio' is not defined",
     "output_type": "error",
     "traceback": [
      "\u001B[1;31m---------------------------------------------------------------------------\u001B[0m",
      "\u001B[1;31mNameError\u001B[0m                                 Traceback (most recent call last)",
      "Cell \u001B[1;32mIn[2], line 12\u001B[0m\n\u001B[0;32m      8\u001B[0m \u001B[38;5;28;01mimport\u001B[39;00m \u001B[38;5;21;01mmatplotlib\u001B[39;00m\u001B[38;5;21;01m.\u001B[39;00m\u001B[38;5;21;01mpyplot\u001B[39;00m \u001B[38;5;28;01mas\u001B[39;00m \u001B[38;5;21;01mplt\u001B[39;00m\n\u001B[0;32m     10\u001B[0m \u001B[38;5;66;03m################################################################加载数据集################################################\u001B[39;00m\n\u001B[0;32m     11\u001B[0m \u001B[38;5;66;03m# 数据集\u001B[39;00m\n\u001B[1;32m---> 12\u001B[0m mat_data \u001B[38;5;241m=\u001B[39m \u001B[43msio\u001B[49m\u001B[38;5;241m.\u001B[39mloadmat(\u001B[38;5;124m'\u001B[39m\u001B[38;5;124m../data/dataset/USPS.mat\u001B[39m\u001B[38;5;124m'\u001B[39m)\n\u001B[0;32m     13\u001B[0m \u001B[38;5;66;03m# 提取变量\u001B[39;00m\n\u001B[0;32m     14\u001B[0m dataset_x \u001B[38;5;241m=\u001B[39m mat_data[\u001B[38;5;124m'\u001B[39m\u001B[38;5;124mX\u001B[39m\u001B[38;5;124m'\u001B[39m]\n",
      "\u001B[1;31mNameError\u001B[0m: name 'sio' is not defined"
     ]
    }
   ],
   "source": [
    "from scipy.stats import gmean\n",
    "from sklearn.datasets import load_iris\n",
    "from sklearn.model_selection import train_test_split\n",
    "from sklearn.preprocessing import StandardScaler, OneHotEncoder\n",
    "from sklearn.neural_network import MLPClassifier\n",
    "from sklearn.metrics import roc_auc_score, roc_curve, auc, precision_score,accuracy_score\n",
    "import numpy as np\n",
    "import matplotlib.pyplot as plt\n",
    "\n",
    "################################################################加载数据集################################################\n",
    "# 数据集\n",
    "mat_data = sio.loadmat('../data/dataset/USPS.mat')\n",
    "# 提取变量\n",
    "dataset_x = mat_data['X']\n",
    "dataset_y = mat_data['Y'][:, 0]  # mat_data['Y']得到的形状为[n,1]，通过[:,0]，得到形状[n,]\n",
    "\n",
    "# One-hot encode target variable\n",
    "encoder = OneHotEncoder(sparse_output=False)\n",
    "y_onehot = encoder.fit_transform(dataset_y.reshape(-1, 1))\n",
    "print(y_onehot.shape)\n",
    "# Split the dataset into training and testing sets\n",
    "X_train, X_test, y_train, y_test = train_test_split(dataset_x, y_onehot, test_size=0.3, random_state=42, stratify=dataset_y)\n",
    "\n",
    "# Standardize the feature data\n",
    "scaler = StandardScaler()\n",
    "X_train_scaled = scaler.fit_transform(X_train)\n",
    "X_test_scaled = scaler.transform(X_test)\n",
    "\n",
    "# Train a Multi-Layer Perceptron (MLP) model\n",
    "mlp = MLPClassifier(hidden_layer_sizes=(20), max_iter=800, random_state=42)\n",
    "mlp.fit(X_train_scaled, y_train)\n",
    "\n",
    "# Predict probabilities for the test set\n",
    "# 计算m-AUC\n",
    "y_pred_proba = mlp.predict_proba(X_test_scaled)\n",
    "\n",
    "\n",
    "# 计算accuracy\n",
    "y_pred = mlp.predict(X_test_scaled)\n",
    "# Convert one-hot encoded test labels back to single class labels\n",
    "y_test_labels = np.argmax(y_test, axis=1)\n",
    "y_pred_labels = np.argmax(y_pred, axis=1)\n",
    "\n",
    "\n",
    "# 计算每个类别的 Precision\n",
    "class_precisions = precision_score(y_test_labels, y_pred_labels, average=None)\n",
    "\n",
    "\n",
    "class_accuracies = {}\n",
    "for class_label in np.unique(y_test_labels):\n",
    "    indices = (y_test_labels == class_label)\n",
    "    \n",
    "    class_accuracies[class_label] = accuracy_score(y_test_labels[indices], y_pred_labels[indices])\n",
    "# Compute AUC for each class\n",
    "fpr = {}\n",
    "tpr = {}\n",
    "roc_auc = {}\n",
    "for i in range(y_onehot.shape[1]):\n",
    "    fpr[i], tpr[i], _ = roc_curve(y_test[:, i], y_pred_proba[:, i])\n",
    "    roc_auc[i] = auc(fpr[i], tpr[i])\n",
    "#print(y_pred_proba.shape)\n",
    "#print(\"预测的概率：\",y_pred_proba)\n",
    "# Compute macro AUC\n",
    "all_fpr = np.unique(np.concatenate([fpr[i] for i in range(y_onehot.shape[1])]))\n",
    "mean_tpr = np.zeros_like(all_fpr)\n",
    "for i in range(y_onehot.shape[1]):\n",
    "    mean_tpr += np.interp(all_fpr, fpr[i], tpr[i])\n",
    "mean_tpr /= y_onehot.shape[1]\n",
    "macro_auc = auc(all_fpr, mean_tpr)\n",
    "\n",
    "# Plot AUC curves\n",
    "plt.figure(figsize=(8, 6))\n",
    "for i in range(y_onehot.shape[1]):\n",
    "    plt.plot(fpr[i], tpr[i], label=f'Class {i} (AUC = {roc_auc[i]:.2f})')\n",
    "plt.plot(all_fpr, mean_tpr, label=f'Macro-average (AUC = {macro_auc:.2f})', linestyle='--', color='navy')\n",
    "plt.plot([0, 1], [0, 1], color='gray', linestyle='--')\n",
    "plt.xlabel('False Positive Rate')\n",
    "plt.ylabel('True Positive Rate')\n",
    "plt.title('AUC Curve')\n",
    "plt.legend(loc='lower right')\n",
    "plt.grid()\n",
    "#plt.savefig('mAUC.png',dpi=300, bbox_inches='tight')\n",
    "plt.show()\n",
    "plt.close()\n",
    "macro_auc\n",
    "class_accuracies\n",
    "# 计算几何平均准确率\n",
    "geometric_mean_accuracy_1 = np.prod(list(class_accuracies.values()))**(1 / len(class_accuracies))\n",
    "\n",
    "geometric_mean_accuracy_2=gmean(list(class_accuracies.values()))\n",
    "geometric_mean_accuracy_3=gmean(class_precisions)\n",
    "\n",
    "print(macro_auc)\n",
    "print(class_accuracies)\n",
    "print(geometric_mean_accuracy_1)\n",
    "print(geometric_mean_accuracy_2)\n",
    "print(geometric_mean_accuracy_3)\n",
    "print(class_precisions)"
   ],
   "metadata": {
    "collapsed": false,
    "ExecuteTime": {
     "end_time": "2024-11-20T01:02:14.522129Z",
     "start_time": "2024-11-20T01:02:14.451968Z"
    }
   },
   "id": "1a7aef05e0c8f9bb",
   "execution_count": 2
  },
  {
   "cell_type": "markdown",
   "source": [
    "### 去除One-hot encode"
   ],
   "metadata": {
    "collapsed": false
   },
   "id": "15bc2682fc673460"
  },
  {
   "cell_type": "code",
   "outputs": [
    {
     "name": "stdout",
     "output_type": "stream",
     "text": [
      "特征数据: (846, 18)\n",
      "label: (846,)\n",
      "4\n",
      "每种类别的数量： [218 212 217 199]\n"
     ]
    },
    {
     "name": "stderr",
     "output_type": "stream",
     "text": [
      "D:\\IDE\\Anaconda\\envs\\pytorch\\lib\\site-packages\\sklearn\\neural_network\\_multilayer_perceptron.py:691: ConvergenceWarning: Stochastic Optimizer: Maximum iterations (800) reached and the optimization hasn't converged yet.\n",
      "  warnings.warn(\n"
     ]
    },
    {
     "ename": "IndexError",
     "evalue": "too many indices for array: array is 1-dimensional, but 2 were indexed",
     "output_type": "error",
     "traceback": [
      "\u001B[1;31m---------------------------------------------------------------------------\u001B[0m",
      "\u001B[1;31mIndexError\u001B[0m                                Traceback (most recent call last)",
      "Cell \u001B[1;32mIn[12], line 64\u001B[0m\n\u001B[0;32m     62\u001B[0m \u001B[38;5;66;03m# len(classes)表示类的数量\u001B[39;00m\n\u001B[0;32m     63\u001B[0m \u001B[38;5;28;01mfor\u001B[39;00m i \u001B[38;5;129;01min\u001B[39;00m \u001B[38;5;28mrange\u001B[39m(\u001B[38;5;28mlen\u001B[39m(classes)):\n\u001B[1;32m---> 64\u001B[0m     fpr[i], tpr[i], _ \u001B[38;5;241m=\u001B[39m roc_curve(\u001B[43my_test\u001B[49m\u001B[43m[\u001B[49m\u001B[43m:\u001B[49m\u001B[43m,\u001B[49m\u001B[43m \u001B[49m\u001B[43mi\u001B[49m\u001B[43m]\u001B[49m, y_pred_proba[:, i])\n\u001B[0;32m     65\u001B[0m     roc_auc[i] \u001B[38;5;241m=\u001B[39m auc(fpr[i], tpr[i])\n\u001B[0;32m     66\u001B[0m \u001B[38;5;66;03m#print(y_pred_proba.shape)\u001B[39;00m\n\u001B[0;32m     67\u001B[0m \u001B[38;5;66;03m#print(\"预测的概率：\",y_pred_proba)\u001B[39;00m\n\u001B[0;32m     68\u001B[0m \u001B[38;5;66;03m# Compute macro AUC\u001B[39;00m\n",
      "\u001B[1;31mIndexError\u001B[0m: too many indices for array: array is 1-dimensional, but 2 were indexed"
     ]
    }
   ],
   "source": [
    "from scipy.stats import gmean\n",
    "from sklearn.datasets import load_iris\n",
    "from sklearn.model_selection import train_test_split\n",
    "from sklearn.preprocessing import StandardScaler, OneHotEncoder\n",
    "from sklearn.neural_network import MLPClassifier\n",
    "from sklearn.metrics import roc_auc_score, roc_curve, auc, precision_score,accuracy_score\n",
    "import numpy as np\n",
    "import matplotlib.pyplot as plt\n",
    "from utils.dataset_utils import get_classes_indexes_counts\n",
    "\n",
    "################################################################加载数据集################################################\n",
    "# 数据集\n",
    "mat_data = sio.loadmat('../data/dataset/Vehicle.mat')\n",
    "# 提取变量\n",
    "dataset_x = mat_data['X']\n",
    "dataset_y = mat_data['Y'][:, 0]  # mat_data['Y']得到的形状为[n,1]，通过[:,0]，得到形状[n,]\n",
    "# 显示数据集分布\n",
    "print(\"特征数据:\", dataset_x.shape)\n",
    "print(\"label:\", dataset_y.shape)\n",
    "# 统计每个类别的个数，dataset_y.max()+1是类别的个数\n",
    "classes, counts = get_classes_indexes_counts(dataset_y)\n",
    "print(len(classes))\n",
    "print(\"每种类别的数量：\", counts)\n",
    "# Split the dataset into training and testing sets\n",
    "X_train, X_test, y_train, y_test = train_test_split(dataset_x, dataset_y, test_size=0.3, random_state=42, stratify=dataset_y)\n",
    "\n",
    "# Standardize the feature data\n",
    "scaler = StandardScaler()\n",
    "X_train_scaled = scaler.fit_transform(X_train)\n",
    "X_test_scaled = scaler.transform(X_test)\n",
    "\n",
    "# Train a Multi-Layer Perceptron (MLP) model\n",
    "mlp = MLPClassifier(hidden_layer_sizes=(10, 10), max_iter=800, random_state=42)\n",
    "mlp.fit(X_train_scaled, y_train)\n",
    "\n",
    "# Predict probabilities for the test set\n",
    "\n",
    "# 用来计算m-AUC\n",
    "y_pred_proba = mlp.predict_proba(X_test_scaled)\n",
    "\n",
    "# 用来计算accuracy\n",
    "y_pred = mlp.predict(X_test_scaled)\n",
    "\n",
    "# Convert one-hot encoded test labels back to single class labels\n",
    "#y_test_labels = np.argmax(y_test, axis=1)\n",
    "#y_pred_labels = np.argmax(y_pred, axis=1)\n",
    "\n",
    "\n",
    "# 计算每个类别的 Precision\n",
    "class_precisions = precision_score(y_test, y_pred, average=None)\n",
    "\n",
    "\n",
    "class_accuracies = {}\n",
    "for class_label in np.unique(y_test):\n",
    "    indices = (y_test == class_label)\n",
    "    \n",
    "    class_accuracies[class_label] = accuracy_score(y_test[indices], y_pred[indices])\n",
    "# Compute AUC for each class\n",
    "fpr = {}\n",
    "tpr = {}\n",
    "roc_auc = {}\n",
    "# len(classes)表示类的数量\n",
    "for i in range(len(classes)):\n",
    "    fpr[i], tpr[i], _ = roc_curve(y_test[:, i], y_pred_proba[:, i])\n",
    "    roc_auc[i] = auc(fpr[i], tpr[i])\n",
    "#print(y_pred_proba.shape)\n",
    "#print(\"预测的概率：\",y_pred_proba)\n",
    "# Compute macro AUC\n",
    "all_fpr = np.unique(np.concatenate([fpr[i] for i in range(len(classes))]))\n",
    "mean_tpr = np.zeros_like(all_fpr)\n",
    "for i in range(len(classes)):\n",
    "    mean_tpr += np.interp(all_fpr, fpr[i], tpr[i])\n",
    "mean_tpr /= len(classes)\n",
    "macro_auc = auc(all_fpr, mean_tpr)\n",
    "\n",
    "# Plot AUC curves\n",
    "plt.figure(figsize=(8, 6))\n",
    "for i in range(len(classes)):\n",
    "    plt.plot(fpr[i], tpr[i], label=f'Class {i} (AUC = {roc_auc[i]:.2f})')\n",
    "plt.plot(all_fpr, mean_tpr, label=f'Macro-average (AUC = {macro_auc:.2f})', linestyle='--', color='navy')\n",
    "plt.plot([0, 1], [0, 1], color='gray', linestyle='--')\n",
    "plt.xlabel('False Positive Rate')\n",
    "plt.ylabel('True Positive Rate')\n",
    "plt.title('AUC Curve')\n",
    "plt.legend(loc='lower right')\n",
    "plt.grid()\n",
    "plt.show()\n",
    "\n",
    "macro_auc\n",
    "class_accuracies\n",
    "# 计算几何平均准确率\n",
    "geometric_mean_accuracy_1 = np.prod(list(class_accuracies.values()))**(1 / len(class_accuracies))\n",
    "\n",
    "geometric_mean_accuracy_2=gmean(list(class_accuracies.values()))\n",
    "\n",
    "print(macro_auc)\n",
    "print(class_accuracies)\n",
    "print(geometric_mean_accuracy_1)\n",
    "print(geometric_mean_accuracy_2)\n",
    "print(class_precisions)"
   ],
   "metadata": {
    "collapsed": false,
    "ExecuteTime": {
     "end_time": "2024-11-16T16:29:08.157069Z",
     "start_time": "2024-11-16T16:29:07.617149Z"
    }
   },
   "id": "f68c16b2d973507b",
   "execution_count": 12
  }
 ],
 "metadata": {
  "kernelspec": {
   "display_name": "Python 3",
   "language": "python",
   "name": "python3"
  },
  "language_info": {
   "codemirror_mode": {
    "name": "ipython",
    "version": 2
   },
   "file_extension": ".py",
   "mimetype": "text/x-python",
   "name": "python",
   "nbconvert_exporter": "python",
   "pygments_lexer": "ipython2",
   "version": "2.7.6"
  }
 },
 "nbformat": 4,
 "nbformat_minor": 5
}
