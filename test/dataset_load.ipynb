{
 "cells": [
  {
   "cell_type": "markdown",
   "source": [
    "## 数据集的加载"
   ],
   "metadata": {
    "collapsed": false
   },
   "id": "71231fb975871e87"
  },
  {
   "cell_type": "code",
   "outputs": [
    {
     "name": "stdout",
     "output_type": "stream",
     "text": [
      "[[63.  1.  1. ...  3.  0.  6.]\n",
      " [67.  1.  4. ...  2.  3.  3.]\n",
      " [67.  1.  4. ...  2.  2.  7.]\n",
      " ...\n",
      " [57.  1.  4. ...  2.  1.  7.]\n",
      " [57.  0.  2. ...  2.  1.  3.]\n",
      " [38.  1.  3. ...  1. nan  3.]]\n",
      "[0 2 1 0 0 0 3 0 2 1 0 0 2 0 0 0 1 0 0 0 0 0 1 3 4 0 0 0 0 3 0 2 1 0 0 0 3\n",
      " 1 3 0 4 0 0 0 1 4 0 4 0 0 0 0 2 0 1 1 1 1 0 0 2 0 1 0 2 2 1 0 2 1 0 3 1 1\n",
      " 1 0 1 0 0 3 0 0 0 3 0 0 0 0 0 0 0 3 0 0 0 1 2 3 0 0 0 0 0 0 3 0 2 1 2 3 1\n",
      " 1 0 2 2 0 0 0 3 2 3 4 0 3 1 0 3 3 0 0 0 0 0 0 0 0 4 3 1 0 0 1 0 1 0 1 4 0\n",
      " 0 0 0 0 0 4 3 1 1 1 2 0 0 4 0 0 0 0 0 0 1 0 3 0 1 0 4 1 0 1 0 0 3 2 0 0 1\n",
      " 0 0 2 1 2 0 3 1 2 0 3 0 0 0 1 0 0 0 0 0 3 3 3 0 1 0 4 0 3 1 0 0 0 0 0 0 0\n",
      " 0 3 1 0 0 0 3 2 0 2 1 0 0 3 2 1 0 0 0 0 0 2 0 2 2 1 3 0 0 1 0 0 0 0 0 0 0\n",
      " 1 0 3 0 0 4 2 2 2 1 0 1 0 2 0 1 0 0 0 1 0 2 0 3 0 2 4 2 0 0 0 1 0 2 2 1 0\n",
      " 3 1 1 2 3 1 0]\n"
     ]
    }
   ],
   "source": [
    "from ucimlrepo import fetch_ucirepo \n",
    "\n",
    "# fetch dataset \n",
    "heart_disease = fetch_ucirepo(id=45) \n",
    "\n",
    "# data (as pandas dataframes) \n",
    "X = heart_disease.data.features \n",
    "y = heart_disease.data.targets\n",
    "\n",
    "# metadata \n",
    "#print(heart_disease.metadata) \n",
    "  \n",
    "# variable information \n",
    "# print(heart_disease.variables) \n",
    "# 将数据和标签转换成numpy\n",
    "X_array = X.to_numpy()\n",
    "y_array = y.to_numpy()[:,0] \n",
    "print(X_array) \n",
    "print(y_array)"
   ],
   "metadata": {
    "collapsed": false,
    "ExecuteTime": {
     "end_time": "2024-11-21T10:36:00.440786Z",
     "start_time": "2024-11-21T10:35:58.218024Z"
    }
   },
   "id": "673ff698435b24a5",
   "execution_count": 3
  },
  {
   "cell_type": "code",
   "outputs": [
    {
     "name": "stdout",
     "output_type": "stream",
     "text": [
      "重复对的索引: [(0, 3)]\n",
      "去重后的数组:\n",
      "[1, 0, 1, 0, 1]\n",
      "[1, 1, 1, 0, 0]\n",
      "[0, 1, 0, 1, 1]\n"
     ]
    }
   ],
   "source": [
    "from array import array\n",
    "\n",
    "def find_duplicates(arrays, threshold=0.85):\n",
    "    \"\"\"\n",
    "    找到重复个体的索引。\n",
    "    :param arrays: 一个包含 array.array 的列表\n",
    "    :param threshold: 重复的判断阈值\n",
    "    :return: 重复对的索引列表\n",
    "    \"\"\"\n",
    "    n = len(arrays)\n",
    "    duplicates = []  # 用于记录重复对的索引\n",
    "\n",
    "    for i in range(n):\n",
    "        for j in range(i + 1, n):\n",
    "            # 当前两组数组\n",
    "            a = arrays[i]\n",
    "            b = arrays[j]\n",
    "            \n",
    "            # 计算1的个数\n",
    "            ones_a = sum(a)\n",
    "            ones_b = sum(b)\n",
    "            \n",
    "            # 如果其中一个数组全是0，不可能满足条件\n",
    "            if ones_a == 0 or ones_b == 0:\n",
    "                continue\n",
    "            \n",
    "            # 计算交集中的1的数量\n",
    "            common_ones = sum(x & y for x, y in zip(a, b))\n",
    "            \n",
    "            # 判断是否满足重复的定义\n",
    "            if (common_ones / ones_a > threshold) and (common_ones / ones_b > threshold):\n",
    "                duplicates.append((i, j))\n",
    "\n",
    "    return duplicates\n",
    "\n",
    "def remove_duplicates(arrays, duplicates):\n",
    "    \"\"\"\n",
    "    移除重复的个体。\n",
    "    :param arrays: 一个包含 array.array 的列表\n",
    "    :param duplicates: 重复对的索引列表\n",
    "    :return: 去重后的列表\n",
    "    \"\"\"\n",
    "    # 找到所有需要移除的索引\n",
    "    to_remove = set(j for _, j in duplicates)  # 只保留后出现的索引\n",
    "    # 构造去重后的列表\n",
    "    return [arrays[i] for i in range(len(arrays)) if i not in to_remove]\n",
    "\n",
    "# 示例输入\n",
    "arrays = [\n",
    "    array('b', [1, 0, 1, 0, 1]),\n",
    "    array('b', [1, 1, 1, 0, 0]),\n",
    "    array('b', [0, 1, 0, 1, 1]),\n",
    "    array('b', [1, 0, 1, 0, 1])\n",
    "]\n",
    "\n",
    "# 找到重复对的索引\n",
    "duplicates = find_duplicates(arrays)\n",
    "print(\"重复对的索引:\", duplicates)\n",
    "\n",
    "# 移除重复个体\n",
    "deduplicated_arrays = remove_duplicates(arrays, duplicates)\n",
    "print(\"去重后的数组:\")\n",
    "for arr in deduplicated_arrays:\n",
    "    print(list(arr))\n"
   ],
   "metadata": {
    "collapsed": false,
    "ExecuteTime": {
     "end_time": "2024-11-21T14:43:49.757637Z",
     "start_time": "2024-11-21T14:43:49.746934Z"
    }
   },
   "id": "c8b045ec2bc12176",
   "execution_count": 4
  }
 ],
 "metadata": {
  "kernelspec": {
   "display_name": "Python 3",
   "language": "python",
   "name": "python3"
  },
  "language_info": {
   "codemirror_mode": {
    "name": "ipython",
    "version": 2
   },
   "file_extension": ".py",
   "mimetype": "text/x-python",
   "name": "python",
   "nbconvert_exporter": "python",
   "pygments_lexer": "ipython2",
   "version": "2.7.6"
  }
 },
 "nbformat": 4,
 "nbformat_minor": 5
}
