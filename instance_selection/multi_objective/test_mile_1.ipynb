{
 "cells": [
  {
   "cell_type": "markdown",
   "source": [
    "# E-SEIC\n",
    "Selection of evolutionary instances with constraints for unbalanced datasets"
   ],
   "metadata": {
    "collapsed": false
   },
   "id": "ea42cd71d488f349"
  },
  {
   "cell_type": "code",
   "source": [
    "from utils.dataset_utils import get_distribution, k_fold_cross_validation\n",
    "from instance_selection.parameter.parameter import *  # 导入参数的设定\n",
    "from instance_selection.operator.init_toolbox import init_toolbox_eseic\n",
    "from instance_selection.operator.metrics import calculate_gmean_mauc, calculate_average_accuracy, \\\n",
    "    calculate_average_gmean_mauc, calculate_accuracy\n",
    "from instance_selection.operator.genetic_operator import selTournamentNDCD\n",
    "from instance_selection.operator.ensemble import vote_result_ensembles, ensemble_individuals\n",
    "from sklearn.preprocessing import StandardScaler\n",
    "from sklearn.model_selection import train_test_split\n",
    "from sklearn.neural_network import MLPClassifier\n",
    "from sklearn.base import clone\n",
    "import scipy.io as sio  # 从.mat文件中读取数据集\n",
    "import random\n",
    "from deap import tools\n",
    "import warnings\n",
    "import numpy as np\n",
    "\n",
    "warnings.filterwarnings(\"ignore\")  # 忽略警告\n",
    "\n",
    "DATASET = Contraceptive  # 数据集名称（包含对应的参数配置）\n",
    "\n",
    "datasetname = DATASET.DATASETNAME.split('.')[0]\n",
    "mat_data = sio.loadmat(IMBALANCED_DATASET_PATH + DATASET.DATASETNAME)  # 加载、划分数据集\n",
    "x = mat_data['X']\n",
    "y = mat_data['Y'][:, 0]  # mat_data['Y']得到的形状为[n,1]，通过[:,0]，得到形状[n,]\n",
    "x_train, x_test, y_train, y_test = train_test_split(x, y, test_size=0.3,\n",
    "                                                    random_state=RANDOM_SEED)  # 划分数据集\n",
    "scaler = StandardScaler()  # 数据的标准化\n",
    "x_train = scaler.fit_transform(x_train)\n",
    "x_test = scaler.transform(x_test)\n",
    "\n",
    "unique_elements_all, classes_all, counts_all = get_distribution(y)  # 获取原始数据集分布\n",
    "unique_elements_train, classes_train, counts_train = get_distribution(y_train)  # 获取训练集分布\n",
    "unique_elements_test, classes_test, counts_test = get_distribution(y_test)  # 获取测试集分布\n",
    "print(datasetname + f' distribution: {counts_all}')\n",
    "print(f'trainset distribution: {counts_train}')\n",
    "print(f'testset distribution: {counts_test}')\n",
    "\n",
    "model = MLPClassifier(hidden_layer_sizes=(DATASET.HIDDEN_SIZE,), max_iter=DATASET.MAX_ITER,\n",
    "                      random_state=RANDOM_SEED, learning_rate_init=DATASET.LEARNING_RATE)\n",
    "\n",
    "weights_train = (1 / counts_train.astype(float)) / np.sum(1 / counts_train.astype(float))  # 计算每个类的权重，用于计算每个类别的权重\n",
    "weights_test = (1 / counts_test.astype(float)) / np.sum(1 / counts_test.astype(float))  # 计算每个类的权重，用于计算每个类别的权重\n",
    "\n",
    "num_instances = int(np.ceil(counts_train.min() * 0.9))  # 取最小数量的类的0.9（向下取整）\n",
    "print(\"最小数量:\", num_instances)\n",
    "\n",
    "y_train_pred_proba = k_fold_cross_validation(model=clone(model), X=x_train, y=y_train, n_splits=N_SPLITS - 2,\n",
    "                                             method='soft',\n",
    "                                             random_state=RANDOM_SEED)  # 交叉验证得到软标签\n",
    "# 将概率转化为预测结果\n",
    "y_train_pred = np.argmax(y_train_pred_proba, axis=1)\n",
    "\n",
    "Acc1, Acc2, Acc3 = calculate_accuracy(y_train_pred, y_train, weights_train)\n",
    "constraints = [Acc1, Acc2, Acc3]"
   ],
   "metadata": {
    "collapsed": false,
    "ExecuteTime": {
     "end_time": "2025-04-05T12:09:22.702638Z",
     "start_time": "2025-04-05T12:09:22.449793Z"
    }
   },
   "id": "cfea17902425a78f",
   "outputs": [
    {
     "name": "stdout",
     "output_type": "stream",
     "text": [
      "Contraceptive distribution: [629 333 511]\n",
      "trainset distribution: [435 232 364]\n",
      "testset distribution: [194 101 147]\n",
      "最小数量: 209\n"
     ]
    }
   ],
   "execution_count": 4
  },
  {
   "cell_type": "markdown",
   "source": [
    "## E-SEIC"
   ],
   "metadata": {
    "collapsed": false
   },
   "id": "b1848de64743684e"
  },
  {
   "cell_type": "code",
   "source": [
    "toolbox = init_toolbox_eseic(model, x_train, y_train, weights_train, constraints, n_splits=N_SPLITS - 2,\n",
    "                             random_seed=RANDOM_SEED)  # 初始化toolbox\n",
    "\n",
    "\n",
    "def main(x_train, y_train, model, balanced_method='balanced'):\n",
    "    stats = tools.Statistics(lambda ind: ind.fitness.values)\n",
    "    logbook = tools.Logbook()\n",
    "    logbook.header = \"gen\", \"feasible\", \"ensembles_size\", \"avg_gmean\", \"avg_mauc\", \"avg_acc2\"\n",
    "    ####################################种群的初始化###########################\n",
    "    pop = toolbox.population(n=POPSIZE)  # 个体编码默认全为0\n",
    "    pop = toolbox.init_population(pop, balanced_method=balanced_method)  # 初始化种群中的个体\n",
    "    toolbox.evaluate(pop)  # 计算个体的适应度\n",
    "    ####################################种群的迭代#################################################\n",
    "    for gen in range(1, NGEN + 1):\n",
    "        offspring = selTournamentNDCD(pop, POPSIZE, tournsize=3)  # 锦标赛选择（1、先根据非支配排序的等级2、再根据拥挤距离）\n",
    "        offspring = [toolbox.clone(ind) for ind in offspring]\n",
    "        for i in range(0, len(offspring) - 1, 2):\n",
    "            if random.random() <= CXPB:\n",
    "                offspring[i], offspring[i + 1] = toolbox.mate(offspring[i], offspring[i + 1])  # 单点交叉\n",
    "            offspring[i] = toolbox.mutate(offspring[i], MR)[0]  # 二进制反转突变\n",
    "            offspring[i + 1] = toolbox.mutate(offspring[i + 1], MR)[0]  # 二进制反转突变\n",
    "            del offspring[i].fitness.values, offspring[i + 1].fitness.values\n",
    "        #############################################################合并、去重#####################################################\n",
    "        offspring = toolbox.individuals_constraints(offspring)  # 限制每个类至少有一个实例被选择\n",
    "        pop = pop + offspring  # 种群的合并\n",
    "        pop, _ = toolbox.remove_duplicates(pop)  # 去重\n",
    "        while len(pop) < POPSIZE:  # 保证种群大小为POPSIZE\n",
    "            add_individual = []\n",
    "            num_add = POPSIZE - len(pop)\n",
    "            for i in range(0, num_add):\n",
    "                index = random.randint(0, len(offspring) - 1)  # 在0-len(offspring)范围内随机产生一个索引\n",
    "                offspring[index] = toolbox.mutate(offspring[index], MR)[0]  # 选择index对应的个体进行突变\n",
    "                del offspring[index].fitness.values\n",
    "                add_individual.append(offspring[index])\n",
    "            add_individual = toolbox.individuals_constraints(add_individual)  # 限制每个类至少有一个实例被选择\n",
    "            pop = pop + add_individual  # 种群的合并\n",
    "            pop, _ = toolbox.remove_duplicates(pop)  # 去重\n",
    "        pop = toolbox.individuals_constraints(pop)  # 限制每个类至少有5个实例被选择\n",
    "        toolbox.evaluate(pop)  # 计算新种群适应度\n",
    "        ###############################################得到pareto_fronts############################################\n",
    "        feasible_pop, infeasible_pop = toolbox.get_feasible_infeasible(pop)  # 得到可行解与不可行解\n",
    "        if len(feasible_pop) >= POPSIZE:\n",
    "            pop, pareto_fronts = toolbox.select(feasible_pop, POPSIZE)\n",
    "            # ensembles = pareto_fronts[0]  # pareto_first_front\n",
    "            ensembles = pop  # pop均为可行解，则集成pop中所有个体\n",
    "        elif len(feasible_pop) > 0:\n",
    "            pop = feasible_pop + infeasible_pop[:POPSIZE - len(feasible_pop)]  # 在不可行解中选取违约程度小的个体，保证pop数量为POPSIZE\n",
    "            # ensembles = tools.sortNondominated(feasible_pop, len(feasible_pop))[0]  # pareto_first_front\n",
    "            ensembles = feasible_pop  # 只集成可行解\n",
    "            # ensembles = pop  # 集成种群\n",
    "        else:\n",
    "            pop = feasible_pop + infeasible_pop[:POPSIZE - len(feasible_pop)]  # 加入不可行解中违约程度小的个体，保证pop数量为POPSIZE\n",
    "            ensembles = [infeasible_pop[0]]  # 没有可行解，集成不可行解中第一个个体\n",
    "            # ensembles = pop  # 集成种群\n",
    "        avg_gmean, avg_mauc = calculate_average_gmean_mauc(ensembles)  # 计算gmean、mauc的平均值\n",
    "        _, avg_acc2, _ = calculate_average_accuracy(ensembles)  # 计算acc1、acc2、acc3的平均值\n",
    "\n",
    "        record = stats.compile(pop)\n",
    "        logbook.record(gen=gen, feasible=len(feasible_pop), ensembles_size=len(ensembles), avg_gmean=avg_gmean,\n",
    "                       avg_mauc=avg_mauc, avg_acc2=avg_acc2, **record)\n",
    "        # print(logbook.stream)\n",
    "    ensemble_classifiers = ensemble_individuals(ensembles, model, x_train, y_train)\n",
    "    return ensemble_classifiers\n",
    "\n",
    "\n",
    "if __name__ == \"__main__\":\n",
    "    print(\"*****************算法开始执行：******************\")\n",
    "    num_run = 40  # 运行次数\n",
    "    ensembles_results = [[] for _ in range(num_run)]\n",
    "    for i in range(num_run):\n",
    "        ensemble_classifiers = main(x_train, y_train, model=model, balanced_method='random')\n",
    "        vote_pred_prob = vote_result_ensembles(ensemble_classifiers, x_test)  # 默认预测结果是软标签\n",
    "        vote_pred = np.argmax(vote_pred_prob, axis=1)\n",
    "        gmean, mauc, recall_per_class = calculate_gmean_mauc(vote_pred_prob, y_test)\n",
    "        acc1, acc2, acc3 = calculate_accuracy(vote_pred, y_test, weights_test)\n",
    "        ensembles_results[i] = [gmean, mauc, acc1, acc2, acc3, len(ensemble_classifiers)]\n",
    "        print(\n",
    "            f\"第{i + 1}次执行：Gmean：{gmean}，mAUC：{mauc}，Acc1：{acc1}，Acc2：{acc2}，Acc3：{acc3}，集成的数量：{len(ensemble_classifiers)}\")\n",
    "    print(\"*****************算法执行结束！******************\")\n",
    "    ensembles_result_mean = np.mean(ensembles_results, axis=0)\n",
    "    print(f'集成分类结果（平均值）：{ensembles_result_mean}')"
   ],
   "metadata": {
    "collapsed": false,
    "ExecuteTime": {
     "end_time": "2025-04-05T14:20:49.136531Z",
     "start_time": "2025-04-05T12:09:22.703640Z"
    }
   },
   "id": "ec2997db669640b6",
   "outputs": [
    {
     "name": "stdout",
     "output_type": "stream",
     "text": [
      "*****************算法开始执行：******************\n",
      "第1次执行：Gmean：0.556163，mAUC：0.735002，Acc1：0.570136，Acc2：0.560022，Acc3：0.182363，集成的数量：30\n",
      "第2次执行：Gmean：0.550173，mAUC：0.739495，Acc1：0.576923，Acc2：0.559463，Acc3：0.179332，集成的数量：30\n",
      "第3次执行：Gmean：0.545631，mAUC：0.734273，Acc1：0.572398，Acc2：0.553829，Acc3：0.17732，集成的数量：30\n",
      "第4次执行：Gmean：0.511471，mAUC：0.717279，Acc1：0.547511，Acc2：0.525436，Acc3：0.166324，集成的数量：30\n",
      "第5次执行：Gmean：0.510754，mAUC：0.724471，Acc1：0.536199，Acc2：0.51645，Acc3：0.165427，集成的数量：30\n",
      "第6次执行：Gmean：0.536805，mAUC：0.737929，Acc1：0.563348，Acc2：0.543045，Acc3：0.173784，集成的数量：30\n",
      "第7次执行：Gmean：0.53961，mAUC：0.744207，Acc1：0.558824，Acc2：0.544487，Acc3：0.175866，集成的数量：30\n",
      "第8次执行：Gmean：0.509565，mAUC：0.731358，Acc1：0.542986，Acc2：0.525846，Acc3：0.167618，集成的数量：30\n",
      "第9次执行：Gmean：0.51201，mAUC：0.7291，Acc1：0.531674，Acc2：0.516309，Acc3：0.16642，集成的数量：30\n",
      "第10次执行：Gmean：0.537437，mAUC：0.745362，Acc1：0.552036，Acc2：0.541464，Acc3：0.176041，集成的数量：30\n",
      "第11次执行：Gmean：0.547347，mAUC：0.738019，Acc1：0.563348，Acc2：0.549857，Acc3：0.178631，集成的数量：30\n",
      "第12次执行：Gmean：0.547524，mAUC：0.73562，Acc1：0.565611，Acc2：0.556783，Acc3：0.180988，集成的数量：30\n",
      "第13次执行：Gmean：0.532414，mAUC：0.744246，Acc1：0.552036，Acc2：0.536586，Acc3：0.173148，集成的数量：30\n",
      "第14次执行：Gmean：0.525712，mAUC：0.733007，Acc1：0.547511，Acc2：0.533896，Acc3：0.172074，集成的数量：30\n",
      "第15次执行：Gmean：0.52834，mAUC：0.733014，Acc1：0.549774，Acc2：0.53445，Acc3：0.172066，集成的数量：30\n",
      "第16次执行：Gmean：0.559546，mAUC：0.734821，Acc1：0.572398，Acc2：0.561608，Acc3：0.183145，集成的数量：30\n",
      "第17次执行：Gmean：0.525923，mAUC：0.745985，Acc1：0.549774，Acc2：0.531703，Acc3：0.170563，集成的数量：30\n",
      "第18次执行：Gmean：0.53825，mAUC：0.740328，Acc1：0.561086，Acc2：0.544074，Acc3：0.174881，集成的数量：30\n",
      "第19次执行：Gmean：0.52431，mAUC：0.734345，Acc1：0.561086，Acc2：0.538427，Acc3：0.170446，集成的数量：30\n",
      "第20次执行：Gmean：0.544367，mAUC：0.735406，Acc1：0.556561，Acc2：0.546966，Acc3：0.17843，集成的数量：30\n",
      "第21次执行：Gmean：0.519436，mAUC：0.726145，Acc1：0.549774，Acc2：0.528605，Acc3：0.168196，集成的数量：30\n",
      "第22次执行：Gmean：0.525943，mAUC：0.737712，Acc1：0.554299，Acc2：0.537535，Acc3：0.172011，集成的数量：30\n",
      "第23次执行：Gmean：0.511607，mAUC：0.741608，Acc1：0.556561，Acc2：0.530244，Acc3：0.166367，集成的数量：30\n",
      "第24次执行：Gmean：0.53811，mAUC：0.737903，Acc1：0.556561，Acc2：0.54723，Acc3：0.177677，集成的数量：30\n",
      "第25次执行：Gmean：0.55633，mAUC：0.744449，Acc1：0.565611，Acc2：0.558651，Acc3：0.183131，集成的数量：30\n",
      "第26次执行：Gmean：0.525239，mAUC：0.73847，Acc1：0.554299，Acc2：0.535887，Acc3：0.17111，集成的数量：30\n",
      "第27次执行：Gmean：0.544845，mAUC：0.735319，Acc1：0.563348，Acc2：0.548341，Acc3：0.177353，集成的数量：30\n",
      "第28次执行：Gmean：0.55819，mAUC：0.73865，Acc1：0.576923，Acc2：0.565308，Acc3：0.183203，集成的数量：30\n",
      "第29次执行：Gmean：0.549497，mAUC：0.73668，Acc1：0.572398，Acc2：0.555346，Acc3：0.178598，集成的数量：30\n",
      "第30次执行：Gmean：0.535449，mAUC：0.741149，Acc1：0.561086，Acc2：0.544206，Acc3：0.174505，集成的数量：30\n",
      "第31次执行：Gmean：0.543851，mAUC：0.739014，Acc1：0.565611，Acc2：0.549092，Acc3：0.176781，集成的数量：30\n",
      "第32次执行：Gmean：0.534519，mAUC：0.739062，Acc1：0.554299，Acc2：0.538853，Acc3：0.173854，集成的数量：30\n",
      "第33次执行：Gmean：0.544299，mAUC：0.740563，Acc1：0.567873，Acc2：0.550876，Acc3：0.176998，集成的数量：30\n",
      "第34次执行：Gmean：0.527883，mAUC：0.738254，Acc1：0.549774，Acc2：0.537263，Acc3：0.17338，集成的数量：30\n",
      "第35次执行：Gmean：0.533544，mAUC：0.741338，Acc1：0.558824，Acc2：0.541938，Acc3：0.173799，集成的数量：30\n",
      "第36次执行：Gmean：0.532369，mAUC：0.733427，Acc1：0.556561，Acc2：0.53789，Acc3：0.172568，集成的数量：30\n",
      "第37次执行：Gmean：0.5288，mAUC：0.737556，Acc1：0.554299，Acc2：0.539666，Acc3：0.173402，集成的数量：30\n",
      "第38次执行：Gmean：0.531531，mAUC：0.734112，Acc1：0.547511，Acc2：0.535896，Acc3：0.17384，集成的数量：30\n",
      "第39次执行：Gmean：0.5288，mAUC：0.740586，Acc1：0.554299，Acc2：0.539666，Acc3：0.173402，集成的数量：30\n",
      "第40次执行：Gmean：0.541197，mAUC：0.734733，Acc1：0.561086，Acc2：0.546205，Acc3：0.176271，集成的数量：30\n",
      "*****************算法执行结束！******************\n",
      "集成分类结果（平均值）：[ 0.53486977  0.73674993  0.55780542  0.54223498  0.17453283 30.        ]\n"
     ]
    }
   ],
   "execution_count": 5
  },
  {
   "cell_type": "markdown",
   "source": [
    "## 写入到Excel "
   ],
   "metadata": {
    "collapsed": false
   },
   "id": "ed4dbb395903bfa7"
  },
  {
   "cell_type": "code",
   "source": [
    "from utils.excel_utils import save_to_excel_2\n",
    "\n",
    "columns = ['Gmean', 'MAUC', 'Acc1', 'Acc2', 'Acc3', 'num_ensemble']\n",
    "\n",
    "save_path = 'C:/Users/zsc/Desktop/Third/UnStratified/7-3/MILE/' + datasetname + '/'\n",
    "filename = datasetname\n",
    "save_to_excel_2(save_path, filename, columns, ensembles_results)"
   ],
   "metadata": {
    "collapsed": false,
    "ExecuteTime": {
     "end_time": "2025-04-05T14:20:49.184481Z",
     "start_time": "2025-04-05T14:20:49.136531Z"
    }
   },
   "id": "520fa2429669bb3e",
   "outputs": [
    {
     "name": "stdout",
     "output_type": "stream",
     "text": [
      "Excel 文件已保存至: C:/Users/zsc/Desktop/Third/UnStratified/7-3/MILE/Contraceptive/Contraceptive.xlsx\n"
     ]
    },
    {
     "data": {
      "text/plain": [
       "'C:/Users/zsc/Desktop/Third/UnStratified/7-3/MILE/Contraceptive/Contraceptive.xlsx'"
      ]
     },
     "execution_count": 6,
     "metadata": {},
     "output_type": "execute_result"
    }
   ],
   "execution_count": 6
  }
 ],
 "metadata": {
  "kernelspec": {
   "display_name": "Python 3",
   "language": "python",
   "name": "python3"
  },
  "language_info": {
   "codemirror_mode": {
    "name": "ipython",
    "version": 2
   },
   "file_extension": ".py",
   "mimetype": "text/x-python",
   "name": "python",
   "nbconvert_exporter": "python",
   "pygments_lexer": "ipython2",
   "version": "2.7.6"
  }
 },
 "nbformat": 4,
 "nbformat_minor": 5
}
