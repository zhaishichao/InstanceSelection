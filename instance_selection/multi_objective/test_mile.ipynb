{
 "cells": [
  {
   "cell_type": "markdown",
   "source": [
    "# E-SEIC\n",
    "Selection of evolutionary instances with constraints for unbalanced datasets"
   ],
   "metadata": {
    "collapsed": false
   },
   "id": "ea42cd71d488f349"
  },
  {
   "cell_type": "code",
   "source": [
    "from utils.dataset_utils import get_distribution, k_fold_cross_validation\n",
    "from instance_selection.parameter.parameter import *  # 导入参数的设定\n",
    "from instance_selection.operator.init_toolbox import init_toolbox_eseic\n",
    "from instance_selection.operator.metrics import calculate_gmean_mauc, calculate_average_accuracy, \\\n",
    "    calculate_average_gmean_mauc, calculate_accuracy\n",
    "from instance_selection.operator.genetic_operator import selTournamentNDCD\n",
    "from instance_selection.operator.ensemble import vote_result_ensembles, ensemble_individuals\n",
    "from sklearn.preprocessing import StandardScaler\n",
    "from sklearn.model_selection import train_test_split\n",
    "from sklearn.neural_network import MLPClassifier\n",
    "from sklearn.base import clone\n",
    "import scipy.io as sio  # 从.mat文件中读取数据集\n",
    "import random\n",
    "from deap import tools\n",
    "import warnings\n",
    "import numpy as np\n",
    "\n",
    "warnings.filterwarnings(\"ignore\")  # 忽略警告\n",
    "\n",
    "DATASET = Page_Blocks  # 数据集名称（包含对应的参数配置）\n",
    "\n",
    "datasetname = DATASET.DATASETNAME.split('.')[0]\n",
    "mat_data = sio.loadmat(IMBALANCED_DATASET_PATH + DATASET.DATASETNAME)  # 加载、划分数据集\n",
    "x = mat_data['X']\n",
    "y = mat_data['Y'][:, 0]  # mat_data['Y']得到的形状为[n,1]，通过[:,0]，得到形状[n,]\n",
    "x_train, x_test, y_train, y_test = train_test_split(x, y, test_size=0.3, stratify=y,\n",
    "                                                    random_state=RANDOM_SEED)  # 划分数据集\n",
    "scaler = StandardScaler()  # 数据的标准化\n",
    "x_train = scaler.fit_transform(x_train)\n",
    "x_test = scaler.transform(x_test)\n",
    "\n",
    "unique_elements_all, classes_all, counts_all = get_distribution(y)  # 获取原始数据集分布\n",
    "unique_elements_train, classes_train, counts_train = get_distribution(y_train)  # 获取训练集分布\n",
    "unique_elements_test, classes_test, counts_test = get_distribution(y_test)  # 获取测试集分布\n",
    "print(datasetname + f' distribution: {counts_all}')\n",
    "print(f'trainset distribution: {counts_train}')\n",
    "print(f'testset distribution: {counts_test}')\n",
    "\n",
    "model = MLPClassifier(hidden_layer_sizes=(DATASET.HIDDEN_SIZE,), max_iter=DATASET.MAX_ITER,\n",
    "                      random_state=RANDOM_SEED, learning_rate_init=DATASET.LEARNING_RATE)\n",
    "\n",
    "weights_train = (1 / counts_train.astype(float)) / np.sum(1 / counts_train.astype(float))  # 计算每个类的权重，用于计算每个类别的权重\n",
    "weights_test = (1 / counts_test.astype(float)) / np.sum(1 / counts_test.astype(float))  # 计算每个类的权重，用于计算每个类别的权重\n",
    "\n",
    "num_instances = int(np.ceil(counts_train.min() * 0.9))  # 取最小数量的类的0.9（向下取整）\n",
    "print(\"最小数量:\", num_instances)\n",
    "\n",
    "y_train_pred_proba = k_fold_cross_validation(model=clone(model), X=x_train, y=y_train, n_splits=N_SPLITS,\n",
    "                                             method='soft',\n",
    "                                             random_state=RANDOM_SEED)  # 交叉验证得到软标签\n",
    "# 将概率转化为预测结果\n",
    "y_train_pred = np.argmax(y_train_pred_proba, axis=1)\n",
    "\n",
    "Acc1, Acc2, Acc3 = calculate_accuracy(y_train_pred, y_train, weights_train)\n",
    "constraints = [Acc1, Acc2, Acc3]"
   ],
   "metadata": {
    "collapsed": false,
    "ExecuteTime": {
     "end_time": "2025-04-21T02:39:12.832275Z",
     "start_time": "2025-04-21T02:39:10.803230Z"
    }
   },
   "id": "cfea17902425a78f",
   "outputs": [
    {
     "name": "stdout",
     "output_type": "stream",
     "text": [
      "Page_Blocks distribution: [4913  329   28   88  115]\n",
      "trainset distribution: [3439  230   20   62   80]\n",
      "testset distribution: [1474   99    8   26   35]\n",
      "最小数量: 18\n"
     ]
    }
   ],
   "execution_count": 1
  },
  {
   "cell_type": "markdown",
   "source": [
    "## E-SEIC"
   ],
   "metadata": {
    "collapsed": false
   },
   "id": "b1848de64743684e"
  },
  {
   "cell_type": "code",
   "source": [
    "toolbox = init_toolbox_eseic(model, x_train, y_train, weights_train, constraints, n_splits=N_SPLITS,\n",
    "                             random_seed=RANDOM_SEED)  # 初始化toolbox\n",
    "\n",
    "\n",
    "def main(x_train, y_train, model, balanced_method='balanced'):\n",
    "    stats = tools.Statistics(lambda ind: ind.fitness.values)\n",
    "    logbook = tools.Logbook()\n",
    "    logbook.header = \"gen\", \"feasible\", \"ensembles_size\", \"avg_gmean\", \"avg_mauc\", \"avg_acc2\"\n",
    "    ####################################种群的初始化###########################\n",
    "    pop = toolbox.population(n=POPSIZE)  # 个体编码默认全为0\n",
    "    pop = toolbox.init_population(pop, balanced_method=balanced_method)  # 初始化种群中的个体\n",
    "    toolbox.evaluate(pop)  # 计算个体的适应度\n",
    "    ####################################种群的迭代#################################################\n",
    "    for gen in range(1, NGEN + 1):\n",
    "        offspring = selTournamentNDCD(pop, POPSIZE, tournsize=3)  # 锦标赛选择（1、先根据非支配排序的等级2、再根据拥挤距离）\n",
    "        offspring = [toolbox.clone(ind) for ind in offspring]\n",
    "        for i in range(0, len(offspring) - 1, 2):\n",
    "            if random.random() <= CXPB:\n",
    "                offspring[i], offspring[i + 1] = toolbox.mate(offspring[i], offspring[i + 1])  # 单点交叉\n",
    "            offspring[i] = toolbox.mutate(offspring[i], MR)[0]  # 二进制反转突变\n",
    "            offspring[i + 1] = toolbox.mutate(offspring[i + 1], MR)[0]  # 二进制反转突变\n",
    "            del offspring[i].fitness.values, offspring[i + 1].fitness.values\n",
    "        #############################################################合并、去重#####################################################\n",
    "        offspring = toolbox.individuals_constraints(offspring)  # 限制每个类至少有一个实例被选择\n",
    "        pop = pop + offspring  # 种群的合并\n",
    "        pop, _ = toolbox.remove_duplicates(pop)  # 去重\n",
    "        while len(pop) < POPSIZE:  # 保证种群大小为POPSIZE\n",
    "            add_individual = []\n",
    "            num_add = POPSIZE - len(pop)\n",
    "            for i in range(0, num_add):\n",
    "                index = random.randint(0, len(offspring) - 1)  # 在0-len(offspring)范围内随机产生一个索引\n",
    "                offspring[index] = toolbox.mutate(offspring[index], MR)[0]  # 选择index对应的个体进行突变\n",
    "                del offspring[index].fitness.values\n",
    "                add_individual.append(offspring[index])\n",
    "            add_individual = toolbox.individuals_constraints(add_individual)  # 限制每个类至少有一个实例被选择\n",
    "            pop = pop + add_individual  # 种群的合并\n",
    "            pop, _ = toolbox.remove_duplicates(pop)  # 去重\n",
    "        pop = toolbox.individuals_constraints(pop)  # 限制每个类至少有5个实例被选择\n",
    "        toolbox.evaluate(pop)  # 计算新种群适应度\n",
    "        ###############################################得到pareto_fronts############################################\n",
    "        feasible_pop, infeasible_pop = toolbox.get_feasible_infeasible(pop)  # 得到可行解与不可行解\n",
    "        if len(feasible_pop) >= POPSIZE:\n",
    "            pop, pareto_fronts = toolbox.select(feasible_pop, POPSIZE)\n",
    "            # ensembles = pareto_fronts[0]  # pareto_first_front\n",
    "            ensembles = pop  # pop均为可行解，则集成pop中所有个体\n",
    "        elif len(feasible_pop) > 0:\n",
    "            pop = feasible_pop + infeasible_pop[:POPSIZE - len(feasible_pop)]  # 在不可行解中选取违约程度小的个体，保证pop数量为POPSIZE\n",
    "            # ensembles = tools.sortNondominated(feasible_pop, len(feasible_pop))[0]  # pareto_first_front\n",
    "            ensembles = feasible_pop  # 只集成可行解\n",
    "            # ensembles = pop  # 集成种群\n",
    "        else:\n",
    "            pop = feasible_pop + infeasible_pop[:POPSIZE - len(feasible_pop)]  # 加入不可行解中违约程度小的个体，保证pop数量为POPSIZE\n",
    "            ensembles = [infeasible_pop[0]]  # 没有可行解，集成不可行解中第一个个体\n",
    "            # ensembles = pop  # 集成种群\n",
    "        avg_gmean, avg_mauc = calculate_average_gmean_mauc(ensembles)  # 计算gmean、mauc的平均值\n",
    "        _, avg_acc2, _ = calculate_average_accuracy(ensembles)  # 计算acc1、acc2、acc3的平均值\n",
    "\n",
    "        record = stats.compile(pop)\n",
    "        logbook.record(gen=gen, feasible=len(feasible_pop), ensembles_size=len(ensembles), avg_gmean=avg_gmean,\n",
    "                       avg_mauc=avg_mauc, avg_acc2=avg_acc2, **record)\n",
    "        # print(logbook.stream)\n",
    "    ensemble_classifiers = ensemble_individuals(ensembles, model, x_train, y_train)\n",
    "    return ensemble_classifiers\n",
    "\n",
    "\n",
    "if __name__ == \"__main__\":\n",
    "    print(\"*****************算法开始执行：******************\")\n",
    "    num_run = 40  # 运行次数\n",
    "    ensembles_results = [[] for _ in range(num_run)]\n",
    "    for i in range(num_run):\n",
    "        ensemble_classifiers = main(x_train, y_train, model=model, balanced_method='random')\n",
    "        vote_pred_prob = vote_result_ensembles(ensemble_classifiers, x_test)  # 默认预测结果是软标签\n",
    "        vote_pred = np.argmax(vote_pred_prob, axis=1)\n",
    "        gmean, mauc, recall_per_class = calculate_gmean_mauc(vote_pred_prob, y_test)\n",
    "        acc1, acc2, acc3 = calculate_accuracy(vote_pred, y_test, weights_test)\n",
    "        ensembles_results[i] = [gmean, mauc, acc1, acc2, acc3, len(ensemble_classifiers)]\n",
    "        print(\n",
    "            f\"第{i + 1}次执行：Gmean：{gmean}，mAUC：{mauc}，Acc1：{acc1}，Acc2：{acc2}，Acc3：{acc3}，集成的数量：{len(ensemble_classifiers)}\")\n",
    "    print(\"*****************算法执行结束！******************\")\n",
    "    ensembles_result_mean = np.mean(ensembles_results, axis=0)\n",
    "    print(f'集成分类结果（平均值）：{ensembles_result_mean}')"
   ],
   "metadata": {
    "collapsed": false,
    "ExecuteTime": {
     "end_time": "2025-04-21T09:06:11.894061Z",
     "start_time": "2025-04-21T02:39:12.833275Z"
    }
   },
   "id": "ec2997db669640b6",
   "outputs": [
    {
     "name": "stdout",
     "output_type": "stream",
     "text": [
      "*****************算法开始执行：******************\n",
      "第1次执行：Gmean：0.7729，mAUC：0.975854，Acc1：0.971376，Acc2：0.78417，Acc3：0.136264，集成的数量：30\n",
      "第2次执行：Gmean：0.800406，mAUC：0.976711，Acc1：0.970158，Acc2：0.810075，Acc3：0.140235，集成的数量：30\n",
      "第3次执行：Gmean：0.799513，mAUC：0.976557，Acc1：0.973203，Acc2：0.808851，Acc3：0.13908，集成的数量：30\n",
      "第4次执行：Gmean：0.795077，mAUC：0.975257，Acc1：0.96894，Acc2：0.804132，Acc3：0.138876，集成的数量：30\n",
      "第5次执行：Gmean：0.789963，mAUC：0.970592，Acc1：0.971985，Acc2：0.799157，Acc3：0.138578，集成的数量：30\n",
      "第6次执行：Gmean：0.781771，mAUC：0.959393，Acc1：0.970767，Acc2：0.791422，Acc3：0.137672，集成的数量：30\n",
      "第7次执行：Gmean：0.806767，mAUC：0.973792，Acc1：0.971376，Acc2：0.812653，Acc3：0.15288，集成的数量：30\n",
      "第8次执行：Gmean：0.764758，mAUC：0.973903，Acc1：0.965286，Acc2：0.7752，Acc3：0.136363，集成的数量：30\n",
      "第9次执行：Gmean：0.781151，mAUC：0.973436，Acc1：0.970767，Acc2：0.791497，Acc3：0.137168，集成的数量：30\n",
      "第10次执行：Gmean：0.785763，mAUC：0.971943，Acc1：0.970158，Acc2：0.794981，Acc3：0.138376，集成的数量：30\n",
      "第11次执行：Gmean：0.816802，mAUC：0.978701，Acc1：0.971985，Acc2：0.822212，Acc3：0.153381，集成的数量：30\n",
      "第12次执行：Gmean：0.797249，mAUC：0.975512，Acc1：0.970767，Acc2：0.806423，Acc3：0.138978，集成的数量：30\n",
      "第13次执行：Gmean：0.825169，mAUC：0.975041，Acc1：0.972594，Acc2：0.82981，Acc3：0.154287，集成的数量：30\n",
      "第14次执行：Gmean：0.791453，mAUC：0.975466，Acc1：0.972594，Acc2：0.801252，Acc3：0.138174，集成的数量：30\n",
      "第15次执行：Gmean：0.787604，mAUC：0.968386，Acc1：0.969549，Acc2：0.79673，Acc3：0.138476，集成的数量：30\n",
      "第16次执行：Gmean：0.817597，mAUC：0.97466，Acc1：0.969549，Acc2：0.823572，Acc3：0.154538，集成的数量：30\n",
      "第17次执行：Gmean：0.78145，mAUC：0.974491，Acc1：0.96894，Acc2：0.791015，Acc3：0.137671，集成的数量：30\n",
      "第18次执行：Gmean：0.797177，mAUC：0.973369，Acc1：0.96894，Acc2：0.804722，Acc3：0.15147，集成的数量：30\n",
      "第19次执行：Gmean：0.797577，mAUC：0.95543，Acc1：0.972594，Acc2：0.806831，Acc3：0.138979，集成的数量：30\n",
      "第20次执行：Gmean：0.784397，mAUC：0.967956，Acc1：0.96894，Acc2：0.794803，Acc3：0.138929，集成的数量：30\n",
      "第21次执行：Gmean：0.779942，mAUC：0.971225，Acc1：0.971376，Acc2：0.789673，Acc3：0.137573，集成的数量：30\n",
      "第22次执行：Gmean：0.791453，mAUC：0.971293，Acc1：0.972594，Acc2：0.801252，Acc3：0.138174，集成的数量：30\n",
      "第23次执行：Gmean：0.794082，mAUC：0.97088，Acc1：0.973812，Acc2：0.803333，Acc3：0.13878，集成的数量：30\n",
      "第24次执行：Gmean：0.791112，mAUC：0.974863，Acc1：0.967722，Acc2：0.800092，Acc3：0.138675，集成的数量：30\n",
      "第25次执行：Gmean：0.78083，mAUC：0.967337，Acc1：0.96894，Acc2：0.79109，Acc3：0.137167，集成的数量：30\n",
      "第26次执行：Gmean：0.817137，mAUC：0.972243，Acc1：0.973812，Acc2：0.822619，Acc3：0.153383，集成的数量：30\n",
      "第27次执行：Gmean：0.785683，mAUC：0.977722，Acc1：0.971376，Acc2：0.795327，Acc3：0.137873，集成的数量：30\n",
      "第28次执行：Gmean：0.797468，mAUC：0.974144，Acc1：0.971985，Acc2：0.806695，Acc3：0.138978，集成的数量：30\n",
      "第29次执行：Gmean：0.791545，mAUC：0.97417，Acc1：0.970158，Acc2：0.800634，Acc3：0.138677，集成的数量：30\n",
      "第30次执行：Gmean：0.812899，mAUC：0.975431，Acc1：0.970767，Acc2：0.818096，Acc3：0.153684，集成的数量：30\n",
      "第31次执行：Gmean：0.802269，mAUC：0.971979，Acc1：0.973812，Acc2：0.812849，Acc3：0.139834，集成的数量：30\n",
      "第32次执行：Gmean：0.793865，mAUC：0.973765，Acc1：0.972594，Acc2：0.803062，Acc3：0.138779，集成的数量：30\n",
      "第33次执行：Gmean：0.787031，mAUC：0.965643，Acc1：0.973203，Acc2：0.797694，Acc3：0.13747，集成的数量：30\n",
      "第34次执行：Gmean：0.795295，mAUC：0.975022，Acc1：0.970158，Acc2：0.804403，Acc3：0.138877，集成的数量：30\n",
      "第35次执行：Gmean：0.799732，mAUC：0.977801，Acc1：0.974421，Acc2：0.809122，Acc3：0.13908，集成的数量：30\n",
      "第36次执行：Gmean：0.791762，mAUC：0.964148，Acc1：0.971376，Acc2：0.800906，Acc3：0.138678，集成的数量：30\n",
      "第37次执行：Gmean：0.783415，mAUC：0.971201，Acc1：0.973203，Acc2：0.793925，Acc3：0.13727，集成的数量：30\n",
      "第38次执行：Gmean：0.789855，mAUC：0.971798，Acc1：0.971376，Acc2：0.799021，Acc3：0.138577，集成的数量：30\n",
      "第39次执行：Gmean：0.790912，mAUC：0.975074，Acc1：0.969549，Acc2：0.800574，Acc3：0.138172，集成的数量：30\n",
      "第40次执行：Gmean：0.822275，mAUC：0.976111，Acc1：0.970767，Acc2：0.827594，Acc3：0.153681，集成的数量：30\n",
      "*****************算法执行结束！******************\n",
      "集成分类结果（平均值）：[ 0.79432765  0.9724575   0.97108672  0.80318673  0.14134392 30.        ]\n"
     ]
    }
   ],
   "execution_count": 2
  },
  {
   "cell_type": "markdown",
   "source": [
    "## 写入到Excel "
   ],
   "metadata": {
    "collapsed": false
   },
   "id": "ed4dbb395903bfa7"
  },
  {
   "cell_type": "code",
   "source": [
    "from utils.excel_utils import save_to_excel_2\n",
    "\n",
    "columns = ['Gmean', 'MAUC', 'Acc1', 'Acc2', 'Acc3', 'num_ensemble']\n",
    "\n",
    "save_path = 'C:/Users/zsc/Desktop/' + datasetname + '/'\n",
    "filename = datasetname\n",
    "save_to_excel_2(save_path, filename, columns, ensembles_results)"
   ],
   "metadata": {
    "collapsed": false,
    "ExecuteTime": {
     "end_time": "2025-04-21T09:06:12.164403Z",
     "start_time": "2025-04-21T09:06:11.894061Z"
    }
   },
   "id": "520fa2429669bb3e",
   "outputs": [
    {
     "name": "stdout",
     "output_type": "stream",
     "text": [
      "Excel 文件已保存至: C:/Users/zsc/Desktop/Page_Blocks/Page_Blocks.xlsx\n"
     ]
    },
    {
     "data": {
      "text/plain": [
       "'C:/Users/zsc/Desktop/Page_Blocks/Page_Blocks.xlsx'"
      ]
     },
     "execution_count": 3,
     "metadata": {},
     "output_type": "execute_result"
    }
   ],
   "execution_count": 3
  }
 ],
 "metadata": {
  "kernelspec": {
   "display_name": "Python 3",
   "language": "python",
   "name": "python3"
  },
  "language_info": {
   "codemirror_mode": {
    "name": "ipython",
    "version": 2
   },
   "file_extension": ".py",
   "mimetype": "text/x-python",
   "name": "python",
   "nbconvert_exporter": "python",
   "pygments_lexer": "ipython2",
   "version": "2.7.6"
  }
 },
 "nbformat": 4,
 "nbformat_minor": 5
}
