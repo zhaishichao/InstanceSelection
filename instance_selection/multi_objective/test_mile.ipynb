{
 "cells": [
  {
   "cell_type": "markdown",
   "source": [
    "# E-SEIC\n",
    "Selection of evolutionary instances with constraints for unbalanced datasets"
   ],
   "metadata": {
    "collapsed": false
   },
   "id": "ea42cd71d488f349"
  },
  {
   "cell_type": "code",
   "source": [
    "from utils.dataset_utils import get_distribution, k_fold_cross_validation\n",
    "from instance_selection.parameter.parameter import *  # 导入参数的设定\n",
    "from instance_selection.operator.init_toolbox import init_toolbox_eseic\n",
    "from instance_selection.operator.metrics import calculate_gmean_mauc, calculate_average_accuracy, \\\n",
    "    calculate_average_gmean_mauc, calculate_accuracy\n",
    "from instance_selection.operator.genetic_operator import selTournamentNDCD\n",
    "from instance_selection.operator.ensemble import vote_result_ensembles, ensemble_individuals\n",
    "from sklearn.preprocessing import StandardScaler\n",
    "from sklearn.model_selection import train_test_split\n",
    "from sklearn.neural_network import MLPClassifier\n",
    "from sklearn.base import clone\n",
    "import scipy.io as sio  # 从.mat文件中读取数据集\n",
    "import random\n",
    "from deap import tools\n",
    "import warnings\n",
    "import numpy as np\n",
    "\n",
    "warnings.filterwarnings(\"ignore\")  # 忽略警告\n",
    "\n",
    "DATASET = Nursery  # 数据集名称（包含对应的参数配置）\n",
    "\n",
    "datasetname = DATASET.DATASETNAME.split('.')[0]\n",
    "mat_data = sio.loadmat(IMBALANCED_DATASET_PATH + DATASET.DATASETNAME)  # 加载、划分数据集\n",
    "x = mat_data['X']\n",
    "y = mat_data['Y'][:, 0]  # mat_data['Y']得到的形状为[n,1]，通过[:,0]，得到形状[n,]\n",
    "x_train, x_test, y_train, y_test = train_test_split(x, y, test_size=0.3, stratify=y,\n",
    "                                                    random_state=RANDOM_SEED)  # 划分数据集\n",
    "scaler = StandardScaler()  # 数据的标准化\n",
    "x_train = scaler.fit_transform(x_train)\n",
    "x_test = scaler.transform(x_test)\n",
    "\n",
    "unique_elements_all, classes_all, counts_all = get_distribution(y)  # 获取原始数据集分布\n",
    "unique_elements_train, classes_train, counts_train = get_distribution(y_train)  # 获取训练集分布\n",
    "unique_elements_test, classes_test, counts_test = get_distribution(y_test)  # 获取测试集分布\n",
    "print(datasetname + f' distribution: {counts_all}')\n",
    "print(f'trainset distribution: {counts_train}')\n",
    "print(f'testset distribution: {counts_test}')\n",
    "\n",
    "model = MLPClassifier(hidden_layer_sizes=(DATASET.HIDDEN_SIZE,), max_iter=DATASET.MAX_ITER,\n",
    "                      random_state=RANDOM_SEED, learning_rate_init=DATASET.LEARNING_RATE)\n",
    "\n",
    "weights_train = (1 / counts_train.astype(float)) / np.sum(1 / counts_train.astype(float))  # 计算每个类的权重，用于计算每个类别的权重\n",
    "weights_test = (1 / counts_test.astype(float)) / np.sum(1 / counts_test.astype(float))  # 计算每个类的权重，用于计算每个类别的权重\n",
    "\n",
    "num_instances = int(np.ceil(counts_train.min() * 0.9))  # 取最小数量的类的0.9（向下取整）\n",
    "print(\"最小数量:\", num_instances)\n",
    "\n",
    "y_train_pred_proba = k_fold_cross_validation(model=clone(model), X=x_train, y=y_train, n_splits=N_SPLITS - 2,\n",
    "                                             method='soft',\n",
    "                                             random_state=RANDOM_SEED)  # 交叉验证得到软标签\n",
    "# 将概率转化为预测结果\n",
    "y_train_pred = np.argmax(y_train_pred_proba, axis=1)\n",
    "\n",
    "Acc1, Acc2, Acc3 = calculate_accuracy(y_train_pred, y_train, weights_train)\n",
    "constraints = [Acc1, Acc2, Acc3]"
   ],
   "metadata": {
    "collapsed": false,
    "ExecuteTime": {
     "end_time": "2025-04-04T14:44:12.130953Z",
     "start_time": "2025-04-04T14:44:11.201022Z"
    }
   },
   "id": "cfea17902425a78f",
   "outputs": [
    {
     "name": "stdout",
     "output_type": "stream",
     "text": [
      "Nursery distribution: [4320 4266 4044  328]\n",
      "trainset distribution: [3024 2986 2831  229]\n",
      "testset distribution: [1296 1280 1213   99]\n",
      "最小数量: 207\n"
     ]
    }
   ],
   "execution_count": 5
  },
  {
   "cell_type": "markdown",
   "source": [
    "## E-SEIC"
   ],
   "metadata": {
    "collapsed": false
   },
   "id": "b1848de64743684e"
  },
  {
   "cell_type": "code",
   "source": [
    "toolbox = init_toolbox_eseic(model, x_train, y_train, weights_train, constraints, n_splits=N_SPLITS - 2,\n",
    "                             random_seed=RANDOM_SEED)  # 初始化toolbox\n",
    "\n",
    "\n",
    "def main(x_train, y_train, model, balanced_method='balanced'):\n",
    "    stats = tools.Statistics(lambda ind: ind.fitness.values)\n",
    "    logbook = tools.Logbook()\n",
    "    logbook.header = \"gen\", \"feasible\", \"ensembles_size\", \"avg_gmean\", \"avg_mauc\", \"avg_acc2\"\n",
    "    ####################################种群的初始化###########################\n",
    "    pop = toolbox.population(n=POPSIZE)  # 个体编码默认全为0\n",
    "    pop = toolbox.init_population(pop, balanced_method=balanced_method)  # 初始化种群中的个体\n",
    "    toolbox.evaluate(pop)  # 计算个体的适应度\n",
    "    ####################################种群的迭代#################################################\n",
    "    for gen in range(1, NGEN + 1):\n",
    "        offspring = selTournamentNDCD(pop, POPSIZE, tournsize=3)  # 锦标赛选择（1、先根据非支配排序的等级2、再根据拥挤距离）\n",
    "        offspring = [toolbox.clone(ind) for ind in offspring]\n",
    "        for i in range(0, len(offspring) - 1, 2):\n",
    "            if random.random() <= CXPB:\n",
    "                offspring[i], offspring[i + 1] = toolbox.mate(offspring[i], offspring[i + 1])  # 单点交叉\n",
    "            offspring[i] = toolbox.mutate(offspring[i], MR)[0]  # 二进制反转突变\n",
    "            offspring[i + 1] = toolbox.mutate(offspring[i + 1], MR)[0]  # 二进制反转突变\n",
    "            del offspring[i].fitness.values, offspring[i + 1].fitness.values\n",
    "        #############################################################合并、去重#####################################################\n",
    "        offspring = toolbox.individuals_constraints(offspring)  # 限制每个类至少有一个实例被选择\n",
    "        pop = pop + offspring  # 种群的合并\n",
    "        pop, _ = toolbox.remove_duplicates(pop)  # 去重\n",
    "        while len(pop) < POPSIZE:  # 保证种群大小为POPSIZE\n",
    "            add_individual = []\n",
    "            num_add = POPSIZE - len(pop)\n",
    "            for i in range(0, num_add):\n",
    "                index = random.randint(0, len(offspring) - 1)  # 在0-len(offspring)范围内随机产生一个索引\n",
    "                offspring[index] = toolbox.mutate(offspring[index], MR)[0]  # 选择index对应的个体进行突变\n",
    "                del offspring[index].fitness.values\n",
    "                add_individual.append(offspring[index])\n",
    "            add_individual = toolbox.individuals_constraints(add_individual)  # 限制每个类至少有一个实例被选择\n",
    "            pop = pop + add_individual  # 种群的合并\n",
    "            pop, _ = toolbox.remove_duplicates(pop)  # 去重\n",
    "        pop = toolbox.individuals_constraints(pop)  # 限制每个类至少有5个实例被选择\n",
    "        toolbox.evaluate(pop)  # 计算新种群适应度\n",
    "        ###############################################得到pareto_fronts############################################\n",
    "        feasible_pop, infeasible_pop = toolbox.get_feasible_infeasible(pop)  # 得到可行解与不可行解\n",
    "        if len(feasible_pop) >= POPSIZE:\n",
    "            pop, pareto_fronts = toolbox.select(feasible_pop, POPSIZE)\n",
    "            # ensembles = pareto_fronts[0]  # pareto_first_front\n",
    "            ensembles = pop  # pop均为可行解，则集成pop中所有个体\n",
    "        elif len(feasible_pop) > 0:\n",
    "            pop = feasible_pop + infeasible_pop[:POPSIZE - len(feasible_pop)]  # 在不可行解中选取违约程度小的个体，保证pop数量为POPSIZE\n",
    "            # ensembles = tools.sortNondominated(feasible_pop, len(feasible_pop))[0]  # pareto_first_front\n",
    "            # ensembles = feasible_pop  # 只集成可行解\n",
    "            ensembles = pop  # 集成种群\n",
    "        else:\n",
    "            pop = feasible_pop + infeasible_pop[:POPSIZE - len(feasible_pop)]  # 加入不可行解中违约程度小的个体，保证pop数量为POPSIZE\n",
    "            # ensembles = [infeasible_pop[0]]  # 没有可行解，集成不可行解中第一个个体\n",
    "            ensembles = pop  # 集成种群\n",
    "        avg_gmean, avg_mauc = calculate_average_gmean_mauc(ensembles)  # 计算gmean、mauc的平均值\n",
    "        _, avg_acc2, _ = calculate_average_accuracy(ensembles)  # 计算acc1、acc2、acc3的平均值\n",
    "\n",
    "        record = stats.compile(pop)\n",
    "        logbook.record(gen=gen, feasible=len(feasible_pop), ensembles_size=len(ensembles), avg_gmean=avg_gmean,\n",
    "                       avg_mauc=avg_mauc, avg_acc2=avg_acc2, **record)\n",
    "        # print(logbook.stream)\n",
    "    ensemble_classifiers = ensemble_individuals(ensembles, model, x_train, y_train)\n",
    "    return ensemble_classifiers\n",
    "\n",
    "\n",
    "if __name__ == \"__main__\":\n",
    "    print(\"*****************算法开始执行：******************\")\n",
    "    num_run = 30  # 运行次数\n",
    "    ensembles_results = [[] for _ in range(num_run)]\n",
    "    for i in range(num_run):\n",
    "        ensemble_classifiers = main(x_train, y_train, model=model, balanced_method='random')\n",
    "        vote_pred_prob = vote_result_ensembles(ensemble_classifiers, x_test)  # 默认预测结果是软标签\n",
    "        vote_pred = np.argmax(vote_pred_prob, axis=1)\n",
    "        gmean, mauc, recall_per_class = calculate_gmean_mauc(vote_pred_prob, y_test)\n",
    "        acc1, acc2, acc3 = calculate_accuracy(vote_pred, y_test, weights_test)\n",
    "        ensembles_results[i] = [gmean, mauc, acc1, acc2, acc3, len(ensemble_classifiers)]\n",
    "        print(\n",
    "            f\"第{i + 1}次执行：Gmean：{gmean}，mAUC：{mauc}，Acc1：{acc1}，Acc2：{acc2}，Acc3：{acc3}，集成的数量：{len(ensemble_classifiers)}\")\n",
    "    print(\"*****************算法执行结束！******************\")\n",
    "    ensembles_result_mean = np.mean(ensembles_results, axis=0)\n",
    "    print(f'集成分类结果（平均值）：{ensembles_result_mean}')"
   ],
   "metadata": {
    "collapsed": false,
    "ExecuteTime": {
     "end_time": "2025-04-04T22:16:20.131538Z",
     "start_time": "2025-04-04T14:44:12.131953Z"
    }
   },
   "id": "ec2997db669640b6",
   "outputs": [
    {
     "name": "stdout",
     "output_type": "stream",
     "text": [
      "*****************算法开始执行：******************\n",
      "第1次执行：Gmean：0.95302，mAUC：0.997759，Acc1：0.973508，Acc2：0.95393，Acc3：0.226348，集成的数量：30\n",
      "第2次执行：Gmean：0.973206，mAUC：0.998659，Acc1：0.977623，Acc2：0.973343，Acc3：0.240764，集成的数量：30\n",
      "第3次执行：Gmean：0.967258，mAUC：0.999145，Acc1：0.98251，Acc2：0.967723，Acc3：0.232867，集成的数量：30\n",
      "第4次执行：Gmean：0.978561，mAUC：0.998779，Acc1：0.978652，Acc2：0.978655，Acc3：0.24486，集成的数量：30\n",
      "第5次执行：Gmean：0.951254，mAUC：0.998452，Acc1：0.974537，Acc2：0.952349，Acc3：0.22436，集成的数量：30\n",
      "第6次执行：Gmean：0.933999，mAUC：0.998169，Acc1：0.972479，Acc2：0.936763，Acc3：0.212065，集成的数量：30\n",
      "第7次执行：Gmean：0.957859，mAUC：0.998425，Acc1：0.976595，Acc2：0.958593，Acc3：0.228525，集成的数量：30\n",
      "第8次执行：Gmean：0.967398，mAUC：0.998584，Acc1：0.979424，Acc2：0.967731，Acc3：0.234755，集成的数量：30\n",
      "第9次执行：Gmean：0.977712，mAUC：0.998356，Acc1：0.977366，Acc2：0.97784，Acc3：0.24482，集成的数量：30\n",
      "第10次执行：Gmean：0.983315，mAUC：0.998359，Acc1：0.978652，Acc2：0.983476，Acc3：0.248945，集成的数量：30\n",
      "第11次执行：Gmean：0.973974，mAUC：0.999063，Acc1：0.981739，Acc2：0.974138，Acc3：0.238928，集成的数量：30\n",
      "第12次执行：Gmean：0.96435，mAUC：0.998611，Acc1：0.978652，Acc2：0.964794，Acc3：0.232684，集成的数量：30\n",
      "第13次执行：Gmean：0.979876，mAUC：0.998703，Acc1：0.980195，Acc2：0.979956，Acc3：0.24495，集成的数量：30\n",
      "第14次执行：Gmean：0.958285，mAUC：0.998452，Acc1：0.977109，Acc2：0.959037，Acc3：0.228556，集成的数量：30\n",
      "第15次执行：Gmean：0.95179，mAUC：0.998774，Acc1：0.978652，Acc2：0.953155，Acc3：0.222525，集成的数量：30\n",
      "第16次执行：Gmean：0.969051，mAUC：0.998756，Acc1：0.978395，Acc2：0.969301，Acc3：0.236741，集成的数量：30\n",
      "第17次执行：Gmean：0.970663，mAUC：0.998692，Acc1：0.980453，Acc2：0.970918，Acc3：0.236846，集成的数量：30\n",
      "第18次执行：Gmean：0.971303，mAUC：0.998721，Acc1：0.981481，Acc2：0.971548，Acc3：0.236875，集成的数量：30\n",
      "第19次执行：Gmean：0.971046，mAUC：0.998531，Acc1：0.977881，Acc2：0.97123，Acc3：0.238747，集成的数量：30\n",
      "第20次执行：Gmean：0.960277，mAUC：0.998688，Acc1：0.979938，Acc2：0.961035，Acc3：0.228671，集成的数量：30\n",
      "第21次执行：Gmean：0.957447，mAUC：0.998685，Acc1：0.979424，Acc2：0.958379，Acc3：0.226623，集成的数量：30\n",
      "第22次执行：Gmean：0.954362，mAUC：0.997867，Acc1：0.971965，Acc2：0.955153，Acc3：0.228314，集成的数量：30\n",
      "第23次执行：Gmean：0.94296，mAUC：0.998054，Acc1：0.973765，Acc2：0.944795，Acc3：0.218231，集成的数量：30\n",
      "第24次执行：Gmean：0.967636，mAUC：0.998518，Acc1：0.979681，Acc2：0.96798，Acc3：0.234774，集成的数量：30\n",
      "第25次执行：Gmean：0.940538，mAUC：0.998148，Acc1：0.974023，Acc2：0.942682，Acc3：0.216214，集成的数量：30\n",
      "第26次执行：Gmean：0.974595，mAUC：0.998051，Acc1：0.976337，Acc2：0.97475，Acc3：0.242742，集成的数量：30\n",
      "第27次执行：Gmean：0.972581，mAUC：0.998212，Acc1：0.973765，Acc2：0.972775，Acc3：0.242617，集成的数量：30\n",
      "第28次执行：Gmean：0.977864，mAUC：0.998194，Acc1：0.971708，Acc2：0.978246，Acc3：0.24862，集成的数量：30\n",
      "第29次执行：Gmean：0.960966，mAUC：0.998515，Acc1：0.977366，Acc2：0.961563，Acc3：0.2306，集成的数量：30\n",
      "第30次执行：Gmean：0.954405，mAUC：0.998524，Acc1：0.978652，Acc2：0.955549，Acc3：0.224566，集成的数量：30\n",
      "*****************算法执行结束！******************\n",
      "集成分类结果（平均值）：[ 0.96391837  0.99848153  0.97741757  0.96457957  0.23323777 30.        ]\n"
     ]
    }
   ],
   "execution_count": 6
  },
  {
   "cell_type": "markdown",
   "source": [
    "## 写入到Excel "
   ],
   "metadata": {
    "collapsed": false
   },
   "id": "ed4dbb395903bfa7"
  },
  {
   "cell_type": "code",
   "source": [
    "from utils.excel_utils import save_to_excel_2\n",
    "\n",
    "columns = ['Gmean', 'MAUC', 'Acc1', 'Acc2', 'Acc3', 'num_ensemble']\n",
    "\n",
    "save_path = 'C:/Users/zsc/Desktop/Third/Stratified/7-3/MILE/' + datasetname + '/'\n",
    "filename = datasetname\n",
    "save_to_excel_2(save_path, filename, columns, ensembles_results)"
   ],
   "metadata": {
    "collapsed": false,
    "ExecuteTime": {
     "end_time": "2025-04-04T22:16:20.163603Z",
     "start_time": "2025-04-04T22:16:20.132538Z"
    }
   },
   "id": "520fa2429669bb3e",
   "outputs": [
    {
     "name": "stdout",
     "output_type": "stream",
     "text": [
      "Excel 文件已保存至: C:/Users/zsc/Desktop/Third/Stratified/7-3/MILE/Nursery/Nursery.xlsx\n"
     ]
    },
    {
     "data": {
      "text/plain": [
       "'C:/Users/zsc/Desktop/Third/Stratified/7-3/MILE/Nursery/Nursery.xlsx'"
      ]
     },
     "execution_count": 7,
     "metadata": {},
     "output_type": "execute_result"
    }
   ],
   "execution_count": 7
  }
 ],
 "metadata": {
  "kernelspec": {
   "display_name": "Python 3",
   "language": "python",
   "name": "python3"
  },
  "language_info": {
   "codemirror_mode": {
    "name": "ipython",
    "version": 2
   },
   "file_extension": ".py",
   "mimetype": "text/x-python",
   "name": "python",
   "nbconvert_exporter": "python",
   "pygments_lexer": "ipython2",
   "version": "2.7.6"
  }
 },
 "nbformat": 4,
 "nbformat_minor": 5
}
