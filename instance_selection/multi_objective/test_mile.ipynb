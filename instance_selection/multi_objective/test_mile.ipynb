{
 "cells": [
  {
   "cell_type": "markdown",
   "source": [
    "# E-SEIC\n",
    "Selection of evolutionary instances with constraints for unbalanced datasets"
   ],
   "metadata": {
    "collapsed": false
   },
   "id": "ea42cd71d488f349"
  },
  {
   "cell_type": "code",
   "outputs": [
    {
     "name": "stdout",
     "output_type": "stream",
     "text": [
      "USPS distribution: [1553 1269  929  824  852  716  834  792  708  821]\n",
      "trainset distribution: [1267 1025  746  635  678  568  647  629  561  682]\n",
      "testset distribution: [286 244 183 189 174 148 187 163 147 139]\n",
      "最小数量: 505\n"
     ]
    }
   ],
   "source": [
    "from utils.dataset_utils import get_distribution, k_fold_cross_validation\n",
    "from instance_selection.parameter.parameter import *  # 导入参数的设定\n",
    "from instance_selection.operator.init_toolbox import init_toolbox_eseic\n",
    "from instance_selection.operator.metrics import calculate_gmean_mauc, calculate_average_accuracy, \\\n",
    "    calculate_average_gmean_mauc, calculate_accuracy\n",
    "from instance_selection.operator.genetic_operator import selTournamentNDCD\n",
    "from instance_selection.operator.ensemble import vote_result_ensembles, ensemble_individuals\n",
    "from sklearn.preprocessing import StandardScaler\n",
    "from sklearn.model_selection import train_test_split\n",
    "from sklearn.neural_network import MLPClassifier\n",
    "from sklearn.base import clone\n",
    "import scipy.io as sio  # 从.mat文件中读取数据集\n",
    "import random\n",
    "from deap import tools\n",
    "import warnings\n",
    "import numpy as np\n",
    "\n",
    "warnings.filterwarnings(\"ignore\")  # 忽略警告\n",
    "\n",
    "DATASET = USPS  # 数据集名称（包含对应的参数配置）\n",
    "\n",
    "datasetname = DATASET.DATASETNAME.split('.')[0]\n",
    "mat_data = sio.loadmat(IMBALANCED_DATASET_PATH + DATASET.DATASETNAME)  # 加载、划分数据集\n",
    "x = mat_data['X']\n",
    "y = mat_data['Y'][:, 0]  # mat_data['Y']得到的形状为[n,1]，通过[:,0]，得到形状[n,]\n",
    "x_train, x_test, y_train, y_test = train_test_split(x, y, test_size=0.3, random_state=RANDOM_SEED)  # 划分数据集\n",
    "scaler = StandardScaler()  # 数据的标准化\n",
    "x_train = scaler.fit_transform(x_train)\n",
    "x_test = scaler.transform(x_test)\n",
    "\n",
    "unique_elements_all, classes_all, counts_all = get_distribution(y)  # 获取原始数据集分布\n",
    "unique_elements_train, classes_train, counts_train = get_distribution(y_train)  # 获取训练集分布\n",
    "unique_elements_test, classes_test, counts_test = get_distribution(y_test)  # 获取测试集分布\n",
    "print(datasetname + f' distribution: {counts_all}')\n",
    "print(f'trainset distribution: {counts_train}')\n",
    "print(f'testset distribution: {counts_test}')\n",
    "\n",
    "model = MLPClassifier(hidden_layer_sizes=(DATASET.HIDDEN_SIZE,), max_iter=DATASET.MAX_ITER,\n",
    "                      random_state=RANDOM_SEED, learning_rate_init=DATASET.LEARNING_RATE)\n",
    "\n",
    "weights_train = (1 / counts_train.astype(float)) / np.sum(1 / counts_train.astype(float))  # 计算每个类的权重，用于计算每个类别的权重\n",
    "weights_test = (1 / counts_test.astype(float)) / np.sum(1 / counts_test.astype(float))  # 计算每个类的权重，用于计算每个类别的权重\n",
    "\n",
    "num_instances = int(np.ceil(counts_train.min() * 0.9))  # 取最小数量的类的0.9（向下取整）\n",
    "print(\"最小数量:\", num_instances)\n",
    "\n",
    "y_train_pred_proba = k_fold_cross_validation(model=clone(model), X=x_train, y=y_train, n_splits=N_SPLITS, method='soft',\n",
    "                                             random_state=RANDOM_SEED)  # 交叉验证得到软标签\n",
    "# 将概率转化为预测结果\n",
    "y_train_pred = np.argmax(y_train_pred_proba, axis=1)\n",
    "\n",
    "Acc1, Acc2, Acc3 = calculate_accuracy(y_train_pred, y_train, weights_train)\n",
    "constraints = [Acc1, Acc2, Acc3]"
   ],
   "metadata": {
    "collapsed": false,
    "ExecuteTime": {
     "end_time": "2025-03-19T12:19:45.039886Z",
     "start_time": "2025-03-19T12:19:41.998232Z"
    }
   },
   "id": "cfea17902425a78f",
   "execution_count": 1
  },
  {
   "cell_type": "markdown",
   "source": [
    "## E-SEIC"
   ],
   "metadata": {
    "collapsed": false
   },
   "id": "b1848de64743684e"
  },
  {
   "cell_type": "code",
   "outputs": [
    {
     "name": "stdout",
     "output_type": "stream",
     "text": [
      "*****************算法开始执行：******************\n",
      "第1次执行：Gmean：0.966019，mAUC：0.99858，Acc1：0.969355，Acc2：0.966318，Acc3：0.09637，集成的数量：30\n",
      "第2次执行：Gmean：0.96073，mAUC：0.998264，Acc1：0.965054，Acc2：0.96105，Acc3：0.095766，集成的数量：30\n",
      "第3次执行：Gmean：0.961625，mAUC：0.998378，Acc1：0.966129，Acc2：0.96201，Acc3：0.09586，集成的数量：30\n",
      "第4次执行：Gmean：0.962212，mAUC：0.998389，Acc1：0.966129，Acc2：0.962533，Acc3：0.095946，集成的数量：30\n",
      "第5次执行：Gmean：0.963121，mAUC：0.998402，Acc1：0.967204，Acc2：0.963456，Acc3：0.096032，集成的数量：30\n",
      "第6次执行：Gmean：0.966974，mAUC：0.99883，Acc1：0.97043，Acc2：0.967228，Acc3：0.096443，集成的数量：30\n",
      "第7次执行：Gmean：0.96694，mAUC：0.998125，Acc1：0.97043，Acc2：0.967187，Acc3：0.096438，集成的数量：30\n",
      "第8次执行：Gmean：0.9645，mAUC：0.998891，Acc1：0.968817，Acc2：0.964801，Acc3：0.096143，集成的数量：30\n",
      "第9次执行：Gmean：0.964324，mAUC：0.998463，Acc1：0.967742，Acc2：0.964608，Acc3：0.096191，集成的数量：30\n",
      "第10次执行：Gmean：0.96516，mAUC：0.998576，Acc1：0.969355，Acc2：0.96547，Acc3：0.096215，集成的数量：30\n",
      "第11次执行：Gmean：0.964905，mAUC：0.998628，Acc1：0.969355，Acc2：0.965257，Acc3：0.096158，集成的数量：30\n",
      "第12次执行：Gmean：0.961055，mAUC：0.998528，Acc1：0.965054，Acc2：0.961408，Acc3：0.095837，集成的数量：30\n",
      "第13次执行：Gmean：0.968362，mAUC：0.998361，Acc1：0.971505，Acc2：0.968534，Acc3：0.096598，集成的数量：30\n",
      "第14次执行：Gmean：0.965657，mAUC：0.998325，Acc1：0.969355，Acc2：0.965889，Acc3：0.096282，集成的数量：30\n",
      "第15次执行：Gmean：0.96559，mAUC：0.998403，Acc1：0.969355，Acc2：0.965895，Acc3：0.096293，集成的数量：30\n",
      "第16次执行：Gmean：0.966672，mAUC：0.998323，Acc1：0.97043，Acc2：0.966922，Acc3：0.096392，集成的数量：30\n",
      "第17次执行：Gmean：0.966913，mAUC：0.998493，Acc1：0.97043，Acc2：0.967063，Acc3：0.096426，集成的数量：30\n",
      "第18次执行：Gmean：0.965245，mAUC：0.99823，Acc1：0.969355，Acc2：0.965557，Acc3：0.096217，集成的数量：30\n",
      "第19次执行：Gmean：0.968147，mAUC：0.998322，Acc1：0.970968，Acc2：0.968299，Acc3：0.096608，集成的数量：30\n",
      "第20次执行：Gmean：0.966279，mAUC：0.998696，Acc1：0.969892，Acc2：0.966547，Acc3：0.096365，集成的数量：30\n",
      "第21次执行：Gmean：0.967175，mAUC：0.998624，Acc1：0.97043，Acc2：0.967434，Acc3：0.096488，集成的数量：30\n",
      "第22次执行：Gmean：0.965402，mAUC：0.99853，Acc1：0.96828，Acc2：0.965566，Acc3：0.096319，集成的数量：30\n",
      "第23次执行：Gmean：0.965017，mAUC：0.998623，Acc1：0.96828，Acc2：0.9652，Acc3：0.096277，集成的数量：30\n",
      "第24次执行：Gmean：0.962434，mAUC：0.998246，Acc1：0.967204，Acc2：0.962862，Acc3：0.095906，集成的数量：30\n",
      "第25次执行：Gmean：0.964721，mAUC：0.998601，Acc1：0.96828，Acc2：0.965064，Acc3：0.096224，集成的数量：30\n",
      "第26次执行：Gmean：0.964026，mAUC：0.998418，Acc1：0.967742，Acc2：0.964276，Acc3：0.096139，集成的数量：30\n",
      "第27次执行：Gmean：0.964977，mAUC：0.998481，Acc1：0.968817，Acc2：0.965205，Acc3：0.096221，集成的数量：30\n",
      "第28次执行：Gmean：0.965036，mAUC：0.998393，Acc1：0.96828，Acc2：0.965291，Acc3：0.096285，集成的数量：30\n",
      "第29次执行：Gmean：0.962076，mAUC：0.998386，Acc1：0.966667，Acc2：0.962471，Acc3：0.095892，集成的数量：30\n",
      "第30次执行：Gmean：0.967353，mAUC：0.998187，Acc1：0.97043，Acc2：0.967561，Acc3：0.096504，集成的数量：30\n",
      "*****************算法执行结束！******************\n",
      "集成分类结果（平均值）：[ 0.9649549   0.99845653  0.9686918   0.96523207  0.09622783 30.        ]\n"
     ]
    }
   ],
   "source": [
    "toolbox = init_toolbox_eseic(model, x_train, y_train, weights_train, constraints, n_splits=N_SPLITS,\n",
    "                             random_seed=RANDOM_SEED)  # 初始化toolbox\n",
    "\n",
    "\n",
    "def main(x_train, y_train, model, balanced_method='balanced'):\n",
    "    stats = tools.Statistics(lambda ind: ind.fitness.values)\n",
    "    logbook = tools.Logbook()\n",
    "    logbook.header = \"gen\", \"feasible\", \"ensembles_size\", \"avg_gmean\", \"avg_mauc\", \"avg_acc2\"\n",
    "    ####################################种群的初始化###########################\n",
    "    pop = toolbox.population(n=POPSIZE)  # 个体编码默认全为0\n",
    "    pop = toolbox.init_population(pop, balanced_method=balanced_method)  # 初始化种群中的个体\n",
    "    toolbox.evaluate(pop)  # 计算个体的适应度\n",
    "    ####################################种群的迭代#################################################\n",
    "    for gen in range(1, NGEN + 1):\n",
    "        offspring = selTournamentNDCD(pop, POPSIZE, tournsize=3)  # 锦标赛选择（1、先根据非支配排序的等级2、再根据拥挤距离）\n",
    "        offspring = [toolbox.clone(ind) for ind in offspring]\n",
    "        for i in range(0, len(offspring) - 1, 2):\n",
    "            if random.random() <= CXPB:\n",
    "                offspring[i], offspring[i + 1] = toolbox.mate(offspring[i], offspring[i + 1])  # 单点交叉\n",
    "            offspring[i] = toolbox.mutate(offspring[i], MR)[0]  # 二进制反转突变\n",
    "            offspring[i + 1] = toolbox.mutate(offspring[i + 1], MR)[0]  # 二进制反转突变\n",
    "            del offspring[i].fitness.values, offspring[i + 1].fitness.values\n",
    "        #############################################################合并、去重#####################################################\n",
    "        offspring = toolbox.individuals_constraints(offspring)  # 限制每个类至少有一个实例被选择\n",
    "        pop = pop + offspring  # 种群的合并\n",
    "        pop, _ = toolbox.remove_duplicates(pop)  # 去重\n",
    "        while len(pop) < POPSIZE:  # 保证种群大小为POPSIZE\n",
    "            add_individual = []\n",
    "            num_add = POPSIZE - len(pop)\n",
    "            for i in range(0, num_add):\n",
    "                index = random.randint(0, len(offspring) - 1)  # 在0-len(offspring)范围内随机产生一个索引\n",
    "                offspring[index] = toolbox.mutate(offspring[index], MR)[0]  # 选择index对应的个体进行突变\n",
    "                del offspring[index].fitness.values\n",
    "                add_individual.append(offspring[index])\n",
    "            add_individual = toolbox.individuals_constraints(add_individual)  # 限制每个类至少有一个实例被选择\n",
    "            pop = pop + add_individual  # 种群的合并\n",
    "            pop, _ = toolbox.remove_duplicates(pop)  # 去重\n",
    "        pop = toolbox.individuals_constraints(pop)  # 限制每个类至少有5个实例被选择\n",
    "        toolbox.evaluate(pop)  # 计算新种群适应度\n",
    "        ###############################################得到pareto_fronts############################################\n",
    "        feasible_pop, infeasible_pop = toolbox.get_feasible_infeasible(pop)  # 得到可行解与不可行解\n",
    "        if len(feasible_pop) >= POPSIZE:\n",
    "            pop, pareto_fronts = toolbox.select(feasible_pop, POPSIZE)\n",
    "            # ensembles = pareto_fronts[0]  # pareto_first_front\n",
    "            ensembles = pop  # pop均为可行解，则集成pop中所有个体\n",
    "        elif len(feasible_pop) > 0:\n",
    "            pop = feasible_pop + infeasible_pop[:POPSIZE - len(feasible_pop)]  # 在不可行解中选取违约程度小的个体，保证pop数量为POPSIZE\n",
    "            # ensembles = tools.sortNondominated(feasible_pop, len(feasible_pop))[0]  # pareto_first_front\n",
    "            ensembles = feasible_pop  # 只集成可行解\n",
    "        else:\n",
    "            pop = feasible_pop + infeasible_pop[:POPSIZE - len(feasible_pop)]  # 加入不可行解中违约程度小的个体，保证pop数量为POPSIZE\n",
    "            ensembles = [infeasible_pop[0]]  # 没有可行解，集成不可行解中第一个个体\n",
    "        avg_gmean, avg_mauc = calculate_average_gmean_mauc(ensembles)  # 计算gmean、mauc的平均值\n",
    "        _, avg_acc2, _ = calculate_average_accuracy(ensembles)  # 计算acc1、acc2、acc3的平均值\n",
    "\n",
    "        record = stats.compile(pop)\n",
    "        logbook.record(gen=gen, feasible=len(feasible_pop), ensembles_size=len(ensembles), avg_gmean=avg_gmean,\n",
    "                       avg_mauc=avg_mauc, avg_acc2=avg_acc2, **record)\n",
    "        # print(logbook.stream)\n",
    "    ensemble_classifiers = ensemble_individuals(ensembles, model, x_train, y_train)\n",
    "    return ensemble_classifiers\n",
    "\n",
    "\n",
    "if __name__ == \"__main__\":\n",
    "    print(\"*****************算法开始执行：******************\")\n",
    "    num_run = 30  # 运行次数\n",
    "    ensembles_results = [[] for _ in range(num_run)]\n",
    "    for i in range(num_run):\n",
    "        ensemble_classifiers = main(x_train, y_train, model=model, balanced_method='balanced')\n",
    "        vote_pred_prob = vote_result_ensembles(ensemble_classifiers, x_test)  # 默认预测结果是软标签\n",
    "        vote_pred = np.argmax(vote_pred_prob, axis=1)\n",
    "        gmean, mauc, recall_per_class = calculate_gmean_mauc(vote_pred_prob, y_test)\n",
    "        acc1, acc2, acc3 = calculate_accuracy(vote_pred, y_test, weights_test)\n",
    "        ensembles_results[i] = [gmean, mauc, acc1, acc2, acc3, len(ensemble_classifiers)]\n",
    "        print(\n",
    "            f\"第{i + 1}次执行：Gmean：{gmean}，mAUC：{mauc}，Acc1：{acc1}，Acc2：{acc2}，Acc3：{acc3}，集成的数量：{len(ensemble_classifiers)}\")\n",
    "    print(\"*****************算法执行结束！******************\")\n",
    "    ensembles_result_mean = np.mean(ensembles_results, axis=0)\n",
    "    print(f'集成分类结果（平均值）：{ensembles_result_mean}')"
   ],
   "metadata": {
    "collapsed": false,
    "ExecuteTime": {
     "end_time": "2025-03-21T00:55:12.794171Z",
     "start_time": "2025-03-19T12:19:45.040888Z"
    }
   },
   "id": "ec2997db669640b6",
   "execution_count": 2
  },
  {
   "cell_type": "markdown",
   "source": [
    "## 写入到Excel "
   ],
   "metadata": {
    "collapsed": false
   },
   "id": "ed4dbb395903bfa7"
  },
  {
   "cell_type": "code",
   "outputs": [
    {
     "name": "stdout",
     "output_type": "stream",
     "text": [
      "Excel 文件已保存至: C:/Users/zsc/Desktop/MILE/USPS/USPS.xlsx\n"
     ]
    },
    {
     "data": {
      "text/plain": "'C:/Users/zsc/Desktop/MILE/USPS/USPS.xlsx'"
     },
     "execution_count": 3,
     "metadata": {},
     "output_type": "execute_result"
    }
   ],
   "source": [
    "from utils.excel_utils import save_to_excel_2\n",
    "\n",
    "columns = ['Gmean', 'MAUC', 'Acc1', 'Acc2', 'Acc3', 'num_ensemble']\n",
    "\n",
    "save_path = 'C:/Users/zsc/Desktop/MILE/' + datasetname + '/'\n",
    "filename = datasetname\n",
    "save_to_excel_2(save_path, filename, columns, ensembles_results)"
   ],
   "metadata": {
    "collapsed": false,
    "ExecuteTime": {
     "end_time": "2025-03-21T00:55:13.499923Z",
     "start_time": "2025-03-21T00:55:12.799763Z"
    }
   },
   "id": "520fa2429669bb3e",
   "execution_count": 3
  }
 ],
 "metadata": {
  "kernelspec": {
   "display_name": "Python 3",
   "language": "python",
   "name": "python3"
  },
  "language_info": {
   "codemirror_mode": {
    "name": "ipython",
    "version": 2
   },
   "file_extension": ".py",
   "mimetype": "text/x-python",
   "name": "python",
   "nbconvert_exporter": "python",
   "pygments_lexer": "ipython2",
   "version": "2.7.6"
  }
 },
 "nbformat": 4,
 "nbformat_minor": 5
}
