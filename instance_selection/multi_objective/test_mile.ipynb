{
 "cells": [
  {
   "cell_type": "markdown",
   "source": [
    "# E-SEIC\n",
    "Selection of evolutionary instances with constraints for unbalanced datasets"
   ],
   "metadata": {
    "collapsed": false
   },
   "id": "ea42cd71d488f349"
  },
  {
   "cell_type": "code",
   "source": [
    "from utils.dataset_utils import get_distribution, k_fold_cross_validation\n",
    "from instance_selection.parameter.parameter import *  # 导入参数的设定\n",
    "from instance_selection.operator.init_toolbox import init_toolbox_eseic\n",
    "from instance_selection.operator.metrics import calculate_gmean_mauc, calculate_average_accuracy, \\\n",
    "    calculate_average_gmean_mauc, calculate_accuracy\n",
    "from instance_selection.operator.genetic_operator import selTournamentNDCD\n",
    "from instance_selection.operator.ensemble import vote_result_ensembles, ensemble_individuals\n",
    "from sklearn.preprocessing import StandardScaler\n",
    "from sklearn.model_selection import train_test_split\n",
    "from sklearn.neural_network import MLPClassifier\n",
    "from sklearn.base import clone\n",
    "import scipy.io as sio  # 从.mat文件中读取数据集\n",
    "import random\n",
    "from deap import tools\n",
    "import warnings\n",
    "import numpy as np\n",
    "\n",
    "warnings.filterwarnings(\"ignore\")  # 忽略警告\n",
    "\n",
    "DATASET = Splice  # 数据集名称（包含对应的参数配置）\n",
    "\n",
    "datasetname = DATASET.DATASETNAME.split('.')[0]\n",
    "mat_data = sio.loadmat(IMBALANCED_DATASET_PATH + DATASET.DATASETNAME)  # 加载、划分数据集\n",
    "x = mat_data['X']\n",
    "y = mat_data['Y'][:, 0]  # mat_data['Y']得到的形状为[n,1]，通过[:,0]，得到形状[n,]\n",
    "x_train, x_test, y_train, y_test = train_test_split(x, y, test_size=0.3, stratify=y,\n",
    "                                                    random_state=RANDOM_SEED)  # 划分数据集\n",
    "scaler = StandardScaler()  # 数据的标准化\n",
    "x_train = scaler.fit_transform(x_train)\n",
    "x_test = scaler.transform(x_test)\n",
    "\n",
    "unique_elements_all, classes_all, counts_all = get_distribution(y)  # 获取原始数据集分布\n",
    "unique_elements_train, classes_train, counts_train = get_distribution(y_train)  # 获取训练集分布\n",
    "unique_elements_test, classes_test, counts_test = get_distribution(y_test)  # 获取测试集分布\n",
    "print(datasetname + f' distribution: {counts_all}')\n",
    "print(f'trainset distribution: {counts_train}')\n",
    "print(f'testset distribution: {counts_test}')\n",
    "\n",
    "model = MLPClassifier(hidden_layer_sizes=(DATASET.HIDDEN_SIZE,), max_iter=DATASET.MAX_ITER,\n",
    "                      random_state=RANDOM_SEED, learning_rate_init=DATASET.LEARNING_RATE)\n",
    "\n",
    "weights_train = (1 / counts_train.astype(float)) / np.sum(1 / counts_train.astype(float))  # 计算每个类的权重，用于计算每个类别的权重\n",
    "weights_test = (1 / counts_test.astype(float)) / np.sum(1 / counts_test.astype(float))  # 计算每个类的权重，用于计算每个类别的权重\n",
    "\n",
    "num_instances = int(np.ceil(counts_train.min() * 0.9))  # 取最小数量的类的0.9（向下取整）\n",
    "print(\"最小数量:\", num_instances)\n",
    "\n",
    "y_train_pred_proba = k_fold_cross_validation(model=clone(model), X=x_train, y=y_train, n_splits=N_SPLITS,\n",
    "                                             method='soft',\n",
    "                                             random_state=RANDOM_SEED)  # 交叉验证得到软标签\n",
    "# 将概率转化为预测结果\n",
    "y_train_pred = np.argmax(y_train_pred_proba, axis=1)\n",
    "\n",
    "Acc1, Acc2, Acc3 = calculate_accuracy(y_train_pred, y_train, weights_train)\n",
    "constraints = [Acc1, Acc2, Acc3]"
   ],
   "metadata": {
    "collapsed": false,
    "ExecuteTime": {
     "end_time": "2025-04-24T10:13:15.448506Z",
     "start_time": "2025-04-24T10:13:11.600833Z"
    }
   },
   "id": "cfea17902425a78f",
   "outputs": [
    {
     "name": "stdout",
     "output_type": "stream",
     "text": [
      "Splice distribution: [ 767  768 1655]\n",
      "trainset distribution: [ 537  538 1158]\n",
      "testset distribution: [230 230 497]\n",
      "最小数量: 484\n"
     ]
    }
   ],
   "execution_count": 1
  },
  {
   "cell_type": "markdown",
   "source": [
    "## E-SEIC"
   ],
   "metadata": {
    "collapsed": false
   },
   "id": "b1848de64743684e"
  },
  {
   "cell_type": "code",
   "source": [
    "toolbox = init_toolbox_eseic(model, x_train, y_train, weights_train, constraints, n_splits=N_SPLITS,\n",
    "                             random_seed=RANDOM_SEED)  # 初始化toolbox\n",
    "\n",
    "\n",
    "def main(x_train, y_train, model, balanced_method='balanced'):\n",
    "    stats = tools.Statistics(lambda ind: ind.fitness.values)\n",
    "    logbook = tools.Logbook()\n",
    "    logbook.header = \"gen\", \"feasible\", \"ensembles_size\", \"avg_gmean\", \"avg_mauc\", \"avg_acc2\"\n",
    "    ####################################种群的初始化###########################\n",
    "    pop = toolbox.population(n=POPSIZE)  # 个体编码默认全为0\n",
    "    pop = toolbox.init_population(pop, balanced_method=balanced_method)  # 初始化种群中的个体\n",
    "    toolbox.evaluate(pop)  # 计算个体的适应度\n",
    "    ####################################种群的迭代#################################################\n",
    "    for gen in range(1, NGEN + 1):\n",
    "        offspring = selTournamentNDCD(pop, POPSIZE, tournsize=3)  # 锦标赛选择（1、先根据非支配排序的等级2、再根据拥挤距离）\n",
    "        offspring = [toolbox.clone(ind) for ind in offspring]\n",
    "        for i in range(0, len(offspring) - 1, 2):\n",
    "            if random.random() <= CXPB:\n",
    "                offspring[i], offspring[i + 1] = toolbox.mate(offspring[i], offspring[i + 1])  # 单点交叉\n",
    "            offspring[i] = toolbox.mutate(offspring[i], MR)[0]  # 二进制反转突变\n",
    "            offspring[i + 1] = toolbox.mutate(offspring[i + 1], MR)[0]  # 二进制反转突变\n",
    "            del offspring[i].fitness.values, offspring[i + 1].fitness.values\n",
    "        #############################################################合并、去重#####################################################\n",
    "        offspring = toolbox.individuals_constraints(offspring)  # 限制每个类至少有一个实例被选择\n",
    "        pop = pop + offspring  # 种群的合并\n",
    "        pop, _ = toolbox.remove_duplicates(pop)  # 去重\n",
    "        while len(pop) < POPSIZE:  # 保证种群大小为POPSIZE\n",
    "            add_individual = []\n",
    "            num_add = POPSIZE - len(pop)\n",
    "            for i in range(0, num_add):\n",
    "                index = random.randint(0, len(offspring) - 1)  # 在0-len(offspring)范围内随机产生一个索引\n",
    "                offspring[index] = toolbox.mutate(offspring[index], MR)[0]  # 选择index对应的个体进行突变\n",
    "                del offspring[index].fitness.values\n",
    "                add_individual.append(offspring[index])\n",
    "            add_individual = toolbox.individuals_constraints(add_individual)  # 限制每个类至少有一个实例被选择\n",
    "            pop = pop + add_individual  # 种群的合并\n",
    "            pop, _ = toolbox.remove_duplicates(pop)  # 去重\n",
    "        pop = toolbox.individuals_constraints(pop)  # 限制每个类至少有5个实例被选择\n",
    "        toolbox.evaluate(pop)  # 计算新种群适应度\n",
    "        ###############################################得到pareto_fronts############################################\n",
    "        feasible_pop, infeasible_pop = toolbox.get_feasible_infeasible(pop)  # 得到可行解与不可行解\n",
    "        if len(feasible_pop) >= POPSIZE:\n",
    "            pop, pareto_fronts = toolbox.select(feasible_pop, POPSIZE)\n",
    "            # ensembles = pareto_fronts[0]  # pareto_first_front\n",
    "            ensembles = pop  # pop均为可行解，则集成pop中所有个体\n",
    "        elif len(feasible_pop) > 0:\n",
    "            pop = feasible_pop + infeasible_pop[:POPSIZE - len(feasible_pop)]  # 在不可行解中选取违约程度小的个体，保证pop数量为POPSIZE\n",
    "            # ensembles = tools.sortNondominated(feasible_pop, len(feasible_pop))[0]  # pareto_first_front\n",
    "            ensembles = feasible_pop  # 只集成可行解\n",
    "            # ensembles = pop  # 集成种群\n",
    "        else:\n",
    "            pop = feasible_pop + infeasible_pop[:POPSIZE - len(feasible_pop)]  # 加入不可行解中违约程度小的个体，保证pop数量为POPSIZE\n",
    "            ensembles = [infeasible_pop[0]]  # 没有可行解，集成不可行解中第一个个体\n",
    "            # ensembles = pop  # 集成种群\n",
    "        avg_gmean, avg_mauc = calculate_average_gmean_mauc(ensembles)  # 计算gmean、mauc的平均值\n",
    "        _, avg_acc2, _ = calculate_average_accuracy(ensembles)  # 计算acc1、acc2、acc3的平均值\n",
    "\n",
    "        record = stats.compile(pop)\n",
    "        logbook.record(gen=gen, feasible=len(feasible_pop), ensembles_size=len(ensembles), avg_gmean=avg_gmean,\n",
    "                       avg_mauc=avg_mauc, avg_acc2=avg_acc2, **record)\n",
    "        # print(logbook.stream)\n",
    "    ensemble_classifiers = ensemble_individuals(ensembles, model, x_train, y_train)\n",
    "    return ensemble_classifiers\n",
    "\n",
    "\n",
    "if __name__ == \"__main__\":\n",
    "    print(\"*****************算法开始执行：******************\")\n",
    "    num_run = 40  # 运行次数\n",
    "    ensembles_results = [[] for _ in range(num_run)]\n",
    "    for i in range(num_run):\n",
    "        ensemble_classifiers = main(x_train, y_train, model=model, balanced_method='random')\n",
    "        vote_pred_prob = vote_result_ensembles(ensemble_classifiers, x_test)  # 默认预测结果是软标签\n",
    "        vote_pred = np.argmax(vote_pred_prob, axis=1)\n",
    "        gmean, mauc, recall_per_class = calculate_gmean_mauc(vote_pred_prob, y_test)\n",
    "        acc1, acc2, acc3 = calculate_accuracy(vote_pred, y_test, weights_test)\n",
    "        ensembles_results[i] = [gmean, mauc, acc1, acc2, acc3, len(ensemble_classifiers)]\n",
    "        print(\n",
    "            f\"第{i + 1}次执行：Gmean：{gmean}，mAUC：{mauc}，Acc1：{acc1}，Acc2：{acc2}，Acc3：{acc3}，集成的数量：{len(ensemble_classifiers)}\")\n",
    "    print(\"*****************算法执行结束！******************\")\n",
    "    ensembles_result_mean = np.mean(ensembles_results, axis=0)\n",
    "    print(f'集成分类结果（平均值）：{ensembles_result_mean}')"
   ],
   "metadata": {
    "collapsed": false,
    "ExecuteTime": {
     "end_time": "2025-04-24T15:57:50.348181Z",
     "start_time": "2025-04-24T10:13:15.448506Z"
    }
   },
   "id": "ec2997db669640b6",
   "outputs": [
    {
     "name": "stdout",
     "output_type": "stream",
     "text": [
      "*****************算法开始执行：******************\n",
      "第1次执行：Gmean：0.865777，mAUC：0.966761，Acc1：0.876698，Acc2：0.866358，Acc3：0.286091，集成的数量：30\n",
      "第2次执行：Gmean：0.868908，mAUC：0.968635，Acc1：0.875653，Acc2：0.86958，Acc3：0.288277，集成的数量：30\n",
      "第3次执行：Gmean：0.869989，mAUC：0.966228，Acc1：0.874608，Acc2：0.870466，Acc3：0.289076，集成的数量：30\n",
      "第4次执行：Gmean：0.868699，mAUC：0.967854，Acc1：0.874608，Acc2：0.868909，Acc3：0.288151，集成的数量：30\n",
      "第5次执行：Gmean：0.858293，mAUC：0.966266，Acc1：0.868339，Acc2：0.858656，Acc3：0.283695，集成的数量：30\n",
      "第6次执行：Gmean：0.871448，mAUC：0.966774，Acc1：0.877743，Acc2：0.8717，Acc3：0.288992，集成的数量：30\n",
      "第7次执行：Gmean：0.859092，mAUC：0.966188，Acc1：0.867294，Acc2：0.859543，Acc3：0.284494，集成的数量：30\n",
      "第8次执行：Gmean：0.857224，mAUC：0.968697，Acc1：0.869383，Acc2：0.85777，Acc3：0.282897，集成的数量：30\n",
      "第9次执行：Gmean：0.866714，mAUC：0.968958，Acc1：0.875653，Acc2：0.867244，Acc3：0.28689，集成的数量：30\n",
      "第10次执行：Gmean：0.85953，mAUC：0.964374，Acc1：0.867294，Acc2：0.860321，Acc3：0.284957，集成的数量：30\n",
      "第11次执行：Gmean：0.867782，mAUC：0.967027，Acc1：0.876698，Acc2：0.868693，Acc3：0.287478，集成的数量：30\n",
      "第12次执行：Gmean：0.849614，mAUC：0.965625，Acc1：0.863114，Acc2：0.850631，Acc3：0.280291，集成的数量：30\n",
      "第13次执行：Gmean：0.866738，mAUC：0.968078，Acc1：0.874608，Acc2：0.867352，Acc3：0.287226，集成的数量：30\n",
      "第14次执行：Gmean：0.875182，mAUC：0.968166，Acc1：0.878788，Acc2：0.875485，Acc3：0.290967，集成的数量：30\n",
      "第15次执行：Gmean：0.863463，mAUC：0.967097，Acc1：0.870428，Acc2：0.863891，Acc3：0.28626，集成的数量：30\n",
      "第16次执行：Gmean：0.855911，mAUC：0.965441，Acc1：0.866249，Acc2：0.856536，Acc3：0.282981，集成的数量：30\n",
      "第17次执行：Gmean：0.861873，mAUC：0.967781，Acc1：0.866249，Acc2：0.861986，Acc3：0.286218，集成的数量：30\n",
      "第18次执行：Gmean：0.858351，mAUC：0.96623，Acc1：0.866249，Acc2：0.858872，Acc3：0.284368，集成的数量：30\n",
      "第19次执行：Gmean：0.862263，mAUC：0.966401，Acc1：0.867294，Acc2：0.862657，Acc3：0.286344，集成的数量：30\n",
      "第20次执行：Gmean：0.866064，mAUC：0.967948，Acc1：0.875653，Acc2：0.866465，Acc3：0.286427，集成的数量：30\n",
      "第21次执行：Gmean：0.851728，mAUC：0.965411，Acc1：0.863114，Acc2：0.852188，Acc3：0.281215，集成的数量：30\n",
      "第22次执行：Gmean：0.862263，mAUC：0.965734，Acc1：0.867294，Acc2：0.862657，Acc3：0.286344，集成的数量：30\n",
      "第23次执行：Gmean：0.871299，mAUC：0.966376，Acc1：0.877743，Acc2：0.8717，Acc3：0.288992，集成的数量：30\n",
      "第24次执行：Gmean：0.874578，mAUC：0.968212，Acc1：0.881923，Acc2：0.875161，Acc3：0.289958，集成的数量：30\n",
      "第25次执行：Gmean：0.864265，mAUC：0.968058，Acc1：0.871473，Acc2：0.864561，Acc3：0.286386，集成的数量：30\n",
      "第26次执行：Gmean：0.868562，mAUC：0.965932，Acc1：0.875653，Acc2：0.868801，Acc3：0.287815，集成的数量：30\n",
      "第27次执行：Gmean：0.867717，mAUC：0.966477，Acc1：0.873563，Acc2：0.868238，Acc3：0.288025，集成的数量：30\n",
      "第28次执行：Gmean：0.863703，mAUC：0.965759，Acc1：0.870428，Acc2：0.863891，Acc3：0.28626，集成的数量：30\n",
      "第29次执行：Gmean：0.862892，mAUC：0.968628，Acc1：0.869383，Acc2：0.86322，Acc3：0.286134，集成的数量：30\n",
      "第30次执行：Gmean：0.867583，mAUC：0.967247，Acc1：0.875653，Acc2：0.868023，Acc3：0.287352，集成的数量：30\n",
      "第31次执行：Gmean：0.863973，mAUC：0.966146，Acc1：0.868339，Acc2：0.864106，Acc3：0.286932，集成的数量：30\n",
      "第32次执行：Gmean：0.868361，mAUC：0.967132，Acc1：0.875653，Acc2：0.868801，Acc3：0.287815，集成的数量：30\n",
      "第33次执行：Gmean：0.8716，mAUC：0.967844，Acc1：0.881923，Acc2：0.872047，Acc3：0.288108，集成的数量：30\n",
      "第34次执行：Gmean：0.866376，mAUC：0.967915，Acc1：0.876698，Acc2：0.867136，Acc3：0.286553，集成的数量：30\n",
      "第35次执行：Gmean：0.867429，mAUC：0.96801，Acc1：0.877743，Acc2：0.867807，Acc3：0.286679，集成的数量：30\n",
      "第36次执行：Gmean：0.863666，mAUC：0.967137，Acc1：0.869383，Acc2：0.863998，Acc3：0.286596，集成的数量：30\n",
      "第37次执行：Gmean：0.868016，mAUC：0.965698，Acc1：0.872518，Acc2：0.868346，Acc3：0.288361，集成的数量：30\n",
      "第38次执行：Gmean：0.862551，mAUC：0.967514，Acc1：0.871473，Acc2：0.863004，Acc3：0.285461，集成的数量：30\n",
      "第39次执行：Gmean：0.865351，mAUC：0.967894，Acc1：0.876698，Acc2：0.866358，Acc3：0.286091，集成的数量：30\n",
      "第40次执行：Gmean：0.862619，mAUC：0.966441，Acc1：0.871473，Acc2：0.863004，Acc3：0.285461，集成的数量：30\n",
      "*****************算法执行结束！******************\n",
      "集成分类结果（平均值）：[ 0.86468618  0.96700235  0.87251828  0.86515405  0.28646545 30.        ]\n"
     ]
    }
   ],
   "execution_count": 2
  },
  {
   "cell_type": "markdown",
   "source": [
    "## 写入到Excel "
   ],
   "metadata": {
    "collapsed": false
   },
   "id": "ed4dbb395903bfa7"
  },
  {
   "cell_type": "code",
   "source": [
    "from utils.excel_utils import save_to_excel_2\n",
    "\n",
    "columns = ['Gmean', 'MAUC', 'Acc1', 'Acc2', 'Acc3', 'num_ensemble']\n",
    "\n",
    "save_path = 'C:/Users/zsc/Desktop/' + datasetname + '/'\n",
    "filename = datasetname\n",
    "save_to_excel_2(save_path, filename, columns, ensembles_results)"
   ],
   "metadata": {
    "collapsed": false,
    "ExecuteTime": {
     "end_time": "2025-04-24T15:57:50.649456Z",
     "start_time": "2025-04-24T15:57:50.350793Z"
    }
   },
   "id": "520fa2429669bb3e",
   "outputs": [
    {
     "name": "stdout",
     "output_type": "stream",
     "text": [
      "Excel 文件已保存至: C:/Users/zsc/Desktop/Splice/Splice.xlsx\n"
     ]
    },
    {
     "data": {
      "text/plain": [
       "'C:/Users/zsc/Desktop/Splice/Splice.xlsx'"
      ]
     },
     "execution_count": 3,
     "metadata": {},
     "output_type": "execute_result"
    }
   ],
   "execution_count": 3
  }
 ],
 "metadata": {
  "kernelspec": {
   "display_name": "Python 3",
   "language": "python",
   "name": "python3"
  },
  "language_info": {
   "codemirror_mode": {
    "name": "ipython",
    "version": 2
   },
   "file_extension": ".py",
   "mimetype": "text/x-python",
   "name": "python",
   "nbconvert_exporter": "python",
   "pygments_lexer": "ipython2",
   "version": "2.7.6"
  }
 },
 "nbformat": 4,
 "nbformat_minor": 5
}
