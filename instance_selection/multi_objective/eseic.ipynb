{
 "cells": [
  {
   "cell_type": "markdown",
   "source": [
    "# E-SEIC\n",
    "Selection of evolutionary instances with constraints for unbalanced datasets"
   ],
   "metadata": {
    "collapsed": false
   },
   "id": "32b99fefdecdec4c"
  },
  {
   "cell_type": "markdown",
   "source": [
    "## 数据集的预处理 "
   ],
   "metadata": {
    "collapsed": false
   },
   "id": "a36fc2d4930535ec"
  },
  {
   "cell_type": "code",
   "outputs": [
    {
     "name": "stdout",
     "output_type": "stream",
     "text": [
      "Satellite distribution: [1533  703 1358  626  707 1508]\n",
      "trainset distribution: [1237  566 1078  496  568 1203]\n",
      "testset distribution: [296 137 280 130 139 305]\n",
      "最小数量: 447\n",
      "(0.845994, 0.978635, array([0.96283784, 0.97080292, 0.82142857, 0.62307692, 0.89208633,\n",
      "       0.85901639]))\n"
     ]
    }
   ],
   "source": [
    "from utils.dataset_utils import get_distribution, k_fold_cross_validation\n",
    "from instance_selection.parameter.parameter import *  # 导入参数的设定\n",
    "from instance_selection.operator.init_toolbox import init_toolbox_eseic\n",
    "from instance_selection.operator.metrics import calculate_gmean_mauc, calculate_average_accuracy, \\\n",
    "    calculate_average_gmean_mauc, calculate_accuracy\n",
    "from instance_selection.operator.genetic_operator import selTournamentNDCD\n",
    "from instance_selection.operator.ensemble import vote_result_ensembles, ensemble_individuals\n",
    "from sklearn.preprocessing import StandardScaler\n",
    "from sklearn.model_selection import train_test_split\n",
    "from sklearn.neural_network import MLPClassifier\n",
    "from sklearn.base import clone\n",
    "import scipy.io as sio  # 从.mat文件中读取数据集\n",
    "import random\n",
    "from deap import tools\n",
    "import warnings\n",
    "import numpy as np\n",
    "\n",
    "warnings.filterwarnings(\"ignore\")  # 忽略警告\n",
    "\n",
    "DATASET = Satellite  # 数据集名称（包含对应参数的字典形式）\n",
    "datasetname = DATASET['DATASETNAME'].split('.')[0]\n",
    "mat_data = sio.loadmat('../../data/dataset/' + DATASET['DATASETNAME'])  # 加载、划分数据集\n",
    "x = mat_data['X']\n",
    "y = mat_data['Y'][:, 0]  # mat_data['Y']得到的形状为[n,1]，通过[:,0]，得到形状[n,]\n",
    "x_train, x_test, y_train, y_test = train_test_split(x, y, test_size=0.2, random_state=RANDOM_SEED)  # 划分数据集\n",
    "scaler = StandardScaler()  # 数据的标准化\n",
    "x_train = scaler.fit_transform(x_train)\n",
    "x_test = scaler.transform(x_test)\n",
    "\n",
    "unique_elements_all, classes_all, counts_all = get_distribution(y)  # 获取原始数据集分布\n",
    "unique_elements_train, classes_train, counts_train = get_distribution(y_train)  # 获取训练集分布\n",
    "unique_elements_test, classes_test, counts_test = get_distribution(y_test)  # 获取测试集分布\n",
    "print(datasetname + f' distribution: {counts_all}')\n",
    "print(f'trainset distribution: {counts_train}')\n",
    "print(f'testset distribution: {counts_test}')\n",
    "\n",
    "model = MLPClassifier(hidden_layer_sizes=(DATASET['HIDDEN_SIZE'],), max_iter=DATASET['MAX_ITER'],\n",
    "                      random_state=RANDOM_SEED, learning_rate_init=DATASET['LEARNING_RATE'])\n",
    "\n",
    "weights_train = (1 / counts_train.astype(float)) / np.sum(1 / counts_train.astype(float))  # 计算每个类的权重，用于计算每个类别的权重\n",
    "weights_test = (1 / counts_test.astype(float)) / np.sum(1 / counts_test.astype(float))  # 计算每个类的权重，用于计算每个类别的权重\n",
    "\n",
    "num_instances = int(np.ceil(counts_train.min() * 0.9))  # 取最小数量的类的0.9（向下取整）\n",
    "print(\"最小数量:\", num_instances)\n",
    "\n",
    "y_train_pred_proba = k_fold_cross_validation(model=clone(model), X=x_train, y=y_train, n_splits=N_SPLITS, method='soft',\n",
    "                                             random_state=RANDOM_SEED)  # 交叉验证得到软标签\n",
    "# 将概率转化为预测结果\n",
    "y_train_pred = np.argmax(y_train_pred_proba, axis=1)\n",
    "\n",
    "Acc1, Acc2, Acc3 = calculate_accuracy(y_train_pred, y_train, weights_train)\n",
    "constraints = [Acc1, Acc2, Acc3]\n",
    "\n",
    "model.fit(x_train, y_train)\n",
    "y_test_pred_proba= model.predict_proba(x_test)\n",
    "print(calculate_gmean_mauc(y_test_pred_proba, y_test))"
   ],
   "metadata": {
    "collapsed": false,
    "ExecuteTime": {
     "end_time": "2025-01-05T14:31:39.726078Z",
     "start_time": "2025-01-05T14:31:38.638930Z"
    }
   },
   "id": "abb6e4d62d32f110",
   "execution_count": 3
  },
  {
   "cell_type": "markdown",
   "source": [
    "## E-SEIC"
   ],
   "metadata": {
    "collapsed": false
   },
   "id": "3bb11017ee1ef86"
  },
  {
   "cell_type": "code",
   "outputs": [],
   "source": [
    "toolbox = init_toolbox_eseic(model, x_train, y_train, weights_train, constraints, n_splits=N_SPLITS,\n",
    "                             random_seed=RANDOM_SEED)  # 初始化toolbox\n",
    "\n",
    "\n",
    "def main(x_train, y_train, model, balanced_method='balanced'):\n",
    "    stats = tools.Statistics(lambda ind: ind.fitness.values)\n",
    "    logbook = tools.Logbook()\n",
    "    logbook.header = \"gen\", \"feasible\", \"ensembles_size\", \"avg_gmean\", \"avg_mauc\", \"avg_acc2\"\n",
    "    ####################################种群的初始化###########################\n",
    "    pop = toolbox.population(n=POPSIZE)  # 个体编码默认全为0\n",
    "    pop = toolbox.init_population(pop, balanced_method=balanced_method)  # 初始化种群中的个体\n",
    "    toolbox.evaluate(pop)  # 计算个体的适应度\n",
    "    ####################################种群的迭代#################################################\n",
    "    for gen in range(1, NGEN + 1):\n",
    "        offspring = selTournamentNDCD(pop, POPSIZE, tournsize=3)  # 锦标赛选择（1、先根据非支配排序的等级2、再根据拥挤距离）\n",
    "        offspring = [toolbox.clone(ind) for ind in offspring]\n",
    "        for i in range(0, len(offspring) - 1, 2):\n",
    "            if random.random() <= CXPB:\n",
    "                offspring[i], offspring[i + 1] = toolbox.mate(offspring[i], offspring[i + 1])  # 单点交叉\n",
    "            offspring[i] = toolbox.mutate(offspring[i], MR)[0]  # 二进制反转突变\n",
    "            offspring[i + 1] = toolbox.mutate(offspring[i + 1], MR)[0]  # 二进制反转突变\n",
    "            del offspring[i].fitness.values, offspring[i + 1].fitness.values\n",
    "        #############################################################合并、去重#####################################################\n",
    "        pop = pop + offspring  # 种群的合并\n",
    "        pop, _ = toolbox.remove_duplicates(pop)  # 去重\n",
    "        while len(pop) < POPSIZE:  # 保证种群大小为POPSIZE\n",
    "            add_individual = []\n",
    "            num_add = POPSIZE - len(pop)\n",
    "            for i in range(0, num_add):\n",
    "                index = random.randint(0, len(offspring) - 1)  # 在0-len(offspring)范围内随机产生一个索引\n",
    "                offspring[index] = toolbox.mutate(offspring[index], MR)[0]  # 选择index对应的个体进行突变\n",
    "                del offspring[index].fitness.values\n",
    "                add_individual.append(offspring[index])\n",
    "            pop = pop + add_individual  # 种群的合并\n",
    "            pop, _ = toolbox.remove_duplicates(pop)  # 去重\n",
    "        toolbox.evaluate(pop)  # 计算新种群适应度\n",
    "        ###############################################得到pareto_fronts############################################\n",
    "        feasible_pop, infeasible_pop = toolbox.get_feasible_infeasible(pop)  # 得到可行解与不可行解\n",
    "        if len(feasible_pop) >= POPSIZE:\n",
    "            pop, pareto_fronts = toolbox.select(feasible_pop, POPSIZE)\n",
    "            # ensembles = pareto_fronts[0]  # pareto_first_front\n",
    "            ensembles = pop  # pop均为可行解，则集成pop中所有个体\n",
    "        elif len(feasible_pop) > 0:\n",
    "            pop = feasible_pop + infeasible_pop[:POPSIZE - len(feasible_pop)]  # 在不可行解中选取违约程度小的个体，保证pop数量为POPSIZE\n",
    "            # ensembles = tools.sortNondominated(feasible_pop, len(feasible_pop))[0]  # pareto_first_front\n",
    "            ensembles = feasible_pop  # 只集成可行解\n",
    "        else:\n",
    "            pop = feasible_pop + infeasible_pop[:POPSIZE - len(feasible_pop)]  # 加入不可行解中违约程度小的个体，保证pop数量为POPSIZE\n",
    "            ensembles = [infeasible_pop[0]]  # 没有可行解，集成不可行解中第一个个体\n",
    "        avg_gmean, avg_mauc = calculate_average_gmean_mauc(ensembles)  # 计算gmean、mauc的平均值\n",
    "        _, avg_acc2, _ = calculate_average_accuracy(ensembles)  # 计算acc1、acc2、acc3的平均值\n",
    "\n",
    "        record = stats.compile(pop)\n",
    "        logbook.record(gen=gen, feasible=len(feasible_pop), ensembles_size=len(ensembles), avg_gmean=avg_gmean,\n",
    "                       avg_mauc=avg_mauc, avg_acc2=avg_acc2, **record)\n",
    "        print(logbook.stream)\n",
    "    ensemble_classifiers = ensemble_individuals(ensembles, clone(model), x_train, y_train)\n",
    "    return ensemble_classifiers"
   ],
   "metadata": {
    "collapsed": false,
    "ExecuteTime": {
     "end_time": "2025-01-04T13:57:12.370465Z",
     "start_time": "2025-01-04T13:57:12.356116Z"
    }
   },
   "id": "27f76c56ed1e7071",
   "execution_count": 2
  },
  {
   "cell_type": "code",
   "outputs": [
    {
     "name": "stdout",
     "output_type": "stream",
     "text": [
      "gen\tfeasible\tensembles_size\tavg_gmean\tavg_mauc\tavg_acc2\n",
      "1  \t3       \t2             \t0.524399 \t0.706708\t0.531072\n",
      "2  \t5       \t2             \t0.52626  \t0.712846\t0.532911\n",
      "3  \t7       \t2             \t0.52626  \t0.712846\t0.532911\n",
      "4  \t12      \t3             \t0.533506 \t0.715837\t0.538401\n",
      "5  \t15      \t5             \t0.528194 \t0.712037\t0.535094\n",
      "6  \t20      \t6             \t0.529644 \t0.712217\t0.535992\n",
      "7  \t25      \t6             \t0.529644 \t0.712217\t0.535992\n",
      "8  \t30      \t6             \t0.529644 \t0.712217\t0.535992\n",
      "9  \t35      \t1             \t0.567861 \t0.72324 \t0.569111\n",
      "10 \t40      \t1             \t0.567861 \t0.72324 \t0.569111\n",
      "11 \t51      \t1             \t0.567861 \t0.72324 \t0.569111\n",
      "12 \t48      \t1             \t0.567861 \t0.72324 \t0.569111\n",
      "13 \t47      \t1             \t0.567861 \t0.72324 \t0.569111\n",
      "14 \t53      \t1             \t0.567861 \t0.72324 \t0.569111\n",
      "15 \t49      \t1             \t0.567861 \t0.72324 \t0.569111\n",
      "16 \t51      \t1             \t0.581559 \t0.741552\t0.583183\n",
      "17 \t53      \t1             \t0.581559 \t0.741552\t0.583183\n",
      "18 \t48      \t1             \t0.581559 \t0.741552\t0.583183\n",
      "19 \t55      \t1             \t0.581559 \t0.741552\t0.583183\n",
      "20 \t49      \t1             \t0.581559 \t0.741552\t0.583183\n",
      "21 \t51      \t1             \t0.581559 \t0.741552\t0.583183\n",
      "22 \t53      \t1             \t0.581559 \t0.741552\t0.583183\n",
      "23 \t53      \t1             \t0.581559 \t0.741552\t0.583183\n",
      "24 \t57      \t1             \t0.581559 \t0.741552\t0.583183\n",
      "25 \t56      \t1             \t0.581559 \t0.741552\t0.583183\n",
      "26 \t52      \t1             \t0.581559 \t0.741552\t0.583183\n",
      "27 \t57      \t1             \t0.581559 \t0.741552\t0.583183\n",
      "28 \t50      \t1             \t0.581559 \t0.741552\t0.583183\n",
      "29 \t52      \t1             \t0.581559 \t0.741552\t0.583183\n",
      "30 \t56      \t1             \t0.581559 \t0.741552\t0.583183\n",
      "##############################集成分类器的预测结果：################################\n",
      "集成分类结果：Recall[0.6        0.46478873 0.55319149]，Gmean：0.536324，mAUC：0.711789，Acc1：0.552542，Acc2：0.539327，Acc3：0.175296\n",
      "训练已结束！\n"
     ]
    }
   ],
   "source": [
    "if __name__ == \"__main__\":\n",
    "    ensemble_classifiers = main(x_train, y_train, model=model, balanced_method='random')\n",
    "    print(\"##############################集成分类器的预测结果：################################\")\n",
    "    vote_pred_prob = vote_result_ensembles(ensemble_classifiers, x_test)  # 默认预测结果是软标签\n",
    "    vote_pred = np.argmax(vote_pred_prob, axis=1)\n",
    "    gmean, mauc, recall_per_class = calculate_gmean_mauc(vote_pred_prob, y_test)\n",
    "    acc1, acc2, acc3 = calculate_accuracy(vote_pred, y_test, weights_test)\n",
    "    print(f\"集成分类结果：Recall{recall_per_class}，Gmean：{gmean}，mAUC：{mauc}，Acc1：{acc1}，Acc2：{acc2}，Acc3：{acc3}\")\n",
    "    print(\"训练已结束！\")"
   ],
   "metadata": {
    "collapsed": false,
    "ExecuteTime": {
     "end_time": "2025-01-04T14:04:50.111064Z",
     "start_time": "2025-01-04T13:57:12.371064Z"
    }
   },
   "id": "e8deac9b0ca9c40b",
   "execution_count": 3
  }
 ],
 "metadata": {
  "kernelspec": {
   "display_name": "Python 3",
   "language": "python",
   "name": "python3"
  },
  "language_info": {
   "codemirror_mode": {
    "name": "ipython",
    "version": 2
   },
   "file_extension": ".py",
   "mimetype": "text/x-python",
   "name": "python",
   "nbconvert_exporter": "python",
   "pygments_lexer": "ipython2",
   "version": "2.7.6"
  }
 },
 "nbformat": 4,
 "nbformat_minor": 5
}
