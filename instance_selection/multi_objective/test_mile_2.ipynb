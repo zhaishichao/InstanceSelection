{
 "cells": [
  {
   "cell_type": "markdown",
   "source": [
    "# E-SEIC\n",
    "Selection of evolutionary instances with constraints for unbalanced datasets"
   ],
   "metadata": {
    "collapsed": false
   },
   "id": "ea42cd71d488f349"
  },
  {
   "cell_type": "code",
   "source": [
    "from utils.dataset_utils import get_distribution, k_fold_cross_validation\n",
    "from instance_selection.parameter.parameter import *  # 导入参数的设定\n",
    "from instance_selection.operator.init_toolbox import init_toolbox_eseic\n",
    "from instance_selection.operator.metrics import calculate_gmean_mauc, calculate_average_accuracy, \\\n",
    "    calculate_average_gmean_mauc, calculate_accuracy\n",
    "from instance_selection.operator.genetic_operator import selTournamentNDCD\n",
    "from instance_selection.operator.ensemble import vote_result_ensembles, ensemble_individuals\n",
    "from sklearn.preprocessing import StandardScaler\n",
    "from sklearn.model_selection import train_test_split\n",
    "from sklearn.neural_network import MLPClassifier\n",
    "from sklearn.base import clone\n",
    "import scipy.io as sio  # 从.mat文件中读取数据集\n",
    "import random\n",
    "from deap import tools\n",
    "import warnings\n",
    "import numpy as np\n",
    "\n",
    "warnings.filterwarnings(\"ignore\")  # 忽略警告\n",
    "\n",
    "DATASET = Contraceptive  # 数据集名称（包含对应的参数配置）\n",
    "\n",
    "datasetname = DATASET.DATASETNAME.split('.')[0]\n",
    "mat_data = sio.loadmat(IMBALANCED_DATASET_PATH + DATASET.DATASETNAME)  # 加载、划分数据集\n",
    "x = mat_data['X']\n",
    "y = mat_data['Y'][:, 0]  # mat_data['Y']得到的形状为[n,1]，通过[:,0]，得到形状[n,]\n",
    "x_train, x_test, y_train, y_test = train_test_split(x, y, test_size=0.3, stratify=y,\n",
    "                                                    random_state=RANDOM_SEED)  # 划分数据集\n",
    "scaler = StandardScaler()  # 数据的标准化\n",
    "x_train = scaler.fit_transform(x_train)\n",
    "x_test = scaler.transform(x_test)\n",
    "\n",
    "unique_elements_all, classes_all, counts_all = get_distribution(y)  # 获取原始数据集分布\n",
    "unique_elements_train, classes_train, counts_train = get_distribution(y_train)  # 获取训练集分布\n",
    "unique_elements_test, classes_test, counts_test = get_distribution(y_test)  # 获取测试集分布\n",
    "print(datasetname + f' distribution: {counts_all}')\n",
    "print(f'trainset distribution: {counts_train}')\n",
    "print(f'testset distribution: {counts_test}')\n",
    "\n",
    "model = MLPClassifier(hidden_layer_sizes=(DATASET.HIDDEN_SIZE,), max_iter=DATASET.MAX_ITER,\n",
    "                      random_state=RANDOM_SEED, learning_rate_init=DATASET.LEARNING_RATE)\n",
    "\n",
    "weights_train = (1 / counts_train.astype(float)) / np.sum(1 / counts_train.astype(float))  # 计算每个类的权重，用于计算每个类别的权重\n",
    "weights_test = (1 / counts_test.astype(float)) / np.sum(1 / counts_test.astype(float))  # 计算每个类的权重，用于计算每个类别的权重\n",
    "\n",
    "num_instances = int(np.ceil(counts_train.min() * 0.9))  # 取最小数量的类的0.9（向下取整）\n",
    "print(\"最小数量:\", num_instances)\n",
    "\n",
    "y_train_pred_proba = k_fold_cross_validation(model=clone(model), X=x_train, y=y_train, n_splits=N_SPLITS - 2,\n",
    "                                             method='soft',\n",
    "                                             random_state=RANDOM_SEED)  # 交叉验证得到软标签\n",
    "# 将概率转化为预测结果\n",
    "y_train_pred = np.argmax(y_train_pred_proba, axis=1)\n",
    "\n",
    "Acc1, Acc2, Acc3 = calculate_accuracy(y_train_pred, y_train, weights_train)\n",
    "constraints = [Acc1, Acc2, Acc3]"
   ],
   "metadata": {
    "collapsed": false,
    "ExecuteTime": {
     "end_time": "2025-04-05T12:10:14.191677Z",
     "start_time": "2025-04-05T12:10:13.999282Z"
    }
   },
   "id": "cfea17902425a78f",
   "outputs": [
    {
     "name": "stdout",
     "output_type": "stream",
     "text": [
      "Contraceptive distribution: [629 333 511]\n",
      "trainset distribution: [440 233 358]\n",
      "testset distribution: [189 100 153]\n",
      "最小数量: 210\n"
     ]
    }
   ],
   "execution_count": 4
  },
  {
   "cell_type": "markdown",
   "source": [
    "## E-SEIC"
   ],
   "metadata": {
    "collapsed": false
   },
   "id": "b1848de64743684e"
  },
  {
   "cell_type": "code",
   "source": [
    "toolbox = init_toolbox_eseic(model, x_train, y_train, weights_train, constraints, n_splits=N_SPLITS - 2,\n",
    "                             random_seed=RANDOM_SEED)  # 初始化toolbox\n",
    "\n",
    "\n",
    "def main(x_train, y_train, model, balanced_method='balanced'):\n",
    "    stats = tools.Statistics(lambda ind: ind.fitness.values)\n",
    "    logbook = tools.Logbook()\n",
    "    logbook.header = \"gen\", \"feasible\", \"ensembles_size\", \"avg_gmean\", \"avg_mauc\", \"avg_acc2\"\n",
    "    ####################################种群的初始化###########################\n",
    "    pop = toolbox.population(n=POPSIZE)  # 个体编码默认全为0\n",
    "    pop = toolbox.init_population(pop, balanced_method=balanced_method)  # 初始化种群中的个体\n",
    "    toolbox.evaluate(pop)  # 计算个体的适应度\n",
    "    ####################################种群的迭代#################################################\n",
    "    for gen in range(1, NGEN + 1):\n",
    "        offspring = selTournamentNDCD(pop, POPSIZE, tournsize=3)  # 锦标赛选择（1、先根据非支配排序的等级2、再根据拥挤距离）\n",
    "        offspring = [toolbox.clone(ind) for ind in offspring]\n",
    "        for i in range(0, len(offspring) - 1, 2):\n",
    "            if random.random() <= CXPB:\n",
    "                offspring[i], offspring[i + 1] = toolbox.mate(offspring[i], offspring[i + 1])  # 单点交叉\n",
    "            offspring[i] = toolbox.mutate(offspring[i], MR)[0]  # 二进制反转突变\n",
    "            offspring[i + 1] = toolbox.mutate(offspring[i + 1], MR)[0]  # 二进制反转突变\n",
    "            del offspring[i].fitness.values, offspring[i + 1].fitness.values\n",
    "        #############################################################合并、去重#####################################################\n",
    "        offspring = toolbox.individuals_constraints(offspring)  # 限制每个类至少有一个实例被选择\n",
    "        pop = pop + offspring  # 种群的合并\n",
    "        pop, _ = toolbox.remove_duplicates(pop)  # 去重\n",
    "        while len(pop) < POPSIZE:  # 保证种群大小为POPSIZE\n",
    "            add_individual = []\n",
    "            num_add = POPSIZE - len(pop)\n",
    "            for i in range(0, num_add):\n",
    "                index = random.randint(0, len(offspring) - 1)  # 在0-len(offspring)范围内随机产生一个索引\n",
    "                offspring[index] = toolbox.mutate(offspring[index], MR)[0]  # 选择index对应的个体进行突变\n",
    "                del offspring[index].fitness.values\n",
    "                add_individual.append(offspring[index])\n",
    "            add_individual = toolbox.individuals_constraints(add_individual)  # 限制每个类至少有一个实例被选择\n",
    "            pop = pop + add_individual  # 种群的合并\n",
    "            pop, _ = toolbox.remove_duplicates(pop)  # 去重\n",
    "        pop = toolbox.individuals_constraints(pop)  # 限制每个类至少有5个实例被选择\n",
    "        toolbox.evaluate(pop)  # 计算新种群适应度\n",
    "        ###############################################得到pareto_fronts############################################\n",
    "        feasible_pop, infeasible_pop = toolbox.get_feasible_infeasible(pop)  # 得到可行解与不可行解\n",
    "        if len(feasible_pop) >= POPSIZE:\n",
    "            pop, pareto_fronts = toolbox.select(feasible_pop, POPSIZE)\n",
    "            # ensembles = pareto_fronts[0]  # pareto_first_front\n",
    "            ensembles = pop  # pop均为可行解，则集成pop中所有个体\n",
    "        elif len(feasible_pop) > 0:\n",
    "            pop = feasible_pop + infeasible_pop[:POPSIZE - len(feasible_pop)]  # 在不可行解中选取违约程度小的个体，保证pop数量为POPSIZE\n",
    "            # ensembles = tools.sortNondominated(feasible_pop, len(feasible_pop))[0]  # pareto_first_front\n",
    "            ensembles = feasible_pop  # 只集成可行解\n",
    "            # ensembles = pop  # 集成种群\n",
    "        else:\n",
    "            pop = feasible_pop + infeasible_pop[:POPSIZE - len(feasible_pop)]  # 加入不可行解中违约程度小的个体，保证pop数量为POPSIZE\n",
    "            ensembles = [infeasible_pop[0]]  # 没有可行解，集成不可行解中第一个个体\n",
    "            # ensembles = pop  # 集成种群\n",
    "        avg_gmean, avg_mauc = calculate_average_gmean_mauc(ensembles)  # 计算gmean、mauc的平均值\n",
    "        _, avg_acc2, _ = calculate_average_accuracy(ensembles)  # 计算acc1、acc2、acc3的平均值\n",
    "\n",
    "        record = stats.compile(pop)\n",
    "        logbook.record(gen=gen, feasible=len(feasible_pop), ensembles_size=len(ensembles), avg_gmean=avg_gmean,\n",
    "                       avg_mauc=avg_mauc, avg_acc2=avg_acc2, **record)\n",
    "        # print(logbook.stream)\n",
    "    ensemble_classifiers = ensemble_individuals(ensembles, model, x_train, y_train)\n",
    "    return ensemble_classifiers\n",
    "\n",
    "\n",
    "if __name__ == \"__main__\":\n",
    "    print(\"*****************算法开始执行：******************\")\n",
    "    num_run = 40  # 运行次数\n",
    "    ensembles_results = [[] for _ in range(num_run)]\n",
    "    for i in range(num_run):\n",
    "        ensemble_classifiers = main(x_train, y_train, model=model, balanced_method='random')\n",
    "        vote_pred_prob = vote_result_ensembles(ensemble_classifiers, x_test)  # 默认预测结果是软标签\n",
    "        vote_pred = np.argmax(vote_pred_prob, axis=1)\n",
    "        gmean, mauc, recall_per_class = calculate_gmean_mauc(vote_pred_prob, y_test)\n",
    "        acc1, acc2, acc3 = calculate_accuracy(vote_pred, y_test, weights_test)\n",
    "        ensembles_results[i] = [gmean, mauc, acc1, acc2, acc3, len(ensemble_classifiers)]\n",
    "        print(\n",
    "            f\"第{i + 1}次执行：Gmean：{gmean}，mAUC：{mauc}，Acc1：{acc1}，Acc2：{acc2}，Acc3：{acc3}，集成的数量：{len(ensemble_classifiers)}\")\n",
    "    print(\"*****************算法执行结束！******************\")\n",
    "    ensembles_result_mean = np.mean(ensembles_results, axis=0)\n",
    "    print(f'集成分类结果（平均值）：{ensembles_result_mean}')"
   ],
   "metadata": {
    "collapsed": false,
    "ExecuteTime": {
     "end_time": "2025-04-05T14:18:51.587029Z",
     "start_time": "2025-04-05T12:10:14.193770Z"
    }
   },
   "id": "ec2997db669640b6",
   "outputs": [
    {
     "name": "stdout",
     "output_type": "stream",
     "text": [
      "*****************算法开始执行：******************\n",
      "第1次执行：Gmean：0.538278，mAUC：0.747093，Acc1：0.567873，Acc2：0.54637，Acc3：0.173956，集成的数量：30\n",
      "第2次执行：Gmean：0.528317，mAUC：0.737075，Acc1：0.540724，Acc2：0.53107，Acc3：0.172999，集成的数量：30\n",
      "第3次执行：Gmean：0.531252，mAUC：0.73927，Acc1：0.556561，Acc2：0.538382，Acc3：0.172268，集成的数量：30\n",
      "第4次执行：Gmean：0.519677，mAUC：0.739392，Acc1：0.558824，Acc2：0.532207，Acc3：0.167397，集成的数量：30\n",
      "第5次执行：Gmean：0.517791，mAUC：0.736796，Acc1：0.545249，Acc2：0.524583，Acc3：0.167432，集成的数量：30\n",
      "第6次执行：Gmean：0.529226，mAUC：0.741593，Acc1：0.552036，Acc2：0.534764，Acc3：0.171613，集成的数量：30\n",
      "第7次执行：Gmean：0.554066，mAUC：0.740775，Acc1：0.572398，Acc2：0.557746，Acc3：0.180309，集成的数量：30\n",
      "第8次执行：Gmean：0.501595，mAUC：0.742588，Acc1：0.538462，Acc2：0.514854，Acc3：0.16225，集成的数量：30\n",
      "第9次执行：Gmean：0.53344，mAUC：0.735433，Acc1：0.558824，Acc2：0.53964，Acc3：0.172671，集成的数量：30\n",
      "第10次执行：Gmean：0.547961，mAUC：0.739163，Acc1：0.579186，Acc2：0.557263，Acc3：0.177218，集成的数量：30\n",
      "第11次执行：Gmean：0.530753，mAUC：0.740263，Acc1：0.558824，Acc2：0.539406，Acc3：0.172045，集成的数量：30\n",
      "第12次执行：Gmean：0.524817，mAUC：0.740158，Acc1：0.554299，Acc2：0.534309，Acc3：0.170091，集成的数量：30\n",
      "第13次执行：Gmean：0.519524，mAUC：0.734404，Acc1：0.547511，Acc2：0.528188，Acc3：0.168358，集成的数量：30\n",
      "第14次执行：Gmean：0.523911，mAUC：0.741665，Acc1：0.554299，Acc2：0.533064，Acc3：0.169416，集成的数量：30\n",
      "第15次执行：Gmean：0.519548，mAUC：0.735696，Acc1：0.556561，Acc2：0.531688，Acc3：0.167644，集成的数量：30\n",
      "第16次执行：Gmean：0.52454，mAUC：0.740356，Acc1：0.563348，Acc2：0.536474，Acc3：0.168902，集成的数量：30\n",
      "第17次执行：Gmean：0.54064，mAUC：0.73443，Acc1：0.554299，Acc2：0.542716，Acc3：0.176639，集成的数量：30\n",
      "第18次执行：Gmean：0.550448，mAUC：0.745161，Acc1：0.574661，Acc2：0.55729，Acc3：0.178787，集成的数量：30\n",
      "第19次执行：Gmean：0.540326，mAUC：0.736582，Acc1：0.558824，Acc2：0.544854，Acc3：0.175994，集成的数量：30\n",
      "第20次执行：Gmean：0.535033，mAUC：0.740623，Acc1：0.554299，Acc2：0.538747，Acc3：0.17399，集成的数量：30\n",
      "第21次执行：Gmean：0.522135，mAUC：0.742737，Acc1：0.567873，Acc2：0.537692，Acc3：0.168008，集成的数量：30\n",
      "第22次执行：Gmean：0.541403，mAUC：0.737256，Acc1：0.561086，Acc2：0.545283，Acc3：0.175947，集成的数量：30\n",
      "第23次执行：Gmean：0.510635，mAUC：0.73254，Acc1：0.552036，Acc2：0.524101，Acc3：0.164341，集成的数量：30\n",
      "第24次执行：Gmean：0.538053，mAUC：0.738505，Acc1：0.547511，Acc2：0.54033，Acc3：0.176931，集成的数量：30\n",
      "第25次执行：Gmean：0.543559，mAUC：0.742101，Acc1：0.572398，Acc2：0.551052，Acc3：0.175686，集成的数量：30\n",
      "第26次执行：Gmean：0.531222，mAUC：0.734676，Acc1：0.558824，Acc2：0.540236，Acc3：0.172495，集成的数量：30\n",
      "第27次执行：Gmean：0.515412，mAUC：0.738666，Acc1：0.558824，Acc2：0.531142，Acc3：0.166322，集成的数量：30\n",
      "第28次执行：Gmean：0.560247，mAUC：0.744747，Acc1：0.572398，Acc2：0.56204，Acc3：0.183383，集成的数量：30\n",
      "第29次执行：Gmean：0.525644，mAUC：0.736385，Acc1：0.547511，Acc2：0.530316，Acc3：0.170508，集成的数量：30\n",
      "第30次执行：Gmean：0.513157，mAUC：0.740736，Acc1：0.547511，Acc2：0.524218，Acc3：0.165709，集成的数量：30\n",
      "第31次执行：Gmean：0.526276，mAUC：0.742417，Acc1：0.565611，Acc2：0.539573，Acc3：0.169804，集成的数量：30\n",
      "第32次执行：Gmean：0.535591，mAUC：0.739124，Acc1：0.565611，Acc2：0.543271，Acc3：0.173054，集成的数量：30\n",
      "第33次执行：Gmean：0.558447，mAUC：0.741421，Acc1：0.579186，Acc2：0.562531，Acc3：0.181567，集成的数量：30\n",
      "第34次执行：Gmean：0.554495，mAUC：0.737328，Acc1：0.567873，Acc2：0.556437，Acc3：0.181404，集成的数量：30\n",
      "第35次执行：Gmean：0.506446，mAUC：0.734392，Acc1：0.545249，Acc2：0.52056，Acc3：0.163757，集成的数量：30\n",
      "第36次执行：Gmean：0.5255，mAUC：0.738671，Acc1：0.554299，Acc2：0.533388，Acc3：0.169841，集成的数量：30\n",
      "第37次执行：Gmean：0.502091，mAUC：0.733245，Acc1：0.533937，Acc2：0.511561，Acc3：0.16202，集成的数量：30\n",
      "第38次执行：Gmean：0.501886，mAUC：0.730893，Acc1：0.547511，Acc2：0.520015，Acc3：0.162435，集成的数量：30\n",
      "第39次执行：Gmean：0.514372，mAUC：0.735538，Acc1：0.529412，Acc2：0.517452，Acc3：0.167763，集成的数量：30\n",
      "第40次执行：Gmean：0.535721，mAUC：0.739208，Acc1：0.572398，Acc2：0.548923，Acc3：0.173536，集成的数量：30\n",
      "*****************算法执行结束！******************\n",
      "集成分类结果（平均值）：[ 0.52933588  0.73872755  0.55735302  0.5375934   0.17161225 30.        ]\n"
     ]
    }
   ],
   "execution_count": 5
  },
  {
   "cell_type": "markdown",
   "source": [
    "## 写入到Excel "
   ],
   "metadata": {
    "collapsed": false
   },
   "id": "ed4dbb395903bfa7"
  },
  {
   "cell_type": "code",
   "source": [
    "from utils.excel_utils import save_to_excel_2\n",
    "\n",
    "columns = ['Gmean', 'MAUC', 'Acc1', 'Acc2', 'Acc3', 'num_ensemble']\n",
    "\n",
    "save_path = 'C:/Users/zsc/Desktop/Third/Stratified/7-3/MILE/' + datasetname + '/'\n",
    "filename = datasetname\n",
    "save_to_excel_2(save_path, filename, columns, ensembles_results)"
   ],
   "metadata": {
    "collapsed": false,
    "ExecuteTime": {
     "end_time": "2025-04-05T14:18:51.634569Z",
     "start_time": "2025-04-05T14:18:51.587029Z"
    }
   },
   "id": "520fa2429669bb3e",
   "outputs": [
    {
     "name": "stdout",
     "output_type": "stream",
     "text": [
      "Excel 文件已保存至: C:/Users/zsc/Desktop/Third/Stratified/7-3/MILE/Contraceptive/Contraceptive.xlsx\n"
     ]
    },
    {
     "data": {
      "text/plain": [
       "'C:/Users/zsc/Desktop/Third/Stratified/7-3/MILE/Contraceptive/Contraceptive.xlsx'"
      ]
     },
     "execution_count": 6,
     "metadata": {},
     "output_type": "execute_result"
    }
   ],
   "execution_count": 6
  }
 ],
 "metadata": {
  "kernelspec": {
   "display_name": "Python 3",
   "language": "python",
   "name": "python3"
  },
  "language_info": {
   "codemirror_mode": {
    "name": "ipython",
    "version": 2
   },
   "file_extension": ".py",
   "mimetype": "text/x-python",
   "name": "python",
   "nbconvert_exporter": "python",
   "pygments_lexer": "ipython2",
   "version": "2.7.6"
  }
 },
 "nbformat": 4,
 "nbformat_minor": 5
}
