{
 "cells": [
  {
   "cell_type": "markdown",
   "source": [
    "## 准备工作"
   ],
   "metadata": {
    "collapsed": false
   },
   "id": "9c573d5cf8b3917"
  },
  {
   "cell_type": "code",
   "outputs": [],
   "source": [
    "import scipy.io as sio  # 从.mat文件中读取数据集\n",
    "import numpy as np\n",
    "from tqdm import tqdm\n",
    "from sklearn.model_selection import train_test_split\n",
    "from sklearn.svm import SVC  # SVC用于分类，SVR用于回归\n",
    "from sklearn.metrics import accuracy_score, classification_report, confusion_matrix\n",
    "from sklearn.preprocessing import StandardScaler\n",
    "from sklearn.pipeline import make_pipeline\n",
    "\n",
    "from differential_evolution.differential_evolution import DifferentialEvolution\n",
    "from utils.dataset_utils import get_classes_indexes_counts"
   ],
   "metadata": {
    "collapsed": false,
    "ExecuteTime": {
     "end_time": "2024-10-24T09:39:32.513149Z",
     "start_time": "2024-10-24T09:39:32.500174Z"
    }
   },
   "id": "3de684fb950cc240",
   "execution_count": 40
  },
  {
   "cell_type": "markdown",
   "source": [
    "### 实值映射到0-1"
   ],
   "metadata": {
    "collapsed": false
   },
   "id": "2063edb4e7398166"
  },
  {
   "cell_type": "code",
   "outputs": [],
   "source": [
    "# 根据种群个体的编码值，获得要选择的实例的索引\n",
    "def get_indices(x):\n",
    "    x = np.round(x)  # 数据范围在0-2之间，转化成int的同时会舍去小数部分，从而将个体映射到0-1编码\n",
    "    indices = np.where(x == 1)  # 1代表选择该实例，返回值是tuple，tuple[0]取元组中的第一个元素\n",
    "    return indices[0]"
   ],
   "metadata": {
    "collapsed": false,
    "ExecuteTime": {
     "end_time": "2024-10-24T09:39:35.157752Z",
     "start_time": "2024-10-24T09:39:35.140321Z"
    }
   },
   "id": "553d628a67d6bb5f",
   "execution_count": 41
  },
  {
   "cell_type": "markdown",
   "source": [
    "### 获取实例子集"
   ],
   "metadata": {
    "collapsed": false
   },
   "id": "ce268e7be9f01166"
  },
  {
   "cell_type": "code",
   "outputs": [],
   "source": [
    "# 根据索引得到要选择的子集：数据和标签\n",
    "# minimum的最大值不能超过数据集中包含的所有类别的最小数量\n",
    "def get_sub_dataset(xi, indices, x, y, classes, minimum):\n",
    "    # 根据索引得到实例子集\n",
    "    num_class=len(classes)\n",
    "    x_sub = x[indices, :]\n",
    "    y_sub = y[indices]\n",
    "\n",
    "    #print(\"实例子集x：\", x_sub)\n",
    "    #print(\"实例子集y：\", y_sub)\n",
    "    # 计算实例子集各个类别的数量\n",
    "    counts_sub = np.zeros(num_class, dtype=int)\n",
    "    for i in range(y_sub.shape[0]):\n",
    "        counts_sub[y_sub[i]] += 1\n",
    "    #print(\"实例子集的数量：\", counts_sub)\n",
    "    # 遍历子集中各个类别的数量，保证大于最小数量\n",
    "    for i in range(num_class):\n",
    "        # 当实例个数小于minimum，随机添加实例达到最小限制\n",
    "        if counts_sub[i] < minimum:\n",
    "            # 转换成集合进行差运算（& | -，分别是交、并、差） unselected_indices是一个set集合\n",
    "            unselected_indices_set = set(classes[i]) - set(indices)\n",
    "            # list(unselected_indices)将集合转换成list\n",
    "            unselected_indices = np.array(list(unselected_indices_set))\n",
    "            # replace=False表示不允许重复\n",
    "            random_selecte_indices = np.random.choice(unselected_indices, size=minimum - counts_sub[i], replace=False)\n",
    "            # 添加后更改个体xi的参数\n",
    "            for j in range(0, minimum - counts_sub[i]):  # 小于minimum，添加实例时，需要同步更改xi个体的实值大小，由小于0.5，改为大于0.5\n",
    "                xi[random_selecte_indices[j]] = np.random.uniform(0.5, 1)  # 生成0.5-1的随机数\n",
    "                index = np.searchsorted(indices, random_selecte_indices[j])\n",
    "                indices = np.insert(indices, index, random_selecte_indices[j])\n",
    "                x_sub = np.insert(x_sub, index, x[random_selecte_indices[j], :], axis=0)\n",
    "                y_sub = np.insert(y_sub, index, y[random_selecte_indices[j]])\n",
    "\n",
    "            #print(f\"类别{i}所要补充的个体数为{minimum - counts_sub[i]},索引为：\", random_selecte_indices)\n",
    "    #print(\"最终的索引为：\", indices)\n",
    "    return x_sub, y_sub, xi"
   ],
   "metadata": {
    "collapsed": false,
    "ExecuteTime": {
     "end_time": "2024-10-24T09:40:36.379528Z",
     "start_time": "2024-10-24T09:40:36.369649Z"
    }
   },
   "id": "41bc3a335c751ad2",
   "execution_count": 46
  },
  {
   "cell_type": "markdown",
   "source": [
    "### 适应度函数"
   ],
   "metadata": {
    "collapsed": false
   },
   "id": "a378dd5dea71b44"
  },
  {
   "cell_type": "code",
   "outputs": [],
   "source": [
    "\n",
    "# 适应度函数/目标函数\n",
    "def objective_function(xi, x_train, y_train, x_test,y_test,model, minimum): # xi表示种群的个体\n",
    "    # 先将x的实值编码四舍五入得到0-1编码，根据编码得到训练子集\n",
    "    indices = get_indices(xi)\n",
    "    classes, counts = get_classes_indexes_counts(y_train)\n",
    "    num_class=len(classes)\n",
    "    x_sub, y_sub, xi = get_sub_dataset(xi, indices, x_train, y_train, classes, minimum)\n",
    "\n",
    "    # 模型训练\n",
    "    model.fit(x_sub, y_sub)\n",
    "    y_pred = model.predict(x_test)\n",
    "\n",
    "    # 计算准确率\n",
    "    accuracy = accuracy_score(y_test, y_pred)\n",
    "\n",
    "    # 计算错误率\n",
    "    error_rate = 1 - accuracy\n",
    "    return error_rate\n",
    "\n",
    "\n",
    "# 求适应度\n",
    "def fitness(x, model, x_train, y_train, x_test,y_test,minimum): # x表示种群\n",
    "    result = np.empty(x.shape[0])  # 记录种群中个体的适应度\n",
    "    # 计算每个个体的适应度\n",
    "    for i in range(0, x.shape[0]):\n",
    "        result[i] = objective_function(x[i, :], x_train, y_train, x_test,y_test, model, minimum)\n",
    "    return result"
   ],
   "metadata": {
    "collapsed": false,
    "ExecuteTime": {
     "end_time": "2024-10-24T09:39:39.137309Z",
     "start_time": "2024-10-24T09:39:39.130370Z"
    }
   },
   "id": "b89592fff5036214",
   "execution_count": 43
  },
  {
   "cell_type": "markdown",
   "source": [
    "## 训练阶段"
   ],
   "metadata": {
    "collapsed": false
   },
   "id": "d96cc1391aa4ab38"
  },
  {
   "cell_type": "markdown",
   "source": [
    "### 参数设定"
   ],
   "metadata": {
    "collapsed": false
   },
   "id": "29749ce4a40487cd"
  },
  {
   "cell_type": "code",
   "outputs": [
    {
     "name": "stdout",
     "output_type": "stream",
     "text": [
      "x的形状: (1000, 24)\n",
      "y的形状: (1000,)\n",
      "每种类别的数量： [700. 300.]\n",
      "每种类别的数量： [493. 207.]\n",
      "69.0\n"
     ]
    }
   ],
   "source": [
    "# 加载数据集\n",
    "# 读取.mat文件\n",
    "mat_data = sio.loadmat('../data/dataset/German.mat')\n",
    "#print(mat_data.keys())\n",
    "# 提取变量\n",
    "dataset_x = mat_data['X']\n",
    "dataset_y = mat_data['Y'][:, 0] # mat_data['Y']得到的形状为[n,1]，通过[:,0]，得到形状[n,]\n",
    "# 显示变量信息\n",
    "print(\"x的形状:\", dataset_x.shape)\n",
    "print(\"y的形状:\", dataset_y.shape)\n",
    "# 统计每个类别的个数，dataset_y.max()+1是类别的个数\n",
    "counts = np.zeros(dataset_y.max() + 1)\n",
    "for i in range(dataset_y.shape[0]):\n",
    "    counts[dataset_y[i]] += 1\n",
    "print(\"每种类别的数量：\", counts)\n",
    "\n",
    "# 划分数据集\n",
    "x_train, x_test, y_train, y_test = train_test_split(dataset_x, dataset_y, test_size=0.3, random_state=42)\n",
    "\n",
    "NP = 50  # 个体数目\n",
    "D = y_train.shape[0]  # 目标函数中变量的个数\n",
    "G = 100  # 最大迭代数\n",
    "CR = 0.1  # 交叉算子\n",
    "Threshold = 1e-6  # 阈值\n",
    "F = 0.1  # 变异算子\n",
    "Left = 0  # 左边界\n",
    "Right = 1  # 右边界\n",
    "# 初始化 SVM 分类器\n",
    "# 通过管道将标准化操作和模型相连接\n",
    "clf = make_pipeline(StandardScaler(), SVC(kernel='linear', cache_size=600))  # 'linear' 是线性核，也可以选择 'rbf', 'poly' 等核函数\n",
    "\n",
    "counts_train = np.zeros(y_train.max() + 1)\n",
    "for i in range(y_train.shape[0]):\n",
    "    counts_train[y_train[i]] += 1\n",
    "print(\"每种类别的数量：\", counts_train)\n",
    "\n",
    "minimum=np.min(counts_train) // 3\n",
    "print(minimum)"
   ],
   "metadata": {
    "collapsed": false,
    "ExecuteTime": {
     "end_time": "2024-10-24T09:45:17.609654Z",
     "start_time": "2024-10-24T09:45:17.596236Z"
    }
   },
   "id": "b81afec396e5478b",
   "execution_count": 50
  },
  {
   "cell_type": "markdown",
   "source": [],
   "metadata": {
    "collapsed": false
   },
   "id": "18505e6f7917c5a2"
  },
  {
   "cell_type": "markdown",
   "source": [
    "### DE算法执行"
   ],
   "metadata": {
    "collapsed": false
   },
   "id": "5a280f36d2155177"
  },
  {
   "cell_type": "code",
   "outputs": [
    {
     "name": "stderr",
     "output_type": "stream",
     "text": [
      "DE:  21%|██        | 21/100 [00:07<00:26,  2.94it/s, 当前迭代次数=21, 最优个体索引=4, 目标函数最小值=0.187, 当前最高准确率=0.813]\n"
     ]
    },
    {
     "ename": "KeyboardInterrupt",
     "evalue": "",
     "output_type": "error",
     "traceback": [
      "\u001B[1;31m---------------------------------------------------------------------------\u001B[0m",
      "\u001B[1;31mKeyboardInterrupt\u001B[0m                         Traceback (most recent call last)",
      "Cell \u001B[1;32mIn[53], line 26\u001B[0m\n\u001B[0;32m     22\u001B[0m c \u001B[38;5;241m=\u001B[39m de\u001B[38;5;241m.\u001B[39mcross(x, v)  \u001B[38;5;66;03m# 交叉\u001B[39;00m\n\u001B[0;32m     24\u001B[0m c \u001B[38;5;241m=\u001B[39m de\u001B[38;5;241m.\u001B[39mboundary_process(c)  \u001B[38;5;66;03m# 若超出边界则重新生成\u001B[39;00m\n\u001B[1;32m---> 26\u001B[0m c_fitness \u001B[38;5;241m=\u001B[39m \u001B[43mfitness\u001B[49m\u001B[43m(\u001B[49m\u001B[43mc\u001B[49m\u001B[43m,\u001B[49m\u001B[43m \u001B[49m\u001B[43mclf\u001B[49m\u001B[43m,\u001B[49m\u001B[43m \u001B[49m\u001B[43mx_train\u001B[49m\u001B[43m,\u001B[49m\u001B[43m \u001B[49m\u001B[43my_train\u001B[49m\u001B[43m,\u001B[49m\u001B[43mx_test\u001B[49m\u001B[43m,\u001B[49m\u001B[43my_test\u001B[49m\u001B[43m,\u001B[49m\u001B[43m \u001B[49m\u001B[43mminimum\u001B[49m\u001B[43m)\u001B[49m  \u001B[38;5;66;03m# 对新的试验种群求适应度\u001B[39;00m\n\u001B[0;32m     27\u001B[0m \u001B[38;5;28;01mfor\u001B[39;00m m \u001B[38;5;129;01min\u001B[39;00m \u001B[38;5;28mrange\u001B[39m(\u001B[38;5;241m0\u001B[39m, x\u001B[38;5;241m.\u001B[39mshape[\u001B[38;5;241m0\u001B[39m]):\n\u001B[0;32m     28\u001B[0m     \u001B[38;5;28;01mif\u001B[39;00m c_fitness[m] \u001B[38;5;241m<\u001B[39m x_fitness[m]:  \u001B[38;5;66;03m# 贪婪地选择当前最优个体\u001B[39;00m\n",
      "Cell \u001B[1;32mIn[43], line 26\u001B[0m, in \u001B[0;36mfitness\u001B[1;34m(x, model, x_train, y_train, x_test, y_test, minimum)\u001B[0m\n\u001B[0;32m     24\u001B[0m \u001B[38;5;66;03m# 计算每个个体的适应度\u001B[39;00m\n\u001B[0;32m     25\u001B[0m \u001B[38;5;28;01mfor\u001B[39;00m i \u001B[38;5;129;01min\u001B[39;00m \u001B[38;5;28mrange\u001B[39m(\u001B[38;5;241m0\u001B[39m, x\u001B[38;5;241m.\u001B[39mshape[\u001B[38;5;241m0\u001B[39m]):\n\u001B[1;32m---> 26\u001B[0m     result[i] \u001B[38;5;241m=\u001B[39m \u001B[43mobjective_function\u001B[49m\u001B[43m(\u001B[49m\u001B[43mx\u001B[49m\u001B[43m[\u001B[49m\u001B[43mi\u001B[49m\u001B[43m,\u001B[49m\u001B[43m \u001B[49m\u001B[43m:\u001B[49m\u001B[43m]\u001B[49m\u001B[43m,\u001B[49m\u001B[43m \u001B[49m\u001B[43mx_train\u001B[49m\u001B[43m,\u001B[49m\u001B[43m \u001B[49m\u001B[43my_train\u001B[49m\u001B[43m,\u001B[49m\u001B[43m \u001B[49m\u001B[43mx_test\u001B[49m\u001B[43m,\u001B[49m\u001B[43my_test\u001B[49m\u001B[43m,\u001B[49m\u001B[43m \u001B[49m\u001B[43mmodel\u001B[49m\u001B[43m,\u001B[49m\u001B[43m \u001B[49m\u001B[43mminimum\u001B[49m\u001B[43m)\u001B[49m\n\u001B[0;32m     27\u001B[0m \u001B[38;5;28;01mreturn\u001B[39;00m result\n",
      "Cell \u001B[1;32mIn[43], line 11\u001B[0m, in \u001B[0;36mobjective_function\u001B[1;34m(xi, x_train, y_train, x_test, y_test, model, minimum)\u001B[0m\n\u001B[0;32m      9\u001B[0m \u001B[38;5;66;03m# 模型训练\u001B[39;00m\n\u001B[0;32m     10\u001B[0m model\u001B[38;5;241m.\u001B[39mfit(x_sub, y_sub)\n\u001B[1;32m---> 11\u001B[0m y_pred \u001B[38;5;241m=\u001B[39m \u001B[43mmodel\u001B[49m\u001B[38;5;241;43m.\u001B[39;49m\u001B[43mpredict\u001B[49m\u001B[43m(\u001B[49m\u001B[43mx_test\u001B[49m\u001B[43m)\u001B[49m\n\u001B[0;32m     13\u001B[0m \u001B[38;5;66;03m# 计算准确率\u001B[39;00m\n\u001B[0;32m     14\u001B[0m accuracy \u001B[38;5;241m=\u001B[39m accuracy_score(y_test, y_pred)\n",
      "File \u001B[1;32mD:\\IDE\\Anaconda\\envs\\pytorch\\lib\\site-packages\\sklearn\\pipeline.py:603\u001B[0m, in \u001B[0;36mPipeline.predict\u001B[1;34m(self, X, **params)\u001B[0m\n\u001B[0;32m    601\u001B[0m     \u001B[38;5;28;01mfor\u001B[39;00m _, name, transform \u001B[38;5;129;01min\u001B[39;00m \u001B[38;5;28mself\u001B[39m\u001B[38;5;241m.\u001B[39m_iter(with_final\u001B[38;5;241m=\u001B[39m\u001B[38;5;28;01mFalse\u001B[39;00m):\n\u001B[0;32m    602\u001B[0m         Xt \u001B[38;5;241m=\u001B[39m transform\u001B[38;5;241m.\u001B[39mtransform(Xt)\n\u001B[1;32m--> 603\u001B[0m     \u001B[38;5;28;01mreturn\u001B[39;00m \u001B[38;5;28mself\u001B[39m\u001B[38;5;241m.\u001B[39msteps[\u001B[38;5;241m-\u001B[39m\u001B[38;5;241m1\u001B[39m][\u001B[38;5;241m1\u001B[39m]\u001B[38;5;241m.\u001B[39mpredict(Xt, \u001B[38;5;241m*\u001B[39m\u001B[38;5;241m*\u001B[39mparams)\n\u001B[0;32m    605\u001B[0m \u001B[38;5;66;03m# metadata routing enabled\u001B[39;00m\n\u001B[0;32m    606\u001B[0m routed_params \u001B[38;5;241m=\u001B[39m process_routing(\u001B[38;5;28mself\u001B[39m, \u001B[38;5;124m\"\u001B[39m\u001B[38;5;124mpredict\u001B[39m\u001B[38;5;124m\"\u001B[39m, \u001B[38;5;241m*\u001B[39m\u001B[38;5;241m*\u001B[39mparams)\n",
      "File \u001B[1;32mD:\\IDE\\Anaconda\\envs\\pytorch\\lib\\site-packages\\sklearn\\svm\\_base.py:814\u001B[0m, in \u001B[0;36mBaseSVC.predict\u001B[1;34m(self, X)\u001B[0m\n\u001B[0;32m    812\u001B[0m     y \u001B[38;5;241m=\u001B[39m np\u001B[38;5;241m.\u001B[39margmax(\u001B[38;5;28mself\u001B[39m\u001B[38;5;241m.\u001B[39mdecision_function(X), axis\u001B[38;5;241m=\u001B[39m\u001B[38;5;241m1\u001B[39m)\n\u001B[0;32m    813\u001B[0m \u001B[38;5;28;01melse\u001B[39;00m:\n\u001B[1;32m--> 814\u001B[0m     y \u001B[38;5;241m=\u001B[39m \u001B[38;5;28;43msuper\u001B[39;49m\u001B[43m(\u001B[49m\u001B[43m)\u001B[49m\u001B[38;5;241;43m.\u001B[39;49m\u001B[43mpredict\u001B[49m\u001B[43m(\u001B[49m\u001B[43mX\u001B[49m\u001B[43m)\u001B[49m\n\u001B[0;32m    815\u001B[0m \u001B[38;5;28;01mreturn\u001B[39;00m \u001B[38;5;28mself\u001B[39m\u001B[38;5;241m.\u001B[39mclasses_\u001B[38;5;241m.\u001B[39mtake(np\u001B[38;5;241m.\u001B[39masarray(y, dtype\u001B[38;5;241m=\u001B[39mnp\u001B[38;5;241m.\u001B[39mintp))\n",
      "File \u001B[1;32mD:\\IDE\\Anaconda\\envs\\pytorch\\lib\\site-packages\\sklearn\\svm\\_base.py:431\u001B[0m, in \u001B[0;36mBaseLibSVM.predict\u001B[1;34m(self, X)\u001B[0m\n\u001B[0;32m    429\u001B[0m X \u001B[38;5;241m=\u001B[39m \u001B[38;5;28mself\u001B[39m\u001B[38;5;241m.\u001B[39m_validate_for_predict(X)\n\u001B[0;32m    430\u001B[0m predict \u001B[38;5;241m=\u001B[39m \u001B[38;5;28mself\u001B[39m\u001B[38;5;241m.\u001B[39m_sparse_predict \u001B[38;5;28;01mif\u001B[39;00m \u001B[38;5;28mself\u001B[39m\u001B[38;5;241m.\u001B[39m_sparse \u001B[38;5;28;01melse\u001B[39;00m \u001B[38;5;28mself\u001B[39m\u001B[38;5;241m.\u001B[39m_dense_predict\n\u001B[1;32m--> 431\u001B[0m \u001B[38;5;28;01mreturn\u001B[39;00m \u001B[43mpredict\u001B[49m\u001B[43m(\u001B[49m\u001B[43mX\u001B[49m\u001B[43m)\u001B[49m\n",
      "File \u001B[1;32mD:\\IDE\\Anaconda\\envs\\pytorch\\lib\\site-packages\\sklearn\\svm\\_base.py:450\u001B[0m, in \u001B[0;36mBaseLibSVM._dense_predict\u001B[1;34m(self, X)\u001B[0m\n\u001B[0;32m    442\u001B[0m         \u001B[38;5;28;01mraise\u001B[39;00m \u001B[38;5;167;01mValueError\u001B[39;00m(\n\u001B[0;32m    443\u001B[0m             \u001B[38;5;124m\"\u001B[39m\u001B[38;5;124mX.shape[1] = \u001B[39m\u001B[38;5;132;01m%d\u001B[39;00m\u001B[38;5;124m should be equal to \u001B[39m\u001B[38;5;132;01m%d\u001B[39;00m\u001B[38;5;124m, \u001B[39m\u001B[38;5;124m\"\u001B[39m\n\u001B[0;32m    444\u001B[0m             \u001B[38;5;124m\"\u001B[39m\u001B[38;5;124mthe number of samples at training time\u001B[39m\u001B[38;5;124m\"\u001B[39m\n\u001B[0;32m    445\u001B[0m             \u001B[38;5;241m%\u001B[39m (X\u001B[38;5;241m.\u001B[39mshape[\u001B[38;5;241m1\u001B[39m], \u001B[38;5;28mself\u001B[39m\u001B[38;5;241m.\u001B[39mshape_fit_[\u001B[38;5;241m0\u001B[39m])\n\u001B[0;32m    446\u001B[0m         )\n\u001B[0;32m    448\u001B[0m svm_type \u001B[38;5;241m=\u001B[39m LIBSVM_IMPL\u001B[38;5;241m.\u001B[39mindex(\u001B[38;5;28mself\u001B[39m\u001B[38;5;241m.\u001B[39m_impl)\n\u001B[1;32m--> 450\u001B[0m \u001B[38;5;28;01mreturn\u001B[39;00m \u001B[43mlibsvm\u001B[49m\u001B[38;5;241;43m.\u001B[39;49m\u001B[43mpredict\u001B[49m\u001B[43m(\u001B[49m\n\u001B[0;32m    451\u001B[0m \u001B[43m    \u001B[49m\u001B[43mX\u001B[49m\u001B[43m,\u001B[49m\n\u001B[0;32m    452\u001B[0m \u001B[43m    \u001B[49m\u001B[38;5;28;43mself\u001B[39;49m\u001B[38;5;241;43m.\u001B[39;49m\u001B[43msupport_\u001B[49m\u001B[43m,\u001B[49m\n\u001B[0;32m    453\u001B[0m \u001B[43m    \u001B[49m\u001B[38;5;28;43mself\u001B[39;49m\u001B[38;5;241;43m.\u001B[39;49m\u001B[43msupport_vectors_\u001B[49m\u001B[43m,\u001B[49m\n\u001B[0;32m    454\u001B[0m \u001B[43m    \u001B[49m\u001B[38;5;28;43mself\u001B[39;49m\u001B[38;5;241;43m.\u001B[39;49m\u001B[43m_n_support\u001B[49m\u001B[43m,\u001B[49m\n\u001B[0;32m    455\u001B[0m \u001B[43m    \u001B[49m\u001B[38;5;28;43mself\u001B[39;49m\u001B[38;5;241;43m.\u001B[39;49m\u001B[43m_dual_coef_\u001B[49m\u001B[43m,\u001B[49m\n\u001B[0;32m    456\u001B[0m \u001B[43m    \u001B[49m\u001B[38;5;28;43mself\u001B[39;49m\u001B[38;5;241;43m.\u001B[39;49m\u001B[43m_intercept_\u001B[49m\u001B[43m,\u001B[49m\n\u001B[0;32m    457\u001B[0m \u001B[43m    \u001B[49m\u001B[38;5;28;43mself\u001B[39;49m\u001B[38;5;241;43m.\u001B[39;49m\u001B[43m_probA\u001B[49m\u001B[43m,\u001B[49m\n\u001B[0;32m    458\u001B[0m \u001B[43m    \u001B[49m\u001B[38;5;28;43mself\u001B[39;49m\u001B[38;5;241;43m.\u001B[39;49m\u001B[43m_probB\u001B[49m\u001B[43m,\u001B[49m\n\u001B[0;32m    459\u001B[0m \u001B[43m    \u001B[49m\u001B[43msvm_type\u001B[49m\u001B[38;5;241;43m=\u001B[39;49m\u001B[43msvm_type\u001B[49m\u001B[43m,\u001B[49m\n\u001B[0;32m    460\u001B[0m \u001B[43m    \u001B[49m\u001B[43mkernel\u001B[49m\u001B[38;5;241;43m=\u001B[39;49m\u001B[43mkernel\u001B[49m\u001B[43m,\u001B[49m\n\u001B[0;32m    461\u001B[0m \u001B[43m    \u001B[49m\u001B[43mdegree\u001B[49m\u001B[38;5;241;43m=\u001B[39;49m\u001B[38;5;28;43mself\u001B[39;49m\u001B[38;5;241;43m.\u001B[39;49m\u001B[43mdegree\u001B[49m\u001B[43m,\u001B[49m\n\u001B[0;32m    462\u001B[0m \u001B[43m    \u001B[49m\u001B[43mcoef0\u001B[49m\u001B[38;5;241;43m=\u001B[39;49m\u001B[38;5;28;43mself\u001B[39;49m\u001B[38;5;241;43m.\u001B[39;49m\u001B[43mcoef0\u001B[49m\u001B[43m,\u001B[49m\n\u001B[0;32m    463\u001B[0m \u001B[43m    \u001B[49m\u001B[43mgamma\u001B[49m\u001B[38;5;241;43m=\u001B[39;49m\u001B[38;5;28;43mself\u001B[39;49m\u001B[38;5;241;43m.\u001B[39;49m\u001B[43m_gamma\u001B[49m\u001B[43m,\u001B[49m\n\u001B[0;32m    464\u001B[0m \u001B[43m    \u001B[49m\u001B[43mcache_size\u001B[49m\u001B[38;5;241;43m=\u001B[39;49m\u001B[38;5;28;43mself\u001B[39;49m\u001B[38;5;241;43m.\u001B[39;49m\u001B[43mcache_size\u001B[49m\u001B[43m,\u001B[49m\n\u001B[0;32m    465\u001B[0m \u001B[43m\u001B[49m\u001B[43m)\u001B[49m\n",
      "\u001B[1;31mKeyboardInterrupt\u001B[0m: "
     ]
    }
   ],
   "source": [
    "num_run = 1\n",
    "# 记录最好的准确率\n",
    "accuracy_best = np.empty(num_run)\n",
    "\n",
    "# 记录最好的个体\n",
    "x_bests = np.empty((num_run, D))\n",
    "# 记录进化迭代的过程\n",
    "number_generations = G\n",
    "per_generation_optimal_value = np.zeros(G)\n",
    "for j in range(num_run):\n",
    "    x = np.random.rand(NP, D) * (Right - Left) + Left  # 在[Left,Right]之间产生随机数\n",
    "    x_best = np.empty(D)\n",
    "\n",
    "    x_fitness = fitness(x, clf, x_train, y_train, x_test,y_test,minimum)\n",
    "\n",
    "    de = DifferentialEvolution(NP, D, G, CR, Threshold, F, Left, Right)\n",
    "\n",
    "    with tqdm(total=G, desc=\"DE\") as pbar:\n",
    "        for i in range(0, G):\n",
    "            #v=variation(x,F) # 变异\n",
    "            v = de.variation_optimize(x)  # 变异的优化\n",
    "            c = de.cross(x, v)  # 交叉\n",
    "\n",
    "            c = de.boundary_process(c)  # 若超出边界则重新生成\n",
    "\n",
    "            c_fitness = fitness(c, clf, x_train, y_train,x_test,y_test, minimum)  # 对新的试验种群求适应度\n",
    "            for m in range(0, x.shape[0]):\n",
    "                if c_fitness[m] < x_fitness[m]:  # 贪婪地选择当前最优个体\n",
    "                    x[m, :] = c[m, :]\n",
    "                    x_fitness[m] = c_fitness[m]\n",
    "            index = np.argmin(x_fitness)  # 记录最优个体索引\n",
    "            per_generation_optimal_value[i] = x_fitness[index]  # 记录最优适应度\n",
    "            x_best = x[index, :]\n",
    "            x_bests[j] = x_best\n",
    "            accuracy_best[j] = 1 - x_fitness[index]\n",
    "            # 动态更新进度条信息\n",
    "            pbar.set_postfix({\n",
    "                \"当前迭代次数\": i + 1,\n",
    "                \"最优个体索引\": index,\n",
    "                \"目标函数最小值\": round(x_fitness[index], 3),\n",
    "                \"当前最高准确率\": round(1 - x_fitness[index], 3)\n",
    "            })\n",
    "            # 更新进度条\n",
    "            pbar.update(1)\n",
    "    print(f\"第{j + 1}次运行的结果：\")\n",
    "    print(\"最优准确率：\", accuracy_best[j])\n",
    "    print(\"最优个体：\", np.round(x_best))\n",
    "    #print(\"最优个体：\",get_indices(x_best))\n",
    "    classes, counts = get_classes_indexes_counts(y_train)\n",
    "    x_best_sub, y_best_sub, xi = get_sub_dataset(x_best, get_indices(x_best), x_train, y_train, classes,\n",
    "                                                 minimum)\n",
    "\n",
    "    classes_x_best, counts_x_best = get_classes_indexes_counts(y_best_sub)\n",
    "    print(\"最优实例子集各分类数量：\", counts_x_best)\n",
    "print(\"平均准确率：\", accuracy_best.mean())\n",
    "print(\"Over\")"
   ],
   "metadata": {
    "collapsed": false,
    "ExecuteTime": {
     "end_time": "2024-10-24T09:46:10.300337Z",
     "start_time": "2024-10-24T09:46:02.790234Z"
    }
   },
   "id": "94e3d92e1ed79789",
   "execution_count": 53
  },
  {
   "cell_type": "markdown",
   "source": [
    "### 绘图"
   ],
   "metadata": {
    "collapsed": false
   },
   "id": "1860d0a62273a21d"
  },
  {
   "cell_type": "code",
   "outputs": [
    {
     "data": {
      "text/plain": "<Figure size 640x480 with 1 Axes>",
      "image/png": "[encoded data removed]"
     },
     "metadata": {},
     "output_type": "display_data"
    }
   ],
   "source": [
    "import matplotlib.pyplot as plt\n",
    "\n",
    "# 设置可显示中文宋体\n",
    "plt.rcParams['font.family'] = 'STZhongsong'\n",
    "# 生成 x 轴数据：0 到 G，间隔为 1\n",
    "x = np.arange(0, number_generations, 1)\n",
    "\n",
    "# 生成 y 轴数据：每次迭代的最优值\n",
    "y = per_generation_optimal_value\n",
    "\n",
    "# 绘制折线图\n",
    "plt.plot(x, y)\n",
    "\n",
    "# 设置标题和坐标轴标签\n",
    "plt.title(\"差分进化曲线\")\n",
    "plt.xlabel(\"种群进化的次数\")\n",
    "plt.ylabel(\"目标函数的最优值\")\n",
    "\n",
    "# 显示图形\n",
    "plt.show()\n"
   ],
   "metadata": {
    "collapsed": false,
    "ExecuteTime": {
     "end_time": "2024-10-24T09:42:33.224297Z",
     "start_time": "2024-10-24T09:42:32.801099Z"
    }
   },
   "id": "467d49d9370be2d6",
   "execution_count": 48
  },
  {
   "cell_type": "markdown",
   "source": [
    "## 测试"
   ],
   "metadata": {
    "collapsed": false
   },
   "id": "8e2ec4a4c81dde11"
  },
  {
   "cell_type": "markdown",
   "source": [
    "### 模型测试"
   ],
   "metadata": {
    "collapsed": false
   },
   "id": "ef007ab6e2a569e5"
  },
  {
   "cell_type": "code",
   "outputs": [],
   "source": [
    "classes, counts = get_classes_indexes_counts(y_train)\n",
    "num_class,=len(classes)\n",
    "print(\"原始数据集分类数：\", num_class)\n",
    "print(\"原始数据集各分类数量：\", counts)\n",
    "\n",
    "indices = get_indices(x_best)\n",
    "x_best_sub, y_best_sub, xi = get_sub_dataset(x_best, indices, dataset_x, dataset_y, classes, minimum=10)\n",
    "\n",
    "num_class_x_best, classes_x_best, counts_x_best = get_classes_indexes_counts(y_best_sub)\n",
    "\n",
    "print(\"最优实例子集对应索引：\", indices)\n",
    "print(\"最优实例子集各分类数量：\", counts_x_best)\n",
    "# 模型训练\n",
    "x_train, x_test, y_train, y_test = train_test_split(x_best_sub, y_best_sub, test_size=0.3, random_state=42)\n",
    "clf.fit(x_train, y_train)\n",
    "y_pred = clf.predict(x_test)\n",
    "\n",
    "# 计算准确率\n",
    "accuracy = accuracy_score(y_test, y_pred)\n",
    "print(f'Accuracy: {accuracy:.2f}')\n",
    "# 计算错误率\n",
    "error_rate = 1 - accuracy\n",
    "print(f'Error_rate: {accuracy:.2f}')\n",
    "# 打印分类报告\n",
    "print(\"Classification Report:\")\n",
    "print(classification_report(y_test, y_pred))"
   ],
   "metadata": {
    "collapsed": false
   },
   "id": "c74b09656249e8a9",
   "execution_count": null
  },
  {
   "cell_type": "markdown",
   "source": [
    "### 虚拟数据测试"
   ],
   "metadata": {
    "collapsed": false
   },
   "id": "e8714a0f12fb9af4"
  },
  {
   "cell_type": "code",
   "outputs": [],
   "source": [
    "xx = np.array([\n",
    "    [0.2, 1.2],\n",
    "    [1.3, 2.4],\n",
    "    [2.6, 3.5],\n",
    "    [3.2, 4.2],\n",
    "    [4.3, 5.4],\n",
    "    [5.6, 6.5],\n",
    "    [6.2, 7.2],\n",
    "    [7.3, 8.4],\n",
    "    [8.6, 9.5],\n",
    "    [9.2, 10.2],\n",
    "    [10.3, 2.4],\n",
    "    [11.6, 3.5],\n",
    "    [12.2, 2.2],\n",
    "    [13.3, 2.4],\n",
    "    [14.6, 3.5],\n",
    "    [15.2, 2.2],\n",
    "    [16.3, 2.4],\n",
    "    [17.6, 3.5],\n",
    "    [18.2, 2.2],\n",
    "    [29.3, 2.4],\n",
    "    [20.6, 3.5],\n",
    "    [21.2, 2.2],\n",
    "    [22.3, 2.4],\n",
    "    [23.6, 3.5],\n",
    "\n",
    "])\n",
    "\n",
    "print(xx.shape)\n",
    "yy = np.array([0, 0, 1, 1, 1, 1, 1, 0, 1, 0, 1, 0, 1, 0, 1, 0, 0, 0, 0, 1, 1, 0, 0, 1])\n",
    "print(yy.shape)\n",
    "xi = np.random.rand(24) * (1 - 0) + 0\n",
    "\n",
    "print(\"随机生成的个体：\", xi)\n",
    "\n",
    "indexes = get_indices(xi)\n",
    "\n",
    "print(\"个体对应的实例索引：\", indexes)\n",
    "\n",
    "classes, counts = get_classes_indexes_counts(yy)\n",
    "num_class,=len(classes)\n",
    "print(len(classes))\n",
    "#print(\"类：\",num_class)\n",
    "\n",
    "#print(\"类的数量：\",counts)\n",
    "\n",
    "x_sub, y_sub, xii = get_sub_dataset(xi, indexes, xx, yy, classes, minimum=10)\n",
    "\n",
    "print(\"新的xi：\", xii)\n",
    "\n",
    "print(\"选择的实例子集x：\", x_sub)\n",
    "print(\"选择的实例子集y：\", y_sub)\n",
    "print(\"Over\")"
   ],
   "metadata": {
    "collapsed": false
   },
   "id": "64df693f07277d28",
   "execution_count": null
  },
  {
   "cell_type": "code",
   "outputs": [],
   "source": [
    "import numpy as np\n",
    "\n",
    "# 创建一个升序的一维数组\n",
    "arr = np.array([1, 3, 5, 7, 9])\n",
    "\n",
    "# 要插入的元素\n",
    "value = 10\n",
    "\n",
    "# 查找插入位置，保持升序\n",
    "index = np.searchsorted(arr, value)\n",
    "print(\"索引值：\", index)\n",
    "# 在指定位置插入元素\n",
    "new_arr = np.insert(arr, index, value)\n",
    "\n",
    "print(new_arr)\n"
   ],
   "metadata": {
    "collapsed": false
   },
   "id": "2639fe0defd80ba5",
   "execution_count": null
  }
 ],
 "metadata": {
  "kernelspec": {
   "display_name": "Python 3",
   "language": "python",
   "name": "python3"
  },
  "language_info": {
   "codemirror_mode": {
    "name": "ipython",
    "version": 2
   },
   "file_extension": ".py",
   "mimetype": "text/x-python",
   "name": "python",
   "nbconvert_exporter": "python",
   "pygments_lexer": "ipython2",
   "version": "2.7.6"
  }
 },
 "nbformat": 4,
 "nbformat_minor": 5
}
