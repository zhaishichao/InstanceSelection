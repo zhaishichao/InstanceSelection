{
 "cells": [
  {
   "cell_type": "markdown",
   "source": [
    "## 准备工作"
   ],
   "metadata": {
    "collapsed": false
   },
   "id": "9c573d5cf8b3917"
  },
  {
   "cell_type": "code",
   "outputs": [
    {
     "name": "stdout",
     "output_type": "stream",
     "text": [
      "(4,)\n",
      "(4,)\n"
     ]
    }
   ],
   "source": [
    "import scipy.io as sio  # 从.mat文件中读取数据集\n",
    "import numpy as np\n",
    "from tqdm import tqdm\n",
    "from sklearn.model_selection import train_test_split\n",
    "from sklearn.svm import SVC  # SVC用于分类，SVR用于回归\n",
    "from sklearn.metrics import accuracy_score, classification_report, confusion_matrix\n",
    "from sklearn.preprocessing import StandardScaler\n",
    "from sklearn.pipeline import make_pipeline\n",
    "\n",
    "from differential_evolution.differential_evolution import DifferentialEvolution\n",
    "from utils.dataset_utils import get_classes_indexes_counts"
   ],
   "metadata": {
    "collapsed": false,
    "ExecuteTime": {
     "end_time": "2024-10-25T13:02:46.495975Z",
     "start_time": "2024-10-25T13:02:46.488714Z"
    }
   },
   "id": "3de684fb950cc240",
   "execution_count": 4
  },
  {
   "cell_type": "markdown",
   "source": [
    "### 实值映射到0-1"
   ],
   "metadata": {
    "collapsed": false
   },
   "id": "2063edb4e7398166"
  },
  {
   "cell_type": "code",
   "outputs": [],
   "source": [
    "# 根据种群个体的编码值，获得要选择的实例的索引\n",
    "def get_indices(x):\n",
    "    x = np.round(x)  # 数据范围在0-2之间，转化成int的同时会舍去小数部分，从而将个体映射到0-1编码\n",
    "    indices = np.where(x == 1)  # 1代表选择该实例，返回值是tuple，tuple[0]取元组中的第一个元素\n",
    "    return indices[0]"
   ],
   "metadata": {
    "collapsed": false,
    "ExecuteTime": {
     "end_time": "2024-10-24T11:44:32.625369Z",
     "start_time": "2024-10-24T11:44:32.611797Z"
    }
   },
   "id": "553d628a67d6bb5f",
   "execution_count": 2
  },
  {
   "cell_type": "markdown",
   "source": [
    "### 获取实例子集"
   ],
   "metadata": {
    "collapsed": false
   },
   "id": "ce268e7be9f01166"
  },
  {
   "cell_type": "code",
   "outputs": [],
   "source": [
    "# 根据索引得到要选择的子集：数据和标签\n",
    "# minimum的最大值不能超过数据集中包含的所有类别的最小数量\n",
    "def get_sub_dataset(xi, indices, x, y, classes, minimum):\n",
    "    # 根据索引得到实例子集\n",
    "    num_class=len(classes)\n",
    "    x_sub = x[indices, :]\n",
    "    y_sub = y[indices]\n",
    "\n",
    "    #print(\"实例子集x：\", x_sub)\n",
    "    #print(\"实例子集y：\", y_sub)\n",
    "    # 计算实例子集各个类别的数量\n",
    "    counts_sub = np.zeros(num_class, dtype=int)\n",
    "    for i in range(y_sub.shape[0]):\n",
    "        counts_sub[y_sub[i]] += 1\n",
    "    #print(\"实例子集的数量：\", counts_sub)\n",
    "    # 遍历子集中各个类别的数量，保证大于最小数量\n",
    "    for i in range(num_class):\n",
    "        # 当实例个数小于minimum，随机添加实例达到最小限制\n",
    "        if counts_sub[i] < minimum:\n",
    "            # 转换成集合进行差运算（& | -，分别是交、并、差） unselected_indices是一个set集合\n",
    "            unselected_indices_set = set(classes[i]) - set(indices)\n",
    "            # list(unselected_indices)将集合转换成list\n",
    "            unselected_indices = np.array(list(unselected_indices_set))\n",
    "            # replace=False表示不允许重复\n",
    "            random_selecte_indices = np.random.choice(unselected_indices, size=minimum - counts_sub[i], replace=False)\n",
    "            # 添加后更改个体xi的参数\n",
    "            for j in range(0, minimum - counts_sub[i]):  # 小于minimum，添加实例时，需要同步更改xi个体的实值大小，由小于0.5，改为大于0.5\n",
    "                xi[random_selecte_indices[j]] = np.random.uniform(0.5, 1)  # 生成0.5-1的随机数\n",
    "                index = np.searchsorted(indices, random_selecte_indices[j])\n",
    "                indices = np.insert(indices, index, random_selecte_indices[j])\n",
    "                x_sub = np.insert(x_sub, index, x[random_selecte_indices[j], :], axis=0)\n",
    "                y_sub = np.insert(y_sub, index, y[random_selecte_indices[j]])\n",
    "\n",
    "            #print(f\"类别{i}所要补充的个体数为{minimum - counts_sub[i]},索引为：\", random_selecte_indices)\n",
    "    #print(\"最终的索引为：\", indices)\n",
    "    return x_sub, y_sub, xi"
   ],
   "metadata": {
    "collapsed": false,
    "ExecuteTime": {
     "end_time": "2024-10-24T11:44:32.640731Z",
     "start_time": "2024-10-24T11:44:32.626440Z"
    }
   },
   "id": "41bc3a335c751ad2",
   "execution_count": 3
  },
  {
   "cell_type": "markdown",
   "source": [
    "### 适应度函数"
   ],
   "metadata": {
    "collapsed": false
   },
   "id": "a378dd5dea71b44"
  },
  {
   "cell_type": "code",
   "outputs": [],
   "source": [
    "# 适应度函数/目标函数\n",
    "def objective_function(xi, x_train, y_train, x_test,y_test,model, minimum): # xi表示种群的个体\n",
    "    # 先将x的实值编码四舍五入得到0-1编码，根据编码得到训练子集\n",
    "    indices = get_indices(xi)\n",
    "    classes, counts = get_classes_indexes_counts(y_train)\n",
    "    x_sub, y_sub, xi = get_sub_dataset(xi, indices, x_train, y_train, classes, minimum)\n",
    "\n",
    "    # 模型训练\n",
    "    model.fit(x_sub, y_sub)\n",
    "    y_pred = model.predict(x_test)\n",
    "\n",
    "    # 计算准确率\n",
    "    accuracy = accuracy_score(y_test, y_pred)\n",
    "\n",
    "    # 计算错误率\n",
    "    error_rate = 1 - accuracy\n",
    "    return error_rate\n",
    "\n",
    "\n",
    "# 求适应度\n",
    "def fitness(x, model, x_train, y_train, x_test,y_test,minimum): # x表示种群\n",
    "    result = np.empty(x.shape[0])  # 记录种群中个体的适应度\n",
    "    # 计算每个个体的适应度\n",
    "    for i in range(0, x.shape[0]):\n",
    "        result[i] = objective_function(x[i, :], x_train, y_train, x_test,y_test, model, minimum)\n",
    "    return result"
   ],
   "metadata": {
    "collapsed": false,
    "ExecuteTime": {
     "end_time": "2024-10-24T11:55:13.217269Z",
     "start_time": "2024-10-24T11:55:13.206457Z"
    }
   },
   "id": "b89592fff5036214",
   "execution_count": 9
  },
  {
   "cell_type": "markdown",
   "source": [
    "## 训练阶段"
   ],
   "metadata": {
    "collapsed": false
   },
   "id": "d96cc1391aa4ab38"
  },
  {
   "cell_type": "markdown",
   "source": [
    "### 参数设定"
   ],
   "metadata": {
    "collapsed": false
   },
   "id": "29749ce4a40487cd"
  },
  {
   "cell_type": "code",
   "outputs": [
    {
     "name": "stdout",
     "output_type": "stream",
     "text": [
      "x的形状: (690, 14)\n",
      "y的形状: (690,)\n",
      "每种类别的数量： [383. 307.]\n"
     ]
    }
   ],
   "source": [
    "# 加载数据集\n",
    "# 读取.mat文件\n",
    "mat_data = sio.loadmat('../data/dataset/Australian.mat')\n",
    "#print(mat_data.keys())\n",
    "# 提取变量\n",
    "dataset_x = mat_data['X']\n",
    "dataset_y = mat_data['Y'][:, 0] # mat_data['Y']得到的形状为[n,1]，通过[:,0]，得到形状[n,]\n",
    "# 显示变量信息\n",
    "print(\"x的形状:\", dataset_x.shape)\n",
    "print(\"y的形状:\", dataset_y.shape)\n",
    "# 统计每个类别的个数，dataset_y.max()+1是类别的个数\n",
    "counts = np.zeros(dataset_y.max() + 1)\n",
    "for i in range(dataset_y.shape[0]):\n",
    "    counts[dataset_y[i]] += 1\n",
    "print(\"每种类别的数量：\", counts)\n",
    "\n",
    "# 划分数据集\n",
    "\n",
    "\n",
    "NP = 50  # 个体数目\n",
    "\n",
    "G = 100  # 最大迭代数\n",
    "CR = 0.1  # 交叉算子\n",
    "Threshold = 1e-6  # 阈值\n",
    "F = 0.1  # 变异算子\n",
    "Left = 0  # 左边界\n",
    "Right = 1  # 右边界\n",
    "# 初始化 SVM 分类器\n",
    "# 通过管道将标准化操作和模型相连接\n",
    "clf = make_pipeline(StandardScaler(), SVC(kernel='linear', cache_size=600))  # 'linear' 是线性核，也可以选择 'rbf', 'poly' 等核函数\n"
   ],
   "metadata": {
    "collapsed": false,
    "ExecuteTime": {
     "end_time": "2024-10-24T11:55:15.896855Z",
     "start_time": "2024-10-24T11:55:15.879645Z"
    }
   },
   "id": "b81afec396e5478b",
   "execution_count": 10
  },
  {
   "cell_type": "markdown",
   "source": [
    "### DE算法执行"
   ],
   "metadata": {
    "collapsed": false
   },
   "id": "5a280f36d2155177"
  },
  {
   "cell_type": "code",
   "outputs": [
    {
     "name": "stderr",
     "output_type": "stream",
     "text": [
      "DE: 100%|██████████| 100/100 [00:26<00:00,  3.82it/s, 当前迭代次数=100, 最优个体索引=47, 目标函数最小值=0.092, 当前最高准确率=0.908]\n"
     ]
    },
    {
     "name": "stdout",
     "output_type": "stream",
     "text": [
      "第1次运行的结果：\n",
      "最优准确率： 0.9082125603864735\n",
      "每种类别的数量： [260. 223.]\n",
      "限制的最小数量 74.0\n",
      "最优实例子集各分类数量： [143 109]\n"
     ]
    },
    {
     "name": "stderr",
     "output_type": "stream",
     "text": [
      "DE: 100%|██████████| 100/100 [00:26<00:00,  3.81it/s, 当前迭代次数=100, 最优个体索引=3, 目标函数最小值=0.106, 当前最高准确率=0.894]\n"
     ]
    },
    {
     "name": "stdout",
     "output_type": "stream",
     "text": [
      "第2次运行的结果：\n",
      "最优准确率： 0.893719806763285\n",
      "每种类别的数量： [259. 224.]\n",
      "限制的最小数量 74.0\n",
      "最优实例子集各分类数量： [124  99]\n"
     ]
    },
    {
     "name": "stderr",
     "output_type": "stream",
     "text": [
      "DE: 100%|██████████| 100/100 [00:25<00:00,  3.95it/s, 当前迭代次数=100, 最优个体索引=19, 目标函数最小值=0.111, 当前最高准确率=0.889]\n"
     ]
    },
    {
     "name": "stdout",
     "output_type": "stream",
     "text": [
      "第3次运行的结果：\n",
      "最优准确率： 0.8888888888888888\n",
      "每种类别的数量： [271. 212.]\n",
      "限制的最小数量 70.0\n",
      "最优实例子集各分类数量： [126 106]\n"
     ]
    },
    {
     "name": "stderr",
     "output_type": "stream",
     "text": [
      "DE: 100%|██████████| 100/100 [00:23<00:00,  4.21it/s, 当前迭代次数=100, 最优个体索引=3, 目标函数最小值=0.135, 当前最高准确率=0.865]\n"
     ]
    },
    {
     "name": "stdout",
     "output_type": "stream",
     "text": [
      "第4次运行的结果：\n",
      "最优准确率： 0.8647342995169082\n",
      "每种类别的数量： [271. 212.]\n",
      "限制的最小数量 70.0\n",
      "最优实例子集各分类数量： [132 105]\n"
     ]
    },
    {
     "name": "stderr",
     "output_type": "stream",
     "text": [
      "DE: 100%|██████████| 100/100 [00:23<00:00,  4.24it/s, 当前迭代次数=100, 最优个体索引=15, 目标函数最小值=0.111, 当前最高准确率=0.889]\n"
     ]
    },
    {
     "name": "stdout",
     "output_type": "stream",
     "text": [
      "第5次运行的结果：\n",
      "最优准确率： 0.8888888888888888\n",
      "每种类别的数量： [270. 213.]\n",
      "限制的最小数量 71.0\n",
      "最优实例子集各分类数量： [134  97]\n"
     ]
    },
    {
     "name": "stderr",
     "output_type": "stream",
     "text": [
      "DE: 100%|██████████| 100/100 [00:25<00:00,  3.97it/s, 当前迭代次数=100, 最优个体索引=9, 目标函数最小值=0.121, 当前最高准确率=0.879]\n"
     ]
    },
    {
     "name": "stdout",
     "output_type": "stream",
     "text": [
      "第6次运行的结果：\n",
      "最优准确率： 0.8792270531400966\n",
      "每种类别的数量： [262. 221.]\n",
      "限制的最小数量 73.0\n",
      "最优实例子集各分类数量： [144 104]\n"
     ]
    },
    {
     "name": "stderr",
     "output_type": "stream",
     "text": [
      "DE: 100%|██████████| 100/100 [00:25<00:00,  3.97it/s, 当前迭代次数=100, 最优个体索引=4, 目标函数最小值=0.13, 当前最高准确率=0.87]\n"
     ]
    },
    {
     "name": "stdout",
     "output_type": "stream",
     "text": [
      "第7次运行的结果：\n",
      "最优准确率： 0.8695652173913043\n",
      "每种类别的数量： [271. 212.]\n",
      "限制的最小数量 70.0\n",
      "最优实例子集各分类数量： [146  97]\n"
     ]
    },
    {
     "name": "stderr",
     "output_type": "stream",
     "text": [
      "DE: 100%|██████████| 100/100 [00:25<00:00,  3.96it/s, 当前迭代次数=100, 最优个体索引=6, 目标函数最小值=0.087, 当前最高准确率=0.913]\n"
     ]
    },
    {
     "name": "stdout",
     "output_type": "stream",
     "text": [
      "第8次运行的结果：\n",
      "最优准确率： 0.9130434782608695\n",
      "每种类别的数量： [268. 215.]\n",
      "限制的最小数量 71.0\n",
      "最优实例子集各分类数量： [123  99]\n"
     ]
    },
    {
     "name": "stderr",
     "output_type": "stream",
     "text": [
      "DE: 100%|██████████| 100/100 [00:26<00:00,  3.83it/s, 当前迭代次数=100, 最优个体索引=4, 目标函数最小值=0.097, 当前最高准确率=0.903]\n"
     ]
    },
    {
     "name": "stdout",
     "output_type": "stream",
     "text": [
      "第9次运行的结果：\n",
      "最优准确率： 0.9033816425120773\n",
      "每种类别的数量： [264. 219.]\n",
      "限制的最小数量 73.0\n",
      "最优实例子集各分类数量： [138 112]\n"
     ]
    },
    {
     "name": "stderr",
     "output_type": "stream",
     "text": [
      "DE: 100%|██████████| 100/100 [00:25<00:00,  3.96it/s, 当前迭代次数=100, 最优个体索引=16, 目标函数最小值=0.116, 当前最高准确率=0.884]\n"
     ]
    },
    {
     "name": "stdout",
     "output_type": "stream",
     "text": [
      "第10次运行的结果：\n",
      "最优准确率： 0.8840579710144928\n",
      "每种类别的数量： [263. 220.]\n",
      "限制的最小数量 73.0\n",
      "最优实例子集各分类数量： [143 104]\n"
     ]
    },
    {
     "name": "stderr",
     "output_type": "stream",
     "text": [
      "DE: 100%|██████████| 100/100 [00:27<00:00,  3.65it/s, 当前迭代次数=100, 最优个体索引=46, 目标函数最小值=0.068, 当前最高准确率=0.932]\n"
     ]
    },
    {
     "name": "stdout",
     "output_type": "stream",
     "text": [
      "第11次运行的结果：\n",
      "最优准确率： 0.9323671497584541\n",
      "每种类别的数量： [264. 219.]\n",
      "限制的最小数量 73.0\n",
      "最优实例子集各分类数量： [120 104]\n"
     ]
    },
    {
     "name": "stderr",
     "output_type": "stream",
     "text": [
      "DE: 100%|██████████| 100/100 [00:28<00:00,  3.51it/s, 当前迭代次数=100, 最优个体索引=7, 目标函数最小值=0.101, 当前最高准确率=0.899]\n"
     ]
    },
    {
     "name": "stdout",
     "output_type": "stream",
     "text": [
      "第12次运行的结果：\n",
      "最优准确率： 0.8985507246376812\n",
      "每种类别的数量： [263. 220.]\n",
      "限制的最小数量 73.0\n",
      "最优实例子集各分类数量： [127 113]\n"
     ]
    },
    {
     "name": "stderr",
     "output_type": "stream",
     "text": [
      "DE: 100%|██████████| 100/100 [00:26<00:00,  3.75it/s, 当前迭代次数=100, 最优个体索引=11, 目标函数最小值=0.101, 当前最高准确率=0.899]\n"
     ]
    },
    {
     "name": "stdout",
     "output_type": "stream",
     "text": [
      "第13次运行的结果：\n",
      "最优准确率： 0.8985507246376812\n",
      "每种类别的数量： [268. 215.]\n",
      "限制的最小数量 71.0\n",
      "最优实例子集各分类数量： [141 100]\n"
     ]
    },
    {
     "name": "stderr",
     "output_type": "stream",
     "text": [
      "DE: 100%|██████████| 100/100 [00:25<00:00,  3.92it/s, 当前迭代次数=100, 最优个体索引=4, 目标函数最小值=0.097, 当前最高准确率=0.903]\n"
     ]
    },
    {
     "name": "stdout",
     "output_type": "stream",
     "text": [
      "第14次运行的结果：\n",
      "最优准确率： 0.9033816425120773\n",
      "每种类别的数量： [259. 224.]\n",
      "限制的最小数量 74.0\n",
      "最优实例子集各分类数量： [119 108]\n"
     ]
    },
    {
     "name": "stderr",
     "output_type": "stream",
     "text": [
      "DE: 100%|██████████| 100/100 [00:27<00:00,  3.62it/s, 当前迭代次数=100, 最优个体索引=20, 目标函数最小值=0.097, 当前最高准确率=0.903]\n"
     ]
    },
    {
     "name": "stdout",
     "output_type": "stream",
     "text": [
      "第15次运行的结果：\n",
      "最优准确率： 0.9033816425120773\n",
      "每种类别的数量： [265. 218.]\n",
      "限制的最小数量 72.0\n",
      "最优实例子集各分类数量： [123 106]\n"
     ]
    },
    {
     "name": "stderr",
     "output_type": "stream",
     "text": [
      "DE: 100%|██████████| 100/100 [00:23<00:00,  4.19it/s, 当前迭代次数=100, 最优个体索引=17, 目标函数最小值=0.092, 当前最高准确率=0.908]\n"
     ]
    },
    {
     "name": "stdout",
     "output_type": "stream",
     "text": [
      "第16次运行的结果：\n",
      "最优准确率： 0.9082125603864735\n",
      "每种类别的数量： [266. 217.]\n",
      "限制的最小数量 72.0\n",
      "最优实例子集各分类数量： [141  94]\n"
     ]
    },
    {
     "name": "stderr",
     "output_type": "stream",
     "text": [
      "DE: 100%|██████████| 100/100 [00:29<00:00,  3.39it/s, 当前迭代次数=100, 最优个体索引=33, 目标函数最小值=0.063, 当前最高准确率=0.937]\n"
     ]
    },
    {
     "name": "stdout",
     "output_type": "stream",
     "text": [
      "第17次运行的结果：\n",
      "最优准确率： 0.9371980676328503\n",
      "每种类别的数量： [264. 219.]\n",
      "限制的最小数量 73.0\n",
      "最优实例子集各分类数量： [147 117]\n"
     ]
    },
    {
     "name": "stderr",
     "output_type": "stream",
     "text": [
      "DE: 100%|██████████| 100/100 [00:23<00:00,  4.17it/s, 当前迭代次数=100, 最优个体索引=22, 目标函数最小值=0.111, 当前最高准确率=0.889]\n"
     ]
    },
    {
     "name": "stdout",
     "output_type": "stream",
     "text": [
      "第18次运行的结果：\n",
      "最优准确率： 0.8888888888888888\n",
      "每种类别的数量： [262. 221.]\n",
      "限制的最小数量 73.0\n",
      "最优实例子集各分类数量： [135 126]\n"
     ]
    },
    {
     "name": "stderr",
     "output_type": "stream",
     "text": [
      "DE: 100%|██████████| 100/100 [00:26<00:00,  3.78it/s, 当前迭代次数=100, 最优个体索引=17, 目标函数最小值=0.101, 当前最高准确率=0.899]\n"
     ]
    },
    {
     "name": "stdout",
     "output_type": "stream",
     "text": [
      "第19次运行的结果：\n",
      "最优准确率： 0.8985507246376812\n",
      "每种类别的数量： [268. 215.]\n",
      "限制的最小数量 71.0\n",
      "最优实例子集各分类数量： [135 107]\n"
     ]
    },
    {
     "name": "stderr",
     "output_type": "stream",
     "text": [
      "DE: 100%|██████████| 100/100 [00:25<00:00,  3.87it/s, 当前迭代次数=100, 最优个体索引=2, 目标函数最小值=0.087, 当前最高准确率=0.913]\n"
     ]
    },
    {
     "name": "stdout",
     "output_type": "stream",
     "text": [
      "第20次运行的结果：\n",
      "最优准确率： 0.9130434782608695\n",
      "每种类别的数量： [276. 207.]\n",
      "限制的最小数量 69.0\n",
      "最优实例子集各分类数量： [136 104]\n"
     ]
    },
    {
     "name": "stderr",
     "output_type": "stream",
     "text": [
      "DE: 100%|██████████| 100/100 [00:26<00:00,  3.85it/s, 当前迭代次数=100, 最优个体索引=29, 目标函数最小值=0.097, 当前最高准确率=0.903]\n"
     ]
    },
    {
     "name": "stdout",
     "output_type": "stream",
     "text": [
      "第21次运行的结果：\n",
      "最优准确率： 0.9033816425120773\n",
      "每种类别的数量： [267. 216.]\n",
      "限制的最小数量 72.0\n",
      "最优实例子集各分类数量： [144 113]\n"
     ]
    },
    {
     "name": "stderr",
     "output_type": "stream",
     "text": [
      "DE: 100%|██████████| 100/100 [00:24<00:00,  4.14it/s, 当前迭代次数=100, 最优个体索引=9, 目标函数最小值=0.097, 当前最高准确率=0.903]\n"
     ]
    },
    {
     "name": "stdout",
     "output_type": "stream",
     "text": [
      "第22次运行的结果：\n",
      "最优准确率： 0.9033816425120773\n",
      "每种类别的数量： [268. 215.]\n",
      "限制的最小数量 71.0\n",
      "最优实例子集各分类数量： [131  99]\n"
     ]
    },
    {
     "name": "stderr",
     "output_type": "stream",
     "text": [
      "DE: 100%|██████████| 100/100 [00:25<00:00,  3.91it/s, 当前迭代次数=100, 最优个体索引=24, 目标函数最小值=0.068, 当前最高准确率=0.932]\n"
     ]
    },
    {
     "name": "stdout",
     "output_type": "stream",
     "text": [
      "第23次运行的结果：\n",
      "最优准确率： 0.9323671497584541\n",
      "每种类别的数量： [268. 215.]\n",
      "限制的最小数量 71.0\n",
      "最优实例子集各分类数量： [135  99]\n"
     ]
    },
    {
     "name": "stderr",
     "output_type": "stream",
     "text": [
      "DE: 100%|██████████| 100/100 [00:24<00:00,  4.16it/s, 当前迭代次数=100, 最优个体索引=48, 目标函数最小值=0.111, 当前最高准确率=0.889]\n"
     ]
    },
    {
     "name": "stdout",
     "output_type": "stream",
     "text": [
      "第24次运行的结果：\n",
      "最优准确率： 0.8888888888888888\n",
      "每种类别的数量： [274. 209.]\n",
      "限制的最小数量 69.0\n",
      "最优实例子集各分类数量： [125  99]\n"
     ]
    },
    {
     "name": "stderr",
     "output_type": "stream",
     "text": [
      "DE: 100%|██████████| 100/100 [00:25<00:00,  3.93it/s, 当前迭代次数=100, 最优个体索引=11, 目标函数最小值=0.106, 当前最高准确率=0.894]\n"
     ]
    },
    {
     "name": "stdout",
     "output_type": "stream",
     "text": [
      "第25次运行的结果：\n",
      "最优准确率： 0.893719806763285\n",
      "每种类别的数量： [268. 215.]\n",
      "限制的最小数量 71.0\n",
      "最优实例子集各分类数量： [125 105]\n"
     ]
    },
    {
     "name": "stderr",
     "output_type": "stream",
     "text": [
      "DE: 100%|██████████| 100/100 [00:26<00:00,  3.77it/s, 当前迭代次数=100, 最优个体索引=23, 目标函数最小值=0.121, 当前最高准确率=0.879]\n"
     ]
    },
    {
     "name": "stdout",
     "output_type": "stream",
     "text": [
      "第26次运行的结果：\n",
      "最优准确率： 0.8792270531400966\n",
      "每种类别的数量： [260. 223.]\n",
      "限制的最小数量 74.0\n",
      "最优实例子集各分类数量： [133 115]\n"
     ]
    },
    {
     "name": "stderr",
     "output_type": "stream",
     "text": [
      "DE: 100%|██████████| 100/100 [00:38<00:00,  2.61it/s, 当前迭代次数=100, 最优个体索引=1, 目标函数最小值=0.097, 当前最高准确率=0.903]\n"
     ]
    },
    {
     "name": "stdout",
     "output_type": "stream",
     "text": [
      "第27次运行的结果：\n",
      "最优准确率： 0.9033816425120773\n",
      "每种类别的数量： [268. 215.]\n",
      "限制的最小数量 71.0\n",
      "最优实例子集各分类数量： [132 102]\n"
     ]
    },
    {
     "name": "stderr",
     "output_type": "stream",
     "text": [
      "DE: 100%|██████████| 100/100 [00:35<00:00,  2.78it/s, 当前迭代次数=100, 最优个体索引=0, 目标函数最小值=0.126, 当前最高准确率=0.874]\n"
     ]
    },
    {
     "name": "stdout",
     "output_type": "stream",
     "text": [
      "第28次运行的结果：\n",
      "最优准确率： 0.8743961352657005\n",
      "每种类别的数量： [271. 212.]\n",
      "限制的最小数量 70.0\n",
      "最优实例子集各分类数量： [146 100]\n"
     ]
    },
    {
     "name": "stderr",
     "output_type": "stream",
     "text": [
      "DE: 100%|██████████| 100/100 [00:35<00:00,  2.78it/s, 当前迭代次数=100, 最优个体索引=3, 目标函数最小值=0.135, 当前最高准确率=0.865]\n"
     ]
    },
    {
     "name": "stdout",
     "output_type": "stream",
     "text": [
      "第29次运行的结果：\n",
      "最优准确率： 0.8647342995169082\n",
      "每种类别的数量： [271. 212.]\n",
      "限制的最小数量 70.0\n",
      "最优实例子集各分类数量： [137 103]\n"
     ]
    },
    {
     "name": "stderr",
     "output_type": "stream",
     "text": [
      "DE: 100%|██████████| 100/100 [00:39<00:00,  2.54it/s, 当前迭代次数=100, 最优个体索引=35, 目标函数最小值=0.116, 当前最高准确率=0.884]"
     ]
    },
    {
     "name": "stdout",
     "output_type": "stream",
     "text": [
      "第30次运行的结果：\n",
      "最优准确率： 0.8840579710144928\n",
      "每种类别的数量： [271. 212.]\n",
      "限制的最小数量 70.0\n",
      "最优实例子集各分类数量： [142 118]\n",
      "平均准确率： 0.8967793880837359\n",
      "Over\n"
     ]
    },
    {
     "name": "stderr",
     "output_type": "stream",
     "text": [
      "\n"
     ]
    }
   ],
   "source": [
    "num_run = 30\n",
    "# 记录最好的准确率\n",
    "accuracy_best = np.empty(num_run)\n",
    "\n",
    "\n",
    "per_generation_optimal_value = np.zeros(G)\n",
    "for j in range(num_run):\n",
    "    x_train, x_test, y_train, y_test = train_test_split(dataset_x, dataset_y, test_size=0.3, random_state=np.random.randint(num_run))\n",
    "    D = y_train.shape[0]  # 目标函数中变量的个数\n",
    "\n",
    "    de = DifferentialEvolution(NP, D, G, CR, Threshold, F, Left, Right)\n",
    "    counts_train = np.zeros(y_train.max() + 1)\n",
    "    for i in range(y_train.shape[0]):\n",
    "        counts_train[y_train[i]] += 1\n",
    "    #print(\"每种类别的数量：\", counts_train)\n",
    "\n",
    "    minimum=np.min(counts_train) // 3\n",
    "    #print(minimum)\n",
    "    \n",
    "    # 记录最好的个体\n",
    "    x_bests = np.empty((num_run, D))\n",
    "    # 记录进化迭代的过程\n",
    "    number_generations = G\n",
    "    \n",
    "    x = np.random.rand(NP, D) * (Right - Left) + Left  # 在[Left,Right]之间产生随机数\n",
    "    x_best = np.empty(D)\n",
    "\n",
    "    x_fitness = fitness(x, clf, x_train, y_train, x_test,y_test,minimum)\n",
    "\n",
    "    with tqdm(total=G, desc=\"DE\") as pbar:\n",
    "        for i in range(0, G):\n",
    "            #v=variation(x,F) # 变异\n",
    "            v = de.variation_optimize(x)  # 变异的优化\n",
    "            c = de.cross(x, v)  # 交叉\n",
    "\n",
    "            c = de.boundary_process(c)  # 若超出边界则重新生成\n",
    "\n",
    "            c_fitness = fitness(c, clf, x_train, y_train,x_test,y_test, minimum)  # 对新的试验种群求适应度\n",
    "            for m in range(0, x.shape[0]):\n",
    "                if c_fitness[m] < x_fitness[m]:  # 贪婪地选择当前最优个体\n",
    "                    x[m, :] = c[m, :]\n",
    "                    x_fitness[m] = c_fitness[m]\n",
    "            index = np.argmin(x_fitness)  # 记录最优个体索引\n",
    "            per_generation_optimal_value[i] = x_fitness[index]  # 记录最优适应度\n",
    "            x_best = x[index, :]\n",
    "            x_bests[j] = x_best\n",
    "            accuracy_best[j] = 1 - x_fitness[index]\n",
    "            # 动态更新进度条信息\n",
    "            pbar.set_postfix({\n",
    "                \"当前迭代次数\": i + 1,\n",
    "                \"最优个体索引\": index,\n",
    "                \"目标函数最小值\": round(x_fitness[index], 3),\n",
    "                \"当前最高准确率\": round(1 - x_fitness[index], 3)\n",
    "            })\n",
    "            # 更新进度条\n",
    "            pbar.update(1)\n",
    "    print(f\"第{j + 1}次运行的结果：\")\n",
    "    print(\"最优准确率：\", accuracy_best[j])\n",
    "    print(\"每种类别的数量：\", counts_train)\n",
    "    print(\"限制的最小数量\",minimum)\n",
    "    #print(\"最优个体：\", np.round(x_best))\n",
    "    #print(\"最优个体：\",get_indices(x_best))\n",
    "    classes, counts = get_classes_indexes_counts(y_train)\n",
    "    x_best_sub, y_best_sub, xi = get_sub_dataset(x_best, get_indices(x_best), x_train, y_train, classes,\n",
    "                                                 minimum)\n",
    "\n",
    "    classes_x_best, counts_x_best = get_classes_indexes_counts(y_best_sub)\n",
    "    print(\"最优实例子集各分类数量：\", counts_x_best)\n",
    "print(\"平均准确率：\", accuracy_best.mean())\n",
    "print(\"Over\")"
   ],
   "metadata": {
    "collapsed": false,
    "ExecuteTime": {
     "end_time": "2024-10-24T12:13:47.440717Z",
     "start_time": "2024-10-24T12:00:02.117776Z"
    }
   },
   "id": "94e3d92e1ed79789",
   "execution_count": 13
  },
  {
   "cell_type": "markdown",
   "source": [
    "### 绘图"
   ],
   "metadata": {
    "collapsed": false
   },
   "id": "1860d0a62273a21d"
  },
  {
   "cell_type": "code",
   "outputs": [
    {
     "data": {
      "text/plain": "<Figure size 640x480 with 1 Axes>",
      "image/png": "[encoded data removed]"
     },
     "metadata": {},
     "output_type": "display_data"
    }
   ],
   "source": [
    "import matplotlib.pyplot as plt\n",
    "\n",
    "# 设置可显示中文宋体\n",
    "plt.rcParams['font.family'] = 'STZhongsong'\n",
    "# 生成 x 轴数据：0 到 G，间隔为 1\n",
    "x = np.arange(0, number_generations, 1)\n",
    "\n",
    "# 生成 y 轴数据：每次迭代的最优值\n",
    "y = per_generation_optimal_value\n",
    "\n",
    "# 绘制折线图\n",
    "plt.plot(x, y)\n",
    "\n",
    "# 设置标题和坐标轴标签\n",
    "plt.title(\"差分进化曲线\")\n",
    "plt.xlabel(\"种群进化的次数\")\n",
    "plt.ylabel(\"目标函数的最优值\")\n",
    "\n",
    "# 显示图形\n",
    "plt.show()\n"
   ],
   "metadata": {
    "collapsed": false,
    "ExecuteTime": {
     "end_time": "2024-10-24T10:34:09.650549Z",
     "start_time": "2024-10-24T10:34:07.939987Z"
    }
   },
   "id": "467d49d9370be2d6",
   "execution_count": 8
  },
  {
   "cell_type": "markdown",
   "source": [
    "## 测试"
   ],
   "metadata": {
    "collapsed": false
   },
   "id": "8e2ec4a4c81dde11"
  },
  {
   "cell_type": "markdown",
   "source": [
    "### 模型测试"
   ],
   "metadata": {
    "collapsed": false
   },
   "id": "ef007ab6e2a569e5"
  },
  {
   "cell_type": "code",
   "outputs": [],
   "source": [
    "classes, counts = get_classes_indexes_counts(y_train)\n",
    "num_class,=len(classes)\n",
    "print(\"原始数据集分类数：\", num_class)\n",
    "print(\"原始数据集各分类数量：\", counts)\n",
    "\n",
    "indices = get_indices(x_best)\n",
    "x_best_sub, y_best_sub, xi = get_sub_dataset(x_best, indices, dataset_x, dataset_y, classes, minimum=10)\n",
    "\n",
    "num_class_x_best, classes_x_best, counts_x_best = get_classes_indexes_counts(y_best_sub)\n",
    "\n",
    "print(\"最优实例子集对应索引：\", indices)\n",
    "print(\"最优实例子集各分类数量：\", counts_x_best)\n",
    "# 模型训练\n",
    "x_train, x_test, y_train, y_test = train_test_split(x_best_sub, y_best_sub, test_size=0.3, random_state=42)\n",
    "clf.fit(x_train, y_train)\n",
    "y_pred = clf.predict(x_test)\n",
    "\n",
    "# 计算准确率\n",
    "accuracy = accuracy_score(y_test, y_pred)\n",
    "print(f'Accuracy: {accuracy:.2f}')\n",
    "# 计算错误率\n",
    "error_rate = 1 - accuracy\n",
    "print(f'Error_rate: {accuracy:.2f}')\n",
    "# 打印分类报告\n",
    "print(\"Classification Report:\")\n",
    "print(classification_report(y_test, y_pred))"
   ],
   "metadata": {
    "collapsed": false
   },
   "id": "c74b09656249e8a9",
   "execution_count": null
  },
  {
   "cell_type": "markdown",
   "source": [
    "### 虚拟数据测试"
   ],
   "metadata": {
    "collapsed": false
   },
   "id": "e8714a0f12fb9af4"
  },
  {
   "cell_type": "code",
   "outputs": [],
   "source": [
    "xx = np.array([\n",
    "    [0.2, 1.2],\n",
    "    [1.3, 2.4],\n",
    "    [2.6, 3.5],\n",
    "    [3.2, 4.2],\n",
    "    [4.3, 5.4],\n",
    "    [5.6, 6.5],\n",
    "    [6.2, 7.2],\n",
    "    [7.3, 8.4],\n",
    "    [8.6, 9.5],\n",
    "    [9.2, 10.2],\n",
    "    [10.3, 2.4],\n",
    "    [11.6, 3.5],\n",
    "    [12.2, 2.2],\n",
    "    [13.3, 2.4],\n",
    "    [14.6, 3.5],\n",
    "    [15.2, 2.2],\n",
    "    [16.3, 2.4],\n",
    "    [17.6, 3.5],\n",
    "    [18.2, 2.2],\n",
    "    [29.3, 2.4],\n",
    "    [20.6, 3.5],\n",
    "    [21.2, 2.2],\n",
    "    [22.3, 2.4],\n",
    "    [23.6, 3.5],\n",
    "\n",
    "])\n",
    "\n",
    "print(xx.shape)\n",
    "yy = np.array([0, 0, 1, 1, 1, 1, 1, 0, 1, 0, 1, 0, 1, 0, 1, 0, 0, 0, 0, 1, 1, 0, 0, 1])\n",
    "print(yy.shape)\n",
    "xi = np.random.rand(24) * (1 - 0) + 0\n",
    "\n",
    "print(\"随机生成的个体：\", xi)\n",
    "\n",
    "indexes = get_indices(xi)\n",
    "\n",
    "print(\"个体对应的实例索引：\", indexes)\n",
    "\n",
    "classes, counts = get_classes_indexes_counts(yy)\n",
    "num_class,=len(classes)\n",
    "print(len(classes))\n",
    "#print(\"类：\",num_class)\n",
    "\n",
    "#print(\"类的数量：\",counts)\n",
    "\n",
    "x_sub, y_sub, xii = get_sub_dataset(xi, indexes, xx, yy, classes, minimum=10)\n",
    "\n",
    "print(\"新的xi：\", xii)\n",
    "\n",
    "print(\"选择的实例子集x：\", x_sub)\n",
    "print(\"选择的实例子集y：\", y_sub)\n",
    "print(\"Over\")"
   ],
   "metadata": {
    "collapsed": false
   },
   "id": "64df693f07277d28",
   "execution_count": null
  },
  {
   "cell_type": "code",
   "outputs": [],
   "source": [
    "import numpy as np\n",
    "\n",
    "# 创建一个升序的一维数组\n",
    "arr = np.array([1, 3, 5, 7, 9])\n",
    "\n",
    "# 要插入的元素\n",
    "value = 10\n",
    "\n",
    "# 查找插入位置，保持升序\n",
    "index = np.searchsorted(arr, value)\n",
    "print(\"索引值：\", index)\n",
    "# 在指定位置插入元素\n",
    "new_arr = np.insert(arr, index, value)\n",
    "\n",
    "print(new_arr)\n"
   ],
   "metadata": {
    "collapsed": false
   },
   "id": "2639fe0defd80ba5",
   "execution_count": null
  }
 ],
 "metadata": {
  "kernelspec": {
   "display_name": "Python 3",
   "language": "python",
   "name": "python3"
  },
  "language_info": {
   "codemirror_mode": {
    "name": "ipython",
    "version": 2
   },
   "file_extension": ".py",
   "mimetype": "text/x-python",
   "name": "python",
   "nbconvert_exporter": "python",
   "pygments_lexer": "ipython2",
   "version": "2.7.6"
  }
 },
 "nbformat": 4,
 "nbformat_minor": 5
}
