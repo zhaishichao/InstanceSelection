{
 "cells": [
  {
   "cell_type": "markdown",
   "source": [
    "### 导包"
   ],
   "metadata": {
    "collapsed": false
   },
   "id": "623496c07b89e62b"
  },
  {
   "cell_type": "code",
   "outputs": [],
   "source": [
    "import scipy.io as sio  # 从.mat文件中读取数据集\n",
    "import numpy as np\n",
    "from tqdm import tqdm\n",
    "from differential_evolution.DifferentialEvolution import DifferentialEvolution\n",
    "from sklearn.model_selection import train_test_split\n",
    "from sklearn.svm import SVC  # SVC用于分类，SVR用于回归\n",
    "from sklearn.metrics import accuracy_score, classification_report, confusion_matrix\n",
    "from sklearn.preprocessing import StandardScaler\n",
    "from sklearn.pipeline import make_pipeline"
   ],
   "metadata": {
    "collapsed": false,
    "ExecuteTime": {
     "end_time": "2024-10-21T13:24:24.451025Z",
     "start_time": "2024-10-21T13:24:24.396025Z"
    }
   },
   "id": "3de684fb950cc240",
   "execution_count": 3
  },
  {
   "cell_type": "markdown",
   "source": [
    "### 加载数据集"
   ],
   "metadata": {
    "collapsed": false
   },
   "id": "a94c860646823cdb"
  },
  {
   "cell_type": "code",
   "outputs": [
    {
     "name": "stdout",
     "output_type": "stream",
     "text": [
      "dict_keys(['__header__', '__version__', '__globals__', 'X', 'Y'])\n",
      "x的形状: (690, 14)\n",
      "y的数据类型: (690,)\n",
      "每种类别的数量： [383. 307.]\n"
     ]
    }
   ],
   "source": [
    "# 读取.mat文件\n",
    "mat_data = sio.loadmat('../data/dataset/Australian.mat')\n",
    "print(mat_data.keys())\n",
    "# 提取变量\n",
    "x = mat_data['X']\n",
    "y = mat_data['Y']\n",
    "y = y[:, 0]\n",
    "# 显示变量信息\n",
    "print(\"x的形状:\", x.shape)\n",
    "print(\"y的数据类型:\", y.shape)\n",
    "\n",
    "# 统计每个类别的个数，y.max()+1是类别的个数\n",
    "counts = np.zeros(y.max() + 1)\n",
    "for i in range(y.shape[0]):\n",
    "    counts[y[i]] += 1\n",
    "print(\"每种类别的数量：\", counts)"
   ],
   "metadata": {
    "collapsed": false,
    "ExecuteTime": {
     "end_time": "2024-10-21T14:13:00.232963Z",
     "start_time": "2024-10-21T14:13:00.224268Z"
    }
   },
   "id": "b81afec396e5478b",
   "execution_count": 75
  },
  {
   "cell_type": "code",
   "execution_count": 76,
   "id": "initial_id",
   "metadata": {
    "collapsed": true,
    "ExecuteTime": {
     "end_time": "2024-10-21T14:13:01.569731Z",
     "start_time": "2024-10-21T14:13:01.558405Z"
    }
   },
   "outputs": [],
   "source": [
    "NP = 50  # 个体数目\n",
    "D = y.shape[0]  # 目标函数中变量的个数\n",
    "G = 100  # 最大迭代数\n",
    "CR = 0.1  # 交叉算子\n",
    "Threshold = 1e-6  # 阈值\n",
    "F = 0.5  # 变异算子\n",
    "Left = 0  # 左边界\n",
    "Right = 2  # 右边界"
   ]
  },
  {
   "cell_type": "markdown",
   "source": [
    "### 适应度函数"
   ],
   "metadata": {
    "collapsed": false
   },
   "id": "8e2ec4a4c81dde11"
  },
  {
   "cell_type": "code",
   "outputs": [
    {
     "name": "stdout",
     "output_type": "stream",
     "text": [
      "(326, 1)\n",
      "(326, 14)\n",
      "(326,)\n"
     ]
    }
   ],
   "source": [
    "init_population = np.random.rand(NP, D) * (Right - Left) + Left  # 在[Left,Right]之间产生随机数\n",
    "\n",
    "\n",
    "# 根据种群个体的编码值，获得要选择的实例的索引\n",
    "def get_indices(x):\n",
    "    x = x.astype(int)  #数据范围在0-2之间，转化成int的同时会舍去小数部分，从而将个体映射到0-1编码\n",
    "    max_indices = np.argwhere(x == 1)\n",
    "    return max_indices\n",
    "\n",
    "\n",
    "# 根据索引得到要选择的子集：数据和标签\n",
    "def get_sub_dataset(indices, x, y):\n",
    "    lenth = len(indices)\n",
    "    x_sub = np.empty((lenth, x.shape[1]))\n",
    "    y_sub = np.empty(lenth)\n",
    "\n",
    "    for i in range(lenth):\n",
    "        x_sub[i, :] = x[indices[i], :]\n",
    "        y_sub[i] = y[indices[i]]\n",
    "    return x_sub, y_sub\n",
    "\n",
    "\n",
    "# 最小的实例选择的数量\n",
    "def minimum_quantity_limit(x_sub=None,y_sub=None,minimum=10):\n",
    "    # 统计每个类别的个数，y.max()+1是类别的个数\n",
    "    counts = np.zeros(y.max() + 1)\n",
    "    for i in range(y.shape[0]):\n",
    "        counts[y[i]] += 1\n",
    "    while 1==1:\n",
    "        for i in range(counts.shape[0]):\n",
    "            if counts[i] < minimum:\n",
    "                for j in range(minimum-counts[i]):\n",
    "                    \n",
    "\n",
    "\n",
    "indices = get_indices(init_population[0, :])\n",
    "print(indices.shape)\n",
    "\n",
    "x_sub, y_sub = get_sub_dataset(indices, x, y)\n",
    "\n",
    "print(x_sub.shape)\n",
    "print(y_sub.shape)\n",
    "\n"
   ],
   "metadata": {
    "collapsed": false,
    "ExecuteTime": {
     "end_time": "2024-10-21T14:26:01.811366Z",
     "start_time": "2024-10-21T14:26:01.794914Z"
    }
   },
   "id": "fbd6ac0b9c2c8eb2",
   "execution_count": 81
  },
  {
   "cell_type": "code",
   "outputs": [],
   "source": [
    "# 适应度函数/目标函数\n",
    "def function(x, ):\n",
    "    # 先将x的实值编码四舍五入得到0-1编码，根据编码得到训练子集\n",
    "\n",
    "    return sum(x ** 2)\n",
    "\n",
    "\n",
    "# 求适应度\n",
    "def fitness(x):\n",
    "    result = np.empty(x.shape[1])  # 记录种群中个体的适应度\n",
    "    # 计算每个个体的适应度\n",
    "    for i in range(0, x.shape[1]):\n",
    "        result[i] = function(x[:, i])\n",
    "    return result"
   ],
   "metadata": {
    "collapsed": false
   },
   "id": "87ec02b587e37a4e",
   "execution_count": null
  },
  {
   "cell_type": "code",
   "outputs": [],
   "source": [
    "\n",
    "x = np.random.rand(D, NP) * (Right - Left) + Left  # 在[Left,Right]之间产生随机数\n",
    "\n",
    "# 记录进化迭代的过程\n",
    "number_generations = G\n",
    "per_generation_optimal_value = np.zeros(G)\n",
    "\n",
    "x_fitness = fitness(x)\n",
    "\n",
    "de = DifferentialEvolution(NP, D, G, CR, Threshold, F, Left, Right)\n",
    "\n",
    "with tqdm(total=G, desc=\"DE\") as pbar:\n",
    "    for i in range(0, G):\n",
    "        #v=variation(x,F) # 变异\n",
    "        v = de.variation_optimize(x)  # 变异的优化\n",
    "        c = de.cross(x, v)  # 交叉\n",
    "\n",
    "        c = de.boundary_process(c)  # 若超出边界则重新生成\n",
    "\n",
    "        c_fitness = fitness(c)  # 对新的试验种群求适应度\n",
    "        for m in range(0, x.shape[1]):\n",
    "            if c_fitness[m] < x_fitness[m]:  # 贪婪地选择当前最优个体\n",
    "                x[:, m] = c[:, m]\n",
    "                x_fitness[m] = c_fitness[m]\n",
    "        index = np.argmin(x_fitness)  # 记录最优个体索引\n",
    "        per_generation_optimal_value[i] = x_fitness[index]  # 记录最优适应度\n",
    "        # 动态更新进度条信息\n",
    "        pbar.set_postfix({\n",
    "            \"当前迭代次数\": i + 1,\n",
    "            \"最优个体索引\": index,\n",
    "            \"目标函数最小值\": x_fitness[index]\n",
    "        })\n",
    "        # 更新进度条\n",
    "        pbar.update(1) "
   ],
   "metadata": {
    "collapsed": false
   },
   "id": "1fa46e74a7af403",
   "execution_count": null
  }
 ],
 "metadata": {
  "kernelspec": {
   "display_name": "Python 3",
   "language": "python",
   "name": "python3"
  },
  "language_info": {
   "codemirror_mode": {
    "name": "ipython",
    "version": 2
   },
   "file_extension": ".py",
   "mimetype": "text/x-python",
   "name": "python",
   "nbconvert_exporter": "python",
   "pygments_lexer": "ipython2",
   "version": "2.7.6"
  }
 },
 "nbformat": 4,
 "nbformat_minor": 5
}
