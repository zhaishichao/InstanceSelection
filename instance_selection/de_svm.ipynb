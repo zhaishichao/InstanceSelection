{
 "cells": [
  {
   "cell_type": "markdown",
   "source": [
    "## 准备工作"
   ],
   "metadata": {
    "collapsed": false
   },
   "id": "9c573d5cf8b3917"
  },
  {
   "cell_type": "code",
   "outputs": [],
   "source": [
    "import scipy.io as sio  # 从.mat文件中读取数据集\n",
    "import numpy as np\n",
    "from tqdm import tqdm\n",
    "from differential_evolution.DifferentialEvolution import DifferentialEvolution\n",
    "from sklearn.model_selection import train_test_split\n",
    "from sklearn.svm import SVC  # SVC用于分类，SVR用于回归\n",
    "from sklearn.metrics import accuracy_score, classification_report, confusion_matrix\n",
    "from sklearn.preprocessing import StandardScaler\n",
    "from sklearn.pipeline import make_pipeline"
   ],
   "metadata": {
    "collapsed": false,
    "ExecuteTime": {
     "end_time": "2024-10-22T13:53:12.466340Z",
     "start_time": "2024-10-22T13:53:12.457030Z"
    }
   },
   "id": "3de684fb950cc240",
   "execution_count": 66
  },
  {
   "cell_type": "markdown",
   "source": [
    "### 实值映射到0-1"
   ],
   "metadata": {
    "collapsed": false
   },
   "id": "2063edb4e7398166"
  },
  {
   "cell_type": "code",
   "outputs": [],
   "source": [
    "# 根据种群个体的编码值，获得要选择的实例的索引\n",
    "def get_indices(x):\n",
    "    x = x.astype(int)  # 数据范围在0-2之间，转化成int的同时会舍去小数部分，从而将个体映射到0-1编码\n",
    "    indices = np.where(x == 1)  # 1代表选择该实例，返回值是tuple，tuple[0]取元组中的第一个元素\n",
    "    return indices[0]\n",
    "\n",
    "\n",
    "# 得到分类、以及分类所对应的索引\n",
    "def get_class_index(y):\n",
    "    # 统计每个类别的个数，y.max()+1是类别的个数\n",
    "    num_class = y.max() + 1\n",
    "    counts = np.zeros(num_class, dtype=int)\n",
    "    classes = []\n",
    "    for i in range(y.shape[0]):  # y.shape[0]相当于y的长度\n",
    "        counts[y[i]] += 1\n",
    "    for i in range(num_class):\n",
    "        classes.append(\n",
    "            np.where(y == i)[0])  # np.where() 返回值是一个tuple数组，np.where(y == i)[0],表示取出该tuple数组的第一个元素，是一个ndarray数组\n",
    "    return num_class, classes, counts"
   ],
   "metadata": {
    "collapsed": false,
    "ExecuteTime": {
     "end_time": "2024-10-22T13:53:14.427401Z",
     "start_time": "2024-10-22T13:53:14.415006Z"
    }
   },
   "id": "553d628a67d6bb5f",
   "execution_count": 67
  },
  {
   "cell_type": "markdown",
   "source": [
    "### 获取实例子集"
   ],
   "metadata": {
    "collapsed": false
   },
   "id": "ce268e7be9f01166"
  },
  {
   "cell_type": "code",
   "outputs": [],
   "source": [
    "# 根据索引得到要选择的子集：数据和标签\n",
    "# minimum的最大值不能超过数据集中包含的所有类别的最小数量\n",
    "def get_sub_dataset(xi, indices, x, y, num_class, classes, minimum):\n",
    "    # 根据索引得到实例子集\n",
    "    lenth = len(indices)\n",
    "    x_sub = x[indices, :]\n",
    "    y_sub = y[indices]\n",
    "\n",
    "    #print(\"实例子集x：\", x_sub)\n",
    "    #print(\"实例子集y：\", y_sub)\n",
    "    # 计算实例子集各个类别的数量\n",
    "    counts_sub = np.zeros(num_class, dtype=int)\n",
    "    for i in range(y_sub.shape[0]):\n",
    "        counts_sub[y_sub[i]] += 1\n",
    "    #print(\"实例子集的数量：\", counts_sub)\n",
    "    # 遍历子集中各个类别的数量，保证大于最小数量\n",
    "    for i in range(num_class):\n",
    "        # 当实例个数小于minimum，随机添加实例达到最小限制\n",
    "        if counts_sub[i] < minimum:\n",
    "            # 转换成集合进行差运算（& | -，分别是交、并、差） unselected_indices是一个set集合\n",
    "            unselected_indices_set = set(classes[i]) - set(indices)\n",
    "            # list(unselected_indices)将集合转换成list\n",
    "            unselected_indices = np.array(list(unselected_indices_set))\n",
    "            # replace=False表示不允许重复\n",
    "            random_selecte_indices = np.random.choice(unselected_indices, size=minimum - counts_sub[i], replace=False)\n",
    "\n",
    "            # 添加后更改个体xi的参数\n",
    "            for j in range(0, minimum - counts_sub[i]):  # 小于minimum时，添加实例时，需要同步更改xi个体的实值大小，由0-1的改为1-2\n",
    "                xi[random_selecte_indices[j]] = np.random.rand() + 1  # np.random.rand()生成0-1的随机数\n",
    "                index = np.searchsorted(indices, random_selecte_indices[j])\n",
    "                indices = np.insert(indices, index, random_selecte_indices[j])\n",
    "                x_sub = np.insert(x_sub, index, x[random_selecte_indices[j], :], axis=0)\n",
    "                y_sub = np.insert(y_sub, index, y[random_selecte_indices[j]])\n",
    "\n",
    "            #print(f\"类别{i}所要补充的个体数为{minimum - counts_sub[i]},索引为：\", random_selecte_indices)\n",
    "            #random_selecte_x = x[random_selecte_indices, :]\n",
    "            #random_selecte_y = y[random_selecte_indices]\n",
    "            # 注意以下是将添加的实例拼接到原来实例子集的后面，这个和新的个体xi并非一一对应，因为模型训练时，划分数据集，会把实例顺序打乱，（若想保持一致，后面可以再进行优化）\n",
    "            #x_sub = np.concatenate((x_sub, random_selecte_x))  # 将子集拼接在一起 concatenate默认axis=0\n",
    "            #y_sub = np.concatenate((y_sub, random_selecte_y))  # 将子集拼接在一起 concatenate默认axis=0\n",
    "    #print(\"最终的索引为：\", indices)\n",
    "    return x_sub, y_sub, xi"
   ],
   "metadata": {
    "collapsed": false,
    "ExecuteTime": {
     "end_time": "2024-10-22T13:53:16.680328Z",
     "start_time": "2024-10-22T13:53:16.672321Z"
    }
   },
   "id": "41bc3a335c751ad2",
   "execution_count": 68
  },
  {
   "cell_type": "markdown",
   "source": [
    "### 适应度函数"
   ],
   "metadata": {
    "collapsed": false
   },
   "id": "a378dd5dea71b44"
  },
  {
   "cell_type": "code",
   "outputs": [],
   "source": [
    "# 适应度函数/目标函数\n",
    "def objective_function(xi, dataset_x, dataset_y, model, minimum):\n",
    "    # 先将x的实值编码四舍五入得到0-1编码，根据编码得到训练子集\n",
    "    indices = get_indices(xi)\n",
    "    num_class, classes, counts = get_class_index(dataset_y)\n",
    "    x_sub, y_sub, xi = get_sub_dataset(xi, indices, dataset_x, dataset_y, num_class, classes, minimum=minimum)\n",
    "\n",
    "    # 模型训练\n",
    "    x_train, x_test, y_train, y_test = train_test_split(x_sub, y_sub, test_size=0.3, random_state=42)\n",
    "    model.fit(x_train, y_train)\n",
    "    y_pred = model.predict(x_test)\n",
    "\n",
    "    # 计算准确率\n",
    "    accuracy = accuracy_score(y_test, y_pred)\n",
    "\n",
    "    # 计算错误率\n",
    "    error_rate = 1 - accuracy\n",
    "    return error_rate\n",
    "\n",
    "\n",
    "# 求适应度\n",
    "def fitness(x, model, dataset_x, dataset_y, minimum):\n",
    "    result = np.empty(x.shape[0])  # 记录种群中个体的适应度\n",
    "    # 计算每个个体的适应度\n",
    "    for i in range(0, x.shape[0]):\n",
    "        result[i] = objective_function(x[i, :], dataset_x, dataset_y, model, minimum)\n",
    "    return result"
   ],
   "metadata": {
    "collapsed": false,
    "ExecuteTime": {
     "end_time": "2024-10-22T13:53:20.851045Z",
     "start_time": "2024-10-22T13:53:20.845045Z"
    }
   },
   "id": "b89592fff5036214",
   "execution_count": 69
  },
  {
   "cell_type": "markdown",
   "source": [
    "## 训练阶段"
   ],
   "metadata": {
    "collapsed": false
   },
   "id": "d96cc1391aa4ab38"
  },
  {
   "cell_type": "markdown",
   "source": [
    "### 加载数据集"
   ],
   "metadata": {
    "collapsed": false
   },
   "id": "a94c860646823cdb"
  },
  {
   "cell_type": "code",
   "outputs": [
    {
     "name": "stdout",
     "output_type": "stream",
     "text": [
      "x的形状: (1000, 24)\n",
      "y的数据类型: (1000,)\n",
      "每种类别的数量： [700. 300.]\n"
     ]
    }
   ],
   "source": [
    "# 读取.mat文件\n",
    "mat_data = sio.loadmat('../data/dataset/German.mat')\n",
    "#print(mat_data.keys())\n",
    "# 提取变量\n",
    "dataset_x = mat_data['X']\n",
    "dataset_y = mat_data['Y']\n",
    "dataset_y = dataset_y[:, 0]\n",
    "# 显示变量信息\n",
    "print(\"x的形状:\", dataset_x.shape)\n",
    "print(\"y的数据类型:\", dataset_y.shape)\n",
    "# 统计每个类别的个数，y.max()+1是类别的个数\n",
    "counts = np.zeros(dataset_y.max() + 1)\n",
    "for i in range(dataset_y.shape[0]):\n",
    "    counts[dataset_y[i]] += 1\n",
    "print(\"每种类别的数量：\", counts)"
   ],
   "metadata": {
    "collapsed": false,
    "ExecuteTime": {
     "end_time": "2024-10-22T14:06:32.721069Z",
     "start_time": "2024-10-22T14:06:32.710069Z"
    }
   },
   "id": "b81afec396e5478b",
   "execution_count": 90
  },
  {
   "cell_type": "markdown",
   "source": [
    "### 参数设定"
   ],
   "metadata": {
    "collapsed": false
   },
   "id": "18505e6f7917c5a2"
  },
  {
   "cell_type": "code",
   "execution_count": 104,
   "id": "initial_id",
   "metadata": {
    "collapsed": true,
    "ExecuteTime": {
     "end_time": "2024-10-22T14:12:44.774498Z",
     "start_time": "2024-10-22T14:12:44.768120Z"
    }
   },
   "outputs": [],
   "source": [
    "NP = 50  # 个体数目\n",
    "D = dataset_y.shape[0]  # 目标函数中变量的个数\n",
    "G = 100  # 最大迭代数\n",
    "CR = 0.1  # 交叉算子\n",
    "Threshold = 1e-6  # 阈值\n",
    "F = 0.9  # 变异算子\n",
    "Left = 0  # 左边界\n",
    "Right = 2  # 右边界\n",
    "\n",
    "# 初始化 SVM 分类器\n",
    "# 通过管道将标准化操作和模型相连接\n",
    "clf = make_pipeline(StandardScaler(), SVC(kernel='linear', cache_size=600))  # 'linear' 是线性核，也可以选择 'rbf', 'poly' 等核函数"
   ]
  },
  {
   "cell_type": "markdown",
   "source": [],
   "metadata": {
    "collapsed": false
   },
   "id": "5a280f36d2155177"
  },
  {
   "cell_type": "code",
   "outputs": [
    {
     "name": "stderr",
     "output_type": "stream",
     "text": [
      "DE: 100%|██████████| 100/100 [00:35<00:00,  2.85it/s, 当前迭代次数=100, 最优个体索引=34, 目标函数最小值=0.156, 当前最高准确率=0.844]\n"
     ]
    }
   ],
   "source": [
    "x = np.random.rand(NP, D) * (Right - Left) + Left  # 在[Left,Right]之间产生随机数\n",
    "x_best = np.empty(D)\n",
    "# 记录进化迭代的过程\n",
    "number_generations = G\n",
    "per_generation_optimal_value = np.zeros(G)\n",
    "\n",
    "x_fitness = fitness(x, clf, dataset_x, dataset_y, minimum=15)\n",
    "\n",
    "de = DifferentialEvolution(NP, D, G, CR, Threshold, F, Left, Right)\n",
    "\n",
    "with tqdm(total=G, desc=\"DE\") as pbar:\n",
    "    for i in range(0, G):\n",
    "        #v=variation(x,F) # 变异\n",
    "        v = de.variation_optimize(x)  # 变异的优化\n",
    "        c = de.cross(x, v)  # 交叉\n",
    "\n",
    "        c = de.boundary_process(c)  # 若超出边界则重新生成\n",
    "\n",
    "        c_fitness = fitness(c, clf, dataset_x, dataset_y, minimum=15)  # 对新的试验种群求适应度\n",
    "        for m in range(0, x.shape[0]):\n",
    "            if c_fitness[m] < x_fitness[m]:  # 贪婪地选择当前最优个体\n",
    "                x[m, :] = c[m, :]\n",
    "                x_fitness[m] = c_fitness[m]\n",
    "        index = np.argmin(x_fitness)  # 记录最优个体索引\n",
    "        per_generation_optimal_value[i] = x_fitness[index]  # 记录最优适应度\n",
    "        x_best = x[index, :]\n",
    "        # 动态更新进度条信息\n",
    "        pbar.set_postfix({\n",
    "            \"当前迭代次数\": i + 1,\n",
    "            \"最优个体索引\": index,\n",
    "            \"目标函数最小值\": round(x_fitness[index], 3),\n",
    "            \"当前最高准确率\": round(1 - x_fitness[index], 3)\n",
    "        })\n",
    "        # 更新进度条\n",
    "        pbar.update(1)"
   ],
   "metadata": {
    "collapsed": false,
    "ExecuteTime": {
     "end_time": "2024-10-22T14:13:22.150362Z",
     "start_time": "2024-10-22T14:12:46.748913Z"
    }
   },
   "id": "94e3d92e1ed79789",
   "execution_count": 105
  },
  {
   "cell_type": "markdown",
   "source": [
    "### 绘图"
   ],
   "metadata": {
    "collapsed": false
   },
   "id": "1860d0a62273a21d"
  },
  {
   "cell_type": "code",
   "outputs": [
    {
     "data": {
      "text/plain": "<Figure size 640x480 with 1 Axes>",
      "image/png": "[encoded data removed]"
     },
     "metadata": {},
     "output_type": "display_data"
    }
   ],
   "source": [
    "import matplotlib.pyplot as plt\n",
    "\n",
    "# 设置可显示中文宋体\n",
    "plt.rcParams['font.family'] = 'STZhongsong'\n",
    "# 生成 x 轴数据：0 到 G，间隔为 1\n",
    "x = np.arange(0, number_generations, 1)\n",
    "\n",
    "# 生成 y 轴数据：每次迭代的最优值\n",
    "y = per_generation_optimal_value\n",
    "\n",
    "# 绘制折线图\n",
    "plt.plot(x, y)\n",
    "\n",
    "# 设置标题和坐标轴标签\n",
    "plt.title(\"差分进化曲线\")\n",
    "plt.xlabel(\"种群进化的次数\")\n",
    "plt.ylabel(\"目标函数的最优值\")\n",
    "\n",
    "# 显示图形\n",
    "plt.show()\n"
   ],
   "metadata": {
    "collapsed": false,
    "ExecuteTime": {
     "end_time": "2024-10-22T14:13:33.324573Z",
     "start_time": "2024-10-22T14:13:33.246171Z"
    }
   },
   "id": "467d49d9370be2d6",
   "execution_count": 106
  },
  {
   "cell_type": "markdown",
   "source": [
    "## 测试"
   ],
   "metadata": {
    "collapsed": false
   },
   "id": "8e2ec4a4c81dde11"
  },
  {
   "cell_type": "markdown",
   "source": [
    "### 模型测试"
   ],
   "metadata": {
    "collapsed": false
   },
   "id": "ef007ab6e2a569e5"
  },
  {
   "cell_type": "code",
   "outputs": [
    {
     "name": "stdout",
     "output_type": "stream",
     "text": [
      "原始数据集分类数： 2\n",
      "原始数据集各分类数量： [700 300]\n",
      "最优实例子集对应索引： [  1   3   5   6   8   9  10  12  13  14  15  16  17  18  23  24  25  30\n",
      "  31  34  35  37  38  41  43  45  47  52  53  55  56  59  61  63  64  65\n",
      "  66  68  70  77  79  83  85  87  88  89  91  93  95  96  97 100 101 102\n",
      " 105 106 107 110 111 115 117 119 120 123 124 125 126 127 128 131 132 133\n",
      " 135 138 139 142 144 145 147 148 149 150 151 154 158 159 160 162 164 165\n",
      " 167 169 170 172 173 174 175 176 177 180 181 182 183 185 186 187 191 195\n",
      " 197 198 199 201 202 204 205 210 212 213 214 218 220 221 222 231 232 233\n",
      " 237 240 241 245 246 248 250 253 254 255 256 258 263 265 268 272 273 282\n",
      " 283 285 288 290 291 292 293 294 295 297 299 303 304 305 306 308 312 313\n",
      " 314 318 319 322 324 326 327 328 329 331 332 334 339 340 341 343 345 348\n",
      " 349 350 351 354 356 359 361 362 363 365 369 370 372 373 378 379 380 381\n",
      " 383 385 387 391 394 396 398 400 401 402 404 406 408 410 411 413 414 415\n",
      " 416 418 419 426 427 428 429 430 432 436 439 440 444 445 446 447 450 452\n",
      " 453 455 456 457 459 461 464 465 466 470 471 472 478 479 480 481 482 484\n",
      " 485 488 489 490 491 494 495 497 498 499 501 506 508 510 512 515 520 522\n",
      " 523 528 530 534 538 539 540 542 544 545 547 548 549 550 551 555 557 561\n",
      " 562 565 567 573 574 576 577 578 580 581 583 584 588 590 594 595 596 600\n",
      " 601 602 612 613 614 615 617 621 625 626 627 628 632 636 637 638 639 640\n",
      " 643 644 645 646 648 650 652 654 655 656 657 662 663 665 666 670 672 674\n",
      " 675 676 678 679 684 687 688 691 692 694 695 696 697 698 700 701 704 705\n",
      " 710 717 720 724 725 726 727 728 730 731 732 734 735 736 737 738 742 743\n",
      " 744 747 750 751 754 755 761 764 765 766 767 769 774 775 776 779 780 782\n",
      " 783 784 785 786 788 789 793 794 800 803 807 808 809 810 812 813 814 815\n",
      " 816 818 819 820 822 823 824 828 829 833 835 837 838 839 840 844 845 846\n",
      " 848 850 851 856 857 858 859 861 864 866 867 868 870 873 874 877 878 879\n",
      " 882 883 884 885 886 891 893 895 896 900 902 905 906 907 908 910 915 918\n",
      " 922 924 925 927 928 930 931 932 934 935 937 938 941 945 946 947 948 949\n",
      " 952 953 956 960 969 970 971 973 975 976 977 979 982 983 984 985 989 990\n",
      " 992 994 995 996 997 998 999]\n",
      "最优实例子集各分类数量： [350 161]\n",
      "Accuracy: 0.84\n",
      "Error_rate: 0.84\n",
      "Classification Report:\n",
      "              precision    recall  f1-score   support\n",
      "\n",
      "           0       0.85      0.94      0.89       107\n",
      "           1       0.83      0.62      0.71        47\n",
      "\n",
      "    accuracy                           0.84       154\n",
      "   macro avg       0.84      0.78      0.80       154\n",
      "weighted avg       0.84      0.84      0.84       154\n"
     ]
    }
   ],
   "source": [
    "num_class, classes, counts = get_class_index(dataset_y)\n",
    "\n",
    "print(\"原始数据集分类数：\", num_class)\n",
    "print(\"原始数据集各分类数量：\", counts)\n",
    "\n",
    "indices = get_indices(x_best)\n",
    "x_best_sub, y_best_sub, xi = get_sub_dataset(x_best, indices, dataset_x, dataset_y, num_class, classes, minimum=10)\n",
    "\n",
    "num_class_x_best, classes_x_best, counts_x_best = get_class_index(y_best_sub)\n",
    "\n",
    "print(\"最优实例子集对应索引：\", indices)\n",
    "print(\"最优实例子集各分类数量：\", counts_x_best)\n",
    "# 模型训练\n",
    "x_train, x_test, y_train, y_test = train_test_split(x_best_sub, y_best_sub, test_size=0.3, random_state=42)\n",
    "clf.fit(x_train, y_train)\n",
    "y_pred = clf.predict(x_test)\n",
    "\n",
    "# 计算准确率\n",
    "accuracy = accuracy_score(y_test, y_pred)\n",
    "print(f'Accuracy: {accuracy:.2f}')\n",
    "# 计算错误率\n",
    "error_rate = 1 - accuracy\n",
    "print(f'Error_rate: {accuracy:.2f}')\n",
    "# 打印分类报告\n",
    "print(\"Classification Report:\")\n",
    "print(classification_report(y_test, y_pred))"
   ],
   "metadata": {
    "collapsed": false,
    "ExecuteTime": {
     "end_time": "2024-10-22T14:13:36.219920Z",
     "start_time": "2024-10-22T14:13:36.188495Z"
    }
   },
   "id": "c74b09656249e8a9",
   "execution_count": 107
  },
  {
   "cell_type": "markdown",
   "source": [
    "### 虚拟数据测试"
   ],
   "metadata": {
    "collapsed": false
   },
   "id": "e8714a0f12fb9af4"
  },
  {
   "cell_type": "code",
   "outputs": [],
   "source": [
    "xx = np.array([\n",
    "    [0.2, 1.2],\n",
    "    [1.3, 2.4],\n",
    "    [2.6, 3.5],\n",
    "    [3.2, 4.2],\n",
    "    [4.3, 5.4],\n",
    "    [5.6, 6.5],\n",
    "    [6.2, 7.2],\n",
    "    [7.3, 8.4],\n",
    "    [8.6, 9.5],\n",
    "    [9.2, 10.2],\n",
    "    [10.3, 2.4],\n",
    "    [11.6, 3.5],\n",
    "    [12.2, 2.2],\n",
    "    [13.3, 2.4],\n",
    "    [14.6, 3.5],\n",
    "    [15.2, 2.2],\n",
    "    [16.3, 2.4],\n",
    "    [17.6, 3.5],\n",
    "    [18.2, 2.2],\n",
    "    [29.3, 2.4],\n",
    "    [20.6, 3.5],\n",
    "    [21.2, 2.2],\n",
    "    [22.3, 2.4],\n",
    "    [23.6, 3.5],\n",
    "\n",
    "])\n",
    "\n",
    "print(xx.shape)\n",
    "yy = np.array([0, 0, 1, 1, 1, 1, 1, 0, 1, 0, 1, 0, 1, 0, 1, 0, 0, 0, 0, 1, 1, 0, 0, 1])\n",
    "print(yy.shape)\n",
    "xi = np.random.rand(24) * (2 - 0) + 0\n",
    "\n",
    "print(\"随机生成的个体：\", xi)\n",
    "\n",
    "indexes = get_indices(xi)\n",
    "\n",
    "print(\"个体对应的实例索引：\", indexes)\n",
    "\n",
    "num_class, classes, counts = get_class_index(yy)\n",
    "\n",
    "#print(\"类：\",num_class)\n",
    "\n",
    "#print(\"类的数量：\",counts)\n",
    "\n",
    "x_sub, y_sub, xii = get_sub_dataset(xi, indexes, xx, yy, num_class, classes, minimum=10)\n",
    "\n",
    "print(\"新的xi：\", xii)\n",
    "\n",
    "print(\"选择的实例子集x：\", x_sub)\n",
    "print(\"选择的实例子集y：\", y_sub)\n",
    "print(\"Over\")"
   ],
   "metadata": {
    "collapsed": false
   },
   "id": "64df693f07277d28",
   "execution_count": null
  },
  {
   "cell_type": "code",
   "outputs": [],
   "source": [
    "import numpy as np\n",
    "\n",
    "# 创建一个升序的一维数组\n",
    "arr = np.array([1, 3, 5, 7, 9])\n",
    "\n",
    "# 要插入的元素\n",
    "value = 10\n",
    "\n",
    "# 查找插入位置，保持升序\n",
    "index = np.searchsorted(arr, value)\n",
    "print(\"索引值：\", index)\n",
    "# 在指定位置插入元素\n",
    "new_arr = np.insert(arr, index, value)\n",
    "\n",
    "print(new_arr)\n"
   ],
   "metadata": {
    "collapsed": false
   },
   "id": "2639fe0defd80ba5",
   "execution_count": null
  }
 ],
 "metadata": {
  "kernelspec": {
   "display_name": "Python 3",
   "language": "python",
   "name": "python3"
  },
  "language_info": {
   "codemirror_mode": {
    "name": "ipython",
    "version": 2
   },
   "file_extension": ".py",
   "mimetype": "text/x-python",
   "name": "python",
   "nbconvert_exporter": "python",
   "pygments_lexer": "ipython2",
   "version": "2.7.6"
  }
 },
 "nbformat": 4,
 "nbformat_minor": 5
}
