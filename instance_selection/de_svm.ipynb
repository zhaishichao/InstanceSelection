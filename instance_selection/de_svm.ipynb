{
 "cells": [
  {
   "cell_type": "markdown",
   "source": [
    "### 导包"
   ],
   "metadata": {
    "collapsed": false
   },
   "id": "623496c07b89e62b"
  },
  {
   "cell_type": "code",
   "outputs": [],
   "source": [
    "import scipy.io as sio  # 从.mat文件中读取数据集\n",
    "import numpy as np\n",
    "from tqdm import tqdm\n",
    "from differential_evolution.DifferentialEvolution import DifferentialEvolution\n",
    "from sklearn.model_selection import train_test_split\n",
    "from sklearn.svm import SVC  # SVC用于分类，SVR用于回归\n",
    "from sklearn.metrics import accuracy_score, classification_report, confusion_matrix\n",
    "from sklearn.preprocessing import StandardScaler\n",
    "from sklearn.pipeline import make_pipeline"
   ],
   "metadata": {
    "collapsed": false,
    "ExecuteTime": {
     "end_time": "2024-10-21T16:44:41.456638Z",
     "start_time": "2024-10-21T16:44:41.441633Z"
    }
   },
   "id": "3de684fb950cc240",
   "execution_count": 15
  },
  {
   "cell_type": "markdown",
   "source": [
    "### 加载数据集"
   ],
   "metadata": {
    "collapsed": false
   },
   "id": "a94c860646823cdb"
  },
  {
   "cell_type": "code",
   "outputs": [
    {
     "name": "stdout",
     "output_type": "stream",
     "text": [
      "dict_keys(['__header__', '__version__', '__globals__', 'X', 'Y'])\n",
      "x的形状: (690, 14)\n",
      "y的数据类型: (690,)\n",
      "每种类别的数量： [383. 307.]\n"
     ]
    }
   ],
   "source": [
    "# 读取.mat文件\n",
    "mat_data = sio.loadmat('../data/dataset/Australian.mat')\n",
    "print(mat_data.keys())\n",
    "# 提取变量\n",
    "x = mat_data['X']\n",
    "y = mat_data['Y']\n",
    "y = y[:, 0]\n",
    "# 显示变量信息\n",
    "print(\"x的形状:\", x.shape)\n",
    "print(\"y的数据类型:\", y.shape)\n",
    "# 统计每个类别的个数，y.max()+1是类别的个数\n",
    "counts = np.zeros(y.max() + 1)\n",
    "for i in range(y.shape[0]):\n",
    "    counts[y[i]] += 1\n",
    "print(\"每种类别的数量：\", counts)"
   ],
   "metadata": {
    "collapsed": false,
    "ExecuteTime": {
     "end_time": "2024-10-21T16:44:43.087542Z",
     "start_time": "2024-10-21T16:44:43.075285Z"
    }
   },
   "id": "b81afec396e5478b",
   "execution_count": 16
  },
  {
   "cell_type": "code",
   "execution_count": 17,
   "id": "initial_id",
   "metadata": {
    "collapsed": true,
    "ExecuteTime": {
     "end_time": "2024-10-21T16:44:45.902038Z",
     "start_time": "2024-10-21T16:44:45.893190Z"
    }
   },
   "outputs": [],
   "source": [
    "NP = 50  # 个体数目\n",
    "D = y.shape[0]  # 目标函数中变量的个数\n",
    "G = 100  # 最大迭代数\n",
    "CR = 0.1  # 交叉算子\n",
    "Threshold = 1e-6  # 阈值\n",
    "F = 0.5  # 变异算子\n",
    "Left = 0  # 左边界\n",
    "Right = 2  # 右边界"
   ]
  },
  {
   "cell_type": "markdown",
   "source": [
    "### 适应度函数"
   ],
   "metadata": {
    "collapsed": false
   },
   "id": "8e2ec4a4c81dde11"
  },
  {
   "cell_type": "code",
   "outputs": [
    {
     "name": "stdout",
     "output_type": "stream",
     "text": [
      "(array([  1,   2,   3,   5,   7,   8,   9,  10,  11,  12,  14,  15,  17,\n",
      "        20,  21,  22,  25,  26,  32,  33,  35,  37,  38,  41,  43,  46,\n",
      "        49,  50,  51,  55,  57,  59,  61,  63,  64,  66,  67,  68,  72,\n",
      "        73,  74,  75,  76,  77,  79,  80,  81,  82,  84,  85,  88,  89,\n",
      "        90,  93,  94,  99, 102, 103, 106, 107, 108, 111, 114, 117, 120,\n",
      "       124, 125, 127, 128, 129, 132, 135, 140, 142, 144, 148, 151, 152,\n",
      "       154, 155, 156, 157, 158, 159, 161, 164, 165, 168, 169, 171, 172,\n",
      "       173, 177, 182, 183, 184, 185, 187, 189, 190, 192, 194, 195, 196,\n",
      "       199, 204, 206, 210, 211, 214, 215, 216, 223, 224, 226, 227, 229,\n",
      "       230, 234, 239, 240, 242, 243, 244, 245, 246, 248, 250, 251, 252,\n",
      "       254, 256, 257, 260, 262, 267, 276, 280, 289, 293, 294, 295, 297,\n",
      "       298, 299, 301, 302, 303, 307, 308, 309, 310, 311, 316, 318, 319,\n",
      "       320, 321, 323, 335, 338, 343, 350, 355, 356, 357, 359, 360, 362,\n",
      "       366, 368, 369, 373, 375, 381, 382, 383, 389, 390, 396, 399, 402,\n",
      "       404, 406, 408, 409, 411, 412, 413, 415, 419, 422, 423, 427, 430,\n",
      "       431, 434, 435, 436, 441, 442, 444, 446, 449, 451, 452, 453, 456,\n",
      "       457, 458, 460, 464, 466, 468, 469, 472, 475, 478, 481, 482, 484,\n",
      "       485, 486, 487, 488, 490, 491, 493, 496, 497, 499, 500, 502, 503,\n",
      "       509, 512, 513, 516, 519, 520, 521, 522, 525, 526, 528, 529, 530,\n",
      "       533, 536, 537, 539, 540, 542, 544, 545, 546, 548, 551, 553, 554,\n",
      "       555, 557, 558, 559, 561, 564, 565, 566, 568, 570, 572, 576, 578,\n",
      "       579, 580, 582, 583, 586, 589, 590, 592, 594, 596, 599, 601, 603,\n",
      "       604, 605, 608, 610, 613, 615, 617, 618, 619, 621, 625, 629, 630,\n",
      "       632, 633, 638, 641, 644, 645, 646, 648, 649, 651, 652, 655, 656,\n",
      "       664, 665, 667, 668, 669, 671, 672, 673, 676, 678, 682, 685, 686,\n",
      "       687], dtype=int64),)\n"
     ]
    },
    {
     "ename": "ValueError",
     "evalue": "could not broadcast input array from shape (326,14) into shape (14,)",
     "output_type": "error",
     "traceback": [
      "\u001B[1;31m---------------------------------------------------------------------------\u001B[0m",
      "\u001B[1;31mValueError\u001B[0m                                Traceback (most recent call last)",
      "Cell \u001B[1;32mIn[21], line 57\u001B[0m\n\u001B[0;32m     54\u001B[0m indices \u001B[38;5;241m=\u001B[39m get_indices(init_population[\u001B[38;5;241m0\u001B[39m, :])\n\u001B[0;32m     55\u001B[0m \u001B[38;5;28mprint\u001B[39m(indices)\n\u001B[1;32m---> 57\u001B[0m x_sub, y_sub \u001B[38;5;241m=\u001B[39m \u001B[43mget_sub_dataset\u001B[49m\u001B[43m(\u001B[49m\u001B[43mindices\u001B[49m\u001B[43m,\u001B[49m\u001B[43m \u001B[49m\u001B[43mx\u001B[49m\u001B[43m,\u001B[49m\u001B[43m \u001B[49m\u001B[43my\u001B[49m\u001B[43m)\u001B[49m\n\u001B[0;32m     59\u001B[0m \u001B[38;5;28mprint\u001B[39m(x_sub\u001B[38;5;241m.\u001B[39mshape)\n\u001B[0;32m     60\u001B[0m \u001B[38;5;28mprint\u001B[39m(y_sub\u001B[38;5;241m.\u001B[39mshape)\n",
      "Cell \u001B[1;32mIn[21], line 30\u001B[0m, in \u001B[0;36mget_sub_dataset\u001B[1;34m(indices, x, y, minimum)\u001B[0m\n\u001B[0;32m     27\u001B[0m y_sub \u001B[38;5;241m=\u001B[39m np\u001B[38;5;241m.\u001B[39mempty(lenth)\n\u001B[0;32m     29\u001B[0m \u001B[38;5;28;01mfor\u001B[39;00m i \u001B[38;5;129;01min\u001B[39;00m \u001B[38;5;28mrange\u001B[39m(lenth):\n\u001B[1;32m---> 30\u001B[0m     \u001B[43mx_sub\u001B[49m\u001B[43m[\u001B[49m\u001B[43mi\u001B[49m\u001B[43m,\u001B[49m\u001B[43m \u001B[49m\u001B[43m:\u001B[49m\u001B[43m]\u001B[49m \u001B[38;5;241m=\u001B[39m x[indices[i], :]\n\u001B[0;32m     31\u001B[0m     y_sub[i] \u001B[38;5;241m=\u001B[39m y[indices[i]]\n\u001B[0;32m     33\u001B[0m counts \u001B[38;5;241m=\u001B[39m np\u001B[38;5;241m.\u001B[39mzeros(y\u001B[38;5;241m.\u001B[39mmax() \u001B[38;5;241m+\u001B[39m \u001B[38;5;241m1\u001B[39m)\n",
      "\u001B[1;31mValueError\u001B[0m: could not broadcast input array from shape (326,14) into shape (14,)"
     ]
    }
   ],
   "source": [
    "init_population = np.random.rand(NP, D) * (Right - Left) + Left  # 在[Left,Right]之间产生随机数\n",
    "\n",
    "\n",
    "# 根据种群个体的编码值，获得要选择的实例的索引\n",
    "def get_indices(x):\n",
    "    x = x.astype(int)  #数据范围在0-2之间，转化成int的同时会舍去小数部分，从而将个体映射到0-1编码\n",
    "    max_indices = np.where(x == 1)\n",
    "    return max_indices\n",
    "\n",
    "# 得到分类、以及分类所对应的索引\n",
    "\n",
    "def get_class_index(y):\n",
    "    # 统计每个类别的个数，y.max()+1是类别的个数\n",
    "    num_class = y.max() + 1\n",
    "    counts = np.zeros(num_class)\n",
    "    classes=[]\n",
    "    for i in range(y.shape[0]):\n",
    "        counts[y[i]] += 1\n",
    "    for i in range(num_class):\n",
    "        classes.append(np.where(y == i).tolist())\n",
    "    return classes,counts\n",
    "\n",
    "# 根据索引得到要选择的子集：数据和标签\n",
    "def get_sub_dataset(indices, x, y,minimum=10):\n",
    "    lenth = len(indices)\n",
    "    x_sub = np.empty((lenth, x.shape[1]))\n",
    "    y_sub = np.empty(lenth)\n",
    "\n",
    "    for i in range(lenth):\n",
    "        x_sub[i, :] = x[indices[i], :]\n",
    "        y_sub[i] = y[indices[i]]\n",
    "    \n",
    "    counts = np.zeros(y.max() + 1)\n",
    "    for i in range(y_sub.shape[0]):\n",
    "        counts[y_sub[i]] += 1\n",
    "    for i in range(y.max() + 1):\n",
    "        if counts[i] < minimum:\n",
    "            unselected = np.arange(0, x.shape[0], 1)-y_sub\n",
    "            unselected_indices=np.random.choice(unselected,size=minimum-counts[i])\n",
    "            add=x[unselected_indices,:]\n",
    "            \n",
    "            \n",
    "                \n",
    "    return x_sub, y_sub\n",
    "\n",
    "\n",
    "# 最小的实例选择的数量\n",
    "# def minimum_quantity_limit(x_sub=None,y_sub=None,minimum=10):\n",
    "#     # 统计每个类别的个数，y.max()+1是类别的个数\n",
    "    \n",
    "                        \n",
    "\n",
    "\n",
    "indices = get_indices(init_population[0, :])\n",
    "print(indices)\n",
    "\n",
    "x_sub, y_sub = get_sub_dataset(indices, x, y)\n",
    "\n",
    "print(x_sub.shape)\n",
    "print(y_sub.shape)\n",
    "\n"
   ],
   "metadata": {
    "collapsed": false,
    "ExecuteTime": {
     "end_time": "2024-10-21T16:45:36.699063Z",
     "start_time": "2024-10-21T16:45:36.653854Z"
    }
   },
   "id": "fbd6ac0b9c2c8eb2",
   "execution_count": 21
  },
  {
   "cell_type": "code",
   "outputs": [
    {
     "ename": "AttributeError",
     "evalue": "'tuple' object has no attribute 'tolist'",
     "output_type": "error",
     "traceback": [
      "\u001B[1;31m---------------------------------------------------------------------------\u001B[0m",
      "\u001B[1;31mAttributeError\u001B[0m                            Traceback (most recent call last)",
      "Cell \u001B[1;32mIn[23], line 1\u001B[0m\n\u001B[1;32m----> 1\u001B[0m in2,c\u001B[38;5;241m=\u001B[39m\u001B[43mget_class_index\u001B[49m\u001B[43m(\u001B[49m\u001B[43mnp\u001B[49m\u001B[38;5;241;43m.\u001B[39;49m\u001B[43marray\u001B[49m\u001B[43m(\u001B[49m\u001B[43m[\u001B[49m\u001B[38;5;241;43m1\u001B[39;49m\u001B[43m,\u001B[49m\u001B[38;5;241;43m0\u001B[39;49m\u001B[43m,\u001B[49m\u001B[38;5;241;43m2\u001B[39;49m\u001B[43m,\u001B[49m\u001B[38;5;241;43m1\u001B[39;49m\u001B[43m,\u001B[49m\u001B[38;5;241;43m2\u001B[39;49m\u001B[43m,\u001B[49m\u001B[38;5;241;43m3\u001B[39;49m\u001B[43m,\u001B[49m\u001B[38;5;241;43m2\u001B[39;49m\u001B[43m,\u001B[49m\u001B[38;5;241;43m1\u001B[39;49m\u001B[43m,\u001B[49m\u001B[38;5;241;43m2\u001B[39;49m\u001B[43m,\u001B[49m\u001B[38;5;241;43m1\u001B[39;49m\u001B[43m,\u001B[49m\u001B[38;5;241;43m0\u001B[39;49m\u001B[43m,\u001B[49m\u001B[38;5;241;43m0\u001B[39;49m\u001B[43m,\u001B[49m\u001B[38;5;241;43m0\u001B[39;49m\u001B[43m,\u001B[49m\u001B[38;5;241;43m2\u001B[39;49m\u001B[43m,\u001B[49m\u001B[38;5;241;43m2\u001B[39;49m\u001B[43m,\u001B[49m\u001B[38;5;241;43m1\u001B[39;49m\u001B[43m,\u001B[49m\u001B[38;5;241;43m3\u001B[39;49m\u001B[43m,\u001B[49m\u001B[38;5;241;43m3\u001B[39;49m\u001B[43m]\u001B[49m\u001B[43m)\u001B[49m\u001B[43m)\u001B[49m\n\u001B[0;32m      2\u001B[0m \u001B[38;5;28mprint\u001B[39m(in2)\n\u001B[0;32m      3\u001B[0m \u001B[38;5;28mprint\u001B[39m(c)\n",
      "Cell \u001B[1;32mIn[21], line 20\u001B[0m, in \u001B[0;36mget_class_index\u001B[1;34m(y)\u001B[0m\n\u001B[0;32m     18\u001B[0m     counts[y[i]] \u001B[38;5;241m+\u001B[39m\u001B[38;5;241m=\u001B[39m \u001B[38;5;241m1\u001B[39m\n\u001B[0;32m     19\u001B[0m \u001B[38;5;28;01mfor\u001B[39;00m i \u001B[38;5;129;01min\u001B[39;00m \u001B[38;5;28mrange\u001B[39m(num_class):\n\u001B[1;32m---> 20\u001B[0m     classes\u001B[38;5;241m.\u001B[39mappend(\u001B[43mnp\u001B[49m\u001B[38;5;241;43m.\u001B[39;49m\u001B[43mwhere\u001B[49m\u001B[43m(\u001B[49m\u001B[43my\u001B[49m\u001B[43m \u001B[49m\u001B[38;5;241;43m==\u001B[39;49m\u001B[43m \u001B[49m\u001B[43mi\u001B[49m\u001B[43m)\u001B[49m\u001B[38;5;241;43m.\u001B[39;49m\u001B[43mtolist\u001B[49m())\n\u001B[0;32m     21\u001B[0m \u001B[38;5;28;01mreturn\u001B[39;00m classes,counts\n",
      "\u001B[1;31mAttributeError\u001B[0m: 'tuple' object has no attribute 'tolist'"
     ]
    }
   ],
   "source": [
    "in2,c=get_class_index(np.array([1,0,2,1,2,3,2,1,2,1,0,0,0,2,2,1,3,3]))\n",
    "print(in2)\n",
    "print(c)"
   ],
   "metadata": {
    "collapsed": false,
    "ExecuteTime": {
     "end_time": "2024-10-21T16:47:40.389244Z",
     "start_time": "2024-10-21T16:47:40.352468Z"
    }
   },
   "id": "ac2e24b294c6c0c3",
   "execution_count": 23
  },
  {
   "cell_type": "code",
   "outputs": [],
   "source": [
    "# 适应度函数/目标函数\n",
    "def function(x, ):\n",
    "    # 先将x的实值编码四舍五入得到0-1编码，根据编码得到训练子集\n",
    "\n",
    "    return sum(x ** 2)\n",
    "\n",
    "\n",
    "# 求适应度\n",
    "def fitness(x):\n",
    "    result = np.empty(x.shape[1])  # 记录种群中个体的适应度\n",
    "    # 计算每个个体的适应度\n",
    "    for i in range(0, x.shape[1]):\n",
    "        result[i] = function(x[:, i])\n",
    "    return result"
   ],
   "metadata": {
    "collapsed": false
   },
   "id": "87ec02b587e37a4e",
   "execution_count": null
  },
  {
   "cell_type": "code",
   "outputs": [],
   "source": [
    "\n",
    "x = np.random.rand(D, NP) * (Right - Left) + Left  # 在[Left,Right]之间产生随机数\n",
    "\n",
    "# 记录进化迭代的过程\n",
    "number_generations = G\n",
    "per_generation_optimal_value = np.zeros(G)\n",
    "\n",
    "x_fitness = fitness(x)\n",
    "\n",
    "de = DifferentialEvolution(NP, D, G, CR, Threshold, F, Left, Right)\n",
    "\n",
    "with tqdm(total=G, desc=\"DE\") as pbar:\n",
    "    for i in range(0, G):\n",
    "        #v=variation(x,F) # 变异\n",
    "        v = de.variation_optimize(x)  # 变异的优化\n",
    "        c = de.cross(x, v)  # 交叉\n",
    "\n",
    "        c = de.boundary_process(c)  # 若超出边界则重新生成\n",
    "\n",
    "        c_fitness = fitness(c)  # 对新的试验种群求适应度\n",
    "        for m in range(0, x.shape[1]):\n",
    "            if c_fitness[m] < x_fitness[m]:  # 贪婪地选择当前最优个体\n",
    "                x[:, m] = c[:, m]\n",
    "                x_fitness[m] = c_fitness[m]\n",
    "        index = np.argmin(x_fitness)  # 记录最优个体索引\n",
    "        per_generation_optimal_value[i] = x_fitness[index]  # 记录最优适应度\n",
    "        # 动态更新进度条信息\n",
    "        pbar.set_postfix({\n",
    "            \"当前迭代次数\": i + 1,\n",
    "            \"最优个体索引\": index,\n",
    "            \"目标函数最小值\": x_fitness[index]\n",
    "        })\n",
    "        # 更新进度条\n",
    "        pbar.update(1) "
   ],
   "metadata": {
    "collapsed": false
   },
   "id": "1fa46e74a7af403",
   "execution_count": null
  },
  {
   "cell_type": "code",
   "outputs": [
    {
     "name": "stdout",
     "output_type": "stream",
     "text": [
      "[3 4]\n"
     ]
    }
   ],
   "source": [
    "a=np.array([1,2,3,4,5,6])\n",
    "index=np.array([2,3])\n",
    "b=a[index]\n",
    "print(b)"
   ],
   "metadata": {
    "collapsed": false,
    "ExecuteTime": {
     "end_time": "2024-10-21T15:39:32.619979Z",
     "start_time": "2024-10-21T15:39:32.609254Z"
    }
   },
   "id": "fde292911b88cec2",
   "execution_count": 4
  },
  {
   "cell_type": "code",
   "outputs": [
    {
     "name": "stdout",
     "output_type": "stream",
     "text": [
      "[[1 2 3]\n",
      " [1 1 1]\n",
      " [2 2 2]]\n"
     ]
    }
   ],
   "source": [
    "result = np.concatenate(([[1,2,3],[1,1,1]], [[2,2,2]]), axis=0)\n",
    "print(result)"
   ],
   "metadata": {
    "collapsed": false,
    "ExecuteTime": {
     "end_time": "2024-10-21T15:48:33.314544Z",
     "start_time": "2024-10-21T15:48:33.304536Z"
    }
   },
   "id": "8ef8f4e471a1032b",
   "execution_count": 6
  },
  {
   "cell_type": "code",
   "outputs": [
    {
     "name": "stdout",
     "output_type": "stream",
     "text": [
      "1\n",
      "2\n",
      "3\n",
      "4\n",
      "5\n",
      "6\n"
     ]
    }
   ],
   "source": [
    "import numpy as np\n",
    "\n",
    "irregular_array = np.array([[1, 2, 3], [4, 5], [6]], dtype=object)\n",
    "\n",
    "# 遍历不规则数组\n",
    "for row in irregular_array:\n",
    "    for element in row:\n",
    "        print(element)\n"
   ],
   "metadata": {
    "collapsed": false,
    "ExecuteTime": {
     "end_time": "2024-10-21T16:19:02.507062Z",
     "start_time": "2024-10-21T16:19:02.492704Z"
    }
   },
   "id": "338812420c7c0289",
   "execution_count": 8
  },
  {
   "cell_type": "code",
   "outputs": [
    {
     "name": "stdout",
     "output_type": "stream",
     "text": [
      "Row 0:\n",
      "  Element 0: 1\n",
      "  Element 1: 2\n",
      "  Element 2: 3\n",
      "Row 1:\n",
      "  Element 0: 4\n",
      "  Element 1: 5\n",
      "Row 2:\n",
      "  Element 0: 6\n"
     ]
    }
   ],
   "source": [
    "import numpy as np\n",
    "\n",
    "# 创建一个不规则的二维数组\n",
    "irregular_array = np.array([[1, 2, 3], [4, 5], [6]], dtype=object)\n",
    "\n",
    "# 遍历不规则数组\n",
    "for i, row in enumerate(irregular_array):\n",
    "    print(f\"Row {i}:\")\n",
    "    for j, element in enumerate(row):\n",
    "        print(f\"  Element {j}: {element}\")\n"
   ],
   "metadata": {
    "collapsed": false,
    "ExecuteTime": {
     "end_time": "2024-10-21T16:19:55.639531Z",
     "start_time": "2024-10-21T16:19:55.621206Z"
    }
   },
   "id": "a399d0992dd7955e",
   "execution_count": 10
  }
 ],
 "metadata": {
  "kernelspec": {
   "display_name": "Python 3",
   "language": "python",
   "name": "python3"
  },
  "language_info": {
   "codemirror_mode": {
    "name": "ipython",
    "version": 2
   },
   "file_extension": ".py",
   "mimetype": "text/x-python",
   "name": "python",
   "nbconvert_exporter": "python",
   "pygments_lexer": "ipython2",
   "version": "2.7.6"
  }
 },
 "nbformat": 4,
 "nbformat_minor": 5
}
