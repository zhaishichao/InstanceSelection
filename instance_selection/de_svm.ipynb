{
 "cells": [
  {
   "cell_type": "markdown",
   "source": [
    "## 准备工作"
   ],
   "metadata": {
    "collapsed": false
   },
   "id": "9c573d5cf8b3917"
  },
  {
   "cell_type": "code",
   "outputs": [],
   "source": [
    "import scipy.io as sio  # 从.mat文件中读取数据集\n",
    "import numpy as np\n",
    "from tqdm import tqdm\n",
    "from differential_evolution.DifferentialEvolution import DifferentialEvolution\n",
    "from sklearn.model_selection import train_test_split\n",
    "from sklearn.svm import SVC  # SVC用于分类，SVR用于回归\n",
    "from sklearn.metrics import accuracy_score, classification_report, confusion_matrix\n",
    "from sklearn.preprocessing import StandardScaler\n",
    "from sklearn.pipeline import make_pipeline"
   ],
   "metadata": {
    "collapsed": false,
    "ExecuteTime": {
     "end_time": "2024-10-22T09:48:40.643725Z",
     "start_time": "2024-10-22T09:48:40.244225Z"
    }
   },
   "id": "3de684fb950cc240",
   "execution_count": 1
  },
  {
   "cell_type": "markdown",
   "source": [
    "### 实值映射到0-1"
   ],
   "metadata": {
    "collapsed": false
   },
   "id": "2063edb4e7398166"
  },
  {
   "cell_type": "code",
   "outputs": [],
   "source": [
    "# 根据种群个体的编码值，获得要选择的实例的索引\n",
    "def get_indices(x):\n",
    "    x = x.astype(int)  # 数据范围在0-2之间，转化成int的同时会舍去小数部分，从而将个体映射到0-1编码\n",
    "    indices = np.where(x == 1)  # 1代表选择该实例，返回值是tuple，tuple[0]取元组中的第一个元素\n",
    "    return indices[0]\n",
    "\n",
    "\n",
    "# 得到分类、以及分类所对应的索引\n",
    "def get_class_index(y):\n",
    "    # 统计每个类别的个数，y.max()+1是类别的个数\n",
    "    num_class = y.max() + 1\n",
    "    counts = np.zeros(num_class, dtype=int)\n",
    "    classes = []\n",
    "    for i in range(y.shape[0]):  # y.shape[0]相当于y的长度\n",
    "        counts[y[i]] += 1\n",
    "    for i in range(num_class):\n",
    "        classes.append(\n",
    "            np.where(y == i)[0])  # np.where() 返回值是一个tuple数组，np.where(y == i)[0],表示取出该tuple数组的第一个元素，是一个ndarray数组\n",
    "    return num_class, classes, counts"
   ],
   "metadata": {
    "collapsed": false
   },
   "id": "553d628a67d6bb5f"
  },
  {
   "cell_type": "markdown",
   "source": [
    "### 获取实例子集"
   ],
   "metadata": {
    "collapsed": false
   },
   "id": "ce268e7be9f01166"
  },
  {
   "cell_type": "code",
   "outputs": [],
   "source": [
    "# 根据索引得到要选择的子集：数据和标签\n",
    "# minimum的最大值不能超过数据集中包含的所有类别的最小数量\n",
    "def get_sub_dataset(indices, x, y, num_class, classes, minimum=10):\n",
    "    # 根据索引得到实例子集\n",
    "    lenth = len(indices)\n",
    "    x_sub = np.empty((lenth, x.shape[1]))  # x.shape[1]代表了特征数\n",
    "    y_sub = np.empty(lenth)\n",
    "    #for i in range(lenth):\n",
    "    x_sub = x[indices, :]\n",
    "    y_sub = y[indices]\n",
    "\n",
    "    print(\"实例子集x：\", x_sub)\n",
    "    print(\"实例子集y：\", y_sub)\n",
    "    # 计算实例子集各个类别的数量\n",
    "    counts_sub = np.zeros(num_class, dtype=int)\n",
    "    for i in range(y_sub.shape[0]):\n",
    "        counts_sub[y_sub[i]] += 1\n",
    "    print(\"实例子集的数量：\", counts_sub)\n",
    "    # 遍历子集中各个类别的数量，保证大于最小数量\n",
    "    for i in range(num_class):\n",
    "        if counts_sub[i] < minimum:\n",
    "            unselected_indices = set(classes[i]) - set(y_sub)  # 转换成集合进行差运算（& | -，分别是交、并、差） unselected_indices是一个set集合\n",
    "            random_selecte_indices = np.random.choice(np.array(list(unselected_indices)), size=minimum - counts_sub[i],\n",
    "                                                      replace=False)  # list(unselected_indices)将集合转换成list,replace=False表示不允许重复\n",
    "            print(f\"类别{i}所要补充的个体数为{minimum - counts_sub[i]},索引为：\", random_selecte_indices)\n",
    "            random_selecte_x = x[random_selecte_indices, :]\n",
    "            random_selecte_y = y[random_selecte_indices]\n",
    "            x_sub = np.concatenate((x_sub, random_selecte_x))  # 将子集拼接在一起 concatenate默认axis=0\n",
    "            y_sub = np.concatenate((y_sub, random_selecte_y))  # 将子集拼接在一起 concatenate默认axis=0\n",
    "    return x_sub, y_sub"
   ],
   "metadata": {
    "collapsed": false
   },
   "id": "41bc3a335c751ad2"
  },
  {
   "cell_type": "markdown",
   "source": [
    "### 适应度函数"
   ],
   "metadata": {
    "collapsed": false
   },
   "id": "a378dd5dea71b44"
  },
  {
   "cell_type": "code",
   "outputs": [],
   "source": [
    "\n",
    "# 适应度函数/目标函数\n",
    "def objective_function(xi, x, y, model):\n",
    "    # 先将x的实值编码四舍五入得到0-1编码，根据编码得到训练子集\n",
    "    indices = get_indices(xi)\n",
    "    num_class, classes, counts = get_class_index(y)\n",
    "    x_sub, y_sub = get_sub_dataset(indices, x, y, num_class, classes, minimum=10)\n",
    "\n",
    "    # 模型训练\n",
    "    x_train, x_test, y_train, y_test = train_test_split(x_sub, y_sub, test_size=0.3, random_state=42)\n",
    "    model.fit(x_train, y_train)\n",
    "    y_pred = model.predict(x_test)\n",
    "\n",
    "    # 计算准确率\n",
    "    accuracy = accuracy_score(y_test, y_pred)\n",
    "\n",
    "    # 计算错误率\n",
    "    error_rate = 1 - accuracy\n",
    "    return error_rate\n",
    "\n",
    "\n",
    "# 求适应度\n",
    "def fitness(x):\n",
    "    result = np.empty(x.shape[0])  # 记录种群中个体的适应度\n",
    "    # 计算每个个体的适应度\n",
    "    for i in range(0, x.shape[0]):\n",
    "        result[i] = objective_function(x[i, :])\n",
    "    return result"
   ],
   "metadata": {
    "collapsed": false
   },
   "id": "b89592fff5036214"
  },
  {
   "cell_type": "markdown",
   "source": [
    "### 加载数据集"
   ],
   "metadata": {
    "collapsed": false
   },
   "id": "a94c860646823cdb"
  },
  {
   "cell_type": "code",
   "outputs": [],
   "source": [
    "# 读取.mat文件\n",
    "mat_data = sio.loadmat('../data/dataset/Australian.mat')\n",
    "print(mat_data.keys())\n",
    "# 提取变量\n",
    "x = mat_data['X']\n",
    "y = mat_data['Y']\n",
    "y = y[:, 0]\n",
    "# 显示变量信息\n",
    "print(\"x的形状:\", x.shape)\n",
    "print(\"y的数据类型:\", y.shape)\n",
    "# 统计每个类别的个数，y.max()+1是类别的个数\n",
    "counts = np.zeros(y.max() + 1)\n",
    "for i in range(y.shape[0]):\n",
    "    counts[y[i]] += 1\n",
    "print(\"每种类别的数量：\", counts)"
   ],
   "metadata": {
    "collapsed": false
   },
   "id": "b81afec396e5478b",
   "execution_count": null
  },
  {
   "cell_type": "markdown",
   "source": [
    "### 参数设定"
   ],
   "metadata": {
    "collapsed": false
   },
   "id": "18505e6f7917c5a2"
  },
  {
   "cell_type": "code",
   "execution_count": 9,
   "id": "initial_id",
   "metadata": {
    "collapsed": true,
    "ExecuteTime": {
     "end_time": "2024-10-22T09:51:31.092265Z",
     "start_time": "2024-10-22T09:51:31.081574Z"
    }
   },
   "outputs": [],
   "source": [
    "NP = 50  # 个体数目\n",
    "D = 10  # 目标函数中变量的个数\n",
    "G = 8000  # 最大迭代数\n",
    "CR = 0.1  # 交叉算子\n",
    "Threshold = 1e-6  # 阈值\n",
    "F = 0.5  # 变异算子\n",
    "Left = -20  # 左边界\n",
    "Right = 20  # 右边界"
   ]
  },
  {
   "cell_type": "markdown",
   "source": [],
   "metadata": {
    "collapsed": false
   },
   "id": "5a280f36d2155177"
  },
  {
   "cell_type": "code",
   "outputs": [
    {
     "name": "stderr",
     "output_type": "stream",
     "text": [
      "DE: 100%|██████████| 8000/8000 [00:08<00:00, 893.38it/s, 当前迭代次数=8000, 最优个体索引=35, 目标函数最小值=1.27e-13]\n"
     ]
    }
   ],
   "source": [
    "\n",
    "# 适应度函数/目标函数\n",
    "def function(x):  # x的维度为10，也即D=10\n",
    "    return sum(x ** 2)\n",
    "\n",
    "\n",
    "# 求适应度\n",
    "def fitness(x):\n",
    "    result = np.empty(x.shape[0])  # 记录种群中个体的适应度\n",
    "    # 计算每个个体的适应度\n",
    "    for i in range(0, x.shape[0]):\n",
    "        result[i] = function(x[i, :])\n",
    "    return result\n",
    "\n",
    "\n",
    "x = np.random.rand(NP, D) * (Right - Left) + Left  # 在[Left,Right]之间产生随机数\n",
    "\n",
    "# 记录进化迭代的过程\n",
    "number_generations = G\n",
    "per_generation_optimal_value = np.zeros(G)\n",
    "\n",
    "x_fitness = fitness(x)\n",
    "\n",
    "de = DifferentialEvolution(NP, D, G, CR, Threshold, F, Left, Right)\n",
    "\n",
    "with tqdm(total=G, desc=\"DE\") as pbar:\n",
    "    for i in range(0, G):\n",
    "        #v=variation(x,F) # 变异\n",
    "        v = de.variation_optimize(x)  # 变异的优化\n",
    "        c = de.cross(x, v)  # 交叉\n",
    "\n",
    "        c = de.boundary_process(c)  # 若超出边界则重新生成\n",
    "\n",
    "        c_fitness = fitness(c)  # 对新的试验种群求适应度\n",
    "        for m in range(0, x.shape[0]):\n",
    "            if c_fitness[m] < x_fitness[m]:  # 贪婪地选择当前最优个体\n",
    "                x[m, :] = c[m, :]\n",
    "                x_fitness[m] = c_fitness[m]\n",
    "        index = np.argmin(x_fitness)  # 记录最优个体索引\n",
    "        per_generation_optimal_value[i] = x_fitness[index]  # 记录最优适应度\n",
    "        # 动态更新进度条信息\n",
    "        pbar.set_postfix({\n",
    "            \"当前迭代次数\": i + 1,\n",
    "            \"最优个体索引\": index,\n",
    "            \"目标函数最小值\": x_fitness[index]\n",
    "        })\n",
    "        # 更新进度条\n",
    "        pbar.update(1)"
   ],
   "metadata": {
    "collapsed": false,
    "ExecuteTime": {
     "end_time": "2024-10-22T09:51:42.414248Z",
     "start_time": "2024-10-22T09:51:33.447474Z"
    }
   },
   "id": "94e3d92e1ed79789",
   "execution_count": 10
  },
  {
   "cell_type": "markdown",
   "source": [
    "## 测试"
   ],
   "metadata": {
    "collapsed": false
   },
   "id": "8e2ec4a4c81dde11"
  },
  {
   "cell_type": "code",
   "outputs": [],
   "source": [
    "xx = np.array([\n",
    "    [0.2, 1.2],\n",
    "    [1.3, 2.4],\n",
    "    [2.6, 3.5],\n",
    "    [3.2, 4.2],\n",
    "    [4.3, 5.4],\n",
    "    [5.6, 6.5],\n",
    "    [6.2, 7.2],\n",
    "    [7.3, 8.4],\n",
    "    [8.6, 9.5],\n",
    "    [9.2, 10.2],\n",
    "    [10.3, 2.4],\n",
    "    [11.6, 3.5],\n",
    "    [12.2, 2.2],\n",
    "    [13.3, 2.4],\n",
    "    [14.6, 3.5],\n",
    "    [15.2, 2.2],\n",
    "    [16.3, 2.4],\n",
    "    [17.6, 3.5],\n",
    "    [18.2, 2.2],\n",
    "    [29.3, 2.4],\n",
    "    [20.6, 3.5],\n",
    "    [21.2, 2.2],\n",
    "    [22.3, 2.4],\n",
    "    [23.6, 3.5],\n",
    "\n",
    "])\n",
    "\n",
    "print(xx.shape)\n",
    "yy = np.array([0, 0, 1, 1, 1, 1, 1, 0, 1, 0, 1, 0, 1, 0, 1, 0, 0, 0, 0, 1, 1, 0, 0, 1])\n",
    "print(yy.shape)\n",
    "xi = np.random.rand(24) * (2 - 0) + 0\n",
    "\n",
    "print(\"随机生成的个体：\", xi)\n",
    "\n",
    "indexes = get_indices(xi)\n",
    "\n",
    "print(\"个体对应的实例索引：\", indexes)\n",
    "\n",
    "num_class, classes, counts = get_class_index(yy)\n",
    "\n",
    "#print(\"类：\",num_class)\n",
    "\n",
    "#print(\"类的数量：\",counts)\n",
    "\n",
    "x_sub, y_sub = get_sub_dataset(indexes, xx, yy, num_class, classes, minimum=10)\n",
    "\n",
    "print(\"选择的实例子集x：\", x_sub)\n",
    "print(\"选择的实例子集y：\", y_sub)\n",
    "print(\"Over\")"
   ],
   "metadata": {
    "collapsed": false
   },
   "id": "64df693f07277d28",
   "execution_count": null
  }
 ],
 "metadata": {
  "kernelspec": {
   "display_name": "Python 3",
   "language": "python",
   "name": "python3"
  },
  "language_info": {
   "codemirror_mode": {
    "name": "ipython",
    "version": 2
   },
   "file_extension": ".py",
   "mimetype": "text/x-python",
   "name": "python",
   "nbconvert_exporter": "python",
   "pygments_lexer": "ipython2",
   "version": "2.7.6"
  }
 },
 "nbformat": 4,
 "nbformat_minor": 5
}
