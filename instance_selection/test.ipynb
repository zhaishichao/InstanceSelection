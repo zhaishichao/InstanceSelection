{
 "cells": [
  {
   "cell_type": "markdown",
   "source": [
    "### 测试"
   ],
   "metadata": {
    "collapsed": false
   },
   "id": "18f9113d638eec2d"
  },
  {
   "cell_type": "code",
   "outputs": [
    {
     "name": "stdout",
     "output_type": "stream",
     "text": [
      "Chess.mat distribution: [2796 1433 2854 2166  471  198 4553 1712   78  683  592  390 1985 4194\n",
      "   81 3597  246]\n",
      "trainset distribution: [2247 1155 2241 1733  376  161 3660 1354   58  553  467  316 1579 3375\n",
      "   71 2885  192]\n",
      "testset distribution: [549 278 613 433  95  37 893 358  20 130 125  74 406 819  10 712  54]\n"
     ]
    }
   ],
   "source": [
    "from utils.dataset_utils import get_distribution, remove_class\n",
    "from instance_selection.parameter.parameter import *  # 导入参数的设定\n",
    "from instance_selection.operator.init_toolbox import init_toolbox_emosaic\n",
    "from instance_selection.operator.metrics import calculate_gmean_mauc, calculate_average_gmean_mauc\n",
    "from instance_selection.operator.genetic_operator import selTournamentNDCD\n",
    "from instance_selection.operator.ensemble import vote_result_ensembles, ensemble_individuals\n",
    "from sklearn.preprocessing import StandardScaler, LabelEncoder\n",
    "from sklearn.model_selection import train_test_split\n",
    "from sklearn.neural_network import MLPClassifier\n",
    "import scipy.io as sio  # 从.mat文件中读取数据集\n",
    "import random\n",
    "from deap import tools\n",
    "import warnings\n",
    "\n",
    "warnings.filterwarnings(\"ignore\")  # 忽略警告\n",
    "\n",
    "datasetname = 'Chess.mat'\n",
    "mat_data = sio.loadmat('../datasets/mat/' + datasetname)\n",
    "\n",
    "x = mat_data['X']\n",
    "y = mat_data['Y'][:, 0]  # mat_data['Y']得到的形状为[n,1]，通过[:,0]，得到形状[n,]\n",
    "#x,y=remove_class(x,y,1)\n",
    "x_train, x_test, y_train, y_test = train_test_split(x, y, test_size=0.2, random_state=RANDOM_SEED)  # 划分数据集\n",
    "scaler = StandardScaler()  # 数据的标准化\n",
    "x_train = scaler.fit_transform(x_train)\n",
    "x_test = scaler.transform(x_test)\n",
    "unique_elements_all, classes_all, counts_all = get_distribution(y)  # 获取原始数据集分布\n",
    "unique_elements_train, classes_train, counts_train = get_distribution(y_train)  # 获取训练集分布\n",
    "unique_elements_test, classes_test, counts_test = get_distribution(y_test)  # 获取测试集分布\n",
    "print(datasetname + f' distribution: {counts_all}')\n",
    "print(f'trainset distribution: {counts_train}')\n",
    "print(f'testset distribution: {counts_test}')\n",
    "\n",
    "# label_encoder = LabelEncoder()\n",
    "# y = label_encoder.fit_transform(y)\n",
    "# from scipy.io import savemat\n",
    "# # 保存为 .mat 文件\n",
    "# data_dict = {'X': x, 'Y': y.reshape(-1, 1)}  # 以字典形式存储\n",
    "# savemat('USPS.mat', data_dict)\n",
    "# # 输出保存成功\n",
    "# print(\"数据保存成功！\")"
   ],
   "metadata": {
    "collapsed": false,
    "ExecuteTime": {
     "end_time": "2025-03-17T07:20:50.074657Z",
     "start_time": "2025-03-17T07:20:50.052567Z"
    }
   },
   "id": "a0643f2768950227",
   "execution_count": 49
  }
 ],
 "metadata": {
  "kernelspec": {
   "display_name": "Python 3",
   "language": "python",
   "name": "python3"
  },
  "language_info": {
   "codemirror_mode": {
    "name": "ipython",
    "version": 2
   },
   "file_extension": ".py",
   "mimetype": "text/x-python",
   "name": "python",
   "nbconvert_exporter": "python",
   "pygments_lexer": "ipython2",
   "version": "2.7.6"
  }
 },
 "nbformat": 4,
 "nbformat_minor": 5
}
