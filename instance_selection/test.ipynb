{
 "cells": [
  {
   "cell_type": "markdown",
   "source": [
    "### 测试"
   ],
   "metadata": {
    "collapsed": false
   },
   "id": "18f9113d638eec2d"
  },
  {
   "cell_type": "code",
   "outputs": [
    {
     "name": "stdout",
     "output_type": "stream",
     "text": [
      "Lymphography.mat distribution: [ 4 60 81]\n",
      "trainset distribution: [ 3 47 66]\n",
      "testset distribution: [ 1 13 15]\n",
      "数据保存成功！\n"
     ]
    }
   ],
   "source": [
    "from utils.dataset_utils import get_distribution, remove_class\n",
    "from instance_selection.parameter.parameter import *  # 导入参数的设定\n",
    "from instance_selection.operator.init_toolbox import init_toolbox_emosaic\n",
    "from instance_selection.operator.metrics import calculate_gmean_mauc, calculate_average_gmean_mauc\n",
    "from instance_selection.operator.genetic_operator import selTournamentNDCD\n",
    "from instance_selection.operator.ensemble import vote_result_ensembles, ensemble_individuals\n",
    "from sklearn.preprocessing import StandardScaler, LabelEncoder\n",
    "from sklearn.model_selection import train_test_split\n",
    "from sklearn.neural_network import MLPClassifier\n",
    "import scipy.io as sio  # 从.mat文件中读取数据集\n",
    "import random\n",
    "from deap import tools\n",
    "import warnings\n",
    "\n",
    "warnings.filterwarnings(\"ignore\")  # 忽略警告\n",
    "\n",
    "datasetname = 'Lymphography.mat'\n",
    "mat_data = sio.loadmat('../datasets/mat/' + datasetname)\n",
    "\n",
    "x = mat_data['X']\n",
    "y = mat_data['Y'][:, 0]  # mat_data['Y']得到的形状为[n,1]，通过[:,0]，得到形状[n,]\n",
    "x,y=remove_class(x,y,3)\n",
    "x_train, x_test, y_train, y_test = train_test_split(x, y, test_size=0.2, random_state=RANDOM_SEED)  # 划分数据集\n",
    "scaler = StandardScaler()  # 数据的标准化\n",
    "x_train = scaler.fit_transform(x_train)\n",
    "x_test = scaler.transform(x_test)\n",
    "unique_elements_all, classes_all, counts_all = get_distribution(y)  # 获取原始数据集分布\n",
    "unique_elements_train, classes_train, counts_train = get_distribution(y_train)  # 获取训练集分布\n",
    "unique_elements_test, classes_test, counts_test = get_distribution(y_test)  # 获取测试集分布\n",
    "print(datasetname + f' distribution: {counts_all}')\n",
    "print(f'trainset distribution: {counts_train}')\n",
    "print(f'testset distribution: {counts_test}')\n",
    "\n",
    "label_encoder = LabelEncoder()\n",
    "y = label_encoder.fit_transform(y)\n",
    "from scipy.io import savemat\n",
    "# 保存为 .mat 文件\n",
    "data_dict = {'X': x, 'Y': y.reshape(-1, 1)}  # 以字典形式存储\n",
    "savemat('Lymphography.mat', data_dict)\n",
    "# 输出保存成功\n",
    "print(\"数据保存成功！\")"
   ],
   "metadata": {
    "collapsed": false,
    "ExecuteTime": {
     "end_time": "2025-03-18T03:46:08.881541Z",
     "start_time": "2025-03-18T03:46:08.868906Z"
    }
   },
   "id": "a0643f2768950227",
   "execution_count": 5
  },
  {
   "cell_type": "code",
   "outputs": [
    {
     "name": "stdout",
     "output_type": "stream",
     "text": [
      "更新后的选择序列: [1 1 1 1 0 0 1 1 0 1 1 1 1 1 0 1 1 1 1 1]\n"
     ]
    }
   ],
   "source": [
    "import numpy as np\n",
    "\n",
    "def ensure_min_samples(X, Y, ind, min_samples=5):\n",
    "    \"\"\"\n",
    "    确保ind中选择的实例，每个类别至少有min_samples个，\n",
    "    若不足，则从未选择的实例中补充。\n",
    "    \n",
    "    :param X: 实例数据，形状为 (n_samples, n_features)\n",
    "    :param Y: 标签数据，形状为 (n_samples,)\n",
    "    :param ind: 选择序列，形状为 (n_samples,)\n",
    "    :param min_samples: 每个类别的最小选择样本数\n",
    "    :return: 更新后的选择序列 ind\n",
    "    \"\"\"\n",
    "    ind = np.array(ind)\n",
    "    Y = np.array(Y)\n",
    "    \n",
    "    unique_classes = np.unique(Y)\n",
    "    \n",
    "    for cls in unique_classes:\n",
    "        selected_indices = np.where((ind == 1) & (Y == cls))[0]\n",
    "        unselected_indices = np.where((ind == 0) & (Y == cls))[0]\n",
    "        \n",
    "        if len(selected_indices) < min_samples:\n",
    "            num_needed = min_samples - len(selected_indices)\n",
    "            if len(unselected_indices) >= num_needed:\n",
    "                additional_indices = np.random.choice(unselected_indices, num_needed, replace=False)\n",
    "            else:\n",
    "                additional_indices = unselected_indices  # 如果不足，则全选\n",
    "            \n",
    "            ind[additional_indices] = 1\n",
    "    \n",
    "    return ind\n",
    "\n",
    "# 示例数据\n",
    "X = np.random.rand(20, 5)  # 20个实例，每个实例5个特征\n",
    "Y = np.random.randint(0, 4, 20)  # 20个实例的标签，类别为 0,1,2,3\n",
    "ind = np.random.choice([0, 1], size=20, p=[0.7, 0.3])  # 随机选择部分实例\n",
    "\n",
    "updated_ind = ensure_min_samples(X, Y, ind, min_samples=5)\n",
    "print(\"更新后的选择序列:\", updated_ind)\n"
   ],
   "metadata": {
    "collapsed": false,
    "ExecuteTime": {
     "end_time": "2025-03-18T01:35:31.319980Z",
     "start_time": "2025-03-18T01:35:29.994592Z"
    }
   },
   "id": "bb79500af50d7918",
   "execution_count": 1
  },
  {
   "cell_type": "code",
   "outputs": [
    {
     "data": {
      "text/plain": "'Gmean_MAUC.xlsx'"
     },
     "execution_count": 7,
     "metadata": {},
     "output_type": "execute_result"
    }
   ],
   "source": [
    "import pandas as pd\n",
    "\n",
    "# 数据\n",
    "gmean_data = [\n",
    "    [0.867204, 0.706186, 0.90059, 0.895197, 0.886062, 0.90059],\n",
    "    [0.867204, 0.821475, 0.886062, 0.90059, 0.914664, 0.90059],\n",
    "    [0.867204, 0.734127, 0.886062, 0.886062, 0.914664, 0.886062],\n",
    "    [0.867204, 0.638961, 0.886062, 0.914664, 0.895197, 0.867204],\n",
    "    [0.867204, 0.798275, 0.886062, 0.867204, 0.895197, 0.852503],\n",
    "    [0.867204, 0.593159, 0.886062, 0.90059, 0.914664, 0.881423],\n",
    "    [0.867204, 0.697358, 0.886062, 0.0, 0.895197, 0.871041],\n",
    "    [0.867204, 0.633592, 0.886062, 0.871041, 0.895197, 0.90059],\n",
    "    [0.867204, 0.786738, 0.886062, 0.881423, 0.881423, 0.895197],\n",
    "    [0.867204, 0.740789, 0.90059, 0.881423, 0.90059, 0.0],\n",
    "    [0.867204, 0.755039, 0.886062, 0.881423, 0.933336, 0.0],\n",
    "    [0.867204, 0.703268, 0.0, 0.881423, 0.881423, 0.886062],\n",
    "    [0.867204, 0.847488, 0.886062, 0.895197, 0.914664, 0.881423],\n",
    "    [0.867204, 0.703268, 0.0, 0.881423, 0.881423, 0.886062],\n",
    "    [0.867204, 0.734127, 0.886062, 0.881423, 0.895197, 0.871041],\n",
    "    [0.867204, 0.743421, 0.886062, 0.881423, 0.914664, 0.90059],\n",
    "    [0.867204, 0.0, 0.90059, 0.881423, 0.895197, 0.867204],\n",
    "    [0.867204, 0.0, 0.886062, 0.90059, 0.895197, 0.914664],\n",
    "    [0.867204, 0.837276, 0.886062, 0.895197, 0.914664, 0.881423],\n",
    "    [0.867204, 0.725969, 0.886062, 0.881423, 0.90059, 0.867204],\n",
    "    [0.867204, 0.0, 0.886062, 0.90059, 0.914664, 0.895197]\n",
    "]\n",
    "\n",
    "mauc_data = [\n",
    "    [0.953261, 0.919928, 0.965217, 0.950362, 0.957609, 0.942754],\n",
    "    [0.953261, 0.908696, 0.943116, 0.947101, 0.967029, 0.94529],\n",
    "    [0.953261, 0.868478, 0.952174, 0.947826, 0.963406, 0.941304],\n",
    "    [0.953261, 0.766667, 0.961957, 0.940217, 0.95471, 0.933333],\n",
    "    [0.953261, 0.919565, 0.923188, 0.91558, 0.967029, 0.938768],\n",
    "    [0.953261, 0.747464, 0.944203, 0.931159, 0.956522, 0.946377],\n",
    "    [0.953261, 0.855072, 0.955435, 0.92971, 0.969928, 0.940217],\n",
    "    [0.953261, 0.869565, 0.956522, 0.944928, 0.969928, 0.92971],\n",
    "    [0.953261, 0.906884, 0.937681, 0.950362, 0.952536, 0.955435],\n",
    "    [0.953261, 0.876812, 0.965217, 0.961957, 0.968116, 0.947826],\n",
    "    [0.953261, 0.924275, 0.951087, 0.929348, 0.957609, 0.951449],\n",
    "    [0.953261, 0.806159, 0.903623, 0.955072, 0.965942, 0.948913],\n",
    "    [0.953261, 0.943116, 0.956884, 0.952536, 0.977536, 0.953986],\n",
    "    [0.953261, 0.806159, 0.903623, 0.955072, 0.965942, 0.948913],\n",
    "    [0.953261, 0.922826, 0.962681, 0.928261, 0.967754, 0.922826],\n",
    "    [0.953261, 0.872101, 0.949275, 0.946377, 0.949275, 0.927174],\n",
    "    [0.953261, 0.658696, 0.968841, 0.960507, 0.963406, 0.94058],\n",
    "    [0.953261, 0.832971, 0.96413, 0.948551, 0.963768, 0.955435],\n",
    "    [0.953261, 0.942754, 0.953623, 0.955435, 0.961957, 0.950725],\n",
    "    [0.953261, 0.91558, 0.936232, 0.951087, 0.939493, 0.943841],\n",
    "    [0.953261, 0.83442, 0.92971, 0.930072, 0.958333, 0.942029]\n",
    "]\n",
    "\n",
    "# 创建DataFrame\n",
    "gmean_df = pd.DataFrame(gmean_data, columns=[f\"Gmean_{i+1}\" for i in range(6)])\n",
    "gmean_df.insert(0, \"Run\", [f\"第{i+1}次运行\" for i in range(len(gmean_data))])\n",
    "\n",
    "mauc_df = pd.DataFrame(mauc_data, columns=[f\"mAUC_{i+1}\" for i in range(6)])\n",
    "mauc_df.insert(0, \"Run\", [f\"第{i+1}次运行\" for i in range(len(mauc_data))])\n",
    "\n",
    "# 保存到Excel文件\n",
    "output_path = \"Gmean_MAUC.xlsx\"\n",
    "with pd.ExcelWriter(output_path) as writer:\n",
    "    gmean_df.to_excel(writer, sheet_name=\"Gmean\", index=False)\n",
    "    mauc_df.to_excel(writer, sheet_name=\"MAUC\", index=False)\n",
    "\n",
    "output_path\n"
   ],
   "metadata": {
    "collapsed": false,
    "ExecuteTime": {
     "end_time": "2025-03-18T04:12:26.238690Z",
     "start_time": "2025-03-18T04:12:26.151152Z"
    }
   },
   "id": "d56cbfe22a69c419",
   "execution_count": 7
  },
  {
   "cell_type": "code",
   "outputs": [
    {
     "name": "stdout",
     "output_type": "stream",
     "text": [
      "[2, 3, 4, 5, 6, 7, 8, 9, 10, 11, 12, 13, 14]\n"
     ]
    }
   ],
   "source": [
    "a=[1,2,3,4,5,6,7,8,9,10,11,12,13]\n",
    "for i in range(len(a)):\n",
    "    a[i]=a[i]+1\n",
    "print(a)"
   ],
   "metadata": {
    "collapsed": false,
    "ExecuteTime": {
     "end_time": "2025-03-18T04:43:31.310246Z",
     "start_time": "2025-03-18T04:43:31.292499Z"
    }
   },
   "id": "8f8e3067d31232b3",
   "execution_count": 10
  }
 ],
 "metadata": {
  "kernelspec": {
   "display_name": "Python 3",
   "language": "python",
   "name": "python3"
  },
  "language_info": {
   "codemirror_mode": {
    "name": "ipython",
    "version": 2
   },
   "file_extension": ".py",
   "mimetype": "text/x-python",
   "name": "python",
   "nbconvert_exporter": "python",
   "pygments_lexer": "ipython2",
   "version": "2.7.6"
  }
 },
 "nbformat": 4,
 "nbformat_minor": 5
}
