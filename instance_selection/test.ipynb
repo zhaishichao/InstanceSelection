{
 "cells": [
  {
   "cell_type": "markdown",
   "source": [
    "### 测试"
   ],
   "metadata": {
    "collapsed": false
   },
   "id": "18f9113d638eec2d"
  },
  {
   "cell_type": "code",
   "outputs": [],
   "source": [
    "from utils.dataset_utils import get_distribution, remove_class\n",
    "from instance_selection.parameter.parameter import *  # 导入参数的设定\n",
    "from instance_selection.operator.init_toolbox import init_toolbox_emosaic\n",
    "from instance_selection.operator.metrics import calculate_gmean_mauc, calculate_average_gmean_mauc\n",
    "from instance_selection.operator.genetic_operator import selTournamentNDCD\n",
    "from instance_selection.operator.ensemble import vote_result_ensembles, ensemble_individuals\n",
    "from sklearn.preprocessing import StandardScaler, LabelEncoder\n",
    "from sklearn.model_selection import train_test_split\n",
    "from sklearn.neural_network import MLPClassifier\n",
    "import scipy.io as sio  # 从.mat文件中读取数据集\n",
    "import random\n",
    "from deap import tools\n",
    "import warnings\n",
    "\n",
    "warnings.filterwarnings(\"ignore\")  # 忽略警告\n",
    "\n",
    "datasetname = 'Chess.mat'\n",
    "mat_data = sio.loadmat('../datasets/mat/' + datasetname)\n",
    "\n",
    "x = mat_data['X']\n",
    "y = mat_data['Y'][:, 0]  # mat_data['Y']得到的形状为[n,1]，通过[:,0]，得到形状[n,]\n",
    "#x,y=remove_class(x,y,1)\n",
    "x_train, x_test, y_train, y_test = train_test_split(x, y, test_size=0.2, random_state=RANDOM_SEED)  # 划分数据集\n",
    "scaler = StandardScaler()  # 数据的标准化\n",
    "x_train = scaler.fit_transform(x_train)\n",
    "x_test = scaler.transform(x_test)\n",
    "unique_elements_all, classes_all, counts_all = get_distribution(y)  # 获取原始数据集分布\n",
    "unique_elements_train, classes_train, counts_train = get_distribution(y_train)  # 获取训练集分布\n",
    "unique_elements_test, classes_test, counts_test = get_distribution(y_test)  # 获取测试集分布\n",
    "print(datasetname + f' distribution: {counts_all}')\n",
    "print(f'trainset distribution: {counts_train}')\n",
    "print(f'testset distribution: {counts_test}')\n",
    "\n",
    "# label_encoder = LabelEncoder()\n",
    "# y = label_encoder.fit_transform(y)\n",
    "# from scipy.io import savemat\n",
    "# # 保存为 .mat 文件\n",
    "# data_dict = {'X': x, 'Y': y.reshape(-1, 1)}  # 以字典形式存储\n",
    "# savemat('USPS.mat', data_dict)\n",
    "# # 输出保存成功\n",
    "# print(\"数据保存成功！\")"
   ],
   "metadata": {
    "collapsed": false
   },
   "id": "a0643f2768950227",
   "execution_count": null
  },
  {
   "cell_type": "code",
   "outputs": [
    {
     "name": "stdout",
     "output_type": "stream",
     "text": [
      "更新后的选择序列: [1 1 1 1 0 0 1 1 0 1 1 1 1 1 0 1 1 1 1 1]\n"
     ]
    }
   ],
   "source": [
    "import numpy as np\n",
    "\n",
    "def ensure_min_samples(X, Y, ind, min_samples=5):\n",
    "    \"\"\"\n",
    "    确保ind中选择的实例，每个类别至少有min_samples个，\n",
    "    若不足，则从未选择的实例中补充。\n",
    "    \n",
    "    :param X: 实例数据，形状为 (n_samples, n_features)\n",
    "    :param Y: 标签数据，形状为 (n_samples,)\n",
    "    :param ind: 选择序列，形状为 (n_samples,)\n",
    "    :param min_samples: 每个类别的最小选择样本数\n",
    "    :return: 更新后的选择序列 ind\n",
    "    \"\"\"\n",
    "    ind = np.array(ind)\n",
    "    Y = np.array(Y)\n",
    "    \n",
    "    unique_classes = np.unique(Y)\n",
    "    \n",
    "    for cls in unique_classes:\n",
    "        selected_indices = np.where((ind == 1) & (Y == cls))[0]\n",
    "        unselected_indices = np.where((ind == 0) & (Y == cls))[0]\n",
    "        \n",
    "        if len(selected_indices) < min_samples:\n",
    "            num_needed = min_samples - len(selected_indices)\n",
    "            if len(unselected_indices) >= num_needed:\n",
    "                additional_indices = np.random.choice(unselected_indices, num_needed, replace=False)\n",
    "            else:\n",
    "                additional_indices = unselected_indices  # 如果不足，则全选\n",
    "            \n",
    "            ind[additional_indices] = 1\n",
    "    \n",
    "    return ind\n",
    "\n",
    "# 示例数据\n",
    "X = np.random.rand(20, 5)  # 20个实例，每个实例5个特征\n",
    "Y = np.random.randint(0, 4, 20)  # 20个实例的标签，类别为 0,1,2,3\n",
    "ind = np.random.choice([0, 1], size=20, p=[0.7, 0.3])  # 随机选择部分实例\n",
    "\n",
    "updated_ind = ensure_min_samples(X, Y, ind, min_samples=5)\n",
    "print(\"更新后的选择序列:\", updated_ind)\n"
   ],
   "metadata": {
    "collapsed": false,
    "ExecuteTime": {
     "end_time": "2025-03-18T01:35:31.319980Z",
     "start_time": "2025-03-18T01:35:29.994592Z"
    }
   },
   "id": "bb79500af50d7918",
   "execution_count": 1
  }
 ],
 "metadata": {
  "kernelspec": {
   "display_name": "Python 3",
   "language": "python",
   "name": "python3"
  },
  "language_info": {
   "codemirror_mode": {
    "name": "ipython",
    "version": 2
   },
   "file_extension": ".py",
   "mimetype": "text/x-python",
   "name": "python",
   "nbconvert_exporter": "python",
   "pygments_lexer": "ipython2",
   "version": "2.7.6"
  }
 },
 "nbformat": 4,
 "nbformat_minor": 5
}
