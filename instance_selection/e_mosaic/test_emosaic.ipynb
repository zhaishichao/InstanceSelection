{
 "cells": [
  {
   "cell_type": "markdown",
   "source": [
    "### 测试"
   ],
   "metadata": {
    "collapsed": false
   },
   "id": "18f9113d638eec2d"
  },
  {
   "cell_type": "code",
   "outputs": [
    {
     "name": "stdout",
     "output_type": "stream",
     "text": [
      "Connect instances: 67557\n",
      "Connect distribution: [ 6449 16635 44473]\n",
      "trainset distribution: [ 5158 13295 35592]\n",
      "testset distribution: [1291 3340 8881]\n",
      "(0.10992, 0.676733, array([0.00387297, 0.36946108, 0.92816124]))\n"
     ]
    }
   ],
   "source": [
    "from utils.dataset_utils import get_distribution\n",
    "from instance_selection.parameter.parameter import *  # 导入参数的设定\n",
    "from instance_selection.operator.init_toolbox import init_toolbox_emosaic\n",
    "from instance_selection.operator.metrics import calculate_gmean_mauc, calculate_average_gmean_mauc\n",
    "from instance_selection.operator.genetic_operator import selTournamentNDCD\n",
    "from instance_selection.operator.ensemble import vote_result_ensembles, ensemble_individuals\n",
    "from sklearn.preprocessing import StandardScaler\n",
    "from sklearn.model_selection import train_test_split\n",
    "from sklearn.neural_network import MLPClassifier\n",
    "import scipy.io as sio  # 从.mat文件中读取数据集\n",
    "import random\n",
    "import numpy as np\n",
    "from deap import tools\n",
    "import warnings\n",
    "\n",
    "warnings.filterwarnings(\"ignore\")  # 忽略警告\n",
    "\n",
    "DATASET = Connect  # 数据集名称（包含对应的参数配置）\n",
    "\n",
    "datasetname = DATASET.DATASETNAME.split('.')[0]\n",
    "\n",
    "# 加载、划分数据集\n",
    "mat_data = sio.loadmat(IMBALANCED_DATASET_PATH + DATASET.DATASETNAME)\n",
    "x = mat_data['X']\n",
    "y = mat_data['Y'][:, 0]  # mat_data['Y']得到的形状为[n,1]，通过[:,0]，得到形状[n,]\n",
    "x_train, x_test, y_train, y_test = train_test_split(x, y, test_size=0.3, random_state=RANDOM_SEED)  # 划分数据集\n",
    "scaler = StandardScaler()  # 数据的标准化\n",
    "x_train = scaler.fit_transform(x_train)\n",
    "x_test = scaler.transform(x_test)\n",
    "\n",
    "unique_elements_all, classes_all, counts_all = get_distribution(y)  # 获取原始数据集分布\n",
    "unique_elements_train, classes_train, counts_train = get_distribution(y_train)  # 获取训练集分布\n",
    "unique_elements_test, classes_test, counts_test = get_distribution(y_test)  # 获取测试集分布\n",
    "print(datasetname + f' instances: {x.shape[0]}')\n",
    "print(datasetname + f' distribution: {counts_all}')\n",
    "print(f'trainset distribution: {counts_train}')\n",
    "print(f'testset distribution: {counts_test}')\n",
    "model = MLPClassifier(hidden_layer_sizes=(DATASET.HIDDEN_SIZE,), max_iter=DATASET.MAX_ITER,\n",
    "                      random_state=RANDOM_SEED, learning_rate_init=DATASET.LEARNING_RATE)\n",
    "\n",
    "model.fit(x_train, y_train)\n",
    "\n",
    "# 测试模型\n",
    "y_test_probs = model.predict_proba(x_test)\n",
    "y_test_preds = model.predict(x_test)\n",
    "\n",
    "print(calculate_gmean_mauc(y_test_probs, y_test))"
   ],
   "metadata": {
    "collapsed": false,
    "ExecuteTime": {
     "end_time": "2025-03-21T04:00:58.581411Z",
     "start_time": "2025-03-21T04:00:47.414903Z"
    }
   },
   "id": "8bc748f7d445015d",
   "execution_count": 1
  },
  {
   "cell_type": "markdown",
   "source": [
    "## E-MOSAIC"
   ],
   "metadata": {
    "collapsed": false
   },
   "id": "4d0853f79163e74f"
  },
  {
   "cell_type": "code",
   "outputs": [
    {
     "name": "stdout",
     "output_type": "stream",
     "text": [
      "*****************算法开始执行：******************\n"
     ]
    },
    {
     "ename": "TypeError",
     "evalue": "loop of ufunc does not support argument 0 of type MLPClassifier which has no callable rint method",
     "output_type": "error",
     "traceback": [
      "\u001B[1;31m---------------------------------------------------------------------------\u001B[0m",
      "\u001B[1;31mAttributeError\u001B[0m                            Traceback (most recent call last)",
      "\u001B[1;31mAttributeError\u001B[0m: 'MLPClassifier' object has no attribute 'rint'",
      "\nThe above exception was the direct cause of the following exception:\n",
      "\u001B[1;31mTypeError\u001B[0m                                 Traceback (most recent call last)",
      "Cell \u001B[1;32mIn[2], line 66\u001B[0m\n\u001B[0;32m     64\u001B[0m ensembles_results \u001B[38;5;241m=\u001B[39m [[] \u001B[38;5;28;01mfor\u001B[39;00m _ \u001B[38;5;129;01min\u001B[39;00m \u001B[38;5;28mrange\u001B[39m(num_run)]\n\u001B[0;32m     65\u001B[0m \u001B[38;5;28;01mfor\u001B[39;00m i \u001B[38;5;129;01min\u001B[39;00m \u001B[38;5;28mrange\u001B[39m(num_run):\n\u001B[1;32m---> 66\u001B[0m     ensemble_classifiers \u001B[38;5;241m=\u001B[39m \u001B[43mmain\u001B[49m\u001B[43m(\u001B[49m\u001B[43mx_train\u001B[49m\u001B[43m,\u001B[49m\u001B[43m \u001B[49m\u001B[43my_train\u001B[49m\u001B[43m,\u001B[49m\u001B[43m \u001B[49m\u001B[43mmodel\u001B[49m\u001B[38;5;241;43m=\u001B[39;49m\u001B[43mmodel\u001B[49m\u001B[43m)\u001B[49m\n\u001B[0;32m     67\u001B[0m     vote_pred_prob \u001B[38;5;241m=\u001B[39m vote_result_ensembles(ensemble_classifiers, x_test)  \u001B[38;5;66;03m# 默认预测结果是软标签\u001B[39;00m\n\u001B[0;32m     68\u001B[0m     gmean, mauc, recall_per_class \u001B[38;5;241m=\u001B[39m calculate_gmean_mauc(vote_pred_prob, y_test)\n",
      "Cell \u001B[1;32mIn[2], line 57\u001B[0m, in \u001B[0;36mmain\u001B[1;34m(x_train, y_train, model, balanced_method)\u001B[0m\n\u001B[0;32m     54\u001B[0m     logbook\u001B[38;5;241m.\u001B[39mrecord(gen\u001B[38;5;241m=\u001B[39mgen, fronts\u001B[38;5;241m=\u001B[39m\u001B[38;5;28mlen\u001B[39m(pareto_fronts), ensembles_size\u001B[38;5;241m=\u001B[39m\u001B[38;5;28mlen\u001B[39m(ensembles),\n\u001B[0;32m     55\u001B[0m                    avg_gmean\u001B[38;5;241m=\u001B[39mcurr_gmean, avg_mauc\u001B[38;5;241m=\u001B[39mcurr_mauc, \u001B[38;5;241m*\u001B[39m\u001B[38;5;241m*\u001B[39mrecord)\n\u001B[0;32m     56\u001B[0m     \u001B[38;5;66;03m# print(logbook.stream)\u001B[39;00m\n\u001B[1;32m---> 57\u001B[0m ensemble_classifiers \u001B[38;5;241m=\u001B[39m \u001B[43mensemble_individuals\u001B[49m\u001B[43m(\u001B[49m\u001B[43msave_ensembles\u001B[49m\u001B[43m,\u001B[49m\u001B[43m \u001B[49m\u001B[43mmodel\u001B[49m\u001B[43m,\u001B[49m\u001B[43m \u001B[49m\u001B[43mx_train\u001B[49m\u001B[43m,\u001B[49m\u001B[43m \u001B[49m\u001B[43my_train\u001B[49m\u001B[43m)\u001B[49m\n\u001B[0;32m     58\u001B[0m \u001B[38;5;28;01mreturn\u001B[39;00m ensemble_classifiers\n",
      "File \u001B[1;32mD:\\Develop\\WorkSpace\\Python\\InstanceSelection\\instance_selection\\operator\\ensemble.py:33\u001B[0m, in \u001B[0;36mensemble_individuals\u001B[1;34m(individuals, model, x_train, y_train)\u001B[0m\n\u001B[0;32m     31\u001B[0m ensembles \u001B[38;5;241m=\u001B[39m []\n\u001B[0;32m     32\u001B[0m \u001B[38;5;28;01mfor\u001B[39;00m ind \u001B[38;5;129;01min\u001B[39;00m individuals:\n\u001B[1;32m---> 33\u001B[0m     x_sub, y_sub \u001B[38;5;241m=\u001B[39m \u001B[43mget_subset\u001B[49m\u001B[43m(\u001B[49m\u001B[43mind\u001B[49m\u001B[43m,\u001B[49m\u001B[43m \u001B[49m\u001B[43mx_train\u001B[49m\u001B[43m,\u001B[49m\u001B[43m \u001B[49m\u001B[43my_train\u001B[49m\u001B[43m)\u001B[49m\n\u001B[0;32m     34\u001B[0m     \u001B[38;5;66;03m# 用实例选择的子集训练模型\u001B[39;00m\n\u001B[0;32m     35\u001B[0m     model_clone \u001B[38;5;241m=\u001B[39m clone(model)\n",
      "File \u001B[1;32mD:\\Develop\\WorkSpace\\Python\\InstanceSelection\\utils\\dataset_utils.py:96\u001B[0m, in \u001B[0;36mget_subset\u001B[1;34m(individual, dataset_x, dataset_y)\u001B[0m\n\u001B[0;32m     91\u001B[0m \u001B[38;5;28;01mdef\u001B[39;00m \u001B[38;5;21mget_subset\u001B[39m(individual, dataset_x, dataset_y):\n\u001B[0;32m     92\u001B[0m \u001B[38;5;250m    \u001B[39m\u001B[38;5;124;03m'''\u001B[39;00m\n\u001B[0;32m     93\u001B[0m \u001B[38;5;124;03m    :param individual:\u001B[39;00m\n\u001B[0;32m     94\u001B[0m \u001B[38;5;124;03m    :return: 实例子集\u001B[39;00m\n\u001B[0;32m     95\u001B[0m \u001B[38;5;124;03m    '''\u001B[39;00m\n\u001B[1;32m---> 96\u001B[0m     indices \u001B[38;5;241m=\u001B[39m \u001B[43mget_indices\u001B[49m\u001B[43m(\u001B[49m\u001B[43mindividual\u001B[49m\u001B[43m)\u001B[49m\n\u001B[0;32m     97\u001B[0m     x_sub \u001B[38;5;241m=\u001B[39m dataset_x[indices, :]\n\u001B[0;32m     98\u001B[0m     y_sub \u001B[38;5;241m=\u001B[39m dataset_y[indices]\n",
      "File \u001B[1;32mD:\\Develop\\WorkSpace\\Python\\InstanceSelection\\utils\\dataset_utils.py:85\u001B[0m, in \u001B[0;36mget_indices\u001B[1;34m(individual)\u001B[0m\n\u001B[0;32m     80\u001B[0m \u001B[38;5;28;01mdef\u001B[39;00m \u001B[38;5;21mget_indices\u001B[39m(individual):\n\u001B[0;32m     81\u001B[0m \u001B[38;5;250m    \u001B[39m\u001B[38;5;124;03m'''\u001B[39;00m\n\u001B[0;32m     82\u001B[0m \u001B[38;5;124;03m    :param individual: individual（用二进制或0-1范围内的实值进行编码）\u001B[39;00m\n\u001B[0;32m     83\u001B[0m \u001B[38;5;124;03m    :return: 被选择实例的索引\u001B[39;00m\n\u001B[0;32m     84\u001B[0m \u001B[38;5;124;03m    '''\u001B[39;00m\n\u001B[1;32m---> 85\u001B[0m     individual \u001B[38;5;241m=\u001B[39m \u001B[43mnp\u001B[49m\u001B[38;5;241;43m.\u001B[39;49m\u001B[43mround\u001B[49m\u001B[43m(\u001B[49m\u001B[43mindividual\u001B[49m\u001B[43m)\u001B[49m  \u001B[38;5;66;03m# 数据范围在0-1之间，转化成int的同时会舍去小数部分，从而将个体映射到0-1编码\u001B[39;00m\n\u001B[0;32m     86\u001B[0m     indices \u001B[38;5;241m=\u001B[39m np\u001B[38;5;241m.\u001B[39mwhere(individual \u001B[38;5;241m==\u001B[39m \u001B[38;5;241m1\u001B[39m)  \u001B[38;5;66;03m# 1代表选择该实例，返回值是tuple，tuple[0]取元组中的第一个元素\u001B[39;00m\n\u001B[0;32m     87\u001B[0m     \u001B[38;5;28;01mreturn\u001B[39;00m indices[\u001B[38;5;241m0\u001B[39m]\n",
      "File \u001B[1;32m<__array_function__ internals>:180\u001B[0m, in \u001B[0;36mround_\u001B[1;34m(*args, **kwargs)\u001B[0m\n",
      "File \u001B[1;32mD:\\IDE\\Anaconda\\envs\\pytorch\\lib\\site-packages\\numpy\\core\\fromnumeric.py:3731\u001B[0m, in \u001B[0;36mround_\u001B[1;34m(a, decimals, out)\u001B[0m\n\u001B[0;32m   3722\u001B[0m \u001B[38;5;129m@array_function_dispatch\u001B[39m(_around_dispatcher)\n\u001B[0;32m   3723\u001B[0m \u001B[38;5;28;01mdef\u001B[39;00m \u001B[38;5;21mround_\u001B[39m(a, decimals\u001B[38;5;241m=\u001B[39m\u001B[38;5;241m0\u001B[39m, out\u001B[38;5;241m=\u001B[39m\u001B[38;5;28;01mNone\u001B[39;00m):\n\u001B[0;32m   3724\u001B[0m \u001B[38;5;250m    \u001B[39m\u001B[38;5;124;03m\"\"\"\u001B[39;00m\n\u001B[0;32m   3725\u001B[0m \u001B[38;5;124;03m    Round an array to the given number of decimals.\u001B[39;00m\n\u001B[0;32m   3726\u001B[0m \n\u001B[1;32m   (...)\u001B[0m\n\u001B[0;32m   3729\u001B[0m \u001B[38;5;124;03m    around : equivalent function; see for details.\u001B[39;00m\n\u001B[0;32m   3730\u001B[0m \u001B[38;5;124;03m    \"\"\"\u001B[39;00m\n\u001B[1;32m-> 3731\u001B[0m     \u001B[38;5;28;01mreturn\u001B[39;00m \u001B[43maround\u001B[49m\u001B[43m(\u001B[49m\u001B[43ma\u001B[49m\u001B[43m,\u001B[49m\u001B[43m \u001B[49m\u001B[43mdecimals\u001B[49m\u001B[38;5;241;43m=\u001B[39;49m\u001B[43mdecimals\u001B[49m\u001B[43m,\u001B[49m\u001B[43m \u001B[49m\u001B[43mout\u001B[49m\u001B[38;5;241;43m=\u001B[39;49m\u001B[43mout\u001B[49m\u001B[43m)\u001B[49m\n",
      "File \u001B[1;32m<__array_function__ internals>:180\u001B[0m, in \u001B[0;36maround\u001B[1;34m(*args, **kwargs)\u001B[0m\n",
      "File \u001B[1;32mD:\\IDE\\Anaconda\\envs\\pytorch\\lib\\site-packages\\numpy\\core\\fromnumeric.py:3305\u001B[0m, in \u001B[0;36maround\u001B[1;34m(a, decimals, out)\u001B[0m\n\u001B[0;32m   3214\u001B[0m \u001B[38;5;129m@array_function_dispatch\u001B[39m(_around_dispatcher)\n\u001B[0;32m   3215\u001B[0m \u001B[38;5;28;01mdef\u001B[39;00m \u001B[38;5;21maround\u001B[39m(a, decimals\u001B[38;5;241m=\u001B[39m\u001B[38;5;241m0\u001B[39m, out\u001B[38;5;241m=\u001B[39m\u001B[38;5;28;01mNone\u001B[39;00m):\n\u001B[0;32m   3216\u001B[0m \u001B[38;5;250m    \u001B[39m\u001B[38;5;124;03m\"\"\"\u001B[39;00m\n\u001B[0;32m   3217\u001B[0m \u001B[38;5;124;03m    Evenly round to the given number of decimals.\u001B[39;00m\n\u001B[0;32m   3218\u001B[0m \n\u001B[1;32m   (...)\u001B[0m\n\u001B[0;32m   3303\u001B[0m \n\u001B[0;32m   3304\u001B[0m \u001B[38;5;124;03m    \"\"\"\u001B[39;00m\n\u001B[1;32m-> 3305\u001B[0m     \u001B[38;5;28;01mreturn\u001B[39;00m \u001B[43m_wrapfunc\u001B[49m\u001B[43m(\u001B[49m\u001B[43ma\u001B[49m\u001B[43m,\u001B[49m\u001B[43m \u001B[49m\u001B[38;5;124;43m'\u001B[39;49m\u001B[38;5;124;43mround\u001B[39;49m\u001B[38;5;124;43m'\u001B[39;49m\u001B[43m,\u001B[49m\u001B[43m \u001B[49m\u001B[43mdecimals\u001B[49m\u001B[38;5;241;43m=\u001B[39;49m\u001B[43mdecimals\u001B[49m\u001B[43m,\u001B[49m\u001B[43m \u001B[49m\u001B[43mout\u001B[49m\u001B[38;5;241;43m=\u001B[39;49m\u001B[43mout\u001B[49m\u001B[43m)\u001B[49m\n",
      "File \u001B[1;32mD:\\IDE\\Anaconda\\envs\\pytorch\\lib\\site-packages\\numpy\\core\\fromnumeric.py:54\u001B[0m, in \u001B[0;36m_wrapfunc\u001B[1;34m(obj, method, *args, **kwds)\u001B[0m\n\u001B[0;32m     52\u001B[0m bound \u001B[38;5;241m=\u001B[39m \u001B[38;5;28mgetattr\u001B[39m(obj, method, \u001B[38;5;28;01mNone\u001B[39;00m)\n\u001B[0;32m     53\u001B[0m \u001B[38;5;28;01mif\u001B[39;00m bound \u001B[38;5;129;01mis\u001B[39;00m \u001B[38;5;28;01mNone\u001B[39;00m:\n\u001B[1;32m---> 54\u001B[0m     \u001B[38;5;28;01mreturn\u001B[39;00m _wrapit(obj, method, \u001B[38;5;241m*\u001B[39margs, \u001B[38;5;241m*\u001B[39m\u001B[38;5;241m*\u001B[39mkwds)\n\u001B[0;32m     56\u001B[0m \u001B[38;5;28;01mtry\u001B[39;00m:\n\u001B[0;32m     57\u001B[0m     \u001B[38;5;28;01mreturn\u001B[39;00m bound(\u001B[38;5;241m*\u001B[39margs, \u001B[38;5;241m*\u001B[39m\u001B[38;5;241m*\u001B[39mkwds)\n",
      "File \u001B[1;32mD:\\IDE\\Anaconda\\envs\\pytorch\\lib\\site-packages\\numpy\\core\\fromnumeric.py:43\u001B[0m, in \u001B[0;36m_wrapit\u001B[1;34m(obj, method, *args, **kwds)\u001B[0m\n\u001B[0;32m     41\u001B[0m \u001B[38;5;28;01mexcept\u001B[39;00m \u001B[38;5;167;01mAttributeError\u001B[39;00m:\n\u001B[0;32m     42\u001B[0m     wrap \u001B[38;5;241m=\u001B[39m \u001B[38;5;28;01mNone\u001B[39;00m\n\u001B[1;32m---> 43\u001B[0m result \u001B[38;5;241m=\u001B[39m \u001B[38;5;28mgetattr\u001B[39m(asarray(obj), method)(\u001B[38;5;241m*\u001B[39margs, \u001B[38;5;241m*\u001B[39m\u001B[38;5;241m*\u001B[39mkwds)\n\u001B[0;32m     44\u001B[0m \u001B[38;5;28;01mif\u001B[39;00m wrap:\n\u001B[0;32m     45\u001B[0m     \u001B[38;5;28;01mif\u001B[39;00m \u001B[38;5;129;01mnot\u001B[39;00m \u001B[38;5;28misinstance\u001B[39m(result, mu\u001B[38;5;241m.\u001B[39mndarray):\n",
      "\u001B[1;31mTypeError\u001B[0m: loop of ufunc does not support argument 0 of type MLPClassifier which has no callable rint method"
     ]
    }
   ],
   "source": [
    "toolbox = init_toolbox_emosaic(model, x_train, y_train, n_splits=N_SPLITS, random_seed=RANDOM_SEED)  # 初始化toolbox\n",
    "\n",
    "\n",
    "def main(x_train, y_train, model, balanced_method='balanced'):\n",
    "    not_replaced = 0\n",
    "    stats = tools.Statistics(lambda ind: ind.fitness.values)\n",
    "    logbook = tools.Logbook()\n",
    "    logbook.header = \"gen\", \"fronts\", \"ensembles_size\", \"avg_gmean\", \"avg_mauc\"\n",
    "    ####################################种群的初始化###########################\n",
    "    pop = toolbox.population(n=POPSIZE)  # 个体编码默认全为0\n",
    "    pop = toolbox.init_population(pop, balanced_method=balanced_method)  # 初始化种群中的个体\n",
    "    toolbox.evaluate(pop)  # 计算个体的适应度\n",
    "    save_ensembles = ensemble_individuals(pop, model, x_train, y_train)  # 保存最优的集成分类器\n",
    "    save_gmean, save_mauc = calculate_average_gmean_mauc(pop)\n",
    "    ####################################种群的迭代#################################################\n",
    "    for gen in range(1, NGEN + 1):\n",
    "        offspring = selTournamentNDCD(pop, POPSIZE, tournsize=3)  # 锦标赛选择（1、先根据非支配排序的等级2、再根据拥挤距离）\n",
    "        offspring = [toolbox.clone(ind) for ind in offspring]\n",
    "        for i in range(0, len(offspring) - 1, 2):\n",
    "            if random.random() <= CXPB:\n",
    "                offspring[i], offspring[i + 1] = toolbox.mate(offspring[i], offspring[i + 1])  # 单点交叉\n",
    "            offspring[i] = toolbox.mutate(offspring[i], MR)[0]  # 二进制反转突变\n",
    "            offspring[i + 1] = toolbox.mutate(offspring[i + 1], MR)[0]  # 二进制反转突变\n",
    "            del offspring[i].fitness.values, offspring[i + 1].fitness.values\n",
    "        #############################################################合并、去重#####################################################\n",
    "        offspring = toolbox.individuals_constraints(offspring)  # 限制每个类至少有一个实例被选择\n",
    "        pop = pop + offspring  # 种群的合并\n",
    "        pop, _ = toolbox.remove_duplicates(pop)  # 去重\n",
    "        while len(pop) < POPSIZE:  # 保证种群大小为POPSIZE\n",
    "            add_individual = []\n",
    "            num_add = POPSIZE - len(pop)\n",
    "            for i in range(0, num_add):\n",
    "                index = random.randint(0, len(offspring) - 1)  # 在0-len(offspring)范围内随机产生一个索引\n",
    "                offspring[index] = toolbox.mutate(offspring[index], MR)[0]  # 选择index对应的个体进行突变\n",
    "                del offspring[index].fitness.values\n",
    "                add_individual.append(offspring[index])\n",
    "            add_individual = toolbox.individuals_constraints(add_individual)  # 限制每个类至少有一个实例被选择\n",
    "            pop = pop + add_individual  # 种群的合并\n",
    "            pop, _ = toolbox.remove_duplicates(pop)  # 去重\n",
    "        pop = toolbox.individuals_constraints(pop) # 限制每个类至少有5个实例被选择\n",
    "        toolbox.evaluate(pop)  # 计算新种群适应度\n",
    "        ###############################################得到pareto_fronts############################################\n",
    "        pop, pareto_fronts = toolbox.select(pop, POPSIZE)\n",
    "        ensembles = pop  # 集成的个体\n",
    "        curr_gmean, curr_mauc = calculate_average_gmean_mauc(ensembles)  # 计算的是所有个体的metrics平均值\n",
    "        if curr_gmean >= save_gmean and curr_mauc >= save_mauc:\n",
    "            save_ensembles = ensembles\n",
    "            not_replaced = 0\n",
    "        else:\n",
    "            not_replaced += 1\n",
    "        if not_replaced >= STOP_SIGN:\n",
    "            break  # 迭代结束\n",
    "        record = stats.compile(pop)\n",
    "        logbook.record(gen=gen, fronts=len(pareto_fronts), ensembles_size=len(ensembles),\n",
    "                       avg_gmean=curr_gmean, avg_mauc=curr_mauc, **record)\n",
    "        # print(logbook.stream)\n",
    "    ensemble_classifiers = ensemble_individuals(save_ensembles, model, x_train, y_train)\n",
    "    return ensemble_classifiers\n",
    "\n",
    "\n",
    "if __name__ == \"__main__\":\n",
    "    print(\"*****************算法开始执行：******************\")\n",
    "    num_run = 30  # 运行次数\n",
    "    ensembles_results = [[] for _ in range(num_run)]\n",
    "    for i in range(num_run):\n",
    "        ensemble_classifiers = main(x_train, y_train, model=model)\n",
    "        vote_pred_prob = vote_result_ensembles(ensemble_classifiers, x_test)  # 默认预测结果是软标签\n",
    "        gmean, mauc, recall_per_class = calculate_gmean_mauc(vote_pred_prob, y_test)\n",
    "        ensembles_results[i] = [gmean, mauc]\n",
    "        print(f\"第{i + 1}次执行：Gmean：{gmean}，mAUC：{mauc}\")\n",
    "    print(\"*****************算法执行结束！******************\")\n",
    "    ensembles_result_mean = np.mean(ensembles_results, axis=0)\n",
    "    print(f'集成分类结果（平均值）：{ensembles_result_mean}')"
   ],
   "metadata": {
    "collapsed": false,
    "ExecuteTime": {
     "end_time": "2025-03-21T04:19:59.647368Z",
     "start_time": "2025-03-21T04:00:58.583488Z"
    }
   },
   "id": "a0643f2768950227",
   "execution_count": 2
  },
  {
   "cell_type": "markdown",
   "source": [
    "## 写入到Excel "
   ],
   "metadata": {
    "collapsed": false
   },
   "id": "bb01ab584c260a1"
  },
  {
   "cell_type": "code",
   "outputs": [],
   "source": [
    "from utils.excel_utils import save_to_excel_2\n",
    "\n",
    "columns = ['Gmean', 'MAUC']\n",
    "\n",
    "save_path = 'C:/Users/zsc/Desktop/E-MOSAIC/' + datasetname + '/'\n",
    "filename = datasetname\n",
    "save_to_excel_2(save_path, filename, columns, ensembles_results)"
   ],
   "metadata": {
    "collapsed": false,
    "ExecuteTime": {
     "start_time": "2025-03-21T04:19:59.647368Z"
    }
   },
   "id": "167c370cd5f3ef38",
   "execution_count": null
  }
 ],
 "metadata": {
  "kernelspec": {
   "display_name": "Python 3",
   "language": "python",
   "name": "python3"
  },
  "language_info": {
   "codemirror_mode": {
    "name": "ipython",
    "version": 2
   },
   "file_extension": ".py",
   "mimetype": "text/x-python",
   "name": "python",
   "nbconvert_exporter": "python",
   "pygments_lexer": "ipython2",
   "version": "2.7.6"
  }
 },
 "nbformat": 4,
 "nbformat_minor": 5
}
