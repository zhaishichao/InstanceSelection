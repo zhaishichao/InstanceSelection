{
 "cells": [
  {
   "cell_type": "markdown",
   "source": [
    "### 测试"
   ],
   "metadata": {
    "collapsed": false
   },
   "id": "18f9113d638eec2d"
  },
  {
   "cell_type": "code",
   "outputs": [
    {
     "name": "stdout",
     "output_type": "stream",
     "text": [
      "Yeast instances: 1478\n",
      "Yeast distribution: [463  35  44  51 163 243 429  20  30]\n",
      "trainset distribution: [362  26  36  43 136 193 348  15  23]\n",
      "testset distribution: [101   9   8   8  27  50  81   5   7]\n",
      "(0.0, 0.883151, array([0.44554455, 0.66666667, 1.        , 0.5       , 0.92592593,\n",
      "       0.66      , 0.67901235, 0.6       , 0.        ]))\n"
     ]
    }
   ],
   "source": [
    "from utils.dataset_utils import get_distribution\n",
    "from instance_selection.parameter.parameter import *  # 导入参数的设定\n",
    "from instance_selection.operator.init_toolbox import init_toolbox_emosaic\n",
    "from instance_selection.operator.metrics import calculate_gmean_mauc, calculate_average_gmean_mauc\n",
    "from instance_selection.operator.genetic_operator import selTournamentNDCD\n",
    "from instance_selection.operator.ensemble import vote_result_ensembles, ensemble_individuals\n",
    "from sklearn.preprocessing import StandardScaler\n",
    "from sklearn.model_selection import train_test_split\n",
    "from sklearn.neural_network import MLPClassifier\n",
    "import scipy.io as sio  # 从.mat文件中读取数据集\n",
    "import random\n",
    "import numpy as np\n",
    "from deap import tools\n",
    "import warnings\n",
    "\n",
    "warnings.filterwarnings(\"ignore\")  # 忽略警告\n",
    "\n",
    "DATASET = Yeast  # 数据集名称（包含对应的参数配置）\n",
    "\n",
    "datasetname = DATASET.DATASETNAME.split('.')[0]\n",
    "\n",
    "# 加载、划分数据集\n",
    "mat_data = sio.loadmat(IMBALANCED_DATASET_PATH + DATASET.DATASETNAME)\n",
    "x = mat_data['X']\n",
    "y = mat_data['Y'][:, 0]  # mat_data['Y']得到的形状为[n,1]，通过[:,0]，得到形状[n,]\n",
    "x_train, x_test, y_train, y_test = train_test_split(x, y, test_size=0.2, random_state=RANDOM_SEED)  # 划分数据集\n",
    "scaler = StandardScaler()  # 数据的标准化\n",
    "x_train = scaler.fit_transform(x_train)\n",
    "x_test = scaler.transform(x_test)\n",
    "\n",
    "unique_elements_all, classes_all, counts_all = get_distribution(y)  # 获取原始数据集分布\n",
    "unique_elements_train, classes_train, counts_train = get_distribution(y_train)  # 获取训练集分布\n",
    "unique_elements_test, classes_test, counts_test = get_distribution(y_test)  # 获取测试集分布\n",
    "print(datasetname + f' instances: {x.shape[0]}')\n",
    "print(datasetname + f' distribution: {counts_all}')\n",
    "print(f'trainset distribution: {counts_train}')\n",
    "print(f'testset distribution: {counts_test}')\n",
    "model = MLPClassifier(hidden_layer_sizes=(DATASET.HIDDEN_SIZE,), max_iter=DATASET.MAX_ITER,\n",
    "                      random_state=RANDOM_SEED, learning_rate_init=DATASET.LEARNING_RATE)\n",
    "\n",
    "model.fit(x_train, y_train)\n",
    "\n",
    "# 测试模型\n",
    "y_test_probs = model.predict_proba(x_test)\n",
    "y_test_preds = model.predict(x_test)\n",
    "\n",
    "print(calculate_gmean_mauc(y_test_probs, y_test))"
   ],
   "metadata": {
    "collapsed": false,
    "ExecuteTime": {
     "end_time": "2025-03-18T01:55:10.797087Z",
     "start_time": "2025-03-18T01:55:00.651568Z"
    }
   },
   "id": "8bc748f7d445015d",
   "execution_count": 1
  },
  {
   "cell_type": "markdown",
   "source": [
    "## E-MOSAIC"
   ],
   "metadata": {
    "collapsed": false
   },
   "id": "4d0853f79163e74f"
  },
  {
   "cell_type": "code",
   "outputs": [
    {
     "name": "stdout",
     "output_type": "stream",
     "text": [
      "*****************算法开始执行：******************\n",
      "第1次执行：Gmean：0.0，mAUC：0.855036\n",
      "第2次执行：Gmean：0.0，mAUC：0.867841\n",
      "第3次执行：Gmean：0.0，mAUC：0.877516\n",
      "第4次执行：Gmean：0.0，mAUC：0.871129\n"
     ]
    },
    {
     "ename": "ValueError",
     "evalue": "shape mismatch: value array of shape (109,8) could not be broadcast to indexing result of shape (109,9)",
     "output_type": "error",
     "traceback": [
      "\u001B[1;31m---------------------------------------------------------------------------\u001B[0m",
      "\u001B[1;31mValueError\u001B[0m                                Traceback (most recent call last)",
      "Cell \u001B[1;32mIn[2], line 66\u001B[0m\n\u001B[0;32m     64\u001B[0m ensembles_results \u001B[38;5;241m=\u001B[39m [[] \u001B[38;5;28;01mfor\u001B[39;00m _ \u001B[38;5;129;01min\u001B[39;00m \u001B[38;5;28mrange\u001B[39m(num_run)]\n\u001B[0;32m     65\u001B[0m \u001B[38;5;28;01mfor\u001B[39;00m i \u001B[38;5;129;01min\u001B[39;00m \u001B[38;5;28mrange\u001B[39m(num_run):\n\u001B[1;32m---> 66\u001B[0m     ensemble_classifiers \u001B[38;5;241m=\u001B[39m \u001B[43mmain\u001B[49m\u001B[43m(\u001B[49m\u001B[43mx_train\u001B[49m\u001B[43m,\u001B[49m\u001B[43m \u001B[49m\u001B[43my_train\u001B[49m\u001B[43m,\u001B[49m\u001B[43m \u001B[49m\u001B[43mmodel\u001B[49m\u001B[38;5;241;43m=\u001B[39;49m\u001B[43mmodel\u001B[49m\u001B[43m)\u001B[49m\n\u001B[0;32m     67\u001B[0m     vote_pred_prob \u001B[38;5;241m=\u001B[39m vote_result_ensembles(ensemble_classifiers, x_test)  \u001B[38;5;66;03m# 默认预测结果是软标签\u001B[39;00m\n\u001B[0;32m     68\u001B[0m     gmean, mauc, recall_per_class \u001B[38;5;241m=\u001B[39m calculate_gmean_mauc(vote_pred_prob, y_test)\n",
      "Cell \u001B[1;32mIn[2], line 41\u001B[0m, in \u001B[0;36mmain\u001B[1;34m(x_train, y_train, model, balanced_method)\u001B[0m\n\u001B[0;32m     39\u001B[0m     pop, _ \u001B[38;5;241m=\u001B[39m toolbox\u001B[38;5;241m.\u001B[39mremove_duplicates(pop)  \u001B[38;5;66;03m# 去重\u001B[39;00m\n\u001B[0;32m     40\u001B[0m pop \u001B[38;5;241m=\u001B[39m toolbox\u001B[38;5;241m.\u001B[39mindividuals_constraints(pop) \u001B[38;5;66;03m# 限制每个类至少有5个实例被选择\u001B[39;00m\n\u001B[1;32m---> 41\u001B[0m \u001B[43mtoolbox\u001B[49m\u001B[38;5;241;43m.\u001B[39;49m\u001B[43mevaluate\u001B[49m\u001B[43m(\u001B[49m\u001B[43mpop\u001B[49m\u001B[43m)\u001B[49m  \u001B[38;5;66;03m# 计算新种群适应度\u001B[39;00m\n\u001B[0;32m     42\u001B[0m \u001B[38;5;66;03m###############################################得到pareto_fronts############################################\u001B[39;00m\n\u001B[0;32m     43\u001B[0m pop, pareto_fronts \u001B[38;5;241m=\u001B[39m toolbox\u001B[38;5;241m.\u001B[39mselect(pop, POPSIZE)\n",
      "File \u001B[1;32mD:\\Develop\\WorkSpace\\Python\\InstanceSelection\\instance_selection\\operator\\metrics.py:24\u001B[0m, in \u001B[0;36mevaluate_individuals\u001B[1;34m(individuals, model, x_train, y_train, n_splits, random_seed, fitness_function)\u001B[0m\n\u001B[0;32m     22\u001B[0m \u001B[38;5;28;01mfor\u001B[39;00m individual \u001B[38;5;129;01min\u001B[39;00m individuals:\n\u001B[0;32m     23\u001B[0m     x_sub, y_sub \u001B[38;5;241m=\u001B[39m get_subset(individual, x_train, y_train)\n\u001B[1;32m---> 24\u001B[0m     y_pred_proba \u001B[38;5;241m=\u001B[39m \u001B[43mk_fold_cross_validation\u001B[49m\u001B[43m(\u001B[49m\u001B[43mmodel\u001B[49m\u001B[38;5;241;43m=\u001B[39;49m\u001B[43mclone\u001B[49m\u001B[43m(\u001B[49m\u001B[43mmodel\u001B[49m\u001B[43m)\u001B[49m\u001B[43m,\u001B[49m\u001B[43m \u001B[49m\u001B[43mX\u001B[49m\u001B[38;5;241;43m=\u001B[39;49m\u001B[43mx_sub\u001B[49m\u001B[43m,\u001B[49m\u001B[43m \u001B[49m\u001B[43my\u001B[49m\u001B[38;5;241;43m=\u001B[39;49m\u001B[43my_sub\u001B[49m\u001B[43m,\u001B[49m\u001B[43m \u001B[49m\u001B[43mn_splits\u001B[49m\u001B[38;5;241;43m=\u001B[39;49m\u001B[43mn_splits\u001B[49m\u001B[43m,\u001B[49m\u001B[43m \u001B[49m\u001B[43mmethod\u001B[49m\u001B[38;5;241;43m=\u001B[39;49m\u001B[38;5;124;43m'\u001B[39;49m\u001B[38;5;124;43msoft\u001B[39;49m\u001B[38;5;124;43m'\u001B[39;49m\u001B[43m,\u001B[49m\n\u001B[0;32m     25\u001B[0m \u001B[43m                                           \u001B[49m\u001B[43mrandom_state\u001B[49m\u001B[38;5;241;43m=\u001B[39;49m\u001B[43mrandom_seed\u001B[49m\u001B[43m)\u001B[49m  \u001B[38;5;66;03m# 交叉验证得到软标签\u001B[39;00m\n\u001B[0;32m     26\u001B[0m     individual\u001B[38;5;241m.\u001B[39my_sub_and_pred_proba \u001B[38;5;241m=\u001B[39m (y_sub, y_pred_proba)  \u001B[38;5;66;03m# 保存个体的软标签和预测概率\u001B[39;00m\n\u001B[0;32m     27\u001B[0m     individual\u001B[38;5;241m.\u001B[39mgmean, individual\u001B[38;5;241m.\u001B[39mmauc, _ \u001B[38;5;241m=\u001B[39m calculate_gmean_mauc(y_pred_proba, y_sub)  \u001B[38;5;66;03m# 计算个体的gmean和mauc\u001B[39;00m\n",
      "File \u001B[1;32mD:\\Develop\\WorkSpace\\Python\\InstanceSelection\\utils\\dataset_utils.py:46\u001B[0m, in \u001B[0;36mk_fold_cross_validation\u001B[1;34m(model, X, y, n_splits, method, random_state)\u001B[0m\n\u001B[0;32m     44\u001B[0m     \u001B[38;5;66;03m# Generate soft labels (probability predictions)\u001B[39;00m\n\u001B[0;32m     45\u001B[0m     y_proba \u001B[38;5;241m=\u001B[39m model_clone\u001B[38;5;241m.\u001B[39mpredict_proba(X_test)\n\u001B[1;32m---> 46\u001B[0m     \u001B[43msoft_labels\u001B[49m\u001B[43m[\u001B[49m\u001B[43mtest_index\u001B[49m\u001B[43m]\u001B[49m \u001B[38;5;241m=\u001B[39m y_proba\n\u001B[0;32m     47\u001B[0m     \u001B[38;5;66;03m# Evaluate the model\u001B[39;00m\n\u001B[0;32m     48\u001B[0m     \u001B[38;5;66;03m# y_pred = np.argmax(y_proba, axis=1)  # Convert probabilities to class predictions\u001B[39;00m\n\u001B[0;32m     49\u001B[0m     \u001B[38;5;66;03m# score = accuracy_score(y_test, y_pred)\u001B[39;00m\n\u001B[0;32m     50\u001B[0m     \u001B[38;5;66;03m# scores.append(score)\u001B[39;00m\n\u001B[0;32m     51\u001B[0m \u001B[38;5;28;01mif\u001B[39;00m method \u001B[38;5;241m==\u001B[39m \u001B[38;5;124m'\u001B[39m\u001B[38;5;124msoft\u001B[39m\u001B[38;5;124m'\u001B[39m:\n",
      "\u001B[1;31mValueError\u001B[0m: shape mismatch: value array of shape (109,8) could not be broadcast to indexing result of shape (109,9)"
     ]
    }
   ],
   "source": [
    "toolbox = init_toolbox_emosaic(model, x_train, y_train, n_splits=N_SPLITS, random_seed=RANDOM_SEED)  # 初始化toolbox\n",
    "\n",
    "\n",
    "def main(x_train, y_train, model, balanced_method='balanced'):\n",
    "    not_replaced = 0\n",
    "    stats = tools.Statistics(lambda ind: ind.fitness.values)\n",
    "    logbook = tools.Logbook()\n",
    "    logbook.header = \"gen\", \"fronts\", \"ensembles_size\", \"avg_gmean\", \"avg_mauc\"\n",
    "    ####################################种群的初始化###########################\n",
    "    pop = toolbox.population(n=POPSIZE)  # 个体编码默认全为0\n",
    "    pop = toolbox.init_population(pop, balanced_method=balanced_method)  # 初始化种群中的个体\n",
    "    toolbox.evaluate(pop)  # 计算个体的适应度\n",
    "    save_ensembles = ensemble_individuals(pop, model, x_train, y_train)  # 保存最优的集成分类器\n",
    "    save_gmean, save_mauc = calculate_average_gmean_mauc(pop)\n",
    "    ####################################种群的迭代#################################################\n",
    "    for gen in range(1, NGEN + 1):\n",
    "        offspring = selTournamentNDCD(pop, POPSIZE, tournsize=3)  # 锦标赛选择（1、先根据非支配排序的等级2、再根据拥挤距离）\n",
    "        offspring = [toolbox.clone(ind) for ind in offspring]\n",
    "        for i in range(0, len(offspring) - 1, 2):\n",
    "            if random.random() <= CXPB:\n",
    "                offspring[i], offspring[i + 1] = toolbox.mate(offspring[i], offspring[i + 1])  # 单点交叉\n",
    "            offspring[i] = toolbox.mutate(offspring[i], MR)[0]  # 二进制反转突变\n",
    "            offspring[i + 1] = toolbox.mutate(offspring[i + 1], MR)[0]  # 二进制反转突变\n",
    "            del offspring[i].fitness.values, offspring[i + 1].fitness.values\n",
    "        #############################################################合并、去重#####################################################\n",
    "        offspring = toolbox.individuals_constraints(offspring)  # 限制每个类至少有一个实例被选择\n",
    "        pop = pop + offspring  # 种群的合并\n",
    "        pop, _ = toolbox.remove_duplicates(pop)  # 去重\n",
    "        while len(pop) < POPSIZE:  # 保证种群大小为POPSIZE\n",
    "            add_individual = []\n",
    "            num_add = POPSIZE - len(pop)\n",
    "            for i in range(0, num_add):\n",
    "                index = random.randint(0, len(offspring) - 1)  # 在0-len(offspring)范围内随机产生一个索引\n",
    "                offspring[index] = toolbox.mutate(offspring[index], MR)[0]  # 选择index对应的个体进行突变\n",
    "                del offspring[index].fitness.values\n",
    "                add_individual.append(offspring[index])\n",
    "            add_individual = toolbox.individuals_constraints(add_individual)  # 限制每个类至少有一个实例被选择\n",
    "            pop = pop + add_individual  # 种群的合并\n",
    "            pop, _ = toolbox.remove_duplicates(pop)  # 去重\n",
    "        pop = toolbox.individuals_constraints(pop) # 限制每个类至少有5个实例被选择\n",
    "        toolbox.evaluate(pop)  # 计算新种群适应度\n",
    "        ###############################################得到pareto_fronts############################################\n",
    "        pop, pareto_fronts = toolbox.select(pop, POPSIZE)\n",
    "        ensembles = pop  # 集成的个体\n",
    "        curr_gmean, curr_mauc = calculate_average_gmean_mauc(ensembles)  # 计算的是所有个体的metrics平均值\n",
    "        if curr_gmean >= save_gmean and curr_mauc >= save_mauc:\n",
    "            save_ensembles = ensembles\n",
    "            not_replaced = 0\n",
    "        else:\n",
    "            not_replaced += 1\n",
    "        if not_replaced >= STOP_SIGN:\n",
    "            break  # 迭代结束\n",
    "        record = stats.compile(pop)\n",
    "        logbook.record(gen=gen, fronts=len(pareto_fronts), ensembles_size=len(ensembles),\n",
    "                       avg_gmean=curr_gmean, avg_mauc=curr_mauc, **record)\n",
    "        # print(logbook.stream)\n",
    "    ensemble_classifiers = ensemble_individuals(save_ensembles, model, x_train, y_train)\n",
    "    return ensemble_classifiers\n",
    "\n",
    "\n",
    "if __name__ == \"__main__\":\n",
    "    print(\"*****************算法开始执行：******************\")\n",
    "    num_run = 30  # 运行次数\n",
    "    ensembles_results = [[] for _ in range(num_run)]\n",
    "    for i in range(num_run):\n",
    "        ensemble_classifiers = main(x_train, y_train, model=model)\n",
    "        vote_pred_prob = vote_result_ensembles(ensemble_classifiers, x_test)  # 默认预测结果是软标签\n",
    "        gmean, mauc, recall_per_class = calculate_gmean_mauc(vote_pred_prob, y_test)\n",
    "        ensembles_results[i] = [gmean, mauc]\n",
    "        print(f\"第{i + 1}次执行：Gmean：{gmean}，mAUC：{mauc}\")\n",
    "    print(\"*****************算法执行结束！******************\")\n",
    "    ensembles_result_mean = np.mean(ensembles_results, axis=0)\n",
    "    print(f'集成分类结果（平均值）：{ensembles_result_mean}')"
   ],
   "metadata": {
    "collapsed": false,
    "ExecuteTime": {
     "end_time": "2025-03-18T02:25:12.498191Z",
     "start_time": "2025-03-18T01:55:10.798146Z"
    }
   },
   "id": "a0643f2768950227",
   "execution_count": 2
  },
  {
   "cell_type": "markdown",
   "source": [
    "### 绘制变化取钱"
   ],
   "metadata": {
    "collapsed": false
   },
   "id": "bb01ab584c260a1"
  },
  {
   "cell_type": "code",
   "outputs": [],
   "source": [
    "import matplotlib.pyplot as plt\n",
    "import numpy as np\n",
    "import os\n",
    "\n",
    "# Example data\n",
    "data1 = np.round(np.array(ensembles_results).T, 4)\n",
    "\n",
    "datasets = [data1]\n",
    "colors1 = plt.cm.viridis(np.linspace(0, 1, len(data1)))\n",
    "\n",
    "plt.figure(figsize=(12, 8))\n",
    "\n",
    "# Plot Dataset 1\n",
    "for i, (curve, color) in enumerate(zip(data1, colors1)):\n",
    "    x = np.arange(1, len(curve) + 1)\n",
    "    y = curve\n",
    "    avg = np.mean(y)\n",
    "    plt.plot(x, y, label=f'Random - Curve {i + 1} (Avg: {avg:.4f})', color=color)\n",
    "    for xi, yi in zip(x, y):\n",
    "        plt.text(xi, yi, f'{yi}', fontsize=9, ha='center', va='bottom', color=color)\n",
    "\n",
    "# Plot settings\n",
    "plt.title('Curves from Two 2D Numpy Arrays with Point Values and Averages', fontsize=14)\n",
    "plt.xlabel('Number of iterations', fontsize=12)\n",
    "plt.ylabel('Value', fontsize=12)\n",
    "plt.legend(fontsize=10)\n",
    "plt.grid(alpha=0.5)\n",
    "plt.tight_layout()\n",
    "\n",
    "save_path = 'C:\\\\Users\\\\zsc\\\\Desktop\\\\evolution computation\\\\meeting\\\\2025.1.8\\\\e-mosaic\\\\' + datasetname + '\\\\'\n",
    "# 创建文件夹（如果不存在）\n",
    "folder = os.path.dirname(save_path)\n",
    "if not os.path.exists(folder):\n",
    "    os.makedirs(folder)\n",
    "# Show plot\n",
    "plt.savefig(save_path + datasetname + f'ensemble_gmean_mauc.jpg', dpi=300, bbox_inches='tight')"
   ],
   "metadata": {
    "collapsed": false,
    "ExecuteTime": {
     "start_time": "2025-03-18T02:25:12.499185Z"
    }
   },
   "id": "89745a06a8326acf",
   "execution_count": null
  }
 ],
 "metadata": {
  "kernelspec": {
   "display_name": "Python 3",
   "language": "python",
   "name": "python3"
  },
  "language_info": {
   "codemirror_mode": {
    "name": "ipython",
    "version": 2
   },
   "file_extension": ".py",
   "mimetype": "text/x-python",
   "name": "python",
   "nbconvert_exporter": "python",
   "pygments_lexer": "ipython2",
   "version": "2.7.6"
  }
 },
 "nbformat": 4,
 "nbformat_minor": 5
}
