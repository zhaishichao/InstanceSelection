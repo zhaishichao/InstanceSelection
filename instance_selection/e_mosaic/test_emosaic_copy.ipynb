{
 "cells": [
  {
   "cell_type": "markdown",
   "source": [
    "### 测试"
   ],
   "metadata": {
    "collapsed": false
   },
   "id": "18f9113d638eec2d"
  },
  {
   "cell_type": "code",
   "outputs": [
    {
     "name": "stdout",
     "output_type": "stream",
     "text": [
      "GuesterPhase instances: 9873\n",
      "GuesterPhase distribution: [2741  998 2097 1087 2950]\n",
      "trainset distribution: [2187  810 1671  861 2369]\n",
      "testset distribution: [554 188 426 226 581]\n",
      "(0.314318, 0.762394, array([0.77436823, 0.14361702, 0.38732394, 0.12389381, 0.57487091]))\n"
     ]
    }
   ],
   "source": [
    "from utils.dataset_utils import get_distribution\n",
    "from instance_selection.parameter.parameter import *  # 导入参数的设定\n",
    "from instance_selection.operator.init_toolbox import init_toolbox_emosaic\n",
    "from instance_selection.operator.metrics import calculate_gmean_mauc, calculate_average_gmean_mauc\n",
    "from instance_selection.operator.genetic_operator import selTournamentNDCD\n",
    "from instance_selection.operator.ensemble import vote_result_ensembles, ensemble_individuals\n",
    "from sklearn.preprocessing import StandardScaler\n",
    "from sklearn.model_selection import train_test_split\n",
    "from sklearn.neural_network import MLPClassifier\n",
    "import scipy.io as sio  # 从.mat文件中读取数据集\n",
    "import random\n",
    "import numpy as np\n",
    "from deap import tools\n",
    "import warnings\n",
    "\n",
    "warnings.filterwarnings(\"ignore\")  # 忽略警告\n",
    "\n",
    "DATASET = GuesterPhase  # 数据集名称（包含对应的参数配置）\n",
    "\n",
    "datasetname = DATASET.DATASETNAME.split('.')[0]\n",
    "\n",
    "# 加载、划分数据集\n",
    "mat_data = sio.loadmat(IMBALANCED_DATASET_PATH + DATASET.DATASETNAME)\n",
    "x = mat_data['X']\n",
    "y = mat_data['Y'][:, 0]  # mat_data['Y']得到的形状为[n,1]，通过[:,0]，得到形状[n,]\n",
    "x_train, x_test, y_train, y_test = train_test_split(x, y, test_size=0.2, random_state=RANDOM_SEED)  # 划分数据集\n",
    "scaler = StandardScaler()  # 数据的标准化\n",
    "x_train = scaler.fit_transform(x_train)\n",
    "x_test = scaler.transform(x_test)\n",
    "\n",
    "unique_elements_all, classes_all, counts_all = get_distribution(y)  # 获取原始数据集分布\n",
    "unique_elements_train, classes_train, counts_train = get_distribution(y_train)  # 获取训练集分布\n",
    "unique_elements_test, classes_test, counts_test = get_distribution(y_test)  # 获取测试集分布\n",
    "print(datasetname + f' instances: {x.shape[0]}')\n",
    "print(datasetname + f' distribution: {counts_all}')\n",
    "print(f'trainset distribution: {counts_train}')\n",
    "print(f'testset distribution: {counts_test}')\n",
    "model = MLPClassifier(hidden_layer_sizes=(DATASET.HIDDEN_SIZE,), max_iter=DATASET.MAX_ITER,\n",
    "                      random_state=RANDOM_SEED, learning_rate_init=DATASET.LEARNING_RATE)\n",
    "\n",
    "model.fit(x_train, y_train)\n",
    "\n",
    "# 测试模型\n",
    "y_test_probs = model.predict_proba(x_test)\n",
    "y_test_preds = model.predict(x_test)\n",
    "\n",
    "print(calculate_gmean_mauc(y_test_probs, y_test))"
   ],
   "metadata": {
    "collapsed": false,
    "ExecuteTime": {
     "end_time": "2025-03-19T12:19:24.265621Z",
     "start_time": "2025-03-19T12:19:22.775431Z"
    }
   },
   "id": "8bc748f7d445015d",
   "execution_count": 1
  },
  {
   "cell_type": "markdown",
   "source": [
    "## E-MOSAIC"
   ],
   "metadata": {
    "collapsed": false
   },
   "id": "4d0853f79163e74f"
  },
  {
   "cell_type": "code",
   "outputs": [
    {
     "name": "stdout",
     "output_type": "stream",
     "text": [
      "*****************算法开始执行：******************\n",
      "第1次执行：Gmean：0.493366，mAUC：0.809415\n",
      "第2次执行：Gmean：0.494668，mAUC：0.811665\n",
      "第3次执行：Gmean：0.495466，mAUC：0.811017\n",
      "第4次执行：Gmean：0.491135，mAUC：0.810705\n",
      "第5次执行：Gmean：0.486622，mAUC：0.809616\n",
      "第6次执行：Gmean：0.488382，mAUC：0.810066\n",
      "第7次执行：Gmean：0.471475，mAUC：0.808215\n",
      "第8次执行：Gmean：0.492127，mAUC：0.810911\n",
      "第9次执行：Gmean：0.504801，mAUC：0.809581\n",
      "第10次执行：Gmean：0.481598，mAUC：0.808991\n",
      "第11次执行：Gmean：0.504322，mAUC：0.812876\n",
      "第12次执行：Gmean：0.4935，mAUC：0.810556\n",
      "第13次执行：Gmean：0.477674，mAUC：0.810196\n",
      "第14次执行：Gmean：0.487138，mAUC：0.812384\n"
     ]
    }
   ],
   "source": [
    "toolbox = init_toolbox_emosaic(model, x_train, y_train, n_splits=N_SPLITS, random_seed=RANDOM_SEED)  # 初始化toolbox\n",
    "\n",
    "\n",
    "def main(x_train, y_train, model, balanced_method='balanced'):\n",
    "    not_replaced = 0\n",
    "    stats = tools.Statistics(lambda ind: ind.fitness.values)\n",
    "    logbook = tools.Logbook()\n",
    "    logbook.header = \"gen\", \"fronts\", \"ensembles_size\", \"avg_gmean\", \"avg_mauc\"\n",
    "    ####################################种群的初始化###########################\n",
    "    pop = toolbox.population(n=POPSIZE)  # 个体编码默认全为0\n",
    "    pop = toolbox.init_population(pop, balanced_method=balanced_method)  # 初始化种群中的个体\n",
    "    toolbox.evaluate(pop)  # 计算个体的适应度\n",
    "    save_ensembles = ensemble_individuals(pop, model, x_train, y_train)  # 保存最优的集成分类器\n",
    "    save_gmean, save_mauc = calculate_average_gmean_mauc(pop)\n",
    "    ####################################种群的迭代#################################################\n",
    "    for gen in range(1, NGEN + 1):\n",
    "        offspring = selTournamentNDCD(pop, POPSIZE, tournsize=3)  # 锦标赛选择（1、先根据非支配排序的等级2、再根据拥挤距离）\n",
    "        offspring = [toolbox.clone(ind) for ind in offspring]\n",
    "        for i in range(0, len(offspring) - 1, 2):\n",
    "            if random.random() <= CXPB:\n",
    "                offspring[i], offspring[i + 1] = toolbox.mate(offspring[i], offspring[i + 1])  # 单点交叉\n",
    "            offspring[i] = toolbox.mutate(offspring[i], MR)[0]  # 二进制反转突变\n",
    "            offspring[i + 1] = toolbox.mutate(offspring[i + 1], MR)[0]  # 二进制反转突变\n",
    "            del offspring[i].fitness.values, offspring[i + 1].fitness.values\n",
    "        #############################################################合并、去重#####################################################\n",
    "        offspring = toolbox.individuals_constraints(offspring)  # 限制每个类至少有一个实例被选择\n",
    "        pop = pop + offspring  # 种群的合并\n",
    "        pop, _ = toolbox.remove_duplicates(pop)  # 去重\n",
    "        while len(pop) < POPSIZE:  # 保证种群大小为POPSIZE\n",
    "            add_individual = []\n",
    "            num_add = POPSIZE - len(pop)\n",
    "            for i in range(0, num_add):\n",
    "                index = random.randint(0, len(offspring) - 1)  # 在0-len(offspring)范围内随机产生一个索引\n",
    "                offspring[index] = toolbox.mutate(offspring[index], MR)[0]  # 选择index对应的个体进行突变\n",
    "                del offspring[index].fitness.values\n",
    "                add_individual.append(offspring[index])\n",
    "            add_individual = toolbox.individuals_constraints(add_individual)  # 限制每个类至少有一个实例被选择\n",
    "            pop = pop + add_individual  # 种群的合并\n",
    "            pop, _ = toolbox.remove_duplicates(pop)  # 去重\n",
    "        # pop = toolbox.individuals_constraints(pop) # 限制每个类至少有5个实例被选择\n",
    "        for i in range(len(pop)):\n",
    "            pop[i] = toolbox.individual_constraint(pop[i])  # 限制每个类至少有5个实例被选择\n",
    "        toolbox.evaluate(pop)  # 计算新种群适应度\n",
    "        ###############################################得到pareto_fronts############################################\n",
    "        pop, pareto_fronts = toolbox.select(pop, POPSIZE)\n",
    "        ensembles = pop  # 集成的个体\n",
    "        curr_gmean, curr_mauc = calculate_average_gmean_mauc(ensembles)  # 计算的是所有个体的metrics平均值\n",
    "        if curr_gmean >= save_gmean and curr_mauc >= save_mauc:\n",
    "            save_ensembles = ensembles\n",
    "            not_replaced = 0\n",
    "        else:\n",
    "            not_replaced += 1\n",
    "        if not_replaced >= STOP_SIGN:\n",
    "            break  # 迭代结束\n",
    "        record = stats.compile(pop)\n",
    "        logbook.record(gen=gen, fronts=len(pareto_fronts), ensembles_size=len(ensembles),\n",
    "                       avg_gmean=curr_gmean, avg_mauc=curr_mauc, **record)\n",
    "        # print(logbook.stream)\n",
    "    ensemble_classifiers = ensemble_individuals(save_ensembles, model, x_train, y_train)\n",
    "    return ensemble_classifiers\n",
    "\n",
    "\n",
    "if __name__ == \"__main__\":\n",
    "    print(\"*****************算法开始执行：******************\")\n",
    "    num_run = 30  # 运行次数\n",
    "    ensembles_results = [[] for _ in range(num_run)]\n",
    "    for i in range(num_run):\n",
    "        ensemble_classifiers = main(x_train, y_train, model=model)\n",
    "        vote_pred_prob = vote_result_ensembles(ensemble_classifiers, x_test)  # 默认预测结果是软标签\n",
    "        gmean, mauc, recall_per_class = calculate_gmean_mauc(vote_pred_prob, y_test)\n",
    "        ensembles_results[i] = [gmean, mauc]\n",
    "        print(f\"第{i + 1}次执行：Gmean：{gmean}，mAUC：{mauc}\")\n",
    "    print(\"*****************算法执行结束！******************\")\n",
    "    ensembles_result_mean = np.mean(ensembles_results, axis=0)\n",
    "    print(f'集成分类结果（平均值）：{ensembles_result_mean}')"
   ],
   "metadata": {
    "collapsed": false,
    "is_executing": true,
    "ExecuteTime": {
     "start_time": "2025-03-19T12:19:24.266612Z"
    }
   },
   "id": "a0643f2768950227",
   "execution_count": null
  },
  {
   "cell_type": "markdown",
   "source": [
    "## 写入到Excel "
   ],
   "metadata": {
    "collapsed": false
   },
   "id": "bfd1de8a026c72fe"
  },
  {
   "cell_type": "code",
   "outputs": [],
   "source": [
    "from utils.excel_utils import save_to_excel_2\n",
    "\n",
    "columns = ['Gmean', 'MAUC']\n",
    "\n",
    "save_path = 'C:/Users/zsc/Desktop/E-MOSAIC/' + datasetname + '/'\n",
    "filename = datasetname\n",
    "save_to_excel_2(save_path, filename, columns, ensembles_results)"
   ],
   "metadata": {
    "collapsed": false,
    "is_executing": true
   },
   "id": "2f30482dbfd75709",
   "execution_count": null
  }
 ],
 "metadata": {
  "kernelspec": {
   "display_name": "Python 3",
   "language": "python",
   "name": "python3"
  },
  "language_info": {
   "codemirror_mode": {
    "name": "ipython",
    "version": 2
   },
   "file_extension": ".py",
   "mimetype": "text/x-python",
   "name": "python",
   "nbconvert_exporter": "python",
   "pygments_lexer": "ipython2",
   "version": "2.7.6"
  }
 },
 "nbformat": 4,
 "nbformat_minor": 5
}
