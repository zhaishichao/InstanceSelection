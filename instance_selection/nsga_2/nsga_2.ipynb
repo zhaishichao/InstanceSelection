{
 "cells": [
  {
   "cell_type": "markdown",
   "source": [
    "### 数据集构建"
   ],
   "metadata": {
    "collapsed": false
   },
   "id": "1f6e0ae9de365691"
  },
  {
   "cell_type": "code",
   "outputs": [
    {
     "name": "stdout",
     "output_type": "stream",
     "text": [
      "特征数据: (1000, 24)\n",
      "label: (1000,)\n",
      "每种类别的数量： [103  89 116 114 116  86 107  97  83  89]\n"
     ]
    }
   ],
   "source": [
    "from sklearn.model_selection import train_test_split\n",
    "from utils.dataset_utils import get_classes_indexes_counts\n",
    "import scipy.io as sio  # 从.mat文件中读取数据集\n",
    "import numpy as np\n",
    "\n",
    "################################################################加载数据集################################################\n",
    "# 数据集\n",
    "mat_data = sio.loadmat('../../data/dataset/LedDisplay.mat')\n",
    "# 提取变量\n",
    "dataset_x = mat_data['X']\n",
    "dataset_y = mat_data['Y'][:, 0]  # mat_data['Y']得到的形状为[n,1]，通过[:,0]，得到形状[n,]\n",
    "# 显示数据集分布\n",
    "print(\"特征数据:\", dataset_x.shape)\n",
    "print(\"label:\", dataset_y.shape)\n",
    "# 统计每个类别的个数，dataset_y.max()+1是类别的个数\n",
    "classes, counts = get_classes_indexes_counts(dataset_y)\n",
    "print(\"每种类别的数量：\", counts)"
   ],
   "metadata": {
    "collapsed": false,
    "ExecuteTime": {
     "end_time": "2024-11-07T05:35:50.222164Z",
     "start_time": "2024-11-07T05:35:50.203135Z"
    }
   },
   "id": "4bbfb8b04ee2220",
   "execution_count": 4
  },
  {
   "cell_type": "markdown",
   "source": [
    "###  划分数据集"
   ],
   "metadata": {
    "collapsed": false
   },
   "id": "1b163bfd820e476e"
  },
  {
   "cell_type": "code",
   "outputs": [
    {
     "name": "stdout",
     "output_type": "stream",
     "text": [
      "特征数据: (700, 24)\n",
      "label: (700,)\n",
      "每种类别的数量： [67 68 79 79 81 63 71 63 63 66]\n"
     ]
    }
   ],
   "source": [
    "x_train, x_test, y_train, y_test = train_test_split(dataset_x, dataset_y, test_size=0.3, random_state=42)\n",
    "# 显示数据集分布\n",
    "print(\"特征数据:\", x_train.shape)\n",
    "print(\"label:\", y_train.shape)\n",
    "# 统计每个类别的个数\n",
    "classes_train, counts_train = get_classes_indexes_counts(y_train)\n",
    "print(\"每种类别的数量：\", counts_train)"
   ],
   "metadata": {
    "collapsed": false,
    "ExecuteTime": {
     "end_time": "2024-11-07T05:35:53.056686Z",
     "start_time": "2024-11-07T05:35:53.040621Z"
    }
   },
   "id": "b15c4bd533249491",
   "execution_count": 5
  },
  {
   "cell_type": "markdown",
   "source": [
    "### 训练集的构建\n",
    "1.首先找出类别数量最小的类\n",
    "2.取最小类别数量的90%，作为平衡数据集的各类别原始数量\n",
    "3.在每个类别中随机抽取实例构成初始数据集"
   ],
   "metadata": {
    "collapsed": false
   },
   "id": "8811199107bb05a9"
  },
  {
   "cell_type": "code",
   "outputs": [
    {
     "name": "stdout",
     "output_type": "stream",
     "text": [
      "最小数量: 56\n",
      "平衡的数据集的特征数据: (560, 24)\n",
      "label: (560,)\n",
      "平衡的数据集中每种类别的数量： [56 56 56 56 56 56 56 56 56 56]\n"
     ]
    }
   ],
   "source": [
    "# 确定每个类别的数量\n",
    "num_instances = int(counts_train.min() * 0.9)  # 向下取整\n",
    "print(\"最小数量:\", num_instances)\n",
    "\n",
    "# 在每个类别中随机的选择该数量的实例的索引\n",
    "balanced_classes = np.array([])\n",
    "for indexes in classes_train:\n",
    "    random_selecte_indices = np.random.choice(indexes, size=num_instances, replace=False)\n",
    "    balanced_classes = np.hstack((balanced_classes, random_selecte_indices))\n",
    "balanced_classes = np.sort(balanced_classes).astype(int)\n",
    "\n",
    "# 得到平衡的数据集\n",
    "balanced_dataset_x = []\n",
    "balanced_dataset_y = np.array([])\n",
    "for index in balanced_classes:\n",
    "    balanced_dataset_x.append(x_train[index])\n",
    "    balanced_dataset_y = np.hstack((balanced_dataset_y, y_train[index]))\n",
    "balanced_dataset_x = np.array(balanced_dataset_x)\n",
    "balanced_dataset_y = np.array(balanced_dataset_y).astype(int)\n",
    "\n",
    "# 显示数据集分布\n",
    "print(\"平衡的数据集的特征数据:\", balanced_dataset_x.shape)\n",
    "print(\"label:\", balanced_dataset_y.shape)\n",
    "\n",
    "# 统计每个类别的个数\n",
    "classes_balanced_dataset, counts_balanced_dataset = get_classes_indexes_counts(balanced_dataset_y)\n",
    "print(\"平衡的数据集中每种类别的数量：\", counts_balanced_dataset)"
   ],
   "metadata": {
    "collapsed": false,
    "ExecuteTime": {
     "end_time": "2024-11-07T05:35:56.439726Z",
     "start_time": "2024-11-07T05:35:56.420612Z"
    }
   },
   "id": "746a165e373967a6",
   "execution_count": 6
  },
  {
   "cell_type": "markdown",
   "source": [
    "### NSGAII算法"
   ],
   "metadata": {
    "collapsed": false
   },
   "id": "94e29ba55c98658f"
  },
  {
   "cell_type": "markdown",
   "source": [
    "### 算法的实现"
   ],
   "metadata": {
    "collapsed": false
   },
   "id": "855b2a2d0d65a780"
  },
  {
   "cell_type": "markdown",
   "source": [
    "### 多目标评价"
   ],
   "metadata": {
    "collapsed": false
   },
   "id": "7c21d5f2e37b5c51"
  },
  {
   "cell_type": "code",
   "outputs": [
    {
     "name": "stdout",
     "output_type": "stream",
     "text": [
      "准确率: 0.9923316558830577\n",
      "\n",
      "分类报告:\n",
      "               precision    recall  f1-score   support\n",
      "\n",
      "           0       1.00      1.00      1.00       774\n",
      "           1       1.00      0.99      0.99       894\n",
      "           2       0.99      0.98      0.98       489\n",
      "           3       0.99      1.00      0.99       576\n",
      "           4       0.99      0.99      0.99       879\n",
      "           5       0.99      0.99      0.99       561\n",
      "\n",
      "    accuracy                           0.99      4173\n",
      "   macro avg       0.99      0.99      0.99      4173\n",
      "weighted avg       0.99      0.99      0.99      4173\n"
     ]
    }
   ],
   "source": [
    "from sklearn.neural_network import MLPClassifier\n",
    "from sklearn.metrics import accuracy_score, classification_report\n",
    "from sklearn.preprocessing import StandardScaler\n",
    "from sklearn.datasets import load_iris\n",
    "\n",
    "# 数据集\n",
    "mat_data = sio.loadmat('../../data/dataset/GasSensor.mat')\n",
    "# 提取变量\n",
    "dataset_x = mat_data['X']\n",
    "dataset_y = mat_data['Y'][:, 0]  # mat_data['Y']得到的形状为[n,1]，通过[:,0]，得到形状[n,]\n",
    "\n",
    "\n",
    "# 将数据集分为训练集和测试集\n",
    "X_train, X_test, y_train, y_test = train_test_split(dataset_x, dataset_y, test_size=0.3, random_state=42)\n",
    "\n",
    "# 数据标准化\n",
    "scaler = StandardScaler()\n",
    "X_train = scaler.fit_transform(X_train)\n",
    "X_test = scaler.transform(X_test)\n",
    "\n",
    "# 构建并训练MLP模型\n",
    "mlp = MLPClassifier(hidden_layer_sizes=(10, 20), max_iter=1000, random_state=42)\n",
    "mlp.fit(X_train, y_train)\n",
    "\n",
    "# 预测和评估模型\n",
    "y_pred = mlp.predict(X_test)\n",
    "\n",
    "# 输出结果\n",
    "print(\"准确率:\", accuracy_score(y_test, y_pred))\n",
    "print(\"\\n分类报告:\\n\", classification_report(y_test, y_pred))"
   ],
   "metadata": {
    "collapsed": false,
    "ExecuteTime": {
     "end_time": "2024-11-07T12:49:27.957079Z",
     "start_time": "2024-11-07T12:49:25.418085Z"
    }
   },
   "id": "43e2c7d97c7d3a3d",
   "execution_count": 27
  },
  {
   "cell_type": "code",
   "outputs": [],
   "source": [
    "def fitness_function():\n",
    "    \n",
    "    return"
   ],
   "metadata": {
    "collapsed": false,
    "ExecuteTime": {
     "end_time": "2024-11-07T10:03:59.030470Z",
     "start_time": "2024-11-07T10:03:59.019961Z"
    }
   },
   "id": "e22eafffebbb586a",
   "execution_count": 21
  },
  {
   "cell_type": "code",
   "outputs": [
    {
     "ename": "NameError",
     "evalue": "name 'fitness_function' is not defined",
     "output_type": "error",
     "traceback": [
      "\u001B[1;31m---------------------------------------------------------------------------\u001B[0m",
      "\u001B[1;31mNameError\u001B[0m                                 Traceback (most recent call last)",
      "Cell \u001B[1;32mIn[1], line 26\u001B[0m\n\u001B[0;32m     23\u001B[0m NDIM \u001B[38;5;241m=\u001B[39m \u001B[38;5;241m30\u001B[39m\n\u001B[0;32m     25\u001B[0m \u001B[38;5;66;03m# 多目标\u001B[39;00m\n\u001B[1;32m---> 26\u001B[0m toolbox\u001B[38;5;241m.\u001B[39mregister(\u001B[38;5;124m\"\u001B[39m\u001B[38;5;124mevaluate\u001B[39m\u001B[38;5;124m\"\u001B[39m, \u001B[43mfitness_function\u001B[49m)\n\u001B[0;32m     28\u001B[0m \u001B[38;5;66;03m# 交叉\u001B[39;00m\n\u001B[0;32m     29\u001B[0m toolbox\u001B[38;5;241m.\u001B[39mregister(\u001B[38;5;124m\"\u001B[39m\u001B[38;5;124mmate\u001B[39m\u001B[38;5;124m\"\u001B[39m, tools\u001B[38;5;241m.\u001B[39mcxOnePoint)\n",
      "\u001B[1;31mNameError\u001B[0m: name 'fitness_function' is not defined"
     ]
    }
   ],
   "source": [
    "import array\n",
    "import random\n",
    "\n",
    "import numpy\n",
    "\n",
    "from math import sqrt\n",
    "\n",
    "from deap import algorithms\n",
    "from deap import base\n",
    "from deap import benchmarks\n",
    "from deap.benchmarks.tools import diversity, convergence, hypervolume\n",
    "from deap import creator\n",
    "from deap import tools\n",
    "\n",
    "# 准确性最大化、PFC最大化\n",
    "creator.create(\"FitnessMin\", base.Fitness, weights=(-1.0, -1.0))\n",
    "creator.create(\"Individual\", array.array, typecode='d', fitness=creator.FitnessMin)\n",
    "\n",
    "toolbox = base.Toolbox()\n",
    "\n",
    "BOUND_LOW, BOUND_UP = 0.0, 1.0\n",
    "\n",
    "NDIM = 30\n",
    "\n",
    "# 多目标\n",
    "toolbox.register(\"evaluate\", fitness_function)\n",
    "\n",
    "# 交叉\n",
    "toolbox.register(\"mate\", tools.cxOnePoint)\n",
    "\n",
    "# 突变\n",
    "toolbox.register(\"mutate\", tools.mutPolynomialBounded, low=BOUND_LOW, up=BOUND_UP, eta=20.0, indpb=1.0 / NDIM)\n",
    "\n",
    "# 选择锦标赛s=3\n",
    "toolbox.register(\"select\", tools.selTournament, tournsize=3)\n",
    "\n",
    "\n",
    "def main(seed=None):\n",
    "    random.seed(seed)\n",
    "\n",
    "    NGEN = 250\n",
    "    MU = 30\n",
    "    CXPB = 0.9\n",
    "\n",
    "    pop = toolbox.population(n=MU)\n",
    "\n",
    "    # Evaluate the individuals with an invalid fitness\n",
    "    invalid_ind = [ind for ind in pop if not ind.fitness.valid]\n",
    "    fitnesses = toolbox.map(toolbox.evaluate, invalid_ind)\n",
    "    for ind, fit in zip(invalid_ind, fitnesses):\n",
    "        ind.fitness.values = fit\n",
    "\n",
    "    # This is just to assign the crowding distance to the individuals\n",
    "    # no actual selection is done\n",
    "    pop = toolbox.select(pop, len(pop))\n",
    "    # Begin the generational process\n",
    "    for gen in range(1, NGEN):\n",
    "        # Vary the population\n",
    "        offspring = tools.selTournamentDCD(pop, len(pop))\n",
    "        offspring = [toolbox.clone(ind) for ind in offspring]\n",
    "\n",
    "        for ind1, ind2 in zip(offspring[::2], offspring[1::2]):\n",
    "            if random.random() <= CXPB:\n",
    "                toolbox.mate(ind1, ind2)\n",
    "\n",
    "            toolbox.mutate(ind1)\n",
    "            toolbox.mutate(ind2)\n",
    "            del ind1.fitness.values, ind2.fitness.values\n",
    "\n",
    "        # Evaluate the individuals with an invalid fitness\n",
    "        invalid_ind = [ind for ind in offspring if not ind.fitness.valid]\n",
    "        fitnesses = toolbox.map(toolbox.evaluate, invalid_ind)\n",
    "        for ind, fit in zip(invalid_ind, fitnesses):\n",
    "            ind.fitness.values = fit\n",
    "\n",
    "        # Select the next generation population\n",
    "        pop = toolbox.select(pop + offspring, MU)\n",
    "\n",
    "    print(\"Final population hypervolume is %f\" % hypervolume(pop, [11.0, 11.0]))\n",
    "\n",
    "    return pop"
   ],
   "metadata": {
    "collapsed": false,
    "ExecuteTime": {
     "end_time": "2024-11-07T14:56:46.353036Z",
     "start_time": "2024-11-07T14:56:45.961733Z"
    }
   },
   "id": "b68e95c1a5b9442a",
   "execution_count": 1
  }
 ],
 "metadata": {
  "kernelspec": {
   "display_name": "Python 3",
   "language": "python",
   "name": "python3"
  },
  "language_info": {
   "codemirror_mode": {
    "name": "ipython",
    "version": 2
   },
   "file_extension": ".py",
   "mimetype": "text/x-python",
   "name": "python",
   "nbconvert_exporter": "python",
   "pygments_lexer": "ipython2",
   "version": "2.7.6"
  }
 },
 "nbformat": 4,
 "nbformat_minor": 5
}
