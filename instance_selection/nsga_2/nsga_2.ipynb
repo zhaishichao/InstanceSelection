{
 "cells": [
  {
   "cell_type": "markdown",
   "source": [
    "### 加载数据集"
   ],
   "metadata": {
    "collapsed": false
   },
   "id": "1f6e0ae9de365691"
  },
  {
   "cell_type": "code",
   "outputs": [
    {
     "name": "stdout",
     "output_type": "stream",
     "text": [
      "特征数据: (9298, 256)\n",
      "label: (9298,)\n",
      "每种类别的数量： [   0 1553 1269  929  824  852  716  834  792  708  821]\n"
     ]
    }
   ],
   "source": [
    "from sklearn.preprocessing import OneHotEncoder\n",
    "from sklearn.model_selection import train_test_split\n",
    "from utils.dataset_utils import get_classes_indexes_counts\n",
    "import scipy.io as sio  # 从.mat文件中读取数据集\n",
    "import numpy as np\n",
    "\n",
    "################################################################加载数据集################################################\n",
    "# 数据集\n",
    "mat_data = sio.loadmat('../../data/dataset/USPS.mat')\n",
    "# 提取变量\n",
    "dataset_x = mat_data['X']\n",
    "dataset_y = mat_data['Y'][:, 0]  # mat_data['Y']得到的形状为[n,1]，通过[:,0]，得到形状[n,]\n",
    "# 显示数据集分布\n",
    "print(\"特征数据:\", dataset_x.shape)\n",
    "print(\"label:\", dataset_y.shape)\n",
    "\n",
    "# One-hot encode target variable 强制将类别转换为0，1，2，3......\n",
    "encoder = OneHotEncoder(sparse_output=False)\n",
    "y_onehot = encoder.fit_transform(dataset_y.reshape(-1, 1))\n",
    "\n",
    "# 统计每个类别的个数，dataset_y.max()+1是类别的个数\n",
    "classes, counts = get_classes_indexes_counts(dataset_y)\n",
    "print(\"每种类别的数量：\", counts)"
   ],
   "metadata": {
    "collapsed": false,
    "ExecuteTime": {
     "end_time": "2024-11-20T00:50:37.684264Z",
     "start_time": "2024-11-20T00:50:37.548840Z"
    }
   },
   "id": "4bbfb8b04ee2220",
   "execution_count": 4
  },
  {
   "cell_type": "markdown",
   "source": [
    "###  划分数据集"
   ],
   "metadata": {
    "collapsed": false
   },
   "id": "1b163bfd820e476e"
  },
  {
   "cell_type": "code",
   "outputs": [
    {
     "name": "stdout",
     "output_type": "stream",
     "text": [
      "特征数据: (6508, 256)\n",
      "label: (6508, 10)\n",
      "训练集每种类别的数量： [1116  884  645  569  593  498  574  548  497  584]\n",
      "测试集每种类别的数量： [437 385 284 255 259 218 260 244 211 237]\n"
     ]
    }
   ],
   "source": [
    "from sklearn.preprocessing import StandardScaler\n",
    "\n",
    "x_train, x_test, y_train, y_test = train_test_split(dataset_x, y_onehot, test_size=0.3, random_state=42)\n",
    "\n",
    "# Standardize the feature data\n",
    "scaler = StandardScaler()\n",
    "X_train_scaled = scaler.fit_transform(x_train)\n",
    "X_test_scaled = scaler.transform(x_test)\n",
    "\n",
    "# 显示数据集分布\n",
    "print(\"特征数据:\", x_train.shape)\n",
    "print(\"label:\", y_train.shape)\n",
    "\n",
    "# 统计每个类别的个数 np.argmax(y_train, axis=1) Convert one-hot encoded test labels back to single class labels\n",
    "classes_train, counts_train = get_classes_indexes_counts(np.argmax(y_train, axis=1))\n",
    "print(\"训练集每种类别的数量：\", counts_train)\n",
    "\n",
    "classes_test, counts_test = get_classes_indexes_counts(np.argmax(y_test, axis=1))\n",
    "print(\"测试集每种类别的数量：\", counts_test)"
   ],
   "metadata": {
    "collapsed": false,
    "ExecuteTime": {
     "end_time": "2024-11-20T00:50:46.147693Z",
     "start_time": "2024-11-20T00:50:46.094478Z"
    }
   },
   "id": "b15c4bd533249491",
   "execution_count": 5
  },
  {
   "cell_type": "markdown",
   "source": [
    "### 平衡数据集的构建\n",
    "1.首先找出类别数量最小的类\n",
    "2.取最小类别数量的90%，作为平衡数据集的各类别原始数量\n",
    "3.在每个类别中随机抽取实例构成初始数据集"
   ],
   "metadata": {
    "collapsed": false
   },
   "id": "8811199107bb05a9"
  },
  {
   "cell_type": "code",
   "outputs": [
    {
     "name": "stdout",
     "output_type": "stream",
     "text": [
      "最小数量: 447\n",
      "平衡的数据集的特征数据: (4470, 256)\n",
      "label: (4470, 10)\n",
      "平衡的数据集中每种类别的数量： [447 447 447 447 447 447 447 447 447 447]\n"
     ]
    }
   ],
   "source": [
    "# 确定每个类别的数量\n",
    "num_instances = int(counts_train.min() * 0.9)  # 向下取整\n",
    "print(\"最小数量:\", num_instances)\n",
    "\n",
    "# 在每个类别中随机的选择该数量的实例的索引\n",
    "balanced_classes = np.array([])\n",
    "for indexes in classes_train:\n",
    "    random_selecte_indices = np.random.choice(indexes, size=num_instances, replace=False)\n",
    "    balanced_classes = np.hstack((balanced_classes, random_selecte_indices))\n",
    "balanced_classes = np.sort(balanced_classes).astype(int)\n",
    "\n",
    "# 得到平衡的数据集\n",
    "balanced_dataset_x = []\n",
    "balanced_dataset_y = []\n",
    "for index in balanced_classes:\n",
    "    balanced_dataset_x.append(x_train[index])\n",
    "    balanced_dataset_y.append(y_train[index, :])\n",
    "balanced_dataset_x = np.array(balanced_dataset_x)\n",
    "balanced_dataset_y = np.array(balanced_dataset_y).astype(int)\n",
    "\n",
    "# 显示数据集分布\n",
    "print(\"平衡的数据集的特征数据:\", balanced_dataset_x.shape)\n",
    "print(\"label:\", balanced_dataset_y.shape)\n",
    "\n",
    "# 统计每个类别的个数\n",
    "classes_balanced_dataset, counts_balanced_dataset = get_classes_indexes_counts(np.argmax(balanced_dataset_y, axis=1))\n",
    "print(\"平衡的数据集中每种类别的数量：\", counts_balanced_dataset)"
   ],
   "metadata": {
    "collapsed": false,
    "ExecuteTime": {
     "end_time": "2024-11-20T00:50:48.112597Z",
     "start_time": "2024-11-20T00:50:48.086763Z"
    }
   },
   "id": "746a165e373967a6",
   "execution_count": 6
  },
  {
   "cell_type": "markdown",
   "source": [
    "### 多目标评价"
   ],
   "metadata": {
    "collapsed": false
   },
   "id": "855b2a2d0d65a780"
  },
  {
   "cell_type": "code",
   "outputs": [],
   "source": [
    "from scipy.stats import gmean\n",
    "import math\n",
    "from sklearn.metrics import confusion_matrix, precision_score, roc_curve, auc, roc_auc_score\n",
    "import matplotlib.pyplot as plt\n",
    "\n",
    "\n",
    "##########################由个体得到选择的实例子集的索引###########################\n",
    "def get_indices(individual):\n",
    "    '''\n",
    "    :param individual: individual（用实值进行编码）\n",
    "    :return: 被选择实例的索引\n",
    "    '''\n",
    "    individual = np.round(individual)  # 数据范围在0-1之间，转化成int的同时会舍去小数部分，从而将个体映射到0-1编码\n",
    "    indices = np.where(individual == 1)  # 1代表选择该实例，返回值是tuple，tuple[0]取元组中的第一个元素\n",
    "    return indices[0]\n",
    "\n",
    "\n",
    "###########################获取实例子集############################\n",
    "def get_subset(individual):\n",
    "    '''\n",
    "    :param individual: \n",
    "    :return: 实例子集\n",
    "    '''\n",
    "    indices = get_indices(individual)\n",
    "    x_sub = balanced_dataset_x[indices, :]\n",
    "    y_sub = balanced_dataset_y[indices, :]\n",
    "    return x_sub, y_sub\n",
    "\n",
    "\n",
    "##########################适应度函数（PPV和PFC，为主要、次要指标）#################################\n",
    "def fitness_function(individual):\n",
    "    ######################PPV#######################\n",
    "    # 使用训练数据进行预测\n",
    "    index_pred = individual.mlp.predict(x_test)  # 计算accuracy、PPV\n",
    "    index_pred_proba = individual.mlp.predict_proba(x_test)  # 计算mAUC\n",
    "\n",
    "    # Convert one-hot encoded test labels back to single class labels\n",
    "    y_test_labels = np.argmax(y_test, axis=1)\n",
    "    y_pred_labels = np.argmax(index_pred, axis=1)\n",
    "    _, counts = get_classes_indexes_counts(y_test_labels)\n",
    "    #print(\"类型数量\",len(counts))\n",
    "    # 计算每个类别的 Precision\n",
    "    class_precisions = precision_score(y_test_labels, y_pred_labels, average=None)\n",
    "    #print(\"每个类别的PPV：\", class_precisions)\n",
    "    geometric_mean = gmean(class_precisions)\n",
    "    ######################PFC#######################\n",
    "    # 7. 计算 ROC AUC（ovo+macro）\n",
    "    auc_ovo_macro = roc_auc_score(y_test, index_pred_proba, multi_class=\"ovo\", average=\"macro\")\n",
    "    return round(geometric_mean, 4), round(auc_ovo_macro, 4)\n",
    "\n"
   ],
   "metadata": {
    "collapsed": false,
    "ExecuteTime": {
     "end_time": "2024-11-20T00:50:53.718648Z",
     "start_time": "2024-11-20T00:50:52.290257Z"
    }
   },
   "id": "1b2fbc6f174a89bf",
   "execution_count": 7
  },
  {
   "cell_type": "markdown",
   "source": [
    "### NSGA-II"
   ],
   "metadata": {
    "collapsed": false
   },
   "id": "7c21d5f2e37b5c51"
  },
  {
   "cell_type": "code",
   "outputs": [
    {
     "name": "stdout",
     "output_type": "stream",
     "text": [
      "gen\tevals\tmin            \tmax            \n",
      "0  \t40   \t[0.8421 0.9719]\t[0.8888 0.9826]\n",
      "1  \t40   \t[0.8616 0.978 ]\t[0.8888 0.9849]\n",
      "2  \t40   \t[0.8644 0.9783]\t[0.8906 0.9849]\n",
      "3  \t40   \t[0.8736 0.9783]\t[0.8906 0.985 ]\n",
      "4  \t40   \t[0.876  0.9783]\t[0.8929 0.9852]\n",
      "##############################集成分类器的预测结果：################################\n",
      "Accuracy: 0.86\n",
      "Classification Report:\n",
      "              precision    recall  f1-score   support\n",
      "\n",
      "           0       0.59      0.97      0.74       437\n",
      "           1       0.98      0.96      0.97       385\n",
      "           2       0.92      0.82      0.87       284\n",
      "           3       0.96      0.78      0.86       255\n",
      "           4       0.89      0.82      0.86       259\n",
      "           5       0.95      0.72      0.82       218\n",
      "           6       0.99      0.91      0.95       260\n",
      "           7       0.94      0.88      0.91       244\n",
      "           8       0.95      0.69      0.80       211\n",
      "           9       0.96      0.85      0.90       237\n",
      "\n",
      "    accuracy                           0.86      2790\n",
      "   macro avg       0.91      0.84      0.87      2790\n",
      "weighted avg       0.89      0.86      0.86      2790\n",
      "\n",
      "Confusion Matrix:\n",
      "[[426   0   0   3   5   3   0   0   0   0]\n",
      " [ 13 369   0   0   0   0   0   0   2   1]\n",
      " [ 35   0 234   2   7   0   1   1   4   0]\n",
      " [ 44   0   8 198   0   2   0   2   0   1]\n",
      " [ 37   4   1   0 213   0   1   1   0   2]\n",
      " [ 53   0   2   0   3 158   1   0   0   1]\n",
      " [ 13   3   3   0   3   0 237   0   1   0]\n",
      " [ 22   0   2   0   2   0   0 214   0   4]\n",
      " [ 53   0   2   4   6   1   0   0 145   0]\n",
      " [ 23   0   1   0   0   2   0  10   0 201]]\n"
     ]
    }
   ],
   "source": [
    "from sklearn.metrics import accuracy_score, classification_report\n",
    "from scipy.stats import mode\n",
    "from instance_selection.nsga_2.genetic_operator import selNSGA2, mutate_binary_inversion, selTournamentDCD\n",
    "import warnings\n",
    "\n",
    "warnings.filterwarnings(\"ignore\")  # 忽略警告\n",
    "\n",
    "from sklearn.neural_network import MLPClassifier\n",
    "\n",
    "import array\n",
    "import random\n",
    "import numpy\n",
    "from deap import base\n",
    "from deap import creator\n",
    "from deap import tools\n",
    "\n",
    "# 最大化评价目标\n",
    "creator.create(\"FitnessMaxAndMax\", base.Fitness, weights=(1.0, 1.0))\n",
    "'''\n",
    "fitness:适应度：Gmean和mAUC\n",
    "class_accuracies：分类器对每个类的分类准确度\n",
    "PPVs：PPV也即Precision,PPVs表示对每个类的分类精度\n",
    "PFC：每个分类器的成对故障信用，用于评估分类器集合的多样性\n",
    "\n",
    "'''\n",
    "creator.create(\"Individual\", array.array, typecode='d', fitness=creator.FitnessMaxAndMax, pfc=None, mlp=None)\n",
    "toolbox = base.Toolbox()\n",
    "\n",
    "BOUND_LOW, BOUND_UP = 0.0, 1.0\n",
    "\n",
    "NDIM = num_instances\n",
    "# 二进制编码\n",
    "toolbox.register(\"attr_binary\", random.randint, 0, 1)  # 0-1编码\n",
    "toolbox.register(\"individual\", tools.initRepeat, creator.Individual, toolbox.attr_binary, n=num_instances)\n",
    "toolbox.register(\"population\", tools.initRepeat, list, toolbox.individual)\n",
    "\n",
    "# toolbox.register(\"evaluate\", benchmarks.zdt1)\n",
    "toolbox.register(\"evaluate\", fitness_function)\n",
    "# toolbox.register(\"mate\", tools.cxSimulatedBinaryBounded, low=BOUND_LOW, up=BOUND_UP, eta=20.0)\n",
    "# 单点交叉\n",
    "toolbox.register(\"mate\", tools.cxOnePoint)\n",
    "# 二进制突变\n",
    "toolbox.register(\"mutate\", mutate_binary_inversion)\n",
    "toolbox.register(\"select\", selNSGA2,x_test=x_test,y_test=y_test)\n",
    "# toolbox.register(\"select\", tools.selTournament, tournsize=3)\n",
    "\n",
    "init_mlp = MLPClassifier(hidden_layer_sizes=(20,), max_iter=800, random_state=42)\n",
    "\n",
    "\n",
    "def main(seed=None):\n",
    "    random.seed(seed)\n",
    "\n",
    "    NGEN = 5\n",
    "    MU = 40\n",
    "    CXPB = 1.0\n",
    "    MR = 0.2\n",
    "\n",
    "    ####################################迭代过程的记录###########################\n",
    "    stats = tools.Statistics(lambda ind: ind.fitness.values)\n",
    "    # stats.register(\"avg\", numpy.mean, axis=0)\n",
    "    # stats.register(\"std\", numpy.std, axis=0)\n",
    "    stats.register(\"min\", numpy.min, axis=0)\n",
    "    stats.register(\"max\", numpy.max, axis=0)\n",
    "    logbook = tools.Logbook()\n",
    "    logbook.header = \"gen\", \"evals\", \"min\", \"max\"\n",
    "\n",
    "    ####################################种群的初始化###########################\n",
    "    pop = toolbox.population(n=MU)\n",
    "\n",
    "    ####################################计算初始种群的适应度###########################\n",
    "    ensembles = []  # 当前每个个体对应的mlp模型\n",
    "    base_estimators = []  # 基学习器\n",
    "    save_ensembles = []  # 存储每个个体对应的mlp模型\n",
    "    pop_x_sub = []  # 当前每个个体的实例选择的特征数据\n",
    "    pop_y_sub = []  # 当前每个个体对应的实例选择的lable\n",
    "    # 对于每个个体都训练得到一个mlp模型\n",
    "    for i in range(len(pop)):\n",
    "        mlp = MLPClassifier(hidden_layer_sizes=(20,), max_iter=800, random_state=42)\n",
    "        x_sub, y_sub = get_subset(pop[i])\n",
    "        mlp.fit(x_sub, y_sub)\n",
    "        ensembles.append(mlp)\n",
    "        pop_x_sub.append(x_sub)\n",
    "        pop_y_sub.append(y_sub)\n",
    "        pop[i].mlp = mlp\n",
    "\n",
    "    # 由mlp模型得到个体的适应度\n",
    "    for i in range(len(pop)):\n",
    "        pop[i].fitness.values = toolbox.evaluate(pop[i])\n",
    "\n",
    "    #################################计算PFC并进行非支配排序#########################################\n",
    "    # 计算PFC并进行非支配排序 PFC代替拥挤距离\n",
    "    pop = toolbox.select(pop, len(pop))\n",
    "\n",
    "    record = stats.compile(pop)\n",
    "    logbook.record(gen=0, evals=len(pop), **record)\n",
    "    print(logbook.stream)\n",
    "    ####################################种群的迭代###########################\n",
    "    for gen in range(1, NGEN):\n",
    "        # 选择\n",
    "        offspring = selTournamentDCD(pop, len(pop))\n",
    "        offspring = [toolbox.clone(ind) for ind in offspring]\n",
    "\n",
    "        # 交叉\n",
    "        for i in range(0, len(offspring) - 1, 2):\n",
    "            if random.random() <= CXPB:\n",
    "                offspring[i], offspring[i + 1] = toolbox.mate(offspring[i], offspring[i + 1])\n",
    "            # 突变\n",
    "            offspring[i] = toolbox.mutate(offspring[i])[0]\n",
    "            offspring[i + 1] = toolbox.mutate(offspring[i + 1])[0]\n",
    "            del offspring[i].fitness.values, offspring[i + 1].fitness.values\n",
    "\n",
    "        # 计算新的种群适应度 \n",
    "        ensembles.clear()\n",
    "        pop_x_sub.clear()\n",
    "        pop_y_sub.clear()\n",
    "        for i in range(len(offspring)):\n",
    "            mlp = MLPClassifier(hidden_layer_sizes=(20,), max_iter=1000, random_state=42)\n",
    "            x_sub, y_sub = get_subset(offspring[i])\n",
    "            mlp.fit(x_sub, y_sub)\n",
    "            ensembles.append(mlp)\n",
    "            pop_x_sub.append(x_sub)\n",
    "            pop_y_sub.append(y_sub)\n",
    "            offspring[i].mlp = mlp\n",
    "        for i in range(len(offspring)):\n",
    "            offspring[i].fitness.values = toolbox.evaluate(offspring[i])\n",
    "\n",
    "        # Select the next generation population\n",
    "        pop = toolbox.select(pop + offspring, MU)\n",
    "        record = stats.compile(pop)\n",
    "        logbook.record(gen=gen, evals=len(pop), **record)\n",
    "        print(logbook.stream)\n",
    "    for ind in pop :\n",
    "        save_ensembles.append(ind.mlp)\n",
    "    return pop, logbook, save_ensembles\n",
    "\n",
    "\n",
    "def vote_ensembles(save_ensembles):\n",
    "    y_pred_labels_ensembles=[]\n",
    "    y_test_labels = np.argmax(y_test, axis=1)\n",
    "    for ensemble in save_ensembles :\n",
    "        index_pred = ensemble.predict(x_test)  # 计算accuracy、PPV\n",
    "        # Convert one-hot encoded test labels back to single class labels\n",
    "        y_pred_labels = np.argmax(index_pred, axis=1)\n",
    "        y_pred_labels_ensembles.append(y_pred_labels)\n",
    "    # 按列投票，取每列中出现次数最多的类别作为最终分类结果\n",
    "    final_result = mode(y_pred_labels_ensembles, axis=0, keepdims=False).mode.flatten()\n",
    "    \n",
    "    # 计算准确率\n",
    "    accuracy = accuracy_score(y_test_labels, final_result)\n",
    "    print(f'Accuracy: {accuracy:.2f}')\n",
    "    \n",
    "    # 打印分类报告\n",
    "    print(\"Classification Report:\")\n",
    "    print(classification_report(y_test_labels, final_result))\n",
    "    \n",
    "    # 打印混淆矩阵\n",
    "    print(\"Confusion Matrix:\")\n",
    "    print(confusion_matrix(y_test_labels, final_result))\n",
    "if __name__ == \"__main__\":\n",
    "    pop, stats,ensembles = main()\n",
    "    \n",
    "    print(\"##############################集成分类器的预测结果：################################\")\n",
    "    vote_ensembles(ensembles)"
   ],
   "metadata": {
    "collapsed": false,
    "ExecuteTime": {
     "end_time": "2024-11-20T00:56:22.469255Z",
     "start_time": "2024-11-20T00:51:02.173281Z"
    }
   },
   "id": "b68e95c1a5b9442a",
   "execution_count": 8
  }
 ],
 "metadata": {
  "kernelspec": {
   "display_name": "Python 3",
   "language": "python",
   "name": "python3"
  },
  "language_info": {
   "codemirror_mode": {
    "name": "ipython",
    "version": 2
   },
   "file_extension": ".py",
   "mimetype": "text/x-python",
   "name": "python",
   "nbconvert_exporter": "python",
   "pygments_lexer": "ipython2",
   "version": "2.7.6"
  }
 },
 "nbformat": 4,
 "nbformat_minor": 5
}
