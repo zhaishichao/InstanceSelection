{
 "cells": [
  {
   "cell_type": "code",
   "outputs": [
    {
     "name": "stdout",
     "output_type": "stream",
     "text": [
      "x的形状: (60, 7129)\n",
      "y的形状: (60,)\n",
      "每种类别的数量： [39 21]\n"
     ]
    }
   ],
   "source": [
    "import random\n",
    "from array import array\n",
    "import scipy.io as sio  # 从.mat文件中读取数据集\n",
    "import numpy as np\n",
    "from deap import base\n",
    "from deap import creator\n",
    "from deap import tools\n",
    "from matplotlib import pyplot as plt\n",
    "from sklearn.model_selection import train_test_split\n",
    "from sklearn.pipeline import make_pipeline\n",
    "from sklearn.preprocessing import StandardScaler\n",
    "from sklearn.svm import SVC\n",
    "from tqdm import tqdm\n",
    "\n",
    "from deap_framework.de.custom_functions import *\n",
    "from utils.dataset_utils import get__counts\n",
    "\n",
    "################################################################加载数据集################################################\n",
    "# 数据集\n",
    "mat_data = sio.loadmat('../../data/dataset/CNS.mat')\n",
    "# 提取变量\n",
    "dataset_x = mat_data['X']\n",
    "dataset_y = mat_data['Y'][:, 0]  # mat_data['Y']得到的形状为[n,1]，通过[:,0]，得到形状[n,]\n",
    "# 显示数据集分布\n",
    "print(\"x的形状:\", dataset_x.shape)\n",
    "print(\"y的形状:\", dataset_y.shape)\n",
    "# 统计每个类别的个数，dataset_y.max()+1是类别的个数\n",
    "classes, counts = get_classes_indexes_counts(dataset_y)\n",
    "print(\"每种类别的数量：\", counts)\n",
    "\n",
    "# 通过管道将标准化操作和模型相连接\n",
    "model = make_pipeline(StandardScaler(), SVC(kernel='linear', cache_size=600))  # 'linear' 是线性核，也可以选择 'rbf', 'poly' 等核函数\n",
    "x_train, x_test, y_train, y_test = train_test_split(dataset_x, dataset_y, test_size=0.3, random_state=42)\n",
    "\n",
    "\n",
    "def SVM_Error_Rate(x):  # x的维度为10，也即D=10\n",
    "    error_rate = objective_function(x, x_train=x_train, y_train=y_train, x_test=x_test, y_test=y_test, model=model)\n",
    "    return [error_rate]\n",
    "\n",
    "\n",
    "IND_DIM = x_train.shape[0]\n",
    "save_path = \"C://Users//zsc//Desktop//evolution computation//experiment//imgs\"\n",
    "\n",
    "creator.create(\"FitnessMin\", base.Fitness, weights=(-1.0,))\n",
    "creator.create(\"Individual\", array, typecode='d', fitness=creator.FitnessMin)\n",
    "toolbox = base.Toolbox()\n",
    "toolbox.register(\"attr_float\", generate_random_numbers, 1, 1)\n",
    "toolbox.register(\"individual\", tools.initRepeat, creator.Individual,\n",
    "                 toolbox.attr_float, n=IND_DIM)\n",
    "toolbox.register(\"population\", tools.initRepeat, list, toolbox.individual)\n",
    "toolbox.register(\"mutate\", mutDE, f=0.5)\n",
    "toolbox.register(\"mate\", cxBinomial, cr=0.9)\n",
    "toolbox.register(\"select\", tools.selRandom, k=3)\n",
    "toolbox.register(\"evaluate\", SVM_Error_Rate)\n",
    "\n",
    "\n",
    "def main():\n",
    "    RUN = 1\n",
    "    per_genera_best_individual = []\n",
    "    per_generation_best_instances_counts = []\n",
    "    per_generation_beat_average_fitness = []\n",
    "    with tqdm(total=RUN, desc=\"DE\") as pbar:\n",
    "        for i in range(RUN):\n",
    "            print(f\"######################第{i + 1}次迭代开始#########################\")\n",
    "            NUM_POP = 50\n",
    "            NGEN = 100\n",
    "            x_train, x_test, y_train, y_test = train_test_split(dataset_x, dataset_y, test_size=0.3,\n",
    "                                                                random_state=np.random.randint(RUN+5))\n",
    "            get__counts(y_train, True)\n",
    "            pop = toolbox.population(n=NUM_POP);\n",
    "            hof = tools.HallOfFame(1)\n",
    "\n",
    "            # Evaluate the individuals\n",
    "            fitnesses = toolbox.map(toolbox.evaluate, pop)\n",
    "            for ind, fit in zip(pop, fitnesses):\n",
    "                ind.fitness.values = fit\n",
    "\n",
    "            for g in range(1, NGEN):\n",
    "                children = []\n",
    "                for agent in pop:\n",
    "                    # We must clone everything to ensure independence\n",
    "                    a, b, c = [toolbox.clone(ind) for ind in toolbox.select(pop)]\n",
    "                    x = toolbox.clone(agent)\n",
    "                    y = toolbox.clone(agent)\n",
    "                    y = toolbox.mutate(y, a, b, c)\n",
    "                    z = toolbox.mate(x, y)\n",
    "                    del z.fitness.values\n",
    "                    children.append(z)\n",
    "                fitnesses = toolbox.map(toolbox.evaluate, children)\n",
    "                for (i, ind), fit in zip(enumerate(children), fitnesses):\n",
    "                    ind.fitness.values = fit\n",
    "                    if ind.fitness > pop[i].fitness:\n",
    "                        pop[i] = ind\n",
    "                hof.update(pop)\n",
    "            #print(\"最好的个体：\", np.round(hof[0]))\n",
    "            print(\"with fitness\", hof[0].fitness.values[0])\n",
    "            pbar.set_postfix({\n",
    "                \"当前迭代次数\": i + 1,\n",
    "                \"当前最高准确率\": round(1 - hof[0].fitness.values[0], 3)\n",
    "            })\n",
    "            # 更新进度条\n",
    "            pbar.update(1)\n",
    "            pop_best = np.round(hof[0]).astype(int)\n",
    "            per_genera_best_individual.append(pop_best)\n",
    "            get__counts(pop_best)\n",
    "            classes, counts = get_classes_indexes_counts(y_train)\n",
    "            x_best_sub, y_best_sub, xi = get_sub_dataset(pop_best, get_indices(pop_best), x_train, y_train, classes,\n",
    "                                                         2)\n",
    "            classes_x_best, counts_x_best = get_classes_indexes_counts(y_best_sub)\n",
    "            print(\"最好的个体：\",np.round(hof[0]).astype(int))\n",
    "            print(\"最优实例子集各分类数量：\", counts_x_best)\n",
    "            per_generation_best_instances_counts.append(str(counts_x_best))\n",
    "            per_generation_beat_average_fitness.append(round(1 - hof[0].fitness.values[0], 4) * 100)\n",
    "    # 设置可显示中文宋体\n",
    "    plt.rcParams['font.family'] = 'STZhongsong'\n",
    "    name = \"Australian2\"\n",
    "    plt.title(\"DataSet: \" + name)\n",
    "    plt.xlabel(\"Best Instance Selection\")\n",
    "    plt.ylabel(\"Average accuracy (%)\")\n",
    "    plt.bar(per_generation_best_instances_counts, per_generation_beat_average_fitness, width=0.8)\n",
    "    plt.tick_params(axis='x', labelsize=7)\n",
    "    for a, b in zip(per_generation_best_instances_counts, per_generation_beat_average_fitness):\n",
    "        plt.text(a, b + 0.1, '%.2f' % b, ha='center', va='bottom', fontsize=7)\n",
    "    #plt.savefig(save_path + \"//\" + name, dpi=300, bbox_inches='tight')\n",
    "    plt.close()\n",
    "    per_genera_best_individual = np.array(per_genera_best_individual)\n",
    "    print(f\"平均准确率：{np.mean(per_generation_beat_average_fitness)}\")\n",
    "\n",
    "    return np.round(hof[0]).astype(int)"
   ],
   "metadata": {
    "collapsed": false,
    "ExecuteTime": {
     "end_time": "2024-11-06T00:43:20.212235Z",
     "start_time": "2024-11-06T00:43:20.143308Z"
    }
   },
   "id": "4e2e33dac1ba4e1",
   "execution_count": 6
  },
  {
   "cell_type": "markdown",
   "source": [
    "### 测试运行"
   ],
   "metadata": {
    "collapsed": false
   },
   "id": "752c5a2f909ae460"
  },
  {
   "cell_type": "code",
   "outputs": [
    {
     "name": "stderr",
     "output_type": "stream",
     "text": [
      "DE:   0%|          | 0/1 [00:00<?, ?it/s]"
     ]
    },
    {
     "name": "stdout",
     "output_type": "stream",
     "text": [
      "######################第1次迭代开始#########################\n",
      "每种类别的数量： [26 16]\n"
     ]
    },
    {
     "name": "stderr",
     "output_type": "stream",
     "text": [
      "DE: 100%|██████████| 1/1 [00:38<00:00, 38.42s/it, 当前迭代次数=50, 当前最高准确率=0.944]"
     ]
    },
    {
     "name": "stdout",
     "output_type": "stream",
     "text": [
      "with fitness 0.05555555555555558\n",
      "最好的个体： [1 0 1 1 0 1 0 1 1 0 1 1 1 0 0 0 0 1 1 1 0 1 1 1 1 0 0 0 1 1 0 0 0 1 1 1 1\n",
      " 0 0 1 0 0]\n",
      "最优实例子集各分类数量： [16  7]\n",
      "平均准确率：94.44\n"
     ]
    },
    {
     "name": "stderr",
     "output_type": "stream",
     "text": [
      "\n"
     ]
    }
   ],
   "source": [
    "# 创建一个空的数组，存储最优的个体\n",
    "best_ind = main()"
   ],
   "metadata": {
    "collapsed": false,
    "ExecuteTime": {
     "end_time": "2024-11-06T00:44:00.464427Z",
     "start_time": "2024-11-06T00:43:22.014428Z"
    }
   },
   "id": "d82a903c035f4954",
   "execution_count": 7
  },
  {
   "cell_type": "code",
   "outputs": [
    {
     "name": "stdout",
     "output_type": "stream",
     "text": [
      "准确率: 0.9444444444444444\n",
      "\n",
      "分类报告:\n",
      "               precision    recall  f1-score   support\n",
      "\n",
      "           0       0.92      1.00      0.96        11\n",
      "           1       1.00      0.86      0.92         7\n",
      "\n",
      "    accuracy                           0.94        18\n",
      "   macro avg       0.96      0.93      0.94        18\n",
      "weighted avg       0.95      0.94      0.94        18\n"
     ]
    }
   ],
   "source": [
    "\n",
    "from sklearn.metrics import classification_report\n",
    "\n",
    "classes, counts = get_classes_indexes_counts(y_train)\n",
    "x_best_sub, y_best_sub, xi = get_sub_dataset(best_ind, get_indices(best_ind), x_train, y_train, classes, 2)\n",
    "\n",
    "# 创建SVM模型\n",
    "model = make_pipeline(StandardScaler(), SVC(kernel='linear', cache_size=600))  # 'linear' 是线性核，也可以选择 'rbf', 'poly' 等核函数\n",
    "\n",
    "# 训练\n",
    "model.fit(x_best_sub, y_best_sub)\n",
    "\n",
    "# 预测\n",
    "y_pred = model.predict(x_test)\n",
    "\n",
    "# 计算准确率\n",
    "accuracy = accuracy_score(y_test, y_pred)\n",
    "\n",
    "# 输出结果\n",
    "print(\"准确率:\", accuracy_score(y_test, y_pred))\n",
    "print(\"\\n分类报告:\\n\", classification_report(y_test, y_pred))\n"
   ],
   "metadata": {
    "collapsed": false,
    "ExecuteTime": {
     "end_time": "2024-11-06T00:46:45.736191Z",
     "start_time": "2024-11-06T00:46:45.692567Z"
    }
   },
   "id": "d1923bc0cf58ffc1",
   "execution_count": 8
  }
 ],
 "metadata": {
  "kernelspec": {
   "display_name": "Python 3",
   "language": "python",
   "name": "python3"
  },
  "language_info": {
   "codemirror_mode": {
    "name": "ipython",
    "version": 2
   },
   "file_extension": ".py",
   "mimetype": "text/x-python",
   "name": "python",
   "nbconvert_exporter": "python",
   "pygments_lexer": "ipython2",
   "version": "2.7.6"
  }
 },
 "nbformat": 4,
 "nbformat_minor": 5
}
