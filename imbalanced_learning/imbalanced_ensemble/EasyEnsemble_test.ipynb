{
 "cells": [
  {
   "cell_type": "code",
   "id": "initial_id",
   "metadata": {
    "collapsed": true,
    "ExecuteTime": {
     "end_time": "2025-04-08T14:46:14.572584Z",
     "start_time": "2025-04-08T14:46:09.575015Z"
    }
   },
   "source": [
    "import numpy as np\n",
    "from sklearn.neural_network import MLPClassifier\n",
    "from metrics.metrics import calculate_gmean_mauc\n",
    "from sklearn.model_selection import train_test_split\n",
    "from utils.dataset_utils import get_distribution\n",
    "from imbens.ensemble import SelfPacedEnsembleClassifier\n",
    "from sklearn.metrics import accuracy_score, confusion_matrix, classification_report\n",
    "from instance_selection.parameter.parameter import *  # 导入参数的设定\n",
    "import scipy.io as sio  # 从.mat文件中读取数据集\n",
    "from sklearn.base import clone\n",
    "import warnings\n",
    "from imblearn.ensemble import EasyEnsembleClassifier\n",
    "warnings.filterwarnings(\"ignore\")  # 忽略警告\n",
    "\n",
    "DATASET = Satellite  # 数据集名称（包含对应的参数配置）\n",
    "datasetname = DATASET.DATASETNAME.split('.')[0]\n",
    "mat_data = sio.loadmat(IMBALANCED_DATASET_PATH + DATASET.DATASETNAME)  # 加载、划分数据集\n",
    "x = mat_data['X']\n",
    "y = mat_data['Y'][:, 0]  # mat_data['Y']得到的形状为[n,1]，通过[:,0]，得到形状[n,]\n",
    "model = MLPClassifier(hidden_layer_sizes=(DATASET.HIDDEN_SIZE,), max_iter=DATASET.MAX_ITER,\n",
    "                      random_state=RANDOM_SEED, learning_rate_init=DATASET.LEARNING_RATE)\n",
    "x_train, x_test, y_train, y_test = train_test_split(x, y, test_size=0.3, stratify=y, random_state=42)  # 划分数据集\n",
    "\n",
    "# 输出数据集分布\n",
    "unique_elements_all, classes_all, counts_all = get_distribution(y)  # 获取原始数据集分布\n",
    "unique_elements_train, classes_train, counts_train = get_distribution(y_train)  # 获取训练集分布\n",
    "unique_elements_test, classes_test, counts_test = get_distribution(y_test)  # 获取测试集分布\n",
    "print(datasetname + f' distribution: {counts_all}')\n",
    "print(f'trainset distribution: {counts_train}')\n",
    "print(f'testset distribution: {counts_test}')\n",
    "num_run = 30\n",
    "gmean_results = []\n",
    "mauc_results = []\n",
    "results = []\n",
    "eec = EasyEnsembleClassifier(random_state=42, n_estimators=30)\n",
    "eec.fit(x_train, y_train)\n",
    "y_pred_proba = eec.predict_proba(x_test)\n",
    "gmean, mauc, recall_per_class = calculate_gmean_mauc(y_pred_proba, y_test)\n",
    "print(f'gmean: {gmean:.4f}, mauc: {mauc:.4f}, recall_per_class: {recall_per_class}')\n",
    "# for i in range(0, num_run):\n",
    "#     clf = SelfPacedEnsembleClassifier(estimator=clone(model), random_state=np.random.randint(1, 10000), n_estimators=30)\n",
    "#     clf.fit(x_train, y_train)\n",
    "#     y_pred = clf.predict(x_test)\n",
    "#     y_pred_proba = clf.predict_proba(x_test)\n",
    "#     gmean, mauc, recall_per_class = calculate_gmean_mauc(y_pred_proba, y_test)\n",
    "#     results.append([gmean, mauc])\n",
    "#     gmean_results.append([gmean])\n",
    "#     mauc_results.append([mauc])\n",
    "#     print(f'第{i + 1}次运行:gmean: {gmean:.4f}, mauc: {mauc:.4f}, recall_per_class: {recall_per_class}')\n",
    "# print(f'平均值{np.mean(results, axis=0)}')\n"
   ],
   "outputs": [
    {
     "name": "stdout",
     "output_type": "stream",
     "text": [
      "Satellite distribution: [1533  703 1358  626  707 1508]\n",
      "trainset distribution: [1073  492  951  438  495 1055]\n",
      "testset distribution: [460 211 407 188 212 453]\n",
      "gmean: 0.7818, mauc: 0.9349, recall_per_class: [0.84347826 0.87203791 0.90663391 0.56914894 0.82075472 0.73289183]\n"
     ]
    }
   ],
   "execution_count": 5
  }
 ],
 "metadata": {
  "kernelspec": {
   "display_name": "Python 3",
   "language": "python",
   "name": "python3"
  },
  "language_info": {
   "codemirror_mode": {
    "name": "ipython",
    "version": 2
   },
   "file_extension": ".py",
   "mimetype": "text/x-python",
   "name": "python",
   "nbconvert_exporter": "python",
   "pygments_lexer": "ipython2",
   "version": "2.7.6"
  }
 },
 "nbformat": 4,
 "nbformat_minor": 5
}
