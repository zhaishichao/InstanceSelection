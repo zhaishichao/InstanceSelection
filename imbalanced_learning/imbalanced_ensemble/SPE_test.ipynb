{
 "cells": [
  {
   "cell_type": "markdown",
   "source": [
    "# SelfPacedEnsembleClassifier"
   ],
   "metadata": {
    "collapsed": false
   },
   "id": "ba8ba9740ef5f53b"
  },
  {
   "cell_type": "code",
   "source": [
    "import numpy as np\n",
    "from sklearn.neural_network import MLPClassifier\n",
    "from metrics.metrics import calculate_gmean_mauc\n",
    "from sklearn.model_selection import train_test_split\n",
    "from utils.dataset_utils import get_distribution\n",
    "from imbens.ensemble import SelfPacedEnsembleClassifier\n",
    "from sklearn.metrics import accuracy_score, confusion_matrix, classification_report\n",
    "from instance_selection.parameter.parameter import *  # 导入参数的设定\n",
    "import scipy.io as sio  # 从.mat文件中读取数据集\n",
    "from sklearn.base import clone\n",
    "import warnings\n",
    "\n",
    "warnings.filterwarnings(\"ignore\")  # 忽略警告\n",
    "\n",
    "DATASET = Splice  # 数据集名称（包含对应的参数配置）\n",
    "datasetname = DATASET.DATASETNAME.split('.')[0]\n",
    "mat_data = sio.loadmat(IMBALANCED_DATASET_PATH + DATASET.DATASETNAME)  # 加载、划分数据集\n",
    "x = mat_data['X']\n",
    "y = mat_data['Y'][:, 0]  # mat_data['Y']得到的形状为[n,1]，通过[:,0]，得到形状[n,]\n",
    "model = MLPClassifier(hidden_layer_sizes=(DATASET.HIDDEN_SIZE,), max_iter=DATASET.MAX_ITER,\n",
    "                      random_state=RANDOM_SEED+1, learning_rate_init=DATASET.LEARNING_RATE)\n",
    "x_train, x_test, y_train, y_test = train_test_split(x, y, test_size=0.3, stratify=y, random_state=42+1)  # 划分数据集\n",
    "\n",
    "# 输出数据集分布\n",
    "unique_elements_all, classes_all, counts_all = get_distribution(y)  # 获取原始数据集分布\n",
    "unique_elements_train, classes_train, counts_train = get_distribution(y_train)  # 获取训练集分布\n",
    "unique_elements_test, classes_test, counts_test = get_distribution(y_test)  # 获取测试集分布\n",
    "print(datasetname + f' distribution: {counts_all}')\n",
    "print(f'trainset distribution: {counts_train}')\n",
    "print(f'testset distribution: {counts_test}')\n",
    "num_run = 50\n",
    "gmean_results = []\n",
    "mauc_results = []\n",
    "results = []\n",
    "for i in range(0, num_run):\n",
    "    clf = SelfPacedEnsembleClassifier(estimator=clone(model), random_state=np.random.randint(1, 10000), n_estimators=30)\n",
    "    clf.fit(x_train, y_train)\n",
    "    y_pred = clf.predict(x_test)\n",
    "    y_pred_proba = clf.predict_proba(x_test)\n",
    "    gmean, mauc, recall_per_class = calculate_gmean_mauc(y_pred_proba, y_test)\n",
    "    # 输出gmean, mauc, recall_per_class\n",
    "    results.append([gmean, mauc])\n",
    "    gmean_results.append([gmean])\n",
    "    mauc_results.append([mauc])\n",
    "    print(f'第{i + 1}次运行:gmean: {gmean:.4f}, mauc: {mauc:.4f}, recall_per_class: {recall_per_class}')\n",
    "# 输出results平均值\n",
    "print(f'平均值{np.mean(results, axis=0)}')\n",
    "# 输出准确率\n",
    "# accuracy = accuracy_score(y_test, y_pred)\n",
    "# print(f'模型准确率: {accuracy:.4f}')\n",
    "\n",
    "# 输出混淆矩阵\n",
    "# cm = confusion_matrix(y_test, y_pred)\n",
    "# print(\"\\n混淆矩阵：\\n\", cm)\n",
    "\n",
    "# 输出分类报告\n",
    "# report = classification_report(y_test, y_pred)\n",
    "# print(\"\\n分类报告：\\n\", report)\n",
    "\n"
   ],
   "metadata": {
    "collapsed": false,
    "ExecuteTime": {
     "end_time": "2025-04-15T05:27:22.701055Z",
     "start_time": "2025-04-15T05:26:33.448971Z"
    }
   },
   "id": "901228e0ee9ab145",
   "outputs": [
    {
     "name": "stdout",
     "output_type": "stream",
     "text": [
      "Splice distribution: [ 767  768 1655]\n",
      "trainset distribution: [ 537  538 1158]\n",
      "testset distribution: [230 230 497]\n",
      "第1次运行:gmean: 0.5334, mauc: 0.7643, recall_per_class: [0.75217391 0.82173913 0.24547284]\n",
      "第2次运行:gmean: 0.4649, mauc: 0.7628, recall_per_class: [0.73478261 0.83913043 0.16297787]\n",
      "第3次运行:gmean: 0.7312, mauc: 0.8995, recall_per_class: [0.88695652 0.88695652 0.49698189]\n",
      "第4次运行:gmean: 0.5694, mauc: 0.8252, recall_per_class: [0.76086957 0.84347826 0.28772636]\n",
      "第5次运行:gmean: 0.0000, mauc: 0.5000, recall_per_class: [1. 0. 0.]\n",
      "第6次运行:gmean: 0.0000, mauc: 0.7833, recall_per_class: [0.93043478 0.83913043 0.        ]\n",
      "第7次运行:gmean: 0.7601, mauc: 0.8957, recall_per_class: [0.93043478 0.82608696 0.57142857]\n",
      "第8次运行:gmean: 0.0000, mauc: 0.7965, recall_per_class: [0.86956522 0.88695652 0.        ]\n",
      "第9次运行:gmean: 0.0000, mauc: 0.5000, recall_per_class: [0. 1. 0.]\n",
      "第10次运行:gmean: 0.7234, mauc: 0.8532, recall_per_class: [0.93043478 0.66956522 0.60764588]\n",
      "第11次运行:gmean: 0.0000, mauc: 0.5000, recall_per_class: [0. 0. 1.]\n",
      "第12次运行:gmean: 0.0000, mauc: 0.7782, recall_per_class: [0.65217391 0.         0.93963783]\n",
      "第13次运行:gmean: 0.5188, mauc: 0.7627, recall_per_class: [0.74782609 0.76086957 0.24547284]\n",
      "第14次运行:gmean: 0.0000, mauc: 0.7866, recall_per_class: [0.86086957 0.         0.85311871]\n",
      "第15次运行:gmean: 0.0000, mauc: 0.7519, recall_per_class: [0.92608696 0.71304348 0.        ]\n",
      "第16次运行:gmean: 0.7331, mauc: 0.8759, recall_per_class: [0.73043478 0.96086957 0.56136821]\n",
      "第17次运行:gmean: 0.5830, mauc: 0.8104, recall_per_class: [0.94347826 0.42608696 0.49295775]\n",
      "第18次运行:gmean: 0.3820, mauc: 0.7610, recall_per_class: [0.74347826 0.88695652 0.08450704]\n",
      "第19次运行:gmean: 0.7140, mauc: 0.8957, recall_per_class: [0.88695652 0.88695652 0.46277666]\n",
      "第20次运行:gmean: 0.5533, mauc: 0.8639, recall_per_class: [0.90869565 0.87391304 0.21327968]\n",
      "第21次运行:gmean: 0.7447, mauc: 0.8910, recall_per_class: [0.78695652 0.73478261 0.71428571]\n",
      "第22次运行:gmean: 0.7202, mauc: 0.8543, recall_per_class: [0.82608696 0.79130435 0.57142857]\n",
      "第23次运行:gmean: 0.7814, mauc: 0.9157, recall_per_class: [0.81304348 0.90869565 0.64587525]\n",
      "第24次运行:gmean: 0.7651, mauc: 0.9009, recall_per_class: [0.84782609 0.88695652 0.59557344]\n",
      "第25次运行:gmean: 0.0000, mauc: 0.7706, recall_per_class: [0.93478261 0.89130435 0.        ]\n",
      "第26次运行:gmean: 0.7372, mauc: 0.8634, recall_per_class: [0.92173913 0.8        0.54325956]\n",
      "第27次运行:gmean: 0.7340, mauc: 0.8532, recall_per_class: [0.92608696 0.69130435 0.61770624]\n",
      "第28次运行:gmean: 0.0000, mauc: 0.7907, recall_per_class: [0.79130435 0.94782609 0.        ]\n",
      "第29次运行:gmean: 0.6949, mauc: 0.8396, recall_per_class: [0.87826087 0.5173913  0.73843058]\n",
      "第30次运行:gmean: 0.0000, mauc: 0.5003, recall_per_class: [1. 0. 0.]\n",
      "第31次运行:gmean: 0.7054, mauc: 0.8795, recall_per_class: [0.89565217 0.82173913 0.47686117]\n",
      "第32次运行:gmean: 0.7569, mauc: 0.8993, recall_per_class: [0.90434783 0.83913043 0.57142857]\n",
      "第33次运行:gmean: 0.1169, mauc: 0.8787, recall_per_class: [0.9        0.8826087  0.00201207]\n",
      "第34次运行:gmean: 0.6325, mauc: 0.8640, recall_per_class: [0.46521739 0.63913043 0.85110664]\n",
      "第35次运行:gmean: 0.0000, mauc: 0.7472, recall_per_class: [0.7826087  0.94782609 0.        ]\n",
      "第36次运行:gmean: 0.4921, mauc: 0.7683, recall_per_class: [0.66521739 0.84782609 0.21126761]\n",
      "第37次运行:gmean: 0.5162, mauc: 0.7913, recall_per_class: [0.9        0.6173913  0.24748491]\n",
      "第38次运行:gmean: 0.4073, mauc: 0.7499, recall_per_class: [0.67391304 0.87391304 0.11468813]\n",
      "第39次运行:gmean: 0.7302, mauc: 0.8590, recall_per_class: [0.93043478 0.64782609 0.64587525]\n",
      "第40次运行:gmean: 0.7474, mauc: 0.9025, recall_per_class: [0.89130435 0.84347826 0.55533199]\n",
      "第41次运行:gmean: 0.0000, mauc: 0.5000, recall_per_class: [0. 0. 1.]\n",
      "第42次运行:gmean: 0.6740, mauc: 0.8694, recall_per_class: [0.9173913  0.57391304 0.58148893]\n",
      "第43次运行:gmean: 0.7551, mauc: 0.9072, recall_per_class: [0.77391304 0.95652174 0.58148893]\n",
      "第44次运行:gmean: 0.4520, mauc: 0.7588, recall_per_class: [0.69130435 0.8        0.16700201]\n",
      "第45次运行:gmean: 0.6524, mauc: 0.8419, recall_per_class: [0.9173913  0.63478261 0.47686117]\n",
      "第46次运行:gmean: 0.0000, mauc: 0.7955, recall_per_class: [0.86956522 0.         0.87323944]\n",
      "第47次运行:gmean: 0.5376, mauc: 0.7625, recall_per_class: [0.71304348 0.7173913  0.30382294]\n",
      "第48次运行:gmean: 0.6125, mauc: 0.7919, recall_per_class: [0.92173913 0.45217391 0.55130785]\n",
      "第49次运行:gmean: 0.5955, mauc: 0.7905, recall_per_class: [0.77391304 0.7173913  0.38028169]\n",
      "第50次运行:gmean: 0.6782, mauc: 0.8851, recall_per_class: [0.8826087  0.8826087  0.40040241]\n",
      "平均值[0.45012554 0.79578234]\n"
     ]
    }
   ],
   "execution_count": 1
  },
  {
   "cell_type": "code",
   "source": [
    "from utils.excel_utils import save_to_excel\n",
    "\n",
    "columns = ['SPE']\n",
    "\n",
    "save_path = 'C:/Users/zsc/Desktop/SPE/' + datasetname + '/'\n",
    "filename = datasetname\n",
    "save_to_excel(save_path, filename, columns, gmean_results, mauc_results)"
   ],
   "metadata": {
    "collapsed": false,
    "ExecuteTime": {
     "end_time": "2025-04-15T05:27:22.891120Z",
     "start_time": "2025-04-15T05:27:22.701672Z"
    }
   },
   "id": "1c683f8d24fa83e2",
   "outputs": [
    {
     "name": "stdout",
     "output_type": "stream",
     "text": [
      "Excel 文件已保存至: C:/Users/zsc/Desktop/SPE/Splice/Splice.xlsx\n"
     ]
    },
    {
     "data": {
      "text/plain": [
       "'C:/Users/zsc/Desktop/SPE/Splice/Splice.xlsx'"
      ]
     },
     "execution_count": 2,
     "metadata": {},
     "output_type": "execute_result"
    }
   ],
   "execution_count": 2
  }
 ],
 "metadata": {
  "kernelspec": {
   "display_name": "Python 3",
   "language": "python",
   "name": "python3"
  },
  "language_info": {
   "codemirror_mode": {
    "name": "ipython",
    "version": 2
   },
   "file_extension": ".py",
   "mimetype": "text/x-python",
   "name": "python",
   "nbconvert_exporter": "python",
   "pygments_lexer": "ipython2",
   "version": "2.7.6"
  }
 },
 "nbformat": 4,
 "nbformat_minor": 5
}
