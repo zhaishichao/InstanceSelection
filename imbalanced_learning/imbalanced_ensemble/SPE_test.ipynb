{
 "cells": [
  {
   "cell_type": "markdown",
   "source": [
    "# SelfPacedEnsembleClassifier"
   ],
   "metadata": {
    "collapsed": false
   },
   "id": "ba8ba9740ef5f53b"
  },
  {
   "cell_type": "code",
   "outputs": [
    {
     "name": "stdout",
     "output_type": "stream",
     "text": [
      "Automobile distribution: [20 48 46 29 13]\n",
      "trainset distribution: [14 34 32 20  9]\n",
      "testset distribution: [ 6 14 14  9  4]\n",
      "第1次运行:gmean: 0.0000, mauc: 0.4951, recall_per_class: [0. 1. 0. 0. 0.]\n",
      "第2次运行:gmean: 0.0000, mauc: 0.4875, recall_per_class: [0. 1. 0. 0. 0.]\n",
      "第3次运行:gmean: 0.0000, mauc: 0.5083, recall_per_class: [0.         0.         1.         0.11111111 0.        ]\n",
      "第4次运行:gmean: 0.0000, mauc: 0.5000, recall_per_class: [0. 0. 0. 0. 1.]\n",
      "第5次运行:gmean: 0.0000, mauc: 0.5000, recall_per_class: [1. 0. 0. 0. 0.]\n",
      "第6次运行:gmean: 0.0000, mauc: 0.5000, recall_per_class: [0. 0. 1. 0. 0.]\n",
      "第7次运行:gmean: 0.0000, mauc: 0.4309, recall_per_class: [0. 1. 0. 0. 0.]\n",
      "第8次运行:gmean: 0.0000, mauc: 0.4839, recall_per_class: [0. 0. 1. 0. 0.]\n",
      "第9次运行:gmean: 0.0000, mauc: 0.4413, recall_per_class: [0. 1. 0. 0. 0.]\n",
      "第10次运行:gmean: 0.0000, mauc: 0.4875, recall_per_class: [0. 0. 0. 1. 0.]\n",
      "第11次运行:gmean: 0.0000, mauc: 0.5000, recall_per_class: [0. 1. 0. 0. 0.]\n",
      "第12次运行:gmean: 0.0000, mauc: 0.4875, recall_per_class: [1. 0. 0. 0. 0.]\n",
      "第13次运行:gmean: 0.0000, mauc: 0.4894, recall_per_class: [0.         1.         0.         0.22222222 0.        ]\n",
      "第14次运行:gmean: 0.0000, mauc: 0.4875, recall_per_class: [0. 0. 1. 0. 0.]\n",
      "第15次运行:gmean: 0.0000, mauc: 0.5042, recall_per_class: [0. 0. 0. 1. 0.]\n",
      "第16次运行:gmean: 0.0000, mauc: 0.5000, recall_per_class: [0. 0. 0. 0. 1.]\n",
      "第17次运行:gmean: 0.0000, mauc: 0.4839, recall_per_class: [0.   0.   0.   0.   0.75]\n",
      "第18次运行:gmean: 0.0000, mauc: 0.4875, recall_per_class: [0. 0. 1. 0. 0.]\n",
      "第19次运行:gmean: 0.0000, mauc: 0.5697, recall_per_class: [0. 0. 1. 0. 0.]\n",
      "第20次运行:gmean: 0.0000, mauc: 0.6270, recall_per_class: [0. 0. 0. 0. 1.]\n",
      "第21次运行:gmean: 0.0000, mauc: 0.5000, recall_per_class: [0. 0. 0. 1. 0.]\n",
      "第22次运行:gmean: 0.0000, mauc: 0.5000, recall_per_class: [0. 0. 0. 0. 1.]\n",
      "第23次运行:gmean: 0.0000, mauc: 0.5076, recall_per_class: [0.   0.   0.   0.   0.75]\n",
      "第24次运行:gmean: 0.0000, mauc: 0.4750, recall_per_class: [0. 0. 1. 0. 0.]\n",
      "第25次运行:gmean: 0.0000, mauc: 0.5146, recall_per_class: [0.16666667 0.         0.         0.         0.75      ]\n",
      "第26次运行:gmean: 0.0000, mauc: 0.5470, recall_per_class: [0.33333333 0.         0.         0.         0.75      ]\n",
      "第27次运行:gmean: 0.0000, mauc: 0.5000, recall_per_class: [0. 0. 0. 1. 0.]\n",
      "第28次运行:gmean: 0.0000, mauc: 0.5000, recall_per_class: [0. 1. 0. 0. 0.]\n",
      "第29次运行:gmean: 0.0000, mauc: 0.4380, recall_per_class: [0. 1. 0. 0. 0.]\n",
      "第30次运行:gmean: 0.0000, mauc: 0.6426, recall_per_class: [0.         0.         0.14285714 0.         1.        ]\n",
      "平均值[0.         0.50320117]\n"
     ]
    }
   ],
   "source": [
    "import numpy as np\n",
    "from sklearn.neural_network import MLPClassifier\n",
    "from metrics.metrics import calculate_gmean_mauc\n",
    "from sklearn.model_selection import train_test_split\n",
    "from utils.dataset_utils import get_distribution\n",
    "from imbens.ensemble import SelfPacedEnsembleClassifier\n",
    "from sklearn.metrics import accuracy_score, confusion_matrix, classification_report\n",
    "from instance_selection.parameter.parameter import *  # 导入参数的设定\n",
    "import scipy.io as sio  # 从.mat文件中读取数据集\n",
    "from sklearn.base import clone\n",
    "import warnings\n",
    "\n",
    "warnings.filterwarnings(\"ignore\")  # 忽略警告\n",
    "\n",
    "DATASET = Automobile  # 数据集名称（包含对应的参数配置）\n",
    "datasetname = DATASET.DATASETNAME.split('.')[0]\n",
    "mat_data = sio.loadmat(IMBALANCED_DATASET_PATH + DATASET.DATASETNAME)  # 加载、划分数据集\n",
    "x = mat_data['X']\n",
    "y = mat_data['Y'][:, 0]  # mat_data['Y']得到的形状为[n,1]，通过[:,0]，得到形状[n,]\n",
    "model = MLPClassifier(hidden_layer_sizes=(DATASET.HIDDEN_SIZE,), max_iter=DATASET.MAX_ITER,\n",
    "                      random_state=RANDOM_SEED, learning_rate_init=DATASET.LEARNING_RATE)\n",
    "x_train, x_test, y_train, y_test = train_test_split(x, y, test_size=0.3, stratify=y, random_state=42)  # 划分数据集\n",
    "\n",
    "# 输出数据集分布\n",
    "unique_elements_all, classes_all, counts_all = get_distribution(y)  # 获取原始数据集分布\n",
    "unique_elements_train, classes_train, counts_train = get_distribution(y_train)  # 获取训练集分布\n",
    "unique_elements_test, classes_test, counts_test = get_distribution(y_test)  # 获取测试集分布\n",
    "print(datasetname + f' distribution: {counts_all}')\n",
    "print(f'trainset distribution: {counts_train}')\n",
    "print(f'testset distribution: {counts_test}')\n",
    "num_run = 30\n",
    "gmean_results = []\n",
    "mauc_results = []\n",
    "results = []\n",
    "for i in range(0, num_run):\n",
    "    clf = SelfPacedEnsembleClassifier(estimator=clone(model), random_state=np.random.randint(1, 1000), n_estimators=30)\n",
    "    clf.fit(x_train, y_train)\n",
    "    y_pred = clf.predict(x_test)\n",
    "    y_pred_proba = clf.predict_proba(x_test)\n",
    "    gmean, mauc, recall_per_class = calculate_gmean_mauc(y_pred_proba, y_test)\n",
    "    # 输出gmean, mauc, recall_per_class\n",
    "    results.append([gmean, mauc])\n",
    "    gmean_results.append([gmean])\n",
    "    mauc_results.append([mauc])\n",
    "    print(f'第{i+1}次运行:gmean: {gmean:.4f}, mauc: {mauc:.4f}, recall_per_class: {recall_per_class}')\n",
    "# 输出results平均值\n",
    "print(f'平均值{np.mean(results, axis=0)}')\n",
    "# 输出准确率\n",
    "# accuracy = accuracy_score(y_test, y_pred)\n",
    "# print(f'模型准确率: {accuracy:.4f}')\n",
    "\n",
    "# 输出混淆矩阵\n",
    "# cm = confusion_matrix(y_test, y_pred)\n",
    "# print(\"\\n混淆矩阵：\\n\", cm)\n",
    "\n",
    "# 输出分类报告\n",
    "# report = classification_report(y_test, y_pred)\n",
    "# print(\"\\n分类报告：\\n\", report)\n",
    "\n"
   ],
   "metadata": {
    "collapsed": false,
    "ExecuteTime": {
     "end_time": "2025-03-25T13:48:15.339334Z",
     "start_time": "2025-03-25T13:47:58.364037Z"
    }
   },
   "id": "901228e0ee9ab145",
   "execution_count": 13
  },
  {
   "cell_type": "code",
   "outputs": [
    {
     "name": "stdout",
     "output_type": "stream",
     "text": [
      "Excel 文件已保存至: C:/Users/zsc/Desktop/SPE/Automobile/Automobile.xlsx\n"
     ]
    },
    {
     "data": {
      "text/plain": "'C:/Users/zsc/Desktop/SPE/Automobile/Automobile.xlsx'"
     },
     "execution_count": 14,
     "metadata": {},
     "output_type": "execute_result"
    }
   ],
   "source": [
    "from utils.excel_utils import save_to_excel\n",
    "\n",
    "columns = ['SPE']\n",
    "\n",
    "save_path = 'C:/Users/zsc/Desktop/SPE/' + datasetname + '/'\n",
    "filename = datasetname\n",
    "save_to_excel(save_path, filename, columns, gmean_results, mauc_results)"
   ],
   "metadata": {
    "collapsed": false,
    "ExecuteTime": {
     "end_time": "2025-03-25T13:48:15.385791Z",
     "start_time": "2025-03-25T13:48:15.342284Z"
    }
   },
   "id": "1c683f8d24fa83e2",
   "execution_count": 14
  }
 ],
 "metadata": {
  "kernelspec": {
   "display_name": "Python 3",
   "language": "python",
   "name": "python3"
  },
  "language_info": {
   "codemirror_mode": {
    "name": "ipython",
    "version": 2
   },
   "file_extension": ".py",
   "mimetype": "text/x-python",
   "name": "python",
   "nbconvert_exporter": "python",
   "pygments_lexer": "ipython2",
   "version": "2.7.6"
  }
 },
 "nbformat": 4,
 "nbformat_minor": 5
}
