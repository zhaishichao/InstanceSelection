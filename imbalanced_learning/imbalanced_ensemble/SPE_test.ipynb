{
 "cells": [
  {
   "cell_type": "markdown",
   "source": [
    "# SelfPacedEnsembleClassifier"
   ],
   "metadata": {
    "collapsed": false
   },
   "id": "ba8ba9740ef5f53b"
  },
  {
   "cell_type": "code",
   "source": [
    "import numpy as np\n",
    "from sklearn.neural_network import MLPClassifier\n",
    "from metrics.metrics import calculate_gmean_mauc\n",
    "from sklearn.model_selection import train_test_split\n",
    "from utils.dataset_utils import get_distribution\n",
    "from imbens.ensemble import SelfPacedEnsembleClassifier\n",
    "from sklearn.metrics import accuracy_score, confusion_matrix, classification_report\n",
    "from instance_selection.parameter.parameter import *  # 导入参数的设定\n",
    "import scipy.io as sio  # 从.mat文件中读取数据集\n",
    "from sklearn.base import clone\n",
    "import warnings\n",
    "\n",
    "warnings.filterwarnings(\"ignore\")  # 忽略警告\n",
    "\n",
    "DATASET = Splice  # 数据集名称（包含对应的参数配置）\n",
    "datasetname = DATASET.DATASETNAME.split('.')[0]\n",
    "mat_data = sio.loadmat(IMBALANCED_DATASET_PATH + DATASET.DATASETNAME)  # 加载、划分数据集\n",
    "x = mat_data['X']\n",
    "y = mat_data['Y'][:, 0]  # mat_data['Y']得到的形状为[n,1]，通过[:,0]，得到形状[n,]\n",
    "model = MLPClassifier(hidden_layer_sizes=(DATASET.HIDDEN_SIZE,), max_iter=DATASET.MAX_ITER,\n",
    "                      random_state=RANDOM_SEED+1, learning_rate_init=DATASET.LEARNING_RATE)\n",
    "x_train, x_test, y_train, y_test = train_test_split(x, y, test_size=0.3, stratify=y, random_state=42)  # 划分数据集\n",
    "\n",
    "# 输出数据集分布\n",
    "unique_elements_all, classes_all, counts_all = get_distribution(y)  # 获取原始数据集分布\n",
    "unique_elements_train, classes_train, counts_train = get_distribution(y_train)  # 获取训练集分布\n",
    "unique_elements_test, classes_test, counts_test = get_distribution(y_test)  # 获取测试集分布\n",
    "print(datasetname + f' distribution: {counts_all}')\n",
    "print(f'trainset distribution: {counts_train}')\n",
    "print(f'testset distribution: {counts_test}')\n",
    "num_run = 50\n",
    "gmean_results = []\n",
    "mauc_results = []\n",
    "results = []\n",
    "for i in range(0, num_run):\n",
    "    clf = SelfPacedEnsembleClassifier(estimator=clone(model), random_state=np.random.randint(1, 10000), n_estimators=30)\n",
    "    clf.fit(x_train, y_train)\n",
    "    y_pred = clf.predict(x_test)\n",
    "    y_pred_proba = clf.predict_proba(x_test)\n",
    "    gmean, mauc, recall_per_class = calculate_gmean_mauc(y_pred_proba, y_test)\n",
    "    # 输出gmean, mauc, recall_per_class\n",
    "    results.append([gmean, mauc])\n",
    "    gmean_results.append([gmean])\n",
    "    mauc_results.append([mauc])\n",
    "    print(f'第{i + 1}次运行:gmean: {gmean:.4f}, mauc: {mauc:.4f}, recall_per_class: {recall_per_class}')\n",
    "# 输出results平均值\n",
    "print(f'平均值{np.mean(results, axis=0)}')\n",
    "# 输出准确率\n",
    "# accuracy = accuracy_score(y_test, y_pred)\n",
    "# print(f'模型准确率: {accuracy:.4f}')\n",
    "\n",
    "# 输出混淆矩阵\n",
    "# cm = confusion_matrix(y_test, y_pred)\n",
    "# print(\"\\n混淆矩阵：\\n\", cm)\n",
    "\n",
    "# 输出分类报告\n",
    "# report = classification_report(y_test, y_pred)\n",
    "# print(\"\\n分类报告：\\n\", report)\n",
    "\n"
   ],
   "metadata": {
    "collapsed": false,
    "ExecuteTime": {
     "end_time": "2025-04-14T03:51:11.880346Z",
     "start_time": "2025-04-14T03:50:25.221972Z"
    }
   },
   "id": "901228e0ee9ab145",
   "outputs": [
    {
     "name": "stdout",
     "output_type": "stream",
     "text": [
      "Splice distribution: [ 767  768 1655]\n",
      "trainset distribution: [ 537  538 1158]\n",
      "testset distribution: [230 230 497]\n",
      "第1次运行:gmean: 0.5358, mauc: 0.7533, recall_per_class: [0.9        0.57391304 0.29778672]\n",
      "第2次运行:gmean: 0.0000, mauc: 0.5000, recall_per_class: [0. 1. 0.]\n",
      "第3次运行:gmean: 0.7203, mauc: 0.8869, recall_per_class: [0.70869565 0.95652174 0.55130785]\n",
      "第4次运行:gmean: 0.7681, mauc: 0.9002, recall_per_class: [0.90869565 0.82608696 0.60362173]\n",
      "第5次运行:gmean: 0.7206, mauc: 0.8669, recall_per_class: [0.94782609 0.76956522 0.51307847]\n",
      "第6次运行:gmean: 0.7794, mauc: 0.8952, recall_per_class: [0.82173913 0.83478261 0.69014085]\n",
      "第7次运行:gmean: 0.6698, mauc: 0.8140, recall_per_class: [0.80869565 0.59565217 0.62374245]\n",
      "第8次运行:gmean: 0.8098, mauc: 0.9161, recall_per_class: [0.84347826 0.87391304 0.72032193]\n",
      "第9次运行:gmean: 0.7962, mauc: 0.9225, recall_per_class: [0.85217391 0.94347826 0.6277666 ]\n",
      "第10次运行:gmean: 0.6109, mauc: 0.8703, recall_per_class: [0.79565217 0.36521739 0.78470825]\n",
      "第11次运行:gmean: 0.0000, mauc: 0.8018, recall_per_class: [0.95217391 0.80434783 0.        ]\n",
      "第12次运行:gmean: 0.0000, mauc: 0.4997, recall_per_class: [0. 1. 0.]\n",
      "第13次运行:gmean: 0.5151, mauc: 0.8413, recall_per_class: [0.96956522 0.78695652 0.17907445]\n",
      "第14次运行:gmean: 0.7002, mauc: 0.8395, recall_per_class: [0.82173913 0.62173913 0.67203219]\n",
      "第15次运行:gmean: 0.7477, mauc: 0.8933, recall_per_class: [0.91304348 0.74347826 0.61569416]\n",
      "第16次运行:gmean: 0.7761, mauc: 0.9032, recall_per_class: [0.88695652 0.9        0.58551308]\n",
      "第17次运行:gmean: 0.4957, mauc: 0.8907, recall_per_class: [0.7826087  0.17826087 0.87323944]\n",
      "第18次运行:gmean: 0.0000, mauc: 0.5000, recall_per_class: [1. 0. 0.]\n",
      "第19次运行:gmean: 0.0000, mauc: 0.5000, recall_per_class: [0. 1. 0.]\n",
      "第20次运行:gmean: 0.0000, mauc: 0.7812, recall_per_class: [0.84782609 0.93478261 0.        ]\n",
      "第21次运行:gmean: 0.0000, mauc: 0.4997, recall_per_class: [0.         1.         0.00201207]\n",
      "第22次运行:gmean: 0.7170, mauc: 0.8769, recall_per_class: [0.8        0.76086957 0.6056338 ]\n",
      "第23次运行:gmean: 0.5807, mauc: 0.8866, recall_per_class: [0.91304348 0.87391304 0.24547284]\n",
      "第24次运行:gmean: 0.7008, mauc: 0.8649, recall_per_class: [0.59565217 0.79565217 0.72635815]\n",
      "第25次运行:gmean: 0.7450, mauc: 0.8921, recall_per_class: [0.90434783 0.8173913  0.55935614]\n",
      "第26次运行:gmean: 0.0000, mauc: 0.7982, recall_per_class: [0.         0.96086957 0.65794769]\n",
      "第27次运行:gmean: 0.1164, mauc: 0.8791, recall_per_class: [0.94347826 0.83043478 0.00201207]\n",
      "第28次运行:gmean: 0.5340, mauc: 0.8229, recall_per_class: [0.87391304 0.22608696 0.77062374]\n",
      "第29次运行:gmean: 0.4494, mauc: 0.7950, recall_per_class: [0.90434783 0.16086957 0.62374245]\n",
      "第30次运行:gmean: 0.7622, mauc: 0.8995, recall_per_class: [0.82608696 0.92173913 0.58148893]\n",
      "第31次运行:gmean: 0.6859, mauc: 0.8217, recall_per_class: [0.89565217 0.76521739 0.47082495]\n",
      "第32次运行:gmean: 0.3818, mauc: 0.8717, recall_per_class: [0.92173913 0.08695652 0.69416499]\n",
      "第33次运行:gmean: 0.7262, mauc: 0.8831, recall_per_class: [0.86086957 0.75217391 0.5915493 ]\n",
      "第34次运行:gmean: 0.6307, mauc: 0.8210, recall_per_class: [0.8826087  0.63913043 0.44466801]\n",
      "第35次运行:gmean: 0.4369, mauc: 0.7818, recall_per_class: [0.86521739 0.82608696 0.1167002 ]\n",
      "第36次运行:gmean: 0.6233, mauc: 0.8809, recall_per_class: [0.33913043 0.8826087  0.80885312]\n",
      "第37次运行:gmean: 0.0000, mauc: 0.8096, recall_per_class: [0.87826087 0.         0.84507042]\n",
      "第38次运行:gmean: 0.0000, mauc: 0.5000, recall_per_class: [0. 1. 0.]\n",
      "第39次运行:gmean: 0.7917, mauc: 0.9045, recall_per_class: [0.84347826 0.89130435 0.65995976]\n",
      "第40次运行:gmean: 0.7439, mauc: 0.8766, recall_per_class: [0.92608696 0.83043478 0.53521127]\n",
      "第41次运行:gmean: 0.5891, mauc: 0.8087, recall_per_class: [0.78695652 0.39130435 0.6639839 ]\n",
      "第42次运行:gmean: 0.5716, mauc: 0.7898, recall_per_class: [0.73043478 0.83043478 0.30784708]\n",
      "第43次运行:gmean: 0.7990, mauc: 0.9037, recall_per_class: [0.86956522 0.87826087 0.66800805]\n",
      "第44次运行:gmean: 0.6989, mauc: 0.8716, recall_per_class: [0.81304348 0.89565217 0.46881288]\n",
      "第45次运行:gmean: 0.7000, mauc: 0.8523, recall_per_class: [0.87826087 0.79565217 0.49094567]\n",
      "第46次运行:gmean: 0.0000, mauc: 0.5000, recall_per_class: [0. 0. 1.]\n",
      "第47次运行:gmean: 0.2969, mauc: 0.8441, recall_per_class: [0.95652174 0.8        0.03420523]\n",
      "第48次运行:gmean: 0.6728, mauc: 0.8737, recall_per_class: [0.96956522 0.57826087 0.54325956]\n",
      "第49次运行:gmean: 0.4731, mauc: 0.7796, recall_per_class: [0.80434783 0.90869565 0.14486922]\n",
      "第50次运行:gmean: 0.7086, mauc: 0.8723, recall_per_class: [0.8173913  0.72608696 0.59959759]\n",
      "平均值[0.4956315  0.80474838]\n"
     ]
    }
   ],
   "execution_count": 3
  },
  {
   "cell_type": "code",
   "source": [
    "from utils.excel_utils import save_to_excel\n",
    "\n",
    "columns = ['SPE']\n",
    "\n",
    "save_path = 'C:/Users/zsc/Desktop/SPE/' + datasetname + '/'\n",
    "filename = datasetname\n",
    "save_to_excel(save_path, filename, columns, gmean_results, mauc_results)"
   ],
   "metadata": {
    "collapsed": false,
    "ExecuteTime": {
     "end_time": "2025-04-14T03:51:11.912411Z",
     "start_time": "2025-04-14T03:51:11.881343Z"
    }
   },
   "id": "1c683f8d24fa83e2",
   "outputs": [
    {
     "name": "stdout",
     "output_type": "stream",
     "text": [
      "Excel 文件已保存至: C:/Users/zsc/Desktop/SPE/Splice/Splice.xlsx\n"
     ]
    },
    {
     "data": {
      "text/plain": [
       "'C:/Users/zsc/Desktop/SPE/Splice/Splice.xlsx'"
      ]
     },
     "execution_count": 4,
     "metadata": {},
     "output_type": "execute_result"
    }
   ],
   "execution_count": 4
  }
 ],
 "metadata": {
  "kernelspec": {
   "display_name": "Python 3",
   "language": "python",
   "name": "python3"
  },
  "language_info": {
   "codemirror_mode": {
    "name": "ipython",
    "version": 2
   },
   "file_extension": ".py",
   "mimetype": "text/x-python",
   "name": "python",
   "nbconvert_exporter": "python",
   "pygments_lexer": "ipython2",
   "version": "2.7.6"
  }
 },
 "nbformat": 4,
 "nbformat_minor": 5
}
