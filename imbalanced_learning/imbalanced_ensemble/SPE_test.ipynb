{
 "cells": [
  {
   "cell_type": "markdown",
   "source": [
    "# SelfPacedEnsembleClassifier"
   ],
   "metadata": {
    "collapsed": false
   },
   "id": "ba8ba9740ef5f53b"
  },
  {
   "cell_type": "code",
   "outputs": [
    {
     "name": "stdout",
     "output_type": "stream",
     "text": [
      "Nursery distribution: [4320 4266 4044  328]\n",
      "trainset distribution: [857 873 806  55]\n",
      "testset distribution: [3463 3393 3238  273]\n",
      "gmean: 0.8172, mauc: 0.9649, recall_per_class: [1.         0.51311524 0.8721433  0.996337  ]\n",
      "模型准确率: 0.8006\n",
      "\n",
      "混淆矩阵：\n",
      " [[3463    0    0    0]\n",
      " [   0 1741  855  797]\n",
      " [   0  361 2824   53]\n",
      " [   0    1    0  272]]\n",
      "\n",
      "分类报告：\n",
      "               precision    recall  f1-score   support\n",
      "\n",
      "           0       1.00      1.00      1.00      3463\n",
      "           1       0.83      0.51      0.63      3393\n",
      "           2       0.77      0.87      0.82      3238\n",
      "           3       0.24      1.00      0.39       273\n",
      "\n",
      "    accuracy                           0.80     10367\n",
      "   macro avg       0.71      0.85      0.71     10367\n",
      "weighted avg       0.85      0.80      0.81     10367\n"
     ]
    }
   ],
   "source": [
    "from sklearn.neural_network import MLPClassifier\n",
    "from metrics.metrics import calculate_gmean_mauc\n",
    "from sklearn.model_selection import train_test_split\n",
    "from utils.dataset_utils import get_distribution\n",
    "from imbens.ensemble import SelfPacedEnsembleClassifier\n",
    "from sklearn.metrics import accuracy_score, confusion_matrix, classification_report\n",
    "from instance_selection.parameter.parameter import *  # 导入参数的设定\n",
    "import scipy.io as sio  # 从.mat文件中读取数据集\n",
    "from sklearn.base import clone\n",
    "import warnings\n",
    "\n",
    "warnings.filterwarnings(\"ignore\")  # 忽略警告\n",
    "\n",
    "DATASET = Nursery  # 数据集名称（包含对应的参数配置）\n",
    "datasetname = DATASET.DATASETNAME.split('.')[0]\n",
    "mat_data = sio.loadmat(IMBALANCED_DATASET_PATH + DATASET.DATASETNAME)  # 加载、划分数据集\n",
    "x = mat_data['X']\n",
    "y = mat_data['Y'][:, 0]  # mat_data['Y']得到的形状为[n,1]，通过[:,0]，得到形状[n,]\n",
    "model = MLPClassifier(hidden_layer_sizes=(DATASET.HIDDEN_SIZE,), max_iter=DATASET.MAX_ITER,\n",
    "                      random_state=RANDOM_SEED, learning_rate_init=DATASET.LEARNING_RATE)\n",
    "x_train, x_test, y_train, y_test = train_test_split(x, y, test_size=0.8, random_state=42)  # 划分数据集\n",
    "\n",
    "# 输出数据集分布\n",
    "unique_elements_all, classes_all, counts_all = get_distribution(y)  # 获取原始数据集分布\n",
    "unique_elements_train, classes_train, counts_train = get_distribution(y_train)  # 获取训练集分布\n",
    "unique_elements_test, classes_test, counts_test = get_distribution(y_test)  # 获取测试集分布\n",
    "print(datasetname + f' distribution: {counts_all}')\n",
    "print(f'trainset distribution: {counts_train}')\n",
    "print(f'testset distribution: {counts_test}')\n",
    "\n",
    "clf = SelfPacedEnsembleClassifier(estimator=clone(model), random_state=0, n_estimators=30)\n",
    "clf.fit(x_train, y_train)\n",
    "\n",
    "y_pred = clf.predict(x_test)\n",
    "y_pred_proba = clf.predict_proba(x_test)\n",
    "gmean, mauc, recall_per_class = calculate_gmean_mauc(y_pred_proba, y_test)\n",
    "# 输出gmean, mauc, recall_per_class\n",
    "print(f'gmean: {gmean:.4f}, mauc: {mauc:.4f}, recall_per_class: {recall_per_class}')\n",
    "# 输出准确率\n",
    "accuracy = accuracy_score(y_test, y_pred)\n",
    "print(f'模型准确率: {accuracy:.4f}')\n",
    "\n",
    "# 输出混淆矩阵\n",
    "cm = confusion_matrix(y_test, y_pred)\n",
    "print(\"\\n混淆矩阵：\\n\", cm)\n",
    "\n",
    "# 输出分类报告\n",
    "report = classification_report(y_test, y_pred)\n",
    "print(\"\\n分类报告：\\n\", report)"
   ],
   "metadata": {
    "collapsed": false,
    "ExecuteTime": {
     "end_time": "2025-03-20T13:40:46.397438Z",
     "start_time": "2025-03-20T13:40:44.497499Z"
    }
   },
   "id": "901228e0ee9ab145",
   "execution_count": 12
  }
 ],
 "metadata": {
  "kernelspec": {
   "display_name": "Python 3",
   "language": "python",
   "name": "python3"
  },
  "language_info": {
   "codemirror_mode": {
    "name": "ipython",
    "version": 2
   },
   "file_extension": ".py",
   "mimetype": "text/x-python",
   "name": "python",
   "nbconvert_exporter": "python",
   "pygments_lexer": "ipython2",
   "version": "2.7.6"
  }
 },
 "nbformat": 4,
 "nbformat_minor": 5
}
