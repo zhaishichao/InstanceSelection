{
 "cells": [
  {
   "cell_type": "code",
   "id": "initial_id",
   "metadata": {
    "collapsed": true,
    "ExecuteTime": {
     "end_time": "2025-04-15T05:07:38.795162Z",
     "start_time": "2025-04-15T05:06:43.932175Z"
    }
   },
   "source": [
    "from utils.excel_utils import save_to_excel\n",
    "from machine_learning.sampling.sample import sample_dataset\n",
    "from sklearn.neural_network import MLPClassifier\n",
    "from instance_selection.parameter.parameter import *  # 导入参数的设定\n",
    "from sklearn.model_selection import train_test_split\n",
    "import scipy.io as sio  # 从.mat文件中读取数据集\n",
    "import numpy as np\n",
    "import warnings\n",
    "from sklearn.base import clone\n",
    "\n",
    "warnings.filterwarnings(\"ignore\")  # 忽略警告\n",
    "\n",
    "DATASET = Splice  # 数据集名称（包含对应参数的字典形式）\n",
    "datasetname = DATASET.DATASETNAME.split('.')[0]\n",
    "\n",
    "# 加载、划分数据集\n",
    "mat_data = sio.loadmat(IMBALANCED_DATASET_PATH + DATASET.DATASETNAME)\n",
    "x = mat_data['X']\n",
    "y = mat_data['Y'][:, 0]  # mat_data['Y']得到的形状为[n,1]，通过[:,0]，得到形状[n,]\n",
    "\n",
    "num_run = 30  # 运行次数\n",
    "\n",
    "gmean_results = []\n",
    "mauc_results = []\n",
    "\n",
    "model = MLPClassifier(hidden_layer_sizes=(DATASET.HIDDEN_SIZE,), max_iter=DATASET.MAX_ITER,\n",
    "                      random_state=RANDOM_SEED+1, learning_rate_init=DATASET.LEARNING_RATE)\n",
    "\n",
    "for i in range(num_run):\n",
    "    random_state = RANDOM_SEED + np.random.randint(1, 1000)\n",
    "    x_train, x_test, y_train, y_test = train_test_split(x, y, test_size=0.3,stratify=y,\n",
    "                                                        random_state=RANDOM_SEED+1)  # 划分数据集\n",
    "    gmean_ros, mauc_ros = sample_dataset(clone(model), x_train, x_test, y_train, y_test,\n",
    "                                         random_state + np.random.randint(1, 10000), method='ROS')\n",
    "    gmean_rus, mauc_rus = sample_dataset(clone(model), x_train, x_test, y_train, y_test,\n",
    "                                         random_state + np.random.randint(1, 10000), method='RUS')\n",
    "    gmean_nos, mauc_nos = sample_dataset(clone(model), x_train, x_test, y_train, y_test,\n",
    "                                         random_state + np.random.randint(1, 10000), method='NOS')\n",
    "    gmean_smote, mauc_smote = sample_dataset(clone(model), x_train, x_test, y_train, y_test,\n",
    "                                             random_state + np.random.randint(1, 10000),\n",
    "                                             method='SMOTE')\n",
    "    # gmean_adasyn, mauc_adasyn = sample_dataset(clone(model), x_train, x_test, y_train, y_test, random_state, method='ADASYN')\n",
    "    gmean_borderlinesmote1, mauc_borderlinesmote1 = sample_dataset(clone(model), x_train, x_test, y_train, y_test,\n",
    "                                                                   random_state + np.random.randint(1, 10000),\n",
    "                                                                   method='BorderlineSMOTE')\n",
    "    gmean_kmeanssmote, mauc_kmeanssmote = sample_dataset(clone(model), x_train, x_test, y_train, y_test,\n",
    "                                                         random_state + np.random.randint(1, 10000),\n",
    "                                                         method='KMeansSMOTE')\n",
    "    gmean = [gmean_nos, gmean_rus, gmean_ros, gmean_smote, gmean_borderlinesmote1, gmean_kmeanssmote]\n",
    "    mauc = [mauc_nos, mauc_rus, mauc_ros, mauc_smote, mauc_borderlinesmote1, mauc_kmeanssmote]\n",
    "    gmean_results.append(gmean)\n",
    "    mauc_results.append(mauc)\n",
    "    # 输出结果\n",
    "    print(f'第{i + 1}次运行:')\n",
    "    print(f'Gmean: {gmean}')\n",
    "    print(f'mAUC: {mauc}')\n",
    "\n",
    "columns = ['NOS', 'RUS', 'ROS', 'SMOTE', 'BorderlineSMOTE', 'KMeansSMOTE']\n",
    "\n",
    "save_path = 'C:/Users/zsc/Desktop/Sampling/' + datasetname + '/'\n",
    "filename = datasetname\n",
    "save_to_excel(save_path, filename, columns, gmean_results, mauc_results)"
   ],
   "outputs": [
    {
     "name": "stdout",
     "output_type": "stream",
     "text": [
      "第1次运行:\n",
      "Gmean: [0.842028, 0.796123, 0.836649, 0.8377, 0.829571, 0.828935]\n",
      "mAUC: [0.951893, 0.926352, 0.94597, 0.939076, 0.937288, 0.949315]\n",
      "第2次运行:\n",
      "Gmean: [0.842028, 0.816059, 0.841628, 0.845186, 0.829061, 0.840476]\n",
      "mAUC: [0.951893, 0.939198, 0.940448, 0.946353, 0.938172, 0.94766]\n",
      "第3次运行:\n",
      "Gmean: [0.842028, 0.804349, 0.854496, 0.833981, 0.822085, 0.824084]\n",
      "mAUC: [0.951893, 0.933672, 0.952424, 0.941889, 0.944194, 0.944441]\n",
      "第4次运行:\n",
      "Gmean: [0.842028, 0.814999, 0.827174, 0.838201, 0.814816, 0.825114]\n",
      "mAUC: [0.951893, 0.943781, 0.94726, 0.94715, 0.931788, 0.938756]\n",
      "第5次运行:\n",
      "Gmean: [0.842028, 0.813679, 0.837527, 0.828748, 0.81513, 0.818871]\n",
      "mAUC: [0.951893, 0.936983, 0.942833, 0.94207, 0.940104, 0.936007]\n",
      "第6次运行:\n",
      "Gmean: [0.842028, 0.821814, 0.818952, 0.818316, 0.828009, 0.844903]\n",
      "mAUC: [0.951893, 0.937796, 0.940653, 0.942569, 0.935072, 0.950669]\n",
      "第7次运行:\n",
      "Gmean: [0.842028, 0.84867, 0.825228, 0.837975, 0.829568, 0.80308]\n",
      "mAUC: [0.951893, 0.941169, 0.941975, 0.944715, 0.937137, 0.928654]\n",
      "第8次运行:\n",
      "Gmean: [0.842028, 0.817525, 0.844986, 0.837635, 0.861693, 0.812802]\n",
      "mAUC: [0.951893, 0.938427, 0.944179, 0.942934, 0.96138, 0.942104]\n",
      "第9次运行:\n",
      "Gmean: [0.842028, 0.826443, 0.845293, 0.81417, 0.825849, 0.845275]\n",
      "mAUC: [0.951893, 0.941736, 0.94108, 0.943667, 0.943041, 0.939161]\n",
      "第10次运行:\n",
      "Gmean: [0.842028, 0.84159, 0.840318, 0.818598, 0.825308, 0.806204]\n",
      "mAUC: [0.951893, 0.945479, 0.939402, 0.935814, 0.938263, 0.932698]\n",
      "第11次运行:\n",
      "Gmean: [0.842028, 0.833892, 0.839727, 0.840932, 0.820846, 0.825957]\n",
      "mAUC: [0.951893, 0.947235, 0.953074, 0.941074, 0.932449, 0.933781]\n",
      "第12次运行:\n",
      "Gmean: [0.842028, 0.841321, 0.827163, 0.840234, 0.837467, 0.833287]\n",
      "mAUC: [0.951893, 0.945749, 0.940464, 0.94841, 0.941768, 0.943088]\n",
      "第13次运行:\n",
      "Gmean: [0.842028, 0.810667, 0.827557, 0.848531, 0.818196, 0.815239]\n",
      "mAUC: [0.951893, 0.937866, 0.930007, 0.950915, 0.934139, 0.927666]\n",
      "第14次运行:\n",
      "Gmean: [0.842028, 0.816291, 0.84611, 0.849534, 0.831034, 0.828295]\n",
      "mAUC: [0.951893, 0.936415, 0.948669, 0.946174, 0.941652, 0.946608]\n",
      "第15次运行:\n",
      "Gmean: [0.842028, 0.822297, 0.827099, 0.82934, 0.83514, 0.829051]\n",
      "mAUC: [0.951893, 0.934177, 0.939606, 0.941693, 0.943403, 0.93355]\n",
      "第16次运行:\n",
      "Gmean: [0.842028, 0.813397, 0.840455, 0.828108, 0.842547, 0.823924]\n",
      "mAUC: [0.951893, 0.937349, 0.947299, 0.935702, 0.942297, 0.941435]\n",
      "第17次运行:\n",
      "Gmean: [0.842028, 0.799393, 0.835885, 0.842109, 0.820438, 0.809139]\n",
      "mAUC: [0.951893, 0.926607, 0.945288, 0.948313, 0.937148, 0.93642]\n",
      "第18次运行:\n",
      "Gmean: [0.842028, 0.82015, 0.812268, 0.840106, 0.841554, 0.807085]\n",
      "mAUC: [0.951893, 0.937569, 0.937231, 0.943315, 0.944861, 0.933913]\n",
      "第19次运行:\n",
      "Gmean: [0.842028, 0.818091, 0.842818, 0.829024, 0.823855, 0.832393]\n",
      "mAUC: [0.951893, 0.925875, 0.943322, 0.941887, 0.937611, 0.947067]\n",
      "第20次运行:\n",
      "Gmean: [0.842028, 0.820489, 0.817904, 0.819008, 0.826108, 0.817547]\n",
      "mAUC: [0.951893, 0.937646, 0.93101, 0.944265, 0.942403, 0.934916]\n",
      "第21次运行:\n",
      "Gmean: [0.842028, 0.843963, 0.830785, 0.819449, 0.822641, 0.805976]\n",
      "mAUC: [0.951893, 0.938274, 0.945979, 0.944656, 0.934935, 0.930668]\n",
      "第22次运行:\n",
      "Gmean: [0.842028, 0.821339, 0.822786, 0.809786, 0.828715, 0.825487]\n",
      "mAUC: [0.951893, 0.942794, 0.940232, 0.939313, 0.936723, 0.947814]\n",
      "第23次运行:\n",
      "Gmean: [0.842028, 0.796101, 0.834108, 0.838059, 0.83801, 0.834365]\n",
      "mAUC: [0.951893, 0.922833, 0.935652, 0.943917, 0.938923, 0.936396]\n",
      "第24次运行:\n",
      "Gmean: [0.842028, 0.820968, 0.818102, 0.814679, 0.840106, 0.833187]\n",
      "mAUC: [0.951893, 0.939288, 0.932969, 0.941451, 0.942678, 0.943963]\n",
      "第25次运行:\n",
      "Gmean: [0.842028, 0.838212, 0.828474, 0.846327, 0.829758, 0.841747]\n",
      "mAUC: [0.951893, 0.943049, 0.943321, 0.951476, 0.939336, 0.9592]\n",
      "第26次运行:\n",
      "Gmean: [0.842028, 0.832489, 0.834108, 0.823204, 0.820799, 0.829491]\n",
      "mAUC: [0.951893, 0.943526, 0.941292, 0.940459, 0.935894, 0.945734]\n",
      "第27次运行:\n",
      "Gmean: [0.842028, 0.833073, 0.836733, 0.824813, 0.838416, 0.826766]\n",
      "mAUC: [0.951893, 0.943663, 0.94779, 0.937393, 0.946836, 0.944596]\n",
      "第28次运行:\n",
      "Gmean: [0.842028, 0.832542, 0.837601, 0.861835, 0.832784, 0.83972]\n",
      "mAUC: [0.951893, 0.934897, 0.941842, 0.951619, 0.94242, 0.948716]\n",
      "第29次运行:\n",
      "Gmean: [0.842028, 0.814335, 0.831698, 0.833949, 0.83275, 0.824857]\n",
      "mAUC: [0.951893, 0.934175, 0.941799, 0.947012, 0.94345, 0.941588]\n",
      "第30次运行:\n",
      "Gmean: [0.842028, 0.79374, 0.829006, 0.82596, 0.828694, 0.844417]\n",
      "mAUC: [0.951893, 0.925583, 0.945302, 0.94095, 0.938668, 0.947373]\n",
      "Excel 文件已保存至: C:/Users/zsc/Desktop/Sampling/Splice/Splice.xlsx\n"
     ]
    },
    {
     "data": {
      "text/plain": [
       "'C:/Users/zsc/Desktop/Sampling/Splice/Splice.xlsx'"
      ]
     },
     "execution_count": 4,
     "metadata": {},
     "output_type": "execute_result"
    }
   ],
   "execution_count": 4
  },
  {
   "metadata": {
    "ExecuteTime": {
     "end_time": "2025-04-15T05:07:38.811172Z",
     "start_time": "2025-04-15T05:07:38.798161Z"
    }
   },
   "cell_type": "code",
   "source": [
    "# 输出平均值\n",
    "print(np.mean(gmean_results, axis=0))\n",
    "print(np.mean(mauc_results, axis=0))"
   ],
   "id": "e4e8815c3dd98a1d",
   "outputs": [
    {
     "name": "stdout",
     "output_type": "stream",
     "text": [
      "[0.842028   0.82080003 0.83308793 0.83251657 0.82969827 0.82592247]\n",
      "[0.951893   0.93730543 0.94227907 0.94354103 0.94013443 0.9411319 ]\n"
     ]
    }
   ],
   "execution_count": 5
  },
  {
   "metadata": {
    "ExecuteTime": {
     "end_time": "2025-04-15T05:07:38.859243Z",
     "start_time": "2025-04-15T05:07:38.814161Z"
    }
   },
   "cell_type": "code",
   "source": [
    "save_path = 'C:/Users/zsc/Desktop/Sampling/' + datasetname + '/'\n",
    "filename = datasetname\n",
    "save_to_excel(save_path, filename, columns, gmean_results, mauc_results)"
   ],
   "id": "9e80a700670282f9",
   "outputs": [
    {
     "name": "stdout",
     "output_type": "stream",
     "text": [
      "Excel 文件已保存至: C:/Users/zsc/Desktop/Sampling/Splice/Splice.xlsx\n"
     ]
    },
    {
     "data": {
      "text/plain": [
       "'C:/Users/zsc/Desktop/Sampling/Splice/Splice.xlsx'"
      ]
     },
     "execution_count": 6,
     "metadata": {},
     "output_type": "execute_result"
    }
   ],
   "execution_count": 6
  }
 ],
 "metadata": {
  "kernelspec": {
   "display_name": "Python 3",
   "language": "python",
   "name": "python3"
  },
  "language_info": {
   "codemirror_mode": {
    "name": "ipython",
    "version": 2
   },
   "file_extension": ".py",
   "mimetype": "text/x-python",
   "name": "python",
   "nbconvert_exporter": "python",
   "pygments_lexer": "ipython2",
   "version": "2.7.6"
  }
 },
 "nbformat": 4,
 "nbformat_minor": 5
}
