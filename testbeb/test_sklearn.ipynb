{
 "cells": [
  {
   "cell_type": "markdown",
   "source": [
    "### 从UCI加载数据，转化格式，转换为数字形式，并保存为mat数据 \n",
    "X为特征数据：num_instances*features\n",
    "Y为lable：(num_instances,1) 是一个列向量"
   ],
   "metadata": {
    "collapsed": false
   },
   "id": "dd67632612062020"
  },
  {
   "cell_type": "code",
   "outputs": [],
   "source": [
    "\n",
    "import numpy as np\n",
    "from sklearn.preprocessing import LabelEncoder, OneHotEncoder, StandardScaler\n",
    "from sklearn.feature_extraction.text import CountVectorizer\n",
    "from sklearn.compose import ColumnTransformer\n",
    "from sklearn.model_selection import train_test_split\n",
    "from sklearn.neural_network import MLPClassifier\n",
    "from sklearn.pipeline import Pipeline\n",
    "from sklearn.metrics import classification_report, accuracy_score, confusion_matrix\n",
    "import pandas as pd\n",
    "from ucimlrepo import fetch_ucirepo\n",
    "from scipy.io import savemat\n",
    "\n",
    "# 数据集\n",
    "uci_dataset = fetch_ucirepo(id=76)\n",
    "# 示例数据集\n",
    "data = uci_dataset.data\n",
    "print(data.headers.tolist())  # \n",
    "# 1. 特征和标签分离\n",
    "X = data.features.values\n",
    "X_columns = data.features.columns.tolist()\n",
    "y = data.targets.values\n",
    "\n",
    "# 3. 特征编码\n",
    "label_encoder = LabelEncoder()\n",
    "X_encoded = np.copy(X)\n",
    "for i in range(X.shape[1]):\n",
    "    X_encoded[:, i] = label_encoder.fit_transform(X_encoded[:, i])\n",
    "y_encoded = label_encoder.fit_transform(y)\n",
    "indexs = np.where(y_encoded == 2)\n",
    "\n",
    "X_encoded = np.delete(X_encoded, indexs[0], axis=0)\n",
    "X_encoded = X_encoded.astype(float)\n",
    "y_encoded = np.delete(y_encoded, indexs[0], axis=0)\n",
    "y_encoded = label_encoder.fit_transform(y_encoded)\n",
    "# 保存为 .mat 文件\n",
    "data_dict = {'X': X_encoded, 'Y': y_encoded.reshape(-1, 1)}  # 以字典形式存储\n",
    "savemat('Nursery.mat', data_dict)\n",
    "\n",
    "# 将数据集分为训练集和测试集\n",
    "X_train, X_test, y_train, y_test = train_test_split(X_encoded, y_encoded, test_size=0.3, random_state=42)\n",
    "\n",
    "# 数据标准化\n",
    "# scaler = StandardScaler()\n",
    "# X_train = scaler.fit_transform(X_train)\n",
    "# X_test = scaler.transform(X_test)\n",
    "\n",
    "# 构建并训练MLP模型\n",
    "mlp = MLPClassifier(hidden_layer_sizes=(20,), max_iter=100, random_state=42)\n",
    "mlp.fit(X_train, y_train)\n",
    "index_pred_proba = mlp.predict_proba(X_test)\n",
    "# 预测和评估模型\n",
    "y_pred = mlp.predict(X_test)\n",
    "\n",
    "# 输出结果\n",
    "print(\"准确率:\", accuracy_score(y_test, y_pred))\n",
    "print(\"\\n分类报告:\\n\", classification_report(y_test, y_pred))\n",
    "# 打印混淆矩阵\n",
    "print(\"Confusion Matrix:\")\n",
    "print(confusion_matrix(y_test, y_pred))\n",
    "\n",
    "print(index_pred_proba.shape)\n",
    "index_pred_proba"
   ],
   "metadata": {
    "collapsed": false
   },
   "id": "1751b2d934078a02",
   "execution_count": null
  },
  {
   "cell_type": "markdown",
   "source": [
    "## numpy转mat的demo"
   ],
   "metadata": {
    "collapsed": false
   },
   "id": "504701a453767c28"
  },
  {
   "cell_type": "code",
   "outputs": [
    {
     "name": "stdout",
     "output_type": "stream",
     "text": [
      "(3, 3)\n",
      "(1, 3)\n",
      "数据已保存为 dataset.mat 文件。\n",
      "加载的 X：\n",
      " [[1.1 2.2 3.3]\n",
      " [4.4 5.5 6.6]\n",
      " [7.7 8.8 9.9]]\n",
      "加载的 y：\n",
      " [[0]\n",
      " [1]\n",
      " [0]]\n",
      "(3,)\n"
     ]
    }
   ],
   "source": [
    "import numpy as np\n",
    "from scipy.io import savemat\n",
    "\n",
    "# 示例数据\n",
    "X = np.array([[1.1, 2.2, 3.3], [4.4, 5.5, 6.6], [7.7, 8.8, 9.9]])  # 特征数据\n",
    "y = np.array([[0, 1, 0]])  # 标签数据\n",
    "print(X.shape)\n",
    "print(y.shape)\n",
    "y = y.reshape(-1, 1)\n",
    "# 保存为 .mat 文件\n",
    "data_dict = {'X': X, 'y': y}  # 以字典形式存储\n",
    "savemat('dataset.mat', data_dict)\n",
    "\n",
    "print(\"数据已保存为 dataset.mat 文件。\")\n",
    "\n",
    "from scipy.io import loadmat\n",
    "\n",
    "# 加载 .mat 文件\n",
    "loaded_data = loadmat('dataset.mat')\n",
    "\n",
    "XX = loaded_data['X']\n",
    "YY = loaded_data['y']\n",
    "# 查看加载的数据\n",
    "print(\"加载的 X：\\n\", XX)\n",
    "print(\"加载的 y：\\n\", YY)\n",
    "print(YY[:, 0].shape)"
   ],
   "metadata": {
    "collapsed": false,
    "ExecuteTime": {
     "end_time": "2024-11-23T15:47:05.355567Z",
     "start_time": "2024-11-23T15:47:05.336834Z"
    }
   },
   "id": "9b685b02ce64a200",
   "execution_count": 9
  },
  {
   "cell_type": "markdown",
   "source": [
    "### 测试保存的mat"
   ],
   "metadata": {
    "collapsed": false
   },
   "id": "261af92fd4fdb709"
  },
  {
   "cell_type": "code",
   "outputs": [
    {
     "name": "stdout",
     "output_type": "stream",
     "text": [
      "[4320 4266 4044  328]\n",
      "(12958, 8)\n",
      "(12958,)\n",
      "[1279 1290 1223   96]\n",
      "准确率: 0.9699074074074074\n",
      "\n",
      "分类报告:\n",
      "               precision    recall  f1-score   support\n",
      "\n",
      "           0       1.00      1.00      1.00      1279\n",
      "           1       0.96      0.95      0.95      1290\n",
      "           2       0.96      0.98      0.97      1223\n",
      "           3       0.83      0.77      0.80        96\n",
      "\n",
      "    accuracy                           0.97      3888\n",
      "   macro avg       0.94      0.92      0.93      3888\n",
      "weighted avg       0.97      0.97      0.97      3888\n",
      "\n",
      "Confusion Matrix:\n",
      "[[1279    0    0    0]\n",
      " [   0 1225   50   15]\n",
      " [   0   30 1193    0]\n",
      " [   0   22    0   74]]\n",
      "(3888, 4)\n",
      "[1. 1. 1. ... 1. 1. 1.]\n"
     ]
    }
   ],
   "source": [
    "from utils.dataset_utils import get_classes_indexes_counts\n",
    "from sklearn.metrics import confusion_matrix\n",
    "# 导入必要的库\n",
    "from sklearn.datasets import load_iris\n",
    "from sklearn.model_selection import train_test_split\n",
    "from sklearn.preprocessing import StandardScaler\n",
    "from sklearn.neural_network import MLPClassifier\n",
    "from sklearn.metrics import classification_report, accuracy_score\n",
    "import scipy.io as sio  # 从.mat文件中读取数据集\n",
    "\n",
    "# 加载鸢尾花数据集\n",
    "# data = load_iris()\n",
    "mat_data = sio.loadmat('Nursery.mat')\n",
    "X = mat_data['X']  # 特征\n",
    "y = mat_data['Y'][:, 0]  # 标签\n",
    "classes, counts = get_classes_indexes_counts(y)\n",
    "print(counts)\n",
    "print(X.shape)\n",
    "print(y.shape)\n",
    "# 将数据集分为训练集和测试集\n",
    "X_train, X_test, y_train, y_test = train_test_split(X, y, test_size=0.3, random_state=42)\n",
    "classes, counts = get_classes_indexes_counts(y_test)\n",
    "print(counts)\n",
    "# 数据标准化\n",
    "# scaler = StandardScaler()\n",
    "# X_train = scaler.fit_transform(X_train)\n",
    "# X_test = scaler.transform(X_test)\n",
    "\n",
    "# 构建并训练MLP模型\n",
    "mlp = MLPClassifier(hidden_layer_sizes=(10, 20), max_iter=1000, random_state=42)\n",
    "mlp.fit(X_train, y_train)\n",
    "index_pred_proba = mlp.predict_proba(X_test)\n",
    "# 预测和评估模型\n",
    "y_pred = mlp.predict(X_test)\n",
    "# 输出结果\n",
    "print(\"准确率:\", accuracy_score(y_test, y_pred))\n",
    "print(\"\\n分类报告:\\n\", classification_report(y_test, y_pred))\n",
    "# 打印混淆矩阵\n",
    "print(\"Confusion Matrix:\")\n",
    "print(confusion_matrix(y_test, y_pred))\n",
    "\n",
    "print(index_pred_proba.shape)\n",
    "res=np.sum(index_pred_proba, axis=1)\n",
    "print(res)"
   ],
   "metadata": {
    "collapsed": false,
    "ExecuteTime": {
     "end_time": "2024-11-23T15:47:42.287859Z",
     "start_time": "2024-11-23T15:47:37.721809Z"
    }
   },
   "id": "d979cf5d8a3a5aa9",
   "execution_count": 11
  }
 ],
 "metadata": {
  "kernelspec": {
   "display_name": "Python 3",
   "language": "python",
   "name": "python3"
  },
  "language_info": {
   "codemirror_mode": {
    "name": "ipython",
    "version": 2
   },
   "file_extension": ".py",
   "mimetype": "text/x-python",
   "name": "python",
   "nbconvert_exporter": "python",
   "pygments_lexer": "ipython2",
   "version": "2.7.6"
  }
 },
 "nbformat": 4,
 "nbformat_minor": 5
}
