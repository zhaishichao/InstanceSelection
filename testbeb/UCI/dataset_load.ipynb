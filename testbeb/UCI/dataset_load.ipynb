{
 "cells": [
  {
   "cell_type": "markdown",
   "source": [
    "## 数据集的加载"
   ],
   "metadata": {
    "collapsed": false
   },
   "id": "71231fb975871e87"
  },
  {
   "cell_type": "code",
   "outputs": [
    {
     "name": "stdout",
     "output_type": "stream",
     "text": [
      "[[63.  1.  1. ...  3.  0.  6.]\n",
      " [67.  1.  4. ...  2.  3.  3.]\n",
      " [67.  1.  4. ...  2.  2.  7.]\n",
      " ...\n",
      " [57.  1.  4. ...  2.  1.  7.]\n",
      " [57.  0.  2. ...  2.  1.  3.]\n",
      " [38.  1.  3. ...  1. nan  3.]]\n",
      "[0 2 1 0 0 0 3 0 2 1 0 0 2 0 0 0 1 0 0 0 0 0 1 3 4 0 0 0 0 3 0 2 1 0 0 0 3\n",
      " 1 3 0 4 0 0 0 1 4 0 4 0 0 0 0 2 0 1 1 1 1 0 0 2 0 1 0 2 2 1 0 2 1 0 3 1 1\n",
      " 1 0 1 0 0 3 0 0 0 3 0 0 0 0 0 0 0 3 0 0 0 1 2 3 0 0 0 0 0 0 3 0 2 1 2 3 1\n",
      " 1 0 2 2 0 0 0 3 2 3 4 0 3 1 0 3 3 0 0 0 0 0 0 0 0 4 3 1 0 0 1 0 1 0 1 4 0\n",
      " 0 0 0 0 0 4 3 1 1 1 2 0 0 4 0 0 0 0 0 0 1 0 3 0 1 0 4 1 0 1 0 0 3 2 0 0 1\n",
      " 0 0 2 1 2 0 3 1 2 0 3 0 0 0 1 0 0 0 0 0 3 3 3 0 1 0 4 0 3 1 0 0 0 0 0 0 0\n",
      " 0 3 1 0 0 0 3 2 0 2 1 0 0 3 2 1 0 0 0 0 0 2 0 2 2 1 3 0 0 1 0 0 0 0 0 0 0\n",
      " 1 0 3 0 0 4 2 2 2 1 0 1 0 2 0 1 0 0 0 1 0 2 0 3 0 2 4 2 0 0 0 1 0 2 2 1 0\n",
      " 3 1 1 2 3 1 0]\n"
     ]
    }
   ],
   "source": [
    "from ucimlrepo import fetch_ucirepo \n",
    "\n",
    "# fetch dataset \n",
    "heart_disease = fetch_ucirepo(id=45) \n",
    "\n",
    "# data (as pandas dataframes) \n",
    "X = heart_disease.data.features \n",
    "y = heart_disease.data.targets\n",
    "\n",
    "# metadata \n",
    "#print(heart_disease.metadata) \n",
    "  \n",
    "# variable information \n",
    "# print(heart_disease.variables) \n",
    "# 将数据和标签转换成numpy\n",
    "X_array = X.to_numpy()\n",
    "y_array = y.to_numpy()[:,0] \n",
    "print(X_array) \n",
    "print(y_array)"
   ],
   "metadata": {
    "collapsed": false,
    "ExecuteTime": {
     "end_time": "2024-11-21T10:36:00.440786Z",
     "start_time": "2024-11-21T10:35:58.218024Z"
    }
   },
   "id": "673ff698435b24a5",
   "execution_count": 3
  }
 ],
 "metadata": {
  "kernelspec": {
   "display_name": "Python 3",
   "language": "python",
   "name": "python3"
  },
  "language_info": {
   "codemirror_mode": {
    "name": "ipython",
    "version": 2
   },
   "file_extension": ".py",
   "mimetype": "text/x-python",
   "name": "python",
   "nbconvert_exporter": "python",
   "pygments_lexer": "ipython2",
   "version": "2.7.6"
  }
 },
 "nbformat": 4,
 "nbformat_minor": 5
}
