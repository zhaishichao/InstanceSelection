{
 "cells": [
  {
   "cell_type": "code",
   "outputs": [
    {
     "name": "stderr",
     "output_type": "stream",
     "text": [
      "D:\\IDE\\Anaconda\\envs\\pytorch\\lib\\site-packages\\sklearn\\preprocessing\\_label.py:114: DataConversionWarning: A column-vector y was passed when a 1d array was expected. Please change the shape of y to (n_samples, ), for example using ravel().\n",
      "  y = column_or_1d(y, warn=True)\n"
     ]
    }
   ],
   "source": [
    "from sklearn.model_selection import train_test_split\n",
    "from sklearn.preprocessing import LabelEncoder, StandardScaler\n",
    "from sklearn.neural_network import MLPClassifier\n",
    "from sklearn.metrics import classification_report, accuracy_score\n",
    "import pandas as pd\n",
    "\n",
    "# 加载数据\n",
    "from ucimlrepo import fetch_ucirepo\n",
    "\n",
    "# 获取 Nursery 数据集\n",
    "nursery = fetch_ucirepo(id=76)\n",
    "\n",
    "# 数据\n",
    "X = nursery.data.features\n",
    "y = nursery.data.targets\n",
    "\n",
    "# Step 1: 数据预处理\n",
    "# 将特征和目标变量编码为数值\n",
    "X_encoded = pd.get_dummies(X)  # 独热编码特征\n",
    "label_encoder = LabelEncoder()\n",
    "y_encoded = label_encoder.fit_transform(y)  # 编码目标变量\n",
    "\n",
    "# 标准化特征\n",
    "scaler = StandardScaler()\n",
    "X_scaled = scaler.fit_transform(X_encoded)\n",
    "\n",
    "# Step 2: 划分数据集\n",
    "X_train, X_test, y_train, y_test = train_test_split(X_scaled, y_encoded, test_size=0.2, random_state=42)\n",
    "\n",
    "# Step 3: 定义 MLP 模型\n",
    "mlp = MLPClassifier(hidden_layer_sizes=(100, 50), activation='relu', solver='adam', max_iter=300, random_state=42)\n",
    "\n",
    "# Step 4: 训练模型\n",
    "mlp.fit(X_train, y_train)\n",
    "\n",
    "# Step 5: 模型评估\n",
    "y_pred = mlp.predict(X_test)\n",
    "\n",
    "# 分类报告\n",
    "report = classification_report(y_test, y_pred, target_names=label_encoder.classes_)\n",
    "print(\"分类报告:\\n\", report)\n",
    "\n",
    "# 按类别输出预测准确度\n",
    "for i, class_name in enumerate(label_encoder.classes_):\n",
    "    class_accuracy = accuracy_score(y_test[y_test == i], y_pred[y_test == i])\n",
    "    print(f\"类别 '{class_name}' 的预测准确度: {class_accuracy:.2f}\")\n"
   ],
   "metadata": {
    "collapsed": false,
    "is_executing": true,
    "ExecuteTime": {
     "start_time": "2024-11-18T17:56:27.318476Z"
    }
   },
   "id": "1b78a1bc888926cf",
   "execution_count": null
  },
  {
   "cell_type": "code",
   "outputs": [
    {
     "name": "stdout",
     "output_type": "stream",
     "text": [
      "[1, 2, 3, 4, 5, 6, 7, 8, 9, 10]\n"
     ]
    }
   ],
   "source": [
    "import random\n",
    "\n",
    "offspring=[1,2,3,4,5,6,7,8,9,10]\n",
    "for ind1, ind2 in zip(offspring[::2], offspring[1::2]):\n",
    "    if random.random() <= 0.5:\n",
    "        ind1*=10\n",
    "        ind2*=10\n",
    "print(offspring)"
   ],
   "metadata": {
    "collapsed": false,
    "ExecuteTime": {
     "end_time": "2024-11-19T07:29:35.505570Z",
     "start_time": "2024-11-19T07:29:35.499701Z"
    }
   },
   "id": "2e869221b014416e",
   "execution_count": 2
  },
  {
   "cell_type": "code",
   "outputs": [
    {
     "name": "stdout",
     "output_type": "stream",
     "text": [
      "类别信息:\n",
      "类别 setosa:\n",
      " - 测试集数量: 15\n",
      " - 预测正确数量: 15\n",
      " - 预测错误数量: 0\n",
      "类别 versicolor:\n",
      " - 测试集数量: 15\n",
      " - 预测正确数量: 14\n",
      " - 预测错误数量: 1\n",
      "类别 virginica:\n",
      " - 测试集数量: 15\n",
      " - 预测正确数量: 12\n",
      " - 预测错误数量: 3\n"
     ]
    }
   ],
   "source": [
    "from sklearn.datasets import load_iris\n",
    "from sklearn.model_selection import train_test_split\n",
    "from sklearn.preprocessing import StandardScaler\n",
    "from sklearn.neural_network import MLPClassifier\n",
    "from sklearn.metrics import confusion_matrix\n",
    "import numpy as np\n",
    "\n",
    "# 加载鸢尾花数据集\n",
    "iris = load_iris()\n",
    "X = iris.data\n",
    "y = iris.target\n",
    "class_names = iris.target_names\n",
    "\n",
    "# 数据拆分为训练集和测试集\n",
    "X_train, X_test, y_train, y_test = train_test_split(X, y, test_size=0.3, random_state=42, stratify=y)\n",
    "\n",
    "# 数据标准化\n",
    "scaler = StandardScaler()\n",
    "X_train = scaler.fit_transform(X_train)\n",
    "X_test = scaler.transform(X_test)\n",
    "\n",
    "# 定义并训练MLP模型\n",
    "mlp = MLPClassifier(hidden_layer_sizes=(10, 10), max_iter=1000, random_state=42)\n",
    "mlp.fit(X_train, y_train)\n",
    "\n",
    "# 测试集预测\n",
    "y_pred = mlp.predict(X_test)\n",
    "\n",
    "# 混淆矩阵\n",
    "cm = confusion_matrix(y_test, y_pred)\n",
    "\n",
    "# 输出结果\n",
    "print(\"类别信息:\")\n",
    "for i, class_name in enumerate(class_names):\n",
    "    total_count = np.sum(y_test == i)\n",
    "    correct_count = cm[i, i]\n",
    "    incorrect_count = total_count - correct_count\n",
    "    print(f\"类别 {class_name}:\")\n",
    "    print(f\" - 测试集数量: {total_count}\")\n",
    "    print(f\" - 预测正确数量: {correct_count}\")\n",
    "    print(f\" - 预测错误数量: {incorrect_count}\")\n"
   ],
   "metadata": {
    "collapsed": false,
    "ExecuteTime": {
     "end_time": "2024-11-19T10:27:25.030176Z",
     "start_time": "2024-11-19T10:27:24.106210Z"
    }
   },
   "id": "aada2faae661266e",
   "execution_count": 3
  },
  {
   "cell_type": "code",
   "outputs": [
    {
     "name": "stdout",
     "output_type": "stream",
     "text": [
      "[[0, 0, 0, 0, 0, 0, 0, 0, 0, 0], [0, 0, 0, 0, 0, 0, 0, 0, 0, 0], [0, 0, 0, 0, 0, 0, 0, 0, 0, 0], [0, 0, 0, 0, 0, 0, 0, 0, 0, 0], [0, 0, 0, 0, 0, 0, 0, 0, 0, 0], [0, 0, 0, 0, 0, 0, 0, 0, 0, 0], [0, 0, 0, 0, 0, 0, 0, 0, 0, 0], [0, 0, 0, 0, 0, 0, 0, 0, 0, 0], [0, 0, 0, 0, 0, 0, 0, 0, 0, 0], [0, 0, 0, 0, 0, 0, 0, 0, 0, 0]]\n"
     ]
    }
   ],
   "source": [
    "accfailcred = [[0 for _ in range(10)] for _ in range(10)]\n",
    "print(accfailcred)"
   ],
   "metadata": {
    "collapsed": false,
    "ExecuteTime": {
     "end_time": "2024-11-19T11:01:44.211380Z",
     "start_time": "2024-11-19T11:01:44.194704Z"
    }
   },
   "id": "f76005355ee5f6ef",
   "execution_count": 4
  },
  {
   "cell_type": "code",
   "outputs": [
    {
     "name": "stdout",
     "output_type": "stream",
     "text": [
      "[6, 15, 24]\n"
     ]
    }
   ],
   "source": [
    "# 定义一个二维列表\n",
    "matrix = [\n",
    "    [1, 2, 3],\n",
    "    [4, 5, 6],\n",
    "    [7, 8, 9]\n",
    "]\n",
    "\n",
    "# 使用列表推导式对每一行求和\n",
    "row_sums = [sum(row) for row in matrix]\n",
    "print(row_sums)  # 输出: [6, 15, 24]\n"
   ],
   "metadata": {
    "collapsed": false,
    "ExecuteTime": {
     "end_time": "2024-11-19T11:07:22.780831Z",
     "start_time": "2024-11-19T11:07:22.764821Z"
    }
   },
   "id": "a10539566c0fe0e",
   "execution_count": 9
  },
  {
   "cell_type": "code",
   "outputs": [
    {
     "name": "stdout",
     "output_type": "stream",
     "text": [
      "\n",
      "按列投票计算的最终分类结果:\n",
      "[1 0 0]\n"
     ]
    }
   ],
   "source": [
    "import numpy as np\n",
    "from scipy.stats import mode\n",
    "\n",
    "# 示例二维列表，每行是一个样本，每列是一个基分类器的预测结果\n",
    "list_2d = [\n",
    "    [1, 0, 1],\n",
    "    [1, 0, 1],\n",
    "    [1, 1, 0],\n",
    "    [0, 1, 0]\n",
    "]\n",
    "\n",
    "\n",
    "# 按列投票，取每列中出现次数最多的类别作为最终分类结果\n",
    "final_result = mode(list_2d, axis=0, keepdims=False).mode.flatten()\n",
    "\n",
    "print(\"\\n按列投票计算的最终分类结果:\")\n",
    "print(final_result)\n"
   ],
   "metadata": {
    "collapsed": false,
    "ExecuteTime": {
     "end_time": "2024-11-19T16:45:32.041314Z",
     "start_time": "2024-11-19T16:45:32.035856Z"
    }
   },
   "id": "b850c78fff45a5a",
   "execution_count": 16
  }
 ],
 "metadata": {
  "kernelspec": {
   "display_name": "Python 3",
   "language": "python",
   "name": "python3"
  },
  "language_info": {
   "codemirror_mode": {
    "name": "ipython",
    "version": 2
   },
   "file_extension": ".py",
   "mimetype": "text/x-python",
   "name": "python",
   "nbconvert_exporter": "python",
   "pygments_lexer": "ipython2",
   "version": "2.7.6"
  }
 },
 "nbformat": 4,
 "nbformat_minor": 5
}
