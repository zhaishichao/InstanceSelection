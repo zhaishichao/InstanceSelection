{
 "cells": [
  {
   "cell_type": "code",
   "outputs": [
    {
     "name": "stderr",
     "output_type": "stream",
     "text": [
      "D:\\IDE\\Anaconda\\envs\\pytorch\\lib\\site-packages\\sklearn\\preprocessing\\_label.py:114: DataConversionWarning: A column-vector y was passed when a 1d array was expected. Please change the shape of y to (n_samples, ), for example using ravel().\n",
      "  y = column_or_1d(y, warn=True)\n"
     ]
    }
   ],
   "source": [
    "from sklearn.model_selection import train_test_split\n",
    "from sklearn.preprocessing import LabelEncoder, StandardScaler\n",
    "from sklearn.neural_network import MLPClassifier\n",
    "from sklearn.metrics import classification_report, accuracy_score\n",
    "import pandas as pd\n",
    "\n",
    "# 加载数据\n",
    "from ucimlrepo import fetch_ucirepo\n",
    "\n",
    "# 获取 Nursery 数据集\n",
    "nursery = fetch_ucirepo(id=76)\n",
    "\n",
    "# 数据\n",
    "X = nursery.data.features\n",
    "y = nursery.data.targets\n",
    "\n",
    "# Step 1: 数据预处理\n",
    "# 将特征和目标变量编码为数值\n",
    "X_encoded = pd.get_dummies(X)  # 独热编码特征\n",
    "label_encoder = LabelEncoder()\n",
    "y_encoded = label_encoder.fit_transform(y)  # 编码目标变量\n",
    "\n",
    "# 标准化特征\n",
    "scaler = StandardScaler()\n",
    "X_scaled = scaler.fit_transform(X_encoded)\n",
    "\n",
    "# Step 2: 划分数据集\n",
    "X_train, X_test, y_train, y_test = train_test_split(X_scaled, y_encoded, test_size=0.2, random_state=42)\n",
    "\n",
    "# Step 3: 定义 MLP 模型\n",
    "mlp = MLPClassifier(hidden_layer_sizes=(100, 50), activation='relu', solver='adam', max_iter=300, random_state=42)\n",
    "\n",
    "# Step 4: 训练模型\n",
    "mlp.fit(X_train, y_train)\n",
    "\n",
    "# Step 5: 模型评估\n",
    "y_pred = mlp.predict(X_test)\n",
    "\n",
    "# 分类报告\n",
    "report = classification_report(y_test, y_pred, target_names=label_encoder.classes_)\n",
    "print(\"分类报告:\\n\", report)\n",
    "\n",
    "# 按类别输出预测准确度\n",
    "for i, class_name in enumerate(label_encoder.classes_):\n",
    "    class_accuracy = accuracy_score(y_test[y_test == i], y_pred[y_test == i])\n",
    "    print(f\"类别 '{class_name}' 的预测准确度: {class_accuracy:.2f}\")\n"
   ],
   "metadata": {
    "collapsed": false,
    "is_executing": true,
    "ExecuteTime": {
     "start_time": "2024-11-18T17:56:27.318476Z"
    }
   },
   "id": "1b78a1bc888926cf",
   "execution_count": null
  }
 ],
 "metadata": {
  "kernelspec": {
   "display_name": "Python 3",
   "language": "python",
   "name": "python3"
  },
  "language_info": {
   "codemirror_mode": {
    "name": "ipython",
    "version": 2
   },
   "file_extension": ".py",
   "mimetype": "text/x-python",
   "name": "python",
   "nbconvert_exporter": "python",
   "pygments_lexer": "ipython2",
   "version": "2.7.6"
  }
 },
 "nbformat": 4,
 "nbformat_minor": 5
}
