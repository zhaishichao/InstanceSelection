{
 "cells": [
  {
   "cell_type": "markdown",
   "source": [
    "## 加载数据"
   ],
   "metadata": {
    "collapsed": false
   },
   "id": "17b59f066af2813a"
  },
  {
   "cell_type": "code",
   "source": [
    "import pandas as pd\n",
    "from sklearn.base import clone\n",
    "from config import Datasets, Datasets_3\n",
    "from feature_selection import FeatureSelection, non_dominated_sort, train_and_test\n",
    "from skfeature.function.similarity_based import fisher_score\n",
    "from skfeature.function.information_theoretical_based import CIFE\n",
    "from skfeature.function.statistical_based import chi_square\n",
    "from sklearn.neural_network import MLPClassifier\n",
    "from imblearn.over_sampling import SMOTE\n",
    "import warnings\n",
    "\n",
    "warnings.filterwarnings(\"ignore\")  # 忽略警告\n",
    "\n",
    "# 数据集\n",
    "fs = FeatureSelection(Datasets_3)\n",
    "# 创建带有列名的空DataFrame\n",
    "df = pd.DataFrame(columns=['数据集', '类分布', '特征数量', '特征选择数量', '原始', 'SMOTE', '特征选择+SMOTE'])\n",
    "for i in range(len(Datasets_3)):\n",
    "    # 数据预处理\n",
    "    fs.pre_process(Datasets_3[i], random_state=42)\n",
    "    print(f\"{i + 1}th dataset: {fs.dataset.DATASETNAME}\")\n",
    "    fs.display_distribution()\n",
    "\n",
    "    # 特征选择（三种不同的选择算法）\n",
    "    idx_1 = fs.feature_selection(fisher_score.fisher_score, mode='index')\n",
    "    # print(idx_1)\n",
    "    idx_2 = fs.feature_selection(chi_square.chi_square, mode='index')\n",
    "    # print(idx_2)\n",
    "    idx_3 = fs.feature_selection(CIFE.cife, mode='index', n_selected_features=fs.x_train.shape[1])\n",
    "    # print(idx_3)\n",
    "\n",
    "    # 非支配排序（三种算法的特征排名）\n",
    "    all_fronts = non_dominated_sort(idx_1, idx_2, idx_3)\n",
    "\n",
    "    # 前后结果对比（原始数据、SMOTE、特征选择+SMOTE）\n",
    "    model = MLPClassifier(hidden_layer_sizes=(fs.dataset.HIDDEN_SIZE,), max_iter=fs.dataset.MAX_ITER,\n",
    "                          random_state=42, learning_rate_init=fs.dataset.LEARNING_RATE)\n",
    "    res_1 = train_and_test(clone(model), fs.x_train, fs.x_test, fs.y_train, fs.y_test)\n",
    "    print(f\"原始：{res_1}\")\n",
    "    x_train, y_train = SMOTE(random_state=42, k_neighbors=fs.dataset.K_NEIGHBORS).fit_resample(fs.x_train, fs.y_train)\n",
    "    res_2 = train_and_test(clone(model), x_train, fs.x_test, y_train, fs.y_test)\n",
    "    print(f\"SMOTE：{res_2}\")\n",
    "    x_train, y_train = SMOTE(random_state=42, k_neighbors=fs.dataset.K_NEIGHBORS).fit_resample(\n",
    "        fs.x_train[:, all_fronts[0]], fs.y_train)\n",
    "    res_3 = train_and_test(clone(model), x_train, fs.x_test[:, all_fronts[0]], y_train, fs.y_test)\n",
    "    print(f\"特征选择+SMOTE：{res_3}\")\n",
    "    # 保存结果\n",
    "    df.loc[i] = [fs.dataset.DATASETNAME, fs.distribution, fs.x_train.shape[1],\n",
    "                 len(all_fronts[0]), res_1, res_2, res_3]\n",
    "#  保存结果\n",
    "df.to_csv('feature_selection_result.csv', index=False)"
   ],
   "metadata": {
    "collapsed": false,
    "ExecuteTime": {
     "end_time": "2025-06-14T12:40:57.740385Z",
     "start_time": "2025-06-13T14:55:38.269666Z"
    }
   },
   "id": "3a1b77a2d1e48a90",
   "outputs": [
    {
     "name": "stdout",
     "output_type": "stream",
     "text": [
      "1th dataset: GLI-85.mat\n",
      "trainset distribution: [18 41]\n",
      "testset distribution: [ 8 18]\n",
      "number of feature: 22283\n",
      "原始：(0.816497, 0.854167, 0.819444)\n",
      "SMOTE：(0.816497, 0.791667, 0.819444)\n",
      "特征选择+SMOTE：(0.677003, 0.756944, 0.640553)\n"
     ]
    }
   ],
   "execution_count": 1
  }
 ],
 "metadata": {
  "kernelspec": {
   "display_name": "Python 3",
   "language": "python",
   "name": "python3"
  },
  "language_info": {
   "codemirror_mode": {
    "name": "ipython",
    "version": 2
   },
   "file_extension": ".py",
   "mimetype": "text/x-python",
   "name": "python",
   "nbconvert_exporter": "python",
   "pygments_lexer": "ipython2",
   "version": "2.7.6"
  }
 },
 "nbformat": 4,
 "nbformat_minor": 5
}
