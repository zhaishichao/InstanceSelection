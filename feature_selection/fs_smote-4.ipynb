{
 "cells": [
  {
   "cell_type": "markdown",
   "source": [
    "## 加载数据"
   ],
   "metadata": {
    "collapsed": false
   },
   "id": "17b59f066af2813a"
  },
  {
   "cell_type": "code",
   "source": [
    "from feature_selection import FeatureSelection\n",
    "\n",
    "\n",
    "def convert_ranking(arr):\n",
    "    n = len(arr)\n",
    "    arr_revers = np.zeros(n, dtype=int)\n",
    "    for rank in range(n):\n",
    "        feature_index = arr[rank]\n",
    "        arr_revers[feature_index] = rank  # 假设排名从0开始\n",
    "    return arr_revers\n",
    "\n",
    "\n",
    "# 数据集参数\n",
    "Gisette = {'DATASETNAME': 'gisette.mat'}\n",
    "Isolet = {'DATASETNAME': 'Isolet.mat'}\n",
    "Madelon = {'DATASETNAME': 'madelon.mat'}\n",
    "Wine = {'DATASETNAME': 'Wine.mat'}\n",
    "GLIOMA = {'DATASETNAME': 'GLIOMA.mat'}\n",
    "Lung = {'DATASETNAME': 'lung.mat'}\n",
    "Ovarian = {'DATASETNAME': 'Ovarian.mat'}\n",
    "Datasets = [Gisette, Isolet, Madelon, Wine, GLIOMA, Lung, Ovarian]\n",
    "\n",
    "fs = FeatureSelection(Datasets)\n",
    "fs.pre_process(Datasets[6], random_state=42)\n",
    "fs.display_distribution()"
   ],
   "metadata": {
    "collapsed": false,
    "ExecuteTime": {
     "end_time": "2025-06-03T12:50:41.216517Z",
     "start_time": "2025-06-03T12:50:41.146748Z"
    }
   },
   "id": "3a1b77a2d1e48a90",
   "outputs": [
    {
     "name": "stdout",
     "output_type": "stream",
     "text": [
      "trainset distribution: [113  64]\n",
      "testset distribution: [49 27]\n",
      "number of feature: 15154\n"
     ]
    }
   ],
   "execution_count": 12
  },
  {
   "cell_type": "markdown",
   "source": [
    "## 特征选择\n",
    "- 应用不同的特征选择算法\n",
    "- 将选择的特征转换成索引"
   ],
   "metadata": {
    "collapsed": false
   },
   "id": "587fe406df4385e9"
  },
  {
   "cell_type": "code",
   "source": [
    "import numpy as np\n",
    "from skfeature.function.similarity_based import fisher_score\n",
    "from skfeature.function.information_theoretical_based import CIFE\n",
    "from skfeature.function.statistical_based import chi_square\n",
    "\n",
    "idx_1 = fisher_score.fisher_score(fs.x_train, fs.y_train, mode='index')\n",
    "idx_1_convert = convert_ranking(idx_1)\n",
    "# print(idx_1)\n",
    "print(idx_1_convert)\n",
    "\n",
    "idx_2 = chi_square.chi_square(fs.x_train, fs.y_train, mode='index')\n",
    "idx_2_convert = convert_ranking(idx_2)\n",
    "# print(idx_2)\n",
    "print(idx_2_convert)\n",
    "\n",
    "idx_3 = CIFE.cife(fs.x_train, fs.y_train, mode='index', n_selected_features=fs.x_train.shape[1])\n",
    "idx_3_convert = convert_ranking(idx_3)\n",
    "# print(idx_3)\n",
    "print(idx_3_convert)"
   ],
   "metadata": {
    "collapsed": false,
    "jupyter": {
     "is_executing": true
    },
    "ExecuteTime": {
     "start_time": "2025-06-03T12:50:41.218520Z"
    }
   },
   "id": "30ae403bf3567a11",
   "outputs": [
    {
     "name": "stdout",
     "output_type": "stream",
     "text": [
      "[5638 5333 4524 ... 9425 9431 9430]\n",
      "[ 6539  5511  4700 ... 10054 10055 10056]\n"
     ]
    }
   ],
   "execution_count": null
  },
  {
   "metadata": {},
   "cell_type": "markdown",
   "source": "## 非支配排序",
   "id": "a071ac692526b104"
  },
  {
   "metadata": {
    "jupyter": {
     "is_executing": true
    }
   },
   "cell_type": "code",
   "source": [
    "def non_dominated_sort(arr1, arr2, arr3):\n",
    "    \"\"\"\n",
    "    对三个特征排名数组进行非支配排序，返回所有前沿\n",
    "    参数:\n",
    "        arr1, arr2, arr3: 一维ndarray数组，表示三个不同的特征排名 \n",
    "    返回:\n",
    "        list of lists: 每个子列表代表一个前沿面，按Front 1, Front 2, ...排列\n",
    "    \"\"\"\n",
    "    # 1. 合并三个数组的排名\n",
    "    num_features = len(arr1)\n",
    "    features = np.column_stack((arr1, arr2, arr3))\n",
    "    # 2. 非支配排序\n",
    "    domination_counts = np.zeros(num_features, dtype=int)\n",
    "    dominated_features = [[] for _ in range(num_features)]\n",
    "    fronts = [[]]  # fronts[0] = Front 1, fronts[1] = Front 2, ...\n",
    "    # 计算支配关系\n",
    "    for i in range(num_features):\n",
    "        for j in range(i + 1, num_features):\n",
    "            # 检查i是否支配j\n",
    "            if np.all(features[i] <= features[j]) and np.any(features[i] < features[j]):\n",
    "                dominated_features[i].append(j)\n",
    "                domination_counts[j] += 1\n",
    "    # 初始化第一前沿面（Front 1）\n",
    "    fronts[0] = [i for i in range(num_features) if domination_counts[i] == 0]\n",
    "    # 构建后续前沿面\n",
    "    current_front = 0\n",
    "    while current_front < len(fronts) and fronts[current_front]:\n",
    "        next_front = []\n",
    "        for i in fronts[current_front]:\n",
    "            for j in dominated_features[i]:\n",
    "                domination_counts[j] -= 1\n",
    "                if domination_counts[j] == 0:\n",
    "                    next_front.append(j)\n",
    "        current_front += 1\n",
    "        if next_front:\n",
    "            fronts.append(next_front)\n",
    "    # 3. 返回所有前沿（每个前沿内的特征按原始索引升序排列）\n",
    "    return [sorted(front) for front in fronts]\n",
    "# 示例用法\n",
    "# if __name__ == \"__main__\":\n",
    "#     # 示例数据\n",
    "#     arr1 = np.array([1, 3, 2, 5, 4])  # 算法1的排名（越小越好）\n",
    "#     arr2 = np.array([2, 1, 3, 4, 5])  # 算法2的排名\n",
    "#     arr3 = np.array([1, 2, 4, 3, 5])  # 算法3的排名\n",
    "#     # 0、1、\n",
    "#     all_fronts = non_dominated_sort(arr1, arr2, arr3)\n",
    "#     print(\"所有Pareto前沿：\")\n",
    "#     for i, front in enumerate(all_fronts, 1):\n",
    "#         print(f\"Front {i}: {front}\")\n",
    "all_fronts = non_dominated_sort(idx_1_convert, idx_2_convert, idx_3_convert)\n",
    "print(f\"Front 1: {all_fronts[0]}\")"
   ],
   "id": "c2c66998bf12efed",
   "outputs": [],
   "execution_count": null
  },
  {
   "metadata": {},
   "cell_type": "markdown",
   "source": "## 前后对比",
   "id": "9cf2c6ac8765d053"
  },
  {
   "metadata": {
    "jupyter": {
     "is_executing": true
    }
   },
   "cell_type": "code",
   "source": [
    "from sklearn.base import clone\n",
    "from sklearn.neural_network import MLPClassifier\n",
    "from metrics import calculate_gmean_mauc_f1\n",
    "from sklearn.preprocessing import StandardScaler\n",
    "from imblearn.over_sampling import SMOTE\n",
    "import warnings\n",
    "warnings.filterwarnings(\"ignore\")  # 忽略警告\n",
    "\n",
    "def train_and_test(model, x_train, x_test, y_train, y_test):\n",
    "    scaler = StandardScaler()  # 数据的标准化\n",
    "    x_train = scaler.fit_transform(x_train)\n",
    "    x_test = scaler.transform(x_test)\n",
    "    model.fit(x_train, y_train)  # 模型训练\n",
    "    y_test_pred_proba = model.predict_proba(x_test)\n",
    "    gmean, mauc, f1 = calculate_gmean_mauc_f1(y_test_pred_proba, y_test)  # 计算准确率指标\n",
    "    return gmean, mauc, f1"
   ],
   "id": "e482d5e794f52a03",
   "outputs": [],
   "execution_count": null
  },
  {
   "metadata": {
    "jupyter": {
     "is_executing": true
    }
   },
   "cell_type": "code",
   "source": [
    "model = MLPClassifier(hidden_layer_sizes=(10,), max_iter=100, random_state=42)\n",
    "gmean, mauc, f1 = train_and_test(clone(model), fs.x_train, fs.x_test, fs.y_train, fs.y_test)\n",
    "print(f\"gmean: {gmean}, mauc: {mauc}, f1: {f1}\")"
   ],
   "id": "2165248565c5659c",
   "outputs": [],
   "execution_count": null
  },
  {
   "metadata": {
    "jupyter": {
     "is_executing": true
    }
   },
   "cell_type": "code",
   "source": [
    "x_train, y_train = SMOTE(random_state=42, k_neighbors=4).fit_resample(fs.x_train, fs.y_train)\n",
    "gmean, mauc, f1 = train_and_test(clone(model), x_train, fs.x_test, y_train, fs.y_test)\n",
    "print(f\"gmean: {gmean}, mauc: {mauc}, f1: {f1}\")"
   ],
   "id": "8231437e9eac67f4",
   "outputs": [],
   "execution_count": null
  },
  {
   "metadata": {
    "jupyter": {
     "is_executing": true
    }
   },
   "cell_type": "code",
   "source": [
    "x_train, y_train = SMOTE(random_state=42, k_neighbors=4).fit_resample(fs.x_train[:, all_fronts[0]], fs.y_train)\n",
    "gmean, mauc, f1 = train_and_test(clone(model), x_train, fs.x_test[:, all_fronts[0]], y_train, fs.y_test)\n",
    "print(f\"gmean: {gmean}, mauc: {mauc}, f1: {f1}\")"
   ],
   "id": "d4492013f76ac3ce",
   "outputs": [],
   "execution_count": null
  }
 ],
 "metadata": {
  "kernelspec": {
   "display_name": "Python 3",
   "language": "python",
   "name": "python3"
  },
  "language_info": {
   "codemirror_mode": {
    "name": "ipython",
    "version": 2
   },
   "file_extension": ".py",
   "mimetype": "text/x-python",
   "name": "python",
   "nbconvert_exporter": "python",
   "pygments_lexer": "ipython2",
   "version": "2.7.6"
  }
 },
 "nbformat": 4,
 "nbformat_minor": 5
}
