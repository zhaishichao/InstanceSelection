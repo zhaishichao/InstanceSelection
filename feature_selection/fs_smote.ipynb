{
 "cells": [
  {
   "cell_type": "markdown",
   "source": [
    "## 加载数据"
   ],
   "metadata": {
    "collapsed": false
   },
   "id": "17b59f066af2813a"
  },
  {
   "cell_type": "code",
   "source": [
    "import skfeature.utility.util\n",
    "\n",
    "from feature_selection import FeatureSelection\n",
    "\n",
    "# 数据集参数\n",
    "Gisette = {'DATASETNAME': 'gisette.mat'}\n",
    "Isolet = {'DATASETNAME': 'Isolet.mat'}\n",
    "Madelon = {'DATASETNAME': 'madelon.mat'}\n",
    "Wine = {'DATASETNAME': 'Wine.mat'}\n",
    "Datasets = [Gisette, Isolet, Madelon, Wine]\n",
    "\n",
    "fs = FeatureSelection(Datasets)\n",
    "fs.pre_process(Datasets[3], random_state=42)\n",
    "fs.display_distribution()"
   ],
   "metadata": {
    "collapsed": false,
    "ExecuteTime": {
     "end_time": "2025-06-03T07:33:21.706456Z",
     "start_time": "2025-06-03T07:33:21.699511Z"
    }
   },
   "id": "3a1b77a2d1e48a90",
   "outputs": [
    {
     "name": "stdout",
     "output_type": "stream",
     "text": [
      "trainset distribution: [41 50 33]\n",
      "testset distribution: [18 21 15]\n",
      "number of feature: 13\n"
     ]
    }
   ],
   "execution_count": 2
  },
  {
   "metadata": {},
   "cell_type": "code",
   "outputs": [],
   "execution_count": null,
   "source": [
    "import numpy as np\n",
    "\n",
    "def convert_ranking(arr):\n",
    "    n = len(arr)\n",
    "    arr_revers = np.zeros(n, dtype=int)\n",
    "    for rank in range(n):\n",
    "        feature_index = arr[rank]\n",
    "        arr_revers[feature_index] = rank + 1  # 假设排名从1开始\n",
    "    return arr_revers"
   ],
   "id": "84d4e06f7d6d92f1"
  },
  {
   "cell_type": "markdown",
   "source": [
    "## 特征选择\n",
    "- 应用不同的特征选择算法"
   ],
   "metadata": {
    "collapsed": false
   },
   "id": "587fe406df4385e9"
  },
  {
   "cell_type": "code",
   "source": [
    "from skfeature.function.similarity_based import fisher_score\n",
    "from skfeature.function.statistical_based import CFS\n",
    "from skfeature.function.information_theoretical_based import FCBF,CIFE\n",
    "from skfeature.function.wrapper import decision_tree_backward\n",
    "\n",
    "# idx_11 = fisher_score.fisher_score(fs.x_train, fs.y_train)\n",
    "# print(idx_11)\n",
    "# idx_12 = fisher_score.fisher_score(fs.x_train, fs.y_train, mode='index')\n",
    "# print(idx_12)\n",
    "# idx_21 = decision_tree_backward.decision_tree_backward(fs.x_train, fs.y_train,n_selected_features=50)\n",
    "# print(idx_21)\n",
    "# idx_22 = decision_tree_backward.decision_tree_backward(fs.x_train, fs.y_train, mode='index',n_selected_features=50)\n",
    "# print(idx_22)\n",
    "idx_31 = CIFE.cife(fs.x_train, fs.y_train,n_selected_features=13)\n",
    "print(idx_31)\n",
    "idx_32 = CIFE.cife(fs.x_train, fs.y_train, mode='index',n_selected_features=13)\n",
    "print(idx_32)"
   ],
   "metadata": {
    "collapsed": false,
    "ExecuteTime": {
     "end_time": "2025-06-03T07:35:34.718775Z",
     "start_time": "2025-06-03T07:35:34.651453Z"
    }
   },
   "id": "30ae403bf3567a11",
   "outputs": [
    {
     "name": "stdout",
     "output_type": "stream",
     "text": [
      "[ 6 12  5  8  9 10  2  4  7 11  0  1  3]\n",
      "[ 6  0  7  4  3  2 10  8  5  1 12 11  9]\n"
     ]
    }
   ],
   "execution_count": 9
  },
  {
   "metadata": {},
   "cell_type": "markdown",
   "source": "## 非支配排序",
   "id": "a071ac692526b104"
  },
  {
   "metadata": {},
   "cell_type": "code",
   "source": [
    "import numpy as np\n",
    "\n",
    "\n",
    "def non_dominated_sort(arr1, arr2, arr3):\n",
    "    \"\"\"\n",
    "    对三个特征排名数组进行非支配排序，返回所有前沿\n",
    "    \n",
    "    参数:\n",
    "        arr1, arr2, arr3: 一维ndarray数组，表示三个不同的特征排名\n",
    "        \n",
    "    返回:\n",
    "        list of lists: 每个子列表代表一个前沿面，按Front 1, Front 2, ...排列\n",
    "    \"\"\"\n",
    "    # 1. 合并三个数组的排名\n",
    "    num_features = len(arr1)\n",
    "    features = np.column_stack((arr1, arr2, arr3))\n",
    "\n",
    "    # 2. 非支配排序\n",
    "    domination_counts = np.zeros(num_features, dtype=int)\n",
    "    dominated_features = [[] for _ in range(num_features)]\n",
    "    fronts = [[]]  # fronts[0] = Front 1, fronts[1] = Front 2, ...\n",
    "\n",
    "    # 计算支配关系\n",
    "    for i in range(num_features):\n",
    "        for j in range(num_features):\n",
    "            if i == j:\n",
    "                continue\n",
    "            # 检查i是否支配j\n",
    "            if np.all(features[i] <= features[j]) and np.any(features[i] < features[j]):\n",
    "                dominated_features[i].append(j)\n",
    "                domination_counts[j] += 1\n",
    "\n",
    "    # 初始化第一前沿面（Front 1）\n",
    "    fronts[0] = [i for i in range(num_features) if domination_counts[i] == 0]\n",
    "\n",
    "    # 构建后续前沿面\n",
    "    current_front = 0\n",
    "    while fronts[current_front]:\n",
    "        next_front = []\n",
    "        for i in fronts[current_front]:\n",
    "            for j in dominated_features[i]:\n",
    "                domination_counts[j] -= 1\n",
    "                if domination_counts[j] == 0:\n",
    "                    next_front.append(j)\n",
    "        current_front += 1\n",
    "        if next_front:\n",
    "            fronts.append(next_front)\n",
    "\n",
    "    # 3. 返回所有前沿（每个前沿内的特征按原始索引升序排列）\n",
    "    return [sorted(front) for front in fronts]\n",
    "\n",
    "\n",
    "# 示例用法\n",
    "if __name__ == \"__main__\":\n",
    "    # 示例数据\n",
    "    arr1 = np.array([1, 3, 2, 5, 4])  # 算法1的排名（越小越好）\n",
    "    arr2 = np.array([2, 1, 3, 4, 5])  # 算法2的排名\n",
    "    arr3 = np.array([1, 2, 4, 3, 5])  # 算法3的排名\n",
    "\n",
    "    all_fronts = non_dominated_sort(arr1, arr2, arr3)\n",
    "    print(\"所有Pareto前沿：\")\n",
    "    for i, front in enumerate(all_fronts, 1):\n",
    "        print(f\"Front {i}: {front}\")"
   ],
   "id": "c2c66998bf12efed",
   "outputs": [],
   "execution_count": null
  },
  {
   "metadata": {},
   "cell_type": "code",
   "source": [
    "import numpy as np\n",
    "from skfeature.utility.util import reverse_argsort\n",
    "idx = np.argsort(np.array([1.1, 2.2, 0.8, 3.3, 0.6, 0.5, 0.4, 0.3, 0.2, 0.1]), 0)\n",
    "print(idx[::-1])\n",
    "print(reverse_argsort(idx[::-1],idx.size ))"
   ],
   "id": "b9b29387fbdef2e7",
   "outputs": [],
   "execution_count": null
  },
  {
   "metadata": {
    "ExecuteTime": {
     "end_time": "2025-06-03T07:45:44.813515Z",
     "start_time": "2025-06-03T07:45:44.805359Z"
    }
   },
   "cell_type": "code",
   "source": [
    "import numpy as np\n",
    "\n",
    "def convert_ranking(arr):\n",
    "    n = len(arr)\n",
    "    arr_revers = np.zeros(n, dtype=int)\n",
    "    for rank in range(n):\n",
    "        feature_index = arr[rank]\n",
    "        arr_revers[feature_index] = rank + 1  # 假设排名从1开始\n",
    "    return arr_revers\n",
    "\n",
    "# 示例\n",
    "arr = np.array([2, 4,0, 1, 3])\n",
    "# 3 4 1 5 2\n",
    "arr_revers = convert_ranking(arr)\n",
    "print(arr_revers)"
   ],
   "id": "b19bc85d1347c132",
   "outputs": [
    {
     "name": "stdout",
     "output_type": "stream",
     "text": [
      "[3 4 1 5 2]\n"
     ]
    }
   ],
   "execution_count": 14
  }
 ],
 "metadata": {
  "kernelspec": {
   "display_name": "Python 3",
   "language": "python",
   "name": "python3"
  },
  "language_info": {
   "codemirror_mode": {
    "name": "ipython",
    "version": 2
   },
   "file_extension": ".py",
   "mimetype": "text/x-python",
   "name": "python",
   "nbconvert_exporter": "python",
   "pygments_lexer": "ipython2",
   "version": "2.7.6"
  }
 },
 "nbformat": 4,
 "nbformat_minor": 5
}
