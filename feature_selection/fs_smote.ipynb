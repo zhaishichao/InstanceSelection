{
 "cells": [
  {
   "cell_type": "markdown",
   "source": [
    "## 加载数据"
   ],
   "metadata": {
    "collapsed": false
   },
   "id": "17b59f066af2813a"
  },
  {
   "cell_type": "code",
   "outputs": [
    {
     "name": "stdout",
     "output_type": "stream",
     "text": [
      "trainset distribution: [2450 2450]\n",
      "testset distribution: [1050 1050]\n",
      "number of feature: 5000\n"
     ]
    }
   ],
   "source": [
    "from feature_selection import FeatureSelection\n",
    "\n",
    "# 数据集参数\n",
    "Gisette = {'DATASETNAME': 'gisette.mat'}\n",
    "Isolet = {'DATASETNAME': 'Isolet.mat'}\n",
    "Madelon = {'DATASETNAME': 'madelon.mat'}\n",
    "Datasets = [Gisette, Isolet, Madelon]\n",
    "\n",
    "fs = FeatureSelection(Datasets)\n",
    "fs.pre_process(Datasets[0], random_state=42)\n",
    "fs.display_distribution()"
   ],
   "metadata": {
    "collapsed": false,
    "ExecuteTime": {
     "end_time": "2025-06-02T15:44:29.645501Z",
     "start_time": "2025-06-02T15:44:28.380692Z"
    }
   },
   "id": "3a1b77a2d1e48a90",
   "execution_count": 1
  },
  {
   "cell_type": "markdown",
   "source": [
    "## 特征选择\n",
    "- 应用不同的特征选择算法"
   ],
   "metadata": {
    "collapsed": false
   },
   "id": "587fe406df4385e9"
  },
  {
   "cell_type": "code",
   "outputs": [],
   "source": [
    "from skfeature.function.similarity_based import fisher_score"
   ],
   "metadata": {
    "collapsed": false
   },
   "id": "30ae403bf3567a11"
  }
 ],
 "metadata": {
  "kernelspec": {
   "display_name": "Python 3",
   "language": "python",
   "name": "python3"
  },
  "language_info": {
   "codemirror_mode": {
    "name": "ipython",
    "version": 2
   },
   "file_extension": ".py",
   "mimetype": "text/x-python",
   "name": "python",
   "nbconvert_exporter": "python",
   "pygments_lexer": "ipython2",
   "version": "2.7.6"
  }
 },
 "nbformat": 4,
 "nbformat_minor": 5
}
