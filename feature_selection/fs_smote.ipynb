{
 "cells": [
  {
   "cell_type": "markdown",
   "source": [
    "## 加载数据"
   ],
   "metadata": {
    "collapsed": false
   },
   "id": "17b59f066af2813a"
  },
  {
   "cell_type": "code",
   "source": [
    "from feature_selection import FeatureSelection\n",
    "\n",
    "\n",
    "def convert_ranking(arr):\n",
    "    n = len(arr)\n",
    "    arr_revers = np.zeros(n, dtype=int)\n",
    "    for rank in range(n):\n",
    "        feature_index = arr[rank]\n",
    "        arr_revers[feature_index] = rank  # 假设排名从0开始\n",
    "    return arr_revers\n",
    "\n",
    "\n",
    "# 数据集参数\n",
    "Gisette = {'DATASETNAME': 'gisette.mat'}\n",
    "Isolet = {'DATASETNAME': 'Isolet.mat'}\n",
    "Madelon = {'DATASETNAME': 'madelon.mat'}\n",
    "Wine = {'DATASETNAME': 'Wine.mat'}\n",
    "GLIOMA = {'DATASETNAME': 'GLIOMA.mat'}\n",
    "Lung = {'DATASETNAME': 'lung.mat'}\n",
    "Datasets = [Gisette, Isolet, Madelon, Wine, GLIOMA, Lung]\n",
    "\n",
    "fs = FeatureSelection(Datasets)\n",
    "fs.pre_process(Datasets[2], random_state=42)\n",
    "fs.display_distribution()"
   ],
   "metadata": {
    "collapsed": false,
    "ExecuteTime": {
     "end_time": "2025-06-03T11:53:13.694878Z",
     "start_time": "2025-06-03T11:53:13.062263Z"
    }
   },
   "id": "3a1b77a2d1e48a90",
   "outputs": [
    {
     "name": "stdout",
     "output_type": "stream",
     "text": [
      "trainset distribution: [910 910]\n",
      "testset distribution: [390 390]\n",
      "number of feature: 500\n"
     ]
    }
   ],
   "execution_count": 1
  },
  {
   "cell_type": "markdown",
   "source": [
    "## 特征选择\n",
    "- 应用不同的特征选择算法\n",
    "- 将选择的特征转换成索引"
   ],
   "metadata": {
    "collapsed": false
   },
   "id": "587fe406df4385e9"
  },
  {
   "cell_type": "code",
   "source": [
    "import numpy as np\n",
    "from skfeature.function.similarity_based import fisher_score\n",
    "from skfeature.function.information_theoretical_based import CIFE\n",
    "from skfeature.function.statistical_based import chi_square\n",
    "\n",
    "idx_1 = fisher_score.fisher_score(fs.x_train, fs.y_train, mode='index')\n",
    "idx_1_convert = convert_ranking(idx_1)\n",
    "# print(idx_1)\n",
    "print(idx_1_convert)\n",
    "\n",
    "idx_2 = chi_square.chi_square(fs.x_train, fs.y_train, mode='index')\n",
    "idx_2_convert = convert_ranking(idx_2)\n",
    "# print(idx_2)\n",
    "print(idx_2_convert)\n",
    "\n",
    "idx_3 = CIFE.cife(fs.x_train, fs.y_train, mode='index', n_selected_features=fs.x_train.shape[1])\n",
    "idx_3_convert = convert_ranking(idx_3)\n",
    "# print(idx_3)\n",
    "print(idx_3_convert)"
   ],
   "metadata": {
    "collapsed": false,
    "ExecuteTime": {
     "end_time": "2025-06-03T12:03:53.373786Z",
     "start_time": "2025-06-03T11:53:13.695877Z"
    }
   },
   "id": "30ae403bf3567a11",
   "outputs": [
    {
     "name": "stdout",
     "output_type": "stream",
     "text": [
      "[308 481 445 441  42 125 406  30 397  44 107 211  82 236 190 100 356 428\n",
      "  28 438 410 339 497 130 229 117 178 135 244 409 120 309 126 218 237 439\n",
      " 434 102 393 350 492 326  54 111  33  69  70  65   9 104 382 462 149 202\n",
      " 232  20 465 495 304  66 260  88 251  52   2  98 349 267 482 279 433 389\n",
      " 381  47 235 138 184 391 494 335 294 377 347 346 287  63 199  78  64  41\n",
      " 415 291 374 289 241 227 425  57 329 448 369 323 134 152 413   5 284 170\n",
      " 322 344 365 351 165 419 436 472 112 123 276  60  96  39 455 405 477  45\n",
      "  87  48   4  89 115 491 300 132 318 271  83  23 234 450 286 363 296 265\n",
      " 242 486 258 386 417 416 319 167  80 261 182 263 143 355 195 321 395 161\n",
      " 257 212  27 288 471 148 228 443 133 312 200 154 264 144 298  74  73 343\n",
      " 169  85 139 205 293 172 281 129 201 352 476 240 277  62 466 186  31 175\n",
      " 490  43 316 370 137 250  34  32 468 192 461 270 113  77 367 328 223 157\n",
      " 101 119 220 255 340 188 475 210 320 488  22 198 467 469 280 206 463 396\n",
      " 353 401  26 313 479 249 493   1 334  37 303 173 106  92  99 399 285  76\n",
      " 302 124 299 158 411 230 359  19 283 366 155 489 174 103 390 314 418 266\n",
      " 297 216 109 272 274 159 456 327  58 483 385 222  15 317  35 131  25 110\n",
      " 422 402 360 379 414 354 187 473  90 412 233 358 341 114 474  75 496 324\n",
      "  68 253 431 145 420 224 310 156 380 383 275  14 238 147 444 108 215  11\n",
      " 342 394 338 424 122  51 162 404 180  36 177 239   3 252   6 181 430 345\n",
      " 204  94 371 400 127 325  40  72 376 442 193 262 121 408 446 457 437 197\n",
      " 485 256 498 364 453 247 209 337  93 429 246 426 336 427 226 136 208  21\n",
      "  10  61 458 295 163  91  55 384 392 459 311 151 452 398 362 487 432  46\n",
      " 447 221 372  86  53  95 269  29 171 421 368 254 387 150 207 179 348  17\n",
      " 160 464 217 105 290 118 128 460 333 307  24 153 403 194 470 484  67  71\n",
      " 116 273 451 478 213 440 331 305 407 164   8 378  79  97 278 375 141 332\n",
      " 183 203 191  12  18 140  38 245 214 330 423  84 189 219 196 357 168 361\n",
      " 292 185  59 301   7 176 146   0 259 282 373 449 248  56 243 166 499 268\n",
      " 480 454 306 435 225 388  49  13  50 315  16  81 231 142]\n",
      "[405 454 377 447  15 310 301 412 400 224  53 160  47 126 262 134 361 373\n",
      "  46 437 417 289 498 255 121 100 168 219 271 384 281 183  67 117 193 349\n",
      " 428 127 446 471 496 189  82 171  33  83  36  40  11 114 242 413 150 385\n",
      " 164  39 406 482 166 109 237 287 146 253   3  52 216 231 487 391 348 396\n",
      " 325  20 370  50 283 335 479 303 228 246 252 363 162  42 381 129 275  14\n",
      " 490 181 337 273 355 145 469  78 298 390 411 393 321 208 336   0 207 110\n",
      " 212 389 258 194 313 382 359 455 148 214 201  80 410  57 452 305 457  24\n",
      " 180  70  17  38 107 483 261 365 250 144  29  63 372 431 245 229 346 354\n",
      " 238 476 416 272 458 320 176 235 209  25 444 200 153 288 159 247 341 251\n",
      " 316 366  13 222 492 380 460 357  44 175 118 442 274  65 326 267  31 197\n",
      "  92  34 119 177 308 149 156 108  96 433 448 187 254  19 407 306 241 302\n",
      " 497  32 269 334 154 133  16 415 419 399 440 240 191  28 300 199 294  71\n",
      "  61 236 165 328 244  86 438 125 190 473  60 435 494 445 293 196 453 383\n",
      " 312 374 147 434 465 395 481   5 256 131 179 112  54 367 268 350 184  69\n",
      " 427  76 388 115 317 120 398 132 278 424 172 468 292 139 263 329 362 233\n",
      " 323 116  35 142 282 259 493 218  97 461 478  77  59 470  23  89  22  41\n",
      " 467 392 266 297 386 418  79 430  91 351 188 309 217 182 486  88 485 223\n",
      " 169 352 379 151 371 225 203 130 404 279 347 170 105  56 436  84 210  85\n",
      " 322 439 277 376 211  18 106 414 459  27  99 291   1 157   4  87 344 284\n",
      " 141  64 215 426 307 173  62  45 423 360 124 311 155 402 375 488 364  93\n",
      " 463 226 495 295 472 137 163 368 192 342 152 331 290 394 167 123 353  43\n",
      "   9  37 474 249  94 178 136 403 332 489 286  75 475 304 456 466 477  90\n",
      " 449 122 248 296 340  66 462  30 464 343 243 409 314 319 195  74 257  49\n",
      " 111 408 285  48 158  68 338 451 369 484 143 204 387 113 425 491 103  51\n",
      " 101  72 422 432 280 356 230 358 315 185   6 232 138 421 339 401  55 378\n",
      " 220 318 198   8 202  12 265 161 102 221 345 104 128  98 213 324 299 234\n",
      " 264  81  21 420  10 429 333   2 270 276 239 441 227  58 330  95 499 327\n",
      " 480 397 260 443 206 450  73   7  26 186 205 174 140 135]\n",
      "[438 170 274 403 117 432  96 487 320 424 121 214  11 237 355 260 336 188\n",
      "  59 394 357   2 427 401  64 211 282 363 327  82 419  33 167 107 163  78\n",
      " 373 290 456 483 473  18 310 326 165 113  21  34 106 131 105 161 104 455\n",
      "  92 269 315 240  66  95 225 434 189 430 388  43 176 242 451 425  45 340\n",
      "  52 174 433 178 397 200 201 281  81 158  20 361  77  42 452 272 439 273\n",
      " 499  44 203 309 416 125 470  68 283 152 410 412 437 338  35 414  91  15\n",
      "  28 393   3 276 420 155 185 321 253 353  40 136 477  83 380 130 183  17\n",
      " 350  47 398 198 116 303 216 461 162 252  29 168 429 325 223 239 378 399\n",
      " 330  39 467 120 454 187 146 358 390 348 488 256 238 195 180 171 219 381\n",
      " 360 440  99 135 484 463 493 271 291   9  61 492 323  12 352 428 255 194\n",
      " 169 173  46 190 332 212  74  36 236 462 285  71 177 208 279 406 443 413\n",
      " 485 243 142 254 147 181 233 491 210 464 318 231 339  23 144  55 369  56\n",
      "  94 395  30 376  88 267 227 300 103 244 278 479 495 221 328 151 331 157\n",
      "  31 249 366 474 302 445 150 334 205 337  53 258  69 471 417   6 209  72\n",
      " 472  97 418 192 234 175 389 384 311 444 262 289 404 133 245 329 139 306\n",
      " 342  65 307 154 316 383 497 206 128  73 486   8 335 490  38  48 100 288\n",
      " 468 179  19 186  54 436 286   4  16  67 124 110   7 324 466 250  57  41\n",
      " 347 407 149 277  63 268  70  51 371  89 387 421 199 293 346  50 264 372\n",
      " 297 450 108 164 351 263  24 341 494 257 294 354 396 259 400 220 109  98\n",
      " 102  80 196 415 431  87 235   5 423 138  84 349 123 308 275 481 132 213\n",
      " 166 266 160 114 453 115 184 362 359 112 191  93 228 101 230 222 422 159\n",
      " 292  75 448 207  13 364 299 375 287 480 143  58 458 204 476 265 475 280\n",
      " 402 247 232 441 469  10 489  22 496 156 241 459 145 426 284 270 127 301\n",
      "  25 215 365 251  85  37 447 333 367 498 370 317 119  90 229 460 172 111\n",
      "  62 305 141 226 356 126 202 382  79 313   1 218 246 482 379 368 129 386\n",
      " 343 411 314 405 442 344 449  32 217 224 148 137  14 140 295 298 409  27\n",
      " 118 248 153 457 319 478 435 385 312 322  49 374 197  86 391  60 296 377\n",
      " 392 304 261 408 193 465  76   0  26 122 446 345 134 182]\n"
     ]
    }
   ],
   "execution_count": 2
  },
  {
   "metadata": {},
   "cell_type": "markdown",
   "source": "## 非支配排序",
   "id": "a071ac692526b104"
  },
  {
   "metadata": {
    "ExecuteTime": {
     "end_time": "2025-06-03T12:03:54.393935Z",
     "start_time": "2025-06-03T12:03:53.373786Z"
    }
   },
   "cell_type": "code",
   "source": [
    "def non_dominated_sort(arr1, arr2, arr3):\n",
    "    \"\"\"\n",
    "    对三个特征排名数组进行非支配排序，返回所有前沿\n",
    "    参数:\n",
    "        arr1, arr2, arr3: 一维ndarray数组，表示三个不同的特征排名 \n",
    "    返回:\n",
    "        list of lists: 每个子列表代表一个前沿面，按Front 1, Front 2, ...排列\n",
    "    \"\"\"\n",
    "    # 1. 合并三个数组的排名\n",
    "    num_features = len(arr1)\n",
    "    features = np.column_stack((arr1, arr2, arr3))\n",
    "    # 2. 非支配排序\n",
    "    domination_counts = np.zeros(num_features, dtype=int)\n",
    "    dominated_features = [[] for _ in range(num_features)]\n",
    "    fronts = [[]]  # fronts[0] = Front 1, fronts[1] = Front 2, ...\n",
    "    # 计算支配关系\n",
    "    for i in range(num_features):\n",
    "        for j in range(i + 1, num_features):\n",
    "            # 检查i是否支配j\n",
    "            if np.all(features[i] <= features[j]) and np.any(features[i] < features[j]):\n",
    "                dominated_features[i].append(j)\n",
    "                domination_counts[j] += 1\n",
    "    # 初始化第一前沿面（Front 1）\n",
    "    fronts[0] = [i for i in range(num_features) if domination_counts[i] == 0]\n",
    "    # 构建后续前沿面\n",
    "    current_front = 0\n",
    "    while current_front < len(fronts) and fronts[current_front]:\n",
    "        next_front = []\n",
    "        for i in fronts[current_front]:\n",
    "            for j in dominated_features[i]:\n",
    "                domination_counts[j] -= 1\n",
    "                if domination_counts[j] == 0:\n",
    "                    next_front.append(j)\n",
    "        current_front += 1\n",
    "        if next_front:\n",
    "            fronts.append(next_front)\n",
    "    # 3. 返回所有前沿（每个前沿内的特征按原始索引升序排列）\n",
    "    return [sorted(front) for front in fronts]\n",
    "# 示例用法\n",
    "# if __name__ == \"__main__\":\n",
    "#     # 示例数据\n",
    "#     arr1 = np.array([1, 3, 2, 5, 4])  # 算法1的排名（越小越好）\n",
    "#     arr2 = np.array([2, 1, 3, 4, 5])  # 算法2的排名\n",
    "#     arr3 = np.array([1, 2, 4, 3, 5])  # 算法3的排名\n",
    "#     # 0、1、\n",
    "#     all_fronts = non_dominated_sort(arr1, arr2, arr3)\n",
    "#     print(\"所有Pareto前沿：\")\n",
    "#     for i, front in enumerate(all_fronts, 1):\n",
    "#         print(f\"Front {i}: {front}\")\n",
    "all_fronts = non_dominated_sort(idx_1_convert, idx_2_convert, idx_3_convert)\n",
    "print(f\"Front 1: {all_fronts[0]}\")"
   ],
   "id": "c2c66998bf12efed",
   "outputs": [
    {
     "name": "stdout",
     "output_type": "stream",
     "text": [
      "Front 1: [0, 1, 2, 3, 4, 6, 7, 12, 18, 21, 44, 46, 47, 48, 64, 85, 105, 110, 125, 164, 171, 241, 281, 284, 286, 300, 336, 349, 378, 403, 442, 472, 475, 493]\n"
     ]
    }
   ],
   "execution_count": 3
  },
  {
   "metadata": {},
   "cell_type": "markdown",
   "source": "## 前后对比",
   "id": "9cf2c6ac8765d053"
  },
  {
   "metadata": {
    "ExecuteTime": {
     "end_time": "2025-06-03T12:37:28.180711Z",
     "start_time": "2025-06-03T12:37:28.165303Z"
    }
   },
   "cell_type": "code",
   "source": [
    "from sklearn.base import clone\n",
    "from sklearn.neural_network import MLPClassifier\n",
    "from metrics import calculate_gmean_mauc_f1\n",
    "from sklearn.preprocessing import StandardScaler\n",
    "from imblearn.over_sampling import SMOTE\n",
    "import warnings\n",
    "warnings.filterwarnings(\"ignore\")  # 忽略警告\n",
    "\n",
    "def train_and_test(model, x_train, x_test, y_train, y_test):\n",
    "    scaler = StandardScaler()  # 数据的标准化\n",
    "    x_train = scaler.fit_transform(x_train)\n",
    "    x_test = scaler.transform(x_test)\n",
    "    model.fit(x_train, y_train)  # 模型训练\n",
    "    y_test_pred_proba = model.predict_proba(x_test)\n",
    "    gmean, mauc, f1 = calculate_gmean_mauc_f1(y_test_pred_proba, y_test)  # 计算准确率指标\n",
    "    return gmean, mauc, f1"
   ],
   "id": "e482d5e794f52a03",
   "outputs": [],
   "execution_count": 8
  },
  {
   "metadata": {
    "ExecuteTime": {
     "end_time": "2025-06-03T12:37:31.084017Z",
     "start_time": "2025-06-03T12:37:30.420446Z"
    }
   },
   "cell_type": "code",
   "source": [
    "model = MLPClassifier(hidden_layer_sizes=(15,), max_iter=100, random_state=42)\n",
    "gmean, mauc, f1 = train_and_test(clone(model), fs.x_train, fs.x_test, fs.y_train, fs.y_test)\n",
    "print(f\"gmean: {gmean}, mauc: {mauc}, f1: {f1}\")"
   ],
   "id": "2165248565c5659c",
   "outputs": [
    {
     "name": "stdout",
     "output_type": "stream",
     "text": [
      "gmean: 0.526235, mauc: 0.562262, f1: 0.52658\n"
     ]
    }
   ],
   "execution_count": 9
  },
  {
   "metadata": {
    "ExecuteTime": {
     "end_time": "2025-06-03T12:37:34.450023Z",
     "start_time": "2025-06-03T12:37:33.766147Z"
    }
   },
   "cell_type": "code",
   "source": [
    "x_train, y_train = SMOTE(random_state=42, k_neighbors=4).fit_resample(fs.x_train, fs.y_train)\n",
    "gmean, mauc, f1 = train_and_test(clone(model), x_train, fs.x_test, y_train, fs.y_test)\n",
    "print(f\"gmean: {gmean}, mauc: {mauc}, f1: {f1}\")"
   ],
   "id": "8231437e9eac67f4",
   "outputs": [
    {
     "name": "stdout",
     "output_type": "stream",
     "text": [
      "gmean: 0.526235, mauc: 0.562262, f1: 0.52658\n"
     ]
    }
   ],
   "execution_count": 10
  },
  {
   "metadata": {
    "ExecuteTime": {
     "end_time": "2025-06-03T12:37:36.731022Z",
     "start_time": "2025-06-03T12:37:36.566969Z"
    }
   },
   "cell_type": "code",
   "source": [
    "x_train, y_train = SMOTE(random_state=42, k_neighbors=4).fit_resample(fs.x_train[:, all_fronts[0]], fs.y_train)\n",
    "gmean, mauc, f1 = train_and_test(clone(model), x_train, fs.x_test[:, all_fronts[0]], y_train, fs.y_test)\n",
    "print(f\"gmean: {gmean}, mauc: {mauc}, f1: {f1}\")"
   ],
   "id": "d4492013f76ac3ce",
   "outputs": [
    {
     "name": "stdout",
     "output_type": "stream",
     "text": [
      "gmean: 0.646149, mauc: 0.696029, f1: 0.646152\n"
     ]
    }
   ],
   "execution_count": 11
  }
 ],
 "metadata": {
  "kernelspec": {
   "display_name": "Python 3",
   "language": "python",
   "name": "python3"
  },
  "language_info": {
   "codemirror_mode": {
    "name": "ipython",
    "version": 2
   },
   "file_extension": ".py",
   "mimetype": "text/x-python",
   "name": "python",
   "nbconvert_exporter": "python",
   "pygments_lexer": "ipython2",
   "version": "2.7.6"
  }
 },
 "nbformat": 4,
 "nbformat_minor": 5
}
