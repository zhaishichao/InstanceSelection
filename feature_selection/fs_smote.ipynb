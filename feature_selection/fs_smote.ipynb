{
 "cells": [
  {
   "cell_type": "markdown",
   "source": [
    "## 加载数据"
   ],
   "metadata": {
    "collapsed": false
   },
   "id": "17b59f066af2813a"
  },
  {
   "cell_type": "code",
   "source": [
    "import pandas as pd\n",
    "from sklearn.base import clone\n",
    "from config import Datasets\n",
    "from feature_selection import FeatureSelection, non_dominated_sort, train_and_test\n",
    "from skfeature.function.similarity_based import fisher_score\n",
    "from skfeature.function.information_theoretical_based import CIFE\n",
    "from skfeature.function.statistical_based import chi_square\n",
    "from sklearn.neural_network import MLPClassifier\n",
    "from imblearn.over_sampling import SMOTE\n",
    "import warnings\n",
    "\n",
    "warnings.filterwarnings(\"ignore\")  # 忽略警告\n",
    "\n",
    "# 数据集\n",
    "fs = FeatureSelection(Datasets)\n",
    "# 创建带有列名的空DataFrame\n",
    "df = pd.DataFrame(columns=['数据集', '类分布', '特征数量', '特征选择数量', '原始', 'SMOTE', '特征选择+SMOTE'])\n",
    "for i in range(len(Datasets)):\n",
    "    # 数据预处理\n",
    "    fs.pre_process(Datasets[i], random_state=42)\n",
    "    print(f\"{i + 1}th dataset: {fs.dataset.DATASETNAME}\")\n",
    "    fs.display_distribution()\n",
    "\n",
    "    # 特征选择（三种不同的选择算法）\n",
    "    idx_1 = fs.feature_selection(fisher_score.fisher_score, mode='index')\n",
    "    # print(idx_1)\n",
    "    idx_2 = fs.feature_selection(chi_square.chi_square, mode='index')\n",
    "    # print(idx_2)\n",
    "    idx_3 = fs.feature_selection(CIFE.cife, mode='index', n_selected_features=fs.x_train.shape[1])\n",
    "    # print(idx_3)\n",
    "\n",
    "    # 非支配排序（三种算法的特征排名）\n",
    "    all_fronts = non_dominated_sort(idx_1, idx_2, idx_3)\n",
    "\n",
    "    # 前后结果对比（原始数据、SMOTE、特征选择+SMOTE）\n",
    "    model = MLPClassifier(hidden_layer_sizes=(fs.dataset.HIDDEN_SIZE,), max_iter=fs.dataset.MAX_ITER,\n",
    "                          random_state=42, learning_rate_init=fs.dataset.LEARNING_RATE)\n",
    "    res_1 = train_and_test(clone(model), fs.x_train, fs.x_test, fs.y_train, fs.y_test)\n",
    "    print(f\"原始：{res_1}\")\n",
    "    x_train, y_train = SMOTE(random_state=42, k_neighbors=4).fit_resample(fs.x_train, fs.y_train)\n",
    "    res_2 = train_and_test(clone(model), x_train, fs.x_test, y_train, fs.y_test)\n",
    "    print(f\"SMOTE：{res_2}\")\n",
    "    x_train, y_train = SMOTE(random_state=42, k_neighbors=4).fit_resample(fs.x_train[:, all_fronts[0]], fs.y_train)\n",
    "    res_3 = train_and_test(clone(model), x_train, fs.x_test[:, all_fronts[0]], y_train, fs.y_test)\n",
    "    print(f\"特征选择+SMOTE：{res_3}\")\n",
    "    # 保存结果\n",
    "    df.loc[i] = [fs.dataset.DATASETNAME, fs.distribution, fs.x_train.shape[1],\n",
    "                len(all_fronts[0]), res_1, res_2, res_3]\n",
    "#  保存结果\n",
    "df.to_csv('feature_selection_result.csv', index=False)"
   ],
   "metadata": {
    "collapsed": false,
    "ExecuteTime": {
     "end_time": "2025-06-06T12:31:55.764476Z",
     "start_time": "2025-06-06T11:39:55.069413Z"
    }
   },
   "id": "3a1b77a2d1e48a90",
   "outputs": [
    {
     "name": "stdout",
     "output_type": "stream",
     "text": [
      "1th dataset: GLIOMA.mat\n",
      "trainset distribution: [10  5 10 10]\n",
      "testset distribution: [4 2 4 5]\n",
      "number of feature: 4434\n",
      "原始：(0.840896, 0.9625, 0.875)\n",
      "SMOTE：(0.880112, 0.979167, 0.881944)\n",
      "特征选择+SMOTE：(0.782542, 0.891667, 0.781439)\n",
      "2th dataset: Lung.mat\n",
      "trainset distribution: [97 12 15 14  4]\n",
      "testset distribution: [42  5  6  6  2]\n",
      "number of feature: 3312\n",
      "原始：(0.974968, 0.996111, 0.885437)\n"
     ]
    },
    {
     "ename": "ValueError",
     "evalue": "Expected n_neighbors <= n_samples_fit, but n_neighbors = 5, n_samples_fit = 4, n_samples = 4",
     "output_type": "error",
     "traceback": [
      "\u001B[1;31m---------------------------------------------------------------------------\u001B[0m",
      "\u001B[1;31mValueError\u001B[0m                                Traceback (most recent call last)",
      "Cell \u001B[1;32mIn[1], line 40\u001B[0m\n\u001B[0;32m     38\u001B[0m res_1 \u001B[38;5;241m=\u001B[39m train_and_test(clone(model), fs\u001B[38;5;241m.\u001B[39mx_train, fs\u001B[38;5;241m.\u001B[39mx_test, fs\u001B[38;5;241m.\u001B[39my_train, fs\u001B[38;5;241m.\u001B[39my_test)\n\u001B[0;32m     39\u001B[0m \u001B[38;5;28mprint\u001B[39m(\u001B[38;5;124mf\u001B[39m\u001B[38;5;124m\"\u001B[39m\u001B[38;5;124m原始：\u001B[39m\u001B[38;5;132;01m{\u001B[39;00mres_1\u001B[38;5;132;01m}\u001B[39;00m\u001B[38;5;124m\"\u001B[39m)\n\u001B[1;32m---> 40\u001B[0m x_train, y_train \u001B[38;5;241m=\u001B[39m \u001B[43mSMOTE\u001B[49m\u001B[43m(\u001B[49m\u001B[43mrandom_state\u001B[49m\u001B[38;5;241;43m=\u001B[39;49m\u001B[38;5;241;43m42\u001B[39;49m\u001B[43m,\u001B[49m\u001B[43m \u001B[49m\u001B[43mk_neighbors\u001B[49m\u001B[38;5;241;43m=\u001B[39;49m\u001B[38;5;241;43m4\u001B[39;49m\u001B[43m)\u001B[49m\u001B[38;5;241;43m.\u001B[39;49m\u001B[43mfit_resample\u001B[49m\u001B[43m(\u001B[49m\u001B[43mfs\u001B[49m\u001B[38;5;241;43m.\u001B[39;49m\u001B[43mx_train\u001B[49m\u001B[43m,\u001B[49m\u001B[43m \u001B[49m\u001B[43mfs\u001B[49m\u001B[38;5;241;43m.\u001B[39;49m\u001B[43my_train\u001B[49m\u001B[43m)\u001B[49m\n\u001B[0;32m     41\u001B[0m res_2 \u001B[38;5;241m=\u001B[39m train_and_test(clone(model), x_train, fs\u001B[38;5;241m.\u001B[39mx_test, y_train, fs\u001B[38;5;241m.\u001B[39my_test)\n\u001B[0;32m     42\u001B[0m \u001B[38;5;28mprint\u001B[39m(\u001B[38;5;124mf\u001B[39m\u001B[38;5;124m\"\u001B[39m\u001B[38;5;124mSMOTE：\u001B[39m\u001B[38;5;132;01m{\u001B[39;00mres_2\u001B[38;5;132;01m}\u001B[39;00m\u001B[38;5;124m\"\u001B[39m)\n",
      "File \u001B[1;32mD:\\IDE\\Anaconda\\envs\\pytorch\\lib\\site-packages\\imblearn\\base.py:208\u001B[0m, in \u001B[0;36mBaseSampler.fit_resample\u001B[1;34m(self, X, y)\u001B[0m\n\u001B[0;32m    187\u001B[0m \u001B[38;5;250m\u001B[39m\u001B[38;5;124;03m\"\"\"Resample the dataset.\u001B[39;00m\n\u001B[0;32m    188\u001B[0m \n\u001B[0;32m    189\u001B[0m \u001B[38;5;124;03mParameters\u001B[39;00m\n\u001B[1;32m   (...)\u001B[0m\n\u001B[0;32m    205\u001B[0m \u001B[38;5;124;03m    The corresponding label of `X_resampled`.\u001B[39;00m\n\u001B[0;32m    206\u001B[0m \u001B[38;5;124;03m\"\"\"\u001B[39;00m\n\u001B[0;32m    207\u001B[0m \u001B[38;5;28mself\u001B[39m\u001B[38;5;241m.\u001B[39m_validate_params()\n\u001B[1;32m--> 208\u001B[0m \u001B[38;5;28;01mreturn\u001B[39;00m \u001B[38;5;28;43msuper\u001B[39;49m\u001B[43m(\u001B[49m\u001B[43m)\u001B[49m\u001B[38;5;241;43m.\u001B[39;49m\u001B[43mfit_resample\u001B[49m\u001B[43m(\u001B[49m\u001B[43mX\u001B[49m\u001B[43m,\u001B[49m\u001B[43m \u001B[49m\u001B[43my\u001B[49m\u001B[43m)\u001B[49m\n",
      "File \u001B[1;32mD:\\IDE\\Anaconda\\envs\\pytorch\\lib\\site-packages\\imblearn\\base.py:112\u001B[0m, in \u001B[0;36mSamplerMixin.fit_resample\u001B[1;34m(self, X, y)\u001B[0m\n\u001B[0;32m    106\u001B[0m X, y, binarize_y \u001B[38;5;241m=\u001B[39m \u001B[38;5;28mself\u001B[39m\u001B[38;5;241m.\u001B[39m_check_X_y(X, y)\n\u001B[0;32m    108\u001B[0m \u001B[38;5;28mself\u001B[39m\u001B[38;5;241m.\u001B[39msampling_strategy_ \u001B[38;5;241m=\u001B[39m check_sampling_strategy(\n\u001B[0;32m    109\u001B[0m     \u001B[38;5;28mself\u001B[39m\u001B[38;5;241m.\u001B[39msampling_strategy, y, \u001B[38;5;28mself\u001B[39m\u001B[38;5;241m.\u001B[39m_sampling_type\n\u001B[0;32m    110\u001B[0m )\n\u001B[1;32m--> 112\u001B[0m output \u001B[38;5;241m=\u001B[39m \u001B[38;5;28;43mself\u001B[39;49m\u001B[38;5;241;43m.\u001B[39;49m\u001B[43m_fit_resample\u001B[49m\u001B[43m(\u001B[49m\u001B[43mX\u001B[49m\u001B[43m,\u001B[49m\u001B[43m \u001B[49m\u001B[43my\u001B[49m\u001B[43m)\u001B[49m\n\u001B[0;32m    114\u001B[0m y_ \u001B[38;5;241m=\u001B[39m (\n\u001B[0;32m    115\u001B[0m     label_binarize(output[\u001B[38;5;241m1\u001B[39m], classes\u001B[38;5;241m=\u001B[39mnp\u001B[38;5;241m.\u001B[39munique(y)) \u001B[38;5;28;01mif\u001B[39;00m binarize_y \u001B[38;5;28;01melse\u001B[39;00m output[\u001B[38;5;241m1\u001B[39m]\n\u001B[0;32m    116\u001B[0m )\n\u001B[0;32m    118\u001B[0m X_, y_ \u001B[38;5;241m=\u001B[39m arrays_transformer\u001B[38;5;241m.\u001B[39mtransform(output[\u001B[38;5;241m0\u001B[39m], y_)\n",
      "File \u001B[1;32mD:\\IDE\\Anaconda\\envs\\pytorch\\lib\\site-packages\\imblearn\\over_sampling\\_smote\\base.py:389\u001B[0m, in \u001B[0;36mSMOTE._fit_resample\u001B[1;34m(self, X, y)\u001B[0m\n\u001B[0;32m    386\u001B[0m X_class \u001B[38;5;241m=\u001B[39m _safe_indexing(X, target_class_indices)\n\u001B[0;32m    388\u001B[0m \u001B[38;5;28mself\u001B[39m\u001B[38;5;241m.\u001B[39mnn_k_\u001B[38;5;241m.\u001B[39mfit(X_class)\n\u001B[1;32m--> 389\u001B[0m nns \u001B[38;5;241m=\u001B[39m \u001B[38;5;28;43mself\u001B[39;49m\u001B[38;5;241;43m.\u001B[39;49m\u001B[43mnn_k_\u001B[49m\u001B[38;5;241;43m.\u001B[39;49m\u001B[43mkneighbors\u001B[49m\u001B[43m(\u001B[49m\u001B[43mX_class\u001B[49m\u001B[43m,\u001B[49m\u001B[43m \u001B[49m\u001B[43mreturn_distance\u001B[49m\u001B[38;5;241;43m=\u001B[39;49m\u001B[38;5;28;43;01mFalse\u001B[39;49;00m\u001B[43m)\u001B[49m[:, \u001B[38;5;241m1\u001B[39m:]\n\u001B[0;32m    390\u001B[0m X_new, y_new \u001B[38;5;241m=\u001B[39m \u001B[38;5;28mself\u001B[39m\u001B[38;5;241m.\u001B[39m_make_samples(\n\u001B[0;32m    391\u001B[0m     X_class, y\u001B[38;5;241m.\u001B[39mdtype, class_sample, X_class, nns, n_samples, \u001B[38;5;241m1.0\u001B[39m\n\u001B[0;32m    392\u001B[0m )\n\u001B[0;32m    393\u001B[0m X_resampled\u001B[38;5;241m.\u001B[39mappend(X_new)\n",
      "File \u001B[1;32mD:\\IDE\\Anaconda\\envs\\pytorch\\lib\\site-packages\\sklearn\\neighbors\\_base.py:854\u001B[0m, in \u001B[0;36mKNeighborsMixin.kneighbors\u001B[1;34m(self, X, n_neighbors, return_distance)\u001B[0m\n\u001B[0;32m    852\u001B[0m     \u001B[38;5;28;01melse\u001B[39;00m:\n\u001B[0;32m    853\u001B[0m         inequality_str \u001B[38;5;241m=\u001B[39m \u001B[38;5;124m\"\u001B[39m\u001B[38;5;124mn_neighbors <= n_samples_fit\u001B[39m\u001B[38;5;124m\"\u001B[39m\n\u001B[1;32m--> 854\u001B[0m     \u001B[38;5;28;01mraise\u001B[39;00m \u001B[38;5;167;01mValueError\u001B[39;00m(\n\u001B[0;32m    855\u001B[0m         \u001B[38;5;124mf\u001B[39m\u001B[38;5;124m\"\u001B[39m\u001B[38;5;124mExpected \u001B[39m\u001B[38;5;132;01m{\u001B[39;00minequality_str\u001B[38;5;132;01m}\u001B[39;00m\u001B[38;5;124m, but \u001B[39m\u001B[38;5;124m\"\u001B[39m\n\u001B[0;32m    856\u001B[0m         \u001B[38;5;124mf\u001B[39m\u001B[38;5;124m\"\u001B[39m\u001B[38;5;124mn_neighbors = \u001B[39m\u001B[38;5;132;01m{\u001B[39;00mn_neighbors\u001B[38;5;132;01m}\u001B[39;00m\u001B[38;5;124m, n_samples_fit = \u001B[39m\u001B[38;5;132;01m{\u001B[39;00mn_samples_fit\u001B[38;5;132;01m}\u001B[39;00m\u001B[38;5;124m, \u001B[39m\u001B[38;5;124m\"\u001B[39m\n\u001B[0;32m    857\u001B[0m         \u001B[38;5;124mf\u001B[39m\u001B[38;5;124m\"\u001B[39m\u001B[38;5;124mn_samples = \u001B[39m\u001B[38;5;132;01m{\u001B[39;00mX\u001B[38;5;241m.\u001B[39mshape[\u001B[38;5;241m0\u001B[39m]\u001B[38;5;132;01m}\u001B[39;00m\u001B[38;5;124m\"\u001B[39m  \u001B[38;5;66;03m# include n_samples for common tests\u001B[39;00m\n\u001B[0;32m    858\u001B[0m     )\n\u001B[0;32m    860\u001B[0m n_jobs \u001B[38;5;241m=\u001B[39m effective_n_jobs(\u001B[38;5;28mself\u001B[39m\u001B[38;5;241m.\u001B[39mn_jobs)\n\u001B[0;32m    861\u001B[0m chunked_results \u001B[38;5;241m=\u001B[39m \u001B[38;5;28;01mNone\u001B[39;00m\n",
      "\u001B[1;31mValueError\u001B[0m: Expected n_neighbors <= n_samples_fit, but n_neighbors = 5, n_samples_fit = 4, n_samples = 4"
     ]
    }
   ],
   "execution_count": 1
  },
  {
   "metadata": {
    "ExecuteTime": {
     "end_time": "2025-06-06T12:35:47.156506Z",
     "start_time": "2025-06-06T12:35:47.120443Z"
    }
   },
   "cell_type": "code",
   "source": "df.to_csv('feature_selection_result.csv', index=False)",
   "id": "1dcd2ac4fae81c13",
   "outputs": [],
   "execution_count": 2
  }
 ],
 "metadata": {
  "kernelspec": {
   "display_name": "Python 3",
   "language": "python",
   "name": "python3"
  },
  "language_info": {
   "codemirror_mode": {
    "name": "ipython",
    "version": 2
   },
   "file_extension": ".py",
   "mimetype": "text/x-python",
   "name": "python",
   "nbconvert_exporter": "python",
   "pygments_lexer": "ipython2",
   "version": "2.7.6"
  }
 },
 "nbformat": 4,
 "nbformat_minor": 5
}
