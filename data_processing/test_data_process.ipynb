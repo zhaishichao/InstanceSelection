{
 "cells": [
  {
   "cell_type": "markdown",
   "source": [
    "### 测试"
   ],
   "metadata": {
    "collapsed": false
   },
   "id": "18f9113d638eec2d"
  },
  {
   "metadata": {
    "ExecuteTime": {
     "end_time": "2025-04-24T08:09:50.993039Z",
     "start_time": "2025-04-24T08:09:50.773425Z"
    }
   },
   "cell_type": "code",
   "source": [
    "import os\n",
    "import openpyxl\n",
    "from openpyxl import Workbook\n",
    "import numpy as np\n",
    "\n",
    "def process_excel_files(root_folder, output_file=\"avg_std.xlsx\"):\n",
    "    # 创建输出工作簿\n",
    "    output_wb = Workbook()\n",
    "    output_ws = output_wb.active\n",
    "    output_ws.title = \"Averages and Standard Deviations\"\n",
    "    \n",
    "    # 添加表头\n",
    "    output_ws.append([\"Filename\", \"Type\", \"Column1\", \"Column2\", \"Column3\", \"Column4\", \"Column5\", \"Column6\"])\n",
    "    \n",
    "    # 遍历根文件夹下的所有子文件夹\n",
    "    for foldername, subfolders, filenames in os.walk(root_folder):\n",
    "        for filename in filenames:\n",
    "            if filename.endswith('.xlsx') and not filename.startswith('~$'):\n",
    "                filepath = os.path.join(foldername, filename)\n",
    "                file_basename = os.path.splitext(filename)[0]\n",
    "                \n",
    "                try:\n",
    "                    # 打开Excel文件\n",
    "                    wb = openpyxl.load_workbook(filepath, data_only=True)\n",
    "                    ws = wb.active\n",
    "                    \n",
    "                    # 读取表头（假设在第一行）\n",
    "                    headers = [cell.value for cell in ws[1]]\n",
    "                    \n",
    "                    # 初始化数据存储\n",
    "                    data = [[] for _ in range(len(headers))]\n",
    "                    \n",
    "                    # 读取数据（假设从第2行到第41行，共40行）\n",
    "                    for row in ws.iter_rows(min_row=2, max_row=41, values_only=True):\n",
    "                        for i, value in enumerate(row):\n",
    "                            if isinstance(value, (int, float)):\n",
    "                                data[i].append(value)\n",
    "                    \n",
    "                    # 计算平均值和标准差\n",
    "                    averages = [np.mean(col) if col else 0 for col in data]\n",
    "                    # 平均值先扩大100倍，然后四舍五入保留两位小数\n",
    "                    averages = [round(avg * 100, 2) for avg in averages]\n",
    "                    std_devs = [np.std(col, ddof=1) if col else 0 for col in data]  # 使用样本标准差\n",
    "                    # 标准差使用科学计数法计数，保留2位小数\n",
    "                    std_devs = [f\"{std:.2e}\" for std in std_devs]\n",
    "                    \n",
    "                    # 写入平均值行\n",
    "                    avg_row = [file_basename, \"Average\"] + averages\n",
    "                    output_ws.append(avg_row)\n",
    "                    \n",
    "                    # 写入标准差行\n",
    "                    std_row = [file_basename, \"Standard Deviation\"] + std_devs\n",
    "                    output_ws.append(std_row)\n",
    "                    \n",
    "                except Exception as e:\n",
    "                    print(f\"Error processing file {filename}: {str(e)}\")\n",
    "    \n",
    "    # 保存输出文件\n",
    "    output_wb.save(root_folder+output_file)\n",
    "    print(f\"Results saved to {output_file}\")\n",
    "\n",
    "# 使用示例\n",
    "if __name__ == \"__main__\":\n",
    "    folder_path = \"C:/Users/zsc/Desktop/Ablation study/Objective3/\"\n",
    "    process_excel_files(folder_path,output_file=\"obj_3_\"+\"avg_std.xlsx\")"
   ],
   "id": "182bf7c3979fe859",
   "outputs": [
    {
     "name": "stdout",
     "output_type": "stream",
     "text": [
      "Results saved to obj_3_avg_std.xlsx\n"
     ]
    }
   ],
   "execution_count": 3
  }
 ],
 "metadata": {
  "kernelspec": {
   "display_name": "Python 3",
   "language": "python",
   "name": "python3"
  },
  "language_info": {
   "codemirror_mode": {
    "name": "ipython",
    "version": 2
   },
   "file_extension": ".py",
   "mimetype": "text/x-python",
   "name": "python",
   "nbconvert_exporter": "python",
   "pygments_lexer": "ipython2",
   "version": "2.7.6"
  }
 },
 "nbformat": 4,
 "nbformat_minor": 5
}
