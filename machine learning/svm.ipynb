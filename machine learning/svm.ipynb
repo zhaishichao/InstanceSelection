{
 "cells": [
  {
   "cell_type": "markdown",
   "source": [
    "### 数据集的加载"
   ],
   "metadata": {
    "collapsed": false
   },
   "id": "8ec220238e827101"
  },
  {
   "cell_type": "code",
   "execution_count": 10,
   "id": "initial_id",
   "metadata": {
    "collapsed": true,
    "ExecuteTime": {
     "end_time": "2024-10-18T02:38:25.936812Z",
     "start_time": "2024-10-18T02:38:25.929907Z"
    }
   },
   "outputs": [
    {
     "name": "stdout",
     "output_type": "stream",
     "text": [
      "dict_keys(['__header__', '__version__', '__globals__', 'X', 'Y'])\n",
      "matrix1的形状: (1000, 24)\n",
      "matrix2的数据类型: (1000, 1)\n"
     ]
    }
   ],
   "source": [
    "import scipy.io as sio\n",
    "\n",
    "# German.mat 1000条数据 24个特征 二分类\n",
    "# 读取.mat文件\n",
    "mat_data = sio.loadmat('C:\\\\Users\\\\sc_zh\\\\Desktop\\\\dataset\\\\dataset\\\\German.mat')\n",
    "print(mat_data.keys())\n",
    "# 提取变量\n",
    "matrix1 = mat_data['X']\n",
    "matrix2 = mat_data['Y']\n",
    "\n",
    "# 显示变量信息\n",
    "print(\"matrix1的形状:\", matrix1.shape)\n",
    "print(\"matrix2的数据类型:\", matrix2.shape)\n"
   ]
  }
 ],
 "metadata": {
  "kernelspec": {
   "display_name": "Python 3",
   "language": "python",
   "name": "python3"
  },
  "language_info": {
   "codemirror_mode": {
    "name": "ipython",
    "version": 2
   },
   "file_extension": ".py",
   "mimetype": "text/x-python",
   "name": "python",
   "nbconvert_exporter": "python",
   "pygments_lexer": "ipython2",
   "version": "2.7.6"
  }
 },
 "nbformat": 4,
 "nbformat_minor": 5
}
